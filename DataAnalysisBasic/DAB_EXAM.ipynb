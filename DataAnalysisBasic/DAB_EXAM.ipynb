{
 "cells": [
  {
   "cell_type": "markdown",
   "id": "3339ea97",
   "metadata": {},
   "source": [
    "# ESERCIZIO: ANALISI DEL DATASET BREAST CANCER\n"
   ]
  },
  {
   "cell_type": "code",
   "execution_count": 1,
   "id": "5d4e1169",
   "metadata": {},
   "outputs": [
    {
     "name": "stdout",
     "output_type": "stream",
     "text": [
      "PI:  3.141592653589793 2PI:  6.283185307179586 sqrt2PI:  2.5066282746310002\n"
     ]
    }
   ],
   "source": [
    "import sys\n",
    "import os\n",
    "import seaborn as sns\n",
    "import numpy as np\n",
    "import pandas as pd\n",
    "import matplotlib.pyplot as plt\n",
    "from matplotlib import colors\n",
    "import math\n",
    "from scipy.stats import norm\n",
    "import matplotlib.mlab as mlab\n",
    "import matplotlib.patches as mpatches\n",
    "from scipy.optimize import curve_fit\n",
    "from sklearn.metrics import confusion_matrix, f1_score\n",
    "from sklearn import metrics\n",
    "import urllib\n",
    "from sklearn.naive_bayes import BernoulliNB, GaussianNB, MultinomialNB\n",
    "from sklearn.metrics import accuracy_score\n",
    "\n",
    "# DEFINIZIONE COSTANTI UTILI\n",
    "PI=math.pi\n",
    "twoPI=math.pi*2\n",
    "sqrt2PI=math.sqrt(math.pi*2)\n",
    "#\n",
    "print(\"PI: \",PI, \"2PI: \",twoPI, \"sqrt2PI: \",sqrt2PI)\n",
    "\n",
    "#print(\"Loaded Modules:\")\n",
    "#modules = dir() \n",
    "#print(modules)\n",
    "\n",
    "#riferimenti \n",
    "# https://scikit-learn.org/stable/datasets/toy_dataset.html#breast-cancer-wisconsin-diagnostic-dataset\n",
    "# https://scikit-learn.org/stable/modules/generated/sklearn.datasets.load_breast_cancer.html"
   ]
  },
  {
   "cell_type": "markdown",
   "id": "35d9c5bd",
   "metadata": {},
   "source": [
    "## Bayes Unfolding: START\n",
    "### Bayes Unfolding: reading data\n"
   ]
  },
  {
   "cell_type": "code",
   "execution_count": 2,
   "id": "fda15d92",
   "metadata": {},
   "outputs": [],
   "source": [
    "# METODO 1 : ESEGUO IL LOADING DEI DATI DAL FILE CSV \n",
    "\n",
    "# DIRECTORY IN CUI SI TROVA IL FILE CSV\n",
    "#data_dir = './'\n",
    "\n",
    "#data = pd.read_csv(data_dir + 'dp-export-414127.csv') # data from local file, only 4 columns\n",
    "\n",
    "# print(\"data: \")\n",
    "# print(data)\n",
    "\n",
    "#print(\"columns: \")\n",
    "#print(data.columns)\n",
    "\n",
    "#print(\"data selection \\n\",data)"
   ]
  },
  {
   "cell_type": "code",
   "execution_count": 3,
   "id": "f30ab50d",
   "metadata": {},
   "outputs": [
    {
     "name": "stdout",
     "output_type": "stream",
     "text": [
      "<class 'pandas.core.frame.DataFrame'>\n",
      "RangeIndex: 569 entries, 0 to 568\n",
      "Data columns (total 4 columns):\n",
      " #   Column           Non-Null Count  Dtype  \n",
      "---  ------           --------------  -----  \n",
      " 0   mean radius      569 non-null    float64\n",
      " 1   mean texture     569 non-null    float64\n",
      " 2   mean smoothness  569 non-null    float64\n",
      " 3   diagnosis        569 non-null    int32  \n",
      "dtypes: float64(3), int32(1)\n",
      "memory usage: 15.7 KB\n"
     ]
    }
   ],
   "source": [
    "# METODO 2 : LOADING DATASET DA SKLEARN DATASET\n",
    "from sklearn.datasets import load_breast_cancer\n",
    "cancer = load_breast_cancer()\n",
    "\n",
    "data = pd.DataFrame(data=cancer.data, columns=cancer.feature_names) # data from library\n",
    "data['diagnosis'] = cancer.target \n",
    "data = data[[\"mean radius\", \"mean texture\", \"mean smoothness\", \"diagnosis\"]] # select these 4 columns\n",
    "data.info()"
   ]
  },
  {
   "cell_type": "code",
   "execution_count": 4,
   "id": "e0c2f250",
   "metadata": {},
   "outputs": [
    {
     "data": {
      "text/html": [
       "<div>\n",
       "<style scoped>\n",
       "    .dataframe tbody tr th:only-of-type {\n",
       "        vertical-align: middle;\n",
       "    }\n",
       "\n",
       "    .dataframe tbody tr th {\n",
       "        vertical-align: top;\n",
       "    }\n",
       "\n",
       "    .dataframe thead th {\n",
       "        text-align: right;\n",
       "    }\n",
       "</style>\n",
       "<table border=\"1\" class=\"dataframe\">\n",
       "  <thead>\n",
       "    <tr style=\"text-align: right;\">\n",
       "      <th></th>\n",
       "      <th>mean radius</th>\n",
       "      <th>mean texture</th>\n",
       "      <th>mean smoothness</th>\n",
       "      <th>diagnosis</th>\n",
       "    </tr>\n",
       "  </thead>\n",
       "  <tbody>\n",
       "    <tr>\n",
       "      <th>0</th>\n",
       "      <td>17.99</td>\n",
       "      <td>10.38</td>\n",
       "      <td>0.11840</td>\n",
       "      <td>0</td>\n",
       "    </tr>\n",
       "    <tr>\n",
       "      <th>1</th>\n",
       "      <td>20.57</td>\n",
       "      <td>17.77</td>\n",
       "      <td>0.08474</td>\n",
       "      <td>0</td>\n",
       "    </tr>\n",
       "    <tr>\n",
       "      <th>2</th>\n",
       "      <td>19.69</td>\n",
       "      <td>21.25</td>\n",
       "      <td>0.10960</td>\n",
       "      <td>0</td>\n",
       "    </tr>\n",
       "    <tr>\n",
       "      <th>3</th>\n",
       "      <td>11.42</td>\n",
       "      <td>20.38</td>\n",
       "      <td>0.14250</td>\n",
       "      <td>0</td>\n",
       "    </tr>\n",
       "    <tr>\n",
       "      <th>4</th>\n",
       "      <td>20.29</td>\n",
       "      <td>14.34</td>\n",
       "      <td>0.10030</td>\n",
       "      <td>0</td>\n",
       "    </tr>\n",
       "    <tr>\n",
       "      <th>5</th>\n",
       "      <td>12.45</td>\n",
       "      <td>15.70</td>\n",
       "      <td>0.12780</td>\n",
       "      <td>0</td>\n",
       "    </tr>\n",
       "    <tr>\n",
       "      <th>6</th>\n",
       "      <td>18.25</td>\n",
       "      <td>19.98</td>\n",
       "      <td>0.09463</td>\n",
       "      <td>0</td>\n",
       "    </tr>\n",
       "    <tr>\n",
       "      <th>7</th>\n",
       "      <td>13.71</td>\n",
       "      <td>20.83</td>\n",
       "      <td>0.11890</td>\n",
       "      <td>0</td>\n",
       "    </tr>\n",
       "    <tr>\n",
       "      <th>8</th>\n",
       "      <td>13.00</td>\n",
       "      <td>21.82</td>\n",
       "      <td>0.12730</td>\n",
       "      <td>0</td>\n",
       "    </tr>\n",
       "    <tr>\n",
       "      <th>9</th>\n",
       "      <td>12.46</td>\n",
       "      <td>24.04</td>\n",
       "      <td>0.11860</td>\n",
       "      <td>0</td>\n",
       "    </tr>\n",
       "  </tbody>\n",
       "</table>\n",
       "</div>"
      ],
      "text/plain": [
       "   mean radius  mean texture  mean smoothness  diagnosis\n",
       "0        17.99         10.38          0.11840          0\n",
       "1        20.57         17.77          0.08474          0\n",
       "2        19.69         21.25          0.10960          0\n",
       "3        11.42         20.38          0.14250          0\n",
       "4        20.29         14.34          0.10030          0\n",
       "5        12.45         15.70          0.12780          0\n",
       "6        18.25         19.98          0.09463          0\n",
       "7        13.71         20.83          0.11890          0\n",
       "8        13.00         21.82          0.12730          0\n",
       "9        12.46         24.04          0.11860          0"
      ]
     },
     "execution_count": 4,
     "metadata": {},
     "output_type": "execute_result"
    }
   ],
   "source": [
    "# show first 10 rows\n",
    "data.head(10) "
   ]
  },
  {
   "cell_type": "markdown",
   "id": "c51578dd",
   "metadata": {},
   "source": [
    "## Bayes Unfolding: data splitting and slicing\n",
    "### Train Test Split:\n",
    "separo il dataframe in una parte di test (20%) ed in una parte di train (80%) prendendo i record in maniera random"
   ]
  },
  {
   "cell_type": "code",
   "execution_count": 5,
   "id": "8cddd969",
   "metadata": {},
   "outputs": [],
   "source": [
    "# TRAIN TEST SPLIT\n",
    "from sklearn.model_selection import train_test_split\n",
    "df_train, df_test = train_test_split(data, test_size=.2, random_state=41)\n"
   ]
  },
  {
   "cell_type": "markdown",
   "id": "bcfa6b2b",
   "metadata": {},
   "source": [
    "#### TRAIN\n",
    "Il dataframe di train come si osserva di seguito è composto da 455 record"
   ]
  },
  {
   "cell_type": "code",
   "execution_count": 6,
   "id": "0c4584f5",
   "metadata": {},
   "outputs": [
    {
     "name": "stdout",
     "output_type": "stream",
     "text": [
      "df train\n"
     ]
    },
    {
     "data": {
      "text/html": [
       "<div>\n",
       "<style scoped>\n",
       "    .dataframe tbody tr th:only-of-type {\n",
       "        vertical-align: middle;\n",
       "    }\n",
       "\n",
       "    .dataframe tbody tr th {\n",
       "        vertical-align: top;\n",
       "    }\n",
       "\n",
       "    .dataframe thead th {\n",
       "        text-align: right;\n",
       "    }\n",
       "</style>\n",
       "<table border=\"1\" class=\"dataframe\">\n",
       "  <thead>\n",
       "    <tr style=\"text-align: right;\">\n",
       "      <th></th>\n",
       "      <th>mean radius</th>\n",
       "      <th>mean texture</th>\n",
       "      <th>mean smoothness</th>\n",
       "      <th>diagnosis</th>\n",
       "    </tr>\n",
       "  </thead>\n",
       "  <tbody>\n",
       "    <tr>\n",
       "      <th>475</th>\n",
       "      <td>12.83</td>\n",
       "      <td>15.73</td>\n",
       "      <td>0.09040</td>\n",
       "      <td>1</td>\n",
       "    </tr>\n",
       "    <tr>\n",
       "      <th>298</th>\n",
       "      <td>14.26</td>\n",
       "      <td>18.17</td>\n",
       "      <td>0.06576</td>\n",
       "      <td>1</td>\n",
       "    </tr>\n",
       "    <tr>\n",
       "      <th>220</th>\n",
       "      <td>13.65</td>\n",
       "      <td>13.16</td>\n",
       "      <td>0.09646</td>\n",
       "      <td>1</td>\n",
       "    </tr>\n",
       "    <tr>\n",
       "      <th>549</th>\n",
       "      <td>10.82</td>\n",
       "      <td>24.21</td>\n",
       "      <td>0.08192</td>\n",
       "      <td>1</td>\n",
       "    </tr>\n",
       "    <tr>\n",
       "      <th>567</th>\n",
       "      <td>20.60</td>\n",
       "      <td>29.33</td>\n",
       "      <td>0.11780</td>\n",
       "      <td>0</td>\n",
       "    </tr>\n",
       "    <tr>\n",
       "      <th>...</th>\n",
       "      <td>...</td>\n",
       "      <td>...</td>\n",
       "      <td>...</td>\n",
       "      <td>...</td>\n",
       "    </tr>\n",
       "    <tr>\n",
       "      <th>469</th>\n",
       "      <td>11.62</td>\n",
       "      <td>18.18</td>\n",
       "      <td>0.11750</td>\n",
       "      <td>1</td>\n",
       "    </tr>\n",
       "    <tr>\n",
       "      <th>407</th>\n",
       "      <td>12.85</td>\n",
       "      <td>21.37</td>\n",
       "      <td>0.07551</td>\n",
       "      <td>1</td>\n",
       "    </tr>\n",
       "    <tr>\n",
       "      <th>243</th>\n",
       "      <td>13.75</td>\n",
       "      <td>23.77</td>\n",
       "      <td>0.08043</td>\n",
       "      <td>1</td>\n",
       "    </tr>\n",
       "    <tr>\n",
       "      <th>321</th>\n",
       "      <td>20.16</td>\n",
       "      <td>19.66</td>\n",
       "      <td>0.08020</td>\n",
       "      <td>0</td>\n",
       "    </tr>\n",
       "    <tr>\n",
       "      <th>80</th>\n",
       "      <td>11.45</td>\n",
       "      <td>20.97</td>\n",
       "      <td>0.11020</td>\n",
       "      <td>1</td>\n",
       "    </tr>\n",
       "  </tbody>\n",
       "</table>\n",
       "<p>455 rows × 4 columns</p>\n",
       "</div>"
      ],
      "text/plain": [
       "     mean radius  mean texture  mean smoothness  diagnosis\n",
       "475        12.83         15.73          0.09040          1\n",
       "298        14.26         18.17          0.06576          1\n",
       "220        13.65         13.16          0.09646          1\n",
       "549        10.82         24.21          0.08192          1\n",
       "567        20.60         29.33          0.11780          0\n",
       "..           ...           ...              ...        ...\n",
       "469        11.62         18.18          0.11750          1\n",
       "407        12.85         21.37          0.07551          1\n",
       "243        13.75         23.77          0.08043          1\n",
       "321        20.16         19.66          0.08020          0\n",
       "80         11.45         20.97          0.11020          1\n",
       "\n",
       "[455 rows x 4 columns]"
      ]
     },
     "execution_count": 6,
     "metadata": {},
     "output_type": "execute_result"
    }
   ],
   "source": [
    "# TRAIN \n",
    "print(\"df train\")\n",
    "df_train"
   ]
  },
  {
   "cell_type": "markdown",
   "id": "f1cff2b6",
   "metadata": {},
   "source": [
    "#### TEST\n",
    "Il dataframe di test come si osserva di seguito è composto da 455 record"
   ]
  },
  {
   "cell_type": "code",
   "execution_count": 7,
   "id": "ddc65c59",
   "metadata": {},
   "outputs": [
    {
     "name": "stdout",
     "output_type": "stream",
     "text": [
      "df test\n"
     ]
    },
    {
     "data": {
      "text/html": [
       "<div>\n",
       "<style scoped>\n",
       "    .dataframe tbody tr th:only-of-type {\n",
       "        vertical-align: middle;\n",
       "    }\n",
       "\n",
       "    .dataframe tbody tr th {\n",
       "        vertical-align: top;\n",
       "    }\n",
       "\n",
       "    .dataframe thead th {\n",
       "        text-align: right;\n",
       "    }\n",
       "</style>\n",
       "<table border=\"1\" class=\"dataframe\">\n",
       "  <thead>\n",
       "    <tr style=\"text-align: right;\">\n",
       "      <th></th>\n",
       "      <th>mean radius</th>\n",
       "      <th>mean texture</th>\n",
       "      <th>mean smoothness</th>\n",
       "      <th>diagnosis</th>\n",
       "    </tr>\n",
       "  </thead>\n",
       "  <tbody>\n",
       "    <tr>\n",
       "      <th>285</th>\n",
       "      <td>12.580</td>\n",
       "      <td>18.40</td>\n",
       "      <td>0.08393</td>\n",
       "      <td>1</td>\n",
       "    </tr>\n",
       "    <tr>\n",
       "      <th>347</th>\n",
       "      <td>14.760</td>\n",
       "      <td>14.74</td>\n",
       "      <td>0.08875</td>\n",
       "      <td>1</td>\n",
       "    </tr>\n",
       "    <tr>\n",
       "      <th>89</th>\n",
       "      <td>14.640</td>\n",
       "      <td>15.24</td>\n",
       "      <td>0.11320</td>\n",
       "      <td>1</td>\n",
       "    </tr>\n",
       "    <tr>\n",
       "      <th>496</th>\n",
       "      <td>12.650</td>\n",
       "      <td>18.17</td>\n",
       "      <td>0.10760</td>\n",
       "      <td>1</td>\n",
       "    </tr>\n",
       "    <tr>\n",
       "      <th>319</th>\n",
       "      <td>12.430</td>\n",
       "      <td>17.00</td>\n",
       "      <td>0.07557</td>\n",
       "      <td>1</td>\n",
       "    </tr>\n",
       "    <tr>\n",
       "      <th>...</th>\n",
       "      <td>...</td>\n",
       "      <td>...</td>\n",
       "      <td>...</td>\n",
       "      <td>...</td>\n",
       "    </tr>\n",
       "    <tr>\n",
       "      <th>325</th>\n",
       "      <td>12.670</td>\n",
       "      <td>17.30</td>\n",
       "      <td>0.10280</td>\n",
       "      <td>1</td>\n",
       "    </tr>\n",
       "    <tr>\n",
       "      <th>504</th>\n",
       "      <td>9.268</td>\n",
       "      <td>12.87</td>\n",
       "      <td>0.16340</td>\n",
       "      <td>1</td>\n",
       "    </tr>\n",
       "    <tr>\n",
       "      <th>396</th>\n",
       "      <td>13.510</td>\n",
       "      <td>18.89</td>\n",
       "      <td>0.10590</td>\n",
       "      <td>1</td>\n",
       "    </tr>\n",
       "    <tr>\n",
       "      <th>507</th>\n",
       "      <td>11.060</td>\n",
       "      <td>17.12</td>\n",
       "      <td>0.11940</td>\n",
       "      <td>1</td>\n",
       "    </tr>\n",
       "    <tr>\n",
       "      <th>357</th>\n",
       "      <td>13.870</td>\n",
       "      <td>16.21</td>\n",
       "      <td>0.08743</td>\n",
       "      <td>1</td>\n",
       "    </tr>\n",
       "  </tbody>\n",
       "</table>\n",
       "<p>114 rows × 4 columns</p>\n",
       "</div>"
      ],
      "text/plain": [
       "     mean radius  mean texture  mean smoothness  diagnosis\n",
       "285       12.580         18.40          0.08393          1\n",
       "347       14.760         14.74          0.08875          1\n",
       "89        14.640         15.24          0.11320          1\n",
       "496       12.650         18.17          0.10760          1\n",
       "319       12.430         17.00          0.07557          1\n",
       "..           ...           ...              ...        ...\n",
       "325       12.670         17.30          0.10280          1\n",
       "504        9.268         12.87          0.16340          1\n",
       "396       13.510         18.89          0.10590          1\n",
       "507       11.060         17.12          0.11940          1\n",
       "357       13.870         16.21          0.08743          1\n",
       "\n",
       "[114 rows x 4 columns]"
      ]
     },
     "execution_count": 7,
     "metadata": {},
     "output_type": "execute_result"
    }
   ],
   "source": [
    "# TEST\n",
    "print(\"df test\")\n",
    "df_test"
   ]
  },
  {
   "cell_type": "markdown",
   "id": "b8a4a158",
   "metadata": {},
   "source": [
    "### SLICING\n",
    "#### TEST\n",
    "Eseguo lo slicing del dataframe di test separando le colonne delle features (mean radius, mean texture, mean smoothness) dalla colonna del target (diagnosis)"
   ]
  },
  {
   "cell_type": "code",
   "execution_count": 8,
   "id": "899777cf",
   "metadata": {},
   "outputs": [
    {
     "name": "stdout",
     "output_type": "stream",
     "text": [
      "dataframe    numero record\n",
      "Xtest                  114\n",
      "Dtest                  114\n",
      "X1test                 114\n",
      "X2test                 114\n",
      "X3test                 114\n"
     ]
    }
   ],
   "source": [
    "# SLICING TEST\n",
    "X_test = df_test.iloc[:,:-1].values # from test DataFrame: all rows & all columns except last\n",
    "D_test = df_test.iloc[:,-1].values  # from test DataFrame: all rows & last column\n",
    "X1_test = df_test.iloc[:,0].values  # from test DataFrame: all rows & first column\n",
    "X2_test = df_test.iloc[:,1].values  # from test DataFrame: all rows & second column\n",
    "X3_test = df_test.iloc[:,2].values  # from test DataFrame: all rows & third column\n",
    "\n",
    "\n",
    "print(\"{0:<10} {1:>15}\".format('dataframe', \"numero record\"))\n",
    "print(\"{0:<10} {1:>15}\".format(\"Xtest  \",len(X_test)))\n",
    "print(\"{0:<10} {1:>15}\".format(\"Dtest  \",len(D_test)))\n",
    "print(\"{0:<10} {1:>15}\".format(\"X1test  \",len(X1_test)))\n",
    "print(\"{0:<10} {1:>15}\".format(\"X2test  \",len(X2_test)))\n",
    "print(\"{0:<10} {1:>15}\".format(\"X3test  \",len(X3_test)))"
   ]
  },
  {
   "cell_type": "markdown",
   "id": "b03ce4f2",
   "metadata": {},
   "source": [
    "#### TRAIN\n",
    "Eseguo lo slicing del datafram di train separando le colonne delle features (mean radius, mean texture, mean smoothness) dalla colonna del target (diagnosis)"
   ]
  },
  {
   "cell_type": "code",
   "execution_count": 9,
   "id": "62fb6c1e",
   "metadata": {},
   "outputs": [
    {
     "name": "stdout",
     "output_type": "stream",
     "text": [
      "dataframe    numero record\n",
      "Xtrain                 455\n",
      "Dtrain                 455\n",
      "X1train                455\n",
      "X2train                455\n",
      "X3train                455\n"
     ]
    }
   ],
   "source": [
    "# SLICING TRAIN\n",
    "X_train = df_train.iloc[:,:-1].values # from train DataFrame all rows & all columns except last\n",
    "D_train = df_train.iloc[:,-1].values  # from train DataFrame: all rows & last column\n",
    "X1_train = df_train.iloc[:,0].values  # from train DataFrame: all rows & first column\n",
    "X2_train = df_train.iloc[:,1].values  # from train DataFrame: all rows & second column\n",
    "X3_train = df_train.iloc[:,2].values  # from train DataFrame: all rows & third column\n",
    "\n",
    "print(\"{0:<10} {1:>15}\".format('dataframe', \"numero record\"))\n",
    "print(\"{0:<10} {1:>15}\".format(\"Xtrain  \",len(X_train)))\n",
    "print(\"{0:<10} {1:>15}\".format(\"Dtrain  \",len(D_train)))\n",
    "print(\"{0:<10} {1:>15}\".format(\"X1train  \",len(X1_train)))\n",
    "print(\"{0:<10} {1:>15}\".format(\"X2train  \",len(X2_train)))\n",
    "print(\"{0:<10} {1:>15}\".format(\"X3train  \",len(X3_train)))"
   ]
  },
  {
   "cell_type": "code",
   "execution_count": 10,
   "id": "0be5fe1b",
   "metadata": {},
   "outputs": [
    {
     "name": "stdout",
     "output_type": "stream",
     "text": [
      "lenght train Dataframe:  455\n",
      "lenght train Y (positive):  283\n",
      "lenght train N (negative):  172\n"
     ]
    }
   ],
   "source": [
    "#divide train dataframe into POSITIVE AND NEGATIVE DIAGNOSIS dataframes\n",
    "df_trainY = df_train.loc[df_train['diagnosis'] == 1].iloc[:,:-1].values # np array for positive diagnosis\n",
    "df_trainN = df_train.loc[df_train['diagnosis'] == 0].iloc[:,:-1].values # np array for negative diagnosis\n",
    "\n",
    "#POSITIVE TRAIN SLICING\n",
    "X_trainY = df_trainY[:,:-1] # from train DataFrame all rows & all columns except last & diagnosis = Yes\n",
    "D_trainY = df_trainY[:,-1]  # from train DataFrame all rows & last column & diagnosis = Yes\n",
    "X1_trainY = df_trainY[:,0]  # from train DataFrame: all rows & first column & diagnosis = Yes\n",
    "X2_trainY = df_trainY[:,1]  # from train DataFrame: all rows & second column & diagnosis = Yes\n",
    "X3_trainY = df_trainY[:,2]  # from train DataFrame: all rows & third column & diagnosis = Yes\n",
    "\n",
    "#NEGATIVE TRAIN SLICING\n",
    "X_trainN = df_trainN[:,:-1] # from train DataFrame all rows & all columns except last & diagnosis = No\n",
    "D_trainN = df_trainN[:,-1]  # from train DataFrame all rows & last column & diagnosis = No\n",
    "X1_trainN = df_trainN[:,0]  # from train DataFrame: all rows & first column & diagnosis = No\n",
    "X2_trainN = df_trainN[:,1]  # from train DataFrame: all rows & second column & diagnosis = No\n",
    "X3_trainN = df_trainN[:,2]  # from train DataFrame: all rows & third column & diagnosis = No\n",
    "\n",
    "print(\"lenght train Dataframe: \", len(df_train))\n",
    "print(\"lenght train Y (positive): \", len(df_trainY))\n",
    "print(\"lenght train N (negative): \", len(df_trainN))"
   ]
  },
  {
   "cell_type": "markdown",
   "id": "912d8e34",
   "metadata": {},
   "source": [
    "### PLOTTING DATAFRAME\n",
    "Di seguito sono riportati alcuni istogrammi che mostrano la distribuzione dei dati di ciascuna colonna del df di train "
   ]
  },
  {
   "cell_type": "markdown",
   "id": "98ae15ac",
   "metadata": {},
   "source": [
    "#### mean radius"
   ]
  },
  {
   "cell_type": "code",
   "execution_count": 11,
   "id": "a41b0174",
   "metadata": {},
   "outputs": [
    {
     "data": {
      "text/plain": [
       "array([[<AxesSubplot:title={'center':'mean radius'}>]], dtype=object)"
      ]
     },
     "execution_count": 11,
     "metadata": {},
     "output_type": "execute_result"
    },
    {
     "data": {
      "image/png": "[encoded data removed]",
      "text/plain": [
       "<Figure size 432x288 with 1 Axes>"
      ]
     },
     "metadata": {
      "needs_background": "light"
     },
     "output_type": "display_data"
    }
   ],
   "source": [
    "# ISTOGRAMMA\n",
    "nbins = 15 #definisco il numero di bin\n",
    "\n",
    "df_train.hist(column='mean radius',bins=nbins,density=1)\n",
    "#df_ax = df_train.hist(column='mean radius',by=df_train['diagnosis'],bins=nbins,density=1)"
   ]
  },
  {
   "cell_type": "markdown",
   "id": "27d942c9",
   "metadata": {},
   "source": [
    "#### mean texture"
   ]
  },
  {
   "cell_type": "code",
   "execution_count": 12,
   "id": "86f6b2f9",
   "metadata": {},
   "outputs": [
    {
     "data": {
      "text/plain": [
       "array([[<AxesSubplot:title={'center':'mean texture'}>]], dtype=object)"
      ]
     },
     "execution_count": 12,
     "metadata": {},
     "output_type": "execute_result"
    },
    {
     "data": {
      "image/png": "[encoded data removed]",
      "text/plain": [
       "<Figure size 432x288 with 1 Axes>"
      ]
     },
     "metadata": {
      "needs_background": "light"
     },
     "output_type": "display_data"
    }
   ],
   "source": [
    "df_train.hist(column='mean texture',bins=nbins,density=1)\n",
    "#df_ax = df_train.hist(column='mean radius',by=df_train['diagnosis'],bins=nbins,density=1)"
   ]
  },
  {
   "cell_type": "markdown",
   "id": "eea61014",
   "metadata": {},
   "source": [
    "#### mean smoothness"
   ]
  },
  {
   "cell_type": "code",
   "execution_count": 13,
   "id": "c61d0ff8",
   "metadata": {},
   "outputs": [
    {
     "data": {
      "text/plain": [
       "array([[<AxesSubplot:title={'center':'mean smoothness'}>]], dtype=object)"
      ]
     },
     "execution_count": 13,
     "metadata": {},
     "output_type": "execute_result"
    },
    {
     "data": {
      "image/png": "[encoded data removed]",
      "text/plain": [
       "<Figure size 432x288 with 1 Axes>"
      ]
     },
     "metadata": {
      "needs_background": "light"
     },
     "output_type": "display_data"
    }
   ],
   "source": [
    "df_train.hist(column='mean smoothness',bins=nbins,density=1)\n",
    "#df_ax = df_train.hist(column='mean radius',by=df_train['diagnosis'],bins=nbins,density=1)"
   ]
  },
  {
   "cell_type": "markdown",
   "id": "8946c285",
   "metadata": {},
   "source": [
    "### FITTING\n",
    "Eseguo un fit gaussiano "
   ]
  },
  {
   "cell_type": "markdown",
   "id": "5eae5e3d",
   "metadata": {},
   "source": [
    "#### X1_train: mean radius"
   ]
  },
  {
   "cell_type": "code",
   "execution_count": 14,
   "id": "7a619506",
   "metadata": {
    "scrolled": false
   },
   "outputs": [
    {
     "name": "stdout",
     "output_type": "stream",
     "text": [
      "mu0:  14.081408791208792  sigma0:  3.42863665019255\n",
      "mu1:  12.158342756183746  sigma1:  1.8046161732332104\n",
      "mu2:  17.245523255813957  sigma2:  3.105285678453434\n"
     ]
    },
    {
     "data": {
      "image/png": "[encoded data removed]",
      "text/plain": [
       "<Figure size 1440x720 with 3 Axes>"
      ]
     },
     "metadata": {
      "needs_background": "light"
     },
     "output_type": "display_data"
    }
   ],
   "source": [
    "plt.figure(figsize=(20, 10))\n",
    "\n",
    "ax0=plt.subplot(1, 3, 1)\n",
    "bin_heights, bin_borders, _ = ax0.hist(X1_train,bins=nbins,density=True)\n",
    "plt.grid(visible='True')\n",
    "mu0, sigma0 = norm.fit(X1_train)\n",
    "print(\"mu0: \",mu0,\" sigma0: \",sigma0)\n",
    "g_x = np.linspace(norm.ppf(0.01,mu0,sigma0),norm.ppf(0.99,mu0,sigma0), 100)\n",
    "ax0.plot(g_x, norm.pdf(g_x,mu0,sigma0),'r-', lw=5, alpha=0.6, label='norm pdf')\n",
    "ax0.set_title('mean radius all')\n",
    "\n",
    "\n",
    "ax1=plt.subplot(1, 3, 2)\n",
    "bin_heights, bin_borders, _ = ax1.hist(X1_trainY,bins=nbins,density=True)\n",
    "plt.grid(visible='True')\n",
    "mu1, sigma1 = norm.fit(X1_trainY)\n",
    "print(\"mu1: \",mu1,\" sigma1: \",sigma1)\n",
    "g_x = np.linspace(norm.ppf(0.01,mu1,sigma1),norm.ppf(0.99,mu1,sigma1), 100)\n",
    "ax1.plot(g_x, norm.pdf(g_x,mu1,sigma1),'r-', lw=5, alpha=0.6, label='norm pdf')\n",
    "ax1.set_title('mean radius diagnosis = Yes')\n",
    "\n",
    "\n",
    "ax2=plt.subplot(1, 3, 3)\n",
    "bin_heights, bin_borders, _ = ax2.hist(X1_trainN,bins=nbins,density=True)\n",
    "plt.grid(visible='True')\n",
    "mu2, sigma2 = norm.fit(X1_trainN)\n",
    "print(\"mu2: \",mu2,\" sigma2: \",sigma2)\n",
    "g_x = np.linspace(norm.ppf(0.01,mu2,sigma2),norm.ppf(0.99,mu2,sigma2), 100)\n",
    "ax2.plot(g_x, norm.pdf(g_x,mu2,sigma2),'r-', lw=5, alpha=0.6, label='norm pdf')\n",
    "ax2.set_title('mean radius diagnosis = No')\n",
    "\n",
    "plt.show()\n"
   ]
  },
  {
   "cell_type": "markdown",
   "id": "19f1ce5d",
   "metadata": {},
   "source": [
    "#### X2_train: mean texture"
   ]
  },
  {
   "cell_type": "code",
   "execution_count": 15,
   "id": "566d2c94",
   "metadata": {},
   "outputs": [
    {
     "name": "stdout",
     "output_type": "stream",
     "text": [
      "mu0:  19.31775824175824  sigma0:  4.298580321073201\n",
      "mu1:  18.01590106007067  sigma1:  4.0940130576252365\n",
      "mu2:  21.459767441860464  sigma2:  3.731730995796251\n"
     ]
    },
    {
     "data": {
      "image/png": "[encoded data removed]",
      "text/plain": [
       "<Figure size 1440x720 with 3 Axes>"
      ]
     },
     "metadata": {
      "needs_background": "light"
     },
     "output_type": "display_data"
    }
   ],
   "source": [
    "plt.figure(figsize=(20, 10))\n",
    "\n",
    "ax0=plt.subplot(1, 3, 1)\n",
    "bin_heights, bin_borders, _ = ax0.hist(X2_train,bins=nbins,density=True)\n",
    "plt.grid(visible='True')\n",
    "mu0, sigma0 = norm.fit(X2_train)\n",
    "print(\"mu0: \",mu0,\" sigma0: \",sigma0)\n",
    "g_x = np.linspace(norm.ppf(0.01,mu0,sigma0),norm.ppf(0.99,mu0,sigma0), 100)\n",
    "ax0.plot(g_x, norm.pdf(g_x,mu0,sigma0),'r-', lw=5, alpha=0.6, label='norm pdf')\n",
    "ax0.set_title('mean radius all')\n",
    "\n",
    "\n",
    "ax1=plt.subplot(1, 3, 2)\n",
    "bin_heights, bin_borders, _ = ax1.hist(X2_trainY,bins=nbins,density=True)\n",
    "plt.grid(visible='True')\n",
    "mu1, sigma1 = norm.fit(X2_trainY)\n",
    "print(\"mu1: \",mu1,\" sigma1: \",sigma1)\n",
    "g_x = np.linspace(norm.ppf(0.01,mu1,sigma1),norm.ppf(0.99,mu1,sigma1), 100)\n",
    "ax1.plot(g_x, norm.pdf(g_x,mu1,sigma1),'r-', lw=5, alpha=0.6, label='norm pdf')\n",
    "ax1.set_title('mean radius diagnosis = Yes')\n",
    "\n",
    "\n",
    "ax2=plt.subplot(1, 3, 3)\n",
    "bin_heights, bin_borders, _ = ax2.hist(X2_trainN,bins=nbins,density=True)\n",
    "plt.grid(visible='True')\n",
    "mu2, sigma2 = norm.fit(X2_trainN)\n",
    "print(\"mu2: \",mu2,\" sigma2: \",sigma2)\n",
    "g_x = np.linspace(norm.ppf(0.01,mu2,sigma2),norm.ppf(0.99,mu2,sigma2), 100)\n",
    "ax2.plot(g_x, norm.pdf(g_x,mu2,sigma2),'r-', lw=5, alpha=0.6, label='norm pdf')\n",
    "ax2.set_title('mean radius diagnosis = No')\n",
    "\n",
    "plt.show()\n"
   ]
  },
  {
   "cell_type": "markdown",
   "id": "dc5a1fc8",
   "metadata": {},
   "source": [
    "#### X3_train: mean smoothness"
   ]
  },
  {
   "cell_type": "code",
   "execution_count": 16,
   "id": "482a933d",
   "metadata": {},
   "outputs": [
    {
     "name": "stdout",
     "output_type": "stream",
     "text": [
      "mu0:  0.09613632967032967  sigma0:  0.01384336740226794\n",
      "mu1:  0.09178809187279152  sigma1:  0.012734753840167123\n",
      "mu2:  0.10329069767441859  sigma2:  0.01256283919275487\n"
     ]
    },
    {
     "data": {
      "image/png": "[encoded data removed]",
      "text/plain": [
       "<Figure size 1440x720 with 3 Axes>"
      ]
     },
     "metadata": {
      "needs_background": "light"
     },
     "output_type": "display_data"
    }
   ],
   "source": [
    "plt.figure(figsize=(20, 10))\n",
    "\n",
    "ax0=plt.subplot(1, 3, 1)\n",
    "bin_heights, bin_borders, _ = ax0.hist(X3_train,bins=nbins,density=True)\n",
    "plt.grid(visible='True')\n",
    "mu0, sigma0 = norm.fit(X3_train)\n",
    "print(\"mu0: \",mu0,\" sigma0: \",sigma0)\n",
    "g_x = np.linspace(norm.ppf(0.01,mu0,sigma0),norm.ppf(0.99,mu0,sigma0), 100)\n",
    "ax0.plot(g_x, norm.pdf(g_x,mu0,sigma0),'r-', lw=5, alpha=0.6, label='norm pdf')\n",
    "ax0.set_title('mean radius all')\n",
    "\n",
    "\n",
    "ax1=plt.subplot(1, 3, 2)\n",
    "bin_heights, bin_borders, _ = ax1.hist(X3_trainY,bins=nbins,density=True)\n",
    "plt.grid(visible='True')\n",
    "mu1, sigma1 = norm.fit(X3_trainY)\n",
    "print(\"mu1: \",mu1,\" sigma1: \",sigma1)\n",
    "g_x = np.linspace(norm.ppf(0.01,mu1,sigma1),norm.ppf(0.99,mu1,sigma1), 100)\n",
    "ax1.plot(g_x, norm.pdf(g_x,mu1,sigma1),'r-', lw=5, alpha=0.6, label='norm pdf')\n",
    "ax1.set_title('mean radius diagnosis = Yes')\n",
    "\n",
    "\n",
    "ax2=plt.subplot(1, 3, 3)\n",
    "bin_heights, bin_borders, _ = ax2.hist(X3_trainN,bins=nbins,density=True)\n",
    "plt.grid(visible='True')\n",
    "mu2, sigma2 = norm.fit(X3_trainN)\n",
    "print(\"mu2: \",mu2,\" sigma2: \",sigma2)\n",
    "g_x = np.linspace(norm.ppf(0.01,mu2,sigma2),norm.ppf(0.99,mu2,sigma2), 100)\n",
    "ax2.plot(g_x, norm.pdf(g_x,mu2,sigma2),'r-', lw=5, alpha=0.6, label='norm pdf')\n",
    "ax2.set_title('mean radius diagnosis = No')\n",
    "\n",
    "plt.show()\n"
   ]
  },
  {
   "cell_type": "markdown",
   "id": "7cbd72f7",
   "metadata": {},
   "source": [
    "### DEFINIZIONE DELL'ALGORITMO\n",
    "Definisco le funzioni necessarie per eseguire il calcolo delle probabilità"
   ]
  },
  {
   "cell_type": "code",
   "execution_count": 17,
   "id": "81beef21",
   "metadata": {},
   "outputs": [],
   "source": [
    "#PRIOR\n",
    "def calc_prior(df, Y):\n",
    "    \"\"\" Funzione che calcola le Prior P(Y=1) e P(Y=0)\"\"\"\n",
    "  \n",
    "    diag_val = sorted(list(df[Y].unique())) # [0, 1] valori possibili di \"diagnosis\"\n",
    "    prior_out = []\n",
    "    for val in diag_val:\n",
    "        prior_out.append(len(df[df[Y]==val])/len(df)) \n",
    "\n",
    "    return prior_out"
   ]
  },
  {
   "cell_type": "code",
   "execution_count": 18,
   "id": "361cd365",
   "metadata": {},
   "outputs": [],
   "source": [
    "# PROBABILITA CONDIZIONATA: prob X dato Y \n",
    "def calc_prob_x_dato_y(df, X_name, X_val, Y, label):\n",
    "    \"\"\" Funzione che calcola la prob condizionata di X dato Y \"\"\"\n",
    "    \n",
    "    df = df[df[Y]==label] # seleziono i dati per i quali la diagnosi è uguale aL label (0 o 1)\n",
    "    \n",
    "    mean = df[X_name].mean() #media\n",
    "    std = df[X_name].std()  #dev standard\n",
    "    \n",
    "    #PROBABILITA CONDIZIONATA (GAUSSIANA)\n",
    "    probX_Y = (1 / (sqrt2PI * std)) * np.exp(-((X_val-mean)**2 / (2 * std**2 )))\n",
    "    \n",
    "    return probX_Y"
   ]
  },
  {
   "cell_type": "markdown",
   "id": "f0dcdd77",
   "metadata": {},
   "source": [
    "Verifico la corretta normalizzazione"
   ]
  },
  {
   "cell_type": "code",
   "execution_count": 19,
   "id": "0b4ffb93",
   "metadata": {},
   "outputs": [
    {
     "name": "stdout",
     "output_type": "stream",
     "text": [
      "prior[0]: 0.378021978021978\n",
      "prior[1]: 0.621978021978022\n",
      "Nprior : 1.0\n"
     ]
    }
   ],
   "source": [
    "#calcolo le prior \n",
    "prior = calc_prior(df=df_train, Y='diagnosis')\n",
    "diag_val = [0,1]\n",
    "#Normalizzazione\n",
    "Nprior = 0\n",
    "for i in range(2):\n",
    "    print(f\"prior[{i}]: {prior[i]}\")\n",
    "    Nprior += prior[i]\n",
    "\n",
    "print(f\"Nprior : {Nprior}\")\n"
   ]
  },
  {
   "cell_type": "code",
   "execution_count": 20,
   "id": "80947ffc",
   "metadata": {},
   "outputs": [
    {
     "data": {
      "text/plain": [
       "Text(0.5, 0.98, 'Bayes Unf')"
      ]
     },
     "execution_count": 20,
     "metadata": {},
     "output_type": "execute_result"
    },
    {
     "data": {
      "image/png": "[encoded data removed]",
      "text/plain": [
       "<Figure size 432x288 with 1 Axes>"
      ]
     },
     "metadata": {
      "needs_background": "light"
     },
     "output_type": "display_data"
    }
   ],
   "source": [
    "#PLOTTING DELLA PRIOR\n",
    "fig2, axs2 = plt.subplots(1, 1,constrained_layout=True)\n",
    "\n",
    "# asse x: valori diagnosi(0,1) \n",
    "# asse y: valori della prior\n",
    "axs2.plot(diag_val, prior, color='g', linestyle=\"None\", marker='*', markersize=12)\n",
    "\n",
    "#setup dei label del grafico\n",
    "axs2.set_title('Prior')\n",
    "axs2.set_xlabel('diagnosis')\n",
    "axs2.set_ylabel('prob')\n",
    "\n",
    "#setup del range dell'asse y\n",
    "axs2.set_ylim(0.,1.)\n",
    "\n",
    "#label definizione e plot\n",
    "s1 = 'Norm: ' + str(Nprior)\n",
    "plt.text(0.4,0.8,s1,fontsize='x-large')\n",
    "\n",
    "#griglia del grafico\n",
    "axs2.grid()\n",
    "\n",
    "#titolo del grafico\n",
    "fig2.suptitle('Bayes Unf', fontsize=16)"
   ]
  },
  {
   "cell_type": "markdown",
   "id": "1f7d4d06",
   "metadata": {},
   "source": [
    "### APPLICAZIONE DEL TEOREMA DI BAYES\n",
    "Definisco la funzione che applica il teorema di Bayes ed estrae la predizione dei valori della variabile traget \"diagnosis\""
   ]
  },
  {
   "cell_type": "markdown",
   "id": "74ae8987",
   "metadata": {},
   "source": [
    "#### CASO 1: USO DI UNA SINGOLA FEATURE "
   ]
  },
  {
   "cell_type": "code",
   "execution_count": 21,
   "id": "07951f43",
   "metadata": {},
   "outputs": [],
   "source": [
    "#DEFINIZIONE ALGORITMO\n",
    "def Bayes_Gaussian_single_feature(df, X, feature, Y):\n",
    "    \"\"\"Funzione che estrae le predizioni per i valori della diagnosis utilizzando una sola feature\"\"\"\n",
    "\n",
    "    #1. CALCOLO LA PRIOR UTILIZZANDO LA FUNZIONE PRECEDENTEMENTE DEFINITA\n",
    "    prior = calc_prior(df, Y)\n",
    "    print(f\"prior: {prior}\")\n",
    "    \n",
    "    \n",
    "    #inizializzazione variabili\n",
    "    my_y_pred=[] #inizializzo la lista che conterrà i valori predetti della variabile target\n",
    "    \n",
    "    \n",
    "    for row in X: # per ogni record del mio dataframe di training\n",
    "        \n",
    "        #2. LIKELIHOOD: CALCOLATA UTILIZZANDO LA PROB CONDIZIONATA PRECEDENTEMENTE DEFINITA\n",
    "        #inizializzazione variabili\n",
    "        labels = sorted(list(df[Y].unique())) # [0,1] lista con i 2 valori del target possibili  \n",
    "        likelihood = [1,1] # lista con una coppia di valori per ogni record del df \n",
    "        \n",
    "        for j in range(len(labels)): # per ogni valore del target diagnosis (0 o 1)\n",
    "            likelihood[j] *= calc_prob_x_dato_y(df=df, X_name=feature, X_val=row , Y=Y, label=labels[j])               \n",
    "\n",
    "            \n",
    "        #3. POSTERIOR\n",
    "        #inizializzazione variabili necessarie\n",
    "        posterior = [1,1] # lista con una coppia di valori per ogni record del df\n",
    "        posterior_norm = 0.  #inizializzo la var normalizzazione\n",
    "\n",
    "\n",
    "        for j in range(len(labels)): # per ogni valore della var target (0 o 1) \n",
    "            posterior[j] = likelihood[j] * prior[j]  #  post_prob[0/1] = likelihood[0/1] * prior[0/1]\n",
    "            posterior_norm += likelihood[j] * prior[j]   #  normalizzazione = likelihood[0]*prior[0] + likelihood[1]*prior[1]\n",
    "\n",
    "        my_posterior = posterior / posterior_norm\n",
    "\n",
    "        #4. PREDIZIONE\n",
    "        #la predizione della variabile target Diagnosis (0 o 1) sarà data dall'indice associato alla probabilità maggiore:\n",
    "        # numpy.argmax() : Returns the indices of the maximum values along an axis.\n",
    "        my_y_pred.append(np.argmax(my_posterior))  \n",
    "         \n",
    "    return np.array(my_y_pred)\n"
   ]
  },
  {
   "cell_type": "markdown",
   "id": "8cb3fac1",
   "metadata": {},
   "source": [
    "##### Predizione usando MEAN RADIUS"
   ]
  },
  {
   "cell_type": "code",
   "execution_count": 22,
   "id": "c7db4afd",
   "metadata": {},
   "outputs": [
    {
     "name": "stdout",
     "output_type": "stream",
     "text": [
      "prior: [0.378021978021978, 0.621978021978022]\n",
      "X1 accuracy     0.9298245614035088\n",
      "X1 f1           0.9473684210526315\n",
      "X1 confusion matrix: \n",
      " [[34  6]\n",
      " [ 2 72]]\n"
     ]
    },
    {
     "data": {
      "text/plain": [
       "<AxesSubplot:>"
      ]
     },
     "execution_count": 22,
     "metadata": {},
     "output_type": "execute_result"
    },
    {
     "data": {
      "image/png": "[encoded data removed]",
      "text/plain": [
       "<Figure size 432x288 with 2 Axes>"
      ]
     },
     "metadata": {
      "needs_background": "light"
     },
     "output_type": "display_data"
    }
   ],
   "source": [
    "# MEAN RADIUS\n",
    "D_pred_X1 = Bayes_Gaussian_single_feature(df=df_train, X=X1_test, feature=\"mean radius\", Y=\"diagnosis\") #BAYES: questa è la posterior sul database di test\n",
    "\n",
    "X1_accuracy_score = accuracy_score(D_test,D_pred_X1,normalize=True)\n",
    "X1_confusion_matrix = confusion_matrix(D_test, D_pred_X1)\n",
    "X1_f1_score = f1_score(D_test, D_pred_X1)\n",
    "\n",
    "print(\"{0:<15} {1:>15}\".format('X1 accuracy',X1_accuracy_score))\n",
    "print(\"{0:<15} {1:>15}\".format('X1 f1',X1_f1_score))\n",
    "print(\"X1 confusion matrix: \\n\",X1_confusion_matrix)\n",
    "\n",
    "#PLOT CONFUSION MATRIX\n",
    "group_names = [\"True Neg\",\"False Pos\",\"False Neg\",\"True Pos\"]\n",
    "group_counts = [\"{0:0.0f}\".format(value) for value in\n",
    "                X1_confusion_matrix.flatten()]\n",
    "\n",
    "labels = [f\"{v1}\\n{v2}\" for v1, v2 in zip(group_names,group_counts)]\n",
    "labels = np.asarray(labels).reshape(2,2)\n",
    "sns.heatmap(X1_confusion_matrix, annot=labels, fmt=\"\", cmap=\"Blues\")"
   ]
  },
  {
   "cell_type": "markdown",
   "id": "77f68e7a",
   "metadata": {},
   "source": [
    "##### Predizione usando MEAN TEXTURE"
   ]
  },
  {
   "cell_type": "code",
   "execution_count": 23,
   "id": "6c025e42",
   "metadata": {},
   "outputs": [
    {
     "name": "stdout",
     "output_type": "stream",
     "text": [
      "prior: [0.378021978021978, 0.621978021978022]\n",
      "X2 accuracy     0.7631578947368421\n",
      "X2 f1           0.8343558282208589\n",
      "X2 confusion matrix: \n",
      " [[19 21]\n",
      " [ 6 68]]\n"
     ]
    },
    {
     "data": {
      "text/plain": [
       "<AxesSubplot:>"
      ]
     },
     "execution_count": 23,
     "metadata": {},
     "output_type": "execute_result"
    },
    {
     "data": {
      "image/png": "[encoded data removed]",
      "text/plain": [
       "<Figure size 432x288 with 2 Axes>"
      ]
     },
     "metadata": {
      "needs_background": "light"
     },
     "output_type": "display_data"
    }
   ],
   "source": [
    "# MEAN TEXTURE\n",
    "D_pred_X2 = Bayes_Gaussian_single_feature(df_train, X=X2_test, feature=\"mean texture\", Y=\"diagnosis\") #BAYES: questa è la posterior sul database di test\n",
    "\n",
    "X2_accuracy_score = accuracy_score(D_test,D_pred_X2,normalize=True)\n",
    "X2_confusion_matrix = confusion_matrix(D_test, D_pred_X2)\n",
    "X2_f1_score = f1_score(D_test, D_pred_X2)\n",
    "\n",
    "print(\"{0:<15} {1:>15}\".format('X2 accuracy',X2_accuracy_score))\n",
    "print(\"{0:<15} {1:>15}\".format('X2 f1',X2_f1_score))\n",
    "print(\"X2 confusion matrix: \\n\",X2_confusion_matrix)\n",
    "\n",
    "#PLOT CONFUSION MATRIX\n",
    "group_names = [\"True Neg\",\"False Pos\",\"False Neg\",\"True Pos\"]\n",
    "group_counts = [\"{0:0.0f}\".format(value) for value in\n",
    "                X2_confusion_matrix.flatten()]\n",
    "\n",
    "labels = [f\"{v1}\\n{v2}\" for v1, v2 in zip(group_names,group_counts)]\n",
    "labels = np.asarray(labels).reshape(2,2)\n",
    "sns.heatmap(X2_confusion_matrix, annot=labels, fmt=\"\", cmap=\"Blues\")"
   ]
  },
  {
   "cell_type": "markdown",
   "id": "8cd4d54d",
   "metadata": {},
   "source": [
    "##### Predizione usando  MEAN SMOOTHNESS"
   ]
  },
  {
   "cell_type": "code",
   "execution_count": 24,
   "id": "e6106468",
   "metadata": {},
   "outputs": [
    {
     "name": "stdout",
     "output_type": "stream",
     "text": [
      "prior: [0.378021978021978, 0.621978021978022]\n",
      "X3 accuracy     0.6228070175438597\n",
      "X3 f1           0.7189542483660132\n",
      "X3 confusion matrix: \n",
      " [[16 24]\n",
      " [19 55]]\n"
     ]
    },
    {
     "data": {
      "text/plain": [
       "<AxesSubplot:>"
      ]
     },
     "execution_count": 24,
     "metadata": {},
     "output_type": "execute_result"
    },
    {
     "data": {
      "image/png": "[encoded data removed]",
      "text/plain": [
       "<Figure size 432x288 with 2 Axes>"
      ]
     },
     "metadata": {
      "needs_background": "light"
     },
     "output_type": "display_data"
    }
   ],
   "source": [
    "# MEAN SMOOTHNESS\n",
    "D_pred_X3 = Bayes_Gaussian_single_feature(df_train, X=X3_test, feature=\"mean smoothness\", Y=\"diagnosis\") #BAYES: questa è la posterior sul database di test\n",
    "\n",
    "X3_accuracy_score = accuracy_score(D_test,D_pred_X3,normalize=True)\n",
    "X3_confusion_matrix = confusion_matrix(D_test, D_pred_X3)\n",
    "X3_f1_score = f1_score(D_test, D_pred_X3)\n",
    "\n",
    "print(\"{0:<15} {1:>15}\".format('X3 accuracy',X3_accuracy_score))\n",
    "print(\"{0:<15} {1:>15}\".format('X3 f1',X3_f1_score))\n",
    "print(\"X3 confusion matrix: \\n\",X3_confusion_matrix)\n",
    "\n",
    "#PLOT CONFUSION MATRIX\n",
    "group_names = [\"True Neg\",\"False Pos\",\"False Neg\",\"True Pos\"]\n",
    "group_counts = [\"{0:0.0f}\".format(value) for value in\n",
    "                X3_confusion_matrix.flatten()]\n",
    "\n",
    "labels = [f\"{v1}\\n{v2}\" for v1, v2 in zip(group_names,group_counts)]\n",
    "labels = np.asarray(labels).reshape(2,2)\n",
    "sns.heatmap(X3_confusion_matrix, annot=labels, fmt=\"\", cmap=\"Blues\")"
   ]
  },
  {
   "cell_type": "markdown",
   "id": "04c5fefd",
   "metadata": {},
   "source": [
    "#### CASO 2: UTILIZZO TUTTE E 3 LE FEATURES PER PREDIRE IL TARGET DIAGNOSIS"
   ]
  },
  {
   "cell_type": "code",
   "execution_count": 25,
   "id": "8e0d4dd8",
   "metadata": {},
   "outputs": [],
   "source": [
    "# ADATTAMENTO DELL'ALGORITMO AL CASO DI PIU FEATURES\n",
    "def Bayes_Gaussian(df, X, Y):\n",
    "    \"\"\"Funzione che estrae le predizioni per i valori della diagnosis utilizzando le 3 feature a disposizione\"\"\"\n",
    "\n",
    "    #lista delle features (nel mio caso sono 3: mean radius, mean texture, mean smoothness)\n",
    "    features = list(df.columns)[:-1]\n",
    "    print(\"features: \",features)\n",
    "    print(\"numero di features: \", len(features))\n",
    "\n",
    "    \n",
    "    #1. CALCOLO LA PRIOR UTILIZZANDO LA FUNZIONE PRECEDENTEMENTE DEFINITA\n",
    "    prior = calc_prior(df, Y)\n",
    "    print(f\"prior: {prior}\")\n",
    "    \n",
    "    \n",
    "    #inizializzazione variabili\n",
    "    my_y_pred=[] #inizializzo la lista che conterrà i valori predetti della variabile target\n",
    "    \n",
    "    \n",
    "    for row in X: # per ogni record del mio dataframe di training\n",
    "        \n",
    "        #inizializzazione variabili\n",
    "        labels = sorted(list(df[Y].unique())) # [0,1] lista con i 2 valori del target possibili  \n",
    "        likelihood = [1, 1]\n",
    "        \n",
    "        #2. LIKELIHOOD: CALCOLATA UTILIZZANDO LA PROB CONDIZIONATA PRECEDENTEMENTE DEFINITA\n",
    "        for j in range(len(labels)): # per ogni valore del target diagnosis (0 o 1)\n",
    "            for i in range(len(features)): # e per ogni features calcolo la prob condizionata e ne faccio il prodotto\n",
    "                likelihood[j] *= calc_prob_x_dato_y(df=df, X_name=features[i], X_val=row[i], Y=Y, label=labels[j])               \n",
    "\n",
    "        #3. POSTERIOR\n",
    "        #inizializzazione variabili necessarie\n",
    "        posterior = [1, 1]\n",
    "        posterior_norm = 0.  #inizializzo la var normalizzazione\n",
    "\n",
    "\n",
    "        for j in range(len(labels)): # per ogni valore della var target (0 o 1) \n",
    "            posterior[j] = likelihood[j] * prior[j]  #  post_prob[0/1] = likelihood[0/1] * prior[0/1]\n",
    "            posterior_norm += likelihood[j] * prior[j]   #  normalizzazione = likelihood[0]*prior[0] + likelihood[1]*prior[1]\n",
    "\n",
    "        my_posterior = posterior / posterior_norm\n",
    "\n",
    "        #4. PREDIZIONE\n",
    "        #la predizione della variabile target Diagnosis (0 o 1) sarà data dall'indice associato alla probabilità maggiore:\n",
    "        # numpy.argmax() : Returns the indices of the maximum values along an axis.\n",
    "        my_y_pred.append(np.argmax(my_posterior))\n",
    "        \n",
    "    return np.array(my_y_pred)"
   ]
  },
  {
   "cell_type": "markdown",
   "id": "e30ed7d1",
   "metadata": {},
   "source": [
    "### PREDIZIONE NEL CASO DI PIU FEATURES"
   ]
  },
  {
   "cell_type": "code",
   "execution_count": 26,
   "id": "fc965826",
   "metadata": {},
   "outputs": [
    {
     "name": "stdout",
     "output_type": "stream",
     "text": [
      "features:  ['mean radius', 'mean texture', 'mean smoothness']\n",
      "numero di features:  3\n",
      "prior: [0.378021978021978, 0.621978021978022]\n",
      "my accuracy     0.9649122807017544\n",
      "my f1           0.9736842105263158\n",
      "my confusion matrix: \n",
      " [[36  4]\n",
      " [ 0 74]]\n"
     ]
    },
    {
     "data": {
      "text/plain": [
       "<AxesSubplot:>"
      ]
     },
     "execution_count": 26,
     "metadata": {},
     "output_type": "execute_result"
    },
    {
     "data": {
      "image/png": "[encoded data removed]",
      "text/plain": [
       "<Figure size 432x288 with 2 Axes>"
      ]
     },
     "metadata": {
      "needs_background": "light"
     },
     "output_type": "display_data"
    }
   ],
   "source": [
    "D_pred = Bayes_Gaussian(df=df_train, X=X_test, Y=\"diagnosis\") #BAYES: questa è la posterior sul database di test\n",
    "\n",
    "my_accuracy_score = accuracy_score(D_test,D_pred,normalize=True)\n",
    "my_confusion_matrix = confusion_matrix(D_test, D_pred)\n",
    "my_f1_score = f1_score(D_test, D_pred)\n",
    "\n",
    "print(\"{0:<15} {1:>15}\".format('my accuracy',my_accuracy_score))\n",
    "print(\"{0:<15} {1:>15}\".format('my f1',my_f1_score))\n",
    "print(\"my confusion matrix: \\n\",my_confusion_matrix)\n",
    "\n",
    "#PLOT CONFUSION MATRIX\n",
    "group_names = [\"True Neg\",\"False Pos\",\"False Neg\",\"True Pos\"]\n",
    "group_counts = [\"{0:0.0f}\".format(value) for value in\n",
    "                my_confusion_matrix.flatten()]\n",
    "\n",
    "labels = [f\"{v1}\\n{v2}\" for v1, v2 in zip(group_names,group_counts)]\n",
    "labels = np.asarray(labels).reshape(2,2)\n",
    "sns.heatmap(my_confusion_matrix, annot=labels, fmt=\"\", cmap=\"Blues\")"
   ]
  },
  {
   "cell_type": "markdown",
   "id": "83728b3f",
   "metadata": {},
   "source": [
    "Come si osserva confrontando gli scores, si ha il punteggio migliore (prossimo a 1) nel caso di uso di tutte e tre le feature rispetto al caso in cui si è usata una sola feature."
   ]
  },
  {
   "cell_type": "markdown",
   "id": "00ecfaa5",
   "metadata": {},
   "source": [
    "## Confronto i risultati ottenuti con i risultati calcolati tramite l'algoritmo implementato direttamente in sklearn"
   ]
  },
  {
   "cell_type": "code",
   "execution_count": 27,
   "id": "4b69d98c",
   "metadata": {},
   "outputs": [
    {
     "name": "stdout",
     "output_type": "stream",
     "text": [
      "accuracy 0.9649122807017544\n",
      "f1_score 0.9736842105263158\n",
      "confusion matrix \n",
      " [[36  4]\n",
      " [ 0 74]]\n"
     ]
    },
    {
     "data": {
      "text/plain": [
       "<AxesSubplot:>"
      ]
     },
     "execution_count": 27,
     "metadata": {},
     "output_type": "execute_result"
    },
    {
     "data": {
      "image/png": "[encoded data removed]",
      "text/plain": [
       "<Figure size 432x288 with 2 Axes>"
      ]
     },
     "metadata": {
      "needs_background": "light"
     },
     "output_type": "display_data"
    }
   ],
   "source": [
    "#CALCOLO USANDO IL MODULO FORNITO DA SKLEARN\n",
    "gnb = GaussianNB()\n",
    "Dpredicted = gnb.fit(X_train, D_train).predict(X_test)\n",
    "res_accuracy_score = accuracy_score(D_test,Dpredicted,normalize=True)\n",
    "res_confusion_matrix = confusion_matrix(D_test, Dpredicted)\n",
    "res_f1_score = f1_score(D_test, Dpredicted)\n",
    "print(f\"accuracy {res_accuracy_score}\")\n",
    "print(f\"f1_score {res_f1_score}\")\n",
    "print(f\"confusion matrix \\n {res_confusion_matrix}\")\n",
    "\n",
    "#PLOT CONFUSION MATRIX\n",
    "group_names = [\"True Neg\",\"False Pos\",\"False Neg\",\"True Pos\"]\n",
    "group_counts = [\"{0:0.0f}\".format(value) for value in\n",
    "                res_confusion_matrix.flatten()]\n",
    "\n",
    "labels = [f\"{v1}\\n{v2}\" for v1, v2 in zip(group_names,group_counts)]\n",
    "labels = np.asarray(labels).reshape(2,2)\n",
    "sns.heatmap(res_confusion_matrix, annot=labels, fmt=\"\", cmap=\"Blues\")"
   ]
  },
  {
   "cell_type": "code",
   "execution_count": null,
   "id": "a30d4352",
   "metadata": {},
   "outputs": [],
   "source": []
  }
 ],
 "metadata": {
  "kernelspec": {
   "display_name": "Python 3 (ipykernel)",
   "language": "python",
   "name": "python3"
  },
  "language_info": {
   "codemirror_mode": {
    "name": "ipython",
    "version": 3
   },
   "file_extension": ".py",
   "mimetype": "text/x-python",
   "name": "python",
   "nbconvert_exporter": "python",
   "pygments_lexer": "ipython3",
   "version": "3.9.7"
  }
 },
 "nbformat": 4,
 "nbformat_minor": 5
}
