{
 "cells": [
  {
   "cell_type": "markdown",
   "metadata": {
    "slideshow": {
     "slide_type": "slide"
    }
   },
   "source": [
    "## Introduction to the course ##\n",
    "\n",
    "Behind many systems there is an intricate wiring diagram, a **network**, that defines the interactions between the components of the system.\n",
    "\n",
    "In this course, we will learn how to model, understand, explain and, possibly, predict characteristics of these systems by modelling, understanding, explaining and, possibly, predicting the networks **behind** them.\n",
    "\n",
    "We will cover several aspects of network theory:\n",
    "- Network representation\n",
    "- Measures and metrics\n",
    "- Algorithms\n",
    "- Properties of real-world networks\n",
    "- Graph models\n",
    "- Community structure\n",
    "\n",
    "We will make use of Python and, in particular, of the Python interface to the **igraph** library.\n",
    "\n",
    "The reference book is Mark Newman's \"**Networks** (2nd Edition)\", Oxford University Press.\n",
    "\n"
   ]
  },
  {
   "cell_type": "markdown",
   "metadata": {
    "slideshow": {
     "slide_type": "slide"
    }
   },
   "source": [
    "## Introduction to the course ##\n",
    "\n",
    "We will take a **practical** perspective:\n",
    "- you will be given access to a few **datasets**\n",
    "- through examples and exercises, you will learn how to:\n",
    "    - extract a network **representation** for a dataset\n",
    "    - **analyze** the obtained graph to gain valuable knowledge about the system that the data describe\n",
    "    \n",
    "At the end of the course you will be asked to choose a dataset and to present an essay where you present a network-based analysis of the dataset.\n"
   ]
  },
  {
   "cell_type": "markdown",
   "metadata": {
    "slideshow": {
     "slide_type": "slide"
    }
   },
   "source": [
    "## What are networks ##\n",
    "\n",
    "A **network** or a **graph** is a collection of discrete entities and the set of interactions among them.\n",
    "\n",
    "- we call the entities **vertices** or **nodes**\n",
    "- we call the interactions **edges** or **links**\n",
    "\n",
    "Any system that we can describe as being composed of identifiable nodes and definable links can be modeled and analyzed as a network.\n",
    "\n",
    "Modeling a system as a network means answering two questions:\n",
    "\n",
    "> What is a vertex?\n",
    "\n",
    "The answer defines the set V of discrete entities or objects, among which edges exist.\n",
    "\n",
    "> What is an edge?\n",
    "\n",
    "The answer defines the set E of pairwise interactions2 among the vertices, i.e., E ⊆ V × V ."
   ]
  },
  {
   "cell_type": "markdown",
   "metadata": {
    "slideshow": {
     "slide_type": "slide"
    }
   },
   "source": [
    "## What are networks ##\n",
    "\n",
    "For any particular system, there may be **multiple ways** of answering these questions.\n",
    "- in a social network in which vertices are people, edges may represent different kinds of social interaction: friendship, meeting in person, appearing together in a photograph, answering one-another on a social media platform, etc.\n",
    "- in a biological network in which nodes are genes, an edge might represent a regulatory interaction, a binding affinity between the corresponding proteins, a similarity in terms of evolutionary history, etc.\n",
    "\n",
    "How we answer the two fundamental questions can greatly shape the kind of questions we will be able to answer later about the underlying system."
   ]
  },
  {
   "cell_type": "markdown",
   "metadata": {
    "slideshow": {
     "slide_type": "slide"
    }
   },
   "source": [
    "<img src=\"images/table_of_networks.png\" alt=\"A tabel of networks examples\" title=\"A table of possible networks\" style=\"width: 600px;\"/>"
   ]
  },
  {
   "cell_type": "markdown",
   "metadata": {
    "slideshow": {
     "slide_type": "slide"
    }
   },
   "source": [
    "### Networks are models ###\n",
    "\n",
    "Remember: a network is a *representation* or a *description* of an underlying system. \n",
    "\n",
    "A network can be a fairly good description of a system of roads, but it is probably a poor representation of the stars in a galaxy, and it captures only some aspects of friendships among people.\n",
    "\n",
    "Keep this fundamental point in mind: **networks are models**"
   ]
  },
  {
   "cell_type": "markdown",
   "metadata": {
    "slideshow": {
     "slide_type": "slide"
    }
   },
   "source": [
    "### Network domains ###\n",
    "In the table above, each network is tagged by one of six scientific domains.\n",
    "This is a rough taxonomy of the kind of underlying system the network models:\n",
    "\n",
    " - **Biological networks** include networks of molecules, genes, cells, tissues, and entire \n",
    "species, and are studied across nearly all life-science fields, e.g., molecular biology, microbiology, developmental biology, physiology, neuroscience, ecology, and evolutionary biology.\n",
    "\n",
    " - **Social networks** include all different kinds of social interactions among people or organizations, except for those that are explicitly economic in nature. Networks of economic interactions, e.g., economic transactions, preferences, and relationships, get their own economic networks category."
   ]
  },
  {
   "cell_type": "markdown",
   "metadata": {
    "slideshow": {
     "slide_type": "slide"
    }
   },
   "source": [
    "### Network domains ###\n",
    "In the table above, each network is tagged by one of six scientific domains.\n",
    "This is a rough taxonomy of the kind of underlying system the network models:\n",
    "\n",
    " - **Information networks** include both web graphs, software graphs, and document networks, all of which are defined by citation-like interactions, as well as semantic networks, where edges denote abstract or ontological relationships. This category also includes networks based on pairwise similarity or relatedness scores that do not obviously fall into some other category.\n",
    "\n",
    " - **Technological networks** capture systems fundamentally grounded in technology, and especially computer technology, such as the Internet or various other kinds of electronic communication networks.\n",
    "\n",
    " - **Transportation networks** describe systems of physical transportation, such as roads, railroads, airplanes, ships, etc., but they can also represent animal transportation systems, e.g., ant trails."
   ]
  },
  {
   "cell_type": "markdown",
   "metadata": {
    "slideshow": {
     "slide_type": "slide"
    }
   },
   "source": [
    "## Graph properties of networks ##\n",
    "\n",
    "Generally speaking, a network is a set of nodes endowed with pairwise interactions.\n",
    "Through a set of *graph properties*, we may define the specific aspects of the underlying system that the network captures.\n",
    "\n",
    "Formally, we define a graph or network as $G = (V, E)$, where $V$ is the set of *vertices*, and $E$ is the set of *edges*.\n",
    "Each edge is a *pair* of nodes $i,j\\in V$ such that $(i,j)\\in E$."
   ]
  },
  {
   "cell_type": "markdown",
   "metadata": {
    "slideshow": {
     "slide_type": "slide"
    }
   },
   "source": [
    "### Simple graphs ###\n",
    "The most basic kind of network is called a **simple graph**, which has the following properties:\n",
    "1. edges are *undirected*: a connection $(i,j)\\in E$ implies a connection $(j, i) \\in E$\n",
    "2. edges are *unweighted*: edges are either present or absent (a **binary** relation)\n",
    "3. there are *no self-loops*: no edge connects a vertex to itself $(i, i) \\notin E$\n",
    "4. there are *no annotations* on the nodes, except that nodes are uniquely indexed\n",
    "\n",
    "<img src=\"images/simple_nonsimple_graphs.png\" alt=\"A comparison of simple and non-simple graphs\" title=\"A comparison of simple and non-simple graphs\" style=\"width: 500px;\"/>"
   ]
  },
  {
   "cell_type": "markdown",
   "metadata": {
    "slideshow": {
     "slide_type": "slide"
    }
   },
   "source": [
    "### Non-simple graphs ###\n",
    "When we relax any of the properties that define simple graphs, we get a richer network representation of the underlying system (but, generally, more *difficult to anayze*!)\n",
    "\n",
    "We may list common graph properties, arranged by whether the property is a function of an edge, a node, or the whole network.\n",
    "\n",
    "| Edge properties | Node properties | Network properties |\n",
    "| :- | :- | :- |\n",
    "| unweighted or weighted (or signed) | attributes |  sparse or dense |\n",
    "| undirected or directed | coordinates | sparse or dense |\n",
    "| multigraph | state variables | bipartite or projection |\n",
    "| timestamps |   | connected or disconnected | \n",
    "|   |   | acyclic |\n",
    "|   |   | temporal |\n",
    "|   |   | multiplex |\n",
    "|   |   | hypergraph |"
   ]
  },
  {
   "cell_type": "markdown",
   "metadata": {
    "slideshow": {
     "slide_type": "slide"
    }
   },
   "source": [
    "### Networks with edge attributes ###\n",
    "\n",
    "In **weighted** networks, each edge $(i, j)$ has an associated scalar value or *edge weight* $w_{ij}$, which\n",
    "might represent:\n",
    "- the *frequency* of interaction ($w_{ij} \\in \\mathbb{Z}$)\n",
    "- the interaction's *strength* ($w_{ij} \\in \\mathbb{R}$)\n",
    "- the interaction's *type* ($w_{ij} \\in \\{−1, +1\\}$), e.g., trust/distrust in a social system --> in this case the networks is **signed**\n",
    "\n",
    "How would you define weights for the networks in the figure?\n",
    "\n",
    "<img src=\"images/italy_airports_roads.png\" alt=\"Airport and road network Italy\" title=\"Airport and road network Italy\" style=\"width: 450px;\"/>"
   ]
  },
  {
   "cell_type": "markdown",
   "metadata": {
    "slideshow": {
     "slide_type": "slide"
    }
   },
   "source": [
    "### Networks with edge attributes ###\n",
    "\n",
    "Edges annotations can be arbitrarily complicated, e.g., a vector of continuous or categorical (e.g., tags or colors) attributes.\n",
    "A typical example is a **time** attribute:\n",
    "- when an edge attribute denotes a discrete *point* in time $t \\in \\mathbb{N}$ at which that edge exists, we say the network is a **temporal** network, and each group of co-occurring edges (same $t$) is a network \"snapshot\"\n",
    "- when edges are annotated by a *starting and stopping* time, as in a network of phone calls or a network of physical proximities, then edges have a continuous *duration*, and we instead say the network has **timestamps**.\n",
    "\n",
    "<img src=\"images/temporal2.png\" alt=\"A comparison of static and temporal networks\" title=\"A comparison of static and temporal networks\" style=\"width: 350px;\"/>"
   ]
  },
  {
   "cell_type": "markdown",
   "metadata": {},
   "source": [
    "### Networks with edge attributes ###\n",
    "\n",
    "A **multigraph** relaxes the prohibition against *repeated* connections (and generally also against *self-loops*), meaning that there exists a **multiplicity** of edges $(i, j) \\in E$.\n",
    "For instance, in a network of neuron cells, two neurons can have multiple synapses and we might wish to represent each such connection as a distinct edge.\n",
    "\n",
    "How would you define a multigraph from the network in the figure?\n",
    "\n",
    "<img src=\"images/italy_airports_roads.png\" alt=\"Airport and road network Italy\" title=\"Airport and road network Italy\" style=\"width: 450px;\"/>"
   ]
  },
  {
   "cell_type": "markdown",
   "metadata": {
    "slideshow": {
     "slide_type": "slide"
    }
   },
   "source": [
    "### Networks with node attributes ###\n",
    "\n",
    "Nodes can also have **attributes** or **metadata** attached to them, denoted as $x_i$:\n",
    "- *categorical* variables (sometimes called “labels”)\n",
    "- single scalars or vectors representing *state* variables\n",
    "- spatial *coordinates* or locations in some metric space\n",
    "\n",
    "For example:\n",
    "- if nodes are cities, node attributes might include the city's population and GPS coordinates\n",
    "- in a social network, node metadata may include age, sex, and location\n",
    "- in a protein-interaction network, node attributes might include the molecular weight or Gene Ontology functional labels"
   ]
  },
  {
   "cell_type": "markdown",
   "metadata": {
    "slideshow": {
     "slide_type": "slide"
    }
   },
   "source": [
    "### Directed networks ###\n",
    "\n",
    "If edges can be *asymmetric*, we call them **directed**, meaning that the edge $(i, j)$ can occur independently of $(j, i)$.\n",
    "The World Wide Web is a familiar directed network: webpages are nodes, and hyperlinks are the directed edges.\n",
    "Many biological networks are directed, including gene regulation and neural activation.\n",
    "\n",
    "<img src=\"images/directed_network.png\" alt=\"A comparison of directed and undirected graphs\" title=\"A comparison of directed and undirected graphs\" style=\"width: 350px;\"/>"
   ]
  },
  {
   "cell_type": "markdown",
   "metadata": {
    "slideshow": {
     "slide_type": "slide"
    }
   },
   "source": [
    "### Paths ###\n",
    "\n",
    "A **path** from vertex $i_s\\in V$ to vertex $i_e\\in V$ is an ordered sequence of vertices $i_s=i_0,\\ldots,i_k=i_e \\in V$ such that $(i_h,i_{h+1})\\in E$ for all $h=0,\\ldots,k-1$.\n",
    "The number of edges in the path, $k$ in the example, is the *length* of the path. We will often use the notation $i → \\cdots → j$ to denote a path from $i$ to $j$.\n",
    "A **cycle** is a path such that $i_s=i_e$.\n",
    "A network is **acyclic** if it contains no cycles. \n",
    "\n",
    "### Acyclic directed networks ###\n",
    "\n",
    "A directed network is acyclic if, for every possible $i, j \\in V$, if there exists a path $i → \\cdots → j$, then no path exists in the reverse direction $j → \\cdots → i$.\n",
    "\n",
    "For instance, a *citation network* is composed of the set of published scientific papers, and an edge $(i, j) \\in E$ if paper $i$ cites paper $j$ in its bibliography.\n",
    "Citation networks are (in theory) directed acyclic graphs because of time: if $(i,j)\\in E$, i.e., if $i$ cites $j$, then $i$ is newer then $j$ and, therefore, $j$ cannot cite $i$; for the sema reason, a cycle cannot exist (in practice, preprints sometimes permit cycles in citation networks)."
   ]
  },
  {
   "cell_type": "markdown",
   "metadata": {
    "slideshow": {
     "slide_type": "slide"
    }
   },
   "source": [
    "### Neighbors, neighborhoods, degree ##\n",
    "\n",
    "- A vertex $j\\in V$ is a **neighbor** of $i\\in V$ if $(i,j)\\in E$ or $(j,i)\\in E$\n",
    "- In directed graphs, we distinguish **in-neighbors** and **out-neighbors** \n",
    "- The (in-,out-)**neighborhood** of $i$ is the set of its (in-,out-)neighbors\n",
    "- The **degree** of $i$ is the number of vertices in $i$'s neighborhood\n",
    "- In directed graphs, we distinguish $i$'s **in-degree** and **out-degree**"
   ]
  },
  {
   "cell_type": "markdown",
   "metadata": {
    "slideshow": {
     "slide_type": "slide"
    }
   },
   "source": [
    "### Subgraphs ###\n",
    "\n",
    "- $G_1=(V_1,E_1)$ is a **subgraph** of another graph $G=(V,E)$ if $V_1\\subset V$ and $E_1\\subset E$\n",
    "- Given $G=(V,E)$ and $V_1\\subset V$, the subgraph of $G$ **induced** by $V_1$ is the graph $G_1=(V_1,E_1)$ such that $E_1=\\{(i,j)\\in E \\text{ such that } i,j\\in V_1\\}$\n",
    "- Given $G=(V,E)$ and $E_1\\subset E$, the subgraph of $G$ **induced** by $E_1$ is the graph $G_1=(V_1,E_1)$ such that $V_1=\\{i\\in V \\text{ such that there exist } j \\text{ such that } (i,j)\\in E_1 \\text{ or } (j,i)\\in E_1\\}$\n",
    "\n",
    "### Complete graphs and cliques ###\n",
    "\n",
    "- A graph $G=(V,E)$ is **complete** if it contains all possible edges, i.e., if $E=\\{(i,j) \\text{ for all } i,j\\in V\\}$\n",
    "- A complete subgraph is called a **clique**"
   ]
  },
  {
   "cell_type": "markdown",
   "metadata": {
    "slideshow": {
     "slide_type": "slide"
    }
   },
   "source": [
    "### Bipartite networks and one-mode projections ###\n",
    "\n",
    "**Bipartite** networks are networks where the set of vertices V is composed of 2 distinct classes of nodes and only nodes of different classes interact.\n",
    "Formally:  $V = V_1 \\cup V_2$ with $V_1\\cap V_2=\\emptyset$, and, for all $(i,j)\\in E$, $i\\in V_1$ if and only if $j\\in V_2$.\n",
    "\n",
    "A popular type of bipartite graph is the actor-film network, in which actors and films represent the two classes, and actors connect to the films in which they play a part.\n",
    "\n",
    "Often, a bipartite graph is the *natural* way to represent a system, but we are interested in the relations between the elements of one of the two classes.\n",
    "In this case, we operate a conversion called a **one-mode projection**: we connect any two vertices on one side of the bipartite network if their neighborhoods are \"sufficiently similar\" (e.g., if they share at least one neighbor).\n",
    "\n",
    "<img src=\"images/bipartite_graph.png\" alt=\"A bipartite graph and its projections\" title=\"A bipartite graph and its projections\" style=\"width: 400px;\"/>"
   ]
  },
  {
   "cell_type": "markdown",
   "metadata": {
    "slideshow": {
     "slide_type": "slide"
    }
   },
   "source": [
    "### Bipartite networks and one-mode projections ###\n",
    "\n",
    "For instance:\n",
    "- the actor-collaboration network is the projection on the actor side of the actor-film network\n",
    "- the twitter retweet network is the projection on the user side of the user-tweet network in which a (directed) link $(u,t)$ means that $u$ authored $t$ and a link $(t,u)$ means that $u$ retweeted $t$\n",
    "\n",
    "Projections can also be *weighted*: $(i, j)$ in the projection may be given a weight $w_ij$ that corresponds to its multiplicity as a result of the projection procedure\n",
    "\n",
    "Remarks:\n",
    "1. the one-mode projection may produces **cliques**: if we connect all nodes of $V_1$ with a common neighbor in $V_2$, for all $j\\in V_2$ the neighborhood of $j$ will be a clique in the projection\n",
    "2. the same one-mode projection may result from multiple different bipartite networks: the projection operation is surjective but not bijective (can you prove it?)"
   ]
  },
  {
   "cell_type": "markdown",
   "metadata": {
    "slideshow": {
     "slide_type": "slide"
    }
   },
   "source": [
    "### Connected networks and components ###\n",
    "\n",
    "A simple network is **connected** if for every pair of nodes $i, j \\in V$, $j$ is *reachable* from $i$, i.e., there exists a path $i → \\cdots → j$ (\"for every\" means that a path exists in *both directions*).\n",
    "Otherwise, the network is **disconnected**.\n",
    "The minimum number of edges for a network with $|V|=n$ is $m = n − 1$ (can you prove it?).\n",
    "A the subgraph induced by a connected subset $T\\subset V$ is called a **connected component**.\n",
    "\n",
    "<img src=\"images/components.png\" alt=\"The connected components of a graph\" title=\"The connected components of a graph\" style=\"width: 500px;\"/>\n",
    "\n",
    "In a directed network, a subset $T\\subset V$ induces a\n",
    "- **strongly connected component** if, for all $i,j \\in T$, $i$ is reachable from $j$ *and* $j$ is reachable from $i$\n",
    "- **weakly connected component** if, for all $i,j \\in T$, *either* $i$ is reachable from $j$ *or* $j$ is reachable from $i$"
   ]
  },
  {
   "cell_type": "markdown",
   "metadata": {
    "slideshow": {
     "slide_type": "slide"
    }
   },
   "source": [
    "### Temporal, dynamic and evolving networks ###\n",
    "\n",
    "Often, graphs do *change over time*:\n",
    "- in citation networks, new vertices join the network continuously with new edges representing citations to older papers\n",
    "- in online social networks, friendship edges are added or removed even when the vertex set is static\n",
    "\n",
    "A network that varies over time is denoted **temporal** or **dynamic** or **evolving**.\n",
    "\n",
    "- the term **temporal** is used when time is **discrete** and the network can be represented as a *sequence* of static networks (\"snapshots\") -- each snapshot may describe what happens *at time* $t$ or what happens *between* $t$ and $t+1$\n",
    "- the term **time-stamped** is used when time is **continuous** and the edges are annotated with an interval, e.g., $(i, j, t_1, t_2)$\n",
    "\n",
    "<img src=\"images/temporal.png\" alt=\"A temporal network\" title=\"A temporal network\" style=\"width: 600px;\"/>"
   ]
  },
  {
   "cell_type": "markdown",
   "metadata": {
    "slideshow": {
     "slide_type": "slide"
    }
   },
   "source": [
    "### Multiplex networks, spatial networks, and hypergraphs ###\n",
    "\n",
    "A network composed of multiple \"layers\" of edges is called a **multiplex** or **multilayer** network.\n",
    "Each layer corresponds to a different *type* of relation/interaction, e.g., followers/followees, retweets and mentions in Twitter. \n",
    "\n",
    "<img src=\"images/multilayer.png\" alt=\"A multilayer network\" title=\"A multilayer network\" style=\"width: 300px;\"/>"
   ]
  },
  {
   "cell_type": "markdown",
   "metadata": {
    "slideshow": {
     "slide_type": "slide"
    }
   },
   "source": [
    "### Spatial networks ###\n",
    "\n",
    "In a **spatial** network each vertex is annotated with its **location** in some $d$-dimensional space.\n",
    "For instance:\n",
    "- transportation networks, e.g., road, city, airport networks\n",
    "- oil and gas distribution networks\n",
    "- online social networks (especially if *location-based*, e.g., Foursquare or Yelp)\n",
    "\n",
    "In some cases, the location has an impact on the probability that a link exists.\n",
    "\n",
    "### Hypergraphs ### \n",
    "\n",
    "In **hypergraphs** edges denote *higher-order* interactions that involve more than two\n",
    "vertices, e.g, $E \\subset V\\times V\\times V$.\n",
    "For instance, we may represent as hypergraphs:\n",
    "- scientific collaboration graphs \n",
    "- co-location graphs"
   ]
  },
  {
   "cell_type": "markdown",
   "metadata": {
    "slideshow": {
     "slide_type": "slide"
    }
   },
   "source": [
    "## Network analysis and modeling ##\n",
    "\n",
    "Based on the scope and goal, the study of a system may be classified as\n",
    "\n",
    "1. **Exploratory**: a descriptive analysis aimed at producing a clear view of the kinds of statistical patterns that exist in a network \n",
    "2. **Explanatory**: an analysis that seeks to \"explain\" some observed pattern as being driven by some other, hopefully more fundamental variable\n",
    "3. **Predictive**: a type of modeling that aims to construct a predictive model of either node attributes (including future state variables) or structural features, using other network information as the input \n",
    "4. **Causal**: a modeling effort whose goal is the identification of cause-and-effect relations that involve networks"
   ]
  },
  {
   "cell_type": "markdown",
   "metadata": {
    "slideshow": {
     "slide_type": "slide"
    }
   },
   "source": [
    "## Network analysis and modeling ##\n",
    "\n",
    "Example: news diffusion in social networks\n",
    "- exploratory: identify the paths that a specific news piece followed on a social network\n",
    "- explanatory: show that such paths are long when they start at a \"central\" vertex, short otherwise\n",
    "- predictive: given a news piece and a starting vertex, predict the length of the diffusion path\n",
    "- causal: show that sharing a news piece is indeed driven by influence from friends' behavior; when a path starts from a central vertex, it is just more likely that some of your friends will share that news piece"
   ]
  },
  {
   "cell_type": "markdown",
   "metadata": {
    "slideshow": {
     "slide_type": "slide"
    }
   },
   "source": [
    "### Exploratory analysis ###\n",
    "\n",
    "- largely **unsupervised** \n",
    "- based on **statistical summaries** of the network's structure\n",
    "    - degree distribution\n",
    "    - community structure\n",
    "    - node-level measures of centrality\n",
    "- often the starting point with a new dataset: what patterns are **worth explaining**?\n",
    "- successful if it results in one or more **hypotheses** about potential causal effects or underlying mechanisms that relate to a network's structure\n",
    "- cannot test those hypotheses, but it can use **null models** to decide if some pattern is interesting: is the pattern distinguishable from \"noise\"?\n",
    "- requires **creativity**, mathematical **intuition**, **algorithmic** tools and **statistical** rigor"
   ]
  },
  {
   "cell_type": "markdown",
   "metadata": {
    "slideshow": {
     "slide_type": "slide"
    }
   },
   "source": [
    "### Exploratory analysis ###\n",
    "\n",
    "Many exploratory network analysis tasks can be reduced to estimating a **low-dimensional** form for the probability $p_{ij}$ that an edge $(i, j)$ exists, i.e., a form that depends on a limited number of variables.\n",
    "This means that the network is *simple*, its features are easier to *predict* (and to exploit).\n",
    "\n",
    "For instance, consider a pair of individuals $i$ and $j$ on Facebook.\n",
    "- $i$ and $j$ are described by *observable* attributes (shared on Facebook) and *latent* attributed (not shared)\n",
    "- there are latent attributes of the *pair* (are them family? do they work together?)\n",
    "- the existence of the edge $(i,j)$ may depend on all of these attributes and more (e.g., actions of other users on Facebook)\n",
    "\n",
    "What if $p_{ij}$ mostly depended on $i$ and $j$'s age and sex?"
   ]
  },
  {
   "cell_type": "markdown",
   "metadata": {
    "slideshow": {
     "slide_type": "slide"
    }
   },
   "source": [
    "### Explanatory analysis ###\n",
    "\n",
    "- often takes the form of explaining how some attribute of a node **correlates** with the network structural patterns that surround that node\n",
    "- often based on converting the network itself into additional node-level features and then carry out traditional explanatory modeling\n",
    "- beware: the network characteristics of a node may be **mutually dependent** \n",
    "\n",
    "Example:\n",
    "- what is the relation between a node's wealth, central position in the network and influence on other nodes?\n",
    "- we may measure the centrality, measure the influence (how?) and test for correlation of the three attributes\n",
    "- if network influence and network centrality are *always* correlated, which one is *truly* related to wealth?"
   ]
  },
  {
   "cell_type": "markdown",
   "metadata": {
    "slideshow": {
     "slide_type": "slide"
    }
   },
   "source": [
    "### Predictive analysis ###\n",
    "\n",
    "Often uses machine learning: classification, regression, Bayesian models, etc.\n",
    "\n",
    "Example: **recommendation** algorithms (e.g., on Netflix or Amazon) are **link prediction** algorithms\n",
    "- bipartite user-product network\n",
    "- node attributes describe users and products\n",
    "- can we predict which links are *missing*?\n",
    "- if we just consider users (or project onto the user side), we get Facebook's \"People You May Know\", Instagram's \"Suggestions for you\", or Twitter's \"Who to follow\""
   ]
  },
  {
   "cell_type": "markdown",
   "metadata": {
    "slideshow": {
     "slide_type": "slide"
    }
   },
   "source": [
    "### Causal analysis ###\n",
    "\n",
    "- statisticians and machine learners favor **causal inference** models that can be applied to an observed network and its dynamics\n",
    "    - may be complex to disentangle different \"paths\" of influence, but do not require controlled experiments\n",
    "- biologists and some social scientists often favor **network experiments**, e.g., inducing some change in the network and then observing the subsequent effects\n",
    "    - may be impossible or very expensive, because it requires access to the (entire) network\n",
    "- mathematicians and physicists tend to favor **mathematical models**: embed causality in the model (e.g., a stochastic process), and compare the predictions of the model with empirical data\n",
    "    - in general, you may verify that a model is *sufficient* to explain a phenomenon, not that it is *necessary* (are there alternative explanations?)\n",
    "    \n",
    "Causal modeling is often **hypothesis driven**: we already have in mind some notion of why and how an effect of interest comes about."
   ]
  },
  {
   "cell_type": "markdown",
   "metadata": {
    "slideshow": {
     "slide_type": "slide"
    }
   },
   "source": [
    "## A brief introduction to python-igraph ##\n",
    "\n",
    "There are many libraries for network analysis in python.\n",
    "My favorite is [python-igraph](https://igraph.org/python/)\n",
    "\n",
    "<img src=\"images/igraph.png\" alt=\"Igraph logo\" title=\"Igraph logo\" style=\"width: 300px;\"/>\n",
    "\n",
    " * written in C/C++ with interfaces to Python and R \n",
    " * pros: performance and speed; cons: installation can be a hurdle\n",
    " \n",
    "A tutorial is available [here](https://igraph.org/python/tutorial/latest/tutorial.html)."
   ]
  },
  {
   "cell_type": "code",
   "execution_count": 2,
   "metadata": {
    "slideshow": {
     "slide_type": "slide"
    }
   },
   "outputs": [],
   "source": [
    "# import the module\n",
    "import igraph\n",
    "\n",
    "# create an empty graph\n",
    "G = igraph.Graph()\n",
    "\n",
    "# add 10 vertices\n",
    "G.add_vertices(10)\n",
    "\n",
    "# label the vertices with increasing indices from 0 to 9\n",
    "# sto assegnando ad ogni grafo un attributo label con interi crescenti. Posso usare i label che voglio ma in questo caso uso gli \n",
    "# dei label uguali agli indici dei nodi\n",
    "G.vs['label'] = range(10)\n",
    "\n",
    "# add a few edges \n",
    "# sto aggiungendo gli archi passando le coppie ordinate da nodo partenza a nodo di arrivo a lui connesso\n",
    "G.add_edges([(0,1),(0,2),(0,4),(1,2),(1,3),(2,4),(3,4),(3,5),(4,5),(6,7),(6,8),(6,9),(8,9)])\n",
    "\n",
    "#NB quando aggiungo un edge in questo modo sto aggiungengo un arco non orientato"
   ]
  },
  {
   "cell_type": "code",
   "execution_count": 9,
   "metadata": {
    "slideshow": {
     "slide_type": "slide"
    }
   },
   "outputs": [
    {
     "data": {
      "image/svg+xml": [
       "<?xml version=\"1.0\" encoding=\"UTF-8\"?>\n",
       "<svg xmlns=\"http://www.w3.org/2000/svg\" xmlns:xlink=\"http://www.w3.org/1999/xlink\" width=\"300pt\" height=\"300pt\" viewBox=\"0 0 300 300\" version=\"1.1\">\n",
       "<defs>\n",
       "<g>\n",
       "<symbol overflow=\"visible\" id=\"glyph0-0\">\n",
       "<path style=\"stroke:none;\" d=\"M 1.75 0 L 1.75 -8.75 L 8.75 -8.75 L 8.75 0 Z M 1.96875 -0.21875 L 8.53125 -0.21875 L 8.53125 -8.53125 L 1.96875 -8.53125 Z M 1.96875 -0.21875 \"/>\n",
       "</symbol>\n",
       "<symbol overflow=\"visible\" id=\"glyph0-1\">\n",
       "<path style=\"stroke:none;\" d=\"M 0.582031 -4.941406 C 0.578125 -6.121094 0.699219 -7.074219 0.945313 -7.800781 C 1.1875 -8.519531 1.550781 -9.078125 2.03125 -9.472656 C 2.511719 -9.863281 3.117188 -10.058594 3.847656 -10.0625 C 4.382813 -10.058594 4.855469 -9.953125 5.261719 -9.738281 C 5.667969 -9.519531 6 -9.207031 6.265625 -8.800781 C 6.527344 -8.390625 6.738281 -7.890625 6.890625 -7.308594 C 7.039063 -6.722656 7.113281 -5.933594 7.117188 -4.941406 C 7.113281 -3.761719 6.992188 -2.8125 6.753906 -2.09375 C 6.507813 -1.367188 6.144531 -0.808594 5.667969 -0.417969 C 5.183594 -0.0234375 4.578125 0.167969 3.847656 0.171875 C 2.878906 0.167969 2.121094 -0.175781 1.570313 -0.867188 C 0.910156 -1.699219 0.578125 -3.054688 0.582031 -4.941406 Z M 1.84375 -4.941406 C 1.839844 -3.292969 2.03125 -2.199219 2.421875 -1.65625 C 2.804688 -1.109375 3.28125 -0.835938 3.847656 -0.839844 C 4.410156 -0.835938 4.886719 -1.109375 5.273438 -1.660156 C 5.65625 -2.203125 5.847656 -3.296875 5.851563 -4.941406 C 5.847656 -6.589844 5.65625 -7.6875 5.273438 -8.230469 C 4.886719 -8.769531 4.40625 -9.039063 3.835938 -9.042969 C 3.269531 -9.039063 2.816406 -8.800781 2.480469 -8.328125 C 2.050781 -7.710938 1.839844 -6.582031 1.84375 -4.941406 Z M 1.84375 -4.941406 \"/>\n",
       "</symbol>\n",
       "<symbol overflow=\"visible\" id=\"glyph0-2\">\n",
       "<path style=\"stroke:none;\" d=\"M 5.214844 0 L 3.984375 0 L 3.984375 -7.839844 C 3.6875 -7.558594 3.296875 -7.273438 2.816406 -6.992188 C 2.335938 -6.707031 1.90625 -6.496094 1.523438 -6.359375 L 1.523438 -7.546875 C 2.210938 -7.867188 2.8125 -8.257813 3.328125 -8.722656 C 3.84375 -9.179688 4.207031 -9.625 4.421875 -10.0625 L 5.214844 -10.0625 Z M 5.214844 0 \"/>\n",
       "</symbol>\n",
       "<symbol overflow=\"visible\" id=\"glyph0-3\">\n",
       "<path style=\"stroke:none;\" d=\"M 7.046875 -1.183594 L 7.046875 0 L 0.421875 0 C 0.414063 -0.296875 0.460938 -0.582031 0.566406 -0.855469 C 0.734375 -1.304688 1.003906 -1.746094 1.375 -2.1875 C 1.746094 -2.621094 2.285156 -3.128906 2.988281 -3.703125 C 4.074219 -4.597656 4.808594 -5.304688 5.195313 -5.828125 C 5.574219 -6.347656 5.765625 -6.839844 5.769531 -7.308594 C 5.765625 -7.792969 5.589844 -8.203125 5.246094 -8.539063 C 4.894531 -8.871094 4.441406 -9.039063 3.882813 -9.042969 C 3.285156 -9.039063 2.8125 -8.863281 2.460938 -8.507813 C 2.105469 -8.152344 1.925781 -7.660156 1.921875 -7.035156 L 0.65625 -7.164063 C 0.742188 -8.105469 1.066406 -8.824219 1.632813 -9.320313 C 2.195313 -9.8125 2.953125 -10.058594 3.910156 -10.0625 C 4.867188 -10.058594 5.628906 -9.792969 6.191406 -9.261719 C 6.75 -8.726563 7.03125 -8.066406 7.035156 -7.28125 C 7.03125 -6.878906 6.949219 -6.484375 6.789063 -6.097656 C 6.621094 -5.707031 6.347656 -5.296875 5.96875 -4.871094 C 5.585938 -4.441406 4.953125 -3.855469 4.074219 -3.109375 C 3.332031 -2.488281 2.859375 -2.066406 2.652344 -1.847656 C 2.4375 -1.621094 2.265625 -1.402344 2.132813 -1.183594 Z M 7.046875 -1.183594 \"/>\n",
       "</symbol>\n",
       "<symbol overflow=\"visible\" id=\"glyph0-4\">\n",
       "<path style=\"stroke:none;\" d=\"M 0.585938 -2.644531 L 1.820313 -2.808594 C 1.957031 -2.109375 2.195313 -1.609375 2.539063 -1.300781 C 2.875 -0.992188 3.289063 -0.835938 3.78125 -0.839844 C 4.355469 -0.835938 4.84375 -1.039063 5.246094 -1.441406 C 5.640625 -1.839844 5.839844 -2.335938 5.84375 -2.933594 C 5.839844 -3.496094 5.65625 -3.960938 5.289063 -4.332031 C 4.917969 -4.695313 4.449219 -4.878906 3.882813 -4.882813 C 3.648438 -4.878906 3.359375 -4.832031 3.015625 -4.742188 L 3.152344 -5.824219 C 3.230469 -5.816406 3.296875 -5.8125 3.351563 -5.8125 C 3.875 -5.8125 4.34375 -5.949219 4.765625 -6.222656 C 5.179688 -6.496094 5.390625 -6.914063 5.394531 -7.484375 C 5.390625 -7.933594 5.238281 -8.308594 4.933594 -8.605469 C 4.628906 -8.898438 4.234375 -9.046875 3.753906 -9.050781 C 3.273438 -9.046875 2.875 -8.894531 2.554688 -8.597656 C 2.234375 -8.292969 2.027344 -7.84375 1.941406 -7.246094 L 0.710938 -7.464844 C 0.859375 -8.289063 1.203125 -8.925781 1.734375 -9.382813 C 2.265625 -9.832031 2.929688 -10.058594 3.726563 -10.0625 C 4.273438 -10.058594 4.773438 -9.941406 5.234375 -9.710938 C 5.691406 -9.472656 6.042969 -9.152344 6.289063 -8.75 C 6.53125 -8.339844 6.65625 -7.910156 6.65625 -7.457031 C 6.65625 -7.023438 6.539063 -6.628906 6.308594 -6.273438 C 6.074219 -5.917969 5.730469 -5.636719 5.277344 -5.429688 C 5.867188 -5.289063 6.328125 -5.003906 6.65625 -4.574219 C 6.984375 -4.140625 7.148438 -3.601563 7.148438 -2.960938 C 7.148438 -2.082031 6.828125 -1.339844 6.191406 -0.734375 C 5.550781 -0.125 4.746094 0.175781 3.773438 0.179688 C 2.890625 0.175781 2.160156 -0.0820313 1.582031 -0.605469 C 1 -1.128906 0.667969 -1.808594 0.585938 -2.644531 Z M 0.585938 -2.644531 \"/>\n",
       "</symbol>\n",
       "<symbol overflow=\"visible\" id=\"glyph0-5\">\n",
       "<path style=\"stroke:none;\" d=\"M 4.523438 0 L 4.523438 -2.398438 L 0.179688 -2.398438 L 0.179688 -3.527344 L 4.75 -10.023438 L 5.757813 -10.023438 L 5.757813 -3.527344 L 7.109375 -3.527344 L 7.109375 -2.398438 L 5.757813 -2.398438 L 5.757813 0 Z M 4.523438 -3.527344 L 4.523438 -8.046875 L 1.386719 -3.527344 Z M 4.523438 -3.527344 \"/>\n",
       "</symbol>\n",
       "<symbol overflow=\"visible\" id=\"glyph0-6\">\n",
       "<path style=\"stroke:none;\" d=\"M 0.582031 -2.625 L 1.875 -2.734375 C 1.96875 -2.101563 2.1875 -1.628906 2.539063 -1.3125 C 2.882813 -0.996094 3.304688 -0.835938 3.800781 -0.839844 C 4.390625 -0.835938 4.890625 -1.058594 5.304688 -1.507813 C 5.710938 -1.953125 5.917969 -2.546875 5.921875 -3.289063 C 5.917969 -3.984375 5.71875 -4.539063 5.328125 -4.949219 C 4.929688 -5.351563 4.414063 -5.554688 3.78125 -5.558594 C 3.382813 -5.554688 3.027344 -5.464844 2.707031 -5.285156 C 2.386719 -5.105469 2.132813 -4.871094 1.953125 -4.585938 L 0.800781 -4.738281 L 1.769531 -9.882813 L 6.753906 -9.882813 L 6.753906 -8.710938 L 2.753906 -8.710938 L 2.214844 -6.015625 C 2.816406 -6.433594 3.445313 -6.644531 4.109375 -6.644531 C 4.980469 -6.644531 5.71875 -6.339844 6.324219 -5.734375 C 6.921875 -5.128906 7.222656 -4.351563 7.226563 -3.398438 C 7.222656 -2.492188 6.960938 -1.707031 6.433594 -1.046875 C 5.789063 -0.234375 4.910156 0.167969 3.800781 0.171875 C 2.886719 0.167969 2.140625 -0.0820313 1.566406 -0.59375 C 0.988281 -1.101563 0.660156 -1.78125 0.582031 -2.625 Z M 0.582031 -2.625 \"/>\n",
       "</symbol>\n",
       "<symbol overflow=\"visible\" id=\"glyph0-7\">\n",
       "<path style=\"stroke:none;\" d=\"M 6.964844 -7.566406 L 5.742188 -7.472656 C 5.632813 -7.949219 5.476563 -8.300781 5.277344 -8.523438 C 4.941406 -8.871094 4.53125 -9.046875 4.046875 -9.050781 C 3.652344 -9.046875 3.308594 -8.9375 3.015625 -8.722656 C 2.625 -8.4375 2.320313 -8.023438 2.097656 -7.484375 C 1.875 -6.9375 1.757813 -6.167969 1.75 -5.167969 C 2.042969 -5.617188 2.40625 -5.949219 2.835938 -6.171875 C 3.265625 -6.386719 3.714844 -6.496094 4.183594 -6.5 C 5.003906 -6.496094 5.699219 -6.195313 6.277344 -5.59375 C 6.851563 -4.988281 7.140625 -4.207031 7.144531 -3.253906 C 7.140625 -2.621094 7.003906 -2.039063 6.734375 -1.5 C 6.460938 -0.960938 6.089844 -0.546875 5.617188 -0.257813 C 5.140625 0.0273438 4.605469 0.167969 4.007813 0.171875 C 2.980469 0.167969 2.140625 -0.207031 1.496094 -0.960938 C 0.847656 -1.714844 0.527344 -2.957031 0.527344 -4.6875 C 0.527344 -6.625 0.882813 -8.03125 1.601563 -8.914063 C 2.21875 -9.675781 3.058594 -10.058594 4.121094 -10.0625 C 4.90625 -10.058594 5.554688 -9.839844 6.058594 -9.398438 C 6.5625 -8.953125 6.863281 -8.339844 6.964844 -7.566406 Z M 1.941406 -3.246094 C 1.9375 -2.820313 2.027344 -2.414063 2.210938 -2.027344 C 2.386719 -1.640625 2.640625 -1.34375 2.964844 -1.144531 C 3.289063 -0.9375 3.628906 -0.835938 3.984375 -0.839844 C 4.503906 -0.835938 4.949219 -1.046875 5.324219 -1.46875 C 5.695313 -1.886719 5.882813 -2.457031 5.886719 -3.179688 C 5.882813 -3.871094 5.699219 -4.417969 5.332031 -4.816406 C 4.960938 -5.214844 4.496094 -5.414063 3.9375 -5.414063 C 3.378906 -5.414063 2.90625 -5.214844 2.519531 -4.816406 C 2.132813 -4.417969 1.9375 -3.894531 1.941406 -3.246094 Z M 1.941406 -3.246094 \"/>\n",
       "</symbol>\n",
       "<symbol overflow=\"visible\" id=\"glyph0-8\">\n",
       "<path style=\"stroke:none;\" d=\"M 0.664063 -8.710938 L 0.664063 -9.890625 L 7.148438 -9.890625 L 7.148438 -8.933594 C 6.511719 -8.25 5.878906 -7.347656 5.253906 -6.226563 C 4.625 -5.097656 4.140625 -3.941406 3.800781 -2.753906 C 3.550781 -1.914063 3.394531 -0.996094 3.328125 0 L 2.0625 0 C 2.078125 -0.789063 2.230469 -1.738281 2.527344 -2.855469 C 2.820313 -3.96875 3.246094 -5.046875 3.800781 -6.085938 C 4.351563 -7.121094 4.941406 -7.996094 5.570313 -8.710938 Z M 0.664063 -8.710938 \"/>\n",
       "</symbol>\n",
       "<symbol overflow=\"visible\" id=\"glyph0-9\">\n",
       "<path style=\"stroke:none;\" d=\"M 2.476563 -5.433594 C 1.964844 -5.617188 1.585938 -5.886719 1.339844 -6.234375 C 1.089844 -6.578125 0.964844 -6.992188 0.96875 -7.476563 C 0.964844 -8.203125 1.226563 -8.816406 1.753906 -9.316406 C 2.277344 -9.8125 2.976563 -10.058594 3.847656 -10.0625 C 4.71875 -10.058594 5.421875 -9.804688 5.960938 -9.300781 C 6.492188 -8.789063 6.761719 -8.171875 6.761719 -7.445313 C 6.761719 -6.976563 6.636719 -6.570313 6.394531 -6.230469 C 6.148438 -5.882813 5.78125 -5.617188 5.285156 -5.433594 C 5.898438 -5.230469 6.363281 -4.90625 6.6875 -4.460938 C 7.007813 -4.011719 7.171875 -3.480469 7.171875 -2.863281 C 7.171875 -2.003906 6.867188 -1.285156 6.261719 -0.703125 C 5.652344 -0.121094 4.855469 0.167969 3.867188 0.171875 C 2.878906 0.167969 2.082031 -0.121094 1.476563 -0.707031 C 0.867188 -1.289063 0.5625 -2.019531 0.566406 -2.898438 C 0.5625 -3.546875 0.726563 -4.09375 1.0625 -4.535156 C 1.390625 -4.972656 1.863281 -5.269531 2.476563 -5.433594 Z M 2.226563 -7.519531 C 2.226563 -7.042969 2.378906 -6.65625 2.683594 -6.355469 C 2.988281 -6.054688 3.382813 -5.90625 3.875 -5.90625 C 4.34375 -5.90625 4.734375 -6.054688 5.039063 -6.351563 C 5.34375 -6.648438 5.496094 -7.015625 5.496094 -7.453125 C 5.496094 -7.902344 5.339844 -8.28125 5.027344 -8.589844 C 4.714844 -8.894531 4.324219 -9.046875 3.863281 -9.050781 C 3.386719 -9.046875 2.996094 -8.894531 2.691406 -8.597656 C 2.378906 -8.292969 2.226563 -7.933594 2.226563 -7.519531 Z M 1.832031 -2.890625 C 1.828125 -2.539063 1.910156 -2.203125 2.082031 -1.875 C 2.246094 -1.546875 2.496094 -1.289063 2.824219 -1.109375 C 3.152344 -0.925781 3.503906 -0.835938 3.882813 -0.839844 C 4.46875 -0.835938 4.953125 -1.027344 5.339844 -1.40625 C 5.71875 -1.785156 5.910156 -2.265625 5.914063 -2.851563 C 5.910156 -3.441406 5.714844 -3.929688 5.320313 -4.320313 C 4.925781 -4.703125 4.433594 -4.898438 3.84375 -4.902344 C 3.261719 -4.898438 2.78125 -4.707031 2.402344 -4.328125 C 2.019531 -3.941406 1.828125 -3.460938 1.832031 -2.890625 Z M 1.832031 -2.890625 \"/>\n",
       "</symbol>\n",
       "<symbol overflow=\"visible\" id=\"glyph0-10\">\n",
       "<path style=\"stroke:none;\" d=\"M 0.765625 -2.316406 L 1.949219 -2.425781 C 2.046875 -1.871094 2.238281 -1.464844 2.519531 -1.214844 C 2.800781 -0.960938 3.164063 -0.835938 3.609375 -0.839844 C 3.984375 -0.835938 4.3125 -0.921875 4.601563 -1.097656 C 4.882813 -1.269531 5.117188 -1.503906 5.304688 -1.792969 C 5.484375 -2.082031 5.636719 -2.472656 5.761719 -2.964844 C 5.878906 -3.457031 5.941406 -3.957031 5.945313 -4.46875 C 5.941406 -4.523438 5.941406 -4.605469 5.941406 -4.71875 C 5.691406 -4.320313 5.351563 -4.003906 4.929688 -3.761719 C 4.5 -3.519531 4.039063 -3.398438 3.546875 -3.398438 C 2.714844 -3.398438 2.015625 -3.699219 1.441406 -4.300781 C 0.867188 -4.902344 0.578125 -5.695313 0.582031 -6.679688 C 0.578125 -7.695313 0.878906 -8.511719 1.480469 -9.132813 C 2.078125 -9.75 2.828125 -10.058594 3.734375 -10.0625 C 4.382813 -10.058594 4.980469 -9.882813 5.519531 -9.535156 C 6.058594 -9.179688 6.46875 -8.679688 6.75 -8.035156 C 7.03125 -7.382813 7.171875 -6.445313 7.171875 -5.214844 C 7.171875 -3.933594 7.03125 -2.914063 6.753906 -2.15625 C 6.472656 -1.398438 6.058594 -0.820313 5.511719 -0.421875 C 4.960938 -0.0273438 4.316406 0.167969 3.582031 0.171875 C 2.792969 0.167969 2.152344 -0.046875 1.660156 -0.480469 C 1.160156 -0.914063 0.863281 -1.523438 0.765625 -2.316406 Z M 5.804688 -6.742188 C 5.800781 -7.445313 5.613281 -8.003906 5.238281 -8.421875 C 4.863281 -8.832031 4.410156 -9.039063 3.882813 -9.042969 C 3.332031 -9.039063 2.855469 -8.816406 2.453125 -8.371094 C 2.042969 -7.921875 1.839844 -7.34375 1.84375 -6.636719 C 1.839844 -5.996094 2.03125 -5.476563 2.421875 -5.082031 C 2.804688 -4.679688 3.28125 -4.480469 3.847656 -4.484375 C 4.414063 -4.480469 4.882813 -4.679688 5.253906 -5.082031 C 5.617188 -5.476563 5.800781 -6.03125 5.804688 -6.742188 Z M 5.804688 -6.742188 \"/>\n",
       "</symbol>\n",
       "</g>\n",
       "</defs>\n",
       "<g id=\"surface38\">\n",
       "<rect x=\"0\" y=\"0\" width=\"300\" height=\"300\" style=\"fill:rgb(100%,100%,100%);fill-opacity:1;stroke:none;\"/>\n",
       "<path style=\"fill:none;stroke-width:1;stroke-linecap:butt;stroke-linejoin:miter;stroke:rgb(26.666667%,26.666667%,26.666667%);stroke-opacity:1;stroke-miterlimit:10;\" d=\"M 271.667969 92.429688 L 280 166.679688 \"/>\n",
       "<path style=\"fill:none;stroke-width:1;stroke-linecap:butt;stroke-linejoin:miter;stroke:rgb(26.666667%,26.666667%,26.666667%);stroke-opacity:1;stroke-miterlimit:10;\" d=\"M 271.667969 92.429688 L 222.992188 92.917969 \"/>\n",
       "<path style=\"fill:none;stroke-width:1;stroke-linecap:butt;stroke-linejoin:miter;stroke:rgb(26.666667%,26.666667%,26.666667%);stroke-opacity:1;stroke-miterlimit:10;\" d=\"M 271.667969 92.429688 L 208.097656 180.761719 \"/>\n",
       "<path style=\"fill:none;stroke-width:1;stroke-linecap:butt;stroke-linejoin:miter;stroke:rgb(26.666667%,26.666667%,26.666667%);stroke-opacity:1;stroke-miterlimit:10;\" d=\"M 280 166.679688 L 222.992188 92.917969 \"/>\n",
       "<path style=\"fill:none;stroke-width:1;stroke-linecap:butt;stroke-linejoin:miter;stroke:rgb(26.666667%,26.666667%,26.666667%);stroke-opacity:1;stroke-miterlimit:10;\" d=\"M 280 166.679688 L 238.828125 256.589844 \"/>\n",
       "<path style=\"fill:none;stroke-width:1;stroke-linecap:butt;stroke-linejoin:miter;stroke:rgb(26.666667%,26.666667%,26.666667%);stroke-opacity:1;stroke-miterlimit:10;\" d=\"M 222.992188 92.917969 L 208.097656 180.761719 \"/>\n",
       "<path style=\"fill:none;stroke-width:1;stroke-linecap:butt;stroke-linejoin:miter;stroke:rgb(26.666667%,26.666667%,26.666667%);stroke-opacity:1;stroke-miterlimit:10;\" d=\"M 238.828125 256.589844 L 208.097656 180.761719 \"/>\n",
       "<path style=\"fill:none;stroke-width:1;stroke-linecap:butt;stroke-linejoin:miter;stroke:rgb(26.666667%,26.666667%,26.666667%);stroke-opacity:1;stroke-miterlimit:10;\" d=\"M 238.828125 256.589844 L 173.683594 280 \"/>\n",
       "<path style=\"fill:none;stroke-width:1;stroke-linecap:butt;stroke-linejoin:miter;stroke:rgb(26.666667%,26.666667%,26.666667%);stroke-opacity:1;stroke-miterlimit:10;\" d=\"M 208.097656 180.761719 L 173.683594 280 \"/>\n",
       "<path style=\"fill:none;stroke-width:1;stroke-linecap:butt;stroke-linejoin:miter;stroke:rgb(26.666667%,26.666667%,26.666667%);stroke-opacity:1;stroke-miterlimit:10;\" d=\"M 39.121094 103.777344 L 20 200.242188 \"/>\n",
       "<path style=\"fill:none;stroke-width:1;stroke-linecap:butt;stroke-linejoin:miter;stroke:rgb(26.666667%,26.666667%,26.666667%);stroke-opacity:1;stroke-miterlimit:10;\" d=\"M 39.121094 103.777344 L 28.019531 20.457031 \"/>\n",
       "<path style=\"fill:none;stroke-width:1;stroke-linecap:butt;stroke-linejoin:miter;stroke:rgb(26.666667%,26.666667%,26.666667%);stroke-opacity:1;stroke-miterlimit:10;\" d=\"M 39.121094 103.777344 L 83.933594 20 \"/>\n",
       "<path style=\"fill:none;stroke-width:1;stroke-linecap:butt;stroke-linejoin:miter;stroke:rgb(26.666667%,26.666667%,26.666667%);stroke-opacity:1;stroke-miterlimit:10;\" d=\"M 28.019531 20.457031 L 83.933594 20 \"/>\n",
       "<path style=\"fill-rule:nonzero;fill:rgb(100%,0%,0%);fill-opacity:1;stroke-width:1;stroke-linecap:butt;stroke-linejoin:miter;stroke:rgb(0%,0%,0%);stroke-opacity:1;stroke-miterlimit:10;\" d=\"M 281.667969 92.429688 C 281.667969 97.953125 277.1875 102.429688 271.667969 102.429688 C 266.144531 102.429688 261.667969 97.953125 261.667969 92.429688 C 261.667969 86.910156 266.144531 82.429688 271.667969 82.429688 C 277.1875 82.429688 281.667969 86.910156 281.667969 92.429688 \"/>\n",
       "<path style=\"fill-rule:nonzero;fill:rgb(100%,0%,0%);fill-opacity:1;stroke-width:1;stroke-linecap:butt;stroke-linejoin:miter;stroke:rgb(0%,0%,0%);stroke-opacity:1;stroke-miterlimit:10;\" d=\"M 290 166.679688 C 290 172.203125 285.523438 176.679688 280 176.679688 C 274.476563 176.679688 270 172.203125 270 166.679688 C 270 161.15625 274.476563 156.679688 280 156.679688 C 285.523438 156.679688 290 161.15625 290 166.679688 \"/>\n",
       "<path style=\"fill-rule:nonzero;fill:rgb(100%,0%,0%);fill-opacity:1;stroke-width:1;stroke-linecap:butt;stroke-linejoin:miter;stroke:rgb(0%,0%,0%);stroke-opacity:1;stroke-miterlimit:10;\" d=\"M 232.992188 92.917969 C 232.992188 98.4375 228.515625 102.917969 222.992188 102.917969 C 217.46875 102.917969 212.992188 98.4375 212.992188 92.917969 C 212.992188 87.394531 217.46875 82.917969 222.992188 82.917969 C 228.515625 82.917969 232.992188 87.394531 232.992188 92.917969 \"/>\n",
       "<path style=\"fill-rule:nonzero;fill:rgb(100%,0%,0%);fill-opacity:1;stroke-width:1;stroke-linecap:butt;stroke-linejoin:miter;stroke:rgb(0%,0%,0%);stroke-opacity:1;stroke-miterlimit:10;\" d=\"M 248.828125 256.589844 C 248.828125 262.113281 244.351563 266.589844 238.828125 266.589844 C 233.304688 266.589844 228.828125 262.113281 228.828125 256.589844 C 228.828125 251.066406 233.304688 246.589844 238.828125 246.589844 C 244.351563 246.589844 248.828125 251.066406 248.828125 256.589844 \"/>\n",
       "<path style=\"fill-rule:nonzero;fill:rgb(100%,0%,0%);fill-opacity:1;stroke-width:1;stroke-linecap:butt;stroke-linejoin:miter;stroke:rgb(0%,0%,0%);stroke-opacity:1;stroke-miterlimit:10;\" d=\"M 218.097656 180.761719 C 218.097656 186.285156 213.617188 190.761719 208.097656 190.761719 C 202.574219 190.761719 198.097656 186.285156 198.097656 180.761719 C 198.097656 175.238281 202.574219 170.761719 208.097656 170.761719 C 213.617188 170.761719 218.097656 175.238281 218.097656 180.761719 \"/>\n",
       "<path style=\"fill-rule:nonzero;fill:rgb(100%,0%,0%);fill-opacity:1;stroke-width:1;stroke-linecap:butt;stroke-linejoin:miter;stroke:rgb(0%,0%,0%);stroke-opacity:1;stroke-miterlimit:10;\" d=\"M 183.683594 280 C 183.683594 285.523438 179.207031 290 173.683594 290 C 168.160156 290 163.683594 285.523438 163.683594 280 C 163.683594 274.476563 168.160156 270 173.683594 270 C 179.207031 270 183.683594 274.476563 183.683594 280 \"/>\n",
       "<path style=\"fill-rule:nonzero;fill:rgb(100%,0%,0%);fill-opacity:1;stroke-width:1;stroke-linecap:butt;stroke-linejoin:miter;stroke:rgb(0%,0%,0%);stroke-opacity:1;stroke-miterlimit:10;\" d=\"M 49.121094 103.777344 C 49.121094 109.300781 44.644531 113.777344 39.121094 113.777344 C 33.597656 113.777344 29.121094 109.300781 29.121094 103.777344 C 29.121094 98.253906 33.597656 93.777344 39.121094 93.777344 C 44.644531 93.777344 49.121094 98.253906 49.121094 103.777344 \"/>\n",
       "<path style=\"fill-rule:nonzero;fill:rgb(100%,0%,0%);fill-opacity:1;stroke-width:1;stroke-linecap:butt;stroke-linejoin:miter;stroke:rgb(0%,0%,0%);stroke-opacity:1;stroke-miterlimit:10;\" d=\"M 30 200.242188 C 30 205.765625 25.523438 210.242188 20 210.242188 C 14.476563 210.242188 10 205.765625 10 200.242188 C 10 194.722656 14.476563 190.242188 20 190.242188 C 25.523438 190.242188 30 194.722656 30 200.242188 \"/>\n",
       "<path style=\"fill-rule:nonzero;fill:rgb(100%,0%,0%);fill-opacity:1;stroke-width:1;stroke-linecap:butt;stroke-linejoin:miter;stroke:rgb(0%,0%,0%);stroke-opacity:1;stroke-miterlimit:10;\" d=\"M 38.019531 20.457031 C 38.019531 25.980469 33.542969 30.457031 28.019531 30.457031 C 22.496094 30.457031 18.019531 25.980469 18.019531 20.457031 C 18.019531 14.933594 22.496094 10.457031 28.019531 10.457031 C 33.542969 10.457031 38.019531 14.933594 38.019531 20.457031 \"/>\n",
       "<path style=\"fill-rule:nonzero;fill:rgb(100%,0%,0%);fill-opacity:1;stroke-width:1;stroke-linecap:butt;stroke-linejoin:miter;stroke:rgb(0%,0%,0%);stroke-opacity:1;stroke-miterlimit:10;\" d=\"M 93.933594 20 C 93.933594 25.523438 89.457031 30 83.933594 30 C 78.414063 30 73.933594 25.523438 73.933594 20 C 73.933594 14.476563 78.414063 10 83.933594 10 C 89.457031 10 93.933594 14.476563 93.933594 20 \"/>\n",
       "<g style=\"fill:rgb(0%,0%,0%);fill-opacity:1;\">\n",
       "  <use xlink:href=\"#glyph0-1\" x=\"267.816406\" y=\"98.960938\"/>\n",
       "</g>\n",
       "<g style=\"fill:rgb(0%,0%,0%);fill-opacity:1;\">\n",
       "  <use xlink:href=\"#glyph0-2\" x=\"276.628906\" y=\"173.210938\"/>\n",
       "</g>\n",
       "<g style=\"fill:rgb(0%,0%,0%);fill-opacity:1;\">\n",
       "  <use xlink:href=\"#glyph0-3\" x=\"219.261719\" y=\"99.449219\"/>\n",
       "</g>\n",
       "<g style=\"fill:rgb(0%,0%,0%);fill-opacity:1;\">\n",
       "  <use xlink:href=\"#glyph0-4\" x=\"234.960938\" y=\"263.121094\"/>\n",
       "</g>\n",
       "<g style=\"fill:rgb(0%,0%,0%);fill-opacity:1;\">\n",
       "  <use xlink:href=\"#glyph0-5\" x=\"204.453125\" y=\"187.273438\"/>\n",
       "</g>\n",
       "<g style=\"fill:rgb(0%,0%,0%);fill-opacity:1;\">\n",
       "  <use xlink:href=\"#glyph0-6\" x=\"169.78125\" y=\"286.441406\"/>\n",
       "</g>\n",
       "<g style=\"fill:rgb(0%,0%,0%);fill-opacity:1;\">\n",
       "  <use xlink:href=\"#glyph0-7\" x=\"35.285156\" y=\"110.308594\"/>\n",
       "</g>\n",
       "<g style=\"fill:rgb(0%,0%,0%);fill-opacity:1;\">\n",
       "  <use xlink:href=\"#glyph0-8\" x=\"16.09375\" y=\"206.6875\"/>\n",
       "</g>\n",
       "<g style=\"fill:rgb(0%,0%,0%);fill-opacity:1;\">\n",
       "  <use xlink:href=\"#glyph0-9\" x=\"24.152344\" y=\"26.988281\"/>\n",
       "</g>\n",
       "<g style=\"fill:rgb(0%,0%,0%);fill-opacity:1;\">\n",
       "  <use xlink:href=\"#glyph0-10\" x=\"80.058594\" y=\"26.53125\"/>\n",
       "</g>\n",
       "</g>\n",
       "</svg>\n"
      ],
      "text/plain": [
       "<igraph.drawing.Plot at 0x1eeae00cf40>"
      ]
     },
     "execution_count": 9,
     "metadata": {
      "image/svg+xml": {
       "isolated": true
      }
     },
     "output_type": "execute_result"
    }
   ],
   "source": [
    "# set a visual style for the plot\n",
    "visual_style = {\"bbox\":(300,300), \"margin\":20}\n",
    "#bbox: quanto grande la figura\n",
    "#margin: grandezza del margine della figura\n",
    "\n",
    "# plot G\n",
    "igraph.plot(G, **visual_style)"
   ]
  },
  {
   "cell_type": "code",
   "execution_count": 10,
   "metadata": {
    "slideshow": {
     "slide_type": "slide"
    }
   },
   "outputs": [
    {
     "name": "stdout",
     "output_type": "stream",
     "text": [
      "IGRAPH U--- 10 13 -- \n",
      "+ attr: label (v)\n",
      "\n",
      "in the above summary:\n",
      "- U stands for \"undirected\", alternative is D for \"directed\"\n",
      "- the second letter is N if the graph has a vertex attribute called name, or a dash otherwise\n",
      "- the third letter is W if the graph is weighted, or a dash otherwise\n",
      "- the fourth letter is B if the graph has a vertex attribute called type (B stands for \"bipartite\"), or a dash otherwise\n",
      "- the two numbers are the number of vertices and the number of edges\n",
      "\n"
     ]
    }
   ],
   "source": [
    "# show a summary of G's characteristics\n",
    "print(G.summary())\n",
    "print('''\n",
    "in the above summary:\n",
    "- U stands for \"undirected\", alternative is D for \"directed\"\n",
    "- the second letter is N if the graph has a vertex attribute called name, or a dash otherwise\n",
    "- the third letter is W if the graph is weighted, or a dash otherwise\n",
    "- the fourth letter is B if the graph has a vertex attribute called type (B stands for \"bipartite\"), or a dash otherwise\n",
    "- the two numbers are the number of vertices and the number of edges\n",
    "''')"
   ]
  },
  {
   "cell_type": "code",
   "execution_count": 11,
   "metadata": {
    "slideshow": {
     "slide_type": "slide"
    }
   },
   "outputs": [
    {
     "name": "stdout",
     "output_type": "stream",
     "text": [
      "number of vertices in G: 10\n",
      "number of edges in G: 13\n",
      "G has the following vertex attributes: ['label']\n",
      "G has the following edge attributes: []\n"
     ]
    }
   ],
   "source": [
    "# the number of vertices and edges can be directly obtained like this:\n",
    "print('number of vertices in G:', G.vcount())\n",
    "print('number of edges in G:', G.ecount())\n",
    "\n",
    "# list of vertex and edge attributed (if any):\n",
    "print('G has the following vertex attributes:', G.vertex_attributes())\n",
    "print('G has the following edge attributes:', G.edge_attributes())"
   ]
  },
  {
   "cell_type": "code",
   "execution_count": 14,
   "metadata": {
    "scrolled": false,
    "slideshow": {
     "slide_type": "slide"
    }
   },
   "outputs": [
    {
     "name": "stdout",
     "output_type": "stream",
     "text": [
      "is G graph connected? False\n",
      "this is one of the components:\n"
     ]
    },
    {
     "data": {
      "image/svg+xml": [
       "<?xml version=\"1.0\" encoding=\"UTF-8\"?>\n",
       "<svg xmlns=\"http://www.w3.org/2000/svg\" xmlns:xlink=\"http://www.w3.org/1999/xlink\" width=\"300pt\" height=\"300pt\" viewBox=\"0 0 300 300\" version=\"1.1\">\n",
       "<defs>\n",
       "<g>\n",
       "<symbol overflow=\"visible\" id=\"glyph0-0\">\n",
       "<path style=\"stroke:none;\" d=\"M 1.75 0 L 1.75 -8.75 L 8.75 -8.75 L 8.75 0 Z M 1.96875 -0.21875 L 8.53125 -0.21875 L 8.53125 -8.53125 L 1.96875 -8.53125 Z M 1.96875 -0.21875 \"/>\n",
       "</symbol>\n",
       "<symbol overflow=\"visible\" id=\"glyph0-1\">\n",
       "<path style=\"stroke:none;\" d=\"M 0.582031 -4.941406 C 0.578125 -6.121094 0.699219 -7.074219 0.945313 -7.800781 C 1.1875 -8.519531 1.550781 -9.078125 2.03125 -9.472656 C 2.511719 -9.863281 3.117188 -10.058594 3.847656 -10.0625 C 4.382813 -10.058594 4.855469 -9.953125 5.261719 -9.738281 C 5.667969 -9.519531 6 -9.207031 6.265625 -8.800781 C 6.527344 -8.390625 6.738281 -7.890625 6.890625 -7.308594 C 7.039063 -6.722656 7.113281 -5.933594 7.117188 -4.941406 C 7.113281 -3.761719 6.992188 -2.8125 6.753906 -2.09375 C 6.507813 -1.367188 6.144531 -0.808594 5.667969 -0.417969 C 5.183594 -0.0234375 4.578125 0.167969 3.847656 0.171875 C 2.878906 0.167969 2.121094 -0.175781 1.570313 -0.867188 C 0.910156 -1.699219 0.578125 -3.054688 0.582031 -4.941406 Z M 1.84375 -4.941406 C 1.839844 -3.292969 2.03125 -2.199219 2.421875 -1.65625 C 2.804688 -1.109375 3.28125 -0.835938 3.847656 -0.839844 C 4.410156 -0.835938 4.886719 -1.109375 5.273438 -1.660156 C 5.65625 -2.203125 5.847656 -3.296875 5.851563 -4.941406 C 5.847656 -6.589844 5.65625 -7.6875 5.273438 -8.230469 C 4.886719 -8.769531 4.40625 -9.039063 3.835938 -9.042969 C 3.269531 -9.039063 2.816406 -8.800781 2.480469 -8.328125 C 2.050781 -7.710938 1.839844 -6.582031 1.84375 -4.941406 Z M 1.84375 -4.941406 \"/>\n",
       "</symbol>\n",
       "<symbol overflow=\"visible\" id=\"glyph0-2\">\n",
       "<path style=\"stroke:none;\" d=\"M 5.214844 0 L 3.984375 0 L 3.984375 -7.839844 C 3.6875 -7.558594 3.296875 -7.273438 2.816406 -6.992188 C 2.335938 -6.707031 1.90625 -6.496094 1.523438 -6.359375 L 1.523438 -7.546875 C 2.210938 -7.867188 2.8125 -8.257813 3.328125 -8.722656 C 3.84375 -9.179688 4.207031 -9.625 4.421875 -10.0625 L 5.214844 -10.0625 Z M 5.214844 0 \"/>\n",
       "</symbol>\n",
       "<symbol overflow=\"visible\" id=\"glyph0-3\">\n",
       "<path style=\"stroke:none;\" d=\"M 7.046875 -1.183594 L 7.046875 0 L 0.421875 0 C 0.414063 -0.296875 0.460938 -0.582031 0.566406 -0.855469 C 0.734375 -1.304688 1.003906 -1.746094 1.375 -2.1875 C 1.746094 -2.621094 2.285156 -3.128906 2.988281 -3.703125 C 4.074219 -4.597656 4.808594 -5.304688 5.195313 -5.828125 C 5.574219 -6.347656 5.765625 -6.839844 5.769531 -7.308594 C 5.765625 -7.792969 5.589844 -8.203125 5.246094 -8.539063 C 4.894531 -8.871094 4.441406 -9.039063 3.882813 -9.042969 C 3.285156 -9.039063 2.8125 -8.863281 2.460938 -8.507813 C 2.105469 -8.152344 1.925781 -7.660156 1.921875 -7.035156 L 0.65625 -7.164063 C 0.742188 -8.105469 1.066406 -8.824219 1.632813 -9.320313 C 2.195313 -9.8125 2.953125 -10.058594 3.910156 -10.0625 C 4.867188 -10.058594 5.628906 -9.792969 6.191406 -9.261719 C 6.75 -8.726563 7.03125 -8.066406 7.035156 -7.28125 C 7.03125 -6.878906 6.949219 -6.484375 6.789063 -6.097656 C 6.621094 -5.707031 6.347656 -5.296875 5.96875 -4.871094 C 5.585938 -4.441406 4.953125 -3.855469 4.074219 -3.109375 C 3.332031 -2.488281 2.859375 -2.066406 2.652344 -1.847656 C 2.4375 -1.621094 2.265625 -1.402344 2.132813 -1.183594 Z M 7.046875 -1.183594 \"/>\n",
       "</symbol>\n",
       "<symbol overflow=\"visible\" id=\"glyph0-4\">\n",
       "<path style=\"stroke:none;\" d=\"M 0.585938 -2.644531 L 1.820313 -2.808594 C 1.957031 -2.109375 2.195313 -1.609375 2.539063 -1.300781 C 2.875 -0.992188 3.289063 -0.835938 3.78125 -0.839844 C 4.355469 -0.835938 4.84375 -1.039063 5.246094 -1.441406 C 5.640625 -1.839844 5.839844 -2.335938 5.84375 -2.933594 C 5.839844 -3.496094 5.65625 -3.960938 5.289063 -4.332031 C 4.917969 -4.695313 4.449219 -4.878906 3.882813 -4.882813 C 3.648438 -4.878906 3.359375 -4.832031 3.015625 -4.742188 L 3.152344 -5.824219 C 3.230469 -5.816406 3.296875 -5.8125 3.351563 -5.8125 C 3.875 -5.8125 4.34375 -5.949219 4.765625 -6.222656 C 5.179688 -6.496094 5.390625 -6.914063 5.394531 -7.484375 C 5.390625 -7.933594 5.238281 -8.308594 4.933594 -8.605469 C 4.628906 -8.898438 4.234375 -9.046875 3.753906 -9.050781 C 3.273438 -9.046875 2.875 -8.894531 2.554688 -8.597656 C 2.234375 -8.292969 2.027344 -7.84375 1.941406 -7.246094 L 0.710938 -7.464844 C 0.859375 -8.289063 1.203125 -8.925781 1.734375 -9.382813 C 2.265625 -9.832031 2.929688 -10.058594 3.726563 -10.0625 C 4.273438 -10.058594 4.773438 -9.941406 5.234375 -9.710938 C 5.691406 -9.472656 6.042969 -9.152344 6.289063 -8.75 C 6.53125 -8.339844 6.65625 -7.910156 6.65625 -7.457031 C 6.65625 -7.023438 6.539063 -6.628906 6.308594 -6.273438 C 6.074219 -5.917969 5.730469 -5.636719 5.277344 -5.429688 C 5.867188 -5.289063 6.328125 -5.003906 6.65625 -4.574219 C 6.984375 -4.140625 7.148438 -3.601563 7.148438 -2.960938 C 7.148438 -2.082031 6.828125 -1.339844 6.191406 -0.734375 C 5.550781 -0.125 4.746094 0.175781 3.773438 0.179688 C 2.890625 0.175781 2.160156 -0.0820313 1.582031 -0.605469 C 1 -1.128906 0.667969 -1.808594 0.585938 -2.644531 Z M 0.585938 -2.644531 \"/>\n",
       "</symbol>\n",
       "<symbol overflow=\"visible\" id=\"glyph0-5\">\n",
       "<path style=\"stroke:none;\" d=\"M 4.523438 0 L 4.523438 -2.398438 L 0.179688 -2.398438 L 0.179688 -3.527344 L 4.75 -10.023438 L 5.757813 -10.023438 L 5.757813 -3.527344 L 7.109375 -3.527344 L 7.109375 -2.398438 L 5.757813 -2.398438 L 5.757813 0 Z M 4.523438 -3.527344 L 4.523438 -8.046875 L 1.386719 -3.527344 Z M 4.523438 -3.527344 \"/>\n",
       "</symbol>\n",
       "<symbol overflow=\"visible\" id=\"glyph0-6\">\n",
       "<path style=\"stroke:none;\" d=\"M 0.582031 -2.625 L 1.875 -2.734375 C 1.96875 -2.101563 2.1875 -1.628906 2.539063 -1.3125 C 2.882813 -0.996094 3.304688 -0.835938 3.800781 -0.839844 C 4.390625 -0.835938 4.890625 -1.058594 5.304688 -1.507813 C 5.710938 -1.953125 5.917969 -2.546875 5.921875 -3.289063 C 5.917969 -3.984375 5.71875 -4.539063 5.328125 -4.949219 C 4.929688 -5.351563 4.414063 -5.554688 3.78125 -5.558594 C 3.382813 -5.554688 3.027344 -5.464844 2.707031 -5.285156 C 2.386719 -5.105469 2.132813 -4.871094 1.953125 -4.585938 L 0.800781 -4.738281 L 1.769531 -9.882813 L 6.753906 -9.882813 L 6.753906 -8.710938 L 2.753906 -8.710938 L 2.214844 -6.015625 C 2.816406 -6.433594 3.445313 -6.644531 4.109375 -6.644531 C 4.980469 -6.644531 5.71875 -6.339844 6.324219 -5.734375 C 6.921875 -5.128906 7.222656 -4.351563 7.226563 -3.398438 C 7.222656 -2.492188 6.960938 -1.707031 6.433594 -1.046875 C 5.789063 -0.234375 4.910156 0.167969 3.800781 0.171875 C 2.886719 0.167969 2.140625 -0.0820313 1.566406 -0.59375 C 0.988281 -1.101563 0.660156 -1.78125 0.582031 -2.625 Z M 0.582031 -2.625 \"/>\n",
       "</symbol>\n",
       "</g>\n",
       "</defs>\n",
       "<g id=\"surface57\">\n",
       "<rect x=\"0\" y=\"0\" width=\"300\" height=\"300\" style=\"fill:rgb(100%,100%,100%);fill-opacity:1;stroke:none;\"/>\n",
       "<path style=\"fill:none;stroke-width:1;stroke-linecap:butt;stroke-linejoin:miter;stroke:rgb(26.666667%,26.666667%,26.666667%);stroke-opacity:1;stroke-miterlimit:10;\" d=\"M 280 172.285156 L 123.429688 280 \"/>\n",
       "<path style=\"fill:none;stroke-width:1;stroke-linecap:butt;stroke-linejoin:miter;stroke:rgb(26.666667%,26.666667%,26.666667%);stroke-opacity:1;stroke-miterlimit:10;\" d=\"M 280 172.285156 L 245.0625 274.074219 \"/>\n",
       "<path style=\"fill:none;stroke-width:1;stroke-linecap:butt;stroke-linejoin:miter;stroke:rgb(26.666667%,26.666667%,26.666667%);stroke-opacity:1;stroke-miterlimit:10;\" d=\"M 280 172.285156 L 165.757813 110.921875 \"/>\n",
       "<path style=\"fill:none;stroke-width:1;stroke-linecap:butt;stroke-linejoin:miter;stroke:rgb(26.666667%,26.666667%,26.666667%);stroke-opacity:1;stroke-miterlimit:10;\" d=\"M 123.429688 280 L 245.0625 274.074219 \"/>\n",
       "<path style=\"fill:none;stroke-width:1;stroke-linecap:butt;stroke-linejoin:miter;stroke:rgb(26.666667%,26.666667%,26.666667%);stroke-opacity:1;stroke-miterlimit:10;\" d=\"M 123.429688 280 L 20 162.363281 \"/>\n",
       "<path style=\"fill:none;stroke-width:1;stroke-linecap:butt;stroke-linejoin:miter;stroke:rgb(26.666667%,26.666667%,26.666667%);stroke-opacity:1;stroke-miterlimit:10;\" d=\"M 245.0625 274.074219 L 165.757813 110.921875 \"/>\n",
       "<path style=\"fill:none;stroke-width:1;stroke-linecap:butt;stroke-linejoin:miter;stroke:rgb(26.666667%,26.666667%,26.666667%);stroke-opacity:1;stroke-miterlimit:10;\" d=\"M 20 162.363281 L 165.757813 110.921875 \"/>\n",
       "<path style=\"fill:none;stroke-width:1;stroke-linecap:butt;stroke-linejoin:miter;stroke:rgb(26.666667%,26.666667%,26.666667%);stroke-opacity:1;stroke-miterlimit:10;\" d=\"M 20 162.363281 L 51.71875 20 \"/>\n",
       "<path style=\"fill:none;stroke-width:1;stroke-linecap:butt;stroke-linejoin:miter;stroke:rgb(26.666667%,26.666667%,26.666667%);stroke-opacity:1;stroke-miterlimit:10;\" d=\"M 165.757813 110.921875 L 51.71875 20 \"/>\n",
       "<path style=\"fill-rule:nonzero;fill:rgb(100%,0%,0%);fill-opacity:1;stroke-width:1;stroke-linecap:butt;stroke-linejoin:miter;stroke:rgb(0%,0%,0%);stroke-opacity:1;stroke-miterlimit:10;\" d=\"M 290 172.285156 C 290 177.804688 285.523438 182.285156 280 182.285156 C 274.476563 182.285156 270 177.804688 270 172.285156 C 270 166.761719 274.476563 162.285156 280 162.285156 C 285.523438 162.285156 290 166.761719 290 172.285156 \"/>\n",
       "<path style=\"fill-rule:nonzero;fill:rgb(100%,0%,0%);fill-opacity:1;stroke-width:1;stroke-linecap:butt;stroke-linejoin:miter;stroke:rgb(0%,0%,0%);stroke-opacity:1;stroke-miterlimit:10;\" d=\"M 133.429688 280 C 133.429688 285.523438 128.953125 290 123.429688 290 C 117.90625 290 113.429688 285.523438 113.429688 280 C 113.429688 274.476563 117.90625 270 123.429688 270 C 128.953125 270 133.429688 274.476563 133.429688 280 \"/>\n",
       "<path style=\"fill-rule:nonzero;fill:rgb(100%,0%,0%);fill-opacity:1;stroke-width:1;stroke-linecap:butt;stroke-linejoin:miter;stroke:rgb(0%,0%,0%);stroke-opacity:1;stroke-miterlimit:10;\" d=\"M 255.0625 274.074219 C 255.0625 279.597656 250.585938 284.074219 245.0625 284.074219 C 239.539063 284.074219 235.0625 279.597656 235.0625 274.074219 C 235.0625 268.550781 239.539063 264.074219 245.0625 264.074219 C 250.585938 264.074219 255.0625 268.550781 255.0625 274.074219 \"/>\n",
       "<path style=\"fill-rule:nonzero;fill:rgb(100%,0%,0%);fill-opacity:1;stroke-width:1;stroke-linecap:butt;stroke-linejoin:miter;stroke:rgb(0%,0%,0%);stroke-opacity:1;stroke-miterlimit:10;\" d=\"M 30 162.363281 C 30 167.886719 25.523438 172.363281 20 172.363281 C 14.476563 172.363281 10 167.886719 10 162.363281 C 10 156.84375 14.476563 152.363281 20 152.363281 C 25.523438 152.363281 30 156.84375 30 162.363281 \"/>\n",
       "<path style=\"fill-rule:nonzero;fill:rgb(100%,0%,0%);fill-opacity:1;stroke-width:1;stroke-linecap:butt;stroke-linejoin:miter;stroke:rgb(0%,0%,0%);stroke-opacity:1;stroke-miterlimit:10;\" d=\"M 175.757813 110.921875 C 175.757813 116.441406 171.28125 120.921875 165.757813 120.921875 C 160.234375 120.921875 155.757813 116.441406 155.757813 110.921875 C 155.757813 105.398438 160.234375 100.921875 165.757813 100.921875 C 171.28125 100.921875 175.757813 105.398438 175.757813 110.921875 \"/>\n",
       "<path style=\"fill-rule:nonzero;fill:rgb(100%,0%,0%);fill-opacity:1;stroke-width:1;stroke-linecap:butt;stroke-linejoin:miter;stroke:rgb(0%,0%,0%);stroke-opacity:1;stroke-miterlimit:10;\" d=\"M 61.71875 20 C 61.71875 25.523438 57.242188 30 51.71875 30 C 46.195313 30 41.71875 25.523438 41.71875 20 C 41.71875 14.476563 46.195313 10 51.71875 10 C 57.242188 10 61.71875 14.476563 61.71875 20 \"/>\n",
       "<g style=\"fill:rgb(0%,0%,0%);fill-opacity:1;\">\n",
       "  <use xlink:href=\"#glyph0-1\" x=\"276.152344\" y=\"178.816406\"/>\n",
       "</g>\n",
       "<g style=\"fill:rgb(0%,0%,0%);fill-opacity:1;\">\n",
       "  <use xlink:href=\"#glyph0-2\" x=\"120.058594\" y=\"286.53125\"/>\n",
       "</g>\n",
       "<g style=\"fill:rgb(0%,0%,0%);fill-opacity:1;\">\n",
       "  <use xlink:href=\"#glyph0-3\" x=\"241.332031\" y=\"280.605469\"/>\n",
       "</g>\n",
       "<g style=\"fill:rgb(0%,0%,0%);fill-opacity:1;\">\n",
       "  <use xlink:href=\"#glyph0-4\" x=\"16.132813\" y=\"168.894531\"/>\n",
       "</g>\n",
       "<g style=\"fill:rgb(0%,0%,0%);fill-opacity:1;\">\n",
       "  <use xlink:href=\"#glyph0-5\" x=\"162.113281\" y=\"117.429688\"/>\n",
       "</g>\n",
       "<g style=\"fill:rgb(0%,0%,0%);fill-opacity:1;\">\n",
       "  <use xlink:href=\"#glyph0-6\" x=\"47.816406\" y=\"26.441406\"/>\n",
       "</g>\n",
       "</g>\n",
       "</svg>\n"
      ],
      "text/plain": [
       "<igraph.drawing.Plot at 0x1eeb05b5850>"
      ]
     },
     "execution_count": 14,
     "metadata": {
      "image/svg+xml": {
       "isolated": true
      }
     },
     "output_type": "execute_result"
    }
   ],
   "source": [
    "# check if the graph is connected\n",
    "print('is G graph connected?', G.is_connected())\n",
    "\n",
    "# extract the G's connected components\n",
    "components = G.components()\n",
    "# get each component as a subgraph\n",
    "H,K = components.subgraphs()\n",
    "# plot the first component\n",
    "print('this is one of the components:')\n",
    "igraph.plot(H, **visual_style)\n"
   ]
  },
  {
   "cell_type": "code",
   "execution_count": 15,
   "metadata": {
    "slideshow": {
     "slide_type": "slide"
    }
   },
   "outputs": [
    {
     "name": "stdout",
     "output_type": "stream",
     "text": [
      "L is a clique, that is, a complete subgraph\n"
     ]
    },
    {
     "data": {
      "image/svg+xml": [
       "<?xml version=\"1.0\" encoding=\"UTF-8\"?>\n",
       "<svg xmlns=\"http://www.w3.org/2000/svg\" xmlns:xlink=\"http://www.w3.org/1999/xlink\" width=\"300pt\" height=\"300pt\" viewBox=\"0 0 300 300\" version=\"1.1\">\n",
       "<defs>\n",
       "<g>\n",
       "<symbol overflow=\"visible\" id=\"glyph0-0\">\n",
       "<path style=\"stroke:none;\" d=\"M 1.75 0 L 1.75 -8.75 L 8.75 -8.75 L 8.75 0 Z M 1.96875 -0.21875 L 8.53125 -0.21875 L 8.53125 -8.53125 L 1.96875 -8.53125 Z M 1.96875 -0.21875 \"/>\n",
       "</symbol>\n",
       "<symbol overflow=\"visible\" id=\"glyph0-1\">\n",
       "<path style=\"stroke:none;\" d=\"M 0.582031 -4.941406 C 0.578125 -6.121094 0.699219 -7.074219 0.945313 -7.800781 C 1.1875 -8.519531 1.550781 -9.078125 2.03125 -9.472656 C 2.511719 -9.863281 3.117188 -10.058594 3.847656 -10.0625 C 4.382813 -10.058594 4.855469 -9.953125 5.261719 -9.738281 C 5.667969 -9.519531 6 -9.207031 6.265625 -8.800781 C 6.527344 -8.390625 6.738281 -7.890625 6.890625 -7.308594 C 7.039063 -6.722656 7.113281 -5.933594 7.117188 -4.941406 C 7.113281 -3.761719 6.992188 -2.8125 6.753906 -2.09375 C 6.507813 -1.367188 6.144531 -0.808594 5.667969 -0.417969 C 5.183594 -0.0234375 4.578125 0.167969 3.847656 0.171875 C 2.878906 0.167969 2.121094 -0.175781 1.570313 -0.867188 C 0.910156 -1.699219 0.578125 -3.054688 0.582031 -4.941406 Z M 1.84375 -4.941406 C 1.839844 -3.292969 2.03125 -2.199219 2.421875 -1.65625 C 2.804688 -1.109375 3.28125 -0.835938 3.847656 -0.839844 C 4.410156 -0.835938 4.886719 -1.109375 5.273438 -1.660156 C 5.65625 -2.203125 5.847656 -3.296875 5.851563 -4.941406 C 5.847656 -6.589844 5.65625 -7.6875 5.273438 -8.230469 C 4.886719 -8.769531 4.40625 -9.039063 3.835938 -9.042969 C 3.269531 -9.039063 2.816406 -8.800781 2.480469 -8.328125 C 2.050781 -7.710938 1.839844 -6.582031 1.84375 -4.941406 Z M 1.84375 -4.941406 \"/>\n",
       "</symbol>\n",
       "<symbol overflow=\"visible\" id=\"glyph0-2\">\n",
       "<path style=\"stroke:none;\" d=\"M 5.214844 0 L 3.984375 0 L 3.984375 -7.839844 C 3.6875 -7.558594 3.296875 -7.273438 2.816406 -6.992188 C 2.335938 -6.707031 1.90625 -6.496094 1.523438 -6.359375 L 1.523438 -7.546875 C 2.210938 -7.867188 2.8125 -8.257813 3.328125 -8.722656 C 3.84375 -9.179688 4.207031 -9.625 4.421875 -10.0625 L 5.214844 -10.0625 Z M 5.214844 0 \"/>\n",
       "</symbol>\n",
       "<symbol overflow=\"visible\" id=\"glyph0-3\">\n",
       "<path style=\"stroke:none;\" d=\"M 7.046875 -1.183594 L 7.046875 0 L 0.421875 0 C 0.414063 -0.296875 0.460938 -0.582031 0.566406 -0.855469 C 0.734375 -1.304688 1.003906 -1.746094 1.375 -2.1875 C 1.746094 -2.621094 2.285156 -3.128906 2.988281 -3.703125 C 4.074219 -4.597656 4.808594 -5.304688 5.195313 -5.828125 C 5.574219 -6.347656 5.765625 -6.839844 5.769531 -7.308594 C 5.765625 -7.792969 5.589844 -8.203125 5.246094 -8.539063 C 4.894531 -8.871094 4.441406 -9.039063 3.882813 -9.042969 C 3.285156 -9.039063 2.8125 -8.863281 2.460938 -8.507813 C 2.105469 -8.152344 1.925781 -7.660156 1.921875 -7.035156 L 0.65625 -7.164063 C 0.742188 -8.105469 1.066406 -8.824219 1.632813 -9.320313 C 2.195313 -9.8125 2.953125 -10.058594 3.910156 -10.0625 C 4.867188 -10.058594 5.628906 -9.792969 6.191406 -9.261719 C 6.75 -8.726563 7.03125 -8.066406 7.035156 -7.28125 C 7.03125 -6.878906 6.949219 -6.484375 6.789063 -6.097656 C 6.621094 -5.707031 6.347656 -5.296875 5.96875 -4.871094 C 5.585938 -4.441406 4.953125 -3.855469 4.074219 -3.109375 C 3.332031 -2.488281 2.859375 -2.066406 2.652344 -1.847656 C 2.4375 -1.621094 2.265625 -1.402344 2.132813 -1.183594 Z M 7.046875 -1.183594 \"/>\n",
       "</symbol>\n",
       "</g>\n",
       "</defs>\n",
       "<g id=\"surface63\">\n",
       "<rect x=\"0\" y=\"0\" width=\"300\" height=\"300\" style=\"fill:rgb(100%,100%,100%);fill-opacity:1;stroke:none;\"/>\n",
       "<path style=\"fill:none;stroke-width:1;stroke-linecap:butt;stroke-linejoin:miter;stroke:rgb(26.666667%,26.666667%,26.666667%);stroke-opacity:1;stroke-miterlimit:10;\" d=\"M 280 150 L 20 280 \"/>\n",
       "<path style=\"fill:none;stroke-width:1;stroke-linecap:butt;stroke-linejoin:miter;stroke:rgb(26.666667%,26.666667%,26.666667%);stroke-opacity:1;stroke-miterlimit:10;\" d=\"M 280 150 L 20 20 \"/>\n",
       "<path style=\"fill:none;stroke-width:1;stroke-linecap:butt;stroke-linejoin:miter;stroke:rgb(26.666667%,26.666667%,26.666667%);stroke-opacity:1;stroke-miterlimit:10;\" d=\"M 20 280 L 20 20 \"/>\n",
       "<path style=\"fill-rule:nonzero;fill:rgb(100%,0%,0%);fill-opacity:1;stroke-width:1;stroke-linecap:butt;stroke-linejoin:miter;stroke:rgb(0%,0%,0%);stroke-opacity:1;stroke-miterlimit:10;\" d=\"M 290 150 C 290 155.523438 285.523438 160 280 160 C 274.476563 160 270 155.523438 270 150 C 270 144.476563 274.476563 140 280 140 C 285.523438 140 290 144.476563 290 150 \"/>\n",
       "<path style=\"fill-rule:nonzero;fill:rgb(100%,0%,0%);fill-opacity:1;stroke-width:1;stroke-linecap:butt;stroke-linejoin:miter;stroke:rgb(0%,0%,0%);stroke-opacity:1;stroke-miterlimit:10;\" d=\"M 30 280 C 30 285.523438 25.523438 290 20 290 C 14.476563 290 10 285.523438 10 280 C 10 274.476563 14.476563 270 20 270 C 25.523438 270 30 274.476563 30 280 \"/>\n",
       "<path style=\"fill-rule:nonzero;fill:rgb(100%,0%,0%);fill-opacity:1;stroke-width:1;stroke-linecap:butt;stroke-linejoin:miter;stroke:rgb(0%,0%,0%);stroke-opacity:1;stroke-miterlimit:10;\" d=\"M 30 20 C 30 25.523438 25.523438 30 20 30 C 14.476563 30 10 25.523438 10 20 C 10 14.476563 14.476563 10 20 10 C 25.523438 10 30 14.476563 30 20 \"/>\n",
       "<g style=\"fill:rgb(0%,0%,0%);fill-opacity:1;\">\n",
       "  <use xlink:href=\"#glyph0-1\" x=\"276.152344\" y=\"156.53125\"/>\n",
       "</g>\n",
       "<g style=\"fill:rgb(0%,0%,0%);fill-opacity:1;\">\n",
       "  <use xlink:href=\"#glyph0-2\" x=\"16.628906\" y=\"286.53125\"/>\n",
       "</g>\n",
       "<g style=\"fill:rgb(0%,0%,0%);fill-opacity:1;\">\n",
       "  <use xlink:href=\"#glyph0-3\" x=\"16.269531\" y=\"26.53125\"/>\n",
       "</g>\n",
       "</g>\n",
       "</svg>\n"
      ],
      "text/plain": [
       "<igraph.drawing.Plot at 0x1eeaf525760>"
      ]
     },
     "execution_count": 15,
     "metadata": {
      "image/svg+xml": {
       "isolated": true
      }
     },
     "output_type": "execute_result"
    }
   ],
   "source": [
    "# extract the subgraph induced by the first 3 vertices\n",
    "L = G.subgraph([0,1,2])\n",
    "print('L is a clique, that is, a complete subgraph')\n",
    "# plot L\n",
    "igraph.plot(L, **visual_style)"
   ]
  },
  {
   "cell_type": "code",
   "execution_count": 16,
   "metadata": {
    "slideshow": {
     "slide_type": "slide"
    }
   },
   "outputs": [
    {
     "name": "stdout",
     "output_type": "stream",
     "text": [
      "each vertex is an object: igraph.Vertex(<igraph.Graph object at 0x000001EEAC78D310>, 0, {'label': 0})\n",
      "the vertex has a unique index from 0 to G.vcount()-1, in this case: 0\n",
      "the attributes of this vertex are: {'label': 0}\n",
      "each edge is an object: igraph.Edge(<igraph.Graph object at 0x000001EEAC78D310>, 0, {})\n",
      "the edge has a unique index from 0 to G.ecount()-1, in this case: 0\n",
      "the attributes of this edge are: {}\n",
      "this edge connects the following vertices: (0, 1)\n"
     ]
    }
   ],
   "source": [
    "# a graph is stored in igraph as a vertex sequence (G.vs) and an edge sequence (G.es)\n",
    "# let's see the first element of both sequences:\n",
    "for vertex in G.vs:\n",
    "    print('each vertex is an object:', vertex)\n",
    "    print('the vertex has a unique index from 0 to G.vcount()-1, in this case:', vertex.index)\n",
    "    print('the attributes of this vertex are:', vertex.attributes())\n",
    "    # break the loop\n",
    "    break\n",
    "for edge in G.es:\n",
    "    print('each edge is an object:', edge)\n",
    "    print('the edge has a unique index from 0 to G.ecount()-1, in this case:', edge.index)\n",
    "    print('the attributes of this edge are:', edge.attributes())\n",
    "    print('this edge connects the following vertices:', edge.tuple)\n",
    "    # break the loop\n",
    "    break"
   ]
  },
  {
   "cell_type": "code",
   "execution_count": 17,
   "metadata": {
    "slideshow": {
     "slide_type": "slide"
    }
   },
   "outputs": [
    {
     "name": "stdout",
     "output_type": "stream",
     "text": [
      "the degree sequence of G is [3, 3, 3, 3, 4, 2, 3, 1, 2, 2]\n",
      "vertex 2 has the following neighbors:\n",
      "igraph.Vertex(<igraph.Graph object at 0x000001EEAC78D310>, 0, {'label': 0})\n",
      "igraph.Vertex(<igraph.Graph object at 0x000001EEAC78D310>, 1, {'label': 1})\n",
      "igraph.Vertex(<igraph.Graph object at 0x000001EEAC78D310>, 4, {'label': 4})\n",
      "the edges incident to vertex 3 are the following:\n",
      "igraph.Edge(<igraph.Graph object at 0x000001EEAC78D310>, 4, {}) (1, 3)\n",
      "igraph.Edge(<igraph.Graph object at 0x000001EEAC78D310>, 6, {}) (3, 4)\n",
      "igraph.Edge(<igraph.Graph object at 0x000001EEAC78D310>, 7, {}) (3, 5)\n",
      "these are all the paths that start from vertex 6\n",
      "[[6, 7], [6, 8], [6, 8, 9], [6, 9], [6, 9, 8]]\n"
     ]
    }
   ],
   "source": [
    "# we can get the degree of all vertices of G\n",
    "print('the degree sequence of G is', G.degree())\n",
    "\n",
    "# for a given vertex, we can get its neighborhood\n",
    "print('vertex 2 has the following neighbors:')\n",
    "for u in G.vs[2].neighbors():\n",
    "    print(u)\n",
    "# and the list of its incident edges\n",
    "print('the edges incident to vertex 3 are the following:')\n",
    "for e in G.vs[3].all_edges():\n",
    "    print(e, e.tuple)\n",
    "# and all simple (i.e., acyclic) paths starting from that vertex\n",
    "print('these are all the paths that start from vertex 6')\n",
    "print(G.get_all_simple_paths(6))"
   ]
  },
  {
   "cell_type": "code",
   "execution_count": null,
   "metadata": {},
   "outputs": [],
   "source": []
  }
 ],
 "metadata": {
  "celltoolbar": "Slideshow",
  "kernelspec": {
   "display_name": "Python 3 (ipykernel)",
   "language": "python",
   "name": "python3"
  },
  "language_info": {
   "codemirror_mode": {
    "name": "ipython",
    "version": 3
   },
   "file_extension": ".py",
   "mimetype": "text/x-python",
   "name": "python",
   "nbconvert_exporter": "python",
   "pygments_lexer": "ipython3",
   "version": "3.9.7"
  }
 },
 "nbformat": 4,
 "nbformat_minor": 4
}
