{
 "cells": [
  {
   "cell_type": "markdown",
   "metadata": {
    "slideshow": {
     "slide_type": "slide"
    }
   },
   "source": [
    "## Representing and describing networks ##\n",
    "\n",
    "Network analysis and modeling relies on:\n",
    "- specifying **what** we can represent\n",
    "- specifying **how** we represent it mathematically or computationally\n",
    "\n",
    "In this lecture, we will introduce the three main ways to represent a network:\n",
    "- an **adjacency matrix**\n",
    "- an **adjacency list**\n",
    "- an **edge list**\n",
    "\n",
    "Then we will show how the representation can be used to **describe** (i.e., summarize) a network's structure."
   ]
  },
  {
   "cell_type": "markdown",
   "metadata": {
    "slideshow": {
     "slide_type": "slide"
    }
   },
   "source": [
    "### Network representation ###\n",
    "\n",
    "First of all, let us define a few toy graphs that will be used as examples in the following:\n",
    "- $G$ is a **simple** graph \n",
    "- $H$ is a **directed** and **weighted** graph\n",
    "- $K$ is a **multilayer** graph with **self-loops**\n",
    "\n",
    "In all cases we have $n=6$, where $n=|V|$ is the number of vertices of the graph"
   ]
  },
  {
   "cell_type": "code",
   "execution_count": 1,
   "metadata": {
    "slideshow": {
     "slide_type": "slide"
    }
   },
   "outputs": [
    {
     "name": "stdout",
     "output_type": "stream",
     "text": [
      "this is G:\n"
     ]
    },
    {
     "data": {
      "image/svg+xml": [
       "<?xml version=\"1.0\" encoding=\"UTF-8\"?>\n",
       "<svg xmlns=\"http://www.w3.org/2000/svg\" xmlns:xlink=\"http://www.w3.org/1999/xlink\" width=\"200pt\" height=\"200pt\" viewBox=\"0 0 200 200\" version=\"1.1\">\n",
       "<defs>\n",
       "<g>\n",
       "<symbol overflow=\"visible\" id=\"glyph0-0\">\n",
       "<path style=\"stroke:none;\" d=\"M 1.75 0 L 1.75 -8.75 L 8.75 -8.75 L 8.75 0 Z M 1.96875 -0.21875 L 8.53125 -0.21875 L 8.53125 -8.53125 L 1.96875 -8.53125 Z M 1.96875 -0.21875 \"/>\n",
       "</symbol>\n",
       "<symbol overflow=\"visible\" id=\"glyph0-1\">\n",
       "<path style=\"stroke:none;\" d=\"M 5.214844 0 L 3.984375 0 L 3.984375 -7.839844 C 3.6875 -7.558594 3.296875 -7.273438 2.816406 -6.992188 C 2.335938 -6.707031 1.90625 -6.496094 1.523438 -6.359375 L 1.523438 -7.546875 C 2.210938 -7.867188 2.8125 -8.257813 3.328125 -8.722656 C 3.84375 -9.179688 4.207031 -9.625 4.421875 -10.0625 L 5.214844 -10.0625 Z M 5.214844 0 \"/>\n",
       "</symbol>\n",
       "<symbol overflow=\"visible\" id=\"glyph0-2\">\n",
       "<path style=\"stroke:none;\" d=\"M 7.046875 -1.183594 L 7.046875 0 L 0.421875 0 C 0.414063 -0.296875 0.460938 -0.582031 0.566406 -0.855469 C 0.734375 -1.304688 1.003906 -1.746094 1.375 -2.1875 C 1.746094 -2.621094 2.285156 -3.128906 2.988281 -3.703125 C 4.074219 -4.597656 4.808594 -5.304688 5.195313 -5.828125 C 5.574219 -6.347656 5.765625 -6.839844 5.769531 -7.308594 C 5.765625 -7.792969 5.589844 -8.203125 5.246094 -8.539063 C 4.894531 -8.871094 4.441406 -9.039063 3.882813 -9.042969 C 3.285156 -9.039063 2.8125 -8.863281 2.460938 -8.507813 C 2.105469 -8.152344 1.925781 -7.660156 1.921875 -7.035156 L 0.65625 -7.164063 C 0.742188 -8.105469 1.066406 -8.824219 1.632813 -9.320313 C 2.195313 -9.8125 2.953125 -10.058594 3.910156 -10.0625 C 4.867188 -10.058594 5.628906 -9.792969 6.191406 -9.261719 C 6.75 -8.726563 7.03125 -8.066406 7.035156 -7.28125 C 7.03125 -6.878906 6.949219 -6.484375 6.789063 -6.097656 C 6.621094 -5.707031 6.347656 -5.296875 5.96875 -4.871094 C 5.585938 -4.441406 4.953125 -3.855469 4.074219 -3.109375 C 3.332031 -2.488281 2.859375 -2.066406 2.652344 -1.847656 C 2.4375 -1.621094 2.265625 -1.402344 2.132813 -1.183594 Z M 7.046875 -1.183594 \"/>\n",
       "</symbol>\n",
       "<symbol overflow=\"visible\" id=\"glyph0-3\">\n",
       "<path style=\"stroke:none;\" d=\"M 0.585938 -2.644531 L 1.820313 -2.808594 C 1.957031 -2.109375 2.195313 -1.609375 2.539063 -1.300781 C 2.875 -0.992188 3.289063 -0.835938 3.78125 -0.839844 C 4.355469 -0.835938 4.84375 -1.039063 5.246094 -1.441406 C 5.640625 -1.839844 5.839844 -2.335938 5.84375 -2.933594 C 5.839844 -3.496094 5.65625 -3.960938 5.289063 -4.332031 C 4.917969 -4.695313 4.449219 -4.878906 3.882813 -4.882813 C 3.648438 -4.878906 3.359375 -4.832031 3.015625 -4.742188 L 3.152344 -5.824219 C 3.230469 -5.816406 3.296875 -5.8125 3.351563 -5.8125 C 3.875 -5.8125 4.34375 -5.949219 4.765625 -6.222656 C 5.179688 -6.496094 5.390625 -6.914063 5.394531 -7.484375 C 5.390625 -7.933594 5.238281 -8.308594 4.933594 -8.605469 C 4.628906 -8.898438 4.234375 -9.046875 3.753906 -9.050781 C 3.273438 -9.046875 2.875 -8.894531 2.554688 -8.597656 C 2.234375 -8.292969 2.027344 -7.84375 1.941406 -7.246094 L 0.710938 -7.464844 C 0.859375 -8.289063 1.203125 -8.925781 1.734375 -9.382813 C 2.265625 -9.832031 2.929688 -10.058594 3.726563 -10.0625 C 4.273438 -10.058594 4.773438 -9.941406 5.234375 -9.710938 C 5.691406 -9.472656 6.042969 -9.152344 6.289063 -8.75 C 6.53125 -8.339844 6.65625 -7.910156 6.65625 -7.457031 C 6.65625 -7.023438 6.539063 -6.628906 6.308594 -6.273438 C 6.074219 -5.917969 5.730469 -5.636719 5.277344 -5.429688 C 5.867188 -5.289063 6.328125 -5.003906 6.65625 -4.574219 C 6.984375 -4.140625 7.148438 -3.601563 7.148438 -2.960938 C 7.148438 -2.082031 6.828125 -1.339844 6.191406 -0.734375 C 5.550781 -0.125 4.746094 0.175781 3.773438 0.179688 C 2.890625 0.175781 2.160156 -0.0820313 1.582031 -0.605469 C 1 -1.128906 0.667969 -1.808594 0.585938 -2.644531 Z M 0.585938 -2.644531 \"/>\n",
       "</symbol>\n",
       "<symbol overflow=\"visible\" id=\"glyph0-4\">\n",
       "<path style=\"stroke:none;\" d=\"M 4.523438 0 L 4.523438 -2.398438 L 0.179688 -2.398438 L 0.179688 -3.527344 L 4.75 -10.023438 L 5.757813 -10.023438 L 5.757813 -3.527344 L 7.109375 -3.527344 L 7.109375 -2.398438 L 5.757813 -2.398438 L 5.757813 0 Z M 4.523438 -3.527344 L 4.523438 -8.046875 L 1.386719 -3.527344 Z M 4.523438 -3.527344 \"/>\n",
       "</symbol>\n",
       "<symbol overflow=\"visible\" id=\"glyph0-5\">\n",
       "<path style=\"stroke:none;\" d=\"M 0.582031 -2.625 L 1.875 -2.734375 C 1.96875 -2.101563 2.1875 -1.628906 2.539063 -1.3125 C 2.882813 -0.996094 3.304688 -0.835938 3.800781 -0.839844 C 4.390625 -0.835938 4.890625 -1.058594 5.304688 -1.507813 C 5.710938 -1.953125 5.917969 -2.546875 5.921875 -3.289063 C 5.917969 -3.984375 5.71875 -4.539063 5.328125 -4.949219 C 4.929688 -5.351563 4.414063 -5.554688 3.78125 -5.558594 C 3.382813 -5.554688 3.027344 -5.464844 2.707031 -5.285156 C 2.386719 -5.105469 2.132813 -4.871094 1.953125 -4.585938 L 0.800781 -4.738281 L 1.769531 -9.882813 L 6.753906 -9.882813 L 6.753906 -8.710938 L 2.753906 -8.710938 L 2.214844 -6.015625 C 2.816406 -6.433594 3.445313 -6.644531 4.109375 -6.644531 C 4.980469 -6.644531 5.71875 -6.339844 6.324219 -5.734375 C 6.921875 -5.128906 7.222656 -4.351563 7.226563 -3.398438 C 7.222656 -2.492188 6.960938 -1.707031 6.433594 -1.046875 C 5.789063 -0.234375 4.910156 0.167969 3.800781 0.171875 C 2.886719 0.167969 2.140625 -0.0820313 1.566406 -0.59375 C 0.988281 -1.101563 0.660156 -1.78125 0.582031 -2.625 Z M 0.582031 -2.625 \"/>\n",
       "</symbol>\n",
       "<symbol overflow=\"visible\" id=\"glyph0-6\">\n",
       "<path style=\"stroke:none;\" d=\"M 6.964844 -7.566406 L 5.742188 -7.472656 C 5.632813 -7.949219 5.476563 -8.300781 5.277344 -8.523438 C 4.941406 -8.871094 4.53125 -9.046875 4.046875 -9.050781 C 3.652344 -9.046875 3.308594 -8.9375 3.015625 -8.722656 C 2.625 -8.4375 2.320313 -8.023438 2.097656 -7.484375 C 1.875 -6.9375 1.757813 -6.167969 1.75 -5.167969 C 2.042969 -5.617188 2.40625 -5.949219 2.835938 -6.171875 C 3.265625 -6.386719 3.714844 -6.496094 4.183594 -6.5 C 5.003906 -6.496094 5.699219 -6.195313 6.277344 -5.59375 C 6.851563 -4.988281 7.140625 -4.207031 7.144531 -3.253906 C 7.140625 -2.621094 7.003906 -2.039063 6.734375 -1.5 C 6.460938 -0.960938 6.089844 -0.546875 5.617188 -0.257813 C 5.140625 0.0273438 4.605469 0.167969 4.007813 0.171875 C 2.980469 0.167969 2.140625 -0.207031 1.496094 -0.960938 C 0.847656 -1.714844 0.527344 -2.957031 0.527344 -4.6875 C 0.527344 -6.625 0.882813 -8.03125 1.601563 -8.914063 C 2.21875 -9.675781 3.058594 -10.058594 4.121094 -10.0625 C 4.90625 -10.058594 5.554688 -9.839844 6.058594 -9.398438 C 6.5625 -8.953125 6.863281 -8.339844 6.964844 -7.566406 Z M 1.941406 -3.246094 C 1.9375 -2.820313 2.027344 -2.414063 2.210938 -2.027344 C 2.386719 -1.640625 2.640625 -1.34375 2.964844 -1.144531 C 3.289063 -0.9375 3.628906 -0.835938 3.984375 -0.839844 C 4.503906 -0.835938 4.949219 -1.046875 5.324219 -1.46875 C 5.695313 -1.886719 5.882813 -2.457031 5.886719 -3.179688 C 5.882813 -3.871094 5.699219 -4.417969 5.332031 -4.816406 C 4.960938 -5.214844 4.496094 -5.414063 3.9375 -5.414063 C 3.378906 -5.414063 2.90625 -5.214844 2.519531 -4.816406 C 2.132813 -4.417969 1.9375 -3.894531 1.941406 -3.246094 Z M 1.941406 -3.246094 \"/>\n",
       "</symbol>\n",
       "</g>\n",
       "</defs>\n",
       "<g id=\"surface2\">\n",
       "<rect x=\"0\" y=\"0\" width=\"200\" height=\"200\" style=\"fill:rgb(100%,100%,100%);fill-opacity:1;stroke:none;\"/>\n",
       "<path style=\"fill:none;stroke-width:1;stroke-linecap:butt;stroke-linejoin:miter;stroke:rgb(26.666667%,26.666667%,26.666667%);stroke-opacity:1;stroke-miterlimit:10;\" d=\"M 170 150.472656 L 101.878906 170 \"/>\n",
       "<path style=\"fill:none;stroke-width:1;stroke-linecap:butt;stroke-linejoin:miter;stroke:rgb(26.666667%,26.666667%,26.666667%);stroke-opacity:1;stroke-miterlimit:10;\" d=\"M 170 150.472656 L 145.429688 72.875 \"/>\n",
       "<path style=\"fill:none;stroke-width:1;stroke-linecap:butt;stroke-linejoin:miter;stroke:rgb(26.666667%,26.666667%,26.666667%);stroke-opacity:1;stroke-miterlimit:10;\" d=\"M 101.878906 170 L 74.214844 93.839844 \"/>\n",
       "<path style=\"fill:none;stroke-width:1;stroke-linecap:butt;stroke-linejoin:miter;stroke:rgb(26.666667%,26.666667%,26.666667%);stroke-opacity:1;stroke-miterlimit:10;\" d=\"M 101.878906 170 L 39.738281 163.957031 \"/>\n",
       "<path style=\"fill:none;stroke-width:1;stroke-linecap:butt;stroke-linejoin:miter;stroke:rgb(26.666667%,26.666667%,26.666667%);stroke-opacity:1;stroke-miterlimit:10;\" d=\"M 74.214844 93.839844 L 39.738281 163.957031 \"/>\n",
       "<path style=\"fill:none;stroke-width:1;stroke-linecap:butt;stroke-linejoin:miter;stroke:rgb(26.666667%,26.666667%,26.666667%);stroke-opacity:1;stroke-miterlimit:10;\" d=\"M 74.214844 93.839844 L 145.429688 72.875 \"/>\n",
       "<path style=\"fill:none;stroke-width:1;stroke-linecap:butt;stroke-linejoin:miter;stroke:rgb(26.666667%,26.666667%,26.666667%);stroke-opacity:1;stroke-miterlimit:10;\" d=\"M 74.214844 93.839844 L 30 30 \"/>\n",
       "<path style=\"fill-rule:nonzero;fill:rgb(100%,0%,0%);fill-opacity:1;stroke-width:1;stroke-linecap:butt;stroke-linejoin:miter;stroke:rgb(0%,0%,0%);stroke-opacity:1;stroke-miterlimit:10;\" d=\"M 180 150.472656 C 180 155.996094 175.523438 160.472656 170 160.472656 C 164.476563 160.472656 160 155.996094 160 150.472656 C 160 144.949219 164.476563 140.472656 170 140.472656 C 175.523438 140.472656 180 144.949219 180 150.472656 \"/>\n",
       "<path style=\"fill-rule:nonzero;fill:rgb(100%,0%,0%);fill-opacity:1;stroke-width:1;stroke-linecap:butt;stroke-linejoin:miter;stroke:rgb(0%,0%,0%);stroke-opacity:1;stroke-miterlimit:10;\" d=\"M 111.878906 170 C 111.878906 175.523438 107.402344 180 101.878906 180 C 96.355469 180 91.878906 175.523438 91.878906 170 C 91.878906 164.476563 96.355469 160 101.878906 160 C 107.402344 160 111.878906 164.476563 111.878906 170 \"/>\n",
       "<path style=\"fill-rule:nonzero;fill:rgb(100%,0%,0%);fill-opacity:1;stroke-width:1;stroke-linecap:butt;stroke-linejoin:miter;stroke:rgb(0%,0%,0%);stroke-opacity:1;stroke-miterlimit:10;\" d=\"M 84.214844 93.839844 C 84.214844 99.363281 79.738281 103.839844 74.214844 103.839844 C 68.691406 103.839844 64.214844 99.363281 64.214844 93.839844 C 64.214844 88.316406 68.691406 83.839844 74.214844 83.839844 C 79.738281 83.839844 84.214844 88.316406 84.214844 93.839844 \"/>\n",
       "<path style=\"fill-rule:nonzero;fill:rgb(100%,0%,0%);fill-opacity:1;stroke-width:1;stroke-linecap:butt;stroke-linejoin:miter;stroke:rgb(0%,0%,0%);stroke-opacity:1;stroke-miterlimit:10;\" d=\"M 49.738281 163.957031 C 49.738281 169.480469 45.261719 173.957031 39.738281 173.957031 C 34.21875 173.957031 29.738281 169.480469 29.738281 163.957031 C 29.738281 158.433594 34.21875 153.957031 39.738281 153.957031 C 45.261719 153.957031 49.738281 158.433594 49.738281 163.957031 \"/>\n",
       "<path style=\"fill-rule:nonzero;fill:rgb(100%,0%,0%);fill-opacity:1;stroke-width:1;stroke-linecap:butt;stroke-linejoin:miter;stroke:rgb(0%,0%,0%);stroke-opacity:1;stroke-miterlimit:10;\" d=\"M 155.429688 72.875 C 155.429688 78.398438 150.949219 82.875 145.429688 82.875 C 139.90625 82.875 135.429688 78.398438 135.429688 72.875 C 135.429688 67.351563 139.90625 62.875 145.429688 62.875 C 150.949219 62.875 155.429688 67.351563 155.429688 72.875 \"/>\n",
       "<path style=\"fill-rule:nonzero;fill:rgb(100%,0%,0%);fill-opacity:1;stroke-width:1;stroke-linecap:butt;stroke-linejoin:miter;stroke:rgb(0%,0%,0%);stroke-opacity:1;stroke-miterlimit:10;\" d=\"M 40 30 C 40 35.523438 35.523438 40 30 40 C 24.476563 40 20 35.523438 20 30 C 20 24.476563 24.476563 20 30 20 C 35.523438 20 40 24.476563 40 30 \"/>\n",
       "<g style=\"fill:rgb(0%,0%,0%);fill-opacity:1;\">\n",
       "  <use xlink:href=\"#glyph0-1\" x=\"166.628906\" y=\"157.003906\"/>\n",
       "</g>\n",
       "<g style=\"fill:rgb(0%,0%,0%);fill-opacity:1;\">\n",
       "  <use xlink:href=\"#glyph0-2\" x=\"98.152344\" y=\"176.53125\"/>\n",
       "</g>\n",
       "<g style=\"fill:rgb(0%,0%,0%);fill-opacity:1;\">\n",
       "  <use xlink:href=\"#glyph0-3\" x=\"70.347656\" y=\"100.371094\"/>\n",
       "</g>\n",
       "<g style=\"fill:rgb(0%,0%,0%);fill-opacity:1;\">\n",
       "  <use xlink:href=\"#glyph0-4\" x=\"36.097656\" y=\"170.464844\"/>\n",
       "</g>\n",
       "<g style=\"fill:rgb(0%,0%,0%);fill-opacity:1;\">\n",
       "  <use xlink:href=\"#glyph0-5\" x=\"141.523438\" y=\"79.316406\"/>\n",
       "</g>\n",
       "<g style=\"fill:rgb(0%,0%,0%);fill-opacity:1;\">\n",
       "  <use xlink:href=\"#glyph0-6\" x=\"26.164063\" y=\"36.53125\"/>\n",
       "</g>\n",
       "</g>\n",
       "</svg>\n"
      ],
      "text/plain": [
       "<igraph.drawing.Plot at 0x1e7edc231f0>"
      ]
     },
     "execution_count": 1,
     "metadata": {
      "image/svg+xml": {
       "isolated": true
      }
     },
     "output_type": "execute_result"
    }
   ],
   "source": [
    "import igraph\n",
    "visual_style = {\"bbox\":(200,200), \"margin\":30}\n",
    "\n",
    "G = igraph.Graph()\n",
    "G.add_vertices(6)\n",
    "G.vs['label'] = range(1,7)\n",
    "G.add_edges([(0,1),(0,4),(1,2),(1,3),(2,3),(2,4),(2,5)])\n",
    "\n",
    "print('this is G:')\n",
    "igraph.plot(G, **visual_style)"
   ]
  },
  {
   "cell_type": "code",
   "execution_count": 2,
   "metadata": {
    "slideshow": {
     "slide_type": "slide"
    }
   },
   "outputs": [
    {
     "name": "stdout",
     "output_type": "stream",
     "text": [
      "this is H:\n"
     ]
    },
    {
     "data": {
      "image/svg+xml": [
       "<?xml version=\"1.0\" encoding=\"UTF-8\"?>\n",
       "<svg xmlns=\"http://www.w3.org/2000/svg\" xmlns:xlink=\"http://www.w3.org/1999/xlink\" width=\"200pt\" height=\"200pt\" viewBox=\"0 0 200 200\" version=\"1.1\">\n",
       "<defs>\n",
       "<g>\n",
       "<symbol overflow=\"visible\" id=\"glyph0-0\">\n",
       "<path style=\"stroke:none;\" d=\"M 1.75 0 L 1.75 -8.75 L 8.75 -8.75 L 8.75 0 Z M 1.96875 -0.21875 L 8.53125 -0.21875 L 8.53125 -8.53125 L 1.96875 -8.53125 Z M 1.96875 -0.21875 \"/>\n",
       "</symbol>\n",
       "<symbol overflow=\"visible\" id=\"glyph0-1\">\n",
       "<path style=\"stroke:none;\" d=\"M 5.214844 0 L 3.984375 0 L 3.984375 -7.839844 C 3.6875 -7.558594 3.296875 -7.273438 2.816406 -6.992188 C 2.335938 -6.707031 1.90625 -6.496094 1.523438 -6.359375 L 1.523438 -7.546875 C 2.210938 -7.867188 2.8125 -8.257813 3.328125 -8.722656 C 3.84375 -9.179688 4.207031 -9.625 4.421875 -10.0625 L 5.214844 -10.0625 Z M 5.214844 0 \"/>\n",
       "</symbol>\n",
       "<symbol overflow=\"visible\" id=\"glyph0-2\">\n",
       "<path style=\"stroke:none;\" d=\"M 7.046875 -1.183594 L 7.046875 0 L 0.421875 0 C 0.414063 -0.296875 0.460938 -0.582031 0.566406 -0.855469 C 0.734375 -1.304688 1.003906 -1.746094 1.375 -2.1875 C 1.746094 -2.621094 2.285156 -3.128906 2.988281 -3.703125 C 4.074219 -4.597656 4.808594 -5.304688 5.195313 -5.828125 C 5.574219 -6.347656 5.765625 -6.839844 5.769531 -7.308594 C 5.765625 -7.792969 5.589844 -8.203125 5.246094 -8.539063 C 4.894531 -8.871094 4.441406 -9.039063 3.882813 -9.042969 C 3.285156 -9.039063 2.8125 -8.863281 2.460938 -8.507813 C 2.105469 -8.152344 1.925781 -7.660156 1.921875 -7.035156 L 0.65625 -7.164063 C 0.742188 -8.105469 1.066406 -8.824219 1.632813 -9.320313 C 2.195313 -9.8125 2.953125 -10.058594 3.910156 -10.0625 C 4.867188 -10.058594 5.628906 -9.792969 6.191406 -9.261719 C 6.75 -8.726563 7.03125 -8.066406 7.035156 -7.28125 C 7.03125 -6.878906 6.949219 -6.484375 6.789063 -6.097656 C 6.621094 -5.707031 6.347656 -5.296875 5.96875 -4.871094 C 5.585938 -4.441406 4.953125 -3.855469 4.074219 -3.109375 C 3.332031 -2.488281 2.859375 -2.066406 2.652344 -1.847656 C 2.4375 -1.621094 2.265625 -1.402344 2.132813 -1.183594 Z M 7.046875 -1.183594 \"/>\n",
       "</symbol>\n",
       "<symbol overflow=\"visible\" id=\"glyph0-3\">\n",
       "<path style=\"stroke:none;\" d=\"M 0.585938 -2.644531 L 1.820313 -2.808594 C 1.957031 -2.109375 2.195313 -1.609375 2.539063 -1.300781 C 2.875 -0.992188 3.289063 -0.835938 3.78125 -0.839844 C 4.355469 -0.835938 4.84375 -1.039063 5.246094 -1.441406 C 5.640625 -1.839844 5.839844 -2.335938 5.84375 -2.933594 C 5.839844 -3.496094 5.65625 -3.960938 5.289063 -4.332031 C 4.917969 -4.695313 4.449219 -4.878906 3.882813 -4.882813 C 3.648438 -4.878906 3.359375 -4.832031 3.015625 -4.742188 L 3.152344 -5.824219 C 3.230469 -5.816406 3.296875 -5.8125 3.351563 -5.8125 C 3.875 -5.8125 4.34375 -5.949219 4.765625 -6.222656 C 5.179688 -6.496094 5.390625 -6.914063 5.394531 -7.484375 C 5.390625 -7.933594 5.238281 -8.308594 4.933594 -8.605469 C 4.628906 -8.898438 4.234375 -9.046875 3.753906 -9.050781 C 3.273438 -9.046875 2.875 -8.894531 2.554688 -8.597656 C 2.234375 -8.292969 2.027344 -7.84375 1.941406 -7.246094 L 0.710938 -7.464844 C 0.859375 -8.289063 1.203125 -8.925781 1.734375 -9.382813 C 2.265625 -9.832031 2.929688 -10.058594 3.726563 -10.0625 C 4.273438 -10.058594 4.773438 -9.941406 5.234375 -9.710938 C 5.691406 -9.472656 6.042969 -9.152344 6.289063 -8.75 C 6.53125 -8.339844 6.65625 -7.910156 6.65625 -7.457031 C 6.65625 -7.023438 6.539063 -6.628906 6.308594 -6.273438 C 6.074219 -5.917969 5.730469 -5.636719 5.277344 -5.429688 C 5.867188 -5.289063 6.328125 -5.003906 6.65625 -4.574219 C 6.984375 -4.140625 7.148438 -3.601563 7.148438 -2.960938 C 7.148438 -2.082031 6.828125 -1.339844 6.191406 -0.734375 C 5.550781 -0.125 4.746094 0.175781 3.773438 0.179688 C 2.890625 0.175781 2.160156 -0.0820313 1.582031 -0.605469 C 1 -1.128906 0.667969 -1.808594 0.585938 -2.644531 Z M 0.585938 -2.644531 \"/>\n",
       "</symbol>\n",
       "<symbol overflow=\"visible\" id=\"glyph0-4\">\n",
       "<path style=\"stroke:none;\" d=\"M 4.523438 0 L 4.523438 -2.398438 L 0.179688 -2.398438 L 0.179688 -3.527344 L 4.75 -10.023438 L 5.757813 -10.023438 L 5.757813 -3.527344 L 7.109375 -3.527344 L 7.109375 -2.398438 L 5.757813 -2.398438 L 5.757813 0 Z M 4.523438 -3.527344 L 4.523438 -8.046875 L 1.386719 -3.527344 Z M 4.523438 -3.527344 \"/>\n",
       "</symbol>\n",
       "<symbol overflow=\"visible\" id=\"glyph0-5\">\n",
       "<path style=\"stroke:none;\" d=\"M 0.582031 -2.625 L 1.875 -2.734375 C 1.96875 -2.101563 2.1875 -1.628906 2.539063 -1.3125 C 2.882813 -0.996094 3.304688 -0.835938 3.800781 -0.839844 C 4.390625 -0.835938 4.890625 -1.058594 5.304688 -1.507813 C 5.710938 -1.953125 5.917969 -2.546875 5.921875 -3.289063 C 5.917969 -3.984375 5.71875 -4.539063 5.328125 -4.949219 C 4.929688 -5.351563 4.414063 -5.554688 3.78125 -5.558594 C 3.382813 -5.554688 3.027344 -5.464844 2.707031 -5.285156 C 2.386719 -5.105469 2.132813 -4.871094 1.953125 -4.585938 L 0.800781 -4.738281 L 1.769531 -9.882813 L 6.753906 -9.882813 L 6.753906 -8.710938 L 2.753906 -8.710938 L 2.214844 -6.015625 C 2.816406 -6.433594 3.445313 -6.644531 4.109375 -6.644531 C 4.980469 -6.644531 5.71875 -6.339844 6.324219 -5.734375 C 6.921875 -5.128906 7.222656 -4.351563 7.226563 -3.398438 C 7.222656 -2.492188 6.960938 -1.707031 6.433594 -1.046875 C 5.789063 -0.234375 4.910156 0.167969 3.800781 0.171875 C 2.886719 0.167969 2.140625 -0.0820313 1.566406 -0.59375 C 0.988281 -1.101563 0.660156 -1.78125 0.582031 -2.625 Z M 0.582031 -2.625 \"/>\n",
       "</symbol>\n",
       "<symbol overflow=\"visible\" id=\"glyph0-6\">\n",
       "<path style=\"stroke:none;\" d=\"M 6.964844 -7.566406 L 5.742188 -7.472656 C 5.632813 -7.949219 5.476563 -8.300781 5.277344 -8.523438 C 4.941406 -8.871094 4.53125 -9.046875 4.046875 -9.050781 C 3.652344 -9.046875 3.308594 -8.9375 3.015625 -8.722656 C 2.625 -8.4375 2.320313 -8.023438 2.097656 -7.484375 C 1.875 -6.9375 1.757813 -6.167969 1.75 -5.167969 C 2.042969 -5.617188 2.40625 -5.949219 2.835938 -6.171875 C 3.265625 -6.386719 3.714844 -6.496094 4.183594 -6.5 C 5.003906 -6.496094 5.699219 -6.195313 6.277344 -5.59375 C 6.851563 -4.988281 7.140625 -4.207031 7.144531 -3.253906 C 7.140625 -2.621094 7.003906 -2.039063 6.734375 -1.5 C 6.460938 -0.960938 6.089844 -0.546875 5.617188 -0.257813 C 5.140625 0.0273438 4.605469 0.167969 4.007813 0.171875 C 2.980469 0.167969 2.140625 -0.207031 1.496094 -0.960938 C 0.847656 -1.714844 0.527344 -2.957031 0.527344 -4.6875 C 0.527344 -6.625 0.882813 -8.03125 1.601563 -8.914063 C 2.21875 -9.675781 3.058594 -10.058594 4.121094 -10.0625 C 4.90625 -10.058594 5.554688 -9.839844 6.058594 -9.398438 C 6.5625 -8.953125 6.863281 -8.339844 6.964844 -7.566406 Z M 1.941406 -3.246094 C 1.9375 -2.820313 2.027344 -2.414063 2.210938 -2.027344 C 2.386719 -1.640625 2.640625 -1.34375 2.964844 -1.144531 C 3.289063 -0.9375 3.628906 -0.835938 3.984375 -0.839844 C 4.503906 -0.835938 4.949219 -1.046875 5.324219 -1.46875 C 5.695313 -1.886719 5.882813 -2.457031 5.886719 -3.179688 C 5.882813 -3.871094 5.699219 -4.417969 5.332031 -4.816406 C 4.960938 -5.214844 4.496094 -5.414063 3.9375 -5.414063 C 3.378906 -5.414063 2.90625 -5.214844 2.519531 -4.816406 C 2.132813 -4.417969 1.9375 -3.894531 1.941406 -3.246094 Z M 1.941406 -3.246094 \"/>\n",
       "</symbol>\n",
       "</g>\n",
       "</defs>\n",
       "<g id=\"surface8\">\n",
       "<rect x=\"0\" y=\"0\" width=\"200\" height=\"200\" style=\"fill:rgb(100%,100%,100%);fill-opacity:1;stroke:none;\"/>\n",
       "<path style=\"fill:none;stroke-width:0.94;stroke-linecap:butt;stroke-linejoin:miter;stroke:rgb(26.666667%,26.666667%,26.666667%);stroke-opacity:1;stroke-miterlimit:10;\" d=\"M 99.734375 30 C 101.933594 48.355469 113.617188 65.738281 130.390625 62.070313 \"/>\n",
       "<path style=\" stroke:none;fill-rule:nonzero;fill:rgb(26.666667%,26.666667%,26.666667%);fill-opacity:1;\" d=\"M 144.328125 59.023438 L 131.378906 66.597656 L 129.398438 57.542969 L 144.328125 59.023438 \"/>\n",
       "<path style=\"fill:none;stroke-width:0.72;stroke-linecap:butt;stroke-linejoin:miter;stroke:rgb(26.666667%,26.666667%,26.666667%);stroke-opacity:1;stroke-miterlimit:10;\" d=\"M 51.730469 87.164063 L 84.128906 48.582031 \"/>\n",
       "<path style=\" stroke:none;fill-rule:nonzero;fill:rgb(26.666667%,26.666667%,26.666667%);fill-opacity:1;\" d=\"M 93.300781 37.65625 L 87.679688 51.5625 L 80.578125 45.601563 L 93.300781 37.65625 \"/>\n",
       "<path style=\"fill:none;stroke-width:0.66;stroke-linecap:butt;stroke-linejoin:miter;stroke:rgb(26.666667%,26.666667%,26.666667%);stroke-opacity:1;stroke-miterlimit:10;\" d=\"M 51.730469 87.164063 L 101.589844 113.9375 \"/>\n",
       "<path style=\" stroke:none;fill-rule:nonzero;fill:rgb(26.666667%,26.666667%,26.666667%);fill-opacity:1;\" d=\"M 114.15625 120.6875 L 99.394531 118.023438 L 103.78125 109.855469 L 114.15625 120.6875 \"/>\n",
       "<path style=\"fill:none;stroke-width:0.71;stroke-linecap:butt;stroke-linejoin:miter;stroke:rgb(26.666667%,26.666667%,26.666667%);stroke-opacity:1;stroke-miterlimit:10;\" d=\"M 51.730469 87.164063 C 43.472656 92.585938 47.167969 104.46875 43.683594 109.464844 \"/>\n",
       "<path style=\" stroke:none;fill-rule:nonzero;fill:rgb(26.666667%,26.666667%,26.666667%);fill-opacity:1;\" d=\"M 35.519531 121.164063 L 39.878906 106.8125 L 47.484375 112.117188 L 35.519531 121.164063 \"/>\n",
       "<path style=\"fill:none;stroke-width:0.7;stroke-linecap:butt;stroke-linejoin:miter;stroke:rgb(26.666667%,26.666667%,26.666667%);stroke-opacity:1;stroke-miterlimit:10;\" d=\"M 122.964844 125.421875 L 54.246094 128.117188 \"/>\n",
       "<path style=\" stroke:none;fill-rule:nonzero;fill:rgb(26.666667%,26.666667%,26.666667%);fill-opacity:1;\" d=\"M 39.992188 128.679688 L 54.066406 123.488281 L 54.429688 132.75 L 39.992188 128.679688 \"/>\n",
       "<path style=\"fill:none;stroke-width:0.79;stroke-linecap:butt;stroke-linejoin:miter;stroke:rgb(26.666667%,26.666667%,26.666667%);stroke-opacity:1;stroke-miterlimit:10;\" d=\"M 122.964844 125.421875 L 144.246094 78.898438 \"/>\n",
       "<path style=\" stroke:none;fill-rule:nonzero;fill:rgb(26.666667%,26.666667%,26.666667%);fill-opacity:1;\" d=\"M 150.179688 65.925781 L 148.460938 80.828125 L 140.027344 76.972656 L 150.179688 65.925781 \"/>\n",
       "<path style=\"fill:none;stroke-width:0.68;stroke-linecap:butt;stroke-linejoin:miter;stroke:rgb(26.666667%,26.666667%,26.666667%);stroke-opacity:1;stroke-miterlimit:10;\" d=\"M 122.964844 125.421875 C 119.433594 146.128906 127.21875 170.484375 146.003906 170.273438 \"/>\n",
       "<path style=\" stroke:none;fill-rule:nonzero;fill:rgb(26.666667%,26.666667%,26.666667%);fill-opacity:1;\" d=\"M 160.265625 170.109375 L 146.054688 174.90625 L 145.949219 165.636719 L 160.265625 170.109375 \"/>\n",
       "<path style=\"fill:none;stroke-width:0.43;stroke-linecap:butt;stroke-linejoin:miter;stroke:rgb(26.666667%,26.666667%,26.666667%);stroke-opacity:1;stroke-miterlimit:10;\" d=\"M 30 129.070313 C 53.105469 128.925781 75.867188 96.160156 74.152344 95.523438 \"/>\n",
       "<path style=\" stroke:none;fill-rule:nonzero;fill:rgb(26.666667%,26.666667%,26.666667%);fill-opacity:1;\" d=\"M 60.785156 90.539063 L 75.769531 91.179688 L 72.53125 99.863281 L 60.785156 90.539063 \"/>\n",
       "<path style=\"fill:none;stroke-width:0.56;stroke-linecap:butt;stroke-linejoin:miter;stroke:rgb(26.666667%,26.666667%,26.666667%);stroke-opacity:1;stroke-miterlimit:10;\" d=\"M 154.335938 56.832031 C 148.601563 42.378906 136.117188 41.71875 122.515625 37.339844 \"/>\n",
       "<path style=\" stroke:none;fill-rule:nonzero;fill:rgb(26.666667%,26.666667%,26.666667%);fill-opacity:1;\" d=\"M 108.9375 32.964844 L 123.9375 32.925781 L 121.09375 41.75 L 108.9375 32.964844 \"/>\n",
       "<path style=\"fill:none;stroke-width:0.58;stroke-linecap:butt;stroke-linejoin:miter;stroke:rgb(26.666667%,26.666667%,26.666667%);stroke-opacity:1;stroke-miterlimit:10;\" d=\"M 170 170 C 173.636719 149.296875 165.863281 124.695313 147.167969 125.011719 \"/>\n",
       "<path style=\" stroke:none;fill-rule:nonzero;fill:rgb(26.666667%,26.666667%,26.666667%);fill-opacity:1;\" d=\"M 132.902344 125.253906 L 147.089844 120.378906 L 147.246094 129.648438 L 132.902344 125.253906 \"/>\n",
       "<path style=\"fill-rule:nonzero;fill:rgb(100%,0%,0%);fill-opacity:1;stroke-width:1;stroke-linecap:butt;stroke-linejoin:miter;stroke:rgb(0%,0%,0%);stroke-opacity:1;stroke-miterlimit:10;\" d=\"M 109.734375 30 C 109.734375 35.523438 105.257813 40 99.734375 40 C 94.210938 40 89.734375 35.523438 89.734375 30 C 89.734375 24.476563 94.210938 20 99.734375 20 C 105.257813 20 109.734375 24.476563 109.734375 30 \"/>\n",
       "<path style=\"fill-rule:nonzero;fill:rgb(100%,0%,0%);fill-opacity:1;stroke-width:1;stroke-linecap:butt;stroke-linejoin:miter;stroke:rgb(0%,0%,0%);stroke-opacity:1;stroke-miterlimit:10;\" d=\"M 61.730469 87.164063 C 61.730469 92.6875 57.253906 97.164063 51.730469 97.164063 C 46.207031 97.164063 41.730469 92.6875 41.730469 87.164063 C 41.730469 81.640625 46.207031 77.164063 51.730469 77.164063 C 57.253906 77.164063 61.730469 81.640625 61.730469 87.164063 \"/>\n",
       "<path style=\"fill-rule:nonzero;fill:rgb(100%,0%,0%);fill-opacity:1;stroke-width:1;stroke-linecap:butt;stroke-linejoin:miter;stroke:rgb(0%,0%,0%);stroke-opacity:1;stroke-miterlimit:10;\" d=\"M 132.964844 125.421875 C 132.964844 130.941406 128.488281 135.421875 122.964844 135.421875 C 117.445313 135.421875 112.964844 130.941406 112.964844 125.421875 C 112.964844 119.898438 117.445313 115.421875 122.964844 115.421875 C 128.488281 115.421875 132.964844 119.898438 132.964844 125.421875 \"/>\n",
       "<path style=\"fill-rule:nonzero;fill:rgb(100%,0%,0%);fill-opacity:1;stroke-width:1;stroke-linecap:butt;stroke-linejoin:miter;stroke:rgb(0%,0%,0%);stroke-opacity:1;stroke-miterlimit:10;\" d=\"M 40 129.070313 C 40 134.59375 35.523438 139.070313 30 139.070313 C 24.476563 139.070313 20 134.59375 20 129.070313 C 20 123.546875 24.476563 119.070313 30 119.070313 C 35.523438 119.070313 40 123.546875 40 129.070313 \"/>\n",
       "<path style=\"fill-rule:nonzero;fill:rgb(100%,0%,0%);fill-opacity:1;stroke-width:1;stroke-linecap:butt;stroke-linejoin:miter;stroke:rgb(0%,0%,0%);stroke-opacity:1;stroke-miterlimit:10;\" d=\"M 164.335938 56.832031 C 164.335938 62.355469 159.859375 66.832031 154.335938 66.832031 C 148.816406 66.832031 144.335938 62.355469 144.335938 56.832031 C 144.335938 51.308594 148.816406 46.832031 154.335938 46.832031 C 159.859375 46.832031 164.335938 51.308594 164.335938 56.832031 \"/>\n",
       "<path style=\"fill-rule:nonzero;fill:rgb(100%,0%,0%);fill-opacity:1;stroke-width:1;stroke-linecap:butt;stroke-linejoin:miter;stroke:rgb(0%,0%,0%);stroke-opacity:1;stroke-miterlimit:10;\" d=\"M 180 170 C 180 175.523438 175.523438 180 170 180 C 164.476563 180 160 175.523438 160 170 C 160 164.476563 164.476563 160 170 160 C 175.523438 160 180 164.476563 180 170 \"/>\n",
       "<g style=\"fill:rgb(0%,0%,0%);fill-opacity:1;\">\n",
       "  <use xlink:href=\"#glyph0-1\" x=\"96.363281\" y=\"36.53125\"/>\n",
       "</g>\n",
       "<g style=\"fill:rgb(0%,0%,0%);fill-opacity:1;\">\n",
       "  <use xlink:href=\"#glyph0-2\" x=\"48\" y=\"93.695313\"/>\n",
       "</g>\n",
       "<g style=\"fill:rgb(0%,0%,0%);fill-opacity:1;\">\n",
       "  <use xlink:href=\"#glyph0-3\" x=\"119.097656\" y=\"131.953125\"/>\n",
       "</g>\n",
       "<g style=\"fill:rgb(0%,0%,0%);fill-opacity:1;\">\n",
       "  <use xlink:href=\"#glyph0-4\" x=\"26.355469\" y=\"135.582031\"/>\n",
       "</g>\n",
       "<g style=\"fill:rgb(0%,0%,0%);fill-opacity:1;\">\n",
       "  <use xlink:href=\"#glyph0-5\" x=\"150.433594\" y=\"63.273438\"/>\n",
       "</g>\n",
       "<g style=\"fill:rgb(0%,0%,0%);fill-opacity:1;\">\n",
       "  <use xlink:href=\"#glyph0-6\" x=\"166.164063\" y=\"176.53125\"/>\n",
       "</g>\n",
       "</g>\n",
       "</svg>\n"
      ],
      "text/plain": [
       "<igraph.drawing.Plot at 0x1e7f0092130>"
      ]
     },
     "execution_count": 2,
     "metadata": {
      "image/svg+xml": {
       "isolated": true
      }
     },
     "output_type": "execute_result"
    }
   ],
   "source": [
    "import numpy as np\n",
    "\n",
    "H = igraph.Graph(directed=True)\n",
    "H.add_vertices(6)\n",
    "H.vs['label'] = range(1,7)\n",
    "H.add_edges([(0,4),(1,0),(1,2),(1,3),(2,3),(2,4),(2,5),(3,1),(4,0),(5,2)])\n",
    "# random weights rounded to 2 decimal digits\n",
    "H.es['weight'] = np.random.random(H.ecount()).round(2)\n",
    "# show weights\n",
    "vs_H = visual_style.copy()\n",
    "vs_H['edge_width'] = 100*H.es['weight']\n",
    "\n",
    "print('this is H:')\n",
    "igraph.plot(H, **vs_H)"
   ]
  },
  {
   "cell_type": "code",
   "execution_count": 3,
   "metadata": {
    "slideshow": {
     "slide_type": "slide"
    }
   },
   "outputs": [
    {
     "name": "stdout",
     "output_type": "stream",
     "text": [
      "this is K:\n"
     ]
    },
    {
     "ename": "TypeError",
     "evalue": "'VisualEdgeBuilder.Element' object is not subscriptable",
     "output_type": "error",
     "traceback": [
      "\u001b[1;31m---------------------------------------------------------------------------\u001b[0m",
      "\u001b[1;31mTypeError\u001b[0m                                 Traceback (most recent call last)",
      "File \u001b[1;32m~\\anaconda3\\envs\\MAD_env\\lib\\site-packages\\IPython\\core\\formatters.py:343\u001b[0m, in \u001b[0;36mBaseFormatter.__call__\u001b[1;34m(self, obj)\u001b[0m\n\u001b[0;32m    341\u001b[0m     method \u001b[38;5;241m=\u001b[39m get_real_method(obj, \u001b[38;5;28mself\u001b[39m\u001b[38;5;241m.\u001b[39mprint_method)\n\u001b[0;32m    342\u001b[0m     \u001b[38;5;28;01mif\u001b[39;00m method \u001b[38;5;129;01mis\u001b[39;00m \u001b[38;5;129;01mnot\u001b[39;00m \u001b[38;5;28;01mNone\u001b[39;00m:\n\u001b[1;32m--> 343\u001b[0m         \u001b[38;5;28;01mreturn\u001b[39;00m \u001b[43mmethod\u001b[49m\u001b[43m(\u001b[49m\u001b[43m)\u001b[49m\n\u001b[0;32m    344\u001b[0m     \u001b[38;5;28;01mreturn\u001b[39;00m \u001b[38;5;28;01mNone\u001b[39;00m\n\u001b[0;32m    345\u001b[0m \u001b[38;5;28;01melse\u001b[39;00m:\n",
      "File \u001b[1;32m~\\anaconda3\\envs\\MAD_env\\lib\\site-packages\\igraph\\drawing\\__init__.py:367\u001b[0m, in \u001b[0;36mPlot._repr_svg_\u001b[1;34m(self)\u001b[0m\n\u001b[0;32m    365\u001b[0m context \u001b[38;5;241m=\u001b[39m cairo\u001b[38;5;241m.\u001b[39mContext(surface)\n\u001b[0;32m    366\u001b[0m \u001b[38;5;66;03m# Plot the graph on this context\u001b[39;00m\n\u001b[1;32m--> 367\u001b[0m \u001b[38;5;28;43mself\u001b[39;49m\u001b[38;5;241;43m.\u001b[39;49m\u001b[43mredraw\u001b[49m\u001b[43m(\u001b[49m\u001b[43mcontext\u001b[49m\u001b[43m)\u001b[49m\n\u001b[0;32m    368\u001b[0m \u001b[38;5;66;03m# No idea why this is needed but python crashes without\u001b[39;00m\n\u001b[0;32m    369\u001b[0m context\u001b[38;5;241m.\u001b[39mshow_page()\n",
      "File \u001b[1;32m~\\anaconda3\\envs\\MAD_env\\lib\\site-packages\\igraph\\drawing\\__init__.py:276\u001b[0m, in \u001b[0;36mPlot.redraw\u001b[1;34m(self, context)\u001b[0m\n\u001b[0;32m    274\u001b[0m \u001b[38;5;28;01melse\u001b[39;00m:\n\u001b[0;32m    275\u001b[0m     ctx\u001b[38;5;241m.\u001b[39msave()\n\u001b[1;32m--> 276\u001b[0m plotter(ctx, bbox, palette, \u001b[38;5;241m*\u001b[39margs, \u001b[38;5;241m*\u001b[39m\u001b[38;5;241m*\u001b[39mkwds)\n\u001b[0;32m    277\u001b[0m \u001b[38;5;28;01mif\u001b[39;00m opacity \u001b[38;5;241m<\u001b[39m \u001b[38;5;241m1.0\u001b[39m:\n\u001b[0;32m    278\u001b[0m     ctx\u001b[38;5;241m.\u001b[39mpop_group_to_source()\n",
      "File \u001b[1;32m~\\anaconda3\\envs\\MAD_env\\lib\\site-packages\\igraph\\__init__.py:4166\u001b[0m, in \u001b[0;36mGraph.__plot__\u001b[1;34m(self, context, bbox, palette, *args, **kwds)\u001b[0m\n\u001b[0;32m   4164\u001b[0m     \u001b[38;5;28;01mdel\u001b[39;00m kwds[\u001b[38;5;124m\"\u001b[39m\u001b[38;5;124mdrawer_factory\u001b[39m\u001b[38;5;124m\"\u001b[39m]\n\u001b[0;32m   4165\u001b[0m drawer \u001b[38;5;241m=\u001b[39m drawer_factory(context, bbox)\n\u001b[1;32m-> 4166\u001b[0m drawer\u001b[38;5;241m.\u001b[39mdraw(\u001b[38;5;28mself\u001b[39m, palette, \u001b[38;5;241m*\u001b[39margs, \u001b[38;5;241m*\u001b[39m\u001b[38;5;241m*\u001b[39mkwds)\n",
      "File \u001b[1;32m~\\anaconda3\\envs\\MAD_env\\lib\\site-packages\\igraph\\drawing\\graph.py:360\u001b[0m, in \u001b[0;36mDefaultGraphDrawer.draw\u001b[1;34m(self, graph, palette, *args, **kwds)\u001b[0m\n\u001b[0;32m    358\u001b[0m     src, dest \u001b[38;5;241m=\u001b[39m edge\u001b[38;5;241m.\u001b[39mtuple\n\u001b[0;32m    359\u001b[0m     src_vertex, dest_vertex \u001b[38;5;241m=\u001b[39m vertex_builder[src], vertex_builder[dest]\n\u001b[1;32m--> 360\u001b[0m     \u001b[43mdrawer_method\u001b[49m\u001b[43m(\u001b[49m\u001b[43mvisual_edge\u001b[49m\u001b[43m,\u001b[49m\u001b[43m \u001b[49m\u001b[43msrc_vertex\u001b[49m\u001b[43m,\u001b[49m\u001b[43m \u001b[49m\u001b[43mdest_vertex\u001b[49m\u001b[43m)\u001b[49m\n\u001b[0;32m    362\u001b[0m \u001b[38;5;66;03m# Construct the iterator that we will use to draw the vertices\u001b[39;00m\n\u001b[0;32m    363\u001b[0m vs \u001b[38;5;241m=\u001b[39m graph\u001b[38;5;241m.\u001b[39mvs\n",
      "File \u001b[1;32m~\\anaconda3\\envs\\MAD_env\\lib\\site-packages\\igraph\\drawing\\edge.py:123\u001b[0m, in \u001b[0;36mAbstractEdgeDrawer.draw_undirected_edge\u001b[1;34m(self, edge, src_vertex, dest_vertex)\u001b[0m\n\u001b[0;32m    120\u001b[0m \u001b[38;5;28;01mif\u001b[39;00m edge\u001b[38;5;241m.\u001b[39mcurved:\n\u001b[0;32m    121\u001b[0m     (x1, y1), (x2, y2) \u001b[38;5;241m=\u001b[39m src_vertex\u001b[38;5;241m.\u001b[39mposition, dest_vertex\u001b[38;5;241m.\u001b[39mposition\n\u001b[1;32m--> 123\u001b[0m     aux1, aux2 \u001b[38;5;241m=\u001b[39m get_bezier_control_points_for_curved_edge(x1, y1, x2, y2, \u001b[43medge\u001b[49m\u001b[43m[\u001b[49m\u001b[38;5;124;43m'\u001b[39;49m\u001b[38;5;124;43mcurved\u001b[39;49m\u001b[38;5;124;43m'\u001b[39;49m\u001b[43m]\u001b[49m)\n\u001b[0;32m    125\u001b[0m     ctx\u001b[38;5;241m.\u001b[39mcurve_to(aux1[\u001b[38;5;241m0\u001b[39m], aux1[\u001b[38;5;241m1\u001b[39m], aux2[\u001b[38;5;241m0\u001b[39m], aux2[\u001b[38;5;241m1\u001b[39m], \u001b[38;5;241m*\u001b[39mdest_vertex\u001b[38;5;241m.\u001b[39mposition)\n\u001b[0;32m    126\u001b[0m \u001b[38;5;28;01melse\u001b[39;00m:\n",
      "\u001b[1;31mTypeError\u001b[0m: 'VisualEdgeBuilder.Element' object is not subscriptable"
     ]
    },
    {
     "data": {
      "text/plain": [
       "<igraph.drawing.Plot at 0x1e7edc23e80>"
      ]
     },
     "execution_count": 3,
     "metadata": {},
     "output_type": "execute_result"
    }
   ],
   "source": [
    "K = igraph.Graph()\n",
    "K.add_vertices(6)\n",
    "K.vs['label'] = range(1,7)\n",
    "# this is the first layer:\n",
    "K.add_edges([(0,4),(1,0),(2,3),(2,4),(2,5)])\n",
    "K.es['layer'] = 'A'\n",
    "# this is the second layer:\n",
    "K.add_edges([(1,0),(1,2),(1,3),(2,4),(3,3)])\n",
    "K.es['layer'] = K.es['layer'][:-5]+['B']*5   # igraph sets each attribute to None for newly added edges \n",
    "\n",
    "# show type\n",
    "vs_K = visual_style.copy()\n",
    "vs_K['edge_color'] = ['blue' if l=='A' else 'green' for l in K.es['layer']]\n",
    "\n",
    "print('this is K:')\n",
    "igraph.plot(K, **vs_K)"
   ]
  },
  {
   "cell_type": "markdown",
   "metadata": {
    "slideshow": {
     "slide_type": "slide"
    }
   },
   "source": [
    "### Adjacency matrix ###\n",
    "\n",
    "The **adjacency matrix** of a graph $G=(V,E)$ of $n$ vertices is the $n\\times n$ matrix $A$ defined as follows:\n",
    "\n",
    "$$A_{ij} = \\begin{cases} w_{ij} &\\mathrm{if} \\quad (i,j)\\in E\\\\ 0 &\\mathrm{otherwise}\\end{cases}$$\n",
    "\n",
    "where $w_{ij}\\in \\mathbb{R}$ is the **weight** of edge $(i,j)$, and $w_{ij}=1$ if the graph in unweighted."
   ]
  },
  {
   "cell_type": "code",
   "execution_count": 4,
   "metadata": {
    "slideshow": {
     "slide_type": "slide"
    }
   },
   "outputs": [
    {
     "name": "stdout",
     "output_type": "stream",
     "text": [
      "this is the adjacency matrix of G:\n",
      "\n",
      "[[0, 1, 0, 0, 1, 0]\n",
      " [1, 0, 1, 1, 0, 0]\n",
      " [0, 1, 0, 1, 1, 1]\n",
      " [0, 1, 1, 0, 0, 0]\n",
      " [1, 0, 1, 0, 0, 0]\n",
      " [0, 0, 1, 0, 0, 0]]\n"
     ]
    }
   ],
   "source": [
    "print('this is the adjacency matrix of G:\\n')\n",
    "print(G.get_adjacency())"
   ]
  },
  {
   "cell_type": "code",
   "execution_count": 5,
   "metadata": {
    "slideshow": {
     "slide_type": "slide"
    }
   },
   "outputs": [
    {
     "name": "stdout",
     "output_type": "stream",
     "text": [
      "this is the adjacency matrix of H:\n",
      "\n",
      "[[0, 0, 0, 0, 0.94, 0]\n",
      " [0.72, 0, 0.66, 0.71, 0, 0]\n",
      " [0, 0, 0, 0.7, 0.79, 0.68]\n",
      " [0, 0.43, 0, 0, 0, 0]\n",
      " [0.56, 0, 0, 0, 0, 0]\n",
      " [0, 0, 0.58, 0, 0, 0]]\n"
     ]
    }
   ],
   "source": [
    "print('this is the adjacency matrix of H:\\n')\n",
    "print(H.get_adjacency(attribute='weight'))"
   ]
  },
  {
   "cell_type": "code",
   "execution_count": 6,
   "metadata": {
    "slideshow": {
     "slide_type": "slide"
    }
   },
   "outputs": [
    {
     "name": "stdout",
     "output_type": "stream",
     "text": [
      "this is the adjacency matrix of K:\n",
      "\n",
      "[[0, 2, 0, 0, 1, 0]\n",
      " [2, 0, 1, 1, 0, 0]\n",
      " [0, 1, 0, 1, 2, 1]\n",
      " [0, 1, 1, 1, 0, 0]\n",
      " [1, 0, 2, 0, 0, 0]\n",
      " [0, 0, 1, 0, 0, 0]]\n",
      "\n",
      "by default, igraph weighs each edge by its \"multiplicity\"\n",
      "if we \"flatten\" the two layers onto a single graph, K is a multigraph!\n"
     ]
    }
   ],
   "source": [
    "print('this is the adjacency matrix of K:\\n')\n",
    "print(K.get_adjacency())\n",
    "print()\n",
    "print('by default, igraph weighs each edge by its \"multiplicity\"')\n",
    "print('if we \"flatten\" the two layers onto a single graph, K is a multigraph!')"
   ]
  },
  {
   "cell_type": "code",
   "execution_count": 7,
   "metadata": {
    "slideshow": {
     "slide_type": "slide"
    }
   },
   "outputs": [
    {
     "name": "stdout",
     "output_type": "stream",
     "text": [
      "we can obtain a simple graph from K and see its adjacency matrix:\n",
      "\n",
      "[[0, 1, 0, 0, 1, 0]\n",
      " [1, 0, 1, 1, 0, 0]\n",
      " [0, 1, 0, 1, 1, 1]\n",
      " [0, 1, 1, 0, 0, 0]\n",
      " [1, 0, 1, 0, 0, 0]\n",
      " [0, 0, 1, 0, 0, 0]]\n"
     ]
    }
   ],
   "source": [
    "print('we can obtain a simple graph from K and see its adjacency matrix:\\n')\n",
    "# I first create a copy of K because simplify() modifies the graph in-place!\n",
    "K_copy = K.copy()\n",
    "K_simple = K_copy.simplify()\n",
    "print(K_simple.get_adjacency())"
   ]
  },
  {
   "cell_type": "code",
   "execution_count": 8,
   "metadata": {
    "slideshow": {
     "slide_type": "slide"
    }
   },
   "outputs": [
    {
     "name": "stdout",
     "output_type": "stream",
     "text": [
      "this the first layer of K:\n",
      "\n"
     ]
    },
    {
     "data": {
      "image/svg+xml": [
       "<?xml version=\"1.0\" encoding=\"UTF-8\"?>\n",
       "<svg xmlns=\"http://www.w3.org/2000/svg\" xmlns:xlink=\"http://www.w3.org/1999/xlink\" width=\"200pt\" height=\"200pt\" viewBox=\"0 0 200 200\" version=\"1.1\">\n",
       "<defs>\n",
       "<g>\n",
       "<symbol overflow=\"visible\" id=\"glyph0-0\">\n",
       "<path style=\"stroke:none;\" d=\"M 1.75 0 L 1.75 -8.75 L 8.75 -8.75 L 8.75 0 Z M 1.96875 -0.21875 L 8.53125 -0.21875 L 8.53125 -8.53125 L 1.96875 -8.53125 Z M 1.96875 -0.21875 \"/>\n",
       "</symbol>\n",
       "<symbol overflow=\"visible\" id=\"glyph0-1\">\n",
       "<path style=\"stroke:none;\" d=\"M 5.214844 0 L 3.984375 0 L 3.984375 -7.839844 C 3.6875 -7.558594 3.296875 -7.273438 2.816406 -6.992188 C 2.335938 -6.707031 1.90625 -6.496094 1.523438 -6.359375 L 1.523438 -7.546875 C 2.210938 -7.867188 2.8125 -8.257813 3.328125 -8.722656 C 3.84375 -9.179688 4.207031 -9.625 4.421875 -10.0625 L 5.214844 -10.0625 Z M 5.214844 0 \"/>\n",
       "</symbol>\n",
       "<symbol overflow=\"visible\" id=\"glyph0-2\">\n",
       "<path style=\"stroke:none;\" d=\"M 7.046875 -1.183594 L 7.046875 0 L 0.421875 0 C 0.414063 -0.296875 0.460938 -0.582031 0.566406 -0.855469 C 0.734375 -1.304688 1.003906 -1.746094 1.375 -2.1875 C 1.746094 -2.621094 2.285156 -3.128906 2.988281 -3.703125 C 4.074219 -4.597656 4.808594 -5.304688 5.195313 -5.828125 C 5.574219 -6.347656 5.765625 -6.839844 5.769531 -7.308594 C 5.765625 -7.792969 5.589844 -8.203125 5.246094 -8.539063 C 4.894531 -8.871094 4.441406 -9.039063 3.882813 -9.042969 C 3.285156 -9.039063 2.8125 -8.863281 2.460938 -8.507813 C 2.105469 -8.152344 1.925781 -7.660156 1.921875 -7.035156 L 0.65625 -7.164063 C 0.742188 -8.105469 1.066406 -8.824219 1.632813 -9.320313 C 2.195313 -9.8125 2.953125 -10.058594 3.910156 -10.0625 C 4.867188 -10.058594 5.628906 -9.792969 6.191406 -9.261719 C 6.75 -8.726563 7.03125 -8.066406 7.035156 -7.28125 C 7.03125 -6.878906 6.949219 -6.484375 6.789063 -6.097656 C 6.621094 -5.707031 6.347656 -5.296875 5.96875 -4.871094 C 5.585938 -4.441406 4.953125 -3.855469 4.074219 -3.109375 C 3.332031 -2.488281 2.859375 -2.066406 2.652344 -1.847656 C 2.4375 -1.621094 2.265625 -1.402344 2.132813 -1.183594 Z M 7.046875 -1.183594 \"/>\n",
       "</symbol>\n",
       "<symbol overflow=\"visible\" id=\"glyph0-3\">\n",
       "<path style=\"stroke:none;\" d=\"M 0.585938 -2.644531 L 1.820313 -2.808594 C 1.957031 -2.109375 2.195313 -1.609375 2.539063 -1.300781 C 2.875 -0.992188 3.289063 -0.835938 3.78125 -0.839844 C 4.355469 -0.835938 4.84375 -1.039063 5.246094 -1.441406 C 5.640625 -1.839844 5.839844 -2.335938 5.84375 -2.933594 C 5.839844 -3.496094 5.65625 -3.960938 5.289063 -4.332031 C 4.917969 -4.695313 4.449219 -4.878906 3.882813 -4.882813 C 3.648438 -4.878906 3.359375 -4.832031 3.015625 -4.742188 L 3.152344 -5.824219 C 3.230469 -5.816406 3.296875 -5.8125 3.351563 -5.8125 C 3.875 -5.8125 4.34375 -5.949219 4.765625 -6.222656 C 5.179688 -6.496094 5.390625 -6.914063 5.394531 -7.484375 C 5.390625 -7.933594 5.238281 -8.308594 4.933594 -8.605469 C 4.628906 -8.898438 4.234375 -9.046875 3.753906 -9.050781 C 3.273438 -9.046875 2.875 -8.894531 2.554688 -8.597656 C 2.234375 -8.292969 2.027344 -7.84375 1.941406 -7.246094 L 0.710938 -7.464844 C 0.859375 -8.289063 1.203125 -8.925781 1.734375 -9.382813 C 2.265625 -9.832031 2.929688 -10.058594 3.726563 -10.0625 C 4.273438 -10.058594 4.773438 -9.941406 5.234375 -9.710938 C 5.691406 -9.472656 6.042969 -9.152344 6.289063 -8.75 C 6.53125 -8.339844 6.65625 -7.910156 6.65625 -7.457031 C 6.65625 -7.023438 6.539063 -6.628906 6.308594 -6.273438 C 6.074219 -5.917969 5.730469 -5.636719 5.277344 -5.429688 C 5.867188 -5.289063 6.328125 -5.003906 6.65625 -4.574219 C 6.984375 -4.140625 7.148438 -3.601563 7.148438 -2.960938 C 7.148438 -2.082031 6.828125 -1.339844 6.191406 -0.734375 C 5.550781 -0.125 4.746094 0.175781 3.773438 0.179688 C 2.890625 0.175781 2.160156 -0.0820313 1.582031 -0.605469 C 1 -1.128906 0.667969 -1.808594 0.585938 -2.644531 Z M 0.585938 -2.644531 \"/>\n",
       "</symbol>\n",
       "<symbol overflow=\"visible\" id=\"glyph0-4\">\n",
       "<path style=\"stroke:none;\" d=\"M 4.523438 0 L 4.523438 -2.398438 L 0.179688 -2.398438 L 0.179688 -3.527344 L 4.75 -10.023438 L 5.757813 -10.023438 L 5.757813 -3.527344 L 7.109375 -3.527344 L 7.109375 -2.398438 L 5.757813 -2.398438 L 5.757813 0 Z M 4.523438 -3.527344 L 4.523438 -8.046875 L 1.386719 -3.527344 Z M 4.523438 -3.527344 \"/>\n",
       "</symbol>\n",
       "<symbol overflow=\"visible\" id=\"glyph0-5\">\n",
       "<path style=\"stroke:none;\" d=\"M 0.582031 -2.625 L 1.875 -2.734375 C 1.96875 -2.101563 2.1875 -1.628906 2.539063 -1.3125 C 2.882813 -0.996094 3.304688 -0.835938 3.800781 -0.839844 C 4.390625 -0.835938 4.890625 -1.058594 5.304688 -1.507813 C 5.710938 -1.953125 5.917969 -2.546875 5.921875 -3.289063 C 5.917969 -3.984375 5.71875 -4.539063 5.328125 -4.949219 C 4.929688 -5.351563 4.414063 -5.554688 3.78125 -5.558594 C 3.382813 -5.554688 3.027344 -5.464844 2.707031 -5.285156 C 2.386719 -5.105469 2.132813 -4.871094 1.953125 -4.585938 L 0.800781 -4.738281 L 1.769531 -9.882813 L 6.753906 -9.882813 L 6.753906 -8.710938 L 2.753906 -8.710938 L 2.214844 -6.015625 C 2.816406 -6.433594 3.445313 -6.644531 4.109375 -6.644531 C 4.980469 -6.644531 5.71875 -6.339844 6.324219 -5.734375 C 6.921875 -5.128906 7.222656 -4.351563 7.226563 -3.398438 C 7.222656 -2.492188 6.960938 -1.707031 6.433594 -1.046875 C 5.789063 -0.234375 4.910156 0.167969 3.800781 0.171875 C 2.886719 0.167969 2.140625 -0.0820313 1.566406 -0.59375 C 0.988281 -1.101563 0.660156 -1.78125 0.582031 -2.625 Z M 0.582031 -2.625 \"/>\n",
       "</symbol>\n",
       "<symbol overflow=\"visible\" id=\"glyph0-6\">\n",
       "<path style=\"stroke:none;\" d=\"M 6.964844 -7.566406 L 5.742188 -7.472656 C 5.632813 -7.949219 5.476563 -8.300781 5.277344 -8.523438 C 4.941406 -8.871094 4.53125 -9.046875 4.046875 -9.050781 C 3.652344 -9.046875 3.308594 -8.9375 3.015625 -8.722656 C 2.625 -8.4375 2.320313 -8.023438 2.097656 -7.484375 C 1.875 -6.9375 1.757813 -6.167969 1.75 -5.167969 C 2.042969 -5.617188 2.40625 -5.949219 2.835938 -6.171875 C 3.265625 -6.386719 3.714844 -6.496094 4.183594 -6.5 C 5.003906 -6.496094 5.699219 -6.195313 6.277344 -5.59375 C 6.851563 -4.988281 7.140625 -4.207031 7.144531 -3.253906 C 7.140625 -2.621094 7.003906 -2.039063 6.734375 -1.5 C 6.460938 -0.960938 6.089844 -0.546875 5.617188 -0.257813 C 5.140625 0.0273438 4.605469 0.167969 4.007813 0.171875 C 2.980469 0.167969 2.140625 -0.207031 1.496094 -0.960938 C 0.847656 -1.714844 0.527344 -2.957031 0.527344 -4.6875 C 0.527344 -6.625 0.882813 -8.03125 1.601563 -8.914063 C 2.21875 -9.675781 3.058594 -10.058594 4.121094 -10.0625 C 4.90625 -10.058594 5.554688 -9.839844 6.058594 -9.398438 C 6.5625 -8.953125 6.863281 -8.339844 6.964844 -7.566406 Z M 1.941406 -3.246094 C 1.9375 -2.820313 2.027344 -2.414063 2.210938 -2.027344 C 2.386719 -1.640625 2.640625 -1.34375 2.964844 -1.144531 C 3.289063 -0.9375 3.628906 -0.835938 3.984375 -0.839844 C 4.503906 -0.835938 4.949219 -1.046875 5.324219 -1.46875 C 5.695313 -1.886719 5.882813 -2.457031 5.886719 -3.179688 C 5.882813 -3.871094 5.699219 -4.417969 5.332031 -4.816406 C 4.960938 -5.214844 4.496094 -5.414063 3.9375 -5.414063 C 3.378906 -5.414063 2.90625 -5.214844 2.519531 -4.816406 C 2.132813 -4.417969 1.9375 -3.894531 1.941406 -3.246094 Z M 1.941406 -3.246094 \"/>\n",
       "</symbol>\n",
       "</g>\n",
       "</defs>\n",
       "<g id=\"surface18\">\n",
       "<rect x=\"0\" y=\"0\" width=\"200\" height=\"200\" style=\"fill:rgb(100%,100%,100%);fill-opacity:1;stroke:none;\"/>\n",
       "<path style=\"fill:none;stroke-width:1;stroke-linecap:butt;stroke-linejoin:miter;stroke:rgb(0%,0%,100%);stroke-opacity:1;stroke-miterlimit:10;\" d=\"M 137.558594 141.617188 L 104.738281 112.902344 \"/>\n",
       "<path style=\"fill:none;stroke-width:1;stroke-linecap:butt;stroke-linejoin:miter;stroke:rgb(0%,0%,100%);stroke-opacity:1;stroke-miterlimit:10;\" d=\"M 137.558594 141.617188 L 170 170 \"/>\n",
       "<path style=\"fill:none;stroke-width:1;stroke-linecap:butt;stroke-linejoin:miter;stroke:rgb(0%,0%,100%);stroke-opacity:1;stroke-miterlimit:10;\" d=\"M 70.363281 82.824219 L 30 101.007813 \"/>\n",
       "<path style=\"fill:none;stroke-width:1;stroke-linecap:butt;stroke-linejoin:miter;stroke:rgb(0%,0%,100%);stroke-opacity:1;stroke-miterlimit:10;\" d=\"M 70.363281 82.824219 L 104.738281 112.902344 \"/>\n",
       "<path style=\"fill:none;stroke-width:1;stroke-linecap:butt;stroke-linejoin:miter;stroke:rgb(0%,0%,100%);stroke-opacity:1;stroke-miterlimit:10;\" d=\"M 70.363281 82.824219 L 71.125 30 \"/>\n",
       "<path style=\"fill-rule:nonzero;fill:rgb(100%,0%,0%);fill-opacity:1;stroke-width:1;stroke-linecap:butt;stroke-linejoin:miter;stroke:rgb(0%,0%,0%);stroke-opacity:1;stroke-miterlimit:10;\" d=\"M 147.558594 141.617188 C 147.558594 147.140625 143.082031 151.617188 137.558594 151.617188 C 132.035156 151.617188 127.558594 147.140625 127.558594 141.617188 C 127.558594 136.09375 132.035156 131.617188 137.558594 131.617188 C 143.082031 131.617188 147.558594 136.09375 147.558594 141.617188 \"/>\n",
       "<path style=\"fill-rule:nonzero;fill:rgb(100%,0%,0%);fill-opacity:1;stroke-width:1;stroke-linecap:butt;stroke-linejoin:miter;stroke:rgb(0%,0%,0%);stroke-opacity:1;stroke-miterlimit:10;\" d=\"M 180 170 C 180 175.523438 175.523438 180 170 180 C 164.476563 180 160 175.523438 160 170 C 160 164.476563 164.476563 160 170 160 C 175.523438 160 180 164.476563 180 170 \"/>\n",
       "<path style=\"fill-rule:nonzero;fill:rgb(100%,0%,0%);fill-opacity:1;stroke-width:1;stroke-linecap:butt;stroke-linejoin:miter;stroke:rgb(0%,0%,0%);stroke-opacity:1;stroke-miterlimit:10;\" d=\"M 80.363281 82.824219 C 80.363281 88.347656 75.882813 92.824219 70.363281 92.824219 C 64.839844 92.824219 60.363281 88.347656 60.363281 82.824219 C 60.363281 77.304688 64.839844 72.824219 70.363281 72.824219 C 75.882813 72.824219 80.363281 77.304688 80.363281 82.824219 \"/>\n",
       "<path style=\"fill-rule:nonzero;fill:rgb(100%,0%,0%);fill-opacity:1;stroke-width:1;stroke-linecap:butt;stroke-linejoin:miter;stroke:rgb(0%,0%,0%);stroke-opacity:1;stroke-miterlimit:10;\" d=\"M 40 101.007813 C 40 106.53125 35.523438 111.007813 30 111.007813 C 24.476563 111.007813 20 106.53125 20 101.007813 C 20 95.484375 24.476563 91.007813 30 91.007813 C 35.523438 91.007813 40 95.484375 40 101.007813 \"/>\n",
       "<path style=\"fill-rule:nonzero;fill:rgb(100%,0%,0%);fill-opacity:1;stroke-width:1;stroke-linecap:butt;stroke-linejoin:miter;stroke:rgb(0%,0%,0%);stroke-opacity:1;stroke-miterlimit:10;\" d=\"M 114.738281 112.902344 C 114.738281 118.425781 110.257813 122.902344 104.738281 122.902344 C 99.214844 122.902344 94.738281 118.425781 94.738281 112.902344 C 94.738281 107.378906 99.214844 102.902344 104.738281 102.902344 C 110.257813 102.902344 114.738281 107.378906 114.738281 112.902344 \"/>\n",
       "<path style=\"fill-rule:nonzero;fill:rgb(100%,0%,0%);fill-opacity:1;stroke-width:1;stroke-linecap:butt;stroke-linejoin:miter;stroke:rgb(0%,0%,0%);stroke-opacity:1;stroke-miterlimit:10;\" d=\"M 81.125 30 C 81.125 35.523438 76.648438 40 71.125 40 C 65.601563 40 61.125 35.523438 61.125 30 C 61.125 24.476563 65.601563 20 71.125 20 C 76.648438 20 81.125 24.476563 81.125 30 \"/>\n",
       "<g style=\"fill:rgb(0%,0%,0%);fill-opacity:1;\">\n",
       "  <use xlink:href=\"#glyph0-1\" x=\"134.1875\" y=\"148.148438\"/>\n",
       "</g>\n",
       "<g style=\"fill:rgb(0%,0%,0%);fill-opacity:1;\">\n",
       "  <use xlink:href=\"#glyph0-2\" x=\"166.269531\" y=\"176.53125\"/>\n",
       "</g>\n",
       "<g style=\"fill:rgb(0%,0%,0%);fill-opacity:1;\">\n",
       "  <use xlink:href=\"#glyph0-3\" x=\"66.492188\" y=\"89.355469\"/>\n",
       "</g>\n",
       "<g style=\"fill:rgb(0%,0%,0%);fill-opacity:1;\">\n",
       "  <use xlink:href=\"#glyph0-4\" x=\"26.355469\" y=\"107.519531\"/>\n",
       "</g>\n",
       "<g style=\"fill:rgb(0%,0%,0%);fill-opacity:1;\">\n",
       "  <use xlink:href=\"#glyph0-5\" x=\"100.832031\" y=\"119.34375\"/>\n",
       "</g>\n",
       "<g style=\"fill:rgb(0%,0%,0%);fill-opacity:1;\">\n",
       "  <use xlink:href=\"#glyph0-6\" x=\"67.292969\" y=\"36.53125\"/>\n",
       "</g>\n",
       "</g>\n",
       "</svg>\n"
      ],
      "text/plain": [
       "<igraph.drawing.Plot at 0x1e7edc239d0>"
      ]
     },
     "execution_count": 8,
     "metadata": {
      "image/svg+xml": {
       "isolated": true
      }
     },
     "output_type": "execute_result"
    }
   ],
   "source": [
    "KA = K.subgraph_edges([e for e in K.es if e['layer']=='A'], delete_vertices=False)\n",
    "print('this the first layer of K:\\n')\n",
    "igraph.plot(KA, **vs_K)"
   ]
  },
  {
   "cell_type": "code",
   "execution_count": 9,
   "metadata": {
    "slideshow": {
     "slide_type": "slide"
    }
   },
   "outputs": [
    {
     "name": "stdout",
     "output_type": "stream",
     "text": [
      "and its adjacency matrix:\n",
      "\n",
      "[[0, 1, 0, 0, 1, 0]\n",
      " [1, 0, 0, 0, 0, 0]\n",
      " [0, 0, 0, 1, 1, 1]\n",
      " [0, 0, 1, 0, 0, 0]\n",
      " [1, 0, 1, 0, 0, 0]\n",
      " [0, 0, 1, 0, 0, 0]]\n"
     ]
    }
   ],
   "source": [
    "print('and its adjacency matrix:\\n')\n",
    "print(KA.get_adjacency())"
   ]
  },
  {
   "cell_type": "markdown",
   "metadata": {
    "slideshow": {
     "slide_type": "slide"
    }
   },
   "source": [
    "### Adjacency matrix ###\n",
    "\n",
    "Remarks:\n",
    "- $G$ is a simple graph, so\n",
    "    - the diagonal is all zeros (no self-loops)\n",
    "    - all entries are \"binary\" (0 or 1, unweighted)\n",
    "    - if $A_{ij} = 1$ then also $A_{ji} = 1$ (undirected, $A$ is *symmetric*)\n",
    "- $H$ is directed and weighted, so\n",
    "    - $A$ is *not* symmetric\n",
    "    - $A$ is *non* binary\n",
    "- $K$ is multilayer/multigraph with self-loops, so:\n",
    "    - $A$ is not binary if we consider edge-multiplicity\n",
    "    - $A_{33}\\neq 0$\n",
    "    - we can extract a different $A$ for each layer"
   ]
  },
  {
   "cell_type": "markdown",
   "metadata": {
    "slideshow": {
     "slide_type": "slide"
    }
   },
   "source": [
    "### Adjacency matrices ###\n",
    "\n",
    "- commonly used to describe mathematically what a network algorithm or network calculation does\n",
    "- used in network algorithms when an operation on the matrix $A$ is more efficient than the same operation on another representation, e.g., determining whether $(i, j) \\in E$ is fastest in A (constant-time lookup)\n",
    "- fast access to each adjacency $A_{ij}$ comes at the cost of quadratic $O(n^2)$ memory cost: on a modern computer, a simple network of size $n = 100000$ requires about 74.5 GB"
   ]
  },
  {
   "cell_type": "markdown",
   "metadata": {
    "slideshow": {
     "slide_type": "slide"
    }
   },
   "source": [
    "### Dense vs. sparse graphs ###\n",
    "\n",
    "A network is **dense** when \"most\" of $A$'s elements are **non-zero**, i.e., when most of the possible edges do exist.\n",
    "For dense networks, an adjacency matrix is the **most space-efficient** way to represent the edges.\n",
    "\n",
    "Example of dense network: a network where edges express pairwise correlations or similarity\n",
    "\n",
    "A network is **sparse** if only $c\\cdot n$ of $A$'s entries are non-zero, for some \"small\" (with respect to $n$) integer $c$.\n",
    "Essentially, the network is dense if the number of edges is closer to $n^2$, sparse if it is closer to $n$.\n",
    "\n",
    "Most **empirical networks** are **sparse**!\n",
    "\n",
    "For this reason, adjacency matrices are rarely used in practice in their \"real\" form.\n",
    "For computational purposes, many programming languages make use of **sparse matrices**, data structures that are efficient in memory (because not actually a matrix) but still support matrix operations."
   ]
  },
  {
   "cell_type": "code",
   "execution_count": 10,
   "metadata": {
    "slideshow": {
     "slide_type": "slide"
    }
   },
   "outputs": [
    {
     "data": {
      "text/plain": [
       "<6x6 sparse matrix of type '<class 'numpy.intc'>'\n",
       "\twith 14 stored elements in Compressed Sparse Row format>"
      ]
     },
     "execution_count": 10,
     "metadata": {},
     "output_type": "execute_result"
    }
   ],
   "source": [
    "# example of sparse matrix format:\n",
    "G.get_adjacency_sparse()"
   ]
  },
  {
   "cell_type": "markdown",
   "metadata": {
    "slideshow": {
     "slide_type": "slide"
    }
   },
   "source": [
    "### Adjacency list  ###\n",
    "\n",
    "The **adjacency list** of a graph $G=(V,E)$ stores only the non-zero elements of the adjacency matrix, using an array of (unordered) lists:\n",
    "- for $i=0,\\ldots,n-1$, the $i$-th list stores the neighbors of node $i$\n",
    "- edge annotations $w_{ij}$ can be stored together with the neighbor name/index $j$ in a tuple like $(j, w_{ij})$\n",
    "- by only storing the non-zero entries of the adjacency matrix, an adjacency list takes space proportional to the number of nodes and edges $O(n+m)$\n",
    "- in this representation, checking whether $(i, j) \\in E$ requires going through all of $i$'s list which takes time in $O(\\langle k\\rangle)$, where $\\langle k\\rangle$ is the *average degree* of the network\n",
    "\n",
    "The popular GML file format for storing networks is an adjacency list representation, written out\n",
    "in text.\n",
    "Sparse matrices can be stored as \"clever\" adjacency lists."
   ]
  },
  {
   "cell_type": "code",
   "execution_count": 11,
   "metadata": {
    "slideshow": {
     "slide_type": "slide"
    }
   },
   "outputs": [
    {
     "name": "stdout",
     "output_type": "stream",
     "text": [
      "this is the adjacency list of G:\n",
      "\n",
      "[[1, 4], [0, 2, 3], [1, 3, 4, 5], [1, 2], [0, 2], [2]]\n",
      "\n",
      "this is the adjacency list of H (igraph does not support attributes in the list!):\n",
      "\n",
      "[[4], [0, 2, 3], [3, 4, 5], [1], [0], [2]]\n",
      "\n",
      "this is the adjacency list of K:\n",
      "\n",
      "[[1, 1, 4], [0, 0, 2, 3], [1, 3, 4, 4, 5], [1, 2, 3, 3], [0, 2, 2], [2]]\n"
     ]
    }
   ],
   "source": [
    "print('this is the adjacency list of G:\\n')\n",
    "print(G.get_adjlist())\n",
    "\n",
    "\n",
    "print('\\nthis is the adjacency list of H (igraph does not support attributes in the list!):\\n')\n",
    "print(H.get_adjlist())\n",
    "\n",
    "\n",
    "print('\\nthis is the adjacency list of K:\\n')\n",
    "print(K.get_adjlist())"
   ]
  },
  {
   "cell_type": "markdown",
   "metadata": {
    "slideshow": {
     "slide_type": "slide"
    }
   },
   "source": [
    "### Edge list ###\n",
    "\n",
    "The **edge list** of a graph $G=(V,E)$ is just $E$, stored as a list of elements of the form\n",
    "- $(i, j)$ for unweighted networks\n",
    "- $(i, j, w_{ij})$ for weighted networks\n",
    "\n",
    "All other information is implicit in the edge list:\n",
    "- node indices\n",
    "- presence of nodes with no edges attached\n",
    "- whether the network is directed, weighted, bipartite, etc.\n",
    "\n",
    "Edge lists may be a convenient and compact way to store a network, but may be ambiguous.\n",
    "Other formats like GML take nearly as little space, but avoid ambiguities."
   ]
  },
  {
   "cell_type": "code",
   "execution_count": 12,
   "metadata": {
    "slideshow": {
     "slide_type": "slide"
    }
   },
   "outputs": [
    {
     "name": "stdout",
     "output_type": "stream",
     "text": [
      "this is the edge list of G:\n",
      "\n",
      "[(0, 1), (0, 4), (1, 2), (1, 3), (2, 3), (2, 4), (2, 5)]\n",
      "\n",
      "this is the edge list of H:\n",
      "\n",
      "[(0, 4), (1, 0), (1, 2), (1, 3), (2, 3), (2, 4), (2, 5), (3, 1), (4, 0), (5, 2)]\n",
      "\n",
      "igraph does not support attributes in the list, but we can extract the weighted edgelist \"manually\":\n",
      "\n",
      "[(0, 4, 0.94), (1, 0, 0.72), (1, 2, 0.66), (1, 3, 0.71), (2, 3, 0.7), (2, 4, 0.79), (2, 5, 0.68), (3, 1, 0.43), (4, 0, 0.56), (5, 2, 0.58)]\n",
      "\n",
      "this is the edge list of K, with the layer for each edge:\n",
      "\n",
      "[(0, 4, 'A'), (0, 1, 'A'), (2, 3, 'A'), (2, 4, 'A'), (2, 5, 'A'), (0, 1, 'B'), (1, 2, 'B'), (1, 3, 'B'), (2, 4, 'B'), (3, 3, 'B')]\n"
     ]
    }
   ],
   "source": [
    "print('this is the edge list of G:\\n')\n",
    "print(G.get_edgelist())\n",
    "\n",
    "\n",
    "print('\\nthis is the edge list of H:\\n')\n",
    "print(H.get_edgelist())\n",
    "print('\\nigraph does not support attributes in the list, but we can extract the weighted edgelist \"manually\":\\n')\n",
    "print([e.tuple+(e['weight'],) for e in H.es])\n",
    "\n",
    "\n",
    "print('\\nthis is the edge list of K, with the layer for each edge:\\n')\n",
    "print([e.tuple+(e['layer'],) for e in K.es])"
   ]
  },
  {
   "cell_type": "code",
   "execution_count": null,
   "metadata": {},
   "outputs": [],
   "source": []
  }
 ],
 "metadata": {
  "celltoolbar": "Slideshow",
  "kernelspec": {
   "display_name": "Python 3 (ipykernel)",
   "language": "python",
   "name": "python3"
  },
  "language_info": {
   "codemirror_mode": {
    "name": "ipython",
    "version": 3
   },
   "file_extension": ".py",
   "mimetype": "text/x-python",
   "name": "python",
   "nbconvert_exporter": "python",
   "pygments_lexer": "ipython3",
   "version": "3.9.7"
  }
 },
 "nbformat": 4,
 "nbformat_minor": 4
}
