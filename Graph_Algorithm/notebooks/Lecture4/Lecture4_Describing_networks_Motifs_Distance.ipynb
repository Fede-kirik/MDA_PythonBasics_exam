{
 "cells": [
  {
   "cell_type": "markdown",
   "metadata": {
    "slideshow": {
     "slide_type": "slide"
    }
   },
   "source": [
    "### Motifs ###\n",
    "\n",
    "Given a network $G=(V,E)$, a **motif** is a small, connected subgraph $G' = (V'\\subset V, E' \\subset E)$ with a particular **pattern** of edges.\n",
    "\n",
    "Usually, we want to **count** how often a motif $G'$ occurs within a larger network $G$.\n",
    "The computational cost of counting motifs **scales up quickly** with the size of $V'$, so most **motif-based measures** focus on motifs of size 2, 3, or 4."
   ]
  },
  {
   "cell_type": "markdown",
   "metadata": {
    "slideshow": {
     "slide_type": "slide"
    }
   },
   "source": [
    "### Reciprocity (in directed networks) ###\n",
    "\n",
    "The smallest non-trivial motif in a **directed network** is a **reciprocated edge**.\n",
    "\n",
    "<img src=\"images/reciprocity.png\" alt=\"Reciprocity of an edge in directed networks\" title=\"Reciprocity of an edge in directed networks\" style=\"width: 400px;\"/>\n",
    "\n",
    "The **reciprocity** of a network $r$ is given by the fraction of links that are reciprocated:\n",
    "$$r = \\frac{1}{m} \\sum_{ij} A_{ij}A_{ji}$$\n",
    "assuming that edges have unit weight.\n",
    "\n",
    "The **local reciprocity** of node $i$ is:\n",
    "$$r_i = \\frac{1}{k^{\\mathrm{out}}_i} \\sum_j A_{ij}A_{ji}$$"
   ]
  },
  {
   "cell_type": "markdown",
   "metadata": {
    "slideshow": {
     "slide_type": "slide"
    }
   },
   "source": [
    "### Clustering coefficient (in undirected networks) ###\n",
    "\n",
    "In an **undirected** network, we start from motifs of size 3.\n",
    "The **clustering coefficient** $C$ is a network-level measure that captures the **relative frequency of triangles**\n",
    "in a network:\n",
    "$$C = \\frac{\\text{(number of triangles)} \\cdot 3}{\\text{(number of connected triplets)}} = \\frac{\\sum_{ijk} A_{ij}A_{jk}A_{ki}}{\\sum{\\substack{ijk\\\\k\\neq i}} A_{ij}A_{jk}}$$\n",
    "$C$ is the ratio of \"closed triangles\" (cycles of length 3) over \"open triangles\" (paths of length 2).\n",
    "\n",
    "<img src=\"images/clustering.png\" alt=\"Open and closed triangle\" title=\"Open and closed triangle\" style=\"width: 400px;\"/>\n",
    "\n",
    "Calculating $C$ directly from the definition would take $O(n^3)$ time (3 nested sums over $n$ elements).\n",
    "How long would it take to calculate $C$ using an adjacency list representation?"
   ]
  },
  {
   "cell_type": "markdown",
   "metadata": {
    "slideshow": {
     "slide_type": "slide"
    }
   },
   "source": [
    "### Clustering coefficient: example ###\n",
    "\n",
    "What is the value of $C$ for the following graph?\n",
    "\n",
    "<img src=\"images/sample_graph.png\" alt=\"A sample graph\" title=\"A sample graph\" style=\"width: 400px;\"/>"
   ]
  },
  {
   "cell_type": "markdown",
   "metadata": {
    "slideshow": {
     "slide_type": "fragment"
    }
   },
   "source": [
    "- the clique on the right has 6 vertices, thus $\\binom{6}{3}=20$ triangles and $20\\cdot 3 = 60$ connected triplets.\n",
    "- the cycle contains 6 connected triplets and no triangles\n",
    "- finally, there are 2 connected triples starting from the cycle and 5 connected triples starting from the clique that use the edge joining the cycle to the clique\n",
    "\n",
    "Result: $C = \\frac{60}{73} = 0.82$"
   ]
  },
  {
   "cell_type": "markdown",
   "metadata": {
    "slideshow": {
     "slide_type": "slide"
    }
   },
   "source": [
    "### Local clustering coefficient ###\n",
    "\n",
    "The **local clustering coefficient** $C_i$ is the node-level version of $C$:\n",
    "$$C_i = \\frac{\\text{number of pairs of neighbors of $i$ that are connected}}{\\text{number of pairs of neighbors of $i$}} = \\frac{\\sum_{j<k} A_{ij}A_{jk}A_{ki}}{\\binom{k_i}{2}}$$\n",
    "\n",
    "In the above example, the red vertex has $C_i = 0$ because it participates in no triangles.\n",
    "Its neighbors in the clique has $C_i = \\frac{10}{15} = 0.67$."
   ]
  },
  {
   "cell_type": "markdown",
   "metadata": {
    "slideshow": {
     "slide_type": "slide"
    }
   },
   "source": [
    "### Feed-forward and feedback loops (in directed networks) ###\n",
    "\n",
    "$C$ measures the **transitivity** of the \"connected by an edge\" relation.\n",
    "To extend it to directed networks, we need to consider that this relation is *not* symmetric.\n",
    "Usually, two motifs of size 3 are especially studied: the **feed-forward loop** and the **feedback loop**:\n",
    "- a FFL has a two-step path $(i, j)$, $(j, k)$ that is shortcut by an $(i, k)$ that \"feeds forward\" the signal passing along the longer path; the \"skipped\" node (red in the figure) is the \"feed forward\" node\n",
    "- in a FBL, the third edge $(k, i)$ \"feeds back\" the signal that passed along the longer path\n",
    "\n",
    "<img src=\"images/FFL_FBL.png\" alt=\"Feed-forward and feedback loops\" title=\"Feed-forward and feedback loops\" style=\"width: 400px;\"/>"
   ]
  },
  {
   "cell_type": "code",
   "execution_count": 1,
   "metadata": {
    "slideshow": {
     "slide_type": "slide"
    }
   },
   "outputs": [
    {
     "name": "stdout",
     "output_type": "stream",
     "text": [
      "ZK:\n",
      "IGRAPH U--- 34 78 -- \n",
      "EN:\n",
      "IGRAPH UNW- 774 1779 -- \n",
      "+ attr: name (v), weight (e)\n"
     ]
    }
   ],
   "source": [
    "import igraph\n",
    "import pandas as pd\n",
    "\n",
    "# we re-load the ZK and EN graphs (see Lecture3)\n",
    "print('ZK:')\n",
    "ZK = igraph.Graph.Famous('Zachary')\n",
    "print(ZK.summary())\n",
    "#\n",
    "df = pd.read_csv('EN/edges.csv', header=0, names=['source','target','weight','color'])\n",
    "EN = igraph.Graph.TupleList(df[['source','target','weight']].itertuples(index=False), edge_attrs=\"weight\")\n",
    "print('EN:')\n",
    "print(EN.summary())"
   ]
  },
  {
   "cell_type": "code",
   "execution_count": 2,
   "metadata": {
    "slideshow": {
     "slide_type": "slide"
    }
   },
   "outputs": [
    {
     "name": "stdout",
     "output_type": "stream",
     "text": [
      "FW:\n",
      "IGRAPH DNW- 46952 876993 -- \n",
      "+ attr: name (v), time (e), weight (e)\n",
      "FW simplified:\n",
      "IGRAPH DNW- 46952 264004 -- \n",
      "+ attr: name (v), time (e), weight (e)\n",
      "the edge of index 0 is (1, 2) and has multiplicity 13.0\n",
      "the timestamps of this edge are: [1097725406, 1098489762, 1098673897, 1099602800, 1100828851, 1109204517, 1109812281, 1137633708, 1171349373, 1183794101, 1223135323, 1223268478, 1223333012]\n"
     ]
    }
   ],
   "source": [
    "# we also load a Facebook wall-posts graph where edge (i,j) means that i posted on j's wall\n",
    "# beware of the size of this graph!\n",
    "df = pd.read_csv('FW/edges.csv', header=0, names=['source','target','weight','time'])\n",
    "FW = igraph.Graph.TupleList(df.itertuples(index=False), edge_attrs=['weight','time'], directed=True)\n",
    "print('FW:')\n",
    "print(FW.summary())\n",
    "\n",
    "# FW is a multigraph with self-loops and timestamps\n",
    "# we simplify it, removing self-loops, keeping edge-multiplicity and all timestamps\n",
    "FW.simplify(combine_edges={'weight':'sum', 'time':lambda x:x})\n",
    "print('FW simplified:')\n",
    "print(FW.summary())\n",
    "e = FW.es[0]\n",
    "print('the edge of index 0 is', e.tuple, 'and has multiplicity', e['weight'])\n",
    "print('the timestamps of this edge are:', e['time'])"
   ]
  },
  {
   "cell_type": "code",
   "execution_count": 5,
   "metadata": {
    "slideshow": {
     "slide_type": "slide"
    }
   },
   "outputs": [
    {
     "name": "stdout",
     "output_type": "stream",
     "text": [
      "the global clustering of ZK is:\n",
      "0.2556818181818182\n",
      "\n",
      "the global clustering of EN is:\n",
      "0.4296909655478338\n"
     ]
    }
   ],
   "source": [
    "print('the global clustering of ZK is:')\n",
    "print(ZK.transitivity_undirected())\n",
    "print()\n",
    "\n",
    "print('the global clustering of EN is:')\n",
    "print(EN.transitivity_undirected())\n",
    "\n",
    "# qui guardando il clustering globale non mi sembra ci sia una grandissima differenza! vado a vedere quindi localmente"
   ]
  },
  {
   "cell_type": "code",
   "execution_count": 4,
   "metadata": {
    "slideshow": {
     "slide_type": "slide"
    }
   },
   "outputs": [
    {
     "name": "stdout",
     "output_type": "stream",
     "text": [
      "the local clustering of ZK and EN has the following distribution:\n"
     ]
    },
    {
     "data": {
      "image/png": "[encoded data removed]",
      "text/plain": [
       "<Figure size 432x288 with 1 Axes>"
      ]
     },
     "metadata": {
      "needs_background": "light"
     },
     "output_type": "display_data"
    }
   ],
   "source": [
    "print('the local clustering of ZK and EN has the following distribution:')\n",
    "ZK_cl = ZK.transitivity_local_undirected()\n",
    "EN_cl = EN.transitivity_local_undirected()\n",
    "\n",
    "import seaborn as sns\n",
    "import matplotlib.pyplot as plt\n",
    "# this is a normalized histogram\n",
    "ax = sns.histplot({'ZK':ZK_cl,'EN':EN_cl}, fill=False, common_norm=False, stat='probability') \n",
    "plt.grid()\n",
    "\n",
    "# alternatively, try this:\n",
    "# ax = sns.ecdfplot({'ZK':ZK_cl,'EN':EN_cl}, complementary=True)\n",
    "# ecdf is the empirical CDF, with complementary=True seaborn plots the empirical CCDF\n",
    "\n",
    "#qui vedo che \n",
    "# ZK ha molti nodi con clustering coefficient locale alto\n",
    "# EN ha molti nodi con un clustering coeff locale basso\n",
    "# questo mi fa capire che questi due sistemi hanno una proprietà strutturale come la frequenza dei triangoli che \n",
    "# segue distribuzioni molto diverse. "
   ]
  },
  {
   "cell_type": "code",
   "execution_count": 6,
   "metadata": {
    "slideshow": {
     "slide_type": "slide"
    }
   },
   "outputs": [],
   "source": [
    "import numpy as np\n",
    "from scipy.sparse import csr_matrix\n",
    "\n",
    "# questa funzione dato un grafo calcola la frequenza di FFL e FBL\n",
    "# se sparse=True esegue il calcolo con la matrice sparsa\n",
    "def FFL_FBL(graph, sparse=True):\n",
    "    '''\n",
    "        Compute the frequency of Feed-Forward Loops and Feed-Back Loops\n",
    "        FFL: this is the probability that, given A->B and A->C, then B->C and/or C->B\n",
    "        FBL: this is the probability that, given C->A and A->B, then B->C\n",
    "        vertices with zero denominator (no triplets) are assigned 0 transitivity\n",
    "\n",
    "        :graph: an igraph Graph object\n",
    "        :sparse: whether the sparse matrix representation must be used (slower but memory-friendly)\n",
    "    '''\n",
    "\n",
    "    if sparse:\n",
    "        data = np.ones(graph.ecount())\n",
    "        indptr = [0]\n",
    "        indices = []\n",
    "        for adjl in graph.get_adjlist():\n",
    "            indices.extend(adjl)\n",
    "            indptr.append(len(indices))\n",
    "        A = csr_matrix((data,indices,indptr), shape=(graph.vcount(),graph.vcount()))\n",
    "    else:\n",
    "        A = np.asarray(graph.get_adjacency().data)\n",
    "\n",
    "    A_sqr = A.dot(A)\n",
    "    cycles_d = np.sum(A_sqr)\n",
    "    cycles_n = np.sum((A_sqr.dot(A)).diagonal())\n",
    "    if cycles_d != 0:\n",
    "        tglob_cycles = cycles_n/cycles_d\n",
    "    else:\n",
    "        tglob_cycles = 0.0\n",
    "\n",
    "    A_max = A.maximum(A.transpose())\n",
    "    At_A  = A.transpose().dot(A)\n",
    "    any_d = np.sum(At_A)\n",
    "    any_n = np.sum((At_A.dot(A_max)).diagonal())\n",
    "    if any_d != 0:\n",
    "        tglob_any = any_n/any_d\n",
    "    else:\n",
    "        tglob_any = 0.0\n",
    "\n",
    "    return tglob_any, tglob_cycles"
   ]
  },
  {
   "cell_type": "code",
   "execution_count": 8,
   "metadata": {
    "slideshow": {
     "slide_type": "slide"
    }
   },
   "outputs": [
    {
     "name": "stdout",
     "output_type": "stream",
     "text": [
      "FFL frequency in FW: 0.09724444414526946\n",
      "FBL frequency in FW: 0.061849884721592883\n"
     ]
    }
   ],
   "source": [
    "FFL, FBL = FFL_FBL(FW, sparse=True)\n",
    "print('FFL frequency in FW:', FFL)\n",
    "print('FBL frequency in FW:', FBL)"
   ]
  },
  {
   "cell_type": "markdown",
   "metadata": {
    "slideshow": {
     "slide_type": "slide"
    }
   },
   "source": [
    "### Shortest paths and network position ###\n",
    "\n",
    "Reminder: a **path** is a sequence of vertices $i_0,\\ldots,i_k$ such that $(i_h,i_{h+1})\\in E$ for all $h=0,\\ldots,k-1$; $k$ is the **length** of the path.\n",
    "\n",
    "A **shortest path** (or *geodesic* path) is the shortest of all possible paths between two vertices and the **distance** $l_{ij}$ between node $i$ and $j$ is the length of the shortest path from $i$ to $j$.  \n",
    "\n",
    "<img src=\"images/geodesic.png\" alt=\"The shortest path from x to z\" title=\"The shortest path from x to z\" style=\"width: 350px;\"/>"
   ]
  },
  {
   "cell_type": "markdown",
   "metadata": {
    "slideshow": {
     "slide_type": "slide"
    }
   },
   "source": [
    "### Shortest paths and network position ###\n",
    "\n",
    "(Nearly) all **positional** measures are based on the computation of the distances $l_{ij}$ between all pairs of nodes $i, j$.\n",
    "Usually, we accomplish this by applying an off-the-shelf algorithm for the **All Pairs Shortest Paths** (APSP) problem, generally:\n",
    "- a **Breadth First Search** (BFS) to solve the *single-source* shortest path problem on **unweighted** networks (run once per node)\n",
    "- **Dijkstra**'s algorithm to solve the *single-source* *lightest* path (mimumum sum of weights) problem on networks with **positive weights** (run once per node)\n",
    "- the **Floyd-Warshall** algorithm to get all **weighted** distances (weight of the *lightest* path) in a generic weighted network\n",
    "\n",
    "The result will be a **pairwise distance matrix** $l$ with entries $l_{ij}$.\n",
    "If there is no path from $i$ to $j$, then $l_{ij} = \\infty$ and we say that $j$ is not **reachable** from $i$."
   ]
  },
  {
   "cell_type": "markdown",
   "metadata": {
    "slideshow": {
     "slide_type": "slide"
    }
   },
   "source": [
    "### Search trees on graphs ###\n",
    "\n",
    "A **tree** is a **connected acyclic undirected** graph\n",
    "\n",
    "<img src=\"images/tree.png\" alt=\"A tree\" title=\"A tree\" style=\"width: 300px;\"/>\n",
    "\n",
    "\n",
    "Many operations on graphs rely on finding a suitable **search tree**:\n",
    "- take as input a graph $G = (V, E)$ and a source vertex $s \\in V$\n",
    "- explore the graph one edge at a time\n",
    "- while exploring, build the path $s \\to t \\to \\cdots \\to z$ to all vertices $z \\in V$\n",
    "- return the set of all such paths, called the search tree $T$ *rooted* in $s$"
   ]
  },
  {
   "cell_type": "markdown",
   "metadata": {
    "slideshow": {
     "slide_type": "slide"
    }
   },
   "source": [
    "### Search trees on graphs ###\n",
    "\n",
    "The basic structure of all search tree algorithms looks like this:\n",
    "\n",
    "<img src=\"images/search_tree_algorithm.png\" alt=\"The generic algorithm of a search tree\" title=\"The generic algorithm of a search tree\" style=\"width: 400px;\"/>\n",
    "\n",
    "- the underlying data structure is a **queue**, i.e., a sequence of elements that can be added/removed only from the ends of the sequence\n",
    "- when Search-Tree terminates, all nodes reachable from $s$ have been marked\n",
    "- the array $p$ contains the search tree $T$\n",
    "- the value $d[i]$ is the distance in the search tree from $s$ to $i$"
   ]
  },
  {
   "cell_type": "markdown",
   "metadata": {
    "slideshow": {
     "slide_type": "slide"
    }
   },
   "source": [
    "### Breadth-First Search and Depth-First Search ###\n",
    "\n",
    "- in a Breadth-First Search (**BFS**), the queue is a FIFO (first-in-first-out): vertices are added to the end and removed from the front\n",
    "- in a Depth-First-Search (**DFS**), the queue is a FILO (first-in-last-out): vertices are added and removed from the same side\n",
    "\n",
    "BFS | DFS\n",
    ":-: | :-:\n",
    "<img src=\"images/bfs.gif\" alt=\"BFS algorithm\" title=\"BFS algorithm\" style=\"width: 300px;\"/> | <img src=\"images/dfs.gif\" alt=\"BFS algorithm\" title=\"BFS algorithm\" style=\"width: 280px;\"/>\n",
    "\n",
    "BFS and DFS produce **very different** output trees:\n",
    "- BFS visits **all** neighbors of a vertex $t$ before proceedings; in BFS, all vertices at a distance $l$ from the source $s$ are visited before any vertices at a distance $l+1$\n",
    "- DFS visits **one** neighbor $u$ of $t$, then **one** neighbor $v$ of $u$, etc.; DFS always pushes \"deeper\" into the graph, backtracking only when no new vertices can be reached\n",
    "\n",
    "Question: why can we use a BFS to compute all distances?"
   ]
  },
  {
   "cell_type": "markdown",
   "metadata": {
    "slideshow": {
     "slide_type": "slide"
    }
   },
   "source": [
    "### Dijkstra's algorithm ###\n",
    "\n",
    "In a graph with **positive weights**, **Dijkstra**'s algorithm computes all **weighted distances** from a source $s\\in V$ to all other vertices by induction:\n",
    "- all vertices are initially given a *tentative* distance equal to $\\infty$\n",
    "- once the distance to a vertex $t$ has been computed, the tentative distance of all neighbors $u$ of $t$ through $t$ is computed as the distance from $s$ to $t$ plus the weight of the edge $(t,u)$\n",
    "- if this distance is less than the previous tentative distance of $u$, the tentative distance of $u$ is updated with the new value through $t$\n",
    "\n",
    "<img src=\"images/dijkstra.gif\" alt=\"Dijkstra's algorithm\" title=\"Dijkstra's algorithm\" style=\"width: 300px;\"/>"
   ]
  },
  {
   "cell_type": "code",
   "execution_count": 9,
   "metadata": {
    "slideshow": {
     "slide_type": "slide"
    }
   },
   "outputs": [
    {
     "name": "stdout",
     "output_type": "stream",
     "text": [
      "shortest paths from vertex 0 of ZK to the first 10 vertices:\n",
      "[[0], [0, 1], [0, 2], [0, 3], [0, 4], [0, 5], [0, 6], [0, 7], [0, 8], [0, 2, 9]]\n",
      "shortest paths from vertex 0 of EN to the first 10 vertices:\n",
      "[[0], [0, 1], [0, 1, 282, 331, 598, 3, 2], [0, 1, 282, 331, 598, 3], [0, 1, 282, 33, 5, 4], [0, 1, 282, 33, 5], [0, 1, 282, 31, 7, 6], [0, 1, 282, 31, 7], [0, 1, 282, 31, 7, 6, 8], [0, 1, 282, 44, 98, 102, 12, 9]]\n",
      "shortest paths FROM vertex 1 of FW to some vertices:\n",
      "[[1, 21], [1, 3, 2094, 30, 23, 37], [1, 3, 2094, 4945, 59], [1, 4, 103, 102, 109], [1, 3, 6944, 4187, 1692, 1003], [1, 5, 95, 2558, 2560], []]\n",
      "shortest paths TO vertex 1 of FW from the same vertices:\n",
      "[[1, 6, 21], [1, 5, 8906, 27, 23, 37], [1, 5, 1588, 1585, 60, 59], [1, 6, 1733, 36, 114, 109], [1, 8, 6944, 3, 79, 1003], [1, 6, 2731, 8549, 2560], [1, 6, 2380, 12025, 40876]]\n"
     ]
    },
    {
     "name": "stderr",
     "output_type": "stream",
     "text": [
      "C:\\Users\\Federico\\AppData\\Local\\Temp\\ipykernel_13236\\2789607523.py:8: RuntimeWarning: Couldn't reach some vertices at src/paths/unweighted.c:368\n",
      "  print(FW.get_shortest_paths(1, to=[21,37,59,109,1003,2560,40876]))\n"
     ]
    }
   ],
   "source": [
    "print('shortest paths from vertex 0 of ZK to the first 10 vertices:')\n",
    "print(ZK.get_shortest_paths(0, to=range(10)))\n",
    "\n",
    "print('shortest paths from vertex 0 of EN to the first 10 vertices:')\n",
    "print(EN.get_shortest_paths(0, to=range(10)))\n",
    "\n",
    "print('shortest paths FROM vertex 1 of FW to some vertices:')\n",
    "print(FW.get_shortest_paths(1, to=[21,37,59,109,1003,2560,40876]))\n",
    "print('shortest paths TO vertex 1 of FW from the same vertices:')\n",
    "print(FW.get_shortest_paths(1, to=[21,37,59,109,1003,2560,40876], mode='in'))"
   ]
  },
  {
   "cell_type": "code",
   "execution_count": 10,
   "metadata": {
    "slideshow": {
     "slide_type": "slide"
    }
   },
   "outputs": [
    {
     "name": "stdout",
     "output_type": "stream",
     "text": [
      "the distance from vertex 1 to vertex 5 in ZK:\n",
      "[[2]]\n",
      "the distance from vertex 1 to vertex 5 in EN:\n",
      "[[3]]\n",
      "the weighted distance from vertex 1 to vertex 59 in FW:\n",
      "[[6.0]]\n",
      "beware of how shortest_paths() interprets the weights!\n"
     ]
    }
   ],
   "source": [
    "print('the distance from vertex 1 to vertex 5 in ZK:')\n",
    "print(ZK.shortest_paths(source=1, target=5))\n",
    "\n",
    "print('the distance from vertex 1 to vertex 5 in EN:')\n",
    "print(EN.shortest_paths(source=1, target=5))\n",
    "\n",
    "print('the weighted distance from vertex 1 to vertex 59 in FW:')\n",
    "print(FW.shortest_paths(source=1, target=59, weights='weight'))\n",
    "\n",
    "print('beware of how shortest_paths() interprets the weights!')"
   ]
  },
  {
   "cell_type": "code",
   "execution_count": 12,
   "metadata": {
    "slideshow": {
     "slide_type": "slide"
    }
   },
   "outputs": [
    {
     "name": "stdout",
     "output_type": "stream",
     "text": [
      "the distance matrix for ZK:\n",
      "[0, 1, 1, 1, 1, 1, 1, 1, 1, 2, 1, 1, 1, 1, 3, 3, 2, 1, 3, 1, 3, 1, 3, 3, 2, 2, 3, 2, 2, 3, 2, 1, 2, 2]\n",
      "[1, 0, 1, 1, 2, 2, 2, 1, 2, 2, 2, 2, 2, 1, 3, 3, 3, 1, 3, 1, 3, 1, 3, 3, 3, 3, 3, 2, 2, 3, 1, 2, 2, 2]\n",
      "[1, 1, 0, 1, 2, 2, 2, 1, 1, 1, 2, 2, 2, 1, 2, 2, 3, 2, 2, 2, 2, 2, 2, 2, 2, 3, 3, 1, 1, 2, 2, 2, 1, 2]\n",
      "[1, 1, 1, 0, 2, 2, 2, 1, 2, 2, 2, 2, 1, 1, 3, 3, 3, 2, 3, 2, 3, 2, 3, 3, 3, 3, 3, 2, 2, 3, 2, 2, 2, 2]\n",
      "[1, 2, 2, 2, 0, 2, 1, 2, 2, 3, 1, 2, 2, 2, 4, 4, 2, 2, 4, 2, 4, 2, 4, 4, 3, 3, 4, 3, 3, 4, 3, 2, 3, 3]\n",
      "[1, 2, 2, 2, 2, 0, 1, 2, 2, 3, 1, 2, 2, 2, 4, 4, 1, 2, 4, 2, 4, 2, 4, 4, 3, 3, 4, 3, 3, 4, 3, 2, 3, 3]\n",
      "[1, 2, 2, 2, 1, 1, 0, 2, 2, 3, 2, 2, 2, 2, 4, 4, 1, 2, 4, 2, 4, 2, 4, 4, 3, 3, 4, 3, 3, 4, 3, 2, 3, 3]\n",
      "[1, 1, 1, 1, 2, 2, 2, 0, 2, 2, 2, 2, 2, 2, 3, 3, 3, 2, 3, 2, 3, 2, 3, 3, 3, 3, 4, 2, 2, 3, 2, 2, 2, 3]\n",
      "[1, 2, 1, 2, 2, 2, 2, 2, 0, 2, 2, 2, 2, 2, 2, 2, 3, 2, 2, 2, 2, 2, 2, 2, 3, 3, 2, 2, 2, 2, 1, 2, 1, 1]\n",
      "[2, 2, 1, 2, 3, 3, 3, 2, 2, 0, 3, 3, 3, 2, 2, 2, 4, 3, 2, 2, 2, 3, 2, 2, 3, 3, 2, 2, 2, 2, 2, 2, 2, 1]\n",
      "[1, 2, 2, 2, 1, 1, 2, 2, 2, 3, 0, 2, 2, 2, 4, 4, 2, 2, 4, 2, 4, 2, 4, 4, 3, 3, 4, 3, 3, 4, 3, 2, 3, 3]\n",
      "[1, 2, 2, 2, 2, 2, 2, 2, 2, 3, 2, 0, 2, 2, 4, 4, 3, 2, 4, 2, 4, 2, 4, 4, 3, 3, 4, 3, 3, 4, 3, 2, 3, 3]\n",
      "[1, 2, 2, 1, 2, 2, 2, 2, 2, 3, 2, 2, 0, 2, 4, 4, 3, 2, 4, 2, 4, 2, 4, 4, 3, 3, 4, 3, 3, 4, 3, 2, 3, 3]\n",
      "[1, 1, 1, 1, 2, 2, 2, 2, 2, 2, 2, 2, 2, 0, 2, 2, 3, 2, 2, 2, 2, 2, 2, 2, 3, 3, 2, 2, 2, 2, 2, 2, 2, 1]\n",
      "[3, 3, 2, 3, 4, 4, 4, 3, 2, 2, 4, 4, 4, 2, 0, 2, 5, 4, 2, 2, 2, 4, 2, 2, 3, 3, 2, 2, 2, 2, 2, 2, 1, 1]\n",
      "[3, 3, 2, 3, 4, 4, 4, 3, 2, 2, 4, 4, 4, 2, 2, 0, 5, 4, 2, 2, 2, 4, 2, 2, 3, 3, 2, 2, 2, 2, 2, 2, 1, 1]\n",
      "[2, 3, 3, 3, 2, 1, 1, 3, 3, 4, 2, 3, 3, 3, 5, 5, 0, 3, 5, 3, 5, 3, 5, 5, 4, 4, 5, 4, 4, 5, 4, 3, 4, 4]\n",
      "[1, 1, 2, 2, 2, 2, 2, 2, 2, 3, 2, 2, 2, 2, 4, 4, 3, 0, 4, 2, 4, 2, 4, 4, 3, 3, 4, 3, 3, 4, 2, 2, 3, 3]\n",
      "[3, 3, 2, 3, 4, 4, 4, 3, 2, 2, 4, 4, 4, 2, 2, 2, 5, 4, 0, 2, 2, 4, 2, 2, 3, 3, 2, 2, 2, 2, 2, 2, 1, 1]\n",
      "[1, 1, 2, 2, 2, 2, 2, 2, 2, 2, 2, 2, 2, 2, 2, 2, 3, 2, 2, 0, 2, 2, 2, 2, 3, 3, 2, 2, 2, 2, 2, 2, 2, 1]\n",
      "[3, 3, 2, 3, 4, 4, 4, 3, 2, 2, 4, 4, 4, 2, 2, 2, 5, 4, 2, 2, 0, 4, 2, 2, 3, 3, 2, 2, 2, 2, 2, 2, 1, 1]\n",
      "[1, 1, 2, 2, 2, 2, 2, 2, 2, 3, 2, 2, 2, 2, 4, 4, 3, 2, 4, 2, 4, 0, 4, 4, 3, 3, 4, 3, 3, 4, 2, 2, 3, 3]\n",
      "[3, 3, 2, 3, 4, 4, 4, 3, 2, 2, 4, 4, 4, 2, 2, 2, 5, 4, 2, 2, 2, 4, 0, 2, 3, 3, 2, 2, 2, 2, 2, 2, 1, 1]\n",
      "[3, 3, 2, 3, 4, 4, 4, 3, 2, 2, 4, 4, 4, 2, 2, 2, 5, 4, 2, 2, 2, 4, 2, 0, 2, 1, 2, 1, 2, 1, 2, 2, 1, 1]\n",
      "[2, 3, 2, 3, 3, 3, 3, 3, 3, 3, 3, 3, 3, 3, 3, 3, 4, 3, 3, 3, 3, 3, 3, 2, 0, 1, 3, 1, 2, 3, 3, 1, 2, 2]\n",
      "[2, 3, 3, 3, 3, 3, 3, 3, 3, 3, 3, 3, 3, 3, 3, 3, 4, 3, 3, 3, 3, 3, 3, 1, 1, 0, 3, 2, 2, 2, 3, 1, 2, 2]\n",
      "[3, 3, 3, 3, 4, 4, 4, 4, 2, 2, 4, 4, 4, 2, 2, 2, 5, 4, 2, 2, 2, 4, 2, 2, 3, 3, 0, 2, 2, 1, 2, 2, 2, 1]\n",
      "[2, 2, 1, 2, 3, 3, 3, 2, 2, 2, 3, 3, 3, 2, 2, 2, 4, 3, 2, 2, 2, 3, 2, 1, 1, 2, 2, 0, 2, 2, 2, 2, 2, 1]\n",
      "[2, 2, 1, 2, 3, 3, 3, 2, 2, 2, 3, 3, 3, 2, 2, 2, 4, 3, 2, 2, 2, 3, 2, 2, 2, 2, 2, 2, 0, 2, 2, 1, 2, 1]\n",
      "[3, 3, 2, 3, 4, 4, 4, 3, 2, 2, 4, 4, 4, 2, 2, 2, 5, 4, 2, 2, 2, 4, 2, 1, 3, 2, 1, 2, 2, 0, 2, 2, 1, 1]\n",
      "[2, 1, 2, 2, 3, 3, 3, 2, 1, 2, 3, 3, 3, 2, 2, 2, 4, 2, 2, 2, 2, 2, 2, 2, 3, 3, 2, 2, 2, 2, 0, 2, 1, 1]\n",
      "[1, 2, 2, 2, 2, 2, 2, 2, 2, 2, 2, 2, 2, 2, 2, 2, 3, 2, 2, 2, 2, 2, 2, 2, 1, 1, 2, 2, 1, 2, 2, 0, 1, 1]\n",
      "[2, 2, 1, 2, 3, 3, 3, 2, 1, 2, 3, 3, 3, 2, 1, 1, 4, 3, 1, 2, 1, 3, 1, 1, 2, 2, 2, 2, 2, 1, 1, 1, 0, 1]\n",
      "[2, 2, 2, 2, 3, 3, 3, 3, 1, 1, 3, 3, 3, 1, 1, 1, 4, 3, 1, 1, 1, 3, 1, 1, 2, 2, 1, 1, 1, 1, 1, 1, 1, 0]\n"
     ]
    }
   ],
   "source": [
    "print('the distance matrix for ZK:')\n",
    "dmatrix = ZK.shortest_paths()\n",
    "for l in dmatrix:\n",
    "    print(l)"
   ]
  },
  {
   "cell_type": "markdown",
   "metadata": {
    "slideshow": {
     "slide_type": "slide"
    }
   },
   "source": [
    "## Diameter, eccentricity, average distance ## \n",
    "\n",
    "Based on distances, we can introduce a set of positional measures:\n",
    "- the network's **diameter** is the maximum distance of any two nodes in the graph: $\\text{diameter}=\\max_{ij} l_{ij}$ \n",
    "- the **eccentricity** of node $i$ is the equivalent *local* measure, i.e., the maximum distance of any other node from $i$: $\\epsilon_i = \\max_j l_{ij}$\n",
    "- the **average distance**, or **mean shortest path path length**, is a global measure that quantifies how close are the vertices of $G$ on average: $\\langle l \\rangle = \\frac{1}{Z} \\sum_{i\\neq j} l_{ij}$\n",
    "\n",
    "Only the *existing* paths are generally considered so that all these measures are $<\\infty$. In the expression for $\\langle l \\rangle$, $Z$ counts the number of the distances involved in the sum.\n",
    "\n",
    "Remark: if you want to compute several distance-bases metrics on a large graph, compute the distance matrix once and then compute all metrics from the matrix!\n"
   ]
  },
  {
   "cell_type": "code",
   "execution_count": 13,
   "metadata": {
    "slideshow": {
     "slide_type": "slide"
    }
   },
   "outputs": [
    {
     "name": "stdout",
     "output_type": "stream",
     "text": [
      "the diameter of ZK is: 5\n",
      "the diameter of EN is: 27\n",
      "the eccentricity of node 1 in ZK is: 3.0\n",
      "the eccentricity of node 1 in EN is: 16.0\n",
      "the average distance in ZK is: 2.408199643493761\n",
      "the average distance in EN is: 8.3826896784567\n",
      "what do you think of these values with respect to the graph size?\n"
     ]
    }
   ],
   "source": [
    "print('the diameter of ZK is:', ZK.diameter())\n",
    "print('the diameter of EN is:', EN.diameter())\n",
    "# computing the diameter of FW may take some time...\n",
    "# print('the diameter of FW is:', FW.diameter())\n",
    "\n",
    "print('the eccentricity of node 1 in ZK is:', ZK.eccentricity(1))\n",
    "print('the eccentricity of node 1 in EN is:', EN.eccentricity(1))\n",
    "\n",
    "print('the average distance in ZK is:', ZK.average_path_length())\n",
    "print('the average distance in EN is:', EN.average_path_length())\n",
    "\n",
    "print('what do you think of these values with respect to the graph size?')"
   ]
  },
  {
   "cell_type": "code",
   "execution_count": 14,
   "metadata": {
    "slideshow": {
     "slide_type": "slide"
    }
   },
   "outputs": [
    {
     "name": "stdout",
     "output_type": "stream",
     "text": [
      "the distances in ZK and EN have the following distribution:\n"
     ]
    },
    {
     "data": {
      "image/png": "[encoded data removed]",
      "text/plain": [
       "<Figure size 432x288 with 1 Axes>"
      ]
     },
     "metadata": {
      "needs_background": "light"
     },
     "output_type": "display_data"
    }
   ],
   "source": [
    "print('the distances in ZK and EN have the following distribution:')\n",
    "ZK_pl = []\n",
    "for i in range(ZK.vcount()):\n",
    "    ZK_pl.extend(ZK.shortest_paths(i,range(i+1,ZK.vcount()))[0])\n",
    "EN_pl = []\n",
    "for i in range(EN.vcount()):\n",
    "    EN_pl.extend(EN.shortest_paths(i,range(i+1,EN.vcount()))[0])\n",
    "\n",
    "import seaborn as sns\n",
    "import matplotlib.pyplot as plt\n",
    "# this is a normalized histogram\n",
    "ax = sns.histplot({'ZK':ZK_pl,'EN':EN_pl}, fill=False, common_norm=False, stat='probability') \n",
    "plt.grid()"
   ]
  },
  {
   "cell_type": "markdown",
   "metadata": {
    "slideshow": {
     "slide_type": "slide"
    }
   },
   "source": [
    "### Small worlds and network diameter ###\n",
    "\n",
    "In **mathematical models** of networks, the diameter can often be shown to vary in a **clean functional** way with the size of the network.\n",
    "\n",
    "If the diameter grows very *slowly* as a function of network size, e.g., $O(\\log n)$, a network is said to exhibit the **small world** property.\n",
    "\n",
    "The idea comes from a seminal study in social networks by the American sociologist *Stanley Milgram*:\n",
    "- Milgram mailed letters to \"randomly selected\" individuals in Omaha, Nebraska and Wichita, Kansas\n",
    "- the recipient were asked to pass the letter (and instructions) to a friend of theirs who either knew or might be likely to know a particular doctor in Boston\n",
    "- before forwarding the letter, they should also write their name on a roster to record the chain of message passing\n",
    "\n",
    "Of the 64 letters that eventually reached the doctor (a small fraction of those sent out) the average length was only 5.5, confirming the \"six degrees of separation\" theory."
   ]
  },
  {
   "cell_type": "markdown",
   "metadata": {
    "slideshow": {
     "slide_type": "slide"
    }
   },
   "source": [
    "### Small worlds and network diameter ###\n",
    "\n",
    "Duncan Watts and Steve Strogatz, in a 1998 Science paper, studied this phenomenon using a toy model, now called the **small world model**:\n",
    "- vertices are arranged on a 1-dimensional circular lattice (a \"ring\" network)\n",
    "- each vertex is connected with its $k$ nearest neighbors on the ring\n",
    "- each edge is then **rewired**, with probability $p$, to connect a uniformly random pair of vertices:\n",
    "    - at $p = 0$, the network is fully **ordered**, the density of local connections is largest and the diameter is $O(n)$\n",
    "    - at $p = 1$, the network is fully **disordered**, local connections are absent and the diameter is $O(\\log n)$\n",
    "\n",
    "<img src=\"images/WS.png\" alt=\"Watts and Strogatz' small world model\" title=\"Watts and Strogatz' small world model\" style=\"width: 500px;\"/>"
   ]
  },
  {
   "cell_type": "markdown",
   "metadata": {
    "slideshow": {
     "slide_type": "slide"
    }
   },
   "source": [
    "### Small worlds and network diameter ###\n",
    "\n",
    "What happens when $p$ varies between 0 and 1?\n",
    "\n",
    "For small $p$, i.e., when only a small number of edges have been randomly rewired:\n",
    "- the diameter of the network collapses from $O(n)$ to $O(\\log n)$\n",
    "- the local structure is still largely preserved\n",
    "\n",
    "A highly-ordered \"big world\" can be transformed into a mostly ordered \"small world\" by **rewiring** only a **small number** of connections.\n",
    "In this case, the geodesic paths traverse a **vanishing** fraction of the network that work as bridges to quickly connect the other vertices.\n",
    "\n",
    "This behavior emerges in many social networks, which have **small diameter** (as evidenced by Milgram's study) but also **many triangles** (i.e., strong local structure).\n",
    "\n",
    "The small-world result also highlights that some measures of network structure can be **extremely sensitive** to uncertainty in the network structure.\n",
    "By just missing a few connections we may believe that the diameter is **much larger** than it actually is."
   ]
  },
  {
   "cell_type": "markdown",
   "metadata": {
    "slideshow": {
     "slide_type": "slide"
    }
   },
   "source": [
    "### A few real networks ###\n",
    "\n",
    "$z$ is the average degree, $l$ the average distance\n",
    "\n",
    "<img src=\"images/table_real_graphs.png\" alt=\"Properties of some real graphs\" title=\"Properties of some real graphs\" style=\"width: 500px;\"/>"
   ]
  },
  {
   "cell_type": "markdown",
   "metadata": {
    "slideshow": {
     "slide_type": "slide"
    }
   },
   "source": [
    "### A few real networks ###\n",
    "\n",
    "Boxplots showing the within-class distributions of network size ($\\log n$), mean degree $z$, and mean distance $l$ (normalized by network size)\n",
    "\n",
    "<img src=\"images/per_class_stats.png\" alt=\"Aggregated statistics of a few classes of real graphs\" title=\"Aggregated statistics of a few classes of real graphs\" style=\"width: 800px;\"/>"
   ]
  },
  {
   "cell_type": "code",
   "execution_count": 15,
   "metadata": {},
   "outputs": [],
   "source": [
    "#LETTURA DEI GRAFICI\n",
    "#linee rosse rappresentano la media\n",
    "#box blu indica dove sta il 75% dei casi (tra un dev standard e l'altra che se la distro è circa gaussiana è circa il 65-70 % dei casi ) \n",
    "\n",
    "#confrontare la linea rossa tra le categorie mi permette di confrontare la media del valore per le varie categorie\n",
    "#confrontare il box blu e la linea tratteggiata mi permette di confrontare la varianza e il range  delle diverse categorie"
   ]
  },
  {
   "cell_type": "markdown",
   "metadata": {
    "slideshow": {
     "slide_type": "slide"
    }
   },
   "source": [
    "### A few real networks ###\n",
    "\n",
    "Scatter plots for mean degree $z$ and mean distance $l$ versus number of vertices $n$\n",
    "\n",
    "<img src=\"images/degree_distance.png\" alt=\"Mean degree and mean distance vs network size\" title=\"Mean degree and mean distance vs network size\" style=\"width: 700px;\"/>"
   ]
  }
 ],
 "metadata": {
  "celltoolbar": "Slideshow",
  "kernelspec": {
   "display_name": "Python 3 (ipykernel)",
   "language": "python",
   "name": "python3"
  },
  "language_info": {
   "codemirror_mode": {
    "name": "ipython",
    "version": 3
   },
   "file_extension": ".py",
   "mimetype": "text/x-python",
   "name": "python",
   "nbconvert_exporter": "python",
   "pygments_lexer": "ipython3",
   "version": "3.9.7"
  }
 },
 "nbformat": 4,
 "nbformat_minor": 4
}
