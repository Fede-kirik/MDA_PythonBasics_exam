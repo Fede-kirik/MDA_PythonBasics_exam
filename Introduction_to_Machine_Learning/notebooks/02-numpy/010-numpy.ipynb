{
 "cells": [
  {
   "cell_type": "markdown",
   "metadata": {
    "colab_type": "text",
    "id": "T4r2z30vJSbA"
   },
   "source": [
    "<img src=\"img/numpy_logo.png\" width=\"20%\">\n",
    "\n",
    "# Introduzione a NumPy\n",
    "\n",
    "NumPy è una libreria Python per la creazione e manipolazione di vettori, matrici, e in generale array multidimensionali (tensori). \n"
   ]
  },
  {
   "cell_type": "markdown",
   "metadata": {
    "colab_type": "text",
    "id": "vO47lN3aDOAv"
   },
   "source": [
    "## Premessa: Struttura di un quaderno Jupyter (Python interattivo)\n",
    "\n",
    "Ogni Jupyter Notebook consiste di due tipi di componenti:\n",
    "\n",
    "  * **Celle di testo**, contenenti spiegazioni. Quella che state leggendo è una cella di testo. \n",
    "  * **Celle di codice**, contenenti codice eseguibile Python. Le celle di codice hanno uno sfondo grigio.\n"
   ]
  },
  {
   "cell_type": "markdown",
   "metadata": {
    "colab_type": "text",
    "id": "SQ-pvdPymocS"
   },
   "source": [
    "### Come eseguire le celle di codice\n",
    "\n",
    "Le celle di codice vanno di norma eseguite in sequenza. (Ogni esecuzione modifica lo stato interno dell'interprete Python.)\n",
    "\n",
    "Per eseguire una cella di codice: \n",
    "\n",
    "  1. Cliccare all'interno della cella di codice. \n",
    "  2. Cliccare il pulsante \"Run\" dalla barra degli strumenti. In alternativa, digitare CTRL + Invio. \n",
    "\n",
    "Per eseguire tutte le celle del quaderno, si può selezionare **Cell->Run all** dal menu di Jupyter. Notare però che alcune celle di codice potrebbero fallire in quanto potrebbero richiedere l'aggiunta di codice, come parte di un'esercizio. "
   ]
  },
  {
   "cell_type": "markdown",
   "metadata": {
    "colab_type": "text",
    "id": "v9GhD7Fsmoqw"
   },
   "source": [
    "### Se osservate errori...\n",
    "\n",
    "I motivi che più spesso danno luogo ad errori nell'esecuzione di celle di codice sono i seguenti: \n",
    "\n",
    "  * Non avete eseguito *tutte* le celle di codice precedenti alla cella di codice che segnala errore. \n",
    "  * Se la cella di codice è parte di un esercizio, allora: \n",
    "    *  Non avete ancora scritto il codice che implementa l'esercizio. \n",
    "    *  Avete scritto il codice, ma il codice contiene degli errori. "
   ]
  },
  {
   "cell_type": "markdown",
   "metadata": {
    "colab_type": "text",
    "id": "Ll9RWewwFwX6"
   },
   "source": [
    "## Importare il modulo NumPy\n",
    "\n",
    "Eseguendo la cella seguente importiamo il modulo NumPy: "
   ]
  },
  {
   "cell_type": "code",
   "execution_count": 1,
   "metadata": {
    "colab": {},
    "colab_type": "code",
    "id": "guvPzSWYJGZ4"
   },
   "outputs": [
    {
     "data": {
      "text/plain": [
       "'1.23.2'"
      ]
     },
     "execution_count": 1,
     "metadata": {},
     "output_type": "execute_result"
    }
   ],
   "source": [
    "import numpy as np \n",
    "np.__version__"
   ]
  },
  {
   "cell_type": "markdown",
   "metadata": {},
   "source": [
    "Le caratteristiche chiave di NumPy sono: \n",
    "\n",
    "- *ndarray*: array multidimensionali efficienti con valori omogenei (stesso tipo di dato). Gli ndarray offrono vari metodi predefiniti per l'elaborazione rapida dei dati senza la scrittura di cicli espliciti (per esempio: calcolo della media). \n",
    "- *Vettorizzazione*: permette delle operazioni numeriche efficienti sugli ndarray, sfruttando ove possibile il parallelismo hardware.\n",
    "- *Broadcasting*: definisce il comportamento di operazioni tra array multidimensionali di diversa forma. \n",
    "- *Input/output*: semplifica la lettura e scrittura dei dati da/a file. \n",
    "\n",
    "Per qualunque ulteriore approfondimento è sempre utile consultare la <a href=\"https://docs.scipy.org/doc/numpy/reference/\">documentazione ufficiale NumPy</a> (sempre accessibile dal menu *Help* di Jupyter o scrivendo `?nome_di_funzione`)."
   ]
  },
  {
   "cell_type": "markdown",
   "metadata": {},
   "source": [
    "## Creazione di array multidimensionali\n",
    "\n",
    "Gli ***ndarray*** (*n-dimensional array*) sono array multidimensionali efficienti, la vera ragion d'essere di numpy. \n",
    "\n",
    "Per creare un ndarray usiamo la funzione `np.array`.\n",
    "\n",
    "Gli ndarray unidimensionali (1D) permettono di rappresentare comodamente dei *vettori*. \n",
    "\n",
    "Per creare un ndarray unidimensionale, passiamo a `np.array` una lista di numeri. Ad esempio: "
   ]
  },
  {
   "cell_type": "code",
   "execution_count": 2,
   "metadata": {},
   "outputs": [
    {
     "name": "stdout",
     "output_type": "stream",
     "text": [
      "[1.6 2.5 3.1 4.9]\n",
      "<class 'numpy.ndarray'>\n"
     ]
    }
   ],
   "source": [
    "an_array = np.array([1.6, 2.5, 3.1, 4.9])  # Crea un array unidimensionale popolandolo con dei valori predefiniti\n",
    "print(an_array)\n",
    "print(type(an_array))              # Il tipo di un ndarray è: 'numpy.ndarray'"
   ]
  },
  {
   "cell_type": "code",
   "execution_count": 3,
   "metadata": {},
   "outputs": [
    {
     "name": "stdout",
     "output_type": "stream",
     "text": [
      "(4,)\n"
     ]
    }
   ],
   "source": [
    "# Testiamo la forma dell'array appena creato: avrà una sola dimensione (rango 1) di lunghezza 4\n",
    "print(an_array.shape)"
   ]
  },
  {
   "cell_type": "code",
   "execution_count": 4,
   "metadata": {},
   "outputs": [
    {
     "name": "stdout",
     "output_type": "stream",
     "text": [
      "1.6 2.5 3.1 4.9\n"
     ]
    }
   ],
   "source": [
    "# Trattandosi di un array unidimensionale, per accedere gli elementi serve esattamente un indice\n",
    "print(an_array[0], an_array[1], an_array[2], an_array[3]) "
   ]
  },
  {
   "cell_type": "markdown",
   "metadata": {},
   "source": [
    "Gli ndarray bidimensionali (2D) permettono di rappresentare comodamente delle *matrici*. \n",
    "\n",
    "Per creare un ndarray bidimensionale, passiamo a `np.array` una lista di liste, del tipo `[ [riga], [riga], ..., [riga] ]`. Ad esempio:  "
   ]
  },
  {
   "cell_type": "code",
   "execution_count": 5,
   "metadata": {},
   "outputs": [
    {
     "name": "stdout",
     "output_type": "stream",
     "text": [
      "[[11 12 13]\n",
      " [21 22 23]]\n",
      "La forma (shape) è 2 righe, 3 colonne:  (2, 3)\n",
      "Accedo agli elementi [0,0], [0,1], e [1,0] dell'ndarray:  11 ,  12 ,  21\n"
     ]
    }
   ],
   "source": [
    "another = np.array([[11,12,13],[21,22,23]])   # Crea un array bidimensionale\n",
    "print(another)\n",
    "print(\"La forma (shape) è 2 righe, 3 colonne: \", another.shape)  # righe e colonne                   \n",
    "print(\"Accedo agli elementi [0,0], [0,1], e [1,0] dell'ndarray: \", another[0, 0], \", \",another[0, 1],\", \", another[1, 0])\n"
   ]
  },
  {
   "cell_type": "markdown",
   "metadata": {},
   "source": [
    "Gli ndarray possono essere creati in molti modi. \n",
    "\n",
    "Qui mostriamo la creazione di array di diverse forme inizializzati con diversi valori. NumPy offre vari metodi che ci permettono di creare array multidimensionali facilmente e rapidamente. "
   ]
  },
  {
   "cell_type": "code",
   "execution_count": 6,
   "metadata": {},
   "outputs": [
    {
     "name": "stdout",
     "output_type": "stream",
     "text": [
      "[[0. 0.]\n",
      " [0. 0.]]\n"
     ]
    }
   ],
   "source": [
    "# crea un array 2 x 2 di tutti zeri\n",
    "ex1 = np.zeros((2,2))      \n",
    "print(ex1)                              "
   ]
  },
  {
   "cell_type": "code",
   "execution_count": 7,
   "metadata": {},
   "outputs": [
    {
     "name": "stdout",
     "output_type": "stream",
     "text": [
      "[[9. 9.]\n",
      " [9. 9.]]\n"
     ]
    }
   ],
   "source": [
    "# crea un array 2 x 2 con valori tutti pari a 9.0\n",
    "ex2 = np.full((2,2), 9.0)  \n",
    "print(ex2)   "
   ]
  },
  {
   "cell_type": "code",
   "execution_count": 8,
   "metadata": {},
   "outputs": [
    {
     "name": "stdout",
     "output_type": "stream",
     "text": [
      "[[1. 0.]\n",
      " [0. 1.]]\n"
     ]
    }
   ],
   "source": [
    "# crea una matrice identità 2 x 2\n",
    "ex3 = np.eye(2,2)\n",
    "print(ex3)  "
   ]
  },
  {
   "cell_type": "code",
   "execution_count": 9,
   "metadata": {},
   "outputs": [
    {
     "name": "stdout",
     "output_type": "stream",
     "text": [
      "[[1. 1.]]\n"
     ]
    }
   ],
   "source": [
    "# crea un array 1 x 2 di tutti 1\n",
    "ex4 = np.ones((1,2))\n",
    "print(ex4)\n",
    "# nb è ancora un array bidimensionale doppie parentesi."
   ]
  },
  {
   "cell_type": "code",
   "execution_count": 10,
   "metadata": {},
   "outputs": [
    {
     "name": "stdout",
     "output_type": "stream",
     "text": [
      "(1, 2)\n",
      "1.0\n"
     ]
    }
   ],
   "source": [
    "# notare che l'ndarray ex4 è bidimensionale (cioé di rango 2); è un array 1 x 2\n",
    "print(ex4.shape)\n",
    "\n",
    "# il che significa che per accedere a ciascun suo elemento servono due indici\n",
    "print(ex4[0,1])"
   ]
  },
  {
   "cell_type": "code",
   "execution_count": 11,
   "metadata": {},
   "outputs": [
    {
     "name": "stdout",
     "output_type": "stream",
     "text": [
      "[[0.79845152 0.35783969]\n",
      " [0.54966047 0.25884665]]\n"
     ]
    }
   ],
   "source": [
    "# crea un array di numeri decimali (float) casuali compresi tra 0 ed 1\n",
    "ex5 = np.random.random((2,2))\n",
    "print(ex5)"
   ]
  },
  {
   "cell_type": "code",
   "execution_count": 12,
   "metadata": {},
   "outputs": [
    {
     "name": "stdout",
     "output_type": "stream",
     "text": [
      "[71 56 75 68 70 51]\n"
     ]
    }
   ],
   "source": [
    "# crea un vettore di 6 elementi con interi casuali compresi tra 50 (incluso) e 101 (escluso)\n",
    "ex6 = np.random.randint(low=50, high=101, size=(6,))\n",
    "print(ex6)"
   ]
  },
  {
   "cell_type": "code",
   "execution_count": 13,
   "metadata": {
    "colab": {},
    "colab_type": "code",
    "id": "CjHfYWhdQYtO"
   },
   "outputs": [
    {
     "name": "stdout",
     "output_type": "stream",
     "text": [
      "[ 5  6  7  8  9 10 11]\n"
     ]
    }
   ],
   "source": [
    "# crea un vettore contenente una successione aritmetica \n",
    "ex7 = np.arange(5, 12)\n",
    "print(ex7)"
   ]
  },
  {
   "cell_type": "markdown",
   "metadata": {
    "colab_type": "text",
    "id": "1x3OoWrPWn8S"
   },
   "source": [
    "Notare che `np.arange` genera una sequenza che include il limite inferiore (5) ma non quello superiore (12). "
   ]
  },
  {
   "cell_type": "markdown",
   "metadata": {},
   "source": [
    "## Slicing\n",
    "\n",
    "Lo slicing degli ndarray è simile allo slicing di liste e stringhe in Python e ci permette di estrarre sotto-regioni di un ndarray. "
   ]
  },
  {
   "cell_type": "code",
   "execution_count": 14,
   "metadata": {},
   "outputs": [
    {
     "name": "stdout",
     "output_type": "stream",
     "text": [
      "[[11 12 13 14]\n",
      " [21 22 23 24]\n",
      " [31 32 33 34]]\n"
     ]
    }
   ],
   "source": [
    "# Array bidimensionale di forma (3, 4)\n",
    "an_array = np.array([[11,12,13,14], [21,22,23,24], [31,32,33,34]])\n",
    "print(an_array)"
   ]
  },
  {
   "cell_type": "markdown",
   "metadata": {},
   "source": [
    "Usiamo lo slicing per estrarre un sottoarray consistente delle prime 2 righe e delle colonne di indice 1 e 2. "
   ]
  },
  {
   "cell_type": "code",
   "execution_count": 15,
   "metadata": {},
   "outputs": [
    {
     "name": "stdout",
     "output_type": "stream",
     "text": [
      "[[12 13]\n",
      " [22 23]]\n"
     ]
    }
   ],
   "source": [
    "a_slice = an_array[:2, 1:3]\n",
    "print(a_slice)"
   ]
  },
  {
   "cell_type": "markdown",
   "metadata": {},
   "source": [
    "**Importante**: la modifica di uno slice **modifica** l'array da cui lo slice è stato estratto. "
   ]
  },
  {
   "cell_type": "code",
   "execution_count": 16,
   "metadata": {},
   "outputs": [
    {
     "name": "stdout",
     "output_type": "stream",
     "text": [
      "Prima: 12\n",
      "Dopo: 1000\n"
     ]
    }
   ],
   "source": [
    "print(\"Prima:\", an_array[0, 1])   # ispezioniamo l'elemento in posizione (0, 1)  \n",
    "a_slice[0, 0] = 1000    # a_slice[0, 0] fa riferimento allo stesso dato di an_array[0, 1]!\n",
    "print(\"Dopo:\", an_array[0, 1])"
   ]
  },
  {
   "cell_type": "markdown",
   "metadata": {},
   "source": [
    "Possiamo combinare la normale indicizzazione intera con lo slicing per creare matrici di varie forme. "
   ]
  },
  {
   "cell_type": "code",
   "execution_count": 17,
   "metadata": {},
   "outputs": [
    {
     "name": "stdout",
     "output_type": "stream",
     "text": [
      "[[11 12 13 14]\n",
      " [21 22 23 24]\n",
      " [31 32 33 34]]\n"
     ]
    }
   ],
   "source": [
    "# Crea un array bidimensionale di forma (3, 4)\n",
    "an_array = np.array([[11,12,13,14], [21,22,23,24], [31,32,33,34]])\n",
    "print(an_array)"
   ]
  },
  {
   "cell_type": "markdown",
   "metadata": {},
   "source": [
    "Usare sia l'indicizzazione intera che lo slicing genera un array di rango inferiore:"
   ]
  },
  {
   "cell_type": "code",
   "execution_count": 18,
   "metadata": {},
   "outputs": [
    {
     "name": "stdout",
     "output_type": "stream",
     "text": [
      "[21 22 23 24] (4,)\n"
     ]
    }
   ],
   "source": [
    "row_rank1 = an_array[1, :]    # sotto-regione di rango 1\n",
    "print(row_rank1, row_rank1.shape)  # notare la presenza di un'unica coppia di parentesi []"
   ]
  },
  {
   "cell_type": "markdown",
   "metadata": {},
   "source": [
    "Usare solo lo slicing genera un array di rango uguale all'originale: "
   ]
  },
  {
   "cell_type": "code",
   "execution_count": 19,
   "metadata": {},
   "outputs": [
    {
     "name": "stdout",
     "output_type": "stream",
     "text": [
      "[[21 22 23 24]] (1, 4)\n"
     ]
    }
   ],
   "source": [
    "row_rank2 = an_array[1:2, :]  # sotto-regione di rango 2\n",
    "print(row_rank2, row_rank2.shape)   # notare la doppia coppia di parentesi [[ ]]"
   ]
  },
  {
   "cell_type": "code",
   "execution_count": 20,
   "metadata": {},
   "outputs": [
    {
     "name": "stdout",
     "output_type": "stream",
     "text": [
      "[12 22 32] (3,)\n",
      "\n",
      "[[12]\n",
      " [22]\n",
      " [32]] (3, 1)\n"
     ]
    }
   ],
   "source": [
    "# Si può fare lo stesso per le colonne di un array: \n",
    "col_rank1 = an_array[:, 1]\n",
    "col_rank2 = an_array[:, 1:2]\n",
    "\n",
    "print(col_rank1, col_rank1.shape)  # Rango 1\n",
    "print()\n",
    "print(col_rank2, col_rank2.shape)  # Rango 2"
   ]
  },
  {
   "cell_type": "markdown",
   "metadata": {},
   "source": [
    "A volte è utile usare un array di indici per accedere o modificare elementi specifici. "
   ]
  },
  {
   "cell_type": "code",
   "execution_count": 21,
   "metadata": {},
   "outputs": [
    {
     "name": "stdout",
     "output_type": "stream",
     "text": [
      "Array originale:\n",
      "[[11 12 13]\n",
      " [21 22 23]\n",
      " [31 32 33]\n",
      " [41 42 43]]\n"
     ]
    }
   ],
   "source": [
    "# Crea un nuovo array\n",
    "an_array = np.array([[11,12,13], [21,22,23], [31,32,33], [41,42,43]])\n",
    "\n",
    "print('Array originale:')\n",
    "print(an_array)"
   ]
  },
  {
   "cell_type": "code",
   "execution_count": 22,
   "metadata": {},
   "outputs": [
    {
     "name": "stdout",
     "output_type": "stream",
     "text": [
      "Indici di colonna scelti :  [0 1 2 0]\n",
      "Indici di riga scelti :  [0 1 2 3]\n"
     ]
    }
   ],
   "source": [
    "# Crea un array di indici\n",
    "col_indices = np.array([0, 1, 2, 0])\n",
    "print('Indici di colonna scelti : ', col_indices)\n",
    "\n",
    "#row_indices = np.arange(4)\n",
    "row_indices = np.array([0, 1, 2, 3])\n",
    "print('Indici di riga scelti : ', row_indices)"
   ]
  },
  {
   "cell_type": "code",
   "execution_count": 23,
   "metadata": {},
   "outputs": [
    {
     "name": "stdout",
     "output_type": "stream",
     "text": [
      "0 , 0\n",
      "1 , 1\n",
      "2 , 2\n",
      "3 , 0\n"
     ]
    }
   ],
   "source": [
    "# Esaminiamo le coppie (abbinate) di row_indices e col_indices. Indicano gli elementi che poi modificheremo. \n",
    "for row, col in zip(row_indices,col_indices):\n",
    "    print(row, \",\", col)"
   ]
  },
  {
   "cell_type": "code",
   "execution_count": 24,
   "metadata": {},
   "outputs": [
    {
     "name": "stdout",
     "output_type": "stream",
     "text": [
      "Valori nell'array a quegli indici:  [11 22 33 41]\n"
     ]
    }
   ],
   "source": [
    "# Visualizziamo gli elementi selezionati dagli indici\n",
    "print('Valori nell\\'array a quegli indici: ',an_array[row_indices, col_indices])"
   ]
  },
  {
   "cell_type": "code",
   "execution_count": 25,
   "metadata": {},
   "outputs": [
    {
     "name": "stdout",
     "output_type": "stream",
     "text": [
      "Array modificato:\n",
      "[[100011     12     13]\n",
      " [    21 100022     23]\n",
      " [    31     32 100033]\n",
      " [100041     42     43]]\n"
     ]
    }
   ],
   "source": [
    "# Modifichiamo ciascuno degli elementi selezionati dagli indici\n",
    "an_array[row_indices, col_indices] += 100000\n",
    "\n",
    "print('Array modificato:')\n",
    "print(an_array)"
   ]
  },
  {
   "cell_type": "markdown",
   "metadata": {},
   "source": [
    "## Indicizzazione booleana (filtraggio)\n",
    "\n",
    "Un ***filtro*** è un array di valori booleani che indicano se ciascun elemento di un altro array soddisfa o no una certa condizione. L'uso dei filtri ci permette di selezionare e/o modificare agevolmente gli elementi di un array che godono di particolari proprietà. "
   ]
  },
  {
   "cell_type": "code",
   "execution_count": 26,
   "metadata": {},
   "outputs": [
    {
     "name": "stdout",
     "output_type": "stream",
     "text": [
      "[[11 12]\n",
      " [21 22]\n",
      " [31 32]]\n"
     ]
    }
   ],
   "source": [
    "# crea un array 3 x 2\n",
    "an_array = np.array([[11,12], [21, 22], [31, 32]])\n",
    "print(an_array)"
   ]
  },
  {
   "cell_type": "code",
   "execution_count": 27,
   "metadata": {},
   "outputs": [
    {
     "data": {
      "text/plain": [
       "array([[False, False],\n",
       "       [ True,  True],\n",
       "       [ True,  True]])"
      ]
     },
     "execution_count": 27,
     "metadata": {},
     "output_type": "execute_result"
    }
   ],
   "source": [
    "# crea un filtro, ovvero un array di booleani che indicano se ciascun elemento soddisfa una certa condizione\n",
    "filtro = (an_array > 15)\n",
    "filtro"
   ]
  },
  {
   "cell_type": "markdown",
   "metadata": {},
   "source": [
    "Notare che il filtro ha la stessa forma di an_array e contiene `True` per ogni elemento il cui corrispondente elemento di an_array è maggiore di 15 e `False` per quegli elementi il cui valore è al più 15. "
   ]
  },
  {
   "cell_type": "code",
   "execution_count": 28,
   "metadata": {},
   "outputs": [
    {
     "name": "stdout",
     "output_type": "stream",
     "text": [
      "[21 22 31 32]\n"
     ]
    }
   ],
   "source": [
    "# Ora possiamo selezionare gli elementi dell'array che soddisfano il criterio: \n",
    "print(an_array[filtro])"
   ]
  },
  {
   "cell_type": "code",
   "execution_count": 29,
   "metadata": {},
   "outputs": [
    {
     "data": {
      "text/plain": [
       "array([21, 22, 31, 32])"
      ]
     },
     "execution_count": 29,
     "metadata": {},
     "output_type": "execute_result"
    }
   ],
   "source": [
    "# Per brevità, avremmo potuto usare anche la seguente sintassi, senza usare una variabile per l'array filtro. \n",
    "an_array[an_array > 15]"
   ]
  },
  {
   "cell_type": "markdown",
   "metadata": {},
   "source": [
    "I filtri sono particolarmente utili per modificare gli elementi dell'array che soddisfano una certa condizione. Per esempio, aggiungiamo 100 a tutti i valori *pari* dell'array. "
   ]
  },
  {
   "cell_type": "code",
   "execution_count": 30,
   "metadata": {},
   "outputs": [
    {
     "name": "stdout",
     "output_type": "stream",
     "text": [
      "[[ 11 112]\n",
      " [ 21 122]\n",
      " [ 31 132]]\n"
     ]
    }
   ],
   "source": [
    "an_array[an_array % 2 == 0] += 100\n",
    "print(an_array)"
   ]
  },
  {
   "cell_type": "markdown",
   "metadata": {},
   "source": [
    "## Tipo di dati in un ndarray\n",
    "Il tipo di dati memorizzati in un ndarray è assegnato automaticamente da Python in base ai valori forniti al momento della creazione dell'array. L'utente può comunque forzare un tipo particolare attraverso il parametro `dtype` (datatype). "
   ]
  },
  {
   "cell_type": "code",
   "execution_count": 31,
   "metadata": {},
   "outputs": [
    {
     "name": "stdout",
     "output_type": "stream",
     "text": [
      "int32\n"
     ]
    }
   ],
   "source": [
    "ex1 = np.array([11, 12]) # Il tipo di dati è assegnato automaticamente da Python\n",
    "print(ex1.dtype)"
   ]
  },
  {
   "cell_type": "code",
   "execution_count": 32,
   "metadata": {},
   "outputs": [
    {
     "name": "stdout",
     "output_type": "stream",
     "text": [
      "float64\n"
     ]
    }
   ],
   "source": [
    "ex2 = np.array([11.0, 12.0]) # Il tipo di dati è assegnato automaticamente da Python\n",
    "print(ex2.dtype)"
   ]
  },
  {
   "cell_type": "code",
   "execution_count": 33,
   "metadata": {},
   "outputs": [
    {
     "name": "stdout",
     "output_type": "stream",
     "text": [
      "int64\n"
     ]
    }
   ],
   "source": [
    "ex3 = np.array([11, 12], dtype=np.int64) # Il tipo di dati è specificato dall'utente\n",
    "print(ex3.dtype)"
   ]
  },
  {
   "cell_type": "code",
   "execution_count": 34,
   "metadata": {},
   "outputs": [
    {
     "name": "stdout",
     "output_type": "stream",
     "text": [
      "int64\n",
      "[11 12]\n"
     ]
    }
   ],
   "source": [
    "# possiamo richiedere il troncamento di valori in virgola mobile a valori interi\n",
    "ex4 = np.array([11.1,12.7], dtype=np.int64)\n",
    "print(ex4.dtype)\n",
    "print(ex4)"
   ]
  },
  {
   "cell_type": "code",
   "execution_count": 35,
   "metadata": {},
   "outputs": [
    {
     "name": "stdout",
     "output_type": "stream",
     "text": [
      "float64\n",
      "[11. 21.]\n"
     ]
    }
   ],
   "source": [
    "# possiamo forzare l'uso di valori in virgola mobile dall'inizio\n",
    "ex5 = np.array([11, 21], dtype=np.float64)\n",
    "print(ex5.dtype)\n",
    "print(ex5)"
   ]
  },
  {
   "cell_type": "markdown",
   "metadata": {
    "colab_type": "text",
    "id": "eXOdSjRlSEf6"
   },
   "source": [
    "## Operazioni matematiche sugli ndarray"
   ]
  },
  {
   "cell_type": "code",
   "execution_count": 36,
   "metadata": {},
   "outputs": [
    {
     "name": "stdout",
     "output_type": "stream",
     "text": [
      "[[111 112]\n",
      " [121 122]]\n",
      "[[211.1 212.1]\n",
      " [221.1 222.1]]\n"
     ]
    }
   ],
   "source": [
    "x = np.array([[111,112],[121,122]], dtype=np.int64)\n",
    "y = np.array([[211.1,212.1],[221.1,222.1]], dtype=np.float64)\n",
    "\n",
    "print(x)\n",
    "print(y)"
   ]
  },
  {
   "cell_type": "markdown",
   "metadata": {},
   "source": [
    "Di norma, le operazioni sono applicate *elemento per elemento*. Nel caso di operazioni binarie, questo avviene presupponendo che i due ndarray siano compatibili (abbiano la stessa *forma*). "
   ]
  },
  {
   "cell_type": "code",
   "execution_count": 37,
   "metadata": {},
   "outputs": [
    {
     "name": "stdout",
     "output_type": "stream",
     "text": [
      "[[322.1 324.1]\n",
      " [342.1 344.1]]\n",
      "[[-100.1 -100.1]\n",
      " [-100.1 -100.1]]\n",
      "[[23432.1 23755.2]\n",
      " [26753.1 27096.2]]\n",
      "[[0.52581715 0.52805281]\n",
      " [0.54726368 0.54930212]]\n",
      "[[10.53565375 10.58300524]\n",
      " [11.         11.04536102]]\n",
      "[[1.60948707e+48 4.37503945e+48]\n",
      " [3.54513118e+52 9.63666567e+52]]\n"
     ]
    }
   ],
   "source": [
    "# operazioni elemento per elemento\n",
    "print(x + y) # somma\n",
    "print(x - y) # sottrazione\n",
    "print(x * y) # moltiplicazione\n",
    "print(x / y) # divisione\n",
    "# funzioni applicate agli elementi della matrice/array\n",
    "print(np.sqrt(x)) # radice quadrata\n",
    "print(np.exp(x)) # esponenziale (e**x)\n",
    "\n",
    "#NB occorre utilizzare le funzioni definite nel modulo numpy altrimenti quelle standard \n",
    "#di python non riconoscono l'oggetto nd.array "
   ]
  },
  {
   "cell_type": "markdown",
   "metadata": {},
   "source": [
    "**Nota**. Notare l'assenza di cicli `for`. Sarà NumPy a iterare sui vari elementi degli array e anzi, ove possibile, sfrutterà il parallelismo hardware per ottenere un risultato in tempi più rapidi (***vettorizzazione***). "
   ]
  },
  {
   "cell_type": "markdown",
   "metadata": {},
   "source": [
    "La combinazione di ndarray di forma diversa avviene invece attraverso il *broadcasting* (vedi sotto). "
   ]
  },
  {
   "cell_type": "markdown",
   "metadata": {},
   "source": [
    "## Broadcasting\n",
    "\n",
    "Quando operiamo su più ndarray di forma diversa, il risultato è determinato dal cosiddetto ***broadcasting***. In sostanza, NumPy estende automaticamente gli operandi di forma più piccola \"allungandoli\" fino a farli diventare della forma compatibile con l'operando di forma più grande. Ad esempio: \n",
    "\n",
    "$$\n",
    "\\left[\n",
    "\\begin{array}{ccc}\n",
    "0 & 0 & 0 \\\\\n",
    "0 & 0 & 0 \\\\\n",
    "0 & 0 & 0 \\\\\n",
    "0 & 0 & 0 \\\\\n",
    "\\end{array}\n",
    "\\right]\n",
    "+\n",
    "\\left[\n",
    "\\begin{array}{ccc}\n",
    "1 & 0 & 2 \\\\\n",
    "\\end{array}\n",
    "\\right]\n",
    "\\quad \\rightarrow \\quad\n",
    "\\left[\n",
    "\\begin{array}{ccc}\n",
    "0 & 0 & 0 \\\\\n",
    "0 & 0 & 0 \\\\\n",
    "0 & 0 & 0 \\\\\n",
    "0 & 0 & 0 \\\\\n",
    "\\end{array}\n",
    "\\right]\n",
    "+\n",
    "\\left[\n",
    "\\begin{array}{ccc}\n",
    "1 & 0 & 2 \\\\\n",
    "1 & 0 & 2 \\\\\n",
    "1 & 0 & 2 \\\\\n",
    "1 & 0 & 2 \\\\\n",
    "\\end{array}\n",
    "\\right]\n",
    "$$"
   ]
  },
  {
   "cell_type": "code",
   "execution_count": 38,
   "metadata": {},
   "outputs": [
    {
     "name": "stdout",
     "output_type": "stream",
     "text": [
      "[[0. 0. 0.]\n",
      " [0. 0. 0.]\n",
      " [0. 0. 0.]\n",
      " [0. 0. 0.]]\n"
     ]
    }
   ],
   "source": [
    "start = np.zeros((4,3))\n",
    "print(start)"
   ]
  },
  {
   "cell_type": "code",
   "execution_count": 39,
   "metadata": {},
   "outputs": [
    {
     "name": "stdout",
     "output_type": "stream",
     "text": [
      "[[1 0 2]]\n"
     ]
    }
   ],
   "source": [
    "# crea un ndarray 1 x 4 (array riga) con 3 valori\n",
    "add_rows = np.array([[1, 0, 2]])\n",
    "print(add_rows)"
   ]
  },
  {
   "cell_type": "code",
   "execution_count": 40,
   "metadata": {},
   "outputs": [
    {
     "name": "stdout",
     "output_type": "stream",
     "text": [
      "[[1. 0. 2.]\n",
      " [1. 0. 2.]\n",
      " [1. 0. 2.]\n",
      " [1. 0. 2.]]\n"
     ]
    }
   ],
   "source": [
    "y = start + add_rows  # somma il vettore con ciascuna riga di 'start' grazie al broadcasting\n",
    "print(y)"
   ]
  },
  {
   "cell_type": "markdown",
   "metadata": {},
   "source": [
    "Esempio di broadcast lungo le colonne:\n",
    "$$\n",
    "\\left[\n",
    "\\begin{array}{ccc}\n",
    "0 & 0 & 0 \\\\\n",
    "0 & 0 & 0 \\\\\n",
    "0 & 0 & 0 \\\\\n",
    "0 & 0 & 0 \\\\\n",
    "\\end{array}\n",
    "\\right]\n",
    "+\n",
    "\\left[\n",
    "\\begin{array}{c}\n",
    "0 \\\\\n",
    "1 \\\\\n",
    "2 \\\\\n",
    "3 \\\\\n",
    "\\end{array}\n",
    "\\right]\n",
    "\\quad \\rightarrow \\quad\n",
    "\\left[\n",
    "\\begin{array}{ccc}\n",
    "0 & 0 & 0 \\\\\n",
    "1 & 1 & 1 \\\\\n",
    "2 & 2 & 2 \\\\\n",
    "3 & 3 & 3 \\\\\n",
    "\\end{array}\n",
    "\\right]\n",
    "$$"
   ]
  },
  {
   "cell_type": "code",
   "execution_count": 41,
   "metadata": {},
   "outputs": [
    {
     "name": "stdout",
     "output_type": "stream",
     "text": [
      "[[0]\n",
      " [1]\n",
      " [2]\n",
      " [3]]\n"
     ]
    }
   ],
   "source": [
    "# crea un ndarray 4 x 1 (array colonna) per fare broadcast sulle colonne\n",
    "add_cols = np.array([[0, 1, 2, 3]])\n",
    "add_cols = add_cols.T # trasposta\n",
    "\n",
    "print(add_cols)"
   ]
  },
  {
   "cell_type": "code",
   "execution_count": 42,
   "metadata": {},
   "outputs": [
    {
     "name": "stdout",
     "output_type": "stream",
     "text": [
      "[[0. 0. 0.]\n",
      " [1. 1. 1.]\n",
      " [2. 2. 2.]\n",
      " [3. 3. 3.]]\n"
     ]
    }
   ],
   "source": [
    "# somma l'array colonna con ciascuna colonna di 'start' grazie al broadcasting\n",
    "y = start + add_cols \n",
    "print(y)"
   ]
  },
  {
   "cell_type": "markdown",
   "metadata": {},
   "source": [
    "Esempio di broadcast lungo entrambe le dimensioni:\n",
    "$$\n",
    "\\left[\n",
    "\\begin{array}{ccc}\n",
    "0 & 0 & 0 \\\\\n",
    "0 & 0 & 0 \\\\\n",
    "0 & 0 & 0 \\\\\n",
    "0 & 0 & 0 \\\\\n",
    "\\end{array}\n",
    "\\right]\n",
    "+\n",
    "\\left[\n",
    "\\begin{array}{c}\n",
    "1\\\\\n",
    "\\end{array}\n",
    "\\right]\n",
    "\\quad \\rightarrow \\quad\n",
    "\\left[\n",
    "\\begin{array}{ccc}\n",
    "1 & 1 & 1 \\\\\n",
    "1 & 1 & 1 \\\\\n",
    "1 & 1 & 1 \\\\\n",
    "1 & 1 & 1 \\\\\n",
    "\\end{array}\n",
    "\\right]\n",
    "$$"
   ]
  },
  {
   "cell_type": "code",
   "execution_count": 43,
   "metadata": {},
   "outputs": [
    {
     "name": "stdout",
     "output_type": "stream",
     "text": [
      "[[1. 1. 1.]\n",
      " [1. 1. 1.]\n",
      " [1. 1. 1.]\n",
      " [1. 1. 1.]]\n"
     ]
    }
   ],
   "source": [
    "# se sommiamo una matrice 1 x 1, il broadcast avverrà lungo entrambe le dimensioni dell'array start: \n",
    "add_scalar = np.array([[1]])  \n",
    "print(start + add_scalar)"
   ]
  },
  {
   "cell_type": "code",
   "execution_count": 44,
   "metadata": {},
   "outputs": [
    {
     "name": "stdout",
     "output_type": "stream",
     "text": [
      "[[1. 1. 1.]\n",
      " [1. 1. 1.]\n",
      " [1. 1. 1.]\n",
      " [1. 1. 1.]]\n"
     ]
    }
   ],
   "source": [
    "# Avremmo anche potuto sommare direttamente il valore scalare a start: \n",
    "print(start + 1)"
   ]
  },
  {
   "cell_type": "markdown",
   "metadata": {
    "colab_type": "text",
    "id": "x6K_poVDPpAg"
   },
   "source": [
    "Allo stesso modo possiamo moltiplicare tutti gli elementi di un ndarray per una costante."
   ]
  },
  {
   "cell_type": "code",
   "execution_count": 45,
   "metadata": {
    "colab": {},
    "colab_type": "code",
    "id": "tYjvXmvFPoPB"
   },
   "outputs": [
    {
     "name": "stdout",
     "output_type": "stream",
     "text": [
      "[[3. 3. 3.]\n",
      " [3. 3. 3.]\n",
      " [3. 3. 3.]\n",
      " [3. 3. 3.]]\n"
     ]
    }
   ],
   "source": [
    "print((start + 1) * 3)"
   ]
  },
  {
   "cell_type": "markdown",
   "metadata": {},
   "source": [
    "Ove necessario, possiamo riorganizzare la forma di un ndarray con il metodo `reshape`. Il metodo restituisce un nuovo ndarray in cui i contenuti sono gli stessi dell'originale, ma riorganizzati secondo la nuova forma. "
   ]
  },
  {
   "cell_type": "code",
   "execution_count": 46,
   "metadata": {},
   "outputs": [
    {
     "name": "stdout",
     "output_type": "stream",
     "text": [
      "[ 0  1  2  3  4  5  6  7  8  9 10 11 12 13 14 15 16 17 18 19]\n",
      "[[ 0  1  2  3  4]\n",
      " [ 5  6  7  8  9]\n",
      " [10 11 12 13 14]\n",
      " [15 16 17 18 19]]\n"
     ]
    }
   ],
   "source": [
    "arr = np.arange(20)\n",
    "print(arr)\n",
    "new_arr = arr.reshape(4,5)\n",
    "print(new_arr)"
   ]
  },
  {
   "cell_type": "markdown",
   "metadata": {},
   "source": [
    "## Prodotti scalari tra vettori, prodotto tra matrici, prodotto matrice-vettore\n",
    "\n",
    "Usiamo la funzione `np.dot(x, y)` per il prodotto scalare tra due vettori (array 1D) `x` e `y`. Il risultato è uno scalare."
   ]
  },
  {
   "cell_type": "code",
   "execution_count": 47,
   "metadata": {},
   "outputs": [
    {
     "name": "stdout",
     "output_type": "stream",
     "text": [
      "180\n"
     ]
    }
   ],
   "source": [
    "# calcoliamo il PRODOTTO SCALARE tra due vettori\n",
    "x = np.array([9 , 9 ])\n",
    "y = np.array([10, 10])\n",
    "\n",
    "print(np.dot(x, y)) # si può scrivere anche x.dot(y)"
   ]
  },
  {
   "cell_type": "markdown",
   "metadata": {},
   "source": [
    "Usiamo `A @ B` per il prodotto tra due matrici (array 2D) `A` e `B`. Il risultato è una matrice. Calcoliamo ad esempio:\n",
    "\n",
    "$$\n",
    "\\left[ \\begin{array}{cc} 1 & 2 \\\\ 0 & 1 \\\\ \\end{array} \\right] \\cdot \n",
    "\\left[ \\begin{array}{cc} 0 & 1 \\\\ 1 & 0 \\\\ \\end{array} \\right]\n",
    "$$"
   ]
  },
  {
   "cell_type": "code",
   "execution_count": 48,
   "metadata": {},
   "outputs": [
    {
     "name": "stdout",
     "output_type": "stream",
     "text": [
      "[[2 1]\n",
      " [1 0]]\n"
     ]
    }
   ],
   "source": [
    "# calcoliamo il prodotto tra due matrici (PRODOTTO RIGHE PER COLONNE)\n",
    "A = np.array([[1, 2], [0, 1]])\n",
    "B = np.array([[0, 1], [1, 0]])\n",
    "\n",
    "print(A @ B)"
   ]
  },
  {
   "cell_type": "markdown",
   "metadata": {},
   "source": [
    "Usiamo `A @ x` per il prodotto tra una matrice `A` ed un vettore `x`. Il risultato è un vettore. "
   ]
  },
  {
   "cell_type": "code",
   "execution_count": 49,
   "metadata": {},
   "outputs": [
    {
     "name": "stdout",
     "output_type": "stream",
     "text": [
      "[27  9]\n"
     ]
    }
   ],
   "source": [
    "# PRODOTTO RIGHE PER COLONNE\n",
    "print(A @ x)"
   ]
  },
  {
   "cell_type": "markdown",
   "metadata": {},
   "source": [
    "Con la funzione `np.linalg.inv(A)` possiamo invertire una matrice quadrata `A` (non singolare). Questo ci permette per esempio di risolvere numericamente sistemi lineari. Si supponga di voler risolvere $A x = b$ quando\n",
    "\n",
    "$$\n",
    "A = \\left[ \\begin{array}{ccc} 1 & 3 & 4 \\\\ 9 & 1 & 2 \\\\ 5 & 6 & 1 \\end{array} \\right], \\qquad\n",
    "b = \\left[ \\begin{array}{c} 13 \\\\ 15 \\\\ 8 \\end{array} \\right]\n",
    "$$\n",
    "\n",
    "Considerando che la matrice $A$ è invertibile, la soluzione $x=[1, 0, 3]^\\top$ può essere trovata come $x=A^{-1} b$: "
   ]
  },
  {
   "cell_type": "code",
   "execution_count": 50,
   "metadata": {},
   "outputs": [
    {
     "name": "stdout",
     "output_type": "stream",
     "text": [
      "[1. 0. 3.]\n"
     ]
    }
   ],
   "source": [
    "A = np.array([[1, 3, 4], [9, 1, 2], [5, 6, 1]])\n",
    "b = np.array([13, 15, 8])\n",
    "x = np.linalg.inv(A) @ b\n",
    "print(x)"
   ]
  },
  {
   "cell_type": "markdown",
   "metadata": {},
   "source": [
    "(Si veda anche il metodo `np.linalg.solve(A, b)` nella documentazione NumPy.) "
   ]
  },
  {
   "cell_type": "code",
   "execution_count": 51,
   "metadata": {},
   "outputs": [
    {
     "data": {
      "text/plain": [
       "array([ 1.00000000e+00, -3.17206578e-17,  3.00000000e+00])"
      ]
     },
     "execution_count": 51,
     "metadata": {},
     "output_type": "execute_result"
    }
   ],
   "source": [
    "# metodo che risolve il sistema lineare\n",
    "sol = np.linalg.solve(A,b)\n",
    "sol"
   ]
  },
  {
   "cell_type": "markdown",
   "metadata": {},
   "source": [
    "## Altre funzionalità utili\n",
    "Sugli ndarray possono essere invocati metodi che calcolano quantità aggregate, quali somma (`.sum()`) e media (`.mean()`)."
   ]
  },
  {
   "cell_type": "code",
   "execution_count": 52,
   "metadata": {},
   "outputs": [
    {
     "name": "stdout",
     "output_type": "stream",
     "text": [
      "[[1 2]\n",
      " [3 4]]\n",
      "somma elementi\n",
      "10\n",
      "media elementi\n",
      "2.5\n",
      "somma elementi per riga\n",
      "[3 7]\n",
      "somma elementi per colonna\n",
      "[4 6]\n"
     ]
    }
   ],
   "source": [
    "#operazioni sugli elementi della matrice\n",
    "arr = np.array([[1, 2], [3, 4]])\n",
    "print(arr)\n",
    "print(\"somma elementi\")\n",
    "print(arr.sum()) # somma degli elementi\n",
    "print(\"media elementi\")\n",
    "print(arr.mean()) # media degli elementi\n",
    "print(\"somma elementi per riga\")\n",
    "print(arr.sum(axis = 1)) # somma riga per riga (aggrega le colonne)\n",
    "print(\"somma elementi per colonna\")\n",
    "print(arr.sum(axis = 0)) # somma colonna per colonna (aggrega le righe)"
   ]
  },
  {
   "cell_type": "markdown",
   "metadata": {},
   "source": [
    "Possiamo scrivere e/o leggere i dati di un array da un file di testo tramite le funzioni `np.savetxt` e `np.loadtxt`. Ad esempio: "
   ]
  },
  {
   "cell_type": "code",
   "execution_count": 53,
   "metadata": {},
   "outputs": [
    {
     "name": "stdout",
     "output_type": "stream",
     "text": [
      "[[10. 20.]\n",
      " [30. 40.]]\n"
     ]
    }
   ],
   "source": [
    "x = np.array([[10, 20], [30, 40]])\n",
    "np.savetxt('data/numpy1.txt', x, delimiter=',') # NB.: presuppone che esista una sottodirectory di nome 'data'\n",
    "y = np.loadtxt('data/numpy1.txt', delimiter=',')\n",
    "print(y)"
   ]
  },
  {
   "cell_type": "markdown",
   "metadata": {
    "colab_type": "text",
    "id": "hfYVa8iQTaUL"
   },
   "source": [
    "## Esercizio 1: Creare un dataset lineare\n",
    "\n",
    "**Senza utilizzare alcun ciclo** `for`, create un semplice dataset consistente di un'unica variabile di input (feature) e di una variabile di output (etichetta), come segue: \n",
    "\n",
    "1. Assegnate la sequenza degli interi da 6 a 20 (inclusi) ad un array NumPy di nome `feature`.\n",
    "2. Assegnate 15 valori ad un array NumPy di nome `label` tale che:\n",
    "\n",
    "```\n",
    "   label = (3)(feature) + 4\n",
    "```\n",
    "Per esempio, il primo valore di `label` dovrà essere: \n",
    "\n",
    "```\n",
    "  label = (3)(6) + 4 = 22\n",
    " ```"
   ]
  },
  {
   "cell_type": "code",
   "execution_count": 54,
   "metadata": {
    "colab": {},
    "colab_type": "code",
    "id": "qK9UF2rUc3Y_"
   },
   "outputs": [
    {
     "name": "stdout",
     "output_type": "stream",
     "text": [
      "feature: [ 6  7  8  9 10 11 12 13 14 15 16 17 18 19 20]\n",
      "label: [22 25 28 31 34 37 40 43 46 49 52 55 58 61 64]\n"
     ]
    }
   ],
   "source": [
    "# scrivere il proprio codice in questa cella\n",
    "feature = np.arange(6,21)\n",
    "label = 3*feature +4\n",
    "print(f\"feature: {feature}\")\n",
    "print(f\"label: {label}\")\n",
    "\n"
   ]
  },
  {
   "cell_type": "markdown",
   "metadata": {
    "cellView": "both",
    "colab": {},
    "colab_type": "code",
    "id": "KjtIAYvMTPGl"
   },
   "source": [
    "Fare doppio-clic **qui** per una possibile soluzione all'Esercizio 1. \n",
    "<!--\n",
    "feature = np.arange(6, 21)\n",
    "print(feature)\n",
    "label = (feature * 3) + 4\n",
    "print(label)\n",
    "-->"
   ]
  },
  {
   "cell_type": "markdown",
   "metadata": {
    "colab_type": "text",
    "id": "RNsjGYRj87PB"
   },
   "source": [
    "## Esercizio 2: Aggiungere rumore al dataset\n",
    "\n",
    "Per rendere il vostro dataset più realistico, aggiungete un segnale di rumore su ogni elemento dell'array `label` appena creato. Più precisamente, modificate ciascun valore presente in `label` sommandovi un valore casuale (distinto) compreso tra -2 e +2. \n",
    "\n",
    "**Non utilizzate cicli `for`**. Create un array `noise` con la stessa dimensione di `label` e poi sommatelo a `label`. "
   ]
  },
  {
   "cell_type": "code",
   "execution_count": 55,
   "metadata": {
    "colab": {},
    "colab_type": "code",
    "id": "HF-flFfs9r0q"
   },
   "outputs": [
    {
     "name": "stdout",
     "output_type": "stream",
     "text": [
      "feature: [ 6  7  8  9 10 11 12 13 14 15 16 17 18 19 20]\n",
      "label: [22.07713588 25.15673308 28.79351825 31.70621579 34.61701579 37.62017909\n",
      " 40.9658462  43.77249194 46.42425595 49.8897012  52.77165461 55.20937293\n",
      " 58.3927267  61.65749299 64.82328558]\n"
     ]
    }
   ],
   "source": [
    "# scrivere il proprio codice in questa cella\n",
    "feature = np.arange(6,21)\n",
    "\n",
    "label = label + np.random.random([15])\n",
    "print(f\"feature: {feature}\")\n",
    "print(f\"label: {label}\")"
   ]
  },
  {
   "cell_type": "markdown",
   "metadata": {
    "cellView": "both",
    "colab": {},
    "colab_type": "code",
    "id": "7chgYKrC93np"
   },
   "source": [
    "Fare doppio-clic **qui** per una possibile soluzione all'Esercizio 2.\n",
    "<!--\n",
    "noise = (np.random.random([15]) * 4) - 2\n",
    "print(noise)\n",
    "label = label + noise \n",
    "print(label)\n",
    "-->"
   ]
  },
  {
   "cell_type": "code",
   "execution_count": 56,
   "metadata": {},
   "outputs": [
    {
     "name": "stdout",
     "output_type": "stream",
     "text": [
      "[0.77591882 0.8418517  0.21210293 0.73717215 0.04384084 0.131239\n",
      " 0.86387068 0.62124952 0.12474664 0.33673325 0.39328479 0.86457832\n",
      " 0.98462322 0.07576928 0.14422626]\n"
     ]
    }
   ],
   "source": [
    "noise = (np.random.random([15]))\n",
    "print(noise)\n",
    "# 15 numeri random tra 0 e 1"
   ]
  },
  {
   "cell_type": "code",
   "execution_count": 57,
   "metadata": {},
   "outputs": [
    {
     "data": {
      "text/plain": [
       "array([3.10367526, 3.36740681, 0.84841172, 2.94868862, 0.17536335,\n",
       "       0.524956  , 3.45548273, 2.48499809, 0.49898657, 1.34693299,\n",
       "       1.57313916, 3.45831328, 3.93849288, 0.30307713, 0.57690503])"
      ]
     },
     "execution_count": 57,
     "metadata": {},
     "output_type": "execute_result"
    }
   ],
   "source": [
    "noise = noise *4\n",
    "noise\n",
    "# numeri random tra 0 e 4"
   ]
  },
  {
   "cell_type": "code",
   "execution_count": 58,
   "metadata": {},
   "outputs": [
    {
     "data": {
      "text/plain": [
       "array([ 1.10367526,  1.36740681, -1.15158828,  0.94868862, -1.82463665,\n",
       "       -1.475044  ,  1.45548273,  0.48499809, -1.50101343, -0.65306701,\n",
       "       -0.42686084,  1.45831328,  1.93849288, -1.69692287, -1.42309497])"
      ]
     },
     "execution_count": 58,
     "metadata": {},
     "output_type": "execute_result"
    }
   ],
   "source": [
    "noise = noise -2 \n",
    "noise\n",
    "# numeri random tra -2 e 2"
   ]
  },
  {
   "cell_type": "code",
   "execution_count": null,
   "metadata": {},
   "outputs": [],
   "source": []
  }
 ],
 "metadata": {
  "colab": {
   "collapsed_sections": [],
   "name": "NumPy UltraQuick Tutorial",
   "private_outputs": true,
   "provenance": []
  },
  "kernelspec": {
   "display_name": "Python 3.10.0 ('.venv_graph': venv)",
   "language": "python",
   "name": "python3"
  },
  "language_info": {
   "codemirror_mode": {
    "name": "ipython",
    "version": 3
   },
   "file_extension": ".py",
   "mimetype": "text/x-python",
   "name": "python",
   "nbconvert_exporter": "python",
   "pygments_lexer": "ipython3",
   "version": "3.10.0"
  },
  "vscode": {
   "interpreter": {
    "hash": "f306c58903bd544e192c9f8f9d41acea6cb9ac42ae1568a5fadf25f8e0bd8653"
   }
  }
 },
 "nbformat": 4,
 "nbformat_minor": 1
}
