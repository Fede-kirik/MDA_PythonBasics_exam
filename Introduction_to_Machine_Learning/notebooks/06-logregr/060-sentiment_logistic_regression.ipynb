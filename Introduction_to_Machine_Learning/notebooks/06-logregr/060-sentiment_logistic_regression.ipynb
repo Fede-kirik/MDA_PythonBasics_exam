{
 "cells": [
  {
   "cell_type": "markdown",
   "metadata": {},
   "source": [
    "# Sentiment analysis con la regressione logistica: 👍 o 👎?"
   ]
  },
  {
   "cell_type": "markdown",
   "metadata": {},
   "source": [
    "Il data set **`sentiment`** consiste di 3000 frasi (in lingua inglese) provenienti da recensioni utente nei siti `imdb.com`, `amazon.com`, `yelp.com`. Ogni frase è stata etichettata come proveniente da una recensione dal sentimento positivo oppure negativo. \n",
    "\n",
    "Useremo la **regressione logistica** per costruire un classificatore basato su questo dataset. \n",
    "\n",
    "Prima di iniziare, se necessario scaricare i dati dal link https://archive.ics.uci.edu/ml/datasets/Sentiment+Labelled+Sentences. La cartella `sentiment_labelled_sentences` (contenente il file del dataset `full_set.txt`) deve essere posta all'interno di una sottocartella `data` nella stessa cartella di questo quaderno Jupyter."
   ]
  },
  {
   "cell_type": "markdown",
   "metadata": {},
   "source": [
    "## 1. Caricamento dei dati"
   ]
  },
  {
   "cell_type": "code",
   "execution_count": 4,
   "metadata": {},
   "outputs": [],
   "source": [
    "%matplotlib inline\n",
    "import string # useremo alcune funzioni Python di elaborazione stringhe\n",
    "import numpy as np\n",
    "import matplotlib\n",
    "import matplotlib.pyplot as plt\n",
    "matplotlib.rc('xtick', labelsize=14) # dimensiona il font dei grafici\n",
    "matplotlib.rc('ytick', labelsize=14)"
   ]
  },
  {
   "cell_type": "markdown",
   "metadata": {},
   "source": [
    "Carichiamo ora i dati. "
   ]
  },
  {
   "cell_type": "code",
   "execution_count": 5,
   "metadata": {},
   "outputs": [],
   "source": [
    "## Leggiamo il dataset\n",
    "with open(\"data/sentiment_labelled_sentences/full_set.txt\") as f:\n",
    "    content = f.readlines()\n",
    "    \n",
    "## Rimuoviamo gli spazi all'inizio e alla fine di ogni esempio\n",
    "content = [x.strip() for x in content]"
   ]
  },
  {
   "cell_type": "code",
   "execution_count": 6,
   "metadata": {},
   "outputs": [
    {
     "name": "stdout",
     "output_type": "stream",
     "text": [
      "['So there is no way for me to plug it in here in the US unless I go by a converter.\\t0', 'Good case, Excellent value.\\t1', 'Great for the jawbone.\\t1', 'Tied to charger for conversations lasting more than 45 minutes.MAJOR PROBLEMS!!\\t0', 'The mic is great.\\t1']\n"
     ]
    }
   ],
   "source": [
    "## Proviamo a visualizzare i primi 5 esempi del dataset:\n",
    "print(content[:5])"
   ]
  },
  {
   "cell_type": "code",
   "execution_count": 11,
   "metadata": {},
   "outputs": [
    {
     "name": "stdout",
     "output_type": "stream",
     "text": [
      "['So there is no way for me to plug it in here in the US unless I go by a converter.', 'Good case, Excellent value.', 'Great for the jawbone.', 'Tied to charger for conversations lasting more than 45 minutes.MAJOR PROBLEMS!!', 'The mic is great.']\n",
      "['0', '1', '1', '0', '1']\n"
     ]
    }
   ],
   "source": [
    "## Separiamo le frasi dalle corrispondenti etichette, tramite il carattere di tabulazione '\\t'\n",
    "sentences = [x.split(\"\\t\")[0] for x in content]\n",
    "labels = [x.split(\"\\t\")[1] for x in content]\n",
    "\n",
    "## Verifichiamo quanto fatto sui primi 5 esempi: \n",
    "print(sentences[:5])\n",
    "print(labels[:5])"
   ]
  },
  {
   "cell_type": "markdown",
   "metadata": {},
   "source": [
    "Il dataset consiste di 3000 frasi, ciascuna etichettata con `1` (se proviene da una recensione positiva) o `0` (se proviene da una recensione negativa). Per consistenza con il formato richiesto da scikit-learn, vogliamo però adottare la convenzione `+1`/`-1` e quindi dobbiamo trasformare le etichette. Per farlo, basta mappare ogni etichetta $y^{(i)}$ nell'etichetta $2y^{(i)}-1$. "
   ]
  },
  {
   "cell_type": "code",
   "execution_count": 12,
   "metadata": {},
   "outputs": [
    {
     "data": {
      "text/plain": [
       "array([-1,  1,  1, ..., -1, -1, -1], dtype=int8)"
      ]
     },
     "execution_count": 12,
     "metadata": {},
     "output_type": "execute_result"
    }
   ],
   "source": [
    "## Trasformiamo le etichette da '{0, 1}' in '{-1, +1}'\n",
    "y = np.array(labels, dtype='int8')\n",
    "y = 2*y - 1\n",
    "y"
   ]
  },
  {
   "cell_type": "markdown",
   "metadata": {},
   "source": [
    "### Preprocessiamo i testi\n",
    "\n",
    "Per mettere questo problema di predizione in una forma adatta alla classificazione lineare, dobbiamo preprocessare i dati testuali. Faremo quattro trasformazioni: \n",
    "\n",
    "1. Rimuoviamo la punteggiatura e i simboli numerici. \n",
    "2. Trasformiamo tutte le parole in minuscolo. \n",
    "3. Rimuoviamo le _stop word_. \n",
    "4. Convertiamo le frasi in vettori, utilizzando una rappresentazione _bag-of-words_. \n",
    "\n",
    "Iniziamo dai primi due passi. "
   ]
  },
  {
   "cell_type": "code",
   "execution_count": 16,
   "metadata": {},
   "outputs": [
    {
     "data": {
      "text/plain": [
       "['so there is no way for me to plug it in here in the us unless i go by a converter ',\n",
       " 'good case  excellent value ',\n",
       " 'great for the jawbone ',\n",
       " 'tied to charger for conversations lasting more than    minutes major problems  ',\n",
       " 'the mic is great ']"
      ]
     },
     "execution_count": 16,
     "metadata": {},
     "output_type": "execute_result"
    }
   ],
   "source": [
    "## La seguente funzione full_remove prende una stringa x e una lista di caratteri removal_list \n",
    "## e restituisce x con tutti i caratteri presenti in removal_list rimpiazzati da uno spazio (' ')\n",
    "def full_remove(x, removal_list):\n",
    "    for w in removal_list:\n",
    "        x = x.replace(w, ' ')\n",
    "    return x\n",
    "\n",
    "## Rimuoviamo i simboli numerici\n",
    "digits = [str(x) for x in range(10)] # lista numero da 0 a 9 \n",
    "digit_less = [full_remove(x, digits) for x in sentences] # per ogni recensione toglie cifre numeriche\n",
    "                                                         # e inserisce degli spazi\n",
    "\n",
    "## Rimuoviamo i simboli di punteggiatura (string.punctuation)\n",
    "punc_less = [full_remove(x, list(string.punctuation)) for x in digit_less]\n",
    "\n",
    "## Rendiamo tutte le frasi in minuscolo\n",
    "sents_lower = [x.lower() for x in punc_less]\n",
    "\n",
    "## Verifichiamo quanto fatto sui primi 5 esempi:\n",
    "sents_lower[:5]"
   ]
  },
  {
   "cell_type": "markdown",
   "metadata": {},
   "source": [
    "### *Stop word*\n",
    "\n",
    "Le *stop word* sono parole che vogliamo escludere in quanto crediamo che non contribuiscano informazione per il problema in esame. Di norma includono articoli come 'a' e 'the', pronomi come 'i' e 'they', e preposizioni come 'to' e 'from'. \n",
    "Abbiamo predisposto una brevissima lista di stop word, ma siete liberi di espanderla. Per esempio, delle liste più estese di stop word possono essere facilmente reperite sul web. "
   ]
  },
  {
   "cell_type": "code",
   "execution_count": 20,
   "metadata": {},
   "outputs": [],
   "source": [
    "## Definiamo le nostre stop word a mano (esistono insiemi anche sul web)\n",
    "stop_set = set(['the', 'a', 'an', 'i', 'he', 'she', 'they', 'to', 'of', 'it', 'from'])\n",
    "\n",
    "## Rimuoviamo le stop word attraverso un filtro (vedi documentazione della funzione Python 'filter')\n",
    "sents_split = [x.split() for x in sents_lower]\n",
    "sents_processed = [\" \".join(list(filter(lambda a: a not in stop_set, x))) for x in sents_split]\n",
    "\n",
    "#se è una stop word viene omessa altrimenti la parola viene mantenuta"
   ]
  },
  {
   "cell_type": "markdown",
   "metadata": {},
   "source": [
    "Che aspetto hanno le frasi, a questo punto?"
   ]
  },
  {
   "cell_type": "code",
   "execution_count": 21,
   "metadata": {},
   "outputs": [
    {
     "data": {
      "text/plain": [
       "['so there is no way for me plug in here in us unless go by converter',\n",
       " 'good case excellent value',\n",
       " 'great for jawbone',\n",
       " 'tied charger for conversations lasting more than minutes major problems',\n",
       " 'mic is great']"
      ]
     },
     "execution_count": 21,
     "metadata": {},
     "output_type": "execute_result"
    }
   ],
   "source": [
    "sents_processed[:5]"
   ]
  },
  {
   "cell_type": "markdown",
   "metadata": {},
   "source": [
    "### Rappresentazione *bag-of-words*\n",
    "\n",
    "Per poter usare un classificatore lineare sul nostro dataset, dobbiamo trasformare i dati testuali in dati numerici. Un modo classico di fare questo è utilizzare una rappresentazione _bag-of-words_. \n",
    "\n",
    "In questa rappresentazione, ogni parola è vista come un intero in `{1, 2, ..., V}` dove `V` è la taglia del nostro vocabolario. Inoltre, ogni frase è rappresentata da un vettore V-dimensionale $x$, in cui $x_i$ indica il numero di volte che la parola $i$ è presente nella frase. Ad esempio: \n",
    "\n",
    "$$\n",
    "\\mathcal{V} = \\left[ \\begin{array}{c} a \\\\ aardvark \\\\ \\ldots \\\\ buy \\\\ \\ldots \\\\ zygmurgy \\end{array} \\right]\n",
    "\\qquad\n",
    "x = \\left[ \\begin{array}{c} 2 \\\\ 0 \\\\ \\ldots \\\\ 1 \\\\ \\ldots \\\\ 0 \\end{array} \\right]\n",
    "$$\n",
    "\n",
    "Per attuare questa trasformazione, faremo uso della classe `CountVectorizer` di `scikit-learn`. Metteremo un tetto massimo pari a 4500 feature, ovvero una parola sarà presente nel nostro vocabolario solo se è una delle 4500 parole più comuni dell'intero corpus. Si tratta di un passo spesso utile in quanto può eliminare errori di battitura o parole che occorrono troppo raramente per risultare utili. \n"
   ]
  },
  {
   "cell_type": "code",
   "execution_count": 22,
   "metadata": {},
   "outputs": [],
   "source": [
    "from sklearn.feature_extraction.text import CountVectorizer\n",
    "\n",
    "## Transformiamo i dati in una rappresentazione bag-of-words\n",
    "vectorizer = CountVectorizer(analyzer = \"word\", tokenizer = None, preprocessor = None, \n",
    "                             stop_words = None, max_features = 4500)\n",
    "data_features = vectorizer.fit_transform(sents_processed)\n",
    "data_mat = data_features.toarray()"
   ]
  },
  {
   "cell_type": "code",
   "execution_count": 23,
   "metadata": {},
   "outputs": [
    {
     "name": "stdout",
     "output_type": "stream",
     "text": [
      "['aailiyah', 'abandoned', 'abhor', 'ability', 'able']\n",
      "['yummy', 'yun', 'zero', 'zillion', 'zombie']\n"
     ]
    }
   ],
   "source": [
    "## Verifichiamo le prime 5 e le ultime 5 parole del vocabolario\n",
    "print(vectorizer.get_feature_names()[:5])\n",
    "print(vectorizer.get_feature_names()[-5:])"
   ]
  },
  {
   "cell_type": "code",
   "execution_count": 24,
   "metadata": {},
   "outputs": [
    {
     "name": "stdout",
     "output_type": "stream",
     "text": [
      "[0 0 0 0 0 0 0 0 0 0 0 0 0 0 0 0 0 0 0 0 0 0 0 0 0 0 0 0 0 0 0 0 0 0 0 0 0\n",
      " 0 0 0 0 0 0 0 0 0 0 0 0 0 0 0 0 0 0 0 0 0 0 0 0 0 0 0 0 0 0 0 0 0 0 0 0 0\n",
      " 0 0 0 0 0 0 0 0 0 0 0 0 0 0 0 0 0 0 0 0 0 0 0 0 0 0 0 0 0 0 0 0 0 0 0 0 0\n",
      " 0 0 0 0 0 0 0 0 0 0 0 0 0 0 0 0 0 0 0 0 0 0 0 0 0 0 0 0 0 0 0 0 0 0 0 0 0\n",
      " 0 0 0 0 0 0 0 0 0 0 0 0 0 0 0 0 0 0 0 0 0 0 0 0 0 0 0 0 0 0 0 0 0 0 0 0 0\n",
      " 0 0 0 0 0 0 0 0 0 0 0 0 0 0 0 0 0 0 0 0 0 0 0 0 0 0 0 0 0 0 0 0 0 0 0 0 0\n",
      " 0 0 0 0 0 0 0 0 0 0 0 0 0 0 0 0 0 0 0 0 0 0 0 0 0 0 0 0 0 0 0 0 0 0 0 0 0\n",
      " 0 0 0 0 0 0 0 0 0 0 0 0 0 0 0 0 0 0 0 0 0 0 0 0 0 0 0 0 0 0 0 0 0 0 0 0 0\n",
      " 0 0 0 0 0 0 0 0 0 0 0 0 0 0 0 0 0 0 0 0 0 0 0 0 0 0 0 0 0 0 0 0 0 0 0 0 0\n",
      " 0 0 0 0 0 0 0 0 0 0 0 0 0 0 0 0 0 0 0 0 0 0 0 0 0 0 0 0 0 0 0 0 0 0 0 0 0\n",
      " 0 0 0 0 0 0 0 0 0 0 0 0 0 0 0 0 0 0 0 0 0 0 0 0 0 0 0 0 0 0 0 0 0 0 0 0 0\n",
      " 0 0 0 0 0 0 0 0 0 0 0 0 0 0 0 0 0 0 0 0 0 0 0 0 0 0 0 0 0 0 0 0 0 0 0 0 0\n",
      " 0 0 0 0 0 0 0 0 0 0 0 0 0 0 0 0 0 0 0 0 0 0 0 0 0 0 0 0 0 0 0 0 0 0 0 0 0\n",
      " 0 0 0 0 0 0 0 0 0 0 0 0 0 0 0 0 0 0 0 0 0 0 0 0 0 0 0 0 0 0 0 0 0 0 0 0 0\n",
      " 0 0 0 0 0 0 0 0 0 0 0 0 0 0 0 0 0 0 0 0 0 0 0 0 0 0 0 0 0 0 0 0 0 0 0 0 0\n",
      " 0 0 0 0 0 0 0 0 0 0 0 0 0 0 0 0 0 0 0 0 0 1 0 0 0 0 0 0 0 0 0 0 0 0 0 0 0\n",
      " 0 0 0 0 0 0 0 0 0 0 0 0 0 0 0 0 0 0 0 0 0 0 0 0 0 0 0 0 0 0 0 0 0 0 0 0 0\n",
      " 0 0 0 0 0 0 0 0 0 0 0 0 0 0 0 0 0 0 0 0 0 0 0 0 0 0 0 0 0 0 0 0 0 0 0 0 0\n",
      " 0 0 0 0 0 0 0 0 0 0 0 0 0 0 0 0 0 0 0 0 0 0 0 0 0 0 0 0 0 0 0 0 0 0 0 0 0\n",
      " 0 0 0 0 0 0 0 0 0 0 0 0 0 0 0 0 0 0 0 0 0 0 0 0 0 0 0 0 0 0 0 0 0 0 0 0 0\n",
      " 0 0 0 0 0 0 0 0 0 0 0 0 0 0 0 0 0 0 0 0 0 0 0 0 0 0 0 0 0 0 0 0 0 0 0 0 0\n",
      " 0 0 0 0 0 0 0 0 0 0 0 0 0 0 0 0 0 0 0 0 0 0 0 0 0 0 0 0 0 0 0 0 0 0 0 0 0\n",
      " 0 0 0 0 0 0 0 0 0 0 0 0 0 0 0 0 0 0 0 0 0 0 0 0 0 0 0 0 0 0 0 0 0 0 0 0 0\n",
      " 0 0 0 0 0 0 0 0 0 0 0 0 0 0 0 0 0 0 0 0 0 0 0 0 0 0 0 0 0 0 0 0 0 0 0 0 0\n",
      " 0 0 0 0 0 0 0 0 0 0 0 0 0 0 0 0 0 0 0 0 0 0 0 0 0 0 0 0 0 0 0 0 0 0 0 0 0\n",
      " 0 0 0 0 0 0 0 0 0 0 0 0 0 0 0 0 0 1 0 0 0 0 0 0 0 0 0 0 0 0 0 0 0 0 0 0 0\n",
      " 0 0 0 0 0 0 0 0 0 0 0 0 0 0 0 0 0 0 0 0 0 0 0 0 0 0 0 0 0 0 0 0 0 0 0 0 0\n",
      " 0 0 0 0 0 0 0 0 0 0 0 0 0 0 0 0 0 0 0 0 0 0 0 0 0 0 0 0 0 0 0 0 0 0 0 0 0\n",
      " 0 0 0 0 0 0 0 0 0 0 0 0 0 0 0 0 0 0 0 0 0 0 0 0 0 0 0 0 0 0 0 0 0 0 0 0 0\n",
      " 0 0 0 0 0 0 0 0 0 0 0 0 0 0 0 0 0 0 0 0 0 0 0 0 0 0 0 0 0 0 0 0 0 0 0 0 0\n",
      " 0 0 0 0 0 0 0 0 0 0 0 0 0 0 0 0 0 0 0 0 0 0 0 0 0 0 0 0 0 0 0 0 0 0 0 0 0\n",
      " 0 0 0 0 0 0 0 0 0 0 0 0 0 0 0 0 0 0 0 0 0 0 0 0 0 0 0 0 0 0 0 0 0 0 0 0 0\n",
      " 0 0 0 0 0 0 0 0 0 0 0 0 0 0 0 0 0 0 0 0 0 0 0 0 0 0 0 0 0 0 0 0 0 0 0 0 0\n",
      " 0 0 0 0 0 0 0 0 0 0 0 0 0 0 0 0 0 0 0 0 0 0 0 0 0 0 0 0 0 0 0 0 0 0 0 0 0\n",
      " 0 0 0 0 0 0 0 0 0 0 0 0 0 0 0 0 0 0 0 0 0 0 0 0 0 0 0 0 0 0 0 0 0 0 0 0 0\n",
      " 0 0 0 0 0 0 0 0 0 0 0 0 0 0 0 0 0 0 0 0 0 0 0 0 0 0 0 0 0 0 0 0 0 0 0 0 0\n",
      " 0 0 0 0 0 0 0 0 0 0 0 0 0 0 0 0 0 0 0 0 0 0 0 0 0 0 0 0 0 0 0 0 0 0 0 0 0\n",
      " 0 0 0 0 0 0 0 0 0 0 0 0 0 0 0 0 0 0 0 0 0 0 0 0 0 0 0 0 0 0 0 0 0 0 0 0 0\n",
      " 0 0 0 0 0 0 0 0 0 0 0 0 0 0 0 0 0 0 0 0 0 0 0 0 0 0 0 0 0 0 0 0 0 0 0 0 0\n",
      " 0 0 0 0 0 0 0 0 0 0 0 0 0 0 0 0 0 0 0 0 0 0 0 0 0 0 0 0 0 0 0 0 0 0 0 0 0\n",
      " 0 0 0 0 0 0 0 0 0 0 0 0 0 0 0 0 0 0 0 0 0 0 0 0 0 0 0 0 0 0 0 0 0 0 0 0 0\n",
      " 0 0 0 0 0 0 0 0 0 0 0 0 0 0 0 0 0 0 0 0 0 0 0 0 0 0 0 0 0 0 0 0 0 0 0 0 0\n",
      " 0 0 0 0 0 0 0 0 0 0 0 0 0 0 0 0 0 0 0 0 0 0 0 0 0 0 0 0 0 0 0 0 0 0 0 0 0\n",
      " 0 0 0 0 0 0 0 0 0 0 0 0 0 0 0 0 0 0 0 0 0 0 0 0 0 0 0 0 0 0 0 0 0 0 0 0 0\n",
      " 0 0 0 0 0 0 0 0 0 0 0 0 0 0 0 0 0 0 0 0 0 0 0 0 0 0 0 0 0 0 0 0 0 0 0 0 0\n",
      " 0 0 0 0 0 0 0 0 0 0 0 0 0 0 0 0 0 0 0 0 0 0 0 0 0 0 0 0 0 0 1 0 0 0 0 0 0\n",
      " 0 0 0 0 0 0 0 0 0 0 0 0 0 0 0 0 0 0 0 0 0 0 0 0 0 0 0 0 0 0 0 0 0 0 0 0 0\n",
      " 0 0 0 0 0 0 0 0 0 0 0 0 0 0 0 0 0 0 0 0 0 1 0 0 0 0 0 0 0 0 0 0 0 0 0 0 0\n",
      " 0 0 0 0 0 0 0 0 0 0 0 0 0 0 0 0 0 0 0 0 0 0 0 0 0 0 0 0 0 0 0 0 0 0 0 0 0\n",
      " 0 0 0 0 0 0 0 0 0 0 0 0 0 0 0 0 0 0 0 0 1 0 0 0 0 0 0 0 0 0 0 0 0 0 0 0 0\n",
      " 0 0 0 0 0 0 0 0 0 0 0 0 0 0 0 0 0 0 0 0 0 0 0 0 0 0 0 0 0 0 0 0 0 0 0 0 0\n",
      " 0 0 0 0 0 0 0 0 0 0 2 0 0 0 0 0 0 0 0 0 0 0 0 0 0 0 0 0 0 0 0 0 0 0 0 0 0\n",
      " 0 1 0 0 0 0 0 0 0 0 0 0 0 0 0 0 0 0 0 0 0 0 0 0 0 0 0 0 0 0 0 0 0 0 0 0 0\n",
      " 0 0 0 0 0 0 0 0 0 0 0 0 0 0 0 0 0 0 0 0 0 0 0 0 0 0 0 0 0 0 0 0 0 0 0 0 0\n",
      " 0 0 0 0 0 0 0 0 0 0 0 0 0 0 0 0 0 0 0 0 0 0 0 0 0 0 0 0 0 0 0 0 0 0 0 0 0\n",
      " 0 0 0 0 0 0 0 0 0 0 0 0 0 0 0 0 0 0 0 0 0 0 0 0 0 0 0 0 0 0 0 0 0 0 0 0 0\n",
      " 0 0 0 0 0 0 0 0 0 0 0 0 0 0 0 0 0 0 0 0 0 0 0 0 0 0 0 0 0 0 0 0 0 0 0 0 0\n",
      " 0 0 0 0 0 0 0 0 0 0 0 0 0 0 0 0 0 0 0 0 0 0 0 0 0 0 0 0 0 0 0 0 0 0 0 0 0\n",
      " 0 0 0 0 0 0 0 0 0 0 0 0 0 0 0 0 0 0 0 0 0 0 0 0 0 0 0 0 0 0 0 0 0 0 0 0 0\n",
      " 0 0 0 0 0 0 0 0 0 0 0 0 0 0 0 0 0 0 0 0 0 0 0 0 0 0 0 0 0 0 0 0 0 0 0 0 0\n",
      " 0 0 0 0 0 0 0 0 0 0 0 0 0 0 0 0 0 0 0 0 0 0 0 0 0 0 0 0 0 0 0 0 0 0 0 0 0\n",
      " 0 0 0 0 0 0 0 0 0 0 0 0 0 0 0 1 0 0 0 0 0 0 0 0 0 0 0 0 0 0 0 0 0 0 0 0 0\n",
      " 0 0 0 0 0 0 0 0 0 0 0 0 0 0 0 0 0 0 0 0 0 0 0 0 0 0 0 0 0 0 0 0 0 0 0 0 0\n",
      " 0 0 0 0 0 0 0 0 0 0 0 0 0 0 0 0 0 0 0 0 0 0 0 0 0 0 0 0 0 0 0 0 0 0 0 0 0\n",
      " 0 0 0 0 0 0 0 0 0 0 0 0 0 0 0 0 0 0 0 0 0 0 0 0 0 0 0 0 0 0 0 0 0 0 0 0 0\n",
      " 0 0 0 0 0 0 0 0 0 0 0 0 0 0 0 0 0 0 0 0 0 0 0 0 0 0 0 0 0 0 1 0 0 0 0 0 0\n",
      " 0 0 0 0 0 0 0 0 0 0 0 0 0 0 0 0 0 0 0 0 0 0 0 0 0 0 0 0 0 0 0 0 0 0 0 0 0\n",
      " 0 0 0 0 0 0 0 0 0 0 0 0 0 0 0 0 0 0 0 0 0 0 0 0 0 0 0 0 0 0 0 0 0 0 0 0 0\n",
      " 0 0 0 0 0 0 0 0 0 0 0 0 0 0 0 0 0 0 0 0 0 0 0 0 0 0 0 0 0 0 0 0 0 0 0 0 0\n",
      " 0 0 0 0 0 0 0 0 0 0 0 0 0 0 0 0 0 0 0 0 0 0 0 0 0 0 0 0 0 0 0 0 0 0 0 0 0\n",
      " 0 0 0 0 0 0 0 0 0 0 0 0 0 0 0 0 0 0 0 0 0 0 0 0 0 0 0 0 0 0 0 0 0 0 0 0 0\n",
      " 0 0 0 0 0 0 0 0 0 0 0 0 0 0 0 0 0 0 0 0 0 0 0 0 0 0 0 0 0 0 0 0 0 0 0 0 0\n",
      " 0 0 0 0 0 0 0 0 0 0 0 0 0 0 0 0 0 0 0 0 0 0 0 0 0 0 0 0 0 0 0 0 0 0 0 0 0\n",
      " 0 0 0 0 0 0 0 0 0 0 0 0 0 0 0 0 0 0 0 0 0 0 0 0 0 0 0 0 0 0 0 0 0 0 0 0 0\n",
      " 0 0 0 0 0 0 0 1 0 0 0 0 0 0 0 0 0 0 0 0 0 0 0 0 0 0 0 0 0 0 0 0 0 0 0 0 0\n",
      " 0 0 0 0 0 0 0 0 0 0 0 0 0 0 0 0 0 0 0 0 0 0 0 0 0 0 0 0 0 0 0 0 0 0 0 0 0\n",
      " 0 0 0 0 0 0 0 0 0 0 0 0 0 0 0 0 0 0 0 0 0 0 0 0 0 0 0 0 0 0 0 0 0 0 0 0 0\n",
      " 0 0 0 0 0 0 0 0 0 0 0 0 0 0 0 0 0 0 0 0 0 0 0 0 0 0 0 0 0 0 0 0 0 0 0 0 0\n",
      " 0 0 0 0 0 0 0 0 0 0 0 0 0 0 0 0 0 0 0 0 0 0 0 0 0 0 0 0 0 0 0 0 0 0 0 0 0\n",
      " 0 0 0 0 0 0 0 0 0 0 0 0 0 0 0 0 0 0 0 0 0 0 0 0 0 0 0 0 0 0 0 0 0 0 0 0 0\n",
      " 0 0 0 0 0 0 0 0 0 0 0 0 0 0 0 0 0 0 0 0 0 0 0 0 0 0 0 0 0 0 0 0 0 0 0 0 0\n",
      " 0 0 0 0 0 0 0 0 0 0 0 0 0 0 0 0 0 0 0 0 0 0 0 0 0 0 0 0 0 0 0 0 0 0 0 0 0\n",
      " 0 0 0 0 0 0 0 0 0 0 0 0 0 0 0 0 0 0 0 0 0 0 0 0 0 0 0 0 0 0 0 0 0 0 0 0 0\n",
      " 0 0 0 0 0 0 0 0 0 0 0 0 0 0 0 0 0 0 0 0 0 0 0 0 0 0 0 0 0 0 0 0 0 0 0 0 0\n",
      " 0 0 0 0 0 0 0 0 0 0 0 0 0 0 0 0 0 0 0 0 0 0 0 0 0 0 0 0 0 0 0 0 0 0 0 0 0\n",
      " 0 0 0 0 0 0 0 0 0 0 0 0 0 0 0 0 0 0 0 0 0 0 0 0 0 0 0 0 0 0 0 0 0 0 0 0 0\n",
      " 0 0 0 0 0 0 0 0 0 0 0 0 0 0 0 0 0 0 0 0 0 0 0 0 0 0 0 0 0 0 0 0 0 0 0 0 0\n",
      " 0 0 0 0 0 0 0 0 0 0 0 0 0 0 0 0 0 0 0 0 0 0 0 0 0 0 0 0 0 0 0 0 0 0 0 0 0\n",
      " 0 0 0 0 0 0 0 0 0 0 0 0 0 0 0 0 0 0 0 0 0 0 0 0 0 0 0 0 0 0 0 0 0 0 0 0 0\n",
      " 0 0 0 0 0 0 0 0 0 0 0 0 0 0 0 0 0 0 0 0 0 0 0 0 0 0 0 0 0 0 0 0 0 0 0 0 0\n",
      " 0 0 0 0 0 0 0 0 0 0 0 0 0 0 0 0 0 0 0 0 0 0 0 0 0 0 0 0 0 0 0 0 0 0 0 0 0\n",
      " 0 0 0 0 0 0 0 0 0 0 0 0 0 0 0 0 0 0 0 0 0 0 0 0 0 0 0 0 0 0 0 0 0 0 0 0 0\n",
      " 0 0 0 0 0 0 0 0 0 0 0 0 0 0 0 0 0 0 0 0 0 0 0 0 0 0 0 0 0 0 0 0 0 0 0 0 0\n",
      " 0 0 0 0 0 0 0 0 0 0 0 0 0 0 0 0 0 0 0 0 0 0 0 0 0 0 0 0 0 0 0 0 0 0 0 0 0\n",
      " 0 0 0 0 0 0 0 0 0 0 0 0 0 0 0 0 0 0 0 0 0 0 0 0 0 0 0 0 0 0 0 0 0 0 0 0 0\n",
      " 0 1 0 0 0 0 0 0 0 0 0 0 0 0 0 0 0 0 0 0 0 0 0 0 0 0 0 0 0 0 0 0 0 0 0 0 0\n",
      " 0 0 0 0 0 0 0 0 0 0 0 0 0 0 0 0 0 0 0 0 0 0 0 0 0 0 0 0 0 0 0 0 0 0 0 0 0\n",
      " 0 0 0 0 0 0 0 0 0 0 0 0 0 0 0 0 0 0 0 0 0 0 0 0 0 0 0 0 0 0 0 0 0 0 0 0 0\n",
      " 0 0 0 0 0 0 0 0 0 0 0 0 0 0 0 0 0 0 0 0 0 0 0 0 0 0 0 0 0 0 0 0 0 0 0 0 0\n",
      " 0 0 0 0 0 0 0 0 0 0 0 0 0 0 0 0 0 0 0 0 0 0 0 0 0 0 0 0 0 0 0 0 0 0 0 0 0\n",
      " 0 0 0 0 0 0 0 0 0 0 0 0 0 0 0 0 0 0 0 0 0 0 0 0 0 0 0 0 0 0 0 0 0 0 0 0 0\n",
      " 0 0 0 0 0 0 0 0 0 0 0 0 0 0 0 0 0 0 0 0 0 0 0 0 0 0 0 0 0 0 0 0 0 0 0 0 0\n",
      " 0 0 0 0 0 0 0 0 0 0 0 0 0 0 0 0 0 0 0 0 0 0 0 0 0 0 0 0 0 0 0 0 0 0 0 0 0\n",
      " 0 0 0 0 0 0 0 0 0 0 0 0 0 0 0 0 0 0 0 0 0 0 0 0 0 0 0 0 0 0 0 0 0 0 0 0 0\n",
      " 0 0 0 0 0 0 0 0 0 0 0 0 0 0 0 0 0 0 0 0 0 0 0 0 0 0 0 0 0 0 0 0 0 0 0 0 0\n",
      " 0 0 0 0 0 0 0 0 0 0 0 0 0 0 0 1 0 0 0 0 0 0 0 0 0 0 0 0 0 0 0 0 0 0 0 0 0\n",
      " 0 0 0 0 0 0 0 0 0 0 0 0 0 0 0 0 0 0 0 0 0 0 0 0 0 0 0 0 0 0 0 0 0 0 0 0 0\n",
      " 0 0 0 0 0 0 0 0 0 0 0 0 0 0 0 0 0 0 0 0 0 0 0 0 0 0 0 0 0 0 0 0 0 0 0 0 0\n",
      " 0 0 0 0 0 0 0 0 0 0 0 0 0 0 0 0 0 0 0 0 0 0 0 0 0 0 0 0 0 0 0 0 0 0 0 0 0\n",
      " 0 0 0 0 0 0 0 0 0 0 0 0 0 0 0 0 0 0 0 0 0 0 0 0 0 0 0 0 0 0 0 0 0 0 0 0 0\n",
      " 0 0 0 0 0 0 0 0 0 0 0 0 0 0 0 0 0 0 0 0 0 0 0 0 0 0 0 0 0 0 0 0 0 0 0 0 0\n",
      " 0 0 0 0 0 0 0 0 0 0 0 0 0 0 0 0 0 0 0 0 0 0 0 0 0 0 0 0 0 0 0 0 0 0 0 0 0\n",
      " 0 0 0 1 0 0 0 0 0 0 0 0 0 0 0 0 0 0 0 0 0 0 0 0 0 0 0 0 0 0 0 0 0 0 0 0 0\n",
      " 0 0 0 0 0 0 0 0 1 0 0 0 0 0 0 0 0 0 0 0 0 0 0 0 0 0 0 0 0 0 0 0 0 0 0 0 0\n",
      " 0 0 0 0 0 0 0 0 0 0 0 0 0 0 0 0 0 0 0 0 0 0 0 0 0 0 0 0 0 0 0 0 0 0 0 0 0\n",
      " 0 0 0 0 0 0 0 0 0 0 0 0 0 0 0 0 0 0 0 0 0 0 0 0 0 0 0 0 0 0 0 0 0 0 0 0 0\n",
      " 0 0 0 0 0 0 0 0 0 0 0 0 0 0 0 0 0 0 0 0 0 0 0 0 0 0 0 0 0 0 0 0 0 0 0 0 0\n",
      " 0 0 0 0 0 1 0 0 0 0 0 0 0 0 0 0 0 0 0 0 0 0 0 0 0 0 0 0 0 0 0 0 0 0 0 0 0\n",
      " 0 0 0 0 0 0 0 0 0 0 0 0 0 0 0 0 0 0 0 0 0 0 0 0 0 0 0 0 0 0 0 0 0 0 0 0 0\n",
      " 0 0 0 0 0 0 0 0 0 0 0 0 0 0 0 0 0 0 0 0 0 0 0 0 0 0 0 0 0 0 0 0 0 0 0 0 0\n",
      " 0 0 0 0 0 0 0 0 0 0 0 0 0 0 0 0 0 0 0 0 0 0 0 0 0 0 0 0 0 0 0 0 0 0 0 0 0\n",
      " 0 0 0 0 0 0 0 0 0 0 0 0 0 0 0 0 0 0 0 0 0 0 0]\n"
     ]
    }
   ],
   "source": [
    "## Stampiamo il vettore x corrispondente al primo esempio\n",
    "with np.printoptions(threshold=np.inf):\n",
    "    print(data_mat[0])"
   ]
  },
  {
   "cell_type": "markdown",
   "metadata": {},
   "source": [
    "### Partizionamento in training set e test set\n",
    "\n",
    "Infine, suddividiamo i dati in un training set di 2500 frasi ed un test set di 500 frasi (di cui 250 positive e 250 negative). "
   ]
  },
  {
   "cell_type": "code",
   "execution_count": 26,
   "metadata": {},
   "outputs": [
    {
     "name": "stdout",
     "output_type": "stream",
     "text": [
      "Dati di training:\t  (2500, 4500)\n",
      "Dati di test:\t\t  (500, 4500)\n"
     ]
    }
   ],
   "source": [
    "## Partizioniamo i dati in test set e training set\n",
    "np.random.seed(0)\n",
    "\n",
    "#indici esempi del train set\n",
    "test_inds = np.append(np.random.choice((np.where(y==-1))[0], 250, replace=False), \n",
    "                      np.random.choice((np.where(y==1))[0], 250, replace=False))\n",
    "\n",
    "#indici esempi del test set\n",
    "train_inds = list(set(range(len(labels))) - set(test_inds))\n",
    "\n",
    "#dati train\n",
    "train_data = data_mat[train_inds,]\n",
    "train_labels = y[train_inds]\n",
    "\n",
    "#dati test\n",
    "test_data = data_mat[test_inds,]\n",
    "test_labels = y[test_inds]\n",
    "\n",
    "print(\"Dati di training:\\t \", train_data.shape)\n",
    "print(\"Dati di test:\\t\\t \", test_data.shape)\n",
    "# ogni riga del dataset ha 4500 componenti"
   ]
  },
  {
   "cell_type": "markdown",
   "metadata": {},
   "source": [
    "## 2. Apprendimento di un modello di regressione logistica\n",
    "\n",
    "Potremmo costuire la regressione logistica implementando l'algoritmo Stochastic Gradient Descent (SGD) con la regola di aggiornamento vista a lezione, ma in questo caso decidiamo di utilizzare l'algoritmo SGD già fornito con `scikit-learn`. \n",
    "\n",
    "**Nota bene**. A causa dell'aleatorietà della procedura SGD, diverse esecuzioni costruiranno modelli leggermente diversi (e quindi valori leggermente diversi dell'errore). Se si vuole assicurare la ripetibilità degli esperimenti, si può impostare il seme del generatore pseudocasuale utilizzando l'opzione `random_state`. "
   ]
  },
  {
   "cell_type": "code",
   "execution_count": 30,
   "metadata": {},
   "outputs": [
    {
     "name": "stdout",
     "output_type": "stream",
     "text": [
      "Tasso di errore di training:\t\t  0.0152\n",
      "Tasso di errore di test:\t\t  0.142\n"
     ]
    }
   ],
   "source": [
    "from sklearn.linear_model import SGDClassifier\n",
    "\n",
    "## Fit di un classificatore logistico sui dati di training\n",
    "clf = SGDClassifier(loss=\"log\", penalty=\"l2\", alpha=0.0001, learning_rate='constant', eta0=0.03, max_iter=1000, \n",
    "                    random_state=0)\n",
    "# funzione costo: log loss\n",
    "# uso penalizzazione l2\n",
    "# alpha legato all'iperparametro lambda: compromesso tra parametri W e costo log loss\n",
    "# eta = passo\n",
    "# max_iter _ numero di iterazioni\n",
    "# random_state: fissa il seme del generatore pseudocasuale\n",
    "\n",
    "#OTTIMIZZO IL MODELLO\n",
    "clf.fit(train_data, train_labels)\n",
    "\n",
    "\n",
    "## Estraiamo il vettore dei parametri (w0, w1, ..., wd) del modello di regressione logistica\n",
    "omega = clf.coef_[0,:] # coefficienti (w1, ..., wd) (ARRAY BIDIMENSIONALE per questo metto 0 per la prima riga che è l'unica)\n",
    "w0 = clf.intercept_    # termine costante w0\n",
    "\n",
    "## Costruiamo le predizioni sul training set e sul test set\n",
    "preds_train = clf.predict(train_data)\n",
    "preds_test = clf.predict(test_data)\n",
    "\n",
    "## Calcoliamo il numero di errori sul train set e sul test set (True se ho errore altrimenti False )\n",
    "errs_train = np.sum((preds_train > 0.0) != (train_labels > 0.0))  # (preds_train > 0.0)[i] è 1 se e solo se l'esempio i\n",
    "                                                                  # è classificato dal modello come positivo\n",
    "errs_test = np.sum((preds_test > 0.0) != (test_labels > 0.0))\n",
    "\n",
    "## Stampiamo il tasso di errore sul train set e sul test set\n",
    "print(\"Tasso di errore di training:\\t\\t \", float(errs_train)/len(train_labels))\n",
    "print(\"Tasso di errore di test:\\t\\t \", float(errs_test)/len(test_labels))"
   ]
  },
  {
   "cell_type": "markdown",
   "metadata": {},
   "source": [
    "## 3. Analisi del margine\n",
    "\n",
    "Come sappiamo, il modello di regressione logistica non produce solo classificazioni, ma anche stime delle probabilità condizionate. Queste possono essere recuperate tramite il metodo `predict_proba` della classe `SGDClassifier`. \n",
    "\n",
    "Diremo che `x` ha **margine** `gamma` se (secondo il modello di regressione logistica) `Pr(y=1|x) > (1/2)+gamma` oppure `Pr(y=1|x) < (1/2)-gamma`. \n",
    "La seguente funzione **margin_counts** riceve in input il classificatore (`clf`, precedentemente costruito), il test set (`test_data`), e un valore di `gamma`, e calcola quanti punti del test set hanno un margine almeno pari a `gamma`."
   ]
  },
  {
   "cell_type": "code",
   "execution_count": 33,
   "metadata": {},
   "outputs": [],
   "source": [
    "## Restituisce il numero di esempi di test per i quali Pr(y=1|x) è compresa in [0, 0.5 - gamma) o (0.5 + gamma, 1]\n",
    "def margin_counts(clf, test_data, gamma):\n",
    "    ## Calcola la probabilità (di essere positivo) assegnata ad ogni esempio di test\n",
    "    preds = clf.predict_proba(test_data)[:,1]\n",
    "    ## Trova gli esempi per cui la predizione è lontana almeno gamma da 0.5\n",
    "    margin_inds = np.where((preds > (0.5+gamma)) | (preds < (0.5-gamma)))[0]\n",
    "    \n",
    "    return float(len(margin_inds))"
   ]
  },
  {
   "cell_type": "markdown",
   "metadata": {},
   "source": [
    "Ora grafichiamo la distribuzione (cumulativa) dei valori di margine del test set. "
   ]
  },
  {
   "cell_type": "code",
   "execution_count": 34,
   "metadata": {},
   "outputs": [
    {
     "data": {
      "image/png": "[encoded data removed]",
      "text/plain": [
       "<Figure size 432x288 with 1 Axes>"
      ]
     },
     "metadata": {
      "needs_background": "light"
     },
     "output_type": "display_data"
    }
   ],
   "source": [
    "gammas = np.arange(0,0.5,0.01)\n",
    "f = np.vectorize(lambda g: margin_counts(clf, test_data, g))\n",
    "plt.plot(gammas, f(gammas)/500.0, linewidth=2, color='green')\n",
    "plt.xlabel('Margine', fontsize=14)\n",
    "plt.ylabel('Frazione di punti sopra il margine', fontsize=14)\n",
    "plt.show()"
   ]
  },
  {
   "cell_type": "markdown",
   "metadata": {},
   "source": [
    "Ci chiediamo ora: *I punti `x` con margine maggiore hanno maggiore probabilità di essere classificati correttamente?*\n",
    "\n",
    "Per verificarlo, definiamo una funzione **margin_errors** che calcola la frazione di punti misclassificati aventi  margine almeno `gamma`. "
   ]
  },
  {
   "cell_type": "code",
   "execution_count": 35,
   "metadata": {},
   "outputs": [],
   "source": [
    "## Restituisce il tasso di errore delle predizioni comprese negli intervalli [0, 0.5 - gamma) and (0.5 + gamma, 1]\n",
    "def margin_errors(clf, test_data, test_labels, gamma):\n",
    "    ## Calcoliamo la probabilità su ogni esempio di test\n",
    "    preds = clf.predict_proba(test_data)[:,1]\n",
    "    \n",
    "    ## Troviamo gli esempi per i quali la predizione è lontana almeno gamma da 0.5\n",
    "    margin_inds = np.where((preds > (0.5+gamma)) | (preds < (0.5-gamma)))[0]\n",
    "    \n",
    "    ## Calcoliamo il tasso di errore su quegli esempi\n",
    "    num_errors = np.sum((preds[margin_inds] > 0.5) != (test_labels[margin_inds] > 0.0))\n",
    "    return float(num_errors)/len(margin_inds)"
   ]
  },
  {
   "cell_type": "markdown",
   "metadata": {},
   "source": [
    "A questo punto possiamo graficare la relazione tra il margine ed il tasso di errore. "
   ]
  },
  {
   "cell_type": "code",
   "execution_count": 36,
   "metadata": {},
   "outputs": [
    {
     "data": {
      "image/png": "[encoded data removed]",
      "text/plain": [
       "<Figure size 432x288 with 1 Axes>"
      ]
     },
     "metadata": {
      "needs_background": "light"
     },
     "output_type": "display_data"
    }
   ],
   "source": [
    "## Crea una griglia di valori per gamma\n",
    "gammas = np.arange(0, 0.5, 0.01)\n",
    "\n",
    "## Calcola margin_errors per gli esempi di test per ogni valore di g\n",
    "f = np.vectorize(lambda g: margin_errors(clf, test_data, test_labels, g))\n",
    "\n",
    "## Grafica il risultato\n",
    "plt.plot(gammas, f(gammas), linewidth=2)\n",
    "plt.ylabel('Tasso di errore', fontsize=14)\n",
    "plt.xlabel('Margine', fontsize=14)\n",
    "plt.show()"
   ]
  },
  {
   "cell_type": "markdown",
   "metadata": {},
   "source": [
    "## 4. Parole molto influenti\n",
    "\n",
    "Infine, cerchiamo di **interpretare** parzialmente il modello di regressione logistica fin qui costruito. \n",
    "\n",
    "Quali parole risultano le più importanti per decidere se una frase contiene un sentimento positivo? Come prima approssimazione, possiamo prendere le parole i cui coefficienti in `omega` hanno valore massimo. \n",
    "\n",
    "Allo stesso modo, possiamo cercare le parole i cui coefficienti in `omega` hanno valore più negativo, e interpretarle come le parole più influenti per le predizioni negative. "
   ]
  },
  {
   "cell_type": "code",
   "execution_count": 32,
   "metadata": {},
   "outputs": [
    {
     "name": "stdout",
     "output_type": "stream",
     "text": [
      "\n",
      "Parole altamente negative: \n",
      "['poor', 'bad', 'disappointment', 'worst', 'waste', 'disappointing', 'not', 'wasn', 'doesn', 'avoid', 'sucked', 'horrible', 'slow', 'awful', 'terrible', 'aren', 'bland', 'stupid', 'average', 'fails', 'rude', 'unfortunately', 'didn', 'then', 'make', 'return', 'worse', 'crap', 'lacks', 'dirty', 'mediocre', 'piece', 'hours', 'difficult', 'wouldn', 'dont', 'lame', 'don', 'plug', 'failed', 'unreliable', 'sucks', 'guess', 'boring', 'never', 'plot', 'directing', 'appalling', 'torture', 'started']\n",
      "\n",
      "Parole altamente positive: \n",
      "['great', 'love', 'nice', 'perfect', 'awesome', 'excellent', 'delicious', 'loved', 'beautiful', 'works', 'fantastic', 'liked', 'comfortable', 'amazing', 'best', 'good', 'wonderful', 'happier', 'interesting', 'funny', 'enjoyed', 'fun', 'cool', 'friendly', 'happy', 'incredible', 'easy', 'plus', 'definitely', 'both', 'sturdy', 'years', 'scottsdale', 'pleased', 'well', 'masculine', 'screamy', 'must', 'rocks', 'fast', 'joy', 'played', 'wow', 'recommend', 'need', 'exactly', 'family', 'carry', 'restaurant', 'fine']\n"
     ]
    }
   ],
   "source": [
    "## Convertiamo il nostro vocabolario in una lista ordinata alfabeticamente:\n",
    "vocab = np.array([z[0] for z in sorted(vectorizer.vocabulary_.items(), key=lambda x:x[1])])\n",
    "\n",
    "## Costruiamo gli indici di un ordinamento dei coefficienti omega (dal più negativo al più positivo)\n",
    "inds = np.argsort(omega)\n",
    "\n",
    "## Le 50 parole con valore più negativo sono le prime 50\n",
    "neg_inds = inds[:50]\n",
    "print(\"\\nParole altamente negative: \")\n",
    "print([str(x) for x in list(vocab[neg_inds])])\n",
    "\n",
    "## Le 50 parole con valore più positivo sono le ultime 50\n",
    "pos_inds = inds[-50:]\n",
    "print(\"\\nParole altamente positive: \")\n",
    "print([str(x) for x in list(vocab[pos_inds])[::-1]])"
   ]
  },
  {
   "cell_type": "markdown",
   "metadata": {},
   "source": [
    "APPUNTO MIO:\n",
    "Domanda: Quali sono le parole piu significative nello stabilire se una recensione è positiva o negativa? Le parole piu significative sono quelle per le quali il modello di regressione logistica ha assegnato un valore di Omega piu grande.\n",
    "Abbiamo una variabile di input per ciascuna parola, quindi abbiamo un coefficiente w_i per ciascuna parola. Questi coefficienti di Omega sono legati a ciascuna parola del dizionario. Le parole \n",
    "\n",
    "Le parole a cui corrisponde un coefficiente di valore maggiore sono quelle che avranno un grosso impatto nel concludere che la recensione è positiva. Viceversa, le parole con un coefficiente molto basso sono quelle che maggiormente concorrono a far si che la recensione venga classificata come negativa.\n",
    "\n"
   ]
  },
  {
   "cell_type": "code",
   "execution_count": null,
   "metadata": {},
   "outputs": [],
   "source": []
  }
 ],
 "metadata": {
  "anaconda-cloud": {},
  "kernelspec": {
   "display_name": "Python 3 (ipykernel)",
   "language": "python",
   "name": "python3"
  },
  "language_info": {
   "codemirror_mode": {
    "name": "ipython",
    "version": 3
   },
   "file_extension": ".py",
   "mimetype": "text/x-python",
   "name": "python",
   "nbconvert_exporter": "python",
   "pygments_lexer": "ipython3",
   "version": "3.9.7"
  },
  "toc": {
   "colors": {
    "hover_highlight": "#DAA520",
    "navigate_num": "#000000",
    "navigate_text": "#333333",
    "running_highlight": "#FF0000",
    "selected_highlight": "#FFD700",
    "sidebar_border": "#EEEEEE",
    "wrapper_background": "#FFFFFF"
   },
   "moveMenuLeft": true,
   "nav_menu": {
    "height": "12px",
    "width": "252px"
   },
   "navigate_menu": true,
   "number_sections": false,
   "sideBar": true,
   "threshold": 4,
   "toc_cell": false,
   "toc_section_display": "block",
   "toc_window_display": false,
   "widenNotebook": false
  }
 },
 "nbformat": 4,
 "nbformat_minor": 1
}
