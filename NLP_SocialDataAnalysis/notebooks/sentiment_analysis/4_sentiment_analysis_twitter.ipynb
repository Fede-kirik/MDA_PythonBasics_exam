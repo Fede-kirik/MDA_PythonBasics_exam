{
 "cells": [
  {
   "cell_type": "markdown",
   "metadata": {},
   "source": [
    "# Twitter Sentiment Analysis"
   ]
  },
  {
   "cell_type": "markdown",
   "metadata": {},
   "source": [
    "**Installalling the required packages**"
   ]
  },
  {
   "cell_type": "code",
   "execution_count": 4,
   "metadata": {
    "ExecuteTime": {
     "end_time": "2019-07-12T17:37:40.638986Z",
     "start_time": "2019-07-12T17:37:38.080731Z"
    }
   },
   "outputs": [],
   "source": [
    "#! pip install --user scipy nltk seaborn textblob"
   ]
  },
  {
   "cell_type": "markdown",
   "metadata": {},
   "source": [
    "**Importing the required packages**"
   ]
  },
  {
   "cell_type": "code",
   "execution_count": 5,
   "metadata": {
    "ExecuteTime": {
     "end_time": "2019-07-12T17:37:43.249754Z",
     "start_time": "2019-07-12T17:37:40.642457Z"
    }
   },
   "outputs": [
    {
     "name": "stderr",
     "output_type": "stream",
     "text": [
      "[nltk_data] Downloading package wordnet to\n",
      "[nltk_data]     C:\\Users\\Federico\\AppData\\Roaming\\nltk_data...\n",
      "[nltk_data]   Package wordnet is already up-to-date!\n"
     ]
    }
   ],
   "source": [
    "import numpy as np\n",
    "import pandas as pd\n",
    "import json, nltk\n",
    "import matplotlib.pyplot as plt\n",
    "\n",
    "import seaborn as sns\n",
    "nltk.download('wordnet')  \n",
    "\n",
    "%matplotlib inline"
   ]
  },
  {
   "cell_type": "markdown",
   "metadata": {},
   "source": [
    "**Reading data from CSV file**\n",
    "\n",
    "N.B. The dataset is not in \"UTF-8\" encoding"
   ]
  },
  {
   "cell_type": "code",
   "execution_count": 6,
   "metadata": {
    "ExecuteTime": {
     "end_time": "2019-07-12T17:37:43.473952Z",
     "start_time": "2019-07-12T17:37:43.253722Z"
    }
   },
   "outputs": [],
   "source": [
    "total_data = pd.read_csv(\"datasets/Twitter_train.csv\", encoding=\"ISO-8859-1\")"
   ]
  },
  {
   "cell_type": "markdown",
   "metadata": {},
   "source": [
    "**Showing the data**"
   ]
  },
  {
   "cell_type": "code",
   "execution_count": 7,
   "metadata": {
    "ExecuteTime": {
     "end_time": "2019-07-12T17:37:43.535481Z",
     "start_time": "2019-07-12T17:37:43.505212Z"
    },
    "scrolled": false
   },
   "outputs": [
    {
     "name": "stderr",
     "output_type": "stream",
     "text": [
      "C:\\Users\\Federico\\AppData\\Local\\Temp\\ipykernel_17176\\2783862136.py:2: FutureWarning: Passing a negative integer is deprecated in version 1.0 and will not be supported in future version. Instead, use None to not limit the column width.\n",
      "  pd.set_option('display.max_colwidth', -1)\n"
     ]
    },
    {
     "data": {
      "text/html": [
       "<div>\n",
       "<style scoped>\n",
       "    .dataframe tbody tr th:only-of-type {\n",
       "        vertical-align: middle;\n",
       "    }\n",
       "\n",
       "    .dataframe tbody tr th {\n",
       "        vertical-align: top;\n",
       "    }\n",
       "\n",
       "    .dataframe thead th {\n",
       "        text-align: right;\n",
       "    }\n",
       "</style>\n",
       "<table border=\"1\" class=\"dataframe\">\n",
       "  <thead>\n",
       "    <tr style=\"text-align: right;\">\n",
       "      <th></th>\n",
       "      <th>ItemID</th>\n",
       "      <th>Sentiment</th>\n",
       "      <th>SentimentText</th>\n",
       "    </tr>\n",
       "  </thead>\n",
       "  <tbody>\n",
       "    <tr>\n",
       "      <th>0</th>\n",
       "      <td>1</td>\n",
       "      <td>0</td>\n",
       "      <td>is so sad for my APL friend.............</td>\n",
       "    </tr>\n",
       "    <tr>\n",
       "      <th>1</th>\n",
       "      <td>2</td>\n",
       "      <td>0</td>\n",
       "      <td>I missed the New Moon trailer...</td>\n",
       "    </tr>\n",
       "    <tr>\n",
       "      <th>2</th>\n",
       "      <td>3</td>\n",
       "      <td>1</td>\n",
       "      <td>omg its already 7:30 :O</td>\n",
       "    </tr>\n",
       "    <tr>\n",
       "      <th>3</th>\n",
       "      <td>4</td>\n",
       "      <td>0</td>\n",
       "      <td>.. Omgaga. Im sooo  im gunna CRy. I've been at this dentist since 11.. I was suposed 2 just get a crown put on (30mins)...</td>\n",
       "    </tr>\n",
       "    <tr>\n",
       "      <th>4</th>\n",
       "      <td>5</td>\n",
       "      <td>0</td>\n",
       "      <td>i think mi bf is cheating on me!!!       T_T</td>\n",
       "    </tr>\n",
       "  </tbody>\n",
       "</table>\n",
       "</div>"
      ],
      "text/plain": [
       "   ItemID  Sentiment  \\\n",
       "0  1       0           \n",
       "1  2       0           \n",
       "2  3       1           \n",
       "3  4       0           \n",
       "4  5       0           \n",
       "\n",
       "                                                                                                                          SentimentText  \n",
       "0                       is so sad for my APL friend.............                                                                         \n",
       "1                     I missed the New Moon trailer...                                                                                   \n",
       "2                omg its already 7:30 :O                                                                                                 \n",
       "3            .. Omgaga. Im sooo  im gunna CRy. I've been at this dentist since 11.. I was suposed 2 just get a crown put on (30mins)...  \n",
       "4           i think mi bf is cheating on me!!!       T_T                                                                                 "
      ]
     },
     "execution_count": 7,
     "metadata": {},
     "output_type": "execute_result"
    }
   ],
   "source": [
    "#this opinion is used for setting Pandas DataFrame to show non-truncated table\n",
    "pd.set_option('display.max_colwidth', -1)\n",
    "\n",
    "total_data.head()"
   ]
  },
  {
   "cell_type": "markdown",
   "metadata": {},
   "source": [
    "**Taking column names into variables**"
   ]
  },
  {
   "cell_type": "code",
   "execution_count": 8,
   "metadata": {
    "ExecuteTime": {
     "end_time": "2019-07-12T17:37:43.550355Z",
     "start_time": "2019-07-12T17:37:43.540924Z"
    },
    "scrolled": false
   },
   "outputs": [],
   "source": [
    "tweet = total_data.columns.values[2]\n",
    "sentiment = total_data.columns.values[1]"
   ]
  },
  {
   "cell_type": "code",
   "execution_count": 9,
   "metadata": {},
   "outputs": [
    {
     "data": {
      "text/plain": [
       "('SentimentText', 'Sentiment')"
      ]
     },
     "execution_count": 9,
     "metadata": {},
     "output_type": "execute_result"
    }
   ],
   "source": [
    "tweet, sentiment"
   ]
  },
  {
   "cell_type": "markdown",
   "metadata": {},
   "source": [
    "## Step 1: Preprocessing"
   ]
  },
  {
   "cell_type": "markdown",
   "metadata": {},
   "source": [
    "* **Converting every tweets to lower case**\n",
    "* **Removing punctuations, numbers and special characters**\n",
    "* **Converting more than 2 letter repetitions to 2 letter ( example (wooooooow --> woow))**\n",
    "* **Removing extra spaces**\n",
    "* **Removing Twitter username**\n",
    "* **Removing URLs**\n",
    "* **Emoji analysis**\n",
    "* **Handling the contractions words: \" can't \" >> \" can not \", \" won't \" >> \" will not \"**\n",
    "* **Tokenization (or split with space)**\n",
    "* **(Optional) Removing stopwords**\n",
    "* **(Optional) Stemming or Lemmatization**"
   ]
  },
  {
   "cell_type": "markdown",
   "metadata": {},
   "source": [
    "**Importing Contractions**"
   ]
  },
  {
   "cell_type": "code",
   "execution_count": 10,
   "metadata": {
    "ExecuteTime": {
     "end_time": "2019-07-12T17:37:43.485354Z",
     "start_time": "2019-07-12T17:37:43.478411Z"
    }
   },
   "outputs": [],
   "source": [
    "with open('assets/contractions.json', 'r') as f:\n",
    "    contractions_dict = json.load(f)\n",
    "contractions = contractions_dict['contractions']"
   ]
  },
  {
   "cell_type": "code",
   "execution_count": 11,
   "metadata": {},
   "outputs": [
    {
     "data": {
      "text/plain": [
       "{\"ain't\": 'am not / are not',\n",
       " \"aren't\": 'are not / am not',\n",
       " \"can't\": 'cannot',\n",
       " \"can't've\": 'cannot have',\n",
       " \"'cause\": 'because',\n",
       " \"could've\": 'could have',\n",
       " \"couldn't\": 'could not',\n",
       " \"couldn't've\": 'could not have',\n",
       " \"didn't\": 'did not',\n",
       " \"doesn't\": 'does not',\n",
       " \"don't\": 'do not',\n",
       " \"hadn't\": 'had not',\n",
       " \"hadn't've\": 'had not have',\n",
       " \"hasn't\": 'has not',\n",
       " \"haven't\": 'have not',\n",
       " \"he'd\": 'he had / he would',\n",
       " \"he'd've\": 'he would have',\n",
       " \"he'll\": 'he shall / he will',\n",
       " \"he'll've\": 'he shall have / he will have',\n",
       " \"he's\": 'he has / he is',\n",
       " \"how'd\": 'how did',\n",
       " \"how'd'y\": 'how do you',\n",
       " \"how'll\": 'how will',\n",
       " \"how's\": 'how has / how is',\n",
       " \"i'd\": 'I had / I would',\n",
       " \"i'd've\": 'I would have',\n",
       " \"i'll\": 'I shall / I will',\n",
       " \"i'll've\": 'I shall have / I will have',\n",
       " \"i'm\": 'I am',\n",
       " \"i've\": 'I have',\n",
       " \"isn't\": 'is not',\n",
       " \"it'd\": 'it had / it would',\n",
       " \"it'd've\": 'it would have',\n",
       " \"it'll\": 'it shall / it will',\n",
       " \"it'll've\": 'it shall have / it will have',\n",
       " \"it's\": 'it has / it is',\n",
       " \"let's\": 'let us',\n",
       " \"ma'am\": 'madam',\n",
       " \"mayn't\": 'may not',\n",
       " \"might've\": 'might have',\n",
       " \"mightn't\": 'might not',\n",
       " \"mightn't've\": 'might not have',\n",
       " \"must've\": 'must have',\n",
       " \"mustn't\": 'must not',\n",
       " \"mustn't've\": 'must not have',\n",
       " \"needn't\": 'need not',\n",
       " \"needn't've\": 'need not have',\n",
       " \"o'clock\": 'of the clock',\n",
       " \"oughtn't\": 'ought not',\n",
       " \"oughtn't've\": 'ought not have',\n",
       " \"shan't\": 'shall not',\n",
       " \"sha'n't\": 'shall not',\n",
       " \"shan't've\": 'shall not have',\n",
       " \"she'd\": 'she had / she would',\n",
       " \"she'd've\": 'she would have',\n",
       " \"she'll\": 'she shall / she will',\n",
       " \"she'll've\": 'she shall have / she will have',\n",
       " \"she's\": 'she has / she is',\n",
       " \"should've\": 'should have',\n",
       " \"shouldn't\": 'should not',\n",
       " \"shouldn't've\": 'should not have',\n",
       " \"so've\": 'so have',\n",
       " \"so's\": 'so as / so is',\n",
       " \"that'd\": 'that would / that had',\n",
       " \"that'd've\": 'that would have',\n",
       " \"that's\": 'that has / that is',\n",
       " \"there'd\": 'there had / there would',\n",
       " \"there'd've\": 'there would have',\n",
       " \"there's\": 'there has / there is',\n",
       " \"they'd\": 'they had / they would',\n",
       " \"they'd've\": 'they would have',\n",
       " \"they'll\": 'they shall / they will',\n",
       " \"they'll've\": 'they shall have / they will have',\n",
       " \"they're\": 'they are',\n",
       " \"they've\": 'they have',\n",
       " \"to've\": 'to have',\n",
       " \"wasn't\": 'was not',\n",
       " \"we'd\": 'we had / we would',\n",
       " \"we'd've\": 'we would have',\n",
       " \"we'll\": 'we will',\n",
       " \"we'll've\": 'we will have',\n",
       " \"we're\": 'we are',\n",
       " \"we've\": 'we have',\n",
       " \"weren't\": 'were not',\n",
       " \"what'll\": 'what shall / what will',\n",
       " \"what'll've\": 'what shall have / what will have',\n",
       " \"what're\": 'what are',\n",
       " \"what's\": 'what has / what is',\n",
       " \"what've\": 'what have',\n",
       " \"when's\": 'when has / when is',\n",
       " \"when've\": 'when have',\n",
       " \"where'd\": 'where did',\n",
       " \"where's\": 'where has / where is',\n",
       " \"where've\": 'where have',\n",
       " \"who'll\": 'who shall / who will',\n",
       " \"who'll've\": 'who shall have / who will have',\n",
       " \"who's\": 'who has / who is',\n",
       " \"who've\": 'who have',\n",
       " \"why's\": 'why has / why is',\n",
       " \"why've\": 'why have',\n",
       " \"will've\": 'will have',\n",
       " \"won't\": 'will not',\n",
       " \"won't've\": 'will not have',\n",
       " \"would've\": 'would have',\n",
       " \"wouldn't\": 'would not',\n",
       " \"wouldn't've\": 'would not have',\n",
       " \"y'all\": 'you all',\n",
       " \"y'all'd\": 'you all would',\n",
       " \"y'all'd've\": 'you all would have',\n",
       " \"y'all're\": 'you all are',\n",
       " \"y'all've\": 'you all have',\n",
       " \"you'd\": 'you had / you would',\n",
       " \"you'd've\": 'you would have',\n",
       " \"you'll\": 'you shall / you will',\n",
       " \"you'll've\": 'you shall have / you will have',\n",
       " \"you're\": 'you are',\n",
       " \"you've\": 'you have'}"
      ]
     },
     "execution_count": 11,
     "metadata": {},
     "output_type": "execute_result"
    }
   ],
   "source": [
    "contractions"
   ]
  },
  {
   "cell_type": "markdown",
   "metadata": {},
   "source": [
    "**Function for emoji classifications**"
   ]
  },
  {
   "cell_type": "code",
   "execution_count": 12,
   "metadata": {
    "ExecuteTime": {
     "end_time": "2019-07-12T17:37:43.602426Z",
     "start_time": "2019-07-12T17:37:43.595485Z"
    }
   },
   "outputs": [],
   "source": [
    "def emoji(tweet):\n",
    "    # Smile -- :), : ), :-), (:, ( :, (-:, :') , :O\n",
    "    tweet = re.sub(r'(:\\s?\\)|:-\\)|\\(\\s?:|\\(-:|:\\'\\)|:O)', ' positiveemoji ', tweet)\n",
    "    # Laugh -- :D, : D, :-D, xD, x-D, XD, X-D\n",
    "    tweet = re.sub(r'(:\\s?D|:-D|x-?D|X-?D)', ' positiveemoji ', tweet)\n",
    "    # Love -- <3, :*\n",
    "    tweet = re.sub(r'(<3|:\\*)', ' positiveemoji ', tweet)\n",
    "    # Wink -- ;-), ;), ;-D, ;D, (;,  (-; , @-)\n",
    "    tweet = re.sub(r'(;-?\\)|;-?D|\\(-?;|@-\\))', ' positiveemoji ', tweet)\n",
    "    # Sad -- :-(, : (, :(, ):, )-:, :-/ , :-|\n",
    "    tweet = re.sub(r'(:\\s?\\(|:-\\(|\\)\\s?:|\\)-:|:-/|:-\\|)', ' negetiveemoji ', tweet)\n",
    "    # Cry -- :,(, :'(, :\"(\n",
    "    tweet = re.sub(r'(:,\\(|:\\'\\(|:\"\\()', ' negetiveemoji ', tweet)\n",
    "    return tweet\n"
   ]
  },
  {
   "cell_type": "markdown",
   "metadata": {},
   "source": [
    "**Function for tweet processing**"
   ]
  },
  {
   "cell_type": "code",
   "execution_count": 13,
   "metadata": {
    "ExecuteTime": {
     "end_time": "2019-07-12T17:37:43.622266Z",
     "start_time": "2019-07-12T17:37:43.605900Z"
    }
   },
   "outputs": [],
   "source": [
    "import re #for using regular expressions\n",
    "\n",
    "def process_tweet(tweet):\n",
    "    tweet = tweet.lower()                                             # Lowercases the string\n",
    "    tweet = re.sub('@[^\\s]+', '', tweet)                              # Removes usernames\n",
    "    tweet = re.sub('((www\\.[^\\s]+)|(https?://[^\\s]+))', ' ', tweet)   # Remove URLs\n",
    "    tweet = re.sub(r\"\\d+\", \" \", str(tweet))                           # Removes all digits\n",
    "    tweet = re.sub('&quot;',\" \", tweet)                               # Remove (&quot;) \n",
    "    tweet = emoji(tweet)                                              # Replaces Emojis\n",
    "    tweet = re.sub(r\"\\b[a-zA-Z]\\b\", \"\", str(tweet))                   # Removes all single characters\n",
    "    \n",
    "    #simple tokenization using split()\n",
    "    for word in tweet.split():\n",
    "        if word.lower() in contractions:\n",
    "            tweet = tweet.replace(word, contractions[word.lower()])   # Replaces contractions\n",
    "    tweet = re.sub(r\"[^\\w\\s]\", \" \", str(tweet))                       # Removes all punctuations\n",
    "    tweet = re.sub(r'(.)\\1+', r'\\1\\1', tweet)    # Convert more than 2 letter repetitions to 2 letter (e.g., cooool)\n",
    "    tweet = re.sub(r\"\\s+\", \" \", str(tweet))      # Replaces extra spaces with a single space    \n",
    "    return tweet\n"
   ]
  },
  {
   "cell_type": "markdown",
   "metadata": {},
   "source": [
    "**Processing all the tweets**\n",
    "\n",
    "We can make a new column in the dataframe for side by side comparison of processed tweets vs original tweets"
   ]
  },
  {
   "cell_type": "code",
   "execution_count": 14,
   "metadata": {
    "ExecuteTime": {
     "end_time": "2019-07-12T17:37:49.271217Z",
     "start_time": "2019-07-12T17:37:43.626237Z"
    },
    "scrolled": true
   },
   "outputs": [
    {
     "data": {
      "text/html": [
       "<div>\n",
       "<style scoped>\n",
       "    .dataframe tbody tr th:only-of-type {\n",
       "        vertical-align: middle;\n",
       "    }\n",
       "\n",
       "    .dataframe tbody tr th {\n",
       "        vertical-align: top;\n",
       "    }\n",
       "\n",
       "    .dataframe thead th {\n",
       "        text-align: right;\n",
       "    }\n",
       "</style>\n",
       "<table border=\"1\" class=\"dataframe\">\n",
       "  <thead>\n",
       "    <tr style=\"text-align: right;\">\n",
       "      <th></th>\n",
       "      <th>ItemID</th>\n",
       "      <th>Sentiment</th>\n",
       "      <th>SentimentText</th>\n",
       "      <th>processed_tweet</th>\n",
       "    </tr>\n",
       "  </thead>\n",
       "  <tbody>\n",
       "    <tr>\n",
       "      <th>0</th>\n",
       "      <td>1</td>\n",
       "      <td>0</td>\n",
       "      <td>is so sad for my APL friend.............</td>\n",
       "      <td>is so sad for my apl friend</td>\n",
       "    </tr>\n",
       "    <tr>\n",
       "      <th>1</th>\n",
       "      <td>2</td>\n",
       "      <td>0</td>\n",
       "      <td>I missed the New Moon trailer...</td>\n",
       "      <td>missed the new moon trailer</td>\n",
       "    </tr>\n",
       "    <tr>\n",
       "      <th>2</th>\n",
       "      <td>3</td>\n",
       "      <td>1</td>\n",
       "      <td>omg its already 7:30 :O</td>\n",
       "      <td>omg its already</td>\n",
       "    </tr>\n",
       "    <tr>\n",
       "      <th>3</th>\n",
       "      <td>4</td>\n",
       "      <td>0</td>\n",
       "      <td>.. Omgaga. Im sooo  im gunna CRy. I've been at this dentist since 11.. I was suposed 2 just get a crown put on (30mins)...</td>\n",
       "      <td>omgaga im soo im gunna cry ve been at this dentist since was suposed just get crown put on mins</td>\n",
       "    </tr>\n",
       "    <tr>\n",
       "      <th>4</th>\n",
       "      <td>5</td>\n",
       "      <td>0</td>\n",
       "      <td>i think mi bf is cheating on me!!!       T_T</td>\n",
       "      <td>think mi bf is cheating on me t_t</td>\n",
       "    </tr>\n",
       "    <tr>\n",
       "      <th>5</th>\n",
       "      <td>6</td>\n",
       "      <td>0</td>\n",
       "      <td>or i just worry too much?</td>\n",
       "      <td>or just worry too much</td>\n",
       "    </tr>\n",
       "    <tr>\n",
       "      <th>6</th>\n",
       "      <td>7</td>\n",
       "      <td>1</td>\n",
       "      <td>Juuuuuuuuuuuuuuuuussssst Chillin!!</td>\n",
       "      <td>juusst chillin</td>\n",
       "    </tr>\n",
       "    <tr>\n",
       "      <th>7</th>\n",
       "      <td>8</td>\n",
       "      <td>0</td>\n",
       "      <td>Sunny Again        Work Tomorrow  :-|       TV Tonight</td>\n",
       "      <td>sunny again work tomorrow negetiveemoji tv tonight</td>\n",
       "    </tr>\n",
       "    <tr>\n",
       "      <th>8</th>\n",
       "      <td>9</td>\n",
       "      <td>1</td>\n",
       "      <td>handed in my uniform today . i miss you already</td>\n",
       "      <td>handed in my uniform today miss you already</td>\n",
       "    </tr>\n",
       "    <tr>\n",
       "      <th>9</th>\n",
       "      <td>10</td>\n",
       "      <td>1</td>\n",
       "      <td>hmmmm.... i wonder how she my number @-)</td>\n",
       "      <td>hmm wonder how she my number</td>\n",
       "    </tr>\n",
       "  </tbody>\n",
       "</table>\n",
       "</div>"
      ],
      "text/plain": [
       "   ItemID  Sentiment  \\\n",
       "0  1       0           \n",
       "1  2       0           \n",
       "2  3       1           \n",
       "3  4       0           \n",
       "4  5       0           \n",
       "5  6       0           \n",
       "6  7       1           \n",
       "7  8       0           \n",
       "8  9       1           \n",
       "9  10      1           \n",
       "\n",
       "                                                                                                                          SentimentText  \\\n",
       "0                       is so sad for my APL friend.............                                                                          \n",
       "1                     I missed the New Moon trailer...                                                                                    \n",
       "2                omg its already 7:30 :O                                                                                                  \n",
       "3            .. Omgaga. Im sooo  im gunna CRy. I've been at this dentist since 11.. I was suposed 2 just get a crown put on (30mins)...   \n",
       "4           i think mi bf is cheating on me!!!       T_T                                                                                  \n",
       "5           or i just worry too much?                                                                                                     \n",
       "6         Juuuuuuuuuuuuuuuuussssst Chillin!!                                                                                              \n",
       "7         Sunny Again        Work Tomorrow  :-|       TV Tonight                                                                          \n",
       "8        handed in my uniform today . i miss you already                                                                                  \n",
       "9        hmmmm.... i wonder how she my number @-)                                                                                         \n",
       "\n",
       "                                                                                     processed_tweet  \n",
       "0   is so sad for my apl friend                                                                       \n",
       "1   missed the new moon trailer                                                                       \n",
       "2   omg its already                                                                                   \n",
       "3   omgaga im soo im gunna cry ve been at this dentist since was suposed just get crown put on mins   \n",
       "4   think mi bf is cheating on me t_t                                                                 \n",
       "5   or just worry too much                                                                            \n",
       "6   juusst chillin                                                                                    \n",
       "7   sunny again work tomorrow negetiveemoji tv tonight                                                \n",
       "8   handed in my uniform today miss you already                                                       \n",
       "9   hmm wonder how she my number                                                                      "
      ]
     },
     "execution_count": 14,
     "metadata": {},
     "output_type": "execute_result"
    }
   ],
   "source": [
    "total_data['processed_tweet'] = np.vectorize(process_tweet)(total_data[tweet])\n",
    "\n",
    "total_data.head(10)"
   ]
  },
  {
   "cell_type": "markdown",
   "metadata": {},
   "source": [
    "## Other NL text processing (optional):\n",
    "* **stopword removal**\n",
    "* **stemming or lemmatization**"
   ]
  },
  {
   "cell_type": "markdown",
   "metadata": {},
   "source": [
    "**Example of stopword removal**"
   ]
  },
  {
   "cell_type": "code",
   "execution_count": 15,
   "metadata": {},
   "outputs": [],
   "source": [
    "def stopwords_removal(tweet):\n",
    "    from nltk.corpus import stopwords\n",
    "    stopwords = stopwords.words(\"english\")\n",
    "    \n",
    "    cleaned_tweet = \"\"\n",
    "\n",
    "    for w in tweet.split():\n",
    "        if w not in stopwords:\n",
    "            cleaned_tweet = cleaned_tweet +\" \"+w\n",
    "\n",
    "    return cleaned_tweet\n"
   ]
  },
  {
   "cell_type": "code",
   "execution_count": 16,
   "metadata": {},
   "outputs": [
    {
     "name": "stderr",
     "output_type": "stream",
     "text": [
      "[nltk_data] Downloading package stopwords to\n",
      "[nltk_data]     C:\\Users\\Federico\\AppData\\Roaming\\nltk_data...\n",
      "[nltk_data]   Package stopwords is already up-to-date!\n"
     ]
    },
    {
     "data": {
      "text/html": [
       "<div>\n",
       "<style scoped>\n",
       "    .dataframe tbody tr th:only-of-type {\n",
       "        vertical-align: middle;\n",
       "    }\n",
       "\n",
       "    .dataframe tbody tr th {\n",
       "        vertical-align: top;\n",
       "    }\n",
       "\n",
       "    .dataframe thead th {\n",
       "        text-align: right;\n",
       "    }\n",
       "</style>\n",
       "<table border=\"1\" class=\"dataframe\">\n",
       "  <thead>\n",
       "    <tr style=\"text-align: right;\">\n",
       "      <th></th>\n",
       "      <th>ItemID</th>\n",
       "      <th>Sentiment</th>\n",
       "      <th>SentimentText</th>\n",
       "      <th>processed_tweet</th>\n",
       "      <th>clean_tweet</th>\n",
       "    </tr>\n",
       "  </thead>\n",
       "  <tbody>\n",
       "    <tr>\n",
       "      <th>0</th>\n",
       "      <td>1</td>\n",
       "      <td>0</td>\n",
       "      <td>is so sad for my APL friend.............</td>\n",
       "      <td>is so sad for my apl friend</td>\n",
       "      <td>sad apl friend</td>\n",
       "    </tr>\n",
       "    <tr>\n",
       "      <th>1</th>\n",
       "      <td>2</td>\n",
       "      <td>0</td>\n",
       "      <td>I missed the New Moon trailer...</td>\n",
       "      <td>missed the new moon trailer</td>\n",
       "      <td>missed new moon trailer</td>\n",
       "    </tr>\n",
       "    <tr>\n",
       "      <th>2</th>\n",
       "      <td>3</td>\n",
       "      <td>1</td>\n",
       "      <td>omg its already 7:30 :O</td>\n",
       "      <td>omg its already</td>\n",
       "      <td>omg already</td>\n",
       "    </tr>\n",
       "    <tr>\n",
       "      <th>3</th>\n",
       "      <td>4</td>\n",
       "      <td>0</td>\n",
       "      <td>.. Omgaga. Im sooo  im gunna CRy. I've been at this dentist since 11.. I was suposed 2 just get a crown put on (30mins)...</td>\n",
       "      <td>omgaga im soo im gunna cry ve been at this dentist since was suposed just get crown put on mins</td>\n",
       "      <td>omgaga im soo im gunna cry dentist since suposed get crown put mins</td>\n",
       "    </tr>\n",
       "    <tr>\n",
       "      <th>4</th>\n",
       "      <td>5</td>\n",
       "      <td>0</td>\n",
       "      <td>i think mi bf is cheating on me!!!       T_T</td>\n",
       "      <td>think mi bf is cheating on me t_t</td>\n",
       "      <td>think mi bf cheating t_t</td>\n",
       "    </tr>\n",
       "    <tr>\n",
       "      <th>5</th>\n",
       "      <td>6</td>\n",
       "      <td>0</td>\n",
       "      <td>or i just worry too much?</td>\n",
       "      <td>or just worry too much</td>\n",
       "      <td>worry much</td>\n",
       "    </tr>\n",
       "    <tr>\n",
       "      <th>6</th>\n",
       "      <td>7</td>\n",
       "      <td>1</td>\n",
       "      <td>Juuuuuuuuuuuuuuuuussssst Chillin!!</td>\n",
       "      <td>juusst chillin</td>\n",
       "      <td>juusst chillin</td>\n",
       "    </tr>\n",
       "    <tr>\n",
       "      <th>7</th>\n",
       "      <td>8</td>\n",
       "      <td>0</td>\n",
       "      <td>Sunny Again        Work Tomorrow  :-|       TV Tonight</td>\n",
       "      <td>sunny again work tomorrow negetiveemoji tv tonight</td>\n",
       "      <td>sunny work tomorrow negetiveemoji tv tonight</td>\n",
       "    </tr>\n",
       "    <tr>\n",
       "      <th>8</th>\n",
       "      <td>9</td>\n",
       "      <td>1</td>\n",
       "      <td>handed in my uniform today . i miss you already</td>\n",
       "      <td>handed in my uniform today miss you already</td>\n",
       "      <td>handed uniform today miss already</td>\n",
       "    </tr>\n",
       "    <tr>\n",
       "      <th>9</th>\n",
       "      <td>10</td>\n",
       "      <td>1</td>\n",
       "      <td>hmmmm.... i wonder how she my number @-)</td>\n",
       "      <td>hmm wonder how she my number</td>\n",
       "      <td>hmm wonder number</td>\n",
       "    </tr>\n",
       "  </tbody>\n",
       "</table>\n",
       "</div>"
      ],
      "text/plain": [
       "   ItemID  Sentiment  \\\n",
       "0  1       0           \n",
       "1  2       0           \n",
       "2  3       1           \n",
       "3  4       0           \n",
       "4  5       0           \n",
       "5  6       0           \n",
       "6  7       1           \n",
       "7  8       0           \n",
       "8  9       1           \n",
       "9  10      1           \n",
       "\n",
       "                                                                                                                          SentimentText  \\\n",
       "0                       is so sad for my APL friend.............                                                                          \n",
       "1                     I missed the New Moon trailer...                                                                                    \n",
       "2                omg its already 7:30 :O                                                                                                  \n",
       "3            .. Omgaga. Im sooo  im gunna CRy. I've been at this dentist since 11.. I was suposed 2 just get a crown put on (30mins)...   \n",
       "4           i think mi bf is cheating on me!!!       T_T                                                                                  \n",
       "5           or i just worry too much?                                                                                                     \n",
       "6         Juuuuuuuuuuuuuuuuussssst Chillin!!                                                                                              \n",
       "7         Sunny Again        Work Tomorrow  :-|       TV Tonight                                                                          \n",
       "8        handed in my uniform today . i miss you already                                                                                  \n",
       "9        hmmmm.... i wonder how she my number @-)                                                                                         \n",
       "\n",
       "                                                                                     processed_tweet  \\\n",
       "0   is so sad for my apl friend                                                                        \n",
       "1   missed the new moon trailer                                                                        \n",
       "2   omg its already                                                                                    \n",
       "3   omgaga im soo im gunna cry ve been at this dentist since was suposed just get crown put on mins    \n",
       "4   think mi bf is cheating on me t_t                                                                  \n",
       "5   or just worry too much                                                                             \n",
       "6   juusst chillin                                                                                     \n",
       "7   sunny again work tomorrow negetiveemoji tv tonight                                                 \n",
       "8   handed in my uniform today miss you already                                                        \n",
       "9   hmm wonder how she my number                                                                       \n",
       "\n",
       "                                                            clean_tweet  \n",
       "0   sad apl friend                                                       \n",
       "1   missed new moon trailer                                              \n",
       "2   omg already                                                          \n",
       "3   omgaga im soo im gunna cry dentist since suposed get crown put mins  \n",
       "4   think mi bf cheating t_t                                             \n",
       "5   worry much                                                           \n",
       "6   juusst chillin                                                       \n",
       "7   sunny work tomorrow negetiveemoji tv tonight                         \n",
       "8   handed uniform today miss already                                    \n",
       "9   hmm wonder number                                                    "
      ]
     },
     "execution_count": 16,
     "metadata": {},
     "output_type": "execute_result"
    }
   ],
   "source": [
    "import nltk\n",
    "nltk.download(\"stopwords\")\n",
    "\n",
    "processed_tweet = total_data.columns.values[3]\n",
    "\n",
    "total_data['clean_tweet'] = np.vectorize(stopwords_removal)(total_data[processed_tweet])\n",
    "\n",
    "total_data.head(10)"
   ]
  },
  {
   "cell_type": "markdown",
   "metadata": {},
   "source": [
    "**Example of stemming**"
   ]
  },
  {
   "cell_type": "code",
   "execution_count": 17,
   "metadata": {},
   "outputs": [],
   "source": [
    "def tweet_stemmer(tweet):\n",
    "    from nltk.stem import SnowballStemmer\n",
    "\n",
    "    snowball = SnowballStemmer(\"english\")\n",
    "\n",
    "    stemmed_tweet = \"\"\n",
    "    for w in tweet.split():\n",
    "        stemmed_tweet = stemmed_tweet +\" \"+snowball.stem(w)\n",
    "\n",
    "    return stemmed_tweet"
   ]
  },
  {
   "cell_type": "code",
   "execution_count": 18,
   "metadata": {},
   "outputs": [
    {
     "data": {
      "text/html": [
       "<div>\n",
       "<style scoped>\n",
       "    .dataframe tbody tr th:only-of-type {\n",
       "        vertical-align: middle;\n",
       "    }\n",
       "\n",
       "    .dataframe tbody tr th {\n",
       "        vertical-align: top;\n",
       "    }\n",
       "\n",
       "    .dataframe thead th {\n",
       "        text-align: right;\n",
       "    }\n",
       "</style>\n",
       "<table border=\"1\" class=\"dataframe\">\n",
       "  <thead>\n",
       "    <tr style=\"text-align: right;\">\n",
       "      <th></th>\n",
       "      <th>ItemID</th>\n",
       "      <th>Sentiment</th>\n",
       "      <th>SentimentText</th>\n",
       "      <th>processed_tweet</th>\n",
       "      <th>clean_tweet</th>\n",
       "      <th>clean_stemmed_tweet</th>\n",
       "    </tr>\n",
       "  </thead>\n",
       "  <tbody>\n",
       "    <tr>\n",
       "      <th>0</th>\n",
       "      <td>1</td>\n",
       "      <td>0</td>\n",
       "      <td>is so sad for my APL friend.............</td>\n",
       "      <td>is so sad for my apl friend</td>\n",
       "      <td>sad apl friend</td>\n",
       "      <td>sad apl friend</td>\n",
       "    </tr>\n",
       "    <tr>\n",
       "      <th>1</th>\n",
       "      <td>2</td>\n",
       "      <td>0</td>\n",
       "      <td>I missed the New Moon trailer...</td>\n",
       "      <td>missed the new moon trailer</td>\n",
       "      <td>missed new moon trailer</td>\n",
       "      <td>miss new moon trailer</td>\n",
       "    </tr>\n",
       "    <tr>\n",
       "      <th>2</th>\n",
       "      <td>3</td>\n",
       "      <td>1</td>\n",
       "      <td>omg its already 7:30 :O</td>\n",
       "      <td>omg its already</td>\n",
       "      <td>omg already</td>\n",
       "      <td>omg alreadi</td>\n",
       "    </tr>\n",
       "    <tr>\n",
       "      <th>3</th>\n",
       "      <td>4</td>\n",
       "      <td>0</td>\n",
       "      <td>.. Omgaga. Im sooo  im gunna CRy. I've been at this dentist since 11.. I was suposed 2 just get a crown put on (30mins)...</td>\n",
       "      <td>omgaga im soo im gunna cry ve been at this dentist since was suposed just get crown put on mins</td>\n",
       "      <td>omgaga im soo im gunna cry dentist since suposed get crown put mins</td>\n",
       "      <td>omgaga im soo im gunna cri dentist sinc supos get crown put min</td>\n",
       "    </tr>\n",
       "    <tr>\n",
       "      <th>4</th>\n",
       "      <td>5</td>\n",
       "      <td>0</td>\n",
       "      <td>i think mi bf is cheating on me!!!       T_T</td>\n",
       "      <td>think mi bf is cheating on me t_t</td>\n",
       "      <td>think mi bf cheating t_t</td>\n",
       "      <td>think mi bf cheat t_t</td>\n",
       "    </tr>\n",
       "    <tr>\n",
       "      <th>5</th>\n",
       "      <td>6</td>\n",
       "      <td>0</td>\n",
       "      <td>or i just worry too much?</td>\n",
       "      <td>or just worry too much</td>\n",
       "      <td>worry much</td>\n",
       "      <td>worri much</td>\n",
       "    </tr>\n",
       "    <tr>\n",
       "      <th>6</th>\n",
       "      <td>7</td>\n",
       "      <td>1</td>\n",
       "      <td>Juuuuuuuuuuuuuuuuussssst Chillin!!</td>\n",
       "      <td>juusst chillin</td>\n",
       "      <td>juusst chillin</td>\n",
       "      <td>juusst chillin</td>\n",
       "    </tr>\n",
       "    <tr>\n",
       "      <th>7</th>\n",
       "      <td>8</td>\n",
       "      <td>0</td>\n",
       "      <td>Sunny Again        Work Tomorrow  :-|       TV Tonight</td>\n",
       "      <td>sunny again work tomorrow negetiveemoji tv tonight</td>\n",
       "      <td>sunny work tomorrow negetiveemoji tv tonight</td>\n",
       "      <td>sunni work tomorrow negetiveemoji tv tonight</td>\n",
       "    </tr>\n",
       "    <tr>\n",
       "      <th>8</th>\n",
       "      <td>9</td>\n",
       "      <td>1</td>\n",
       "      <td>handed in my uniform today . i miss you already</td>\n",
       "      <td>handed in my uniform today miss you already</td>\n",
       "      <td>handed uniform today miss already</td>\n",
       "      <td>hand uniform today miss alreadi</td>\n",
       "    </tr>\n",
       "    <tr>\n",
       "      <th>9</th>\n",
       "      <td>10</td>\n",
       "      <td>1</td>\n",
       "      <td>hmmmm.... i wonder how she my number @-)</td>\n",
       "      <td>hmm wonder how she my number</td>\n",
       "      <td>hmm wonder number</td>\n",
       "      <td>hmm wonder number</td>\n",
       "    </tr>\n",
       "  </tbody>\n",
       "</table>\n",
       "</div>"
      ],
      "text/plain": [
       "   ItemID  Sentiment  \\\n",
       "0  1       0           \n",
       "1  2       0           \n",
       "2  3       1           \n",
       "3  4       0           \n",
       "4  5       0           \n",
       "5  6       0           \n",
       "6  7       1           \n",
       "7  8       0           \n",
       "8  9       1           \n",
       "9  10      1           \n",
       "\n",
       "                                                                                                                          SentimentText  \\\n",
       "0                       is so sad for my APL friend.............                                                                          \n",
       "1                     I missed the New Moon trailer...                                                                                    \n",
       "2                omg its already 7:30 :O                                                                                                  \n",
       "3            .. Omgaga. Im sooo  im gunna CRy. I've been at this dentist since 11.. I was suposed 2 just get a crown put on (30mins)...   \n",
       "4           i think mi bf is cheating on me!!!       T_T                                                                                  \n",
       "5           or i just worry too much?                                                                                                     \n",
       "6         Juuuuuuuuuuuuuuuuussssst Chillin!!                                                                                              \n",
       "7         Sunny Again        Work Tomorrow  :-|       TV Tonight                                                                          \n",
       "8        handed in my uniform today . i miss you already                                                                                  \n",
       "9        hmmmm.... i wonder how she my number @-)                                                                                         \n",
       "\n",
       "                                                                                     processed_tweet  \\\n",
       "0   is so sad for my apl friend                                                                        \n",
       "1   missed the new moon trailer                                                                        \n",
       "2   omg its already                                                                                    \n",
       "3   omgaga im soo im gunna cry ve been at this dentist since was suposed just get crown put on mins    \n",
       "4   think mi bf is cheating on me t_t                                                                  \n",
       "5   or just worry too much                                                                             \n",
       "6   juusst chillin                                                                                     \n",
       "7   sunny again work tomorrow negetiveemoji tv tonight                                                 \n",
       "8   handed in my uniform today miss you already                                                        \n",
       "9   hmm wonder how she my number                                                                       \n",
       "\n",
       "                                                            clean_tweet  \\\n",
       "0   sad apl friend                                                        \n",
       "1   missed new moon trailer                                               \n",
       "2   omg already                                                           \n",
       "3   omgaga im soo im gunna cry dentist since suposed get crown put mins   \n",
       "4   think mi bf cheating t_t                                              \n",
       "5   worry much                                                            \n",
       "6   juusst chillin                                                        \n",
       "7   sunny work tomorrow negetiveemoji tv tonight                          \n",
       "8   handed uniform today miss already                                     \n",
       "9   hmm wonder number                                                     \n",
       "\n",
       "                                                clean_stemmed_tweet  \n",
       "0   sad apl friend                                                   \n",
       "1   miss new moon trailer                                            \n",
       "2   omg alreadi                                                      \n",
       "3   omgaga im soo im gunna cri dentist sinc supos get crown put min  \n",
       "4   think mi bf cheat t_t                                            \n",
       "5   worri much                                                       \n",
       "6   juusst chillin                                                   \n",
       "7   sunni work tomorrow negetiveemoji tv tonight                     \n",
       "8   hand uniform today miss alreadi                                  \n",
       "9   hmm wonder number                                                "
      ]
     },
     "execution_count": 18,
     "metadata": {},
     "output_type": "execute_result"
    }
   ],
   "source": [
    "clean_tweet = total_data.columns.values[4]\n",
    "\n",
    "total_data['clean_stemmed_tweet'] = np.vectorize(tweet_stemmer)(total_data[clean_tweet])\n",
    "\n",
    "total_data.head(10)"
   ]
  },
  {
   "cell_type": "markdown",
   "metadata": {},
   "source": [
    "**Example of Lemmatization**"
   ]
  },
  {
   "cell_type": "code",
   "execution_count": 19,
   "metadata": {},
   "outputs": [],
   "source": [
    "def tweet_lemmatizer(tweet):\n",
    "    from nltk import WordNetLemmatizer\n",
    "\n",
    "    lemma = WordNetLemmatizer()\n",
    "    \n",
    "    lemmatized_tweet = \"\"\n",
    "    \n",
    "    for w in tweet.split():\n",
    "        lemmatized_tweet = lemmatized_tweet+\" \"+lemma.lemmatize(w, pos='v')\n",
    "    return lemmatized_tweet"
   ]
  },
  {
   "cell_type": "code",
   "execution_count": 20,
   "metadata": {},
   "outputs": [
    {
     "data": {
      "text/html": [
       "<div>\n",
       "<style scoped>\n",
       "    .dataframe tbody tr th:only-of-type {\n",
       "        vertical-align: middle;\n",
       "    }\n",
       "\n",
       "    .dataframe tbody tr th {\n",
       "        vertical-align: top;\n",
       "    }\n",
       "\n",
       "    .dataframe thead th {\n",
       "        text-align: right;\n",
       "    }\n",
       "</style>\n",
       "<table border=\"1\" class=\"dataframe\">\n",
       "  <thead>\n",
       "    <tr style=\"text-align: right;\">\n",
       "      <th></th>\n",
       "      <th>ItemID</th>\n",
       "      <th>Sentiment</th>\n",
       "      <th>SentimentText</th>\n",
       "      <th>processed_tweet</th>\n",
       "      <th>clean_tweet</th>\n",
       "      <th>clean_stemmed_tweet</th>\n",
       "      <th>clean_lemmatized_tweet</th>\n",
       "    </tr>\n",
       "  </thead>\n",
       "  <tbody>\n",
       "    <tr>\n",
       "      <th>0</th>\n",
       "      <td>1</td>\n",
       "      <td>0</td>\n",
       "      <td>is so sad for my APL friend.............</td>\n",
       "      <td>is so sad for my apl friend</td>\n",
       "      <td>sad apl friend</td>\n",
       "      <td>sad apl friend</td>\n",
       "      <td>sad apl friend</td>\n",
       "    </tr>\n",
       "    <tr>\n",
       "      <th>1</th>\n",
       "      <td>2</td>\n",
       "      <td>0</td>\n",
       "      <td>I missed the New Moon trailer...</td>\n",
       "      <td>missed the new moon trailer</td>\n",
       "      <td>missed new moon trailer</td>\n",
       "      <td>miss new moon trailer</td>\n",
       "      <td>miss new moon trailer</td>\n",
       "    </tr>\n",
       "    <tr>\n",
       "      <th>2</th>\n",
       "      <td>3</td>\n",
       "      <td>1</td>\n",
       "      <td>omg its already 7:30 :O</td>\n",
       "      <td>omg its already</td>\n",
       "      <td>omg already</td>\n",
       "      <td>omg alreadi</td>\n",
       "      <td>omg already</td>\n",
       "    </tr>\n",
       "    <tr>\n",
       "      <th>3</th>\n",
       "      <td>4</td>\n",
       "      <td>0</td>\n",
       "      <td>.. Omgaga. Im sooo  im gunna CRy. I've been at this dentist since 11.. I was suposed 2 just get a crown put on (30mins)...</td>\n",
       "      <td>omgaga im soo im gunna cry ve been at this dentist since was suposed just get crown put on mins</td>\n",
       "      <td>omgaga im soo im gunna cry dentist since suposed get crown put mins</td>\n",
       "      <td>omgaga im soo im gunna cri dentist sinc supos get crown put min</td>\n",
       "      <td>omgaga im soo im gunna cry dentist since suposed get crown put mins</td>\n",
       "    </tr>\n",
       "    <tr>\n",
       "      <th>4</th>\n",
       "      <td>5</td>\n",
       "      <td>0</td>\n",
       "      <td>i think mi bf is cheating on me!!!       T_T</td>\n",
       "      <td>think mi bf is cheating on me t_t</td>\n",
       "      <td>think mi bf cheating t_t</td>\n",
       "      <td>think mi bf cheat t_t</td>\n",
       "      <td>think mi bf cheat t_t</td>\n",
       "    </tr>\n",
       "    <tr>\n",
       "      <th>5</th>\n",
       "      <td>6</td>\n",
       "      <td>0</td>\n",
       "      <td>or i just worry too much?</td>\n",
       "      <td>or just worry too much</td>\n",
       "      <td>worry much</td>\n",
       "      <td>worri much</td>\n",
       "      <td>worry much</td>\n",
       "    </tr>\n",
       "    <tr>\n",
       "      <th>6</th>\n",
       "      <td>7</td>\n",
       "      <td>1</td>\n",
       "      <td>Juuuuuuuuuuuuuuuuussssst Chillin!!</td>\n",
       "      <td>juusst chillin</td>\n",
       "      <td>juusst chillin</td>\n",
       "      <td>juusst chillin</td>\n",
       "      <td>juusst chillin</td>\n",
       "    </tr>\n",
       "    <tr>\n",
       "      <th>7</th>\n",
       "      <td>8</td>\n",
       "      <td>0</td>\n",
       "      <td>Sunny Again        Work Tomorrow  :-|       TV Tonight</td>\n",
       "      <td>sunny again work tomorrow negetiveemoji tv tonight</td>\n",
       "      <td>sunny work tomorrow negetiveemoji tv tonight</td>\n",
       "      <td>sunni work tomorrow negetiveemoji tv tonight</td>\n",
       "      <td>sunny work tomorrow negetiveemoji tv tonight</td>\n",
       "    </tr>\n",
       "    <tr>\n",
       "      <th>8</th>\n",
       "      <td>9</td>\n",
       "      <td>1</td>\n",
       "      <td>handed in my uniform today . i miss you already</td>\n",
       "      <td>handed in my uniform today miss you already</td>\n",
       "      <td>handed uniform today miss already</td>\n",
       "      <td>hand uniform today miss alreadi</td>\n",
       "      <td>hand uniform today miss already</td>\n",
       "    </tr>\n",
       "    <tr>\n",
       "      <th>9</th>\n",
       "      <td>10</td>\n",
       "      <td>1</td>\n",
       "      <td>hmmmm.... i wonder how she my number @-)</td>\n",
       "      <td>hmm wonder how she my number</td>\n",
       "      <td>hmm wonder number</td>\n",
       "      <td>hmm wonder number</td>\n",
       "      <td>hmm wonder number</td>\n",
       "    </tr>\n",
       "  </tbody>\n",
       "</table>\n",
       "</div>"
      ],
      "text/plain": [
       "   ItemID  Sentiment  \\\n",
       "0  1       0           \n",
       "1  2       0           \n",
       "2  3       1           \n",
       "3  4       0           \n",
       "4  5       0           \n",
       "5  6       0           \n",
       "6  7       1           \n",
       "7  8       0           \n",
       "8  9       1           \n",
       "9  10      1           \n",
       "\n",
       "                                                                                                                          SentimentText  \\\n",
       "0                       is so sad for my APL friend.............                                                                          \n",
       "1                     I missed the New Moon trailer...                                                                                    \n",
       "2                omg its already 7:30 :O                                                                                                  \n",
       "3            .. Omgaga. Im sooo  im gunna CRy. I've been at this dentist since 11.. I was suposed 2 just get a crown put on (30mins)...   \n",
       "4           i think mi bf is cheating on me!!!       T_T                                                                                  \n",
       "5           or i just worry too much?                                                                                                     \n",
       "6         Juuuuuuuuuuuuuuuuussssst Chillin!!                                                                                              \n",
       "7         Sunny Again        Work Tomorrow  :-|       TV Tonight                                                                          \n",
       "8        handed in my uniform today . i miss you already                                                                                  \n",
       "9        hmmmm.... i wonder how she my number @-)                                                                                         \n",
       "\n",
       "                                                                                     processed_tweet  \\\n",
       "0   is so sad for my apl friend                                                                        \n",
       "1   missed the new moon trailer                                                                        \n",
       "2   omg its already                                                                                    \n",
       "3   omgaga im soo im gunna cry ve been at this dentist since was suposed just get crown put on mins    \n",
       "4   think mi bf is cheating on me t_t                                                                  \n",
       "5   or just worry too much                                                                             \n",
       "6   juusst chillin                                                                                     \n",
       "7   sunny again work tomorrow negetiveemoji tv tonight                                                 \n",
       "8   handed in my uniform today miss you already                                                        \n",
       "9   hmm wonder how she my number                                                                       \n",
       "\n",
       "                                                            clean_tweet  \\\n",
       "0   sad apl friend                                                        \n",
       "1   missed new moon trailer                                               \n",
       "2   omg already                                                           \n",
       "3   omgaga im soo im gunna cry dentist since suposed get crown put mins   \n",
       "4   think mi bf cheating t_t                                              \n",
       "5   worry much                                                            \n",
       "6   juusst chillin                                                        \n",
       "7   sunny work tomorrow negetiveemoji tv tonight                          \n",
       "8   handed uniform today miss already                                     \n",
       "9   hmm wonder number                                                     \n",
       "\n",
       "                                                clean_stemmed_tweet  \\\n",
       "0   sad apl friend                                                    \n",
       "1   miss new moon trailer                                             \n",
       "2   omg alreadi                                                       \n",
       "3   omgaga im soo im gunna cri dentist sinc supos get crown put min   \n",
       "4   think mi bf cheat t_t                                             \n",
       "5   worri much                                                        \n",
       "6   juusst chillin                                                    \n",
       "7   sunni work tomorrow negetiveemoji tv tonight                      \n",
       "8   hand uniform today miss alreadi                                   \n",
       "9   hmm wonder number                                                 \n",
       "\n",
       "                                                 clean_lemmatized_tweet  \n",
       "0   sad apl friend                                                       \n",
       "1   miss new moon trailer                                                \n",
       "2   omg already                                                          \n",
       "3   omgaga im soo im gunna cry dentist since suposed get crown put mins  \n",
       "4   think mi bf cheat t_t                                                \n",
       "5   worry much                                                           \n",
       "6   juusst chillin                                                       \n",
       "7   sunny work tomorrow negetiveemoji tv tonight                         \n",
       "8   hand uniform today miss already                                      \n",
       "9   hmm wonder number                                                    "
      ]
     },
     "execution_count": 20,
     "metadata": {},
     "output_type": "execute_result"
    }
   ],
   "source": [
    "clean_tweet = total_data.columns.values[4]\n",
    "\n",
    "total_data['clean_lemmatized_tweet'] = np.vectorize(tweet_lemmatizer)(total_data[clean_tweet])\n",
    "\n",
    "total_data.head(10)"
   ]
  },
  {
   "cell_type": "code",
   "execution_count": 21,
   "metadata": {},
   "outputs": [],
   "source": [
    "#Import stemming library: PorterStemmer\n",
    "from nltk.stem import PorterStemmer\n",
    "\n",
    "porter = PorterStemmer()\n",
    "\n",
    "def tweet_porter_stemmer(tweet):\n",
    "    from nltk.stem import PorterStemmer\n",
    "\n",
    "    porter = PorterStemmer()\n",
    "\n",
    "    stemmed_porter_tweet = \"\"\n",
    "    for w in tweet.split():\n",
    "        stemmed_porter_tweet = stemmed_porter_tweet +\" \"+porter.stem(w)\n",
    "\n",
    "    return stemmed_porter_tweet"
   ]
  },
  {
   "cell_type": "code",
   "execution_count": 22,
   "metadata": {},
   "outputs": [
    {
     "data": {
      "text/html": [
       "<div>\n",
       "<style scoped>\n",
       "    .dataframe tbody tr th:only-of-type {\n",
       "        vertical-align: middle;\n",
       "    }\n",
       "\n",
       "    .dataframe tbody tr th {\n",
       "        vertical-align: top;\n",
       "    }\n",
       "\n",
       "    .dataframe thead th {\n",
       "        text-align: right;\n",
       "    }\n",
       "</style>\n",
       "<table border=\"1\" class=\"dataframe\">\n",
       "  <thead>\n",
       "    <tr style=\"text-align: right;\">\n",
       "      <th></th>\n",
       "      <th>ItemID</th>\n",
       "      <th>Sentiment</th>\n",
       "      <th>SentimentText</th>\n",
       "      <th>processed_tweet</th>\n",
       "      <th>clean_tweet</th>\n",
       "      <th>clean_stemmed_tweet</th>\n",
       "      <th>clean_lemmatized_tweet</th>\n",
       "      <th>clean_stemmed_porter_tweet</th>\n",
       "    </tr>\n",
       "  </thead>\n",
       "  <tbody>\n",
       "    <tr>\n",
       "      <th>0</th>\n",
       "      <td>1</td>\n",
       "      <td>0</td>\n",
       "      <td>is so sad for my APL friend.............</td>\n",
       "      <td>is so sad for my apl friend</td>\n",
       "      <td>sad apl friend</td>\n",
       "      <td>sad apl friend</td>\n",
       "      <td>sad apl friend</td>\n",
       "      <td>sad apl friend</td>\n",
       "    </tr>\n",
       "    <tr>\n",
       "      <th>1</th>\n",
       "      <td>2</td>\n",
       "      <td>0</td>\n",
       "      <td>I missed the New Moon trailer...</td>\n",
       "      <td>missed the new moon trailer</td>\n",
       "      <td>missed new moon trailer</td>\n",
       "      <td>miss new moon trailer</td>\n",
       "      <td>miss new moon trailer</td>\n",
       "      <td>miss new moon trailer</td>\n",
       "    </tr>\n",
       "    <tr>\n",
       "      <th>2</th>\n",
       "      <td>3</td>\n",
       "      <td>1</td>\n",
       "      <td>omg its already 7:30 :O</td>\n",
       "      <td>omg its already</td>\n",
       "      <td>omg already</td>\n",
       "      <td>omg alreadi</td>\n",
       "      <td>omg already</td>\n",
       "      <td>omg alreadi</td>\n",
       "    </tr>\n",
       "    <tr>\n",
       "      <th>3</th>\n",
       "      <td>4</td>\n",
       "      <td>0</td>\n",
       "      <td>.. Omgaga. Im sooo  im gunna CRy. I've been at this dentist since 11.. I was suposed 2 just get a crown put on (30mins)...</td>\n",
       "      <td>omgaga im soo im gunna cry ve been at this dentist since was suposed just get crown put on mins</td>\n",
       "      <td>omgaga im soo im gunna cry dentist since suposed get crown put mins</td>\n",
       "      <td>omgaga im soo im gunna cri dentist sinc supos get crown put min</td>\n",
       "      <td>omgaga im soo im gunna cry dentist since suposed get crown put mins</td>\n",
       "      <td>omgaga im soo im gunna cri dentist sinc supos get crown put min</td>\n",
       "    </tr>\n",
       "    <tr>\n",
       "      <th>4</th>\n",
       "      <td>5</td>\n",
       "      <td>0</td>\n",
       "      <td>i think mi bf is cheating on me!!!       T_T</td>\n",
       "      <td>think mi bf is cheating on me t_t</td>\n",
       "      <td>think mi bf cheating t_t</td>\n",
       "      <td>think mi bf cheat t_t</td>\n",
       "      <td>think mi bf cheat t_t</td>\n",
       "      <td>think mi bf cheat t_t</td>\n",
       "    </tr>\n",
       "    <tr>\n",
       "      <th>5</th>\n",
       "      <td>6</td>\n",
       "      <td>0</td>\n",
       "      <td>or i just worry too much?</td>\n",
       "      <td>or just worry too much</td>\n",
       "      <td>worry much</td>\n",
       "      <td>worri much</td>\n",
       "      <td>worry much</td>\n",
       "      <td>worri much</td>\n",
       "    </tr>\n",
       "    <tr>\n",
       "      <th>6</th>\n",
       "      <td>7</td>\n",
       "      <td>1</td>\n",
       "      <td>Juuuuuuuuuuuuuuuuussssst Chillin!!</td>\n",
       "      <td>juusst chillin</td>\n",
       "      <td>juusst chillin</td>\n",
       "      <td>juusst chillin</td>\n",
       "      <td>juusst chillin</td>\n",
       "      <td>juusst chillin</td>\n",
       "    </tr>\n",
       "    <tr>\n",
       "      <th>7</th>\n",
       "      <td>8</td>\n",
       "      <td>0</td>\n",
       "      <td>Sunny Again        Work Tomorrow  :-|       TV Tonight</td>\n",
       "      <td>sunny again work tomorrow negetiveemoji tv tonight</td>\n",
       "      <td>sunny work tomorrow negetiveemoji tv tonight</td>\n",
       "      <td>sunni work tomorrow negetiveemoji tv tonight</td>\n",
       "      <td>sunny work tomorrow negetiveemoji tv tonight</td>\n",
       "      <td>sunni work tomorrow negetiveemoji tv tonight</td>\n",
       "    </tr>\n",
       "    <tr>\n",
       "      <th>8</th>\n",
       "      <td>9</td>\n",
       "      <td>1</td>\n",
       "      <td>handed in my uniform today . i miss you already</td>\n",
       "      <td>handed in my uniform today miss you already</td>\n",
       "      <td>handed uniform today miss already</td>\n",
       "      <td>hand uniform today miss alreadi</td>\n",
       "      <td>hand uniform today miss already</td>\n",
       "      <td>hand uniform today miss alreadi</td>\n",
       "    </tr>\n",
       "    <tr>\n",
       "      <th>9</th>\n",
       "      <td>10</td>\n",
       "      <td>1</td>\n",
       "      <td>hmmmm.... i wonder how she my number @-)</td>\n",
       "      <td>hmm wonder how she my number</td>\n",
       "      <td>hmm wonder number</td>\n",
       "      <td>hmm wonder number</td>\n",
       "      <td>hmm wonder number</td>\n",
       "      <td>hmm wonder number</td>\n",
       "    </tr>\n",
       "  </tbody>\n",
       "</table>\n",
       "</div>"
      ],
      "text/plain": [
       "   ItemID  Sentiment  \\\n",
       "0  1       0           \n",
       "1  2       0           \n",
       "2  3       1           \n",
       "3  4       0           \n",
       "4  5       0           \n",
       "5  6       0           \n",
       "6  7       1           \n",
       "7  8       0           \n",
       "8  9       1           \n",
       "9  10      1           \n",
       "\n",
       "                                                                                                                          SentimentText  \\\n",
       "0                       is so sad for my APL friend.............                                                                          \n",
       "1                     I missed the New Moon trailer...                                                                                    \n",
       "2                omg its already 7:30 :O                                                                                                  \n",
       "3            .. Omgaga. Im sooo  im gunna CRy. I've been at this dentist since 11.. I was suposed 2 just get a crown put on (30mins)...   \n",
       "4           i think mi bf is cheating on me!!!       T_T                                                                                  \n",
       "5           or i just worry too much?                                                                                                     \n",
       "6         Juuuuuuuuuuuuuuuuussssst Chillin!!                                                                                              \n",
       "7         Sunny Again        Work Tomorrow  :-|       TV Tonight                                                                          \n",
       "8        handed in my uniform today . i miss you already                                                                                  \n",
       "9        hmmmm.... i wonder how she my number @-)                                                                                         \n",
       "\n",
       "                                                                                     processed_tweet  \\\n",
       "0   is so sad for my apl friend                                                                        \n",
       "1   missed the new moon trailer                                                                        \n",
       "2   omg its already                                                                                    \n",
       "3   omgaga im soo im gunna cry ve been at this dentist since was suposed just get crown put on mins    \n",
       "4   think mi bf is cheating on me t_t                                                                  \n",
       "5   or just worry too much                                                                             \n",
       "6   juusst chillin                                                                                     \n",
       "7   sunny again work tomorrow negetiveemoji tv tonight                                                 \n",
       "8   handed in my uniform today miss you already                                                        \n",
       "9   hmm wonder how she my number                                                                       \n",
       "\n",
       "                                                            clean_tweet  \\\n",
       "0   sad apl friend                                                        \n",
       "1   missed new moon trailer                                               \n",
       "2   omg already                                                           \n",
       "3   omgaga im soo im gunna cry dentist since suposed get crown put mins   \n",
       "4   think mi bf cheating t_t                                              \n",
       "5   worry much                                                            \n",
       "6   juusst chillin                                                        \n",
       "7   sunny work tomorrow negetiveemoji tv tonight                          \n",
       "8   handed uniform today miss already                                     \n",
       "9   hmm wonder number                                                     \n",
       "\n",
       "                                                clean_stemmed_tweet  \\\n",
       "0   sad apl friend                                                    \n",
       "1   miss new moon trailer                                             \n",
       "2   omg alreadi                                                       \n",
       "3   omgaga im soo im gunna cri dentist sinc supos get crown put min   \n",
       "4   think mi bf cheat t_t                                             \n",
       "5   worri much                                                        \n",
       "6   juusst chillin                                                    \n",
       "7   sunni work tomorrow negetiveemoji tv tonight                      \n",
       "8   hand uniform today miss alreadi                                   \n",
       "9   hmm wonder number                                                 \n",
       "\n",
       "                                                 clean_lemmatized_tweet  \\\n",
       "0   sad apl friend                                                        \n",
       "1   miss new moon trailer                                                 \n",
       "2   omg already                                                           \n",
       "3   omgaga im soo im gunna cry dentist since suposed get crown put mins   \n",
       "4   think mi bf cheat t_t                                                 \n",
       "5   worry much                                                            \n",
       "6   juusst chillin                                                        \n",
       "7   sunny work tomorrow negetiveemoji tv tonight                          \n",
       "8   hand uniform today miss already                                       \n",
       "9   hmm wonder number                                                     \n",
       "\n",
       "                                         clean_stemmed_porter_tweet  \n",
       "0   sad apl friend                                                   \n",
       "1   miss new moon trailer                                            \n",
       "2   omg alreadi                                                      \n",
       "3   omgaga im soo im gunna cri dentist sinc supos get crown put min  \n",
       "4   think mi bf cheat t_t                                            \n",
       "5   worri much                                                       \n",
       "6   juusst chillin                                                   \n",
       "7   sunni work tomorrow negetiveemoji tv tonight                     \n",
       "8   hand uniform today miss alreadi                                  \n",
       "9   hmm wonder number                                                "
      ]
     },
     "execution_count": 22,
     "metadata": {},
     "output_type": "execute_result"
    }
   ],
   "source": [
    "clean_tweet = total_data.columns.values[4]\n",
    "\n",
    "total_data['clean_stemmed_porter_tweet'] = np.vectorize(tweet_porter_stemmer)(total_data[clean_tweet])\n",
    "\n",
    "total_data.head(10)"
   ]
  },
  {
   "cell_type": "markdown",
   "metadata": {},
   "source": [
    "## Step 2: Feature extraction (vectorization)"
   ]
  },
  {
   "cell_type": "markdown",
   "metadata": {},
   "source": [
    "Machine learning algorithms need to work with numbers. We have to convert the textual data into numbers without losing much of the information. \n",
    "\n",
    "One way to do such transformation is *Bag-Of-Words (BOW)* which gives a number to each word.\n"
   ]
  },
  {
   "cell_type": "markdown",
   "metadata": {},
   "source": [
    "**CountVectorizer** it counts the number of words in the document. It converts a collection of text documents to a matrix where the elements are the number of occurences of each word in the document.\n",
    "\n",
    "**CountVectorizer** gives equal weightage to all the words, i.e., a word weigth is equal to 1 if it is present in that doc else 0. "
   ]
  },
  {
   "cell_type": "code",
   "execution_count": 23,
   "metadata": {},
   "outputs": [],
   "source": [
    "tweets = total_data['processed_tweet']"
   ]
  },
  {
   "cell_type": "code",
   "execution_count": 24,
   "metadata": {},
   "outputs": [
    {
     "data": {
      "text/plain": [
       "99989"
      ]
     },
     "execution_count": 24,
     "metadata": {},
     "output_type": "execute_result"
    }
   ],
   "source": [
    "len(tweets)"
   ]
  },
  {
   "cell_type": "code",
   "execution_count": 25,
   "metadata": {
    "ExecuteTime": {
     "end_time": "2019-07-12T17:38:07.937872Z",
     "start_time": "2019-07-12T17:37:59.151721Z"
    }
   },
   "outputs": [
    {
     "name": "stdout",
     "output_type": "stream",
     "text": [
      "<class 'scipy.sparse.csr.csr_matrix'>\n"
     ]
    }
   ],
   "source": [
    "#Import required libraries:\n",
    "from sklearn.feature_extraction.text import CountVectorizer\n",
    "\n",
    "count_vectorizer = CountVectorizer(ngram_range=(1,2))    # Unigram (single words) and Bigram (two consecutive words)\n",
    "final_vectorized_data = count_vectorizer.fit_transform(tweets)  \n",
    "\n",
    "#print(final_vectorized_data.toarray())\n",
    "\n",
    "print(type(final_vectorized_data))"
   ]
  },
  {
   "cell_type": "markdown",
   "metadata": {},
   "source": [
    "Alternatively, we can use **TF-IDF**. \n",
    "\n",
    "**TF-IDF** (*Term-Frequency-Inverse-Document Frequency*) is different from CountVectorizer as it weights down the common words occuring in almost all the documents of the collection, while it gives more importance to the words that appear in a subset of documents (more discriminative terms). TF-IDF works by considering how frquent is the word in the doc **(TF)** and penalising these common words that appear in most of the documents of the collection **(IDF)**. The assumption is that *rare terms are awarded as they are more informative than frequent terms*\n",
    "\n",
    "![](assets/tfidf.png)\n"
   ]
  },
  {
   "cell_type": "code",
   "execution_count": 26,
   "metadata": {},
   "outputs": [],
   "source": [
    "from sklearn.feature_extraction.text import TfidfVectorizer \n",
    "\n",
    "tf_idf_vectorizer = TfidfVectorizer(use_idf = True, ngram_range=(1,3))\n",
    "final_vectorized_data_TFIDF = tf_idf_vectorizer.fit_transform(tweets)\n"
   ]
  },
  {
   "cell_type": "markdown",
   "metadata": {},
   "source": [
    "## Step 3: Sentiment Classification"
   ]
  },
  {
   "cell_type": "markdown",
   "metadata": {},
   "source": [
    "#### (3.1) Splitting dataset into train and test sets:\n",
    "* **train set:** for training the model \n",
    "* **test set:** for testing the model's accuracy"
   ]
  },
  {
   "cell_type": "code",
   "execution_count": 27,
   "metadata": {
    "ExecuteTime": {
     "end_time": "2019-07-12T17:38:08.178963Z",
     "start_time": "2019-07-12T17:38:07.953247Z"
    }
   },
   "outputs": [],
   "source": [
    "#with CountVectorizer\n",
    "from sklearn.model_selection import train_test_split\n",
    "#X_train, X_test, y_train, y_test = train_test_split(final_vectorized_data, total_data[sentiment],\n",
    "#                                                     test_size=0.2, random_state=69)  \n",
    "#test set's size is 20% of the whole dataset\n",
    "#random_state: Controls the shuffling applied to the data before applying the split.\n",
    "\n",
    "#with TFIDF\n",
    "X_train, X_test, y_train, y_test = train_test_split(final_vectorized_data_TFIDF, total_data[sentiment], \n",
    "                                                    test_size=0.2, random_state=69)  \n"
   ]
  },
  {
   "cell_type": "markdown",
   "metadata": {},
   "source": [
    "**Printing splitted dataset sizes**"
   ]
  },
  {
   "cell_type": "code",
   "execution_count": 28,
   "metadata": {
    "ExecuteTime": {
     "end_time": "2019-07-12T17:38:08.191298Z",
     "start_time": "2019-07-12T17:38:08.182344Z"
    }
   },
   "outputs": [
    {
     "name": "stdout",
     "output_type": "stream",
     "text": [
      "X_train_shape:  (79991, 1195309)\n",
      "X_test_shape:  (19998, 1195309)\n",
      "y_train_shape:  (79991,)\n",
      "y_test_shape:  (19998,)\n"
     ]
    }
   ],
   "source": [
    "print(\"X_train_shape: \",X_train.shape)\n",
    "print(\"X_test_shape: \",X_test.shape)\n",
    "print(\"y_train_shape: \",y_train.shape)\n",
    "print(\"y_test_shape: \",y_test.shape)"
   ]
  },
  {
   "cell_type": "markdown",
   "metadata": {},
   "source": [
    "#### (3.2) Training the model and predicting with Naive Bayes\n",
    "\n",
    "Popular classifiers based on Naive Bayes are:\n",
    "\n",
    "* **Bernoulli Naive Bayes**\n",
    "* **Gaussian Naive Bayes classifier**\n",
    "* **Multinomial Naive Bayes**\n",
    "\n",
    "We are going to use Multinomial Naive Bayes\n",
    "\n",
    "**Bayes theorem:**\n",
    "![](assets/bayes_formula.jpg)"
   ]
  },
  {
   "cell_type": "markdown",
   "metadata": {},
   "source": [
    "**Multinomial Naive Bayes classifier**"
   ]
  },
  {
   "cell_type": "code",
   "execution_count": 29,
   "metadata": {
    "ExecuteTime": {
     "end_time": "2019-07-12T17:38:08.366853Z",
     "start_time": "2019-07-12T17:38:08.197718Z"
    }
   },
   "outputs": [],
   "source": [
    "from sklearn.naive_bayes import MultinomialNB  # Naive Bayes Classifier\n",
    "\n",
    "model_naive = MultinomialNB().fit(X_train, y_train) \n",
    "predicted_naive = model_naive.predict(X_test)"
   ]
  },
  {
   "cell_type": "code",
   "execution_count": 30,
   "metadata": {},
   "outputs": [],
   "source": [
    "from sklearn.naive_bayes import BernoulliNB  # Naive Bayes Classifier\n",
    "\n",
    "model_naive_Ber = BernoulliNB().fit(X_train, y_train) \n",
    "predicted_naive_Ber = model_naive_Ber.predict(X_test)"
   ]
  },
  {
   "cell_type": "code",
   "execution_count": 31,
   "metadata": {},
   "outputs": [],
   "source": [
    "from sklearn.naive_bayes import ComplementNB  # Naive Bayes Classifier\n",
    "\n",
    "model_naive_Comp = ComplementNB().fit(X_train, y_train) \n",
    "predicted_naive_Comp = model_naive_Comp.predict(X_test)"
   ]
  },
  {
   "cell_type": "markdown",
   "metadata": {},
   "source": [
    "#### (3.3) Analyzing the results"
   ]
  },
  {
   "cell_type": "markdown",
   "metadata": {},
   "source": [
    "**Print Confusion matrix**"
   ]
  },
  {
   "cell_type": "code",
   "execution_count": 32,
   "metadata": {
    "ExecuteTime": {
     "end_time": "2019-07-12T17:38:10.180262Z",
     "start_time": "2019-07-12T17:38:08.369829Z"
    },
    "scrolled": true
   },
   "outputs": [
    {
     "data": {
      "image/png": "[encoded data removed]",
      "text/plain": [
       "<Figure size 600x400 with 1 Axes>"
      ]
     },
     "metadata": {
      "needs_background": "light"
     },
     "output_type": "display_data"
    }
   ],
   "source": [
    "from sklearn.metrics import confusion_matrix\n",
    "\n",
    "plt.figure(dpi=100)\n",
    "mat = confusion_matrix(y_test, predicted_naive)\n",
    "sns.heatmap(mat.T, annot=True, fmt='d', cbar=False)\n",
    "\n",
    "plt.title('Confusion Matrix for Naive Bayes')\n",
    "plt.xlabel('true label')\n",
    "plt.ylabel('predicted label')\n",
    "plt.savefig(\"assets/confusion_matrix.png\")\n",
    "plt.show()"
   ]
  },
  {
   "cell_type": "code",
   "execution_count": 33,
   "metadata": {},
   "outputs": [
    {
     "data": {
      "image/png": "[encoded data removed]",
      "text/plain": [
       "<Figure size 600x400 with 1 Axes>"
      ]
     },
     "metadata": {
      "needs_background": "light"
     },
     "output_type": "display_data"
    }
   ],
   "source": [
    "#from sklearn.metrics import confusion_matrix\n",
    "\n",
    "plt.figure(dpi=100)\n",
    "mat = confusion_matrix(y_test, predicted_naive_Ber)\n",
    "sns.heatmap(mat.T, annot=True, fmt='d', cbar=False)\n",
    "\n",
    "plt.title('Confusion Matrix for Naive Bayes Ber')\n",
    "plt.xlabel('true label')\n",
    "plt.ylabel('predicted label')\n",
    "plt.savefig(\"assets/confusion_matrix_Ber.png\")\n",
    "plt.show()"
   ]
  },
  {
   "cell_type": "code",
   "execution_count": 34,
   "metadata": {},
   "outputs": [
    {
     "data": {
      "image/png": "[encoded data removed]",
      "text/plain": [
       "<Figure size 600x400 with 1 Axes>"
      ]
     },
     "metadata": {
      "needs_background": "light"
     },
     "output_type": "display_data"
    }
   ],
   "source": [
    "#from sklearn.metrics import confusion_matrix\n",
    "\n",
    "plt.figure(dpi=100)\n",
    "mat = confusion_matrix(y_test, predicted_naive_Comp)\n",
    "sns.heatmap(mat.T, annot=True, fmt='d', cbar=False)\n",
    "\n",
    "plt.title('Confusion Matrix for Naive Bayes Comp')\n",
    "plt.xlabel('true label')\n",
    "plt.ylabel('predicted label')\n",
    "plt.savefig(\"assets/confusion_matrix_Comp.png\")\n",
    "plt.show()"
   ]
  },
  {
   "cell_type": "markdown",
   "metadata": {},
   "source": [
    "**Computing the accuracy of our prediction**\n",
    "\n",
    "Accuracy = (TP + TN)/(TP + FP + TN + FN)"
   ]
  },
  {
   "cell_type": "code",
   "execution_count": 35,
   "metadata": {
    "ExecuteTime": {
     "end_time": "2019-07-12T17:38:10.269290Z",
     "start_time": "2019-07-12T17:38:10.251930Z"
    },
    "scrolled": true
   },
   "outputs": [
    {
     "name": "stdout",
     "output_type": "stream",
     "text": [
      "Accuracy with Naive-bayes: 0.7355235523552355\n"
     ]
    }
   ],
   "source": [
    "from sklearn.metrics import accuracy_score\n",
    "\n",
    "score_naive = accuracy_score(predicted_naive, y_test)\n",
    "print(\"Accuracy with Naive-bayes:\", score_naive)"
   ]
  },
  {
   "cell_type": "code",
   "execution_count": 36,
   "metadata": {},
   "outputs": [
    {
     "name": "stdout",
     "output_type": "stream",
     "text": [
      "Accuracy with Naive-bayes-Ber: 0.6765176517651765\n"
     ]
    }
   ],
   "source": [
    "#from sklearn.metrics import accuracy_score\n",
    "\n",
    "score_naive_Ber = accuracy_score(predicted_naive_Ber, y_test)\n",
    "print(\"Accuracy with Naive-bayes-Ber:\", score_naive_Ber)"
   ]
  },
  {
   "cell_type": "code",
   "execution_count": 37,
   "metadata": {},
   "outputs": [
    {
     "name": "stdout",
     "output_type": "stream",
     "text": [
      "Accuracy with Naive-bayes-Comp: 0.7707270727072707\n"
     ]
    }
   ],
   "source": [
    "#from sklearn.metrics import accuracy_score\n",
    "\n",
    "score_naive_Comp = accuracy_score(predicted_naive_Comp, y_test)\n",
    "print(\"Accuracy with Naive-bayes-Comp:\", score_naive_Comp)"
   ]
  },
  {
   "cell_type": "markdown",
   "metadata": {},
   "source": [
    "**Precision, recall, and accuracy**\n",
    "\n",
    "These are the standard metrics used to evaluate the performance of a classifier.\n",
    "\n",
    "* **Precision:** measures how many docs are predicted correctly as belonging to a given category out of all of the docs that are predicted (correctly and incorrectly) as belonging to the category. P = TP / (TP + FP)\n",
    "\n",
    "* **Recall:** measures how many texts were predicted correctly as belonging to a given category out of all the texts that should have been predicted as belonging to the category. We also know that the more data we feed our classifiers with, the better recall will be. R = TP / (TP + FN)\n",
    "\n",
    "* **Accuracy:** measures how many texts were predicted correctly (both as belonging to a category and not belonging to the category) out of all of the texts in the corpus. A = TP + TN / (TP + FP + TN + FN)\n",
    "\n",
    "**N.B. precision and recall are used to measure performance since accuracy alone does not say much about how good or bad a classifier is**"
   ]
  },
  {
   "cell_type": "code",
   "execution_count": 38,
   "metadata": {
    "ExecuteTime": {
     "end_time": "2019-07-12T17:38:10.324849Z",
     "start_time": "2019-07-12T17:38:10.277228Z"
    },
    "scrolled": true
   },
   "outputs": [
    {
     "name": "stdout",
     "output_type": "stream",
     "text": [
      "              precision    recall  f1-score   support\n",
      "\n",
      "           0       0.86      0.47      0.61      8731\n",
      "           1       0.70      0.94      0.80     11267\n",
      "\n",
      "    accuracy                           0.74     19998\n",
      "   macro avg       0.78      0.71      0.70     19998\n",
      "weighted avg       0.77      0.74      0.72     19998\n",
      "\n"
     ]
    }
   ],
   "source": [
    "from sklearn.metrics import classification_report\n",
    "print(classification_report(y_test, predicted_naive))"
   ]
  },
  {
   "cell_type": "code",
   "execution_count": 39,
   "metadata": {},
   "outputs": [
    {
     "name": "stdout",
     "output_type": "stream",
     "text": [
      "              precision    recall  f1-score   support\n",
      "\n",
      "           0       0.79      0.35      0.49      8731\n",
      "           1       0.65      0.93      0.76     11267\n",
      "\n",
      "    accuracy                           0.68     19998\n",
      "   macro avg       0.72      0.64      0.63     19998\n",
      "weighted avg       0.71      0.68      0.64     19998\n",
      "\n"
     ]
    }
   ],
   "source": [
    "#from sklearn.metrics import classification_report\n",
    "print(classification_report(y_test, predicted_naive_Ber))"
   ]
  },
  {
   "cell_type": "code",
   "execution_count": 40,
   "metadata": {},
   "outputs": [
    {
     "name": "stdout",
     "output_type": "stream",
     "text": [
      "              precision    recall  f1-score   support\n",
      "\n",
      "           0       0.77      0.68      0.72      8731\n",
      "           1       0.77      0.84      0.80     11267\n",
      "\n",
      "    accuracy                           0.77     19998\n",
      "   macro avg       0.77      0.76      0.76     19998\n",
      "weighted avg       0.77      0.77      0.77     19998\n",
      "\n"
     ]
    }
   ],
   "source": [
    "#from sklearn.metrics import classification_report\n",
    "print(classification_report(y_test, predicted_naive_Comp))"
   ]
  },
  {
   "cell_type": "markdown",
   "metadata": {},
   "source": [
    "#### (3.4) Visualizing results\n",
    "\n",
    "**Drawing ROC curve**"
   ]
  },
  {
   "cell_type": "code",
   "execution_count": 41,
   "metadata": {
    "ExecuteTime": {
     "end_time": "2019-07-12T17:38:12.331660Z",
     "start_time": "2019-07-12T17:38:10.327819Z"
    },
    "scrolled": false
   },
   "outputs": [
    {
     "data": {
      "image/png": "[encoded data removed]",
      "text/plain": [
       "<Figure size 600x400 with 1 Axes>"
      ]
     },
     "metadata": {
      "needs_background": "light"
     },
     "output_type": "display_data"
    }
   ],
   "source": [
    "from sklearn.metrics import roc_curve\n",
    "from sklearn.metrics import auc\n",
    "\n",
    "# calculate the fpr and tpr for all thresholds of the classification\n",
    "probs = model_naive.predict_proba(X_test)\n",
    "preds = probs[:,1]\n",
    "fpr, tpr, threshold = roc_curve(y_test, preds)\n",
    "roc_auc = auc(fpr, tpr)\n",
    "plt.figure(dpi=100)                       # to plot high quality graph\n",
    "plt.title('Receiver Operating Characteristic')\n",
    "plt.plot(fpr, tpr, 'b', label = 'AUC = %0.2f' % roc_auc)\n",
    "plt.legend(loc = 'lower right')\n",
    "plt.plot([0, 1], [0, 1],'r--')\n",
    "plt.ylabel('True Positive Rate', color='g')\n",
    "plt.xlabel('False Positive Rate', color='r')\n",
    "plt.savefig(\"assets/ROC_curve.png\")\n",
    "plt.show()"
   ]
  },
  {
   "cell_type": "code",
   "execution_count": 42,
   "metadata": {},
   "outputs": [
    {
     "data": {
      "image/png": "[encoded data removed]",
      "text/plain": [
       "<Figure size 600x400 with 1 Axes>"
      ]
     },
     "metadata": {
      "needs_background": "light"
     },
     "output_type": "display_data"
    }
   ],
   "source": [
    "from sklearn.metrics import roc_curve\n",
    "from sklearn.metrics import auc\n",
    "\n",
    "# calculate the fpr and tpr for all thresholds of the classification\n",
    "probs = model_naive_Ber.predict_proba(X_test)\n",
    "preds = probs[:,1]\n",
    "fpr, tpr, threshold = roc_curve(y_test, preds)\n",
    "roc_auc = auc(fpr, tpr)\n",
    "plt.figure(dpi=100)                       # to plot high quality graph\n",
    "plt.title('Receiver Operating Characteristic')\n",
    "plt.plot(fpr, tpr, 'b', label = 'AUC = %0.2f' % roc_auc)\n",
    "plt.legend(loc = 'lower right')\n",
    "plt.plot([0, 1], [0, 1],'r--')\n",
    "plt.ylabel('True Positive Rate', color='g')\n",
    "plt.xlabel('False Positive Rate', color='r')\n",
    "plt.savefig(\"assets/ROC_curve_Ber.png\")\n",
    "plt.show()"
   ]
  },
  {
   "cell_type": "code",
   "execution_count": null,
   "metadata": {},
   "outputs": [],
   "source": []
  },
  {
   "cell_type": "markdown",
   "metadata": {
    "ExecuteTime": {
     "end_time": "2019-07-10T16:00:09.131610Z",
     "start_time": "2019-07-10T16:00:09.120853Z"
    }
   },
   "source": [
    "**The Area Under the Curve is greater than `0.80` and this with real life data is not bad!**"
   ]
  },
  {
   "cell_type": "markdown",
   "metadata": {},
   "source": [
    "## Conclusions\n",
    "\n",
    "The original version of the tutorial also compared the results achieved with different approaches for vectorization: CountVectorizer vs. TF-IDF and with different approaches for tweet processing: *text normalization* (None vs. Stemming vs. Lemmatizing) and with or without *stopword removal*.\n",
    "\n",
    "In *Table 1*, we can see the hierarchy of the accuracy rate for 3 combinations (vectorizer, stopwords, normalization). Sorted in decreasing order of accuracy. \n",
    "\n",
    "#### Results\n",
    "\n",
    "It seems that the best combination for sentiment analysis with the Twitter dataset is using\n",
    "* **Without normalization (no Stemming or Lemmatizing)**\n",
    "* **Without stopwords removal**\n",
    "* **Count Vectorizer**\n",
    "* **Unigrams and Bigrams**\n",
    "\n",
    "**Leaderboard Highest : 0.79249**<br>\n",
    "**Naive model : 0.76788**\n",
    "\n",
    "Usually, for document analysis the best combination will include lemmatization, stopwords removal, etc. In sentiment analysis, we can see that they aren't providing edge over the raw data\n"
   ]
  },
  {
   "cell_type": "code",
   "execution_count": null,
   "metadata": {},
   "outputs": [],
   "source": []
  },
  {
   "cell_type": "markdown",
   "metadata": {},
   "source": [
    "##### Table 1\n",
    "\n",
    "| Normalization \t| Stop Words \t| Vectorizer \t|      Accuracy      \t|\n",
    "|:-------------:\t|:----------:\t|:----------:\t|:------------------:\t|\n",
    "|     None        \t|     No     \t|    Count   \t| 0.7601260126012601 \t|\n",
    "|  Lemmatizing  \t|     No     \t|    Count   \t|  0.757025702570257 \t|\n",
    "|    Stemming   \t|     No     \t|    Count   \t|  0.755025502550255 \t|\n",
    "|  Lemmatizing  \t|     Yes    \t|    Count   \t| 0.7483748374837483 \t|\n",
    "|     None        \t|     No     \t|   Tf-Idf   \t| 0.7480748074807481 \t|\n",
    "|    Stemming   \t|     Yes    \t|    Count   \t| 0.7477747774777478 \t|\n",
    "|  Lemmatizing  \t|     Yes    \t|   Tf-Idf   \t| 0.7456245624562456 \t|\n",
    "|    Stemming   \t|     No     \t|   Tf-Idf   \t| 0.7435743574357436 \t|\n",
    "|  Lemmatizing  \t|     No     \t|   Tf-Idf   \t| 0.7403740374037404 \t|\n",
    "|    Stemming   \t|     Yes    \t|   Tf-Idf   \t| 0.7383738373837384 \t|\n",
    "                                                     "
   ]
  },
  {
   "cell_type": "markdown",
   "metadata": {},
   "source": [
    "##### Table 1 (MultinomialNB)\n",
    "                                                  \n",
    "| Normalization \t| Stop Words \t| Vectorizer \t|      Accuracy      \t|\n",
    "|:-------------:\t|:----------:\t|:----------:\t|:------------------:\t|\n",
    "|     None        \t|     No     \t|    Count   \t| 0.7678767876787679 \t|\n",
    "|     None        \t|     No     \t|   Tf-Idf   \t| 0.7355235523552355 \t|\n",
    "| WordNetLemmatizer |     Yes    \t|    Count   \t| 0.7396239623962396 \t|\n",
    "| WordNetLemmatizer |     Yes    \t|   Tf-Idf   \t| 0.7152715271527152\t|\n",
    "|  SnowballStemmer\t|     Yes    \t|    Count   \t| 0.7391239123912391\t|\n",
    "|  SnowballStemmer \t|     Yes    \t|   Tf-Idf   \t| 0.7171217121712171 \t|\n",
    "|  PorterStemming \t|     Yes    \t|    Count   \t| 0.7382738273827383 \t|\n",
    "|  PorterStemming \t|     Yes    \t|   Tf-Idf    \t| 0.7167216721672167 \t|\n",
    "                                                     "
   ]
  },
  {
   "cell_type": "markdown",
   "metadata": {},
   "source": [
    "##### Table 1 (BernoulliNB)\n",
    "                                                  \n",
    "| Normalization \t| Stop Words \t| Vectorizer \t|      Accuracy      \t|\n",
    "|:-------------:\t|:----------:\t|:----------:\t|:------------------:\t|\n",
    "|     None        \t|     No     \t|    Count   \t| 0.7203720372037203 \t|\n",
    "|     None        \t|     No     \t|   Tf-Idf   \t| 0.6765176517651765 \t|\n",
    "| WordNetLemmatizer |     Yes    \t|    Count   \t| 0.6911691169116911 \t|\n",
    "| WordNetLemmatizer |     Yes    \t|   Tf-Idf   \t| 0.64996499649965 \t    |\n",
    "|  SnowballStemmer\t|     Yes    \t|    Count   \t| 0.6937693769376938 \t|\n",
    "|  SnowballStemmer \t|     Yes    \t|   Tf-Idf   \t| 0.6510651065106511 \t|\n",
    "|  PorterStemming \t|     Yes    \t|    Count   \t| 0.6936193619361937 \t|\n",
    "|  PorterStemming \t|     Yes    \t|   Tf-Idf    \t| 0.6504650465046504 \t|"
   ]
  },
  {
   "cell_type": "markdown",
   "metadata": {},
   "source": [
    "##### Table 1 (ComplementNB)\n",
    "                                                  \n",
    "| Normalization \t| Stop Words \t| Vectorizer \t|      Accuracy      \t|\n",
    "|:-------------:\t|:----------:\t|:----------:\t|:------------------:\t|\n",
    "|     None        \t|     No     \t|    Count   \t| 0.7654265426542655 \t|\n",
    "|     None        \t|     No     \t|   Tf-Idf   \t| 0.7707270727072707 \t|\n",
    "| WordNetLemmatizer |     Yes    \t|    Count   \t| 0.7364736473647365 \t|\n",
    "| WordNetLemmatizer |     Yes    \t|   Tf-Idf   \t| 0.7445744574457446    |\n",
    "|  SnowballStemmer\t|     Yes    \t|    Count   \t| 0.7373237323732373 \t|\n",
    "|  SnowballStemmer \t|     Yes    \t|   Tf-Idf   \t| 0.7437243724372438 \t|\n",
    "|  PorterStemming \t|     Yes    \t|    Count   \t| 0.7368736873687368 \t|\n",
    "|  PorterStemming \t|     Yes    \t|   Tf-Idf    \t| 0.7435743574357436 \t|"
   ]
  },
  {
   "cell_type": "markdown",
   "metadata": {},
   "source": [
    "## Acknowledgements\n",
    "\n",
    "This tutorial is inspired by \n",
    "* **GitHub link: [twitter sentiment analysis](https://github.com/Gunjan933/twitter-sentiment-analysis/blob/master/twitter-sentiment-analysis.ipynb)**\n",
    "\n",
    "* **Report link: [twitter sentiment analysis project report](https://github.com/Gunjan933/twitter-sentiment-analysis/blob/master/report/Twitter_setiment_analysis_project_report.pdf)**\n",
    "\n",
    "\n",
    "#### Dataset is taken from\n",
    "* **[Kaggle Twitter dataset](https://www.kaggle.com/c/twitter-sentiment-analysis2/data)**\n",
    "\n",
    "\n",
    "#### Suggested Readings\n",
    "* **[Everything You Need to Know about Sentiment Analysis](https://monkeylearn.com/sentiment-analysis/)**\n",
    " \n",
    "* **[Everything You Need to Know about the methods for dealing with text](https://www.analyticsvidhya.com/blog/2018/02/the-different-methods-deal-text-data-predictive-python/)**\n",
    "\n",
    "* **[Towards Data Science](https://towardsdatascience.com/creating-the-twitter-sentiment-analysis-program-in-python-with-naive-bayes-classification-672e5589a7ed)**\n",
    "\n",
    "* **[Analytics Vidya](https://www.analyticsvidhya.com/blog/2018/07/hands-on-sentiment-analysis-dataset-python/)**\n",
    "\n",
    "* **[Medium](https://medium.com/@martinpella/naive-bayes-for-sentiment-analysis-49b37db18bf8)**\n",
    "\n",
    "* **[Stackabuse](https://stackabuse.com/the-naive-bayes-algorithm-in-python-with-scikit-learn/)**\n",
    "\n",
    "* **[Geeksforgeeks](https://www.geeksforgeeks.org/graph-plotting-in-python-set-1/)**"
   ]
  },
  {
   "cell_type": "markdown",
   "metadata": {},
   "source": [
    "## Other Analysis on positive/negative tweets"
   ]
  },
  {
   "cell_type": "markdown",
   "metadata": {},
   "source": [
    "**Showing statistics**"
   ]
  },
  {
   "cell_type": "code",
   "execution_count": 43,
   "metadata": {},
   "outputs": [
    {
     "data": {
      "text/plain": [
       "0        0\n",
       "1        0\n",
       "2        1\n",
       "3        0\n",
       "4        0\n",
       "        ..\n",
       "99984    0\n",
       "99985    1\n",
       "99986    0\n",
       "99987    1\n",
       "99988    1\n",
       "Name: Sentiment, Length: 99989, dtype: int64"
      ]
     },
     "execution_count": 43,
     "metadata": {},
     "output_type": "execute_result"
    }
   ],
   "source": [
    "total_data[sentiment]"
   ]
  },
  {
   "cell_type": "code",
   "execution_count": 44,
   "metadata": {
    "ExecuteTime": {
     "end_time": "2019-07-12T17:37:49.572290Z",
     "start_time": "2019-07-12T17:37:49.427953Z"
    }
   },
   "outputs": [
    {
     "data": {
      "image/png": "[encoded data removed]",
      "text/plain": [
       "<Figure size 432x288 with 1 Axes>"
      ]
     },
     "metadata": {},
     "output_type": "display_data"
    }
   ],
   "source": [
    "sentiments = ['Positive Sentiment', 'Negetive Sentiment'] \n",
    "#1 for positive and 0 for negative sentiment\n",
    "slices = [(total_data[sentiment] != 0).sum(), (total_data[sentiment] == 0).sum()] \n",
    "colors = ['g', 'r'] \n",
    "plt.pie(slices, labels = sentiments, colors=colors, startangle=90, shadow = True,\n",
    "        explode = (0, 0.1), radius = 1.5, autopct = '%1.2f%%') \n",
    "plt.legend()\n",
    "plt.show() "
   ]
  },
  {
   "cell_type": "markdown",
   "metadata": {},
   "source": [
    "## Subjectivity and polarity with textblob"
   ]
  },
  {
   "cell_type": "code",
   "execution_count": 45,
   "metadata": {
    "scrolled": true
   },
   "outputs": [],
   "source": [
    "#!pip install textblob\n",
    "from textblob import TextBlob\n",
    "\n",
    "#Find out positive tweets\n",
    "\n",
    "positive_tweets = []\n",
    "\n",
    "for i in range(0, len(total_data['clean_tweet'])):\n",
    "    text = total_data['clean_tweet'][i]\n",
    "    text_blob = TextBlob(text)\n",
    "    #text opinionated or not\n",
    "    subjectivity = text_blob.subjectivity\n",
    "    #if text opinionated --> negative, positive\n",
    "    polarity = text_blob.polarity\n",
    "    \n",
    "    \n",
    "    if (subjectivity > 0.5) and polarity > 0.5:\n",
    "        positive_tweets.append(text)\n",
    "    "
   ]
  },
  {
   "cell_type": "code",
   "execution_count": 46,
   "metadata": {},
   "outputs": [
    {
     "name": "stdout",
     "output_type": "stream",
     "text": [
      " cut beard growing well year gonna start happy meantime\n",
      " sox floyd great relievers need scolding\n",
      " proud\n",
      " think may friendly lol well\n",
      " wish could go beach negetiveemoji would great see amp\n",
      " got home got see friend zahra seen since graduated makes happy\n",
      " lt good timess\n",
      " hot choco best\n",
      " bueno good bye good night\n",
      " amazing night day amp night hi twits miss guys\n"
     ]
    }
   ],
   "source": [
    "#print only 10 of them\n",
    "\n",
    "for i in range(0, 10):\n",
    "    print(positive_tweets[i])"
   ]
  },
  {
   "cell_type": "markdown",
   "metadata": {},
   "source": [
    "## Word distributions"
   ]
  },
  {
   "cell_type": "markdown",
   "metadata": {},
   "source": [
    "**Function for preprocessing tweets**"
   ]
  },
  {
   "cell_type": "code",
   "execution_count": 47,
   "metadata": {},
   "outputs": [],
   "source": [
    "def process_text(tweets):\n",
    "    from nltk.tokenize import word_tokenize\n",
    "    from nltk.corpus import stopwords\n",
    "    \n",
    "    stopwords = stopwords.words(\"english\")\n",
    "    \n",
    "    tokens = []\n",
    "    for tweet in tweets:\n",
    "        tweet = tweet.lower()\n",
    "        toks = word_tokenize(tweet)\n",
    "        toks = [t for t in toks if t not in stopwords]\n",
    "        tokens.extend(toks)\n",
    "    \n",
    "    return tokens"
   ]
  },
  {
   "cell_type": "markdown",
   "metadata": {},
   "source": [
    "**Example for positive words**"
   ]
  },
  {
   "cell_type": "code",
   "execution_count": 48,
   "metadata": {
    "scrolled": true
   },
   "outputs": [
    {
     "name": "stderr",
     "output_type": "stream",
     "text": [
      "[nltk_data] Downloading package punkt to\n",
      "[nltk_data]     C:\\Users\\Federico\\AppData\\Roaming\\nltk_data...\n",
      "[nltk_data]   Package punkt is already up-to-date!\n"
     ]
    },
    {
     "data": {
      "text/plain": [
       "[('good', 3238),\n",
       " ('lol', 2726),\n",
       " ('great', 1288),\n",
       " ('awesome', 938),\n",
       " ('happy', 896),\n",
       " ('nice', 789),\n",
       " ('day', 739),\n",
       " ('love', 617),\n",
       " ('welcome', 566),\n",
       " ('like', 541),\n",
       " ('know', 485),\n",
       " ('hope', 471),\n",
       " ('get', 445),\n",
       " ('morning', 431),\n",
       " ('one', 417),\n",
       " ('see', 408),\n",
       " ('well', 405),\n",
       " ('amp', 356),\n",
       " ('time', 336),\n",
       " ('amazing', 326),\n",
       " ('oh', 318),\n",
       " ('would', 316),\n",
       " ('got', 313),\n",
       " ('think', 305),\n",
       " ('luck', 304),\n",
       " ('im', 293),\n",
       " ('beautiful', 290),\n",
       " ('go', 281),\n",
       " ('today', 272),\n",
       " ('night', 256),\n",
       " ('yeah', 253),\n",
       " ('work', 252),\n",
       " ('birthday', 251),\n",
       " ('thank', 247),\n",
       " ('going', 227),\n",
       " ('hey', 223),\n",
       " ('twitter', 217),\n",
       " ('still', 216),\n",
       " ('sounds', 215),\n",
       " ('na', 208)]"
      ]
     },
     "execution_count": 48,
     "metadata": {},
     "output_type": "execute_result"
    }
   ],
   "source": [
    "import nltk\n",
    "nltk.download(\"punkt\")\n",
    "pos_tokens = process_text(positive_tweets)\n",
    "pos_freq = nltk.FreqDist(pos_tokens)\n",
    "\n",
    "pos_freq.most_common(40)"
   ]
  },
  {
   "cell_type": "markdown",
   "metadata": {},
   "source": [
    "**Plotting the distribution**"
   ]
  },
  {
   "cell_type": "code",
   "execution_count": 49,
   "metadata": {
    "scrolled": true
   },
   "outputs": [
    {
     "data": {
      "image/png": "[encoded data removed]",
      "text/plain": [
       "<Figure size 720x360 with 1 Axes>"
      ]
     },
     "metadata": {
      "needs_background": "light"
     },
     "output_type": "display_data"
    }
   ],
   "source": [
    "y_val = [x[1] for x in pos_freq.most_common()]\n",
    "\n",
    "fig = plt.figure(figsize=(10,5))\n",
    "plt.plot(y_val)\n",
    "\n",
    "plt.xlabel(\"Words\")\n",
    "plt.ylabel(\"Frequency\")\n",
    "plt.title(\"Word Frequency Distribution (Positive)\")\n",
    "plt.show()"
   ]
  },
  {
   "cell_type": "markdown",
   "metadata": {},
   "source": [
    "**Log-log plot**"
   ]
  },
  {
   "cell_type": "code",
   "execution_count": 50,
   "metadata": {},
   "outputs": [
    {
     "data": {
      "image/png": "[encoded data removed]",
      "text/plain": [
       "<Figure size 720x360 with 1 Axes>"
      ]
     },
     "metadata": {
      "needs_background": "light"
     },
     "output_type": "display_data"
    }
   ],
   "source": [
    "import math\n",
    "\n",
    "y_final = []\n",
    "for i, k, z, t in zip(y_val[0::4], y_val[1::4], y_val[2::4], y_val[3::4]):\n",
    "    y_final.append(math.log(i + k + z + t))\n",
    "\n",
    "x_val = [math.log(i + 1) for i in range(len(y_final))]\n",
    "\n",
    "fig = plt.figure(figsize=(10,5))\n",
    "\n",
    "plt.xlabel(\"Words (Log)\")\n",
    "plt.ylabel(\"Frequency (Log)\")\n",
    "plt.title(\"Word Frequency Distribution (Positive)\")\n",
    "plt.plot(x_val, y_final)\n",
    "plt.show()"
   ]
  },
  {
   "cell_type": "markdown",
   "metadata": {},
   "source": [
    "## Some ideas for a practical project\n",
    "\n",
    "Given the tutorial on sentiment analysis using Twitter data, you can choose one of these possible projects:\n",
    "* **Project proposal 1:** Repeat the tutorial with the Twitter dataset using different approaches for text processing or \n",
    "    vectorization, then compare the results with the ones reported in Table 1 (see Conclusions of the tutorial) \n",
    "    \n",
    "* **Project proposal 2:** Repeat the tutorial with the Twitter dataset varying the classification approach and compare the results with Multinomial Naive Bayes Classifier \n",
    "     \n",
    "* **Project proposal 3:** Repeat the tutorial on a different dataset (e.g., reviews) varying the approaches for preprocessing and classification, then compare the results achieved. To read the reviews dataset you can used the example for reading data from Clothing_review.csv \n",
    "    \n",
    "* **Project proposal 4:** Repeat the tutorial and extend the analysis of positive/negative tweets (e.g., using TextBlob check if the positive tweets detected by polarity >0.5 are actually labeled as positive in the dataset) \n",
    "\n",
    "* **Project proposal 5:** Repeat the tutorial and extend the analysis of positive/negative tweets by creating a vocabulary of positive/negative words (e.g., which positive/negative words are found in tweets classified as positive/negative? Which is their distribution?) \n",
    "\n"
   ]
  },
  {
   "cell_type": "markdown",
   "metadata": {},
   "source": [
    "**Example on how to read the review dataset**"
   ]
  },
  {
   "cell_type": "code",
   "execution_count": 51,
   "metadata": {},
   "outputs": [
    {
     "data": {
      "text/html": [
       "<div>\n",
       "<style scoped>\n",
       "    .dataframe tbody tr th:only-of-type {\n",
       "        vertical-align: middle;\n",
       "    }\n",
       "\n",
       "    .dataframe tbody tr th {\n",
       "        vertical-align: top;\n",
       "    }\n",
       "\n",
       "    .dataframe thead th {\n",
       "        text-align: right;\n",
       "    }\n",
       "</style>\n",
       "<table border=\"1\" class=\"dataframe\">\n",
       "  <thead>\n",
       "    <tr style=\"text-align: right;\">\n",
       "      <th></th>\n",
       "      <th>Unnamed: 0</th>\n",
       "      <th>Clothing ID</th>\n",
       "      <th>Age</th>\n",
       "      <th>Title</th>\n",
       "      <th>Review Text</th>\n",
       "      <th>Rating</th>\n",
       "      <th>Recommended IND</th>\n",
       "      <th>Positive Feedback Count</th>\n",
       "      <th>Division Name</th>\n",
       "      <th>Department Name</th>\n",
       "      <th>Class Name</th>\n",
       "    </tr>\n",
       "  </thead>\n",
       "  <tbody>\n",
       "    <tr>\n",
       "      <th>0</th>\n",
       "      <td>0</td>\n",
       "      <td>767</td>\n",
       "      <td>33</td>\n",
       "      <td>NaN</td>\n",
       "      <td>Absolutely wonderful - silky and sexy and comfortable</td>\n",
       "      <td>4</td>\n",
       "      <td>1</td>\n",
       "      <td>0</td>\n",
       "      <td>Initmates</td>\n",
       "      <td>Intimate</td>\n",
       "      <td>Intimates</td>\n",
       "    </tr>\n",
       "    <tr>\n",
       "      <th>1</th>\n",
       "      <td>1</td>\n",
       "      <td>1080</td>\n",
       "      <td>34</td>\n",
       "      <td>NaN</td>\n",
       "      <td>Love this dress!  it's sooo pretty.  i happened to find it in a store, and i'm glad i did bc i never would have ordered it online bc it's petite.  i bought a petite and am 5'8\".  i love the length on me- hits just a little below the knee.  would definitely be a true midi on someone who is truly petite.</td>\n",
       "      <td>5</td>\n",
       "      <td>1</td>\n",
       "      <td>4</td>\n",
       "      <td>General</td>\n",
       "      <td>Dresses</td>\n",
       "      <td>Dresses</td>\n",
       "    </tr>\n",
       "    <tr>\n",
       "      <th>2</th>\n",
       "      <td>2</td>\n",
       "      <td>1077</td>\n",
       "      <td>60</td>\n",
       "      <td>Some major design flaws</td>\n",
       "      <td>I had such high hopes for this dress and really wanted it to work for me. i initially ordered the petite small (my usual size) but i found this to be outrageously small. so small in fact that i could not zip it up! i reordered it in petite medium, which was just ok. overall, the top half was comfortable and fit nicely, but the bottom half had a very tight under layer and several somewhat cheap (net) over layers. imo, a major design flaw was the net over layer sewn directly into the zipper - it c</td>\n",
       "      <td>3</td>\n",
       "      <td>0</td>\n",
       "      <td>0</td>\n",
       "      <td>General</td>\n",
       "      <td>Dresses</td>\n",
       "      <td>Dresses</td>\n",
       "    </tr>\n",
       "    <tr>\n",
       "      <th>3</th>\n",
       "      <td>3</td>\n",
       "      <td>1049</td>\n",
       "      <td>50</td>\n",
       "      <td>My favorite buy!</td>\n",
       "      <td>I love, love, love this jumpsuit. it's fun, flirty, and fabulous! every time i wear it, i get nothing but great compliments!</td>\n",
       "      <td>5</td>\n",
       "      <td>1</td>\n",
       "      <td>0</td>\n",
       "      <td>General Petite</td>\n",
       "      <td>Bottoms</td>\n",
       "      <td>Pants</td>\n",
       "    </tr>\n",
       "    <tr>\n",
       "      <th>4</th>\n",
       "      <td>4</td>\n",
       "      <td>847</td>\n",
       "      <td>47</td>\n",
       "      <td>Flattering shirt</td>\n",
       "      <td>This shirt is very flattering to all due to the adjustable front tie. it is the perfect length to wear with leggings and it is sleeveless so it pairs well with any cardigan. love this shirt!!!</td>\n",
       "      <td>5</td>\n",
       "      <td>1</td>\n",
       "      <td>6</td>\n",
       "      <td>General</td>\n",
       "      <td>Tops</td>\n",
       "      <td>Blouses</td>\n",
       "    </tr>\n",
       "  </tbody>\n",
       "</table>\n",
       "</div>"
      ],
      "text/plain": [
       "   Unnamed: 0  Clothing ID  Age                    Title  \\\n",
       "0  0           767          33   NaN                       \n",
       "1  1           1080         34   NaN                       \n",
       "2  2           1077         60   Some major design flaws   \n",
       "3  3           1049         50   My favorite buy!          \n",
       "4  4           847          47   Flattering shirt          \n",
       "\n",
       "                                                                                                                                                                                                                                                                                                                                                                                                                                                                                                            Review Text  \\\n",
       "0  Absolutely wonderful - silky and sexy and comfortable                                                                                                                                                                                                                                                                                                                                                                                                                                                                  \n",
       "1  Love this dress!  it's sooo pretty.  i happened to find it in a store, and i'm glad i did bc i never would have ordered it online bc it's petite.  i bought a petite and am 5'8\".  i love the length on me- hits just a little below the knee.  would definitely be a true midi on someone who is truly petite.                                                                                                                                                                                                        \n",
       "2  I had such high hopes for this dress and really wanted it to work for me. i initially ordered the petite small (my usual size) but i found this to be outrageously small. so small in fact that i could not zip it up! i reordered it in petite medium, which was just ok. overall, the top half was comfortable and fit nicely, but the bottom half had a very tight under layer and several somewhat cheap (net) over layers. imo, a major design flaw was the net over layer sewn directly into the zipper - it c   \n",
       "3  I love, love, love this jumpsuit. it's fun, flirty, and fabulous! every time i wear it, i get nothing but great compliments!                                                                                                                                                                                                                                                                                                                                                                                           \n",
       "4  This shirt is very flattering to all due to the adjustable front tie. it is the perfect length to wear with leggings and it is sleeveless so it pairs well with any cardigan. love this shirt!!!                                                                                                                                                                                                                                                                                                                       \n",
       "\n",
       "   Rating  Recommended IND  Positive Feedback Count   Division Name  \\\n",
       "0  4       1                0                        Initmates        \n",
       "1  5       1                4                        General          \n",
       "2  3       0                0                        General          \n",
       "3  5       1                0                        General Petite   \n",
       "4  5       1                6                        General          \n",
       "\n",
       "  Department Name Class Name  \n",
       "0  Intimate        Intimates  \n",
       "1  Dresses         Dresses    \n",
       "2  Dresses         Dresses    \n",
       "3  Bottoms         Pants      \n",
       "4  Tops            Blouses    "
      ]
     },
     "execution_count": 51,
     "metadata": {},
     "output_type": "execute_result"
    }
   ],
   "source": [
    "df = pd.read_csv('datasets/Clothing_review.csv')\n",
    "df.head()"
   ]
  },
  {
   "cell_type": "code",
   "execution_count": 52,
   "metadata": {
    "scrolled": true
   },
   "outputs": [
    {
     "data": {
      "text/html": [
       "<div>\n",
       "<style scoped>\n",
       "    .dataframe tbody tr th:only-of-type {\n",
       "        vertical-align: middle;\n",
       "    }\n",
       "\n",
       "    .dataframe tbody tr th {\n",
       "        vertical-align: top;\n",
       "    }\n",
       "\n",
       "    .dataframe thead th {\n",
       "        text-align: right;\n",
       "    }\n",
       "</style>\n",
       "<table border=\"1\" class=\"dataframe\">\n",
       "  <thead>\n",
       "    <tr style=\"text-align: right;\">\n",
       "      <th></th>\n",
       "      <th>Clothing ID</th>\n",
       "      <th>Age</th>\n",
       "      <th>Review Text</th>\n",
       "      <th>Rating</th>\n",
       "      <th>Recommended IND</th>\n",
       "      <th>Division Name</th>\n",
       "      <th>Department Name</th>\n",
       "      <th>Class Name</th>\n",
       "    </tr>\n",
       "  </thead>\n",
       "  <tbody>\n",
       "    <tr>\n",
       "      <th>0</th>\n",
       "      <td>767</td>\n",
       "      <td>33</td>\n",
       "      <td>Absolutely wonderful - silky and sexy and comfortable</td>\n",
       "      <td>4</td>\n",
       "      <td>1</td>\n",
       "      <td>Initmates</td>\n",
       "      <td>Intimate</td>\n",
       "      <td>Intimates</td>\n",
       "    </tr>\n",
       "    <tr>\n",
       "      <th>1</th>\n",
       "      <td>1080</td>\n",
       "      <td>34</td>\n",
       "      <td>Love this dress!  it's sooo pretty.  i happened to find it in a store, and i'm glad i did bc i never would have ordered it online bc it's petite.  i bought a petite and am 5'8\".  i love the length on me- hits just a little below the knee.  would definitely be a true midi on someone who is truly petite.</td>\n",
       "      <td>5</td>\n",
       "      <td>1</td>\n",
       "      <td>General</td>\n",
       "      <td>Dresses</td>\n",
       "      <td>Dresses</td>\n",
       "    </tr>\n",
       "    <tr>\n",
       "      <th>2</th>\n",
       "      <td>1077</td>\n",
       "      <td>60</td>\n",
       "      <td>I had such high hopes for this dress and really wanted it to work for me. i initially ordered the petite small (my usual size) but i found this to be outrageously small. so small in fact that i could not zip it up! i reordered it in petite medium, which was just ok. overall, the top half was comfortable and fit nicely, but the bottom half had a very tight under layer and several somewhat cheap (net) over layers. imo, a major design flaw was the net over layer sewn directly into the zipper - it c</td>\n",
       "      <td>3</td>\n",
       "      <td>0</td>\n",
       "      <td>General</td>\n",
       "      <td>Dresses</td>\n",
       "      <td>Dresses</td>\n",
       "    </tr>\n",
       "    <tr>\n",
       "      <th>3</th>\n",
       "      <td>1049</td>\n",
       "      <td>50</td>\n",
       "      <td>I love, love, love this jumpsuit. it's fun, flirty, and fabulous! every time i wear it, i get nothing but great compliments!</td>\n",
       "      <td>5</td>\n",
       "      <td>1</td>\n",
       "      <td>General Petite</td>\n",
       "      <td>Bottoms</td>\n",
       "      <td>Pants</td>\n",
       "    </tr>\n",
       "    <tr>\n",
       "      <th>4</th>\n",
       "      <td>847</td>\n",
       "      <td>47</td>\n",
       "      <td>This shirt is very flattering to all due to the adjustable front tie. it is the perfect length to wear with leggings and it is sleeveless so it pairs well with any cardigan. love this shirt!!!</td>\n",
       "      <td>5</td>\n",
       "      <td>1</td>\n",
       "      <td>General</td>\n",
       "      <td>Tops</td>\n",
       "      <td>Blouses</td>\n",
       "    </tr>\n",
       "  </tbody>\n",
       "</table>\n",
       "</div>"
      ],
      "text/plain": [
       "   Clothing ID  Age  \\\n",
       "0  767          33    \n",
       "1  1080         34    \n",
       "2  1077         60    \n",
       "3  1049         50    \n",
       "4  847          47    \n",
       "\n",
       "                                                                                                                                                                                                                                                                                                                                                                                                                                                                                                            Review Text  \\\n",
       "0  Absolutely wonderful - silky and sexy and comfortable                                                                                                                                                                                                                                                                                                                                                                                                                                                                  \n",
       "1  Love this dress!  it's sooo pretty.  i happened to find it in a store, and i'm glad i did bc i never would have ordered it online bc it's petite.  i bought a petite and am 5'8\".  i love the length on me- hits just a little below the knee.  would definitely be a true midi on someone who is truly petite.                                                                                                                                                                                                        \n",
       "2  I had such high hopes for this dress and really wanted it to work for me. i initially ordered the petite small (my usual size) but i found this to be outrageously small. so small in fact that i could not zip it up! i reordered it in petite medium, which was just ok. overall, the top half was comfortable and fit nicely, but the bottom half had a very tight under layer and several somewhat cheap (net) over layers. imo, a major design flaw was the net over layer sewn directly into the zipper - it c   \n",
       "3  I love, love, love this jumpsuit. it's fun, flirty, and fabulous! every time i wear it, i get nothing but great compliments!                                                                                                                                                                                                                                                                                                                                                                                           \n",
       "4  This shirt is very flattering to all due to the adjustable front tie. it is the perfect length to wear with leggings and it is sleeveless so it pairs well with any cardigan. love this shirt!!!                                                                                                                                                                                                                                                                                                                       \n",
       "\n",
       "   Rating  Recommended IND   Division Name Department Name Class Name  \n",
       "0  4       1                Initmates       Intimate        Intimates  \n",
       "1  5       1                General         Dresses         Dresses    \n",
       "2  3       0                General         Dresses         Dresses    \n",
       "3  5       1                General Petite  Bottoms         Pants      \n",
       "4  5       1                General         Tops            Blouses    "
      ]
     },
     "execution_count": 52,
     "metadata": {},
     "output_type": "execute_result"
    }
   ],
   "source": [
    "#Drop unnecessary columns\n",
    "\n",
    "df = df.drop(['Title', 'Positive Feedback Count', 'Unnamed: 0', ], axis=1)\n",
    "df.dropna(inplace=True)\n",
    "\n",
    "df.head()"
   ]
  },
  {
   "cell_type": "markdown",
   "metadata": {},
   "source": [
    "**Computing the polarity based on the rating**"
   ]
  },
  {
   "cell_type": "code",
   "execution_count": 53,
   "metadata": {},
   "outputs": [
    {
     "data": {
      "text/html": [
       "<div>\n",
       "<style scoped>\n",
       "    .dataframe tbody tr th:only-of-type {\n",
       "        vertical-align: middle;\n",
       "    }\n",
       "\n",
       "    .dataframe tbody tr th {\n",
       "        vertical-align: top;\n",
       "    }\n",
       "\n",
       "    .dataframe thead th {\n",
       "        text-align: right;\n",
       "    }\n",
       "</style>\n",
       "<table border=\"1\" class=\"dataframe\">\n",
       "  <thead>\n",
       "    <tr style=\"text-align: right;\">\n",
       "      <th></th>\n",
       "      <th>Review Text</th>\n",
       "      <th>Polarity_Rating</th>\n",
       "    </tr>\n",
       "  </thead>\n",
       "  <tbody>\n",
       "    <tr>\n",
       "      <th>0</th>\n",
       "      <td>Absolutely wonderful - silky and sexy and comfortable</td>\n",
       "      <td>Positive</td>\n",
       "    </tr>\n",
       "    <tr>\n",
       "      <th>1</th>\n",
       "      <td>Love this dress!  it's sooo pretty.  i happened to find it in a store, and i'm glad i did bc i never would have ordered it online bc it's petite.  i bought a petite and am 5'8\".  i love the length on me- hits just a little below the knee.  would definitely be a true midi on someone who is truly petite.</td>\n",
       "      <td>Positive</td>\n",
       "    </tr>\n",
       "    <tr>\n",
       "      <th>2</th>\n",
       "      <td>I had such high hopes for this dress and really wanted it to work for me. i initially ordered the petite small (my usual size) but i found this to be outrageously small. so small in fact that i could not zip it up! i reordered it in petite medium, which was just ok. overall, the top half was comfortable and fit nicely, but the bottom half had a very tight under layer and several somewhat cheap (net) over layers. imo, a major design flaw was the net over layer sewn directly into the zipper - it c</td>\n",
       "      <td>Neutral</td>\n",
       "    </tr>\n",
       "    <tr>\n",
       "      <th>3</th>\n",
       "      <td>I love, love, love this jumpsuit. it's fun, flirty, and fabulous! every time i wear it, i get nothing but great compliments!</td>\n",
       "      <td>Positive</td>\n",
       "    </tr>\n",
       "    <tr>\n",
       "      <th>4</th>\n",
       "      <td>This shirt is very flattering to all due to the adjustable front tie. it is the perfect length to wear with leggings and it is sleeveless so it pairs well with any cardigan. love this shirt!!!</td>\n",
       "      <td>Positive</td>\n",
       "    </tr>\n",
       "  </tbody>\n",
       "</table>\n",
       "</div>"
      ],
      "text/plain": [
       "                                                                                                                                                                                                                                                                                                                                                                                                                                                                                                            Review Text  \\\n",
       "0  Absolutely wonderful - silky and sexy and comfortable                                                                                                                                                                                                                                                                                                                                                                                                                                                                  \n",
       "1  Love this dress!  it's sooo pretty.  i happened to find it in a store, and i'm glad i did bc i never would have ordered it online bc it's petite.  i bought a petite and am 5'8\".  i love the length on me- hits just a little below the knee.  would definitely be a true midi on someone who is truly petite.                                                                                                                                                                                                        \n",
       "2  I had such high hopes for this dress and really wanted it to work for me. i initially ordered the petite small (my usual size) but i found this to be outrageously small. so small in fact that i could not zip it up! i reordered it in petite medium, which was just ok. overall, the top half was comfortable and fit nicely, but the bottom half had a very tight under layer and several somewhat cheap (net) over layers. imo, a major design flaw was the net over layer sewn directly into the zipper - it c   \n",
       "3  I love, love, love this jumpsuit. it's fun, flirty, and fabulous! every time i wear it, i get nothing but great compliments!                                                                                                                                                                                                                                                                                                                                                                                           \n",
       "4  This shirt is very flattering to all due to the adjustable front tie. it is the perfect length to wear with leggings and it is sleeveless so it pairs well with any cardigan. love this shirt!!!                                                                                                                                                                                                                                                                                                                       \n",
       "\n",
       "  Polarity_Rating  \n",
       "0  Positive        \n",
       "1  Positive        \n",
       "2  Neutral         \n",
       "3  Positive        \n",
       "4  Positive        "
      ]
     },
     "execution_count": 53,
     "metadata": {},
     "output_type": "execute_result"
    }
   ],
   "source": [
    "df['Polarity_Rating'] = df['Rating'].apply(lambda x: 'Positive' if x > 3 else('Neutral' if x == 3  else 'Negative'))\n",
    "\n",
    "df_temp = df[['Review Text', 'Polarity_Rating']]\n",
    "\n",
    "df_temp.head()\n",
    "\n"
   ]
  },
  {
   "cell_type": "code",
   "execution_count": null,
   "metadata": {},
   "outputs": [],
   "source": []
  },
  {
   "cell_type": "code",
   "execution_count": null,
   "metadata": {},
   "outputs": [],
   "source": []
  }
 ],
 "metadata": {
  "gist": {
   "data": {
    "description": "twitter-sentiment-analysis.ipynb",
    "public": false
   },
   "id": ""
  },
  "kernelspec": {
   "display_name": "Python 3 (ipykernel)",
   "language": "python",
   "name": "python3"
  },
  "language_info": {
   "codemirror_mode": {
    "name": "ipython",
    "version": 3
   },
   "file_extension": ".py",
   "mimetype": "text/x-python",
   "name": "python",
   "nbconvert_exporter": "python",
   "pygments_lexer": "ipython3",
   "version": "3.9.7"
  },
  "vscode": {
   "interpreter": {
    "hash": "f306c58903bd544e192c9f8f9d41acea6cb9ac42ae1568a5fadf25f8e0bd8653"
   }
  }
 },
 "nbformat": 4,
 "nbformat_minor": 2
}
