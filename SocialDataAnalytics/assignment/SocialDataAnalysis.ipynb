{
 "cells": [
  {
   "cell_type": "markdown",
   "metadata": {},
   "source": [
    "# Twitter Sentiment Analysis"
   ]
  },
  {
   "cell_type": "markdown",
   "metadata": {},
   "source": [
    "**Installalling the required packages**"
   ]
  },
  {
   "cell_type": "code",
   "execution_count": 194,
   "metadata": {
    "ExecuteTime": {
     "end_time": "2019-07-12T17:37:40.638986Z",
     "start_time": "2019-07-12T17:37:38.080731Z"
    }
   },
   "outputs": [],
   "source": [
    "#! pip install --user scipy nltk seaborn textblob"
   ]
  },
  {
   "cell_type": "markdown",
   "metadata": {},
   "source": [
    "**Importing the required packages**"
   ]
  },
  {
   "cell_type": "code",
   "execution_count": 195,
   "metadata": {
    "ExecuteTime": {
     "end_time": "2019-07-12T17:37:43.249754Z",
     "start_time": "2019-07-12T17:37:40.642457Z"
    }
   },
   "outputs": [
    {
     "name": "stderr",
     "output_type": "stream",
     "text": [
      "[nltk_data] Downloading package wordnet to\n",
      "[nltk_data]     C:\\Users\\Federico\\AppData\\Roaming\\nltk_data...\n",
      "[nltk_data]   Package wordnet is already up-to-date!\n"
     ]
    }
   ],
   "source": [
    "import numpy as np\n",
    "import pandas as pd\n",
    "import json, nltk\n",
    "import matplotlib.pyplot as plt\n",
    "\n",
    "import seaborn as sns\n",
    "nltk.download('wordnet')  \n",
    "\n",
    "%matplotlib inline"
   ]
  },
  {
   "cell_type": "markdown",
   "metadata": {},
   "source": [
    "**Reading data from CSV file**\n",
    "\n",
    "N.B. The dataset is not in \"UTF-8\" encoding"
   ]
  },
  {
   "cell_type": "code",
   "execution_count": 196,
   "metadata": {
    "ExecuteTime": {
     "end_time": "2019-07-12T17:37:43.473952Z",
     "start_time": "2019-07-12T17:37:43.253722Z"
    }
   },
   "outputs": [],
   "source": [
    "total_data = pd.read_csv(\"datasets/Twitter_train.csv\", encoding=\"ISO-8859-1\")"
   ]
  },
  {
   "cell_type": "markdown",
   "metadata": {},
   "source": [
    "**Showing the data**"
   ]
  },
  {
   "cell_type": "code",
   "execution_count": 197,
   "metadata": {
    "ExecuteTime": {
     "end_time": "2019-07-12T17:37:43.535481Z",
     "start_time": "2019-07-12T17:37:43.505212Z"
    },
    "scrolled": false
   },
   "outputs": [
    {
     "name": "stderr",
     "output_type": "stream",
     "text": [
      "C:\\Users\\Federico\\AppData\\Local\\Temp\\ipykernel_17992\\2783862136.py:2: FutureWarning: Passing a negative integer is deprecated in version 1.0 and will not be supported in future version. Instead, use None to not limit the column width.\n",
      "  pd.set_option('display.max_colwidth', -1)\n"
     ]
    },
    {
     "data": {
      "text/html": [
       "<div>\n",
       "<style scoped>\n",
       "    .dataframe tbody tr th:only-of-type {\n",
       "        vertical-align: middle;\n",
       "    }\n",
       "\n",
       "    .dataframe tbody tr th {\n",
       "        vertical-align: top;\n",
       "    }\n",
       "\n",
       "    .dataframe thead th {\n",
       "        text-align: right;\n",
       "    }\n",
       "</style>\n",
       "<table border=\"1\" class=\"dataframe\">\n",
       "  <thead>\n",
       "    <tr style=\"text-align: right;\">\n",
       "      <th></th>\n",
       "      <th>ItemID</th>\n",
       "      <th>Sentiment</th>\n",
       "      <th>SentimentText</th>\n",
       "    </tr>\n",
       "  </thead>\n",
       "  <tbody>\n",
       "    <tr>\n",
       "      <th>0</th>\n",
       "      <td>1</td>\n",
       "      <td>0</td>\n",
       "      <td>is so sad for my APL friend.............</td>\n",
       "    </tr>\n",
       "    <tr>\n",
       "      <th>1</th>\n",
       "      <td>2</td>\n",
       "      <td>0</td>\n",
       "      <td>I missed the New Moon trailer...</td>\n",
       "    </tr>\n",
       "    <tr>\n",
       "      <th>2</th>\n",
       "      <td>3</td>\n",
       "      <td>1</td>\n",
       "      <td>omg its already 7:30 :O</td>\n",
       "    </tr>\n",
       "    <tr>\n",
       "      <th>3</th>\n",
       "      <td>4</td>\n",
       "      <td>0</td>\n",
       "      <td>.. Omgaga. Im sooo  im gunna CRy. I've been at this dentist since 11.. I was suposed 2 just get a crown put on (30mins)...</td>\n",
       "    </tr>\n",
       "    <tr>\n",
       "      <th>4</th>\n",
       "      <td>5</td>\n",
       "      <td>0</td>\n",
       "      <td>i think mi bf is cheating on me!!!       T_T</td>\n",
       "    </tr>\n",
       "  </tbody>\n",
       "</table>\n",
       "</div>"
      ],
      "text/plain": [
       "   ItemID  Sentiment  \\\n",
       "0  1       0           \n",
       "1  2       0           \n",
       "2  3       1           \n",
       "3  4       0           \n",
       "4  5       0           \n",
       "\n",
       "                                                                                                                          SentimentText  \n",
       "0                       is so sad for my APL friend.............                                                                         \n",
       "1                     I missed the New Moon trailer...                                                                                   \n",
       "2                omg its already 7:30 :O                                                                                                 \n",
       "3            .. Omgaga. Im sooo  im gunna CRy. I've been at this dentist since 11.. I was suposed 2 just get a crown put on (30mins)...  \n",
       "4           i think mi bf is cheating on me!!!       T_T                                                                                 "
      ]
     },
     "execution_count": 197,
     "metadata": {},
     "output_type": "execute_result"
    }
   ],
   "source": [
    "#this opinion is used for setting Pandas DataFrame to show non-truncated table\n",
    "pd.set_option('display.max_colwidth', -1)\n",
    "\n",
    "total_data.head()"
   ]
  },
  {
   "cell_type": "markdown",
   "metadata": {},
   "source": [
    "**Taking column names into variables**"
   ]
  },
  {
   "cell_type": "code",
   "execution_count": 198,
   "metadata": {
    "ExecuteTime": {
     "end_time": "2019-07-12T17:37:43.550355Z",
     "start_time": "2019-07-12T17:37:43.540924Z"
    },
    "scrolled": false
   },
   "outputs": [],
   "source": [
    "tweet = total_data.columns.values[2]\n",
    "sentiment = total_data.columns.values[1]"
   ]
  },
  {
   "cell_type": "code",
   "execution_count": 199,
   "metadata": {},
   "outputs": [
    {
     "data": {
      "text/plain": [
       "('SentimentText', 'Sentiment')"
      ]
     },
     "execution_count": 199,
     "metadata": {},
     "output_type": "execute_result"
    }
   ],
   "source": [
    "tweet, sentiment"
   ]
  },
  {
   "cell_type": "markdown",
   "metadata": {},
   "source": [
    "## Step 1: Preprocessing"
   ]
  },
  {
   "cell_type": "markdown",
   "metadata": {},
   "source": [
    "* **Converting every tweets to lower case**\n",
    "* **Removing punctuations, numbers and special characters**\n",
    "* **Converting more than 2 letter repetitions to 2 letter ( example (wooooooow --> woow))**\n",
    "* **Removing extra spaces**\n",
    "* **Removing Twitter username**\n",
    "* **Removing URLs**\n",
    "* **Emoji analysis**\n",
    "* **Handling the contractions words: \" can't \" >> \" can not \", \" won't \" >> \" will not \"**\n",
    "* **Tokenization (or split with space)**\n",
    "* **(Optional) Removing stopwords**\n",
    "* **(Optional) Stemming or Lemmatization**"
   ]
  },
  {
   "cell_type": "markdown",
   "metadata": {},
   "source": [
    "**Importing Contractions**"
   ]
  },
  {
   "cell_type": "code",
   "execution_count": 200,
   "metadata": {
    "ExecuteTime": {
     "end_time": "2019-07-12T17:37:43.485354Z",
     "start_time": "2019-07-12T17:37:43.478411Z"
    }
   },
   "outputs": [],
   "source": [
    "with open('assets/contractions.json', 'r') as f:\n",
    "    contractions_dict = json.load(f)\n",
    "contractions = contractions_dict['contractions']"
   ]
  },
  {
   "cell_type": "code",
   "execution_count": 201,
   "metadata": {},
   "outputs": [
    {
     "data": {
      "text/plain": [
       "{\"ain't\": 'am not / are not',\n",
       " \"aren't\": 'are not / am not',\n",
       " \"can't\": 'cannot',\n",
       " \"can't've\": 'cannot have',\n",
       " \"'cause\": 'because',\n",
       " \"could've\": 'could have',\n",
       " \"couldn't\": 'could not',\n",
       " \"couldn't've\": 'could not have',\n",
       " \"didn't\": 'did not',\n",
       " \"doesn't\": 'does not',\n",
       " \"don't\": 'do not',\n",
       " \"hadn't\": 'had not',\n",
       " \"hadn't've\": 'had not have',\n",
       " \"hasn't\": 'has not',\n",
       " \"haven't\": 'have not',\n",
       " \"he'd\": 'he had / he would',\n",
       " \"he'd've\": 'he would have',\n",
       " \"he'll\": 'he shall / he will',\n",
       " \"he'll've\": 'he shall have / he will have',\n",
       " \"he's\": 'he has / he is',\n",
       " \"how'd\": 'how did',\n",
       " \"how'd'y\": 'how do you',\n",
       " \"how'll\": 'how will',\n",
       " \"how's\": 'how has / how is',\n",
       " \"i'd\": 'I had / I would',\n",
       " \"i'd've\": 'I would have',\n",
       " \"i'll\": 'I shall / I will',\n",
       " \"i'll've\": 'I shall have / I will have',\n",
       " \"i'm\": 'I am',\n",
       " \"i've\": 'I have',\n",
       " \"isn't\": 'is not',\n",
       " \"it'd\": 'it had / it would',\n",
       " \"it'd've\": 'it would have',\n",
       " \"it'll\": 'it shall / it will',\n",
       " \"it'll've\": 'it shall have / it will have',\n",
       " \"it's\": 'it has / it is',\n",
       " \"let's\": 'let us',\n",
       " \"ma'am\": 'madam',\n",
       " \"mayn't\": 'may not',\n",
       " \"might've\": 'might have',\n",
       " \"mightn't\": 'might not',\n",
       " \"mightn't've\": 'might not have',\n",
       " \"must've\": 'must have',\n",
       " \"mustn't\": 'must not',\n",
       " \"mustn't've\": 'must not have',\n",
       " \"needn't\": 'need not',\n",
       " \"needn't've\": 'need not have',\n",
       " \"o'clock\": 'of the clock',\n",
       " \"oughtn't\": 'ought not',\n",
       " \"oughtn't've\": 'ought not have',\n",
       " \"shan't\": 'shall not',\n",
       " \"sha'n't\": 'shall not',\n",
       " \"shan't've\": 'shall not have',\n",
       " \"she'd\": 'she had / she would',\n",
       " \"she'd've\": 'she would have',\n",
       " \"she'll\": 'she shall / she will',\n",
       " \"she'll've\": 'she shall have / she will have',\n",
       " \"she's\": 'she has / she is',\n",
       " \"should've\": 'should have',\n",
       " \"shouldn't\": 'should not',\n",
       " \"shouldn't've\": 'should not have',\n",
       " \"so've\": 'so have',\n",
       " \"so's\": 'so as / so is',\n",
       " \"that'd\": 'that would / that had',\n",
       " \"that'd've\": 'that would have',\n",
       " \"that's\": 'that has / that is',\n",
       " \"there'd\": 'there had / there would',\n",
       " \"there'd've\": 'there would have',\n",
       " \"there's\": 'there has / there is',\n",
       " \"they'd\": 'they had / they would',\n",
       " \"they'd've\": 'they would have',\n",
       " \"they'll\": 'they shall / they will',\n",
       " \"they'll've\": 'they shall have / they will have',\n",
       " \"they're\": 'they are',\n",
       " \"they've\": 'they have',\n",
       " \"to've\": 'to have',\n",
       " \"wasn't\": 'was not',\n",
       " \"we'd\": 'we had / we would',\n",
       " \"we'd've\": 'we would have',\n",
       " \"we'll\": 'we will',\n",
       " \"we'll've\": 'we will have',\n",
       " \"we're\": 'we are',\n",
       " \"we've\": 'we have',\n",
       " \"weren't\": 'were not',\n",
       " \"what'll\": 'what shall / what will',\n",
       " \"what'll've\": 'what shall have / what will have',\n",
       " \"what're\": 'what are',\n",
       " \"what's\": 'what has / what is',\n",
       " \"what've\": 'what have',\n",
       " \"when's\": 'when has / when is',\n",
       " \"when've\": 'when have',\n",
       " \"where'd\": 'where did',\n",
       " \"where's\": 'where has / where is',\n",
       " \"where've\": 'where have',\n",
       " \"who'll\": 'who shall / who will',\n",
       " \"who'll've\": 'who shall have / who will have',\n",
       " \"who's\": 'who has / who is',\n",
       " \"who've\": 'who have',\n",
       " \"why's\": 'why has / why is',\n",
       " \"why've\": 'why have',\n",
       " \"will've\": 'will have',\n",
       " \"won't\": 'will not',\n",
       " \"won't've\": 'will not have',\n",
       " \"would've\": 'would have',\n",
       " \"wouldn't\": 'would not',\n",
       " \"wouldn't've\": 'would not have',\n",
       " \"y'all\": 'you all',\n",
       " \"y'all'd\": 'you all would',\n",
       " \"y'all'd've\": 'you all would have',\n",
       " \"y'all're\": 'you all are',\n",
       " \"y'all've\": 'you all have',\n",
       " \"you'd\": 'you had / you would',\n",
       " \"you'd've\": 'you would have',\n",
       " \"you'll\": 'you shall / you will',\n",
       " \"you'll've\": 'you shall have / you will have',\n",
       " \"you're\": 'you are',\n",
       " \"you've\": 'you have'}"
      ]
     },
     "execution_count": 201,
     "metadata": {},
     "output_type": "execute_result"
    }
   ],
   "source": [
    "contractions"
   ]
  },
  {
   "cell_type": "markdown",
   "metadata": {},
   "source": [
    "**Function for emoji classifications**"
   ]
  },
  {
   "cell_type": "code",
   "execution_count": 202,
   "metadata": {
    "ExecuteTime": {
     "end_time": "2019-07-12T17:37:43.602426Z",
     "start_time": "2019-07-12T17:37:43.595485Z"
    }
   },
   "outputs": [],
   "source": [
    "def emoji(tweet):\n",
    "    # Smile -- :), : ), :-), (:, ( :, (-:, :') , :O\n",
    "    tweet = re.sub(r'(:\\s?\\)|:-\\)|\\(\\s?:|\\(-:|:\\'\\)|:O)', ' positiveemoji ', tweet)\n",
    "    # Laugh -- :D, : D, :-D, xD, x-D, XD, X-D\n",
    "    tweet = re.sub(r'(:\\s?D|:-D|x-?D|X-?D)', ' positiveemoji ', tweet)\n",
    "    # Love -- <3, :*\n",
    "    tweet = re.sub(r'(<3|:\\*)', ' positiveemoji ', tweet)\n",
    "    # Wink -- ;-), ;), ;-D, ;D, (;,  (-; , @-)\n",
    "    tweet = re.sub(r'(;-?\\)|;-?D|\\(-?;|@-\\))', ' positiveemoji ', tweet)\n",
    "    # Sad -- :-(, : (, :(, ):, )-:, :-/ , :-|\n",
    "    tweet = re.sub(r'(:\\s?\\(|:-\\(|\\)\\s?:|\\)-:|:-/|:-\\|)', ' negetiveemoji ', tweet)\n",
    "    # Cry -- :,(, :'(, :\"(\n",
    "    tweet = re.sub(r'(:,\\(|:\\'\\(|:\"\\()', ' negetiveemoji ', tweet)\n",
    "    return tweet\n"
   ]
  },
  {
   "cell_type": "markdown",
   "metadata": {},
   "source": [
    "**Function for tweet processing**"
   ]
  },
  {
   "cell_type": "code",
   "execution_count": 203,
   "metadata": {
    "ExecuteTime": {
     "end_time": "2019-07-12T17:37:43.622266Z",
     "start_time": "2019-07-12T17:37:43.605900Z"
    }
   },
   "outputs": [],
   "source": [
    "import re #for using regular expressions\n",
    "\n",
    "def process_tweet(tweet):\n",
    "    tweet = tweet.lower()                                             # Lowercases the string\n",
    "    tweet = re.sub('@[^\\s]+', '', tweet)                              # Removes usernames\n",
    "    tweet = re.sub('((www\\.[^\\s]+)|(https?://[^\\s]+))', ' ', tweet)   # Remove URLs\n",
    "    tweet = re.sub(r\"\\d+\", \" \", str(tweet))                           # Removes all digits\n",
    "    tweet = re.sub('&quot;',\" \", tweet)                               # Remove (&quot;) \n",
    "    tweet = emoji(tweet)                                              # Replaces Emojis\n",
    "    tweet = re.sub(r\"\\b[a-zA-Z]\\b\", \"\", str(tweet))                   # Removes all single characters\n",
    "    \n",
    "    #simple tokenization using split()\n",
    "    for word in tweet.split():\n",
    "        if word.lower() in contractions:\n",
    "            tweet = tweet.replace(word, contractions[word.lower()])   # Replaces contractions\n",
    "    tweet = re.sub(r\"[^\\w\\s]\", \" \", str(tweet))                       # Removes all punctuations\n",
    "    tweet = re.sub(r'(.)\\1+', r'\\1\\1', tweet)    # Convert more than 2 letter repetitions to 2 letter (e.g., cooool)\n",
    "    tweet = re.sub(r\"\\s+\", \" \", str(tweet))      # Replaces extra spaces with a single space    \n",
    "    return tweet\n"
   ]
  },
  {
   "cell_type": "markdown",
   "metadata": {},
   "source": [
    "**Processing all the tweets**\n",
    "\n",
    "We can make a new column in the dataframe for side by side comparison of processed tweets vs original tweets"
   ]
  },
  {
   "cell_type": "code",
   "execution_count": 204,
   "metadata": {
    "ExecuteTime": {
     "end_time": "2019-07-12T17:37:49.271217Z",
     "start_time": "2019-07-12T17:37:43.626237Z"
    },
    "scrolled": true
   },
   "outputs": [
    {
     "data": {
      "text/html": [
       "<div>\n",
       "<style scoped>\n",
       "    .dataframe tbody tr th:only-of-type {\n",
       "        vertical-align: middle;\n",
       "    }\n",
       "\n",
       "    .dataframe tbody tr th {\n",
       "        vertical-align: top;\n",
       "    }\n",
       "\n",
       "    .dataframe thead th {\n",
       "        text-align: right;\n",
       "    }\n",
       "</style>\n",
       "<table border=\"1\" class=\"dataframe\">\n",
       "  <thead>\n",
       "    <tr style=\"text-align: right;\">\n",
       "      <th></th>\n",
       "      <th>ItemID</th>\n",
       "      <th>Sentiment</th>\n",
       "      <th>SentimentText</th>\n",
       "      <th>processed_tweet</th>\n",
       "    </tr>\n",
       "  </thead>\n",
       "  <tbody>\n",
       "    <tr>\n",
       "      <th>0</th>\n",
       "      <td>1</td>\n",
       "      <td>0</td>\n",
       "      <td>is so sad for my APL friend.............</td>\n",
       "      <td>is so sad for my apl friend</td>\n",
       "    </tr>\n",
       "    <tr>\n",
       "      <th>1</th>\n",
       "      <td>2</td>\n",
       "      <td>0</td>\n",
       "      <td>I missed the New Moon trailer...</td>\n",
       "      <td>missed the new moon trailer</td>\n",
       "    </tr>\n",
       "    <tr>\n",
       "      <th>2</th>\n",
       "      <td>3</td>\n",
       "      <td>1</td>\n",
       "      <td>omg its already 7:30 :O</td>\n",
       "      <td>omg its already</td>\n",
       "    </tr>\n",
       "    <tr>\n",
       "      <th>3</th>\n",
       "      <td>4</td>\n",
       "      <td>0</td>\n",
       "      <td>.. Omgaga. Im sooo  im gunna CRy. I've been at this dentist since 11.. I was suposed 2 just get a crown put on (30mins)...</td>\n",
       "      <td>omgaga im soo im gunna cry ve been at this dentist since was suposed just get crown put on mins</td>\n",
       "    </tr>\n",
       "    <tr>\n",
       "      <th>4</th>\n",
       "      <td>5</td>\n",
       "      <td>0</td>\n",
       "      <td>i think mi bf is cheating on me!!!       T_T</td>\n",
       "      <td>think mi bf is cheating on me t_t</td>\n",
       "    </tr>\n",
       "    <tr>\n",
       "      <th>5</th>\n",
       "      <td>6</td>\n",
       "      <td>0</td>\n",
       "      <td>or i just worry too much?</td>\n",
       "      <td>or just worry too much</td>\n",
       "    </tr>\n",
       "    <tr>\n",
       "      <th>6</th>\n",
       "      <td>7</td>\n",
       "      <td>1</td>\n",
       "      <td>Juuuuuuuuuuuuuuuuussssst Chillin!!</td>\n",
       "      <td>juusst chillin</td>\n",
       "    </tr>\n",
       "    <tr>\n",
       "      <th>7</th>\n",
       "      <td>8</td>\n",
       "      <td>0</td>\n",
       "      <td>Sunny Again        Work Tomorrow  :-|       TV Tonight</td>\n",
       "      <td>sunny again work tomorrow negetiveemoji tv tonight</td>\n",
       "    </tr>\n",
       "    <tr>\n",
       "      <th>8</th>\n",
       "      <td>9</td>\n",
       "      <td>1</td>\n",
       "      <td>handed in my uniform today . i miss you already</td>\n",
       "      <td>handed in my uniform today miss you already</td>\n",
       "    </tr>\n",
       "    <tr>\n",
       "      <th>9</th>\n",
       "      <td>10</td>\n",
       "      <td>1</td>\n",
       "      <td>hmmmm.... i wonder how she my number @-)</td>\n",
       "      <td>hmm wonder how she my number</td>\n",
       "    </tr>\n",
       "  </tbody>\n",
       "</table>\n",
       "</div>"
      ],
      "text/plain": [
       "   ItemID  Sentiment  \\\n",
       "0  1       0           \n",
       "1  2       0           \n",
       "2  3       1           \n",
       "3  4       0           \n",
       "4  5       0           \n",
       "5  6       0           \n",
       "6  7       1           \n",
       "7  8       0           \n",
       "8  9       1           \n",
       "9  10      1           \n",
       "\n",
       "                                                                                                                          SentimentText  \\\n",
       "0                       is so sad for my APL friend.............                                                                          \n",
       "1                     I missed the New Moon trailer...                                                                                    \n",
       "2                omg its already 7:30 :O                                                                                                  \n",
       "3            .. Omgaga. Im sooo  im gunna CRy. I've been at this dentist since 11.. I was suposed 2 just get a crown put on (30mins)...   \n",
       "4           i think mi bf is cheating on me!!!       T_T                                                                                  \n",
       "5           or i just worry too much?                                                                                                     \n",
       "6         Juuuuuuuuuuuuuuuuussssst Chillin!!                                                                                              \n",
       "7         Sunny Again        Work Tomorrow  :-|       TV Tonight                                                                          \n",
       "8        handed in my uniform today . i miss you already                                                                                  \n",
       "9        hmmmm.... i wonder how she my number @-)                                                                                         \n",
       "\n",
       "                                                                                     processed_tweet  \n",
       "0   is so sad for my apl friend                                                                       \n",
       "1   missed the new moon trailer                                                                       \n",
       "2   omg its already                                                                                   \n",
       "3   omgaga im soo im gunna cry ve been at this dentist since was suposed just get crown put on mins   \n",
       "4   think mi bf is cheating on me t_t                                                                 \n",
       "5   or just worry too much                                                                            \n",
       "6   juusst chillin                                                                                    \n",
       "7   sunny again work tomorrow negetiveemoji tv tonight                                                \n",
       "8   handed in my uniform today miss you already                                                       \n",
       "9   hmm wonder how she my number                                                                      "
      ]
     },
     "execution_count": 204,
     "metadata": {},
     "output_type": "execute_result"
    }
   ],
   "source": [
    "total_data['processed_tweet'] = np.vectorize(process_tweet)(total_data[tweet])\n",
    "\n",
    "total_data.head(10)"
   ]
  },
  {
   "cell_type": "markdown",
   "metadata": {},
   "source": [
    "## Other NL text processing (optional):\n",
    "* **stopword removal**\n",
    "* **stemming or lemmatization**"
   ]
  },
  {
   "cell_type": "markdown",
   "metadata": {},
   "source": [
    "**Example of stopword removal**"
   ]
  },
  {
   "cell_type": "code",
   "execution_count": 205,
   "metadata": {},
   "outputs": [],
   "source": [
    "def stopwords_removal(tweet):\n",
    "    from nltk.corpus import stopwords\n",
    "    stopwords = stopwords.words(\"english\")\n",
    "    \n",
    "    cleaned_tweet = \"\"\n",
    "\n",
    "    for w in tweet.split():\n",
    "        if w not in stopwords:\n",
    "            cleaned_tweet = cleaned_tweet +\" \"+w\n",
    "\n",
    "    return cleaned_tweet\n"
   ]
  },
  {
   "cell_type": "code",
   "execution_count": 206,
   "metadata": {},
   "outputs": [
    {
     "name": "stderr",
     "output_type": "stream",
     "text": [
      "[nltk_data] Downloading package stopwords to\n",
      "[nltk_data]     C:\\Users\\Federico\\AppData\\Roaming\\nltk_data...\n",
      "[nltk_data]   Package stopwords is already up-to-date!\n"
     ]
    },
    {
     "data": {
      "text/html": [
       "<div>\n",
       "<style scoped>\n",
       "    .dataframe tbody tr th:only-of-type {\n",
       "        vertical-align: middle;\n",
       "    }\n",
       "\n",
       "    .dataframe tbody tr th {\n",
       "        vertical-align: top;\n",
       "    }\n",
       "\n",
       "    .dataframe thead th {\n",
       "        text-align: right;\n",
       "    }\n",
       "</style>\n",
       "<table border=\"1\" class=\"dataframe\">\n",
       "  <thead>\n",
       "    <tr style=\"text-align: right;\">\n",
       "      <th></th>\n",
       "      <th>ItemID</th>\n",
       "      <th>Sentiment</th>\n",
       "      <th>SentimentText</th>\n",
       "      <th>processed_tweet</th>\n",
       "      <th>clean_tweet</th>\n",
       "    </tr>\n",
       "  </thead>\n",
       "  <tbody>\n",
       "    <tr>\n",
       "      <th>0</th>\n",
       "      <td>1</td>\n",
       "      <td>0</td>\n",
       "      <td>is so sad for my APL friend.............</td>\n",
       "      <td>is so sad for my apl friend</td>\n",
       "      <td>sad apl friend</td>\n",
       "    </tr>\n",
       "    <tr>\n",
       "      <th>1</th>\n",
       "      <td>2</td>\n",
       "      <td>0</td>\n",
       "      <td>I missed the New Moon trailer...</td>\n",
       "      <td>missed the new moon trailer</td>\n",
       "      <td>missed new moon trailer</td>\n",
       "    </tr>\n",
       "    <tr>\n",
       "      <th>2</th>\n",
       "      <td>3</td>\n",
       "      <td>1</td>\n",
       "      <td>omg its already 7:30 :O</td>\n",
       "      <td>omg its already</td>\n",
       "      <td>omg already</td>\n",
       "    </tr>\n",
       "    <tr>\n",
       "      <th>3</th>\n",
       "      <td>4</td>\n",
       "      <td>0</td>\n",
       "      <td>.. Omgaga. Im sooo  im gunna CRy. I've been at this dentist since 11.. I was suposed 2 just get a crown put on (30mins)...</td>\n",
       "      <td>omgaga im soo im gunna cry ve been at this dentist since was suposed just get crown put on mins</td>\n",
       "      <td>omgaga im soo im gunna cry dentist since suposed get crown put mins</td>\n",
       "    </tr>\n",
       "    <tr>\n",
       "      <th>4</th>\n",
       "      <td>5</td>\n",
       "      <td>0</td>\n",
       "      <td>i think mi bf is cheating on me!!!       T_T</td>\n",
       "      <td>think mi bf is cheating on me t_t</td>\n",
       "      <td>think mi bf cheating t_t</td>\n",
       "    </tr>\n",
       "    <tr>\n",
       "      <th>5</th>\n",
       "      <td>6</td>\n",
       "      <td>0</td>\n",
       "      <td>or i just worry too much?</td>\n",
       "      <td>or just worry too much</td>\n",
       "      <td>worry much</td>\n",
       "    </tr>\n",
       "    <tr>\n",
       "      <th>6</th>\n",
       "      <td>7</td>\n",
       "      <td>1</td>\n",
       "      <td>Juuuuuuuuuuuuuuuuussssst Chillin!!</td>\n",
       "      <td>juusst chillin</td>\n",
       "      <td>juusst chillin</td>\n",
       "    </tr>\n",
       "    <tr>\n",
       "      <th>7</th>\n",
       "      <td>8</td>\n",
       "      <td>0</td>\n",
       "      <td>Sunny Again        Work Tomorrow  :-|       TV Tonight</td>\n",
       "      <td>sunny again work tomorrow negetiveemoji tv tonight</td>\n",
       "      <td>sunny work tomorrow negetiveemoji tv tonight</td>\n",
       "    </tr>\n",
       "    <tr>\n",
       "      <th>8</th>\n",
       "      <td>9</td>\n",
       "      <td>1</td>\n",
       "      <td>handed in my uniform today . i miss you already</td>\n",
       "      <td>handed in my uniform today miss you already</td>\n",
       "      <td>handed uniform today miss already</td>\n",
       "    </tr>\n",
       "    <tr>\n",
       "      <th>9</th>\n",
       "      <td>10</td>\n",
       "      <td>1</td>\n",
       "      <td>hmmmm.... i wonder how she my number @-)</td>\n",
       "      <td>hmm wonder how she my number</td>\n",
       "      <td>hmm wonder number</td>\n",
       "    </tr>\n",
       "  </tbody>\n",
       "</table>\n",
       "</div>"
      ],
      "text/plain": [
       "   ItemID  Sentiment  \\\n",
       "0  1       0           \n",
       "1  2       0           \n",
       "2  3       1           \n",
       "3  4       0           \n",
       "4  5       0           \n",
       "5  6       0           \n",
       "6  7       1           \n",
       "7  8       0           \n",
       "8  9       1           \n",
       "9  10      1           \n",
       "\n",
       "                                                                                                                          SentimentText  \\\n",
       "0                       is so sad for my APL friend.............                                                                          \n",
       "1                     I missed the New Moon trailer...                                                                                    \n",
       "2                omg its already 7:30 :O                                                                                                  \n",
       "3            .. Omgaga. Im sooo  im gunna CRy. I've been at this dentist since 11.. I was suposed 2 just get a crown put on (30mins)...   \n",
       "4           i think mi bf is cheating on me!!!       T_T                                                                                  \n",
       "5           or i just worry too much?                                                                                                     \n",
       "6         Juuuuuuuuuuuuuuuuussssst Chillin!!                                                                                              \n",
       "7         Sunny Again        Work Tomorrow  :-|       TV Tonight                                                                          \n",
       "8        handed in my uniform today . i miss you already                                                                                  \n",
       "9        hmmmm.... i wonder how she my number @-)                                                                                         \n",
       "\n",
       "                                                                                     processed_tweet  \\\n",
       "0   is so sad for my apl friend                                                                        \n",
       "1   missed the new moon trailer                                                                        \n",
       "2   omg its already                                                                                    \n",
       "3   omgaga im soo im gunna cry ve been at this dentist since was suposed just get crown put on mins    \n",
       "4   think mi bf is cheating on me t_t                                                                  \n",
       "5   or just worry too much                                                                             \n",
       "6   juusst chillin                                                                                     \n",
       "7   sunny again work tomorrow negetiveemoji tv tonight                                                 \n",
       "8   handed in my uniform today miss you already                                                        \n",
       "9   hmm wonder how she my number                                                                       \n",
       "\n",
       "                                                            clean_tweet  \n",
       "0   sad apl friend                                                       \n",
       "1   missed new moon trailer                                              \n",
       "2   omg already                                                          \n",
       "3   omgaga im soo im gunna cry dentist since suposed get crown put mins  \n",
       "4   think mi bf cheating t_t                                             \n",
       "5   worry much                                                           \n",
       "6   juusst chillin                                                       \n",
       "7   sunny work tomorrow negetiveemoji tv tonight                         \n",
       "8   handed uniform today miss already                                    \n",
       "9   hmm wonder number                                                    "
      ]
     },
     "execution_count": 206,
     "metadata": {},
     "output_type": "execute_result"
    }
   ],
   "source": [
    "import nltk\n",
    "nltk.download(\"stopwords\")\n",
    "\n",
    "processed_tweet = total_data.columns.values[3]\n",
    "\n",
    "total_data['clean_tweet'] = np.vectorize(stopwords_removal)(total_data[processed_tweet])\n",
    "\n",
    "total_data.head(10)"
   ]
  },
  {
   "cell_type": "markdown",
   "metadata": {},
   "source": [
    "### Example of stemming"
   ]
  },
  {
   "cell_type": "markdown",
   "metadata": {},
   "source": [
    "**Snowball Stemmer**"
   ]
  },
  {
   "cell_type": "code",
   "execution_count": 207,
   "metadata": {},
   "outputs": [],
   "source": [
    "def tweet_stemmer(tweet):\n",
    "    from nltk.stem import SnowballStemmer\n",
    "\n",
    "    snowball = SnowballStemmer(\"english\")\n",
    "\n",
    "    stemmed_tweet = \"\"\n",
    "    for w in tweet.split():\n",
    "        stemmed_tweet = stemmed_tweet +\" \"+snowball.stem(w)\n",
    "\n",
    "    return stemmed_tweet"
   ]
  },
  {
   "cell_type": "code",
   "execution_count": 208,
   "metadata": {},
   "outputs": [
    {
     "data": {
      "text/html": [
       "<div>\n",
       "<style scoped>\n",
       "    .dataframe tbody tr th:only-of-type {\n",
       "        vertical-align: middle;\n",
       "    }\n",
       "\n",
       "    .dataframe tbody tr th {\n",
       "        vertical-align: top;\n",
       "    }\n",
       "\n",
       "    .dataframe thead th {\n",
       "        text-align: right;\n",
       "    }\n",
       "</style>\n",
       "<table border=\"1\" class=\"dataframe\">\n",
       "  <thead>\n",
       "    <tr style=\"text-align: right;\">\n",
       "      <th></th>\n",
       "      <th>ItemID</th>\n",
       "      <th>Sentiment</th>\n",
       "      <th>SentimentText</th>\n",
       "      <th>processed_tweet</th>\n",
       "      <th>clean_tweet</th>\n",
       "      <th>snowball_stemmer</th>\n",
       "    </tr>\n",
       "  </thead>\n",
       "  <tbody>\n",
       "    <tr>\n",
       "      <th>0</th>\n",
       "      <td>1</td>\n",
       "      <td>0</td>\n",
       "      <td>is so sad for my APL friend.............</td>\n",
       "      <td>is so sad for my apl friend</td>\n",
       "      <td>sad apl friend</td>\n",
       "      <td>sad apl friend</td>\n",
       "    </tr>\n",
       "    <tr>\n",
       "      <th>1</th>\n",
       "      <td>2</td>\n",
       "      <td>0</td>\n",
       "      <td>I missed the New Moon trailer...</td>\n",
       "      <td>missed the new moon trailer</td>\n",
       "      <td>missed new moon trailer</td>\n",
       "      <td>miss new moon trailer</td>\n",
       "    </tr>\n",
       "    <tr>\n",
       "      <th>2</th>\n",
       "      <td>3</td>\n",
       "      <td>1</td>\n",
       "      <td>omg its already 7:30 :O</td>\n",
       "      <td>omg its already</td>\n",
       "      <td>omg already</td>\n",
       "      <td>omg alreadi</td>\n",
       "    </tr>\n",
       "    <tr>\n",
       "      <th>3</th>\n",
       "      <td>4</td>\n",
       "      <td>0</td>\n",
       "      <td>.. Omgaga. Im sooo  im gunna CRy. I've been at this dentist since 11.. I was suposed 2 just get a crown put on (30mins)...</td>\n",
       "      <td>omgaga im soo im gunna cry ve been at this dentist since was suposed just get crown put on mins</td>\n",
       "      <td>omgaga im soo im gunna cry dentist since suposed get crown put mins</td>\n",
       "      <td>omgaga im soo im gunna cri dentist sinc supos get crown put min</td>\n",
       "    </tr>\n",
       "    <tr>\n",
       "      <th>4</th>\n",
       "      <td>5</td>\n",
       "      <td>0</td>\n",
       "      <td>i think mi bf is cheating on me!!!       T_T</td>\n",
       "      <td>think mi bf is cheating on me t_t</td>\n",
       "      <td>think mi bf cheating t_t</td>\n",
       "      <td>think mi bf cheat t_t</td>\n",
       "    </tr>\n",
       "    <tr>\n",
       "      <th>5</th>\n",
       "      <td>6</td>\n",
       "      <td>0</td>\n",
       "      <td>or i just worry too much?</td>\n",
       "      <td>or just worry too much</td>\n",
       "      <td>worry much</td>\n",
       "      <td>worri much</td>\n",
       "    </tr>\n",
       "    <tr>\n",
       "      <th>6</th>\n",
       "      <td>7</td>\n",
       "      <td>1</td>\n",
       "      <td>Juuuuuuuuuuuuuuuuussssst Chillin!!</td>\n",
       "      <td>juusst chillin</td>\n",
       "      <td>juusst chillin</td>\n",
       "      <td>juusst chillin</td>\n",
       "    </tr>\n",
       "    <tr>\n",
       "      <th>7</th>\n",
       "      <td>8</td>\n",
       "      <td>0</td>\n",
       "      <td>Sunny Again        Work Tomorrow  :-|       TV Tonight</td>\n",
       "      <td>sunny again work tomorrow negetiveemoji tv tonight</td>\n",
       "      <td>sunny work tomorrow negetiveemoji tv tonight</td>\n",
       "      <td>sunni work tomorrow negetiveemoji tv tonight</td>\n",
       "    </tr>\n",
       "    <tr>\n",
       "      <th>8</th>\n",
       "      <td>9</td>\n",
       "      <td>1</td>\n",
       "      <td>handed in my uniform today . i miss you already</td>\n",
       "      <td>handed in my uniform today miss you already</td>\n",
       "      <td>handed uniform today miss already</td>\n",
       "      <td>hand uniform today miss alreadi</td>\n",
       "    </tr>\n",
       "    <tr>\n",
       "      <th>9</th>\n",
       "      <td>10</td>\n",
       "      <td>1</td>\n",
       "      <td>hmmmm.... i wonder how she my number @-)</td>\n",
       "      <td>hmm wonder how she my number</td>\n",
       "      <td>hmm wonder number</td>\n",
       "      <td>hmm wonder number</td>\n",
       "    </tr>\n",
       "  </tbody>\n",
       "</table>\n",
       "</div>"
      ],
      "text/plain": [
       "   ItemID  Sentiment  \\\n",
       "0  1       0           \n",
       "1  2       0           \n",
       "2  3       1           \n",
       "3  4       0           \n",
       "4  5       0           \n",
       "5  6       0           \n",
       "6  7       1           \n",
       "7  8       0           \n",
       "8  9       1           \n",
       "9  10      1           \n",
       "\n",
       "                                                                                                                          SentimentText  \\\n",
       "0                       is so sad for my APL friend.............                                                                          \n",
       "1                     I missed the New Moon trailer...                                                                                    \n",
       "2                omg its already 7:30 :O                                                                                                  \n",
       "3            .. Omgaga. Im sooo  im gunna CRy. I've been at this dentist since 11.. I was suposed 2 just get a crown put on (30mins)...   \n",
       "4           i think mi bf is cheating on me!!!       T_T                                                                                  \n",
       "5           or i just worry too much?                                                                                                     \n",
       "6         Juuuuuuuuuuuuuuuuussssst Chillin!!                                                                                              \n",
       "7         Sunny Again        Work Tomorrow  :-|       TV Tonight                                                                          \n",
       "8        handed in my uniform today . i miss you already                                                                                  \n",
       "9        hmmmm.... i wonder how she my number @-)                                                                                         \n",
       "\n",
       "                                                                                     processed_tweet  \\\n",
       "0   is so sad for my apl friend                                                                        \n",
       "1   missed the new moon trailer                                                                        \n",
       "2   omg its already                                                                                    \n",
       "3   omgaga im soo im gunna cry ve been at this dentist since was suposed just get crown put on mins    \n",
       "4   think mi bf is cheating on me t_t                                                                  \n",
       "5   or just worry too much                                                                             \n",
       "6   juusst chillin                                                                                     \n",
       "7   sunny again work tomorrow negetiveemoji tv tonight                                                 \n",
       "8   handed in my uniform today miss you already                                                        \n",
       "9   hmm wonder how she my number                                                                       \n",
       "\n",
       "                                                            clean_tweet  \\\n",
       "0   sad apl friend                                                        \n",
       "1   missed new moon trailer                                               \n",
       "2   omg already                                                           \n",
       "3   omgaga im soo im gunna cry dentist since suposed get crown put mins   \n",
       "4   think mi bf cheating t_t                                              \n",
       "5   worry much                                                            \n",
       "6   juusst chillin                                                        \n",
       "7   sunny work tomorrow negetiveemoji tv tonight                          \n",
       "8   handed uniform today miss already                                     \n",
       "9   hmm wonder number                                                     \n",
       "\n",
       "                                                   snowball_stemmer  \n",
       "0   sad apl friend                                                   \n",
       "1   miss new moon trailer                                            \n",
       "2   omg alreadi                                                      \n",
       "3   omgaga im soo im gunna cri dentist sinc supos get crown put min  \n",
       "4   think mi bf cheat t_t                                            \n",
       "5   worri much                                                       \n",
       "6   juusst chillin                                                   \n",
       "7   sunni work tomorrow negetiveemoji tv tonight                     \n",
       "8   hand uniform today miss alreadi                                  \n",
       "9   hmm wonder number                                                "
      ]
     },
     "execution_count": 208,
     "metadata": {},
     "output_type": "execute_result"
    }
   ],
   "source": [
    "clean_tweet = total_data.columns.values[4]\n",
    "\n",
    "total_data['snowball_stemmer'] = np.vectorize(tweet_stemmer)(total_data[clean_tweet])\n",
    "\n",
    "total_data.head(10)"
   ]
  },
  {
   "cell_type": "markdown",
   "metadata": {},
   "source": [
    "**Porter Stemmer**"
   ]
  },
  {
   "cell_type": "code",
   "execution_count": 209,
   "metadata": {},
   "outputs": [],
   "source": [
    "def tweet_porter_stemmer(tweet):\n",
    "    from nltk.stem import PorterStemmer\n",
    "\n",
    "    porter = PorterStemmer()\n",
    "\n",
    "    stemmed_porter_tweet = \"\"\n",
    "    for w in tweet.split():\n",
    "        stemmed_porter_tweet = stemmed_porter_tweet +\" \"+porter.stem(w)\n",
    "\n",
    "    return stemmed_porter_tweet"
   ]
  },
  {
   "cell_type": "code",
   "execution_count": 210,
   "metadata": {},
   "outputs": [
    {
     "data": {
      "text/html": [
       "<div>\n",
       "<style scoped>\n",
       "    .dataframe tbody tr th:only-of-type {\n",
       "        vertical-align: middle;\n",
       "    }\n",
       "\n",
       "    .dataframe tbody tr th {\n",
       "        vertical-align: top;\n",
       "    }\n",
       "\n",
       "    .dataframe thead th {\n",
       "        text-align: right;\n",
       "    }\n",
       "</style>\n",
       "<table border=\"1\" class=\"dataframe\">\n",
       "  <thead>\n",
       "    <tr style=\"text-align: right;\">\n",
       "      <th></th>\n",
       "      <th>ItemID</th>\n",
       "      <th>Sentiment</th>\n",
       "      <th>SentimentText</th>\n",
       "      <th>processed_tweet</th>\n",
       "      <th>clean_tweet</th>\n",
       "      <th>snowball_stemmer</th>\n",
       "      <th>porter_stemmer</th>\n",
       "    </tr>\n",
       "  </thead>\n",
       "  <tbody>\n",
       "    <tr>\n",
       "      <th>0</th>\n",
       "      <td>1</td>\n",
       "      <td>0</td>\n",
       "      <td>is so sad for my APL friend.............</td>\n",
       "      <td>is so sad for my apl friend</td>\n",
       "      <td>sad apl friend</td>\n",
       "      <td>sad apl friend</td>\n",
       "      <td>sad apl friend</td>\n",
       "    </tr>\n",
       "    <tr>\n",
       "      <th>1</th>\n",
       "      <td>2</td>\n",
       "      <td>0</td>\n",
       "      <td>I missed the New Moon trailer...</td>\n",
       "      <td>missed the new moon trailer</td>\n",
       "      <td>missed new moon trailer</td>\n",
       "      <td>miss new moon trailer</td>\n",
       "      <td>miss new moon trailer</td>\n",
       "    </tr>\n",
       "    <tr>\n",
       "      <th>2</th>\n",
       "      <td>3</td>\n",
       "      <td>1</td>\n",
       "      <td>omg its already 7:30 :O</td>\n",
       "      <td>omg its already</td>\n",
       "      <td>omg already</td>\n",
       "      <td>omg alreadi</td>\n",
       "      <td>omg alreadi</td>\n",
       "    </tr>\n",
       "    <tr>\n",
       "      <th>3</th>\n",
       "      <td>4</td>\n",
       "      <td>0</td>\n",
       "      <td>.. Omgaga. Im sooo  im gunna CRy. I've been at this dentist since 11.. I was suposed 2 just get a crown put on (30mins)...</td>\n",
       "      <td>omgaga im soo im gunna cry ve been at this dentist since was suposed just get crown put on mins</td>\n",
       "      <td>omgaga im soo im gunna cry dentist since suposed get crown put mins</td>\n",
       "      <td>omgaga im soo im gunna cri dentist sinc supos get crown put min</td>\n",
       "      <td>omgaga im soo im gunna cri dentist sinc supos get crown put min</td>\n",
       "    </tr>\n",
       "    <tr>\n",
       "      <th>4</th>\n",
       "      <td>5</td>\n",
       "      <td>0</td>\n",
       "      <td>i think mi bf is cheating on me!!!       T_T</td>\n",
       "      <td>think mi bf is cheating on me t_t</td>\n",
       "      <td>think mi bf cheating t_t</td>\n",
       "      <td>think mi bf cheat t_t</td>\n",
       "      <td>think mi bf cheat t_t</td>\n",
       "    </tr>\n",
       "    <tr>\n",
       "      <th>5</th>\n",
       "      <td>6</td>\n",
       "      <td>0</td>\n",
       "      <td>or i just worry too much?</td>\n",
       "      <td>or just worry too much</td>\n",
       "      <td>worry much</td>\n",
       "      <td>worri much</td>\n",
       "      <td>worri much</td>\n",
       "    </tr>\n",
       "    <tr>\n",
       "      <th>6</th>\n",
       "      <td>7</td>\n",
       "      <td>1</td>\n",
       "      <td>Juuuuuuuuuuuuuuuuussssst Chillin!!</td>\n",
       "      <td>juusst chillin</td>\n",
       "      <td>juusst chillin</td>\n",
       "      <td>juusst chillin</td>\n",
       "      <td>juusst chillin</td>\n",
       "    </tr>\n",
       "    <tr>\n",
       "      <th>7</th>\n",
       "      <td>8</td>\n",
       "      <td>0</td>\n",
       "      <td>Sunny Again        Work Tomorrow  :-|       TV Tonight</td>\n",
       "      <td>sunny again work tomorrow negetiveemoji tv tonight</td>\n",
       "      <td>sunny work tomorrow negetiveemoji tv tonight</td>\n",
       "      <td>sunni work tomorrow negetiveemoji tv tonight</td>\n",
       "      <td>sunni work tomorrow negetiveemoji tv tonight</td>\n",
       "    </tr>\n",
       "    <tr>\n",
       "      <th>8</th>\n",
       "      <td>9</td>\n",
       "      <td>1</td>\n",
       "      <td>handed in my uniform today . i miss you already</td>\n",
       "      <td>handed in my uniform today miss you already</td>\n",
       "      <td>handed uniform today miss already</td>\n",
       "      <td>hand uniform today miss alreadi</td>\n",
       "      <td>hand uniform today miss alreadi</td>\n",
       "    </tr>\n",
       "    <tr>\n",
       "      <th>9</th>\n",
       "      <td>10</td>\n",
       "      <td>1</td>\n",
       "      <td>hmmmm.... i wonder how she my number @-)</td>\n",
       "      <td>hmm wonder how she my number</td>\n",
       "      <td>hmm wonder number</td>\n",
       "      <td>hmm wonder number</td>\n",
       "      <td>hmm wonder number</td>\n",
       "    </tr>\n",
       "  </tbody>\n",
       "</table>\n",
       "</div>"
      ],
      "text/plain": [
       "   ItemID  Sentiment  \\\n",
       "0  1       0           \n",
       "1  2       0           \n",
       "2  3       1           \n",
       "3  4       0           \n",
       "4  5       0           \n",
       "5  6       0           \n",
       "6  7       1           \n",
       "7  8       0           \n",
       "8  9       1           \n",
       "9  10      1           \n",
       "\n",
       "                                                                                                                          SentimentText  \\\n",
       "0                       is so sad for my APL friend.............                                                                          \n",
       "1                     I missed the New Moon trailer...                                                                                    \n",
       "2                omg its already 7:30 :O                                                                                                  \n",
       "3            .. Omgaga. Im sooo  im gunna CRy. I've been at this dentist since 11.. I was suposed 2 just get a crown put on (30mins)...   \n",
       "4           i think mi bf is cheating on me!!!       T_T                                                                                  \n",
       "5           or i just worry too much?                                                                                                     \n",
       "6         Juuuuuuuuuuuuuuuuussssst Chillin!!                                                                                              \n",
       "7         Sunny Again        Work Tomorrow  :-|       TV Tonight                                                                          \n",
       "8        handed in my uniform today . i miss you already                                                                                  \n",
       "9        hmmmm.... i wonder how she my number @-)                                                                                         \n",
       "\n",
       "                                                                                     processed_tweet  \\\n",
       "0   is so sad for my apl friend                                                                        \n",
       "1   missed the new moon trailer                                                                        \n",
       "2   omg its already                                                                                    \n",
       "3   omgaga im soo im gunna cry ve been at this dentist since was suposed just get crown put on mins    \n",
       "4   think mi bf is cheating on me t_t                                                                  \n",
       "5   or just worry too much                                                                             \n",
       "6   juusst chillin                                                                                     \n",
       "7   sunny again work tomorrow negetiveemoji tv tonight                                                 \n",
       "8   handed in my uniform today miss you already                                                        \n",
       "9   hmm wonder how she my number                                                                       \n",
       "\n",
       "                                                            clean_tweet  \\\n",
       "0   sad apl friend                                                        \n",
       "1   missed new moon trailer                                               \n",
       "2   omg already                                                           \n",
       "3   omgaga im soo im gunna cry dentist since suposed get crown put mins   \n",
       "4   think mi bf cheating t_t                                              \n",
       "5   worry much                                                            \n",
       "6   juusst chillin                                                        \n",
       "7   sunny work tomorrow negetiveemoji tv tonight                          \n",
       "8   handed uniform today miss already                                     \n",
       "9   hmm wonder number                                                     \n",
       "\n",
       "                                                   snowball_stemmer  \\\n",
       "0   sad apl friend                                                    \n",
       "1   miss new moon trailer                                             \n",
       "2   omg alreadi                                                       \n",
       "3   omgaga im soo im gunna cri dentist sinc supos get crown put min   \n",
       "4   think mi bf cheat t_t                                             \n",
       "5   worri much                                                        \n",
       "6   juusst chillin                                                    \n",
       "7   sunni work tomorrow negetiveemoji tv tonight                      \n",
       "8   hand uniform today miss alreadi                                   \n",
       "9   hmm wonder number                                                 \n",
       "\n",
       "                                                     porter_stemmer  \n",
       "0   sad apl friend                                                   \n",
       "1   miss new moon trailer                                            \n",
       "2   omg alreadi                                                      \n",
       "3   omgaga im soo im gunna cri dentist sinc supos get crown put min  \n",
       "4   think mi bf cheat t_t                                            \n",
       "5   worri much                                                       \n",
       "6   juusst chillin                                                   \n",
       "7   sunni work tomorrow negetiveemoji tv tonight                     \n",
       "8   hand uniform today miss alreadi                                  \n",
       "9   hmm wonder number                                                "
      ]
     },
     "execution_count": 210,
     "metadata": {},
     "output_type": "execute_result"
    }
   ],
   "source": [
    "clean_tweet = total_data.columns.values[4]\n",
    "\n",
    "total_data['porter_stemmer'] = np.vectorize(tweet_porter_stemmer)(total_data[clean_tweet])\n",
    "\n",
    "total_data.head(10)"
   ]
  },
  {
   "cell_type": "markdown",
   "metadata": {},
   "source": [
    "### Example of Lemmatization"
   ]
  },
  {
   "cell_type": "markdown",
   "metadata": {},
   "source": [
    "**WordNet Lemmatizer**"
   ]
  },
  {
   "cell_type": "code",
   "execution_count": 211,
   "metadata": {},
   "outputs": [],
   "source": [
    "def tweet_lemmatizer(tweet):\n",
    "    from nltk import WordNetLemmatizer\n",
    "\n",
    "    lemma = WordNetLemmatizer()\n",
    "    \n",
    "    lemmatized_tweet = \"\"\n",
    "    \n",
    "    for w in tweet.split():\n",
    "        lemmatized_tweet = lemmatized_tweet+\" \"+lemma.lemmatize(w, pos='v')\n",
    "    return lemmatized_tweet"
   ]
  },
  {
   "cell_type": "code",
   "execution_count": 212,
   "metadata": {},
   "outputs": [
    {
     "data": {
      "text/html": [
       "<div>\n",
       "<style scoped>\n",
       "    .dataframe tbody tr th:only-of-type {\n",
       "        vertical-align: middle;\n",
       "    }\n",
       "\n",
       "    .dataframe tbody tr th {\n",
       "        vertical-align: top;\n",
       "    }\n",
       "\n",
       "    .dataframe thead th {\n",
       "        text-align: right;\n",
       "    }\n",
       "</style>\n",
       "<table border=\"1\" class=\"dataframe\">\n",
       "  <thead>\n",
       "    <tr style=\"text-align: right;\">\n",
       "      <th></th>\n",
       "      <th>ItemID</th>\n",
       "      <th>Sentiment</th>\n",
       "      <th>SentimentText</th>\n",
       "      <th>processed_tweet</th>\n",
       "      <th>clean_tweet</th>\n",
       "      <th>snowball_stemmer</th>\n",
       "      <th>porter_stemmer</th>\n",
       "      <th>wordnet_lemmatizer</th>\n",
       "    </tr>\n",
       "  </thead>\n",
       "  <tbody>\n",
       "    <tr>\n",
       "      <th>0</th>\n",
       "      <td>1</td>\n",
       "      <td>0</td>\n",
       "      <td>is so sad for my APL friend.............</td>\n",
       "      <td>is so sad for my apl friend</td>\n",
       "      <td>sad apl friend</td>\n",
       "      <td>sad apl friend</td>\n",
       "      <td>sad apl friend</td>\n",
       "      <td>sad apl friend</td>\n",
       "    </tr>\n",
       "    <tr>\n",
       "      <th>1</th>\n",
       "      <td>2</td>\n",
       "      <td>0</td>\n",
       "      <td>I missed the New Moon trailer...</td>\n",
       "      <td>missed the new moon trailer</td>\n",
       "      <td>missed new moon trailer</td>\n",
       "      <td>miss new moon trailer</td>\n",
       "      <td>miss new moon trailer</td>\n",
       "      <td>miss new moon trailer</td>\n",
       "    </tr>\n",
       "    <tr>\n",
       "      <th>2</th>\n",
       "      <td>3</td>\n",
       "      <td>1</td>\n",
       "      <td>omg its already 7:30 :O</td>\n",
       "      <td>omg its already</td>\n",
       "      <td>omg already</td>\n",
       "      <td>omg alreadi</td>\n",
       "      <td>omg alreadi</td>\n",
       "      <td>omg already</td>\n",
       "    </tr>\n",
       "    <tr>\n",
       "      <th>3</th>\n",
       "      <td>4</td>\n",
       "      <td>0</td>\n",
       "      <td>.. Omgaga. Im sooo  im gunna CRy. I've been at this dentist since 11.. I was suposed 2 just get a crown put on (30mins)...</td>\n",
       "      <td>omgaga im soo im gunna cry ve been at this dentist since was suposed just get crown put on mins</td>\n",
       "      <td>omgaga im soo im gunna cry dentist since suposed get crown put mins</td>\n",
       "      <td>omgaga im soo im gunna cri dentist sinc supos get crown put min</td>\n",
       "      <td>omgaga im soo im gunna cri dentist sinc supos get crown put min</td>\n",
       "      <td>omgaga im soo im gunna cry dentist since suposed get crown put mins</td>\n",
       "    </tr>\n",
       "    <tr>\n",
       "      <th>4</th>\n",
       "      <td>5</td>\n",
       "      <td>0</td>\n",
       "      <td>i think mi bf is cheating on me!!!       T_T</td>\n",
       "      <td>think mi bf is cheating on me t_t</td>\n",
       "      <td>think mi bf cheating t_t</td>\n",
       "      <td>think mi bf cheat t_t</td>\n",
       "      <td>think mi bf cheat t_t</td>\n",
       "      <td>think mi bf cheat t_t</td>\n",
       "    </tr>\n",
       "    <tr>\n",
       "      <th>5</th>\n",
       "      <td>6</td>\n",
       "      <td>0</td>\n",
       "      <td>or i just worry too much?</td>\n",
       "      <td>or just worry too much</td>\n",
       "      <td>worry much</td>\n",
       "      <td>worri much</td>\n",
       "      <td>worri much</td>\n",
       "      <td>worry much</td>\n",
       "    </tr>\n",
       "    <tr>\n",
       "      <th>6</th>\n",
       "      <td>7</td>\n",
       "      <td>1</td>\n",
       "      <td>Juuuuuuuuuuuuuuuuussssst Chillin!!</td>\n",
       "      <td>juusst chillin</td>\n",
       "      <td>juusst chillin</td>\n",
       "      <td>juusst chillin</td>\n",
       "      <td>juusst chillin</td>\n",
       "      <td>juusst chillin</td>\n",
       "    </tr>\n",
       "    <tr>\n",
       "      <th>7</th>\n",
       "      <td>8</td>\n",
       "      <td>0</td>\n",
       "      <td>Sunny Again        Work Tomorrow  :-|       TV Tonight</td>\n",
       "      <td>sunny again work tomorrow negetiveemoji tv tonight</td>\n",
       "      <td>sunny work tomorrow negetiveemoji tv tonight</td>\n",
       "      <td>sunni work tomorrow negetiveemoji tv tonight</td>\n",
       "      <td>sunni work tomorrow negetiveemoji tv tonight</td>\n",
       "      <td>sunny work tomorrow negetiveemoji tv tonight</td>\n",
       "    </tr>\n",
       "    <tr>\n",
       "      <th>8</th>\n",
       "      <td>9</td>\n",
       "      <td>1</td>\n",
       "      <td>handed in my uniform today . i miss you already</td>\n",
       "      <td>handed in my uniform today miss you already</td>\n",
       "      <td>handed uniform today miss already</td>\n",
       "      <td>hand uniform today miss alreadi</td>\n",
       "      <td>hand uniform today miss alreadi</td>\n",
       "      <td>hand uniform today miss already</td>\n",
       "    </tr>\n",
       "    <tr>\n",
       "      <th>9</th>\n",
       "      <td>10</td>\n",
       "      <td>1</td>\n",
       "      <td>hmmmm.... i wonder how she my number @-)</td>\n",
       "      <td>hmm wonder how she my number</td>\n",
       "      <td>hmm wonder number</td>\n",
       "      <td>hmm wonder number</td>\n",
       "      <td>hmm wonder number</td>\n",
       "      <td>hmm wonder number</td>\n",
       "    </tr>\n",
       "  </tbody>\n",
       "</table>\n",
       "</div>"
      ],
      "text/plain": [
       "   ItemID  Sentiment  \\\n",
       "0  1       0           \n",
       "1  2       0           \n",
       "2  3       1           \n",
       "3  4       0           \n",
       "4  5       0           \n",
       "5  6       0           \n",
       "6  7       1           \n",
       "7  8       0           \n",
       "8  9       1           \n",
       "9  10      1           \n",
       "\n",
       "                                                                                                                          SentimentText  \\\n",
       "0                       is so sad for my APL friend.............                                                                          \n",
       "1                     I missed the New Moon trailer...                                                                                    \n",
       "2                omg its already 7:30 :O                                                                                                  \n",
       "3            .. Omgaga. Im sooo  im gunna CRy. I've been at this dentist since 11.. I was suposed 2 just get a crown put on (30mins)...   \n",
       "4           i think mi bf is cheating on me!!!       T_T                                                                                  \n",
       "5           or i just worry too much?                                                                                                     \n",
       "6         Juuuuuuuuuuuuuuuuussssst Chillin!!                                                                                              \n",
       "7         Sunny Again        Work Tomorrow  :-|       TV Tonight                                                                          \n",
       "8        handed in my uniform today . i miss you already                                                                                  \n",
       "9        hmmmm.... i wonder how she my number @-)                                                                                         \n",
       "\n",
       "                                                                                     processed_tweet  \\\n",
       "0   is so sad for my apl friend                                                                        \n",
       "1   missed the new moon trailer                                                                        \n",
       "2   omg its already                                                                                    \n",
       "3   omgaga im soo im gunna cry ve been at this dentist since was suposed just get crown put on mins    \n",
       "4   think mi bf is cheating on me t_t                                                                  \n",
       "5   or just worry too much                                                                             \n",
       "6   juusst chillin                                                                                     \n",
       "7   sunny again work tomorrow negetiveemoji tv tonight                                                 \n",
       "8   handed in my uniform today miss you already                                                        \n",
       "9   hmm wonder how she my number                                                                       \n",
       "\n",
       "                                                            clean_tweet  \\\n",
       "0   sad apl friend                                                        \n",
       "1   missed new moon trailer                                               \n",
       "2   omg already                                                           \n",
       "3   omgaga im soo im gunna cry dentist since suposed get crown put mins   \n",
       "4   think mi bf cheating t_t                                              \n",
       "5   worry much                                                            \n",
       "6   juusst chillin                                                        \n",
       "7   sunny work tomorrow negetiveemoji tv tonight                          \n",
       "8   handed uniform today miss already                                     \n",
       "9   hmm wonder number                                                     \n",
       "\n",
       "                                                   snowball_stemmer  \\\n",
       "0   sad apl friend                                                    \n",
       "1   miss new moon trailer                                             \n",
       "2   omg alreadi                                                       \n",
       "3   omgaga im soo im gunna cri dentist sinc supos get crown put min   \n",
       "4   think mi bf cheat t_t                                             \n",
       "5   worri much                                                        \n",
       "6   juusst chillin                                                    \n",
       "7   sunni work tomorrow negetiveemoji tv tonight                      \n",
       "8   hand uniform today miss alreadi                                   \n",
       "9   hmm wonder number                                                 \n",
       "\n",
       "                                                     porter_stemmer  \\\n",
       "0   sad apl friend                                                    \n",
       "1   miss new moon trailer                                             \n",
       "2   omg alreadi                                                       \n",
       "3   omgaga im soo im gunna cri dentist sinc supos get crown put min   \n",
       "4   think mi bf cheat t_t                                             \n",
       "5   worri much                                                        \n",
       "6   juusst chillin                                                    \n",
       "7   sunni work tomorrow negetiveemoji tv tonight                      \n",
       "8   hand uniform today miss alreadi                                   \n",
       "9   hmm wonder number                                                 \n",
       "\n",
       "                                                     wordnet_lemmatizer  \n",
       "0   sad apl friend                                                       \n",
       "1   miss new moon trailer                                                \n",
       "2   omg already                                                          \n",
       "3   omgaga im soo im gunna cry dentist since suposed get crown put mins  \n",
       "4   think mi bf cheat t_t                                                \n",
       "5   worry much                                                           \n",
       "6   juusst chillin                                                       \n",
       "7   sunny work tomorrow negetiveemoji tv tonight                         \n",
       "8   hand uniform today miss already                                      \n",
       "9   hmm wonder number                                                    "
      ]
     },
     "execution_count": 212,
     "metadata": {},
     "output_type": "execute_result"
    }
   ],
   "source": [
    "clean_tweet = total_data.columns.values[4]\n",
    "\n",
    "total_data['wordnet_lemmatizer'] = np.vectorize(tweet_lemmatizer)(total_data[clean_tweet])\n",
    "\n",
    "total_data.head(10)"
   ]
  },
  {
   "cell_type": "markdown",
   "metadata": {},
   "source": [
    "**Lemmatization with textblob**"
   ]
  },
  {
   "cell_type": "code",
   "execution_count": 213,
   "metadata": {},
   "outputs": [],
   "source": [
    "def tweet_lemma_with_textblob(tweet):\n",
    "    from textblob import Word\n",
    "\n",
    "\n",
    "\n",
    "    lemma_with_textblob_tweet = \"\"\n",
    "    for w in tweet.split():\n",
    "        word_lemma = Word(w)\n",
    "        lemma_with_textblob_tweet = lemma_with_textblob_tweet +\" \"+word_lemma.lemmatize()\n",
    "\n",
    "    return lemma_with_textblob_tweet"
   ]
  },
  {
   "cell_type": "code",
   "execution_count": 214,
   "metadata": {
    "scrolled": false
   },
   "outputs": [
    {
     "data": {
      "text/html": [
       "<div>\n",
       "<style scoped>\n",
       "    .dataframe tbody tr th:only-of-type {\n",
       "        vertical-align: middle;\n",
       "    }\n",
       "\n",
       "    .dataframe tbody tr th {\n",
       "        vertical-align: top;\n",
       "    }\n",
       "\n",
       "    .dataframe thead th {\n",
       "        text-align: right;\n",
       "    }\n",
       "</style>\n",
       "<table border=\"1\" class=\"dataframe\">\n",
       "  <thead>\n",
       "    <tr style=\"text-align: right;\">\n",
       "      <th></th>\n",
       "      <th>ItemID</th>\n",
       "      <th>Sentiment</th>\n",
       "      <th>SentimentText</th>\n",
       "      <th>processed_tweet</th>\n",
       "      <th>clean_tweet</th>\n",
       "      <th>snowball_stemmer</th>\n",
       "      <th>porter_stemmer</th>\n",
       "      <th>wordnet_lemmatizer</th>\n",
       "      <th>textblob_lemmatizer</th>\n",
       "    </tr>\n",
       "  </thead>\n",
       "  <tbody>\n",
       "    <tr>\n",
       "      <th>0</th>\n",
       "      <td>1</td>\n",
       "      <td>0</td>\n",
       "      <td>is so sad for my APL friend.............</td>\n",
       "      <td>is so sad for my apl friend</td>\n",
       "      <td>sad apl friend</td>\n",
       "      <td>sad apl friend</td>\n",
       "      <td>sad apl friend</td>\n",
       "      <td>sad apl friend</td>\n",
       "      <td>sad apl friend</td>\n",
       "    </tr>\n",
       "    <tr>\n",
       "      <th>1</th>\n",
       "      <td>2</td>\n",
       "      <td>0</td>\n",
       "      <td>I missed the New Moon trailer...</td>\n",
       "      <td>missed the new moon trailer</td>\n",
       "      <td>missed new moon trailer</td>\n",
       "      <td>miss new moon trailer</td>\n",
       "      <td>miss new moon trailer</td>\n",
       "      <td>miss new moon trailer</td>\n",
       "      <td>missed new moon trailer</td>\n",
       "    </tr>\n",
       "    <tr>\n",
       "      <th>2</th>\n",
       "      <td>3</td>\n",
       "      <td>1</td>\n",
       "      <td>omg its already 7:30 :O</td>\n",
       "      <td>omg its already</td>\n",
       "      <td>omg already</td>\n",
       "      <td>omg alreadi</td>\n",
       "      <td>omg alreadi</td>\n",
       "      <td>omg already</td>\n",
       "      <td>omg already</td>\n",
       "    </tr>\n",
       "    <tr>\n",
       "      <th>3</th>\n",
       "      <td>4</td>\n",
       "      <td>0</td>\n",
       "      <td>.. Omgaga. Im sooo  im gunna CRy. I've been at this dentist since 11.. I was suposed 2 just get a crown put on (30mins)...</td>\n",
       "      <td>omgaga im soo im gunna cry ve been at this dentist since was suposed just get crown put on mins</td>\n",
       "      <td>omgaga im soo im gunna cry dentist since suposed get crown put mins</td>\n",
       "      <td>omgaga im soo im gunna cri dentist sinc supos get crown put min</td>\n",
       "      <td>omgaga im soo im gunna cri dentist sinc supos get crown put min</td>\n",
       "      <td>omgaga im soo im gunna cry dentist since suposed get crown put mins</td>\n",
       "      <td>omgaga im soo im gunna cry dentist since suposed get crown put min</td>\n",
       "    </tr>\n",
       "    <tr>\n",
       "      <th>4</th>\n",
       "      <td>5</td>\n",
       "      <td>0</td>\n",
       "      <td>i think mi bf is cheating on me!!!       T_T</td>\n",
       "      <td>think mi bf is cheating on me t_t</td>\n",
       "      <td>think mi bf cheating t_t</td>\n",
       "      <td>think mi bf cheat t_t</td>\n",
       "      <td>think mi bf cheat t_t</td>\n",
       "      <td>think mi bf cheat t_t</td>\n",
       "      <td>think mi bf cheating t_t</td>\n",
       "    </tr>\n",
       "  </tbody>\n",
       "</table>\n",
       "</div>"
      ],
      "text/plain": [
       "   ItemID  Sentiment  \\\n",
       "0  1       0           \n",
       "1  2       0           \n",
       "2  3       1           \n",
       "3  4       0           \n",
       "4  5       0           \n",
       "\n",
       "                                                                                                                          SentimentText  \\\n",
       "0                       is so sad for my APL friend.............                                                                          \n",
       "1                     I missed the New Moon trailer...                                                                                    \n",
       "2                omg its already 7:30 :O                                                                                                  \n",
       "3            .. Omgaga. Im sooo  im gunna CRy. I've been at this dentist since 11.. I was suposed 2 just get a crown put on (30mins)...   \n",
       "4           i think mi bf is cheating on me!!!       T_T                                                                                  \n",
       "\n",
       "                                                                                     processed_tweet  \\\n",
       "0   is so sad for my apl friend                                                                        \n",
       "1   missed the new moon trailer                                                                        \n",
       "2   omg its already                                                                                    \n",
       "3   omgaga im soo im gunna cry ve been at this dentist since was suposed just get crown put on mins    \n",
       "4   think mi bf is cheating on me t_t                                                                  \n",
       "\n",
       "                                                            clean_tweet  \\\n",
       "0   sad apl friend                                                        \n",
       "1   missed new moon trailer                                               \n",
       "2   omg already                                                           \n",
       "3   omgaga im soo im gunna cry dentist since suposed get crown put mins   \n",
       "4   think mi bf cheating t_t                                              \n",
       "\n",
       "                                                   snowball_stemmer  \\\n",
       "0   sad apl friend                                                    \n",
       "1   miss new moon trailer                                             \n",
       "2   omg alreadi                                                       \n",
       "3   omgaga im soo im gunna cri dentist sinc supos get crown put min   \n",
       "4   think mi bf cheat t_t                                             \n",
       "\n",
       "                                                     porter_stemmer  \\\n",
       "0   sad apl friend                                                    \n",
       "1   miss new moon trailer                                             \n",
       "2   omg alreadi                                                       \n",
       "3   omgaga im soo im gunna cri dentist sinc supos get crown put min   \n",
       "4   think mi bf cheat t_t                                             \n",
       "\n",
       "                                                     wordnet_lemmatizer  \\\n",
       "0   sad apl friend                                                        \n",
       "1   miss new moon trailer                                                 \n",
       "2   omg already                                                           \n",
       "3   omgaga im soo im gunna cry dentist since suposed get crown put mins   \n",
       "4   think mi bf cheat t_t                                                 \n",
       "\n",
       "                                                   textblob_lemmatizer  \n",
       "0   sad apl friend                                                      \n",
       "1   missed new moon trailer                                             \n",
       "2   omg already                                                         \n",
       "3   omgaga im soo im gunna cry dentist since suposed get crown put min  \n",
       "4   think mi bf cheating t_t                                            "
      ]
     },
     "execution_count": 214,
     "metadata": {},
     "output_type": "execute_result"
    }
   ],
   "source": [
    "clean_tweet = total_data.columns.values[4]\n",
    "\n",
    "total_data['textblob_lemmatizer'] = np.vectorize(tweet_lemma_with_textblob)(total_data[clean_tweet])\n",
    "\n",
    "total_data.head(5)"
   ]
  },
  {
   "cell_type": "markdown",
   "metadata": {},
   "source": [
    "## Step 2: Feature extraction (vectorization)"
   ]
  },
  {
   "cell_type": "markdown",
   "metadata": {},
   "source": [
    "Machine learning algorithms need to work with numbers. We have to convert the textual data into numbers without losing much of the information. \n",
    "\n",
    "One way to do such transformation is *Bag-Of-Words (BOW)* which gives a number to each word.\n"
   ]
  },
  {
   "cell_type": "code",
   "execution_count": 217,
   "metadata": {},
   "outputs": [],
   "source": [
    "# uncomment to use other configuration:\n",
    "\n",
    "# stopwords not removed, no stemming, no lemmatization\n",
    "tweets = total_data['processed_tweet']\n",
    "\n",
    "# stopwords removed,  no stemming, no lemmatization\n",
    "#tweets = total_data['clean_tweet']\n",
    "\n",
    "# stopwords removed, SnowballStemmer, no lemmatization\n",
    "#tweets = total_data['clean_stemmed_tweet']\n",
    "\n",
    "# stopwords removed, PorterStemmer, no lemmatization\n",
    "#tweets = total_data['clean_stemmed_porter_tweet']\n",
    "\n",
    "# stopwords removed, no stemming, WordNetLemmatizer\n",
    "#tweets = total_data['clean_lemmatized_tweet']\n",
    "\n",
    "# stopwords removed, no stemming, Lemmatizing with textblob\n",
    "#tweets = total_data['lemma_with_textblob_tweet']"
   ]
  },
  {
   "cell_type": "code",
   "execution_count": 218,
   "metadata": {},
   "outputs": [
    {
     "data": {
      "text/plain": [
       "99989"
      ]
     },
     "execution_count": 218,
     "metadata": {},
     "output_type": "execute_result"
    }
   ],
   "source": [
    "len(tweets)"
   ]
  },
  {
   "cell_type": "markdown",
   "metadata": {},
   "source": [
    "### Count Vectorizer"
   ]
  },
  {
   "cell_type": "markdown",
   "metadata": {},
   "source": [
    "**CountVectorizer** it counts the number of words in the document. It converts a collection of text documents to a matrix where the elements are the number of occurences of each word in the document.\n",
    "\n",
    "**CountVectorizer** gives equal weightage to all the words, i.e., a word weigth is equal to 1 if it is present in that doc else 0. "
   ]
  },
  {
   "cell_type": "code",
   "execution_count": 219,
   "metadata": {
    "ExecuteTime": {
     "end_time": "2019-07-12T17:38:07.937872Z",
     "start_time": "2019-07-12T17:37:59.151721Z"
    }
   },
   "outputs": [
    {
     "name": "stdout",
     "output_type": "stream",
     "text": [
      "<class 'scipy.sparse.csr.csr_matrix'>\n"
     ]
    }
   ],
   "source": [
    "#Import required libraries:\n",
    "from sklearn.feature_extraction.text import CountVectorizer\n",
    "\n",
    "count_vectorizer = CountVectorizer(ngram_range=(1,2))    # Unigram (single words) and Bigram (two consecutive words)\n",
    "final_vectorized_data = count_vectorizer.fit_transform(tweets)  \n",
    "\n",
    "print(type(final_vectorized_data))"
   ]
  },
  {
   "cell_type": "markdown",
   "metadata": {},
   "source": [
    "### TF-IDF \n",
    "\n",
    "**TF-IDF** (*Term-Frequency-Inverse-Document Frequency*) is different from CountVectorizer as it weights down the common words occuring in almost all the documents of the collection, while it gives more importance to the words that appear in a subset of documents (more discriminative terms). TF-IDF works by considering how frquent is the word in the doc **(TF)** and penalising these common words that appear in most of the documents of the collection **(IDF)**. The assumption is that *rare terms are awarded as they are more informative than frequent terms*\n",
    "\n",
    "![](assets/tfidf.png)\n"
   ]
  },
  {
   "cell_type": "code",
   "execution_count": 220,
   "metadata": {},
   "outputs": [],
   "source": [
    "from sklearn.feature_extraction.text import TfidfVectorizer \n",
    "\n",
    "tf_idf_vectorizer = TfidfVectorizer(use_idf = True, ngram_range=(1,3))\n",
    "final_vectorized_data_TFIDF = tf_idf_vectorizer.fit_transform(tweets)\n"
   ]
  },
  {
   "cell_type": "markdown",
   "metadata": {},
   "source": [
    "## Step 3: Sentiment Classification"
   ]
  },
  {
   "cell_type": "markdown",
   "metadata": {},
   "source": [
    "#### Splitting dataset into train and test sets:\n",
    "* **train set:** for training the model \n",
    "* **test set:** for testing the model's accuracy\n",
    "\n",
    "**test_size**: 20% of the whole dataset.\n",
    "**random_state**: Controls the shuffling applied to the data before applying the split.\n"
   ]
  },
  {
   "cell_type": "code",
   "execution_count": 221,
   "metadata": {
    "ExecuteTime": {
     "end_time": "2019-07-12T17:38:08.178963Z",
     "start_time": "2019-07-12T17:38:07.953247Z"
    }
   },
   "outputs": [],
   "source": [
    "#uncomment the lines to change vectorizer:\n",
    "\n",
    "#with CountVectorizer\n",
    "from sklearn.model_selection import train_test_split\n",
    "X_train, X_test, y_train, y_test = train_test_split(final_vectorized_data, total_data[sentiment],\n",
    "                                                     test_size=0.2, random_state=69)  \n",
    "\n",
    "#with TFIDF\n",
    "#X_train, X_test, y_train, y_test = train_test_split(final_vectorized_data_TFIDF, total_data[sentiment], \n",
    "#                                                    test_size=0.2, random_state=69)  \n"
   ]
  },
  {
   "cell_type": "markdown",
   "metadata": {},
   "source": [
    "**Printing splitted dataset sizes**"
   ]
  },
  {
   "cell_type": "code",
   "execution_count": 222,
   "metadata": {
    "ExecuteTime": {
     "end_time": "2019-07-12T17:38:08.191298Z",
     "start_time": "2019-07-12T17:38:08.182344Z"
    }
   },
   "outputs": [
    {
     "name": "stdout",
     "output_type": "stream",
     "text": [
      "X_train_shape:  (79991, 455478)\n",
      "X_test_shape:  (19998, 455478)\n",
      "y_train_shape:  (79991,)\n",
      "y_test_shape:  (19998,)\n"
     ]
    }
   ],
   "source": [
    "print(\"X_train_shape: \",X_train.shape)\n",
    "print(\"X_test_shape: \",X_test.shape)\n",
    "print(\"y_train_shape: \",y_train.shape)\n",
    "print(\"y_test_shape: \",y_test.shape)"
   ]
  },
  {
   "cell_type": "markdown",
   "metadata": {},
   "source": [
    "#### (3.2) Training the model and predicting with Naive Bayes\n",
    "\n",
    "Popular classifiers based on Naive Bayes are:\n",
    "\n",
    "* Bernoulli Naive Bayes\n",
    "* Gaussian Naive Bayes classifier\n",
    "* Multinomial Naive Bayes\n",
    "\n",
    "We are going to use **Multinomial Naive Bayes, Bernoulli Naive Bayes and Complement Naive Bayes**. \n",
    "\n",
    "**Bayes theorem:**\n",
    "![](assets/bayes_formula.jpg)"
   ]
  },
  {
   "cell_type": "markdown",
   "metadata": {},
   "source": [
    "**Multinomial Naive Bayes classifier**"
   ]
  },
  {
   "cell_type": "code",
   "execution_count": 223,
   "metadata": {
    "ExecuteTime": {
     "end_time": "2019-07-12T17:38:08.366853Z",
     "start_time": "2019-07-12T17:38:08.197718Z"
    }
   },
   "outputs": [],
   "source": [
    "from sklearn.naive_bayes import MultinomialNB  # Naive Bayes Classifier\n",
    "\n",
    "model_naive = MultinomialNB().fit(X_train, y_train) \n",
    "predicted_naive = model_naive.predict(X_test)"
   ]
  },
  {
   "cell_type": "markdown",
   "metadata": {},
   "source": [
    "**Bernoulli Naive Bayes classifier**"
   ]
  },
  {
   "cell_type": "code",
   "execution_count": 224,
   "metadata": {},
   "outputs": [],
   "source": [
    "from sklearn.naive_bayes import BernoulliNB  # Naive Bayes Classifier\n",
    "\n",
    "model_naive_Ber = BernoulliNB().fit(X_train, y_train) \n",
    "predicted_naive_Ber = model_naive_Ber.predict(X_test)"
   ]
  },
  {
   "cell_type": "markdown",
   "metadata": {},
   "source": [
    "**Complement Naive Bayes classifier**"
   ]
  },
  {
   "cell_type": "code",
   "execution_count": 225,
   "metadata": {},
   "outputs": [],
   "source": [
    "from sklearn.naive_bayes import ComplementNB  # Naive Bayes Classifier\n",
    "\n",
    "model_naive_Comp = ComplementNB().fit(X_train, y_train) \n",
    "predicted_naive_Comp = model_naive_Comp.predict(X_test)"
   ]
  },
  {
   "cell_type": "markdown",
   "metadata": {},
   "source": [
    "## Analyzing the results"
   ]
  },
  {
   "cell_type": "markdown",
   "metadata": {},
   "source": [
    "**Print Confusion matrix**\n",
    "\n",
    "The confusion_matrix function evaluates classification accuracy by computing the confusion matrix with each row corresponding to the true class."
   ]
  },
  {
   "cell_type": "markdown",
   "metadata": {},
   "source": [
    "**MultinomialNB confusion matrix**"
   ]
  },
  {
   "cell_type": "code",
   "execution_count": 226,
   "metadata": {
    "ExecuteTime": {
     "end_time": "2019-07-12T17:38:10.180262Z",
     "start_time": "2019-07-12T17:38:08.369829Z"
    },
    "scrolled": true
   },
   "outputs": [
    {
     "data": {
      "image/png": "[encoded data removed]",
      "text/plain": [
       "<Figure size 600x400 with 1 Axes>"
      ]
     },
     "metadata": {
      "needs_background": "light"
     },
     "output_type": "display_data"
    }
   ],
   "source": [
    "from sklearn.metrics import confusion_matrix\n",
    "\n",
    "plt.figure(dpi=100)\n",
    "mat = confusion_matrix(y_test, predicted_naive)\n",
    "sns.heatmap(mat.T, annot=True, fmt='d', cbar=False)\n",
    "\n",
    "plt.title('Confusion Matrix for Naive Bayes')\n",
    "plt.xlabel('true label')\n",
    "plt.ylabel('predicted label')\n",
    "plt.savefig(\"assets/confusion_matrix.png\")\n",
    "plt.show()"
   ]
  },
  {
   "cell_type": "markdown",
   "metadata": {},
   "source": [
    "**BernoulliNB confusion matrix**"
   ]
  },
  {
   "cell_type": "code",
   "execution_count": 227,
   "metadata": {},
   "outputs": [
    {
     "data": {
      "image/png": "[encoded data removed]",
      "text/plain": [
       "<Figure size 600x400 with 1 Axes>"
      ]
     },
     "metadata": {
      "needs_background": "light"
     },
     "output_type": "display_data"
    }
   ],
   "source": [
    "plt.figure(dpi=100)\n",
    "mat = confusion_matrix(y_test, predicted_naive_Ber)\n",
    "sns.heatmap(mat.T, annot=True, fmt='d', cbar=False)\n",
    "\n",
    "plt.title('Confusion Matrix for Naive Bayes Ber')\n",
    "plt.xlabel('true label')\n",
    "plt.ylabel('predicted label')\n",
    "plt.savefig(\"assets/confusion_matrix_Ber.png\")\n",
    "plt.show()"
   ]
  },
  {
   "cell_type": "markdown",
   "metadata": {},
   "source": [
    "**ComplementNB confusion matrix**"
   ]
  },
  {
   "cell_type": "code",
   "execution_count": 228,
   "metadata": {
    "scrolled": true
   },
   "outputs": [
    {
     "data": {
      "image/png": "[encoded data removed]",
      "text/plain": [
       "<Figure size 600x400 with 1 Axes>"
      ]
     },
     "metadata": {
      "needs_background": "light"
     },
     "output_type": "display_data"
    }
   ],
   "source": [
    "plt.figure(dpi=100)\n",
    "mat = confusion_matrix(y_test, predicted_naive_Comp)\n",
    "sns.heatmap(mat.T, annot=True, fmt='d', cbar=False)\n",
    "\n",
    "plt.title('Confusion Matrix for Naive Bayes Comp')\n",
    "plt.xlabel('true label')\n",
    "plt.ylabel('predicted label')\n",
    "plt.savefig(\"assets/confusion_matrix_Comp.png\")\n",
    "plt.show()"
   ]
  },
  {
   "cell_type": "markdown",
   "metadata": {},
   "source": [
    "**Computing the accuracy of our prediction**\n",
    "\n",
    "Accuracy = (TP + TN)/(TP + FP + TN + FN)\n",
    "- TP: true positive\n",
    "- TN: true negative\n",
    "- FP: false positive \n",
    "- FN: false negative"
   ]
  },
  {
   "cell_type": "code",
   "execution_count": 229,
   "metadata": {
    "ExecuteTime": {
     "end_time": "2019-07-12T17:38:10.269290Z",
     "start_time": "2019-07-12T17:38:10.251930Z"
    },
    "scrolled": true
   },
   "outputs": [
    {
     "name": "stdout",
     "output_type": "stream",
     "text": [
      "Accuracy with Multinomial Naive-bayes: 0.7678767876787679\n"
     ]
    }
   ],
   "source": [
    "from sklearn.metrics import accuracy_score\n",
    "\n",
    "score_naive = accuracy_score(predicted_naive, y_test)\n",
    "print(\"Accuracy with Multinomial Naive-bayes:\", score_naive)"
   ]
  },
  {
   "cell_type": "code",
   "execution_count": 230,
   "metadata": {},
   "outputs": [
    {
     "name": "stdout",
     "output_type": "stream",
     "text": [
      "Accuracy with Bernoulli Naive-bayes: 0.7203720372037203\n"
     ]
    }
   ],
   "source": [
    "#from sklearn.metrics import accuracy_score\n",
    "\n",
    "score_naive_Ber = accuracy_score(predicted_naive_Ber, y_test)\n",
    "print(\"Accuracy with Bernoulli Naive-bayes:\", score_naive_Ber)"
   ]
  },
  {
   "cell_type": "code",
   "execution_count": 231,
   "metadata": {},
   "outputs": [
    {
     "name": "stdout",
     "output_type": "stream",
     "text": [
      "Accuracy with Complement Naive-bayes: 0.7654265426542655\n"
     ]
    }
   ],
   "source": [
    "#from sklearn.metrics import accuracy_score\n",
    "\n",
    "score_naive_Comp = accuracy_score(predicted_naive_Comp, y_test)\n",
    "print(\"Accuracy with Complement Naive-bayes:\", score_naive_Comp)"
   ]
  },
  {
   "cell_type": "markdown",
   "metadata": {},
   "source": [
    "**Precision, recall, and accuracy**\n",
    "\n",
    "These are the standard metrics used to evaluate the performance of a classifier.\n",
    "\n",
    "* **Precision:** measures how many docs are predicted correctly as belonging to a given category out of all of the docs that are predicted (correctly and incorrectly) as belonging to the category. P = TP / (TP + FP)\n",
    "\n",
    "* **Recall:** measures how many texts were predicted correctly as belonging to a given category out of all the texts that should have been predicted as belonging to the category. We also know that the more data we feed our classifiers with, the better recall will be. R = TP / (TP + FN)\n",
    "\n",
    "* **Accuracy:** measures how many texts were predicted correctly (both as belonging to a category and not belonging to the category) out of all of the texts in the corpus. A = TP + TN / (TP + FP + TN + FN)\n",
    "\n",
    "**N.B. precision and recall are used to measure performance since accuracy alone does not say much about how good or bad a classifier is**"
   ]
  },
  {
   "cell_type": "markdown",
   "metadata": {},
   "source": [
    "**Multinomial Naive Bayes classifier**"
   ]
  },
  {
   "cell_type": "code",
   "execution_count": 232,
   "metadata": {
    "ExecuteTime": {
     "end_time": "2019-07-12T17:38:10.324849Z",
     "start_time": "2019-07-12T17:38:10.277228Z"
    },
    "scrolled": true
   },
   "outputs": [
    {
     "name": "stdout",
     "output_type": "stream",
     "text": [
      "              precision    recall  f1-score   support\n",
      "\n",
      "           0       0.73      0.73      0.73      8731\n",
      "           1       0.79      0.79      0.79     11267\n",
      "\n",
      "    accuracy                           0.77     19998\n",
      "   macro avg       0.76      0.76      0.76     19998\n",
      "weighted avg       0.77      0.77      0.77     19998\n",
      "\n"
     ]
    }
   ],
   "source": [
    "from sklearn.metrics import classification_report\n",
    "print(classification_report(y_test, predicted_naive))"
   ]
  },
  {
   "cell_type": "markdown",
   "metadata": {},
   "source": [
    "**Bernoulli Naive Bayes classifier**"
   ]
  },
  {
   "cell_type": "code",
   "execution_count": 233,
   "metadata": {},
   "outputs": [
    {
     "name": "stdout",
     "output_type": "stream",
     "text": [
      "              precision    recall  f1-score   support\n",
      "\n",
      "           0       0.76      0.52      0.62      8731\n",
      "           1       0.70      0.87      0.78     11267\n",
      "\n",
      "    accuracy                           0.72     19998\n",
      "   macro avg       0.73      0.70      0.70     19998\n",
      "weighted avg       0.73      0.72      0.71     19998\n",
      "\n"
     ]
    }
   ],
   "source": [
    "print(classification_report(y_test, predicted_naive_Ber))"
   ]
  },
  {
   "cell_type": "markdown",
   "metadata": {},
   "source": [
    "**Complement Naive Bayes classifier**"
   ]
  },
  {
   "cell_type": "code",
   "execution_count": 234,
   "metadata": {},
   "outputs": [
    {
     "name": "stdout",
     "output_type": "stream",
     "text": [
      "              precision    recall  f1-score   support\n",
      "\n",
      "           0       0.72      0.76      0.74      8731\n",
      "           1       0.81      0.77      0.79     11267\n",
      "\n",
      "    accuracy                           0.77     19998\n",
      "   macro avg       0.76      0.77      0.76     19998\n",
      "weighted avg       0.77      0.77      0.77     19998\n",
      "\n"
     ]
    }
   ],
   "source": [
    "print(classification_report(y_test, predicted_naive_Comp))"
   ]
  },
  {
   "cell_type": "markdown",
   "metadata": {},
   "source": [
    "## Visualizing results\n",
    "\n",
    "**Drawing ROC curve**"
   ]
  },
  {
   "cell_type": "code",
   "execution_count": 235,
   "metadata": {
    "ExecuteTime": {
     "end_time": "2019-07-12T17:38:12.331660Z",
     "start_time": "2019-07-12T17:38:10.327819Z"
    },
    "scrolled": false
   },
   "outputs": [
    {
     "data": {
      "image/png": "[encoded data removed]",
      "text/plain": [
       "<Figure size 600x400 with 1 Axes>"
      ]
     },
     "metadata": {
      "needs_background": "light"
     },
     "output_type": "display_data"
    }
   ],
   "source": [
    "from sklearn.metrics import roc_curve\n",
    "from sklearn.metrics import auc\n",
    "\n",
    "# calculate the fpr and tpr for all thresholds of the classification\n",
    "probs = model_naive.predict_proba(X_test)\n",
    "preds = probs[:,1]\n",
    "fpr, tpr, threshold = roc_curve(y_test, preds)\n",
    "roc_auc = auc(fpr, tpr)\n",
    "plt.figure(dpi=100)                       # to plot high quality graph\n",
    "plt.title('Receiver Operating Characteristic')\n",
    "plt.plot(fpr, tpr, 'b', label = 'AUC = %0.2f' % roc_auc)\n",
    "plt.legend(loc = 'lower right')\n",
    "plt.plot([0, 1], [0, 1],'r--')\n",
    "plt.ylabel('True Positive Rate', color='g')\n",
    "plt.xlabel('False Positive Rate', color='r')\n",
    "plt.savefig(\"assets/ROC_curve.png\")\n",
    "plt.show()"
   ]
  },
  {
   "cell_type": "code",
   "execution_count": 236,
   "metadata": {},
   "outputs": [
    {
     "data": {
      "image/png": "[encoded data removed]",
      "text/plain": [
       "<Figure size 600x400 with 1 Axes>"
      ]
     },
     "metadata": {
      "needs_background": "light"
     },
     "output_type": "display_data"
    }
   ],
   "source": [
    "from sklearn.metrics import roc_curve\n",
    "from sklearn.metrics import auc\n",
    "\n",
    "# calculate the fpr and tpr for all thresholds of the classification\n",
    "probs = model_naive_Ber.predict_proba(X_test)\n",
    "preds = probs[:,1]\n",
    "fpr, tpr, threshold = roc_curve(y_test, preds)\n",
    "roc_auc = auc(fpr, tpr)\n",
    "plt.figure(dpi=100)                       # to plot high quality graph\n",
    "plt.title('Receiver Operating Characteristic')\n",
    "plt.plot(fpr, tpr, 'b', label = 'AUC = %0.2f' % roc_auc)\n",
    "plt.legend(loc = 'lower right')\n",
    "plt.plot([0, 1], [0, 1],'r--')\n",
    "plt.ylabel('True Positive Rate', color='g')\n",
    "plt.xlabel('False Positive Rate', color='r')\n",
    "plt.savefig(\"assets/ROC_curve_Ber.png\")\n",
    "plt.show()"
   ]
  },
  {
   "cell_type": "code",
   "execution_count": 237,
   "metadata": {},
   "outputs": [
    {
     "data": {
      "image/png": "[encoded data removed]",
      "text/plain": [
       "<Figure size 600x400 with 1 Axes>"
      ]
     },
     "metadata": {
      "needs_background": "light"
     },
     "output_type": "display_data"
    }
   ],
   "source": [
    "from sklearn.metrics import roc_curve\n",
    "from sklearn.metrics import auc\n",
    "\n",
    "# calculate the fpr and tpr for all thresholds of the classification\n",
    "probs = model_naive_Comp.predict_proba(X_test)\n",
    "preds = probs[:,1]\n",
    "fpr, tpr, threshold = roc_curve(y_test, preds)\n",
    "roc_auc = auc(fpr, tpr)\n",
    "plt.figure(dpi=100)                       # to plot high quality graph\n",
    "plt.title('Receiver Operating Characteristic')\n",
    "plt.plot(fpr, tpr, 'b', label = 'AUC = %0.2f' % roc_auc)\n",
    "plt.legend(loc = 'lower right')\n",
    "plt.plot([0, 1], [0, 1],'r--')\n",
    "plt.ylabel('True Positive Rate', color='g')\n",
    "plt.xlabel('False Positive Rate', color='r')\n",
    "plt.savefig(\"assets/ROC_curve_Comp.png\")\n",
    "plt.show()"
   ]
  },
  {
   "cell_type": "markdown",
   "metadata": {},
   "source": [
    "## Conclusions\n",
    "\n",
    "In our analysis we compared the results achieved with different \n",
    "- classifiers: Multinomial Naive-Bayes, Bernoulli Naive-Bayes and Complement Naive-Bayes\n",
    "- approaches for vectorization: CountVectorizer vs. TF-IDF\n",
    "- approaches for tweet processing: \n",
    "  - *text normalization*: None, SnowballStemmer, PorterStemmer, WordNetLemmatizer, TextBlobLemmatizer\n",
    "  - with or without *stopword removal*\n",
    "\n",
    "In *Table 1*, we showed the accuracy rate for different combinations (vectorizer, stopwords, normalization). The results are highlighted by value (dark blue higher values)."
   ]
  },
  {
   "cell_type": "markdown",
   "metadata": {},
   "source": [
    "**Table 1**"
   ]
  },
  {
   "cell_type": "code",
   "execution_count": 238,
   "metadata": {
    "scrolled": true
   },
   "outputs": [
    {
     "data": {
      "text/html": [
       "<style type=\"text/css\">\n",
       "#T_3d086_row0_col3 {\n",
       "  background-color: #2351a2;\n",
       "  color: #f1f1f1;\n",
       "}\n",
       "#T_3d086_row0_col4 {\n",
       "  background-color: #50bbc2;\n",
       "  color: #000000;\n",
       "}\n",
       "#T_3d086_row0_col5 {\n",
       "  background-color: #2258a5;\n",
       "  color: #f1f1f1;\n",
       "}\n",
       "#T_3d086_row1_col3 {\n",
       "  background-color: #2da2c2;\n",
       "  color: #f1f1f1;\n",
       "}\n",
       "#T_3d086_row1_col4 {\n",
       "  background-color: #ddf2b2;\n",
       "  color: #000000;\n",
       "}\n",
       "#T_3d086_row1_col5 {\n",
       "  background-color: #234b9f;\n",
       "  color: #f1f1f1;\n",
       "}\n",
       "#T_3d086_row2_col3, #T_3d086_row4_col3 {\n",
       "  background-color: #259ac1;\n",
       "  color: #f1f1f1;\n",
       "}\n",
       "#T_3d086_row2_col4 {\n",
       "  background-color: #b9e4b5;\n",
       "  color: #000000;\n",
       "}\n",
       "#T_3d086_row2_col5 {\n",
       "  background-color: #2b9fc2;\n",
       "  color: #f1f1f1;\n",
       "}\n",
       "#T_3d086_row3_col3 {\n",
       "  background-color: #61c2bf;\n",
       "  color: #000000;\n",
       "}\n",
       "#T_3d086_row3_col4, #T_3d086_row7_col4, #T_3d086_row9_col4 {\n",
       "  background-color: #ffffd9;\n",
       "  color: #000000;\n",
       "}\n",
       "#T_3d086_row3_col5 {\n",
       "  background-color: #1d8ebf;\n",
       "  color: #f1f1f1;\n",
       "}\n",
       "#T_3d086_row4_col4, #T_3d086_row6_col4 {\n",
       "  background-color: #b0e0b6;\n",
       "  color: #000000;\n",
       "}\n",
       "#T_3d086_row4_col5 {\n",
       "  background-color: #299dc1;\n",
       "  color: #f1f1f1;\n",
       "}\n",
       "#T_3d086_row5_col3, #T_3d086_row9_col3 {\n",
       "  background-color: #5bc0c0;\n",
       "  color: #000000;\n",
       "}\n",
       "#T_3d086_row5_col4 {\n",
       "  background-color: #feffd8;\n",
       "  color: #000000;\n",
       "}\n",
       "#T_3d086_row5_col5, #T_3d086_row7_col5 {\n",
       "  background-color: #1d91c0;\n",
       "  color: #f1f1f1;\n",
       "}\n",
       "#T_3d086_row6_col3 {\n",
       "  background-color: #289cc1;\n",
       "  color: #f1f1f1;\n",
       "}\n",
       "#T_3d086_row6_col5, #T_3d086_row8_col5 {\n",
       "  background-color: #2a9ec1;\n",
       "  color: #f1f1f1;\n",
       "}\n",
       "#T_3d086_row7_col3 {\n",
       "  background-color: #5dc0c0;\n",
       "  color: #000000;\n",
       "}\n",
       "#T_3d086_row8_col3 {\n",
       "  background-color: #2195c0;\n",
       "  color: #f1f1f1;\n",
       "}\n",
       "#T_3d086_row8_col4 {\n",
       "  background-color: #bbe4b5;\n",
       "  color: #000000;\n",
       "}\n",
       "#T_3d086_row9_col5 {\n",
       "  background-color: #1e8abd;\n",
       "  color: #f1f1f1;\n",
       "}\n",
       "</style>\n",
       "<table id=\"T_3d086\">\n",
       "  <thead>\n",
       "    <tr>\n",
       "      <th class=\"blank level0\" >&nbsp;</th>\n",
       "      <th id=\"T_3d086_level0_col0\" class=\"col_heading level0 col0\" >Normalization</th>\n",
       "      <th id=\"T_3d086_level0_col1\" class=\"col_heading level0 col1\" >Stop Words</th>\n",
       "      <th id=\"T_3d086_level0_col2\" class=\"col_heading level0 col2\" >Vectorizer</th>\n",
       "      <th id=\"T_3d086_level0_col3\" class=\"col_heading level0 col3\" >Accuracy MultinomialNB</th>\n",
       "      <th id=\"T_3d086_level0_col4\" class=\"col_heading level0 col4\" >Accuracy BernoulliNB</th>\n",
       "      <th id=\"T_3d086_level0_col5\" class=\"col_heading level0 col5\" >Accuracy ComplementNB</th>\n",
       "    </tr>\n",
       "  </thead>\n",
       "  <tbody>\n",
       "    <tr>\n",
       "      <th id=\"T_3d086_level0_row0\" class=\"row_heading level0 row0\" >0</th>\n",
       "      <td id=\"T_3d086_row0_col0\" class=\"data row0 col0\" >None</td>\n",
       "      <td id=\"T_3d086_row0_col1\" class=\"data row0 col1\" >No</td>\n",
       "      <td id=\"T_3d086_row0_col2\" class=\"data row0 col2\" >Count</td>\n",
       "      <td id=\"T_3d086_row0_col3\" class=\"data row0 col3\" >0.767877</td>\n",
       "      <td id=\"T_3d086_row0_col4\" class=\"data row0 col4\" >0.720372</td>\n",
       "      <td id=\"T_3d086_row0_col5\" class=\"data row0 col5\" >0.765427</td>\n",
       "    </tr>\n",
       "    <tr>\n",
       "      <th id=\"T_3d086_level0_row1\" class=\"row_heading level0 row1\" >1</th>\n",
       "      <td id=\"T_3d086_row1_col0\" class=\"data row1 col0\" >None</td>\n",
       "      <td id=\"T_3d086_row1_col1\" class=\"data row1 col1\" >No</td>\n",
       "      <td id=\"T_3d086_row1_col2\" class=\"data row1 col2\" >Tf-Idf</td>\n",
       "      <td id=\"T_3d086_row1_col3\" class=\"data row1 col3\" >0.735524</td>\n",
       "      <td id=\"T_3d086_row1_col4\" class=\"data row1 col4\" >0.676518</td>\n",
       "      <td id=\"T_3d086_row1_col5\" class=\"data row1 col5\" >0.770727</td>\n",
       "    </tr>\n",
       "    <tr>\n",
       "      <th id=\"T_3d086_level0_row2\" class=\"row_heading level0 row2\" >2</th>\n",
       "      <td id=\"T_3d086_row2_col0\" class=\"data row2 col0\" >WordNetLemmatizer</td>\n",
       "      <td id=\"T_3d086_row2_col1\" class=\"data row2 col1\" >Yes</td>\n",
       "      <td id=\"T_3d086_row2_col2\" class=\"data row2 col2\" >Count</td>\n",
       "      <td id=\"T_3d086_row2_col3\" class=\"data row2 col3\" >0.739624</td>\n",
       "      <td id=\"T_3d086_row2_col4\" class=\"data row2 col4\" >0.691169</td>\n",
       "      <td id=\"T_3d086_row2_col5\" class=\"data row2 col5\" >0.736474</td>\n",
       "    </tr>\n",
       "    <tr>\n",
       "      <th id=\"T_3d086_level0_row3\" class=\"row_heading level0 row3\" >3</th>\n",
       "      <td id=\"T_3d086_row3_col0\" class=\"data row3 col0\" >WordNetLemmatizer</td>\n",
       "      <td id=\"T_3d086_row3_col1\" class=\"data row3 col1\" >Yes</td>\n",
       "      <td id=\"T_3d086_row3_col2\" class=\"data row3 col2\" >Tf-Idf</td>\n",
       "      <td id=\"T_3d086_row3_col3\" class=\"data row3 col3\" >0.715272</td>\n",
       "      <td id=\"T_3d086_row3_col4\" class=\"data row3 col4\" >0.649965</td>\n",
       "      <td id=\"T_3d086_row3_col5\" class=\"data row3 col5\" >0.744574</td>\n",
       "    </tr>\n",
       "    <tr>\n",
       "      <th id=\"T_3d086_level0_row4\" class=\"row_heading level0 row4\" >4</th>\n",
       "      <td id=\"T_3d086_row4_col0\" class=\"data row4 col0\" >SnowballStemmer</td>\n",
       "      <td id=\"T_3d086_row4_col1\" class=\"data row4 col1\" >Yes</td>\n",
       "      <td id=\"T_3d086_row4_col2\" class=\"data row4 col2\" >Count</td>\n",
       "      <td id=\"T_3d086_row4_col3\" class=\"data row4 col3\" >0.739124</td>\n",
       "      <td id=\"T_3d086_row4_col4\" class=\"data row4 col4\" >0.693769</td>\n",
       "      <td id=\"T_3d086_row4_col5\" class=\"data row4 col5\" >0.737324</td>\n",
       "    </tr>\n",
       "    <tr>\n",
       "      <th id=\"T_3d086_level0_row5\" class=\"row_heading level0 row5\" >5</th>\n",
       "      <td id=\"T_3d086_row5_col0\" class=\"data row5 col0\" >SnowballStemmer</td>\n",
       "      <td id=\"T_3d086_row5_col1\" class=\"data row5 col1\" >Yes</td>\n",
       "      <td id=\"T_3d086_row5_col2\" class=\"data row5 col2\" >Tf-Idf</td>\n",
       "      <td id=\"T_3d086_row5_col3\" class=\"data row5 col3\" >0.717122</td>\n",
       "      <td id=\"T_3d086_row5_col4\" class=\"data row5 col4\" >0.651065</td>\n",
       "      <td id=\"T_3d086_row5_col5\" class=\"data row5 col5\" >0.743724</td>\n",
       "    </tr>\n",
       "    <tr>\n",
       "      <th id=\"T_3d086_level0_row6\" class=\"row_heading level0 row6\" >6</th>\n",
       "      <td id=\"T_3d086_row6_col0\" class=\"data row6 col0\" >PorterStemming</td>\n",
       "      <td id=\"T_3d086_row6_col1\" class=\"data row6 col1\" >Yes</td>\n",
       "      <td id=\"T_3d086_row6_col2\" class=\"data row6 col2\" >Count</td>\n",
       "      <td id=\"T_3d086_row6_col3\" class=\"data row6 col3\" >0.738274</td>\n",
       "      <td id=\"T_3d086_row6_col4\" class=\"data row6 col4\" >0.693619</td>\n",
       "      <td id=\"T_3d086_row6_col5\" class=\"data row6 col5\" >0.736874</td>\n",
       "    </tr>\n",
       "    <tr>\n",
       "      <th id=\"T_3d086_level0_row7\" class=\"row_heading level0 row7\" >7</th>\n",
       "      <td id=\"T_3d086_row7_col0\" class=\"data row7 col0\" >PorterStemming</td>\n",
       "      <td id=\"T_3d086_row7_col1\" class=\"data row7 col1\" >Yes</td>\n",
       "      <td id=\"T_3d086_row7_col2\" class=\"data row7 col2\" >Tf-Idf</td>\n",
       "      <td id=\"T_3d086_row7_col3\" class=\"data row7 col3\" >0.716722</td>\n",
       "      <td id=\"T_3d086_row7_col4\" class=\"data row7 col4\" >0.650465</td>\n",
       "      <td id=\"T_3d086_row7_col5\" class=\"data row7 col5\" >0.743574</td>\n",
       "    </tr>\n",
       "    <tr>\n",
       "      <th id=\"T_3d086_level0_row8\" class=\"row_heading level0 row8\" >8</th>\n",
       "      <td id=\"T_3d086_row8_col0\" class=\"data row8 col0\" >TextBlobLemmatizer</td>\n",
       "      <td id=\"T_3d086_row8_col1\" class=\"data row8 col1\" >Yes</td>\n",
       "      <td id=\"T_3d086_row8_col2\" class=\"data row8 col2\" >Count</td>\n",
       "      <td id=\"T_3d086_row8_col3\" class=\"data row8 col3\" >0.741524</td>\n",
       "      <td id=\"T_3d086_row8_col4\" class=\"data row8 col4\" >0.690869</td>\n",
       "      <td id=\"T_3d086_row8_col5\" class=\"data row8 col5\" >0.737124</td>\n",
       "    </tr>\n",
       "    <tr>\n",
       "      <th id=\"T_3d086_level0_row9\" class=\"row_heading level0 row9\" >9</th>\n",
       "      <td id=\"T_3d086_row9_col0\" class=\"data row9 col0\" >TextBlobLemmatizer</td>\n",
       "      <td id=\"T_3d086_row9_col1\" class=\"data row9 col1\" >Yes</td>\n",
       "      <td id=\"T_3d086_row9_col2\" class=\"data row9 col2\" >Tf-Idf</td>\n",
       "      <td id=\"T_3d086_row9_col3\" class=\"data row9 col3\" >0.717072</td>\n",
       "      <td id=\"T_3d086_row9_col4\" class=\"data row9 col4\" >0.648815</td>\n",
       "      <td id=\"T_3d086_row9_col5\" class=\"data row9 col5\" >0.746425</td>\n",
       "    </tr>\n",
       "  </tbody>\n",
       "</table>\n"
      ],
      "text/plain": [
       "<pandas.io.formats.style.Styler at 0x160f4d63490>"
      ]
     },
     "execution_count": 238,
     "metadata": {},
     "output_type": "execute_result"
    }
   ],
   "source": [
    "\n",
    "results = {'Normalization': [\"None\", \"None\", \"WordNetLemmatizer\", \"WordNetLemmatizer\", \"SnowballStemmer\", \"SnowballStemmer\", \"PorterStemming\", \"PorterStemming\", \"TextBlobLemmatizer\", \"TextBlobLemmatizer\"],\n",
    "        'Stop Words': [\"No\", \"No\", \"Yes\", \"Yes\",\"Yes\", \"Yes\",\"Yes\", \"Yes\", \"Yes\", \"Yes\"],\n",
    "        'Vectorizer': [\"Count\", \"Tf-Idf\", \"Count\", \"Tf-Idf\", \"Count\", \"Tf-Idf\", \"Count\", \"Tf-Idf\", \"Count\", \"Tf-Idf\"],\n",
    "           \n",
    "        'Accuracy MultinomialNB': [0.7678767876787679, 0.7355235523552355,  0.7396239623962396\n",
    "                                   , 0.7152715271527152, 0.7391239123912391, 0.7171217121712171, \n",
    "                                   0.7382738273827383, 0.7167216721672167, 0.7415241524152415, 0.7170717071707171],\n",
    "           \n",
    "        'Accuracy BernoulliNB': [0.7203720372037203 , 0.6765176517651765, 0.6911691169116911, \n",
    "                                 0.64996499649965, 0.6937693769376938, 0.6510651065106511, \n",
    "                                 0.6936193619361937, 0.6504650465046504, 0.6908690869086909, 0.6488148814881488],\n",
    "           \n",
    "        'Accuracy ComplementNB': [0.7654265426542655, 0.7707270727072707, 0.7364736473647365, \n",
    "                                  0.7445744574457446, 0.7373237323732373, 0.7437243724372438, \n",
    "                                  0.7368736873687368, 0.7435743574357436, 0.7371237123712371, 0.7464246424642464 ]\n",
    "          }\n",
    "\n",
    "df = pd.DataFrame(results)\n",
    "\n",
    "def make_pretty(styler):\n",
    "    styler.background_gradient(axis=None, vmin=0.65, vmax=0.8, cmap=\"YlGnBu\")\n",
    "    return styler\n",
    "\n",
    "df.style.pipe(make_pretty)\n"
   ]
  },
  {
   "cell_type": "markdown",
   "metadata": {},
   "source": [
    "**Bar-chart**\n",
    "\n",
    "In the bar-chart we showed the same results in Table 1 in order to highlight the different results obtained with CountVectorizer and TFIDF for each classifier"
   ]
  },
  {
   "cell_type": "code",
   "execution_count": 239,
   "metadata": {},
   "outputs": [
    {
     "data": {
      "image/png": "[encoded data removed]",
      "text/plain": [
       "<Figure size 1296x720 with 3 Axes>"
      ]
     },
     "metadata": {
      "needs_background": "light"
     },
     "output_type": "display_data"
    }
   ],
   "source": [
    "fig, axes = plt.subplots(1, 3, figsize=(18, 10), sharey=True)\n",
    "fig.suptitle('Comparing results')\n",
    "\n",
    "\n",
    "a = sns.barplot(ax=axes[0], y=\"Normalization\", x=\"Accuracy MultinomialNB\", hue=\"Vectorizer\", data=results, orient=\"h\", palette=\"YlGnBu\")\n",
    "a.legend_.remove()\n",
    "a.set(xlim=(0,1))\n",
    "axes[0].set_title(\"MultinomialNB\")\n",
    "for container in a.containers:\n",
    "    a.bar_label(container)\n",
    "\n",
    "b = sns.barplot(ax=axes[1], y=\"Normalization\", x=\"Accuracy BernoulliNB\", hue=\"Vectorizer\", data=results, orient=\"h\", palette=\"YlGnBu\")\n",
    "b.legend_.remove()\n",
    "b.set(xlim=(0,1))\n",
    "axes[1].set_title(\"BernoulliNB\")\n",
    "for container in b.containers:\n",
    "    b.bar_label(container)\n",
    "\n",
    "c = sns.barplot(ax=axes[2], y=\"Normalization\", x=\"Accuracy ComplementNB\", hue=\"Vectorizer\", data=results, orient=\"h\", palette=\"YlGnBu\")\n",
    "c.legend_.remove()\n",
    "c.set(xlim=(0,1))\n",
    "axes[2].set_title(\"ComplementNB\")\n",
    "for container in c.containers:\n",
    "    c.bar_label(container)\n",
    "    \n",
    "c.legend(bbox_to_anchor=(1.02, 1), loc='upper left', borderaxespad=0)\n",
    "plt.savefig(\"assets/Compare_results.png\")\n",
    "    "
   ]
  },
  {
   "cell_type": "markdown",
   "metadata": {},
   "source": [
    "#### Results\n",
    "\n",
    "It seems that the best combination for sentiment analysis with the Twitter dataset is using\n",
    "\n",
    "* **Without normalization (no Stemming or Lemmatizing)**\n",
    "* **Without stopwords removal**\n",
    "* **Tf-Idf Vectorizer**\n",
    "\n",
    "**Leaderboard Highest : 0.79249**\n",
    "**Multinomial Naive model : 0.76788**\n",
    "**Complement Naive model : 0.770727**\n",
    " \n",
    "As shown in Table 1, Multinomial and Complement approaches seem to produce better accuracy score than the Bernoulli's one.\n",
    "\n",
    "We also observed that the Complement algorithm seems to be less affected by the vectorizer model.\n",
    "\n",
    "For both types of Vectorizer we noticed an higher accuracy score when no stepword or normalization are used. \n",
    "\n",
    "Usually, for document analysis the best combination will include lemmatization, stopwords removal, etc. In sentiment analysis, we can see that they aren't providing edge over the raw data. \n",
    "\n"
   ]
  },
  {
   "cell_type": "markdown",
   "metadata": {},
   "source": [
    "## Other Analysis on positive/negative tweets"
   ]
  },
  {
   "cell_type": "markdown",
   "metadata": {},
   "source": [
    "**Showing statistics**"
   ]
  },
  {
   "cell_type": "code",
   "execution_count": 245,
   "metadata": {},
   "outputs": [
    {
     "data": {
      "text/plain": [
       "0        0\n",
       "1        0\n",
       "2        1\n",
       "3        0\n",
       "4        0\n",
       "        ..\n",
       "99984    0\n",
       "99985    1\n",
       "99986    0\n",
       "99987    1\n",
       "99988    1\n",
       "Name: Sentiment, Length: 99989, dtype: int64"
      ]
     },
     "execution_count": 245,
     "metadata": {},
     "output_type": "execute_result"
    }
   ],
   "source": [
    "total_data[sentiment]"
   ]
  },
  {
   "cell_type": "markdown",
   "metadata": {},
   "source": [
    "**Test-set sentiment distribution**"
   ]
  },
  {
   "cell_type": "code",
   "execution_count": 295,
   "metadata": {},
   "outputs": [
    {
     "data": {
      "image/png": "[encoded data removed]",
      "text/plain": [
       "<Figure size 432x288 with 1 Axes>"
      ]
     },
     "metadata": {},
     "output_type": "display_data"
    },
    {
     "name": "stdout",
     "output_type": "stream",
     "text": [
      "19998\n"
     ]
    }
   ],
   "source": [
    "sentiments = ['Positive', 'Negative'] \n",
    "plt.rcParams['font.size'] = 14.0\n",
    "#1 for positive and 0 for negative sentiment\n",
    "slices = [(y_test != 0).sum(), (y_test == 0).sum()] \n",
    "#colors = ['y', 'c'] \n",
    "plt.pie(slices, labels = sentiments, startangle=90, shadow = True,\n",
    "        explode = (0, 0.1), radius = 1.5, autopct = '%1.2f%%') \n",
    "#plt.legend()\n",
    "plt.savefig(\"pie_ytest.png\")\n",
    "plt.show() \n",
    "print(len(y_test))"
   ]
  },
  {
   "cell_type": "markdown",
   "metadata": {},
   "source": [
    "**MultinomiaNB predicted sentiment distribution**\n",
    "\n",
    "Comparing this result with the graph above, obtained using the test-set data, we observed the same distribution of the sentiment behavior; this aspect is confirmed by the confusion matrix showed before which return an equal count of FP and FN. "
   ]
  },
  {
   "cell_type": "code",
   "execution_count": 287,
   "metadata": {},
   "outputs": [
    {
     "data": {
      "image/png": "[encoded data removed]",
      "text/plain": [
       "<Figure size 432x288 with 1 Axes>"
      ]
     },
     "metadata": {},
     "output_type": "display_data"
    },
    {
     "name": "stdout",
     "output_type": "stream",
     "text": [
      "19998\n"
     ]
    }
   ],
   "source": [
    "sentiments = ['Positive', 'Negative'] \n",
    "#1 for positive and 0 for negative sentiment\n",
    "slices = [(predicted_naive != 0).sum(), (predicted_naive == 0).sum()] \n",
    "#colors = ['g', 'r'] \n",
    "plt.pie(slices, labels = sentiments, startangle=90, shadow = True,\n",
    "        explode = (0, 0.1), radius = 1.5, autopct = '%1.2f%%') \n",
    "#plt.legend()\n",
    "plt.savefig(\"pie_Multinomial.png\")\n",
    "plt.show() \n",
    "print(len(predicted_naive))"
   ]
  },
  {
   "cell_type": "markdown",
   "metadata": {},
   "source": [
    "**BernoulliNB predicted sentiment distribution**\n",
    "\n",
    "The Bernoulli approach seems to overestimate the number of positive sentiment. "
   ]
  },
  {
   "cell_type": "code",
   "execution_count": 288,
   "metadata": {},
   "outputs": [
    {
     "data": {
      "image/png": "[encoded data removed]",
      "text/plain": [
       "<Figure size 432x288 with 1 Axes>"
      ]
     },
     "metadata": {},
     "output_type": "display_data"
    },
    {
     "name": "stdout",
     "output_type": "stream",
     "text": [
      "19998\n"
     ]
    }
   ],
   "source": [
    "sentiments = ['Positive', 'Negative'] \n",
    "#1 for positive and 0 for negative sentiment\n",
    "slices = [(predicted_naive_Ber != 0).sum(), (predicted_naive_Ber == 0).sum()] \n",
    "#colors = ['g', 'r'] \n",
    "plt.pie(slices, labels = sentiments, startangle=90, shadow = True,\n",
    "        explode = (0, 0.1), radius = 1.5, autopct = '%1.2f%%') \n",
    "plt.savefig(\"pie_Bernoulli.png\")\n",
    "plt.show() \n",
    "print(len(predicted_naive_Ber))"
   ]
  },
  {
   "cell_type": "markdown",
   "metadata": {},
   "source": [
    "**ComplementNB predicted sentiment distribution**\n",
    "\n",
    "In this last case, the result is close to the Multinomial's one."
   ]
  },
  {
   "cell_type": "code",
   "execution_count": 289,
   "metadata": {},
   "outputs": [
    {
     "data": {
      "image/png": "[encoded data removed]",
      "text/plain": [
       "<Figure size 432x288 with 1 Axes>"
      ]
     },
     "metadata": {},
     "output_type": "display_data"
    },
    {
     "name": "stdout",
     "output_type": "stream",
     "text": [
      "19998\n"
     ]
    }
   ],
   "source": [
    "sentiments = ['Positive', 'Negative'] \n",
    "#1 for positive and 0 for negative sentiment\n",
    "slices = [(predicted_naive_Comp != 0).sum(), (predicted_naive_Comp == 0).sum()] \n",
    "#colors = ['g', 'r'] \n",
    "plt.pie(slices, labels = sentiments, startangle=90, shadow = True,\n",
    "        explode = (0, 0.1), radius = 1.5, autopct = '%1.2f%%') \n",
    "#plt.legend()\n",
    "plt.savefig(\"pie_Complement.png\")\n",
    "plt.show() \n",
    "print(len(predicted_naive_Comp))"
   ]
  },
  {
   "cell_type": "code",
   "execution_count": null,
   "metadata": {},
   "outputs": [],
   "source": []
  },
  {
   "cell_type": "code",
   "execution_count": null,
   "metadata": {},
   "outputs": [],
   "source": []
  },
  {
   "cell_type": "code",
   "execution_count": null,
   "metadata": {},
   "outputs": [],
   "source": []
  }
 ],
 "metadata": {
  "gist": {
   "data": {
    "description": "twitter-sentiment-analysis.ipynb",
    "public": false
   },
   "id": ""
  },
  "kernelspec": {
   "display_name": "Python 3 (ipykernel)",
   "language": "python",
   "name": "python3"
  },
  "language_info": {
   "codemirror_mode": {
    "name": "ipython",
    "version": 3
   },
   "file_extension": ".py",
   "mimetype": "text/x-python",
   "name": "python",
   "nbconvert_exporter": "python",
   "pygments_lexer": "ipython3",
   "version": "3.9.7"
  },
  "vscode": {
   "interpreter": {
    "hash": "f306c58903bd544e192c9f8f9d41acea6cb9ac42ae1568a5fadf25f8e0bd8653"
   }
  }
 },
 "nbformat": 4,
 "nbformat_minor": 2
}
