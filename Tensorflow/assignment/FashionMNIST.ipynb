{
 "cells": [
  {
   "cell_type": "markdown",
   "metadata": {},
   "source": [
    "# Master Data Analytics - Tensorflow Assignement \n",
    "\n",
    "## Classifing images from Fashion-MNIST \n",
    "\n",
    "\n",
    "For this work, similarly to what has been done in class with the MNIST dataset, I decided to tackle the problem of image classification by examining the fashion-MNIST image dataset.\n",
    "\n",
    "The aim of the project is to train a model capable of classifying the images of the dataset. To do this, I used the tensorflow libraries using the high-level API.\n",
    "The training phase was carried out in a reasonable time on my own PC using CPU."
   ]
  },
  {
   "cell_type": "code",
   "execution_count": 138,
   "metadata": {},
   "outputs": [
    {
     "name": "stdout",
     "output_type": "stream",
     "text": [
      "2.10.0\n"
     ]
    },
    {
     "data": {
      "text/plain": [
       "[PhysicalDevice(name='/physical_device:CPU:0', device_type='CPU')]"
      ]
     },
     "execution_count": 138,
     "metadata": {},
     "output_type": "execute_result"
    }
   ],
   "source": [
    "\n",
    "#dependencies\n",
    "import tensorflow as tf\n",
    "import numpy as np\n",
    "import pandas as pd\n",
    "\n",
    "from sklearn.metrics import ConfusionMatrixDisplay, confusion_matrix\n",
    "from sklearn.metrics import classification_report\n",
    "\n",
    "import matplotlib.pyplot as plt\n",
    "import seaborn as sns\n",
    "import plotly.graph_objs as go\n",
    "from plotly.subplots import make_subplots\n",
    "from plotly.offline import init_notebook_mode, iplot\n",
    "from PIL import Image\n",
    "\n",
    "print(tf.__version__)\n",
    "tf.config.get_visible_devices()"
   ]
  },
  {
   "cell_type": "markdown",
   "metadata": {},
   "source": [
    "## Dataset"
   ]
  },
  {
   "cell_type": "markdown",
   "metadata": {},
   "source": [
    "This assignement uses the [Fashion MNIST](https://github.com/zalandoresearch/fashion-mnist) dataset which contains 70,000 grayscale images in 10 categories. The images show individual articles of clothing at low resolution (28 by 28 pixels)\n",
    "\n",
    "Fashion MNIST is intended as a drop-in replacement for the classic MNIST dataset—often used as the \"Hello, World\" of machine learning programs for computer vision. The MNIST dataset contains images of handwritten digits (0, 1, 2, etc.) in a format identical to that of the articles of clothing.\n",
    "\n",
    "Here, 60,000 images are used to train the network and 10,000 images to evaluate how accurately the network learned to classify images. We can access the Fashion MNIST directly from TensorFlow. \n",
    "\n",
    "Import and [load the Fashion MNIST data](https://www.tensorflow.org/api_docs/python/tf/keras/datasets/fashion_mnist/load_data) directly from TensorFlow:"
   ]
  },
  {
   "cell_type": "code",
   "execution_count": 139,
   "metadata": {},
   "outputs": [],
   "source": [
    "fashion_mnist = tf.keras.datasets.fashion_mnist\n",
    "(train_images, train_labels), (test_images, test_labels) = fashion_mnist.load_data()"
   ]
  },
  {
   "cell_type": "markdown",
   "metadata": {},
   "source": [
    "Loading the dataset returns four NumPy arrays:\n",
    "\n",
    "* The `train_images` and `train_labels` arrays are the *training set*—the data the model uses to learn.\n",
    "* The model is tested against the *test set*, the `test_images`, and `test_labels` arrays.\n",
    "\n",
    "The images are 28x28 NumPy arrays, with pixel values ranging from 0 to 255. \n",
    "\n",
    "The *labels* are an array of integers, ranging from 0 to 9. \n",
    "These correspond to the *class* of clothing the image represents:\n",
    "\n",
    "<table>\n",
    "  <tr>\n",
    "    <th>Label</th>\n",
    "    <th>Class</th>\n",
    "  </tr>\n",
    "  <tr>\n",
    "    <td>0</td>\n",
    "    <td>T-shirt/top</td>\n",
    "  </tr>\n",
    "  <tr>\n",
    "    <td>1</td>\n",
    "    <td>Trouser</td>\n",
    "  </tr>\n",
    "    <tr>\n",
    "    <td>2</td>\n",
    "    <td>Pullover</td>\n",
    "  </tr>\n",
    "    <tr>\n",
    "    <td>3</td>\n",
    "    <td>Dress</td>\n",
    "  </tr>\n",
    "    <tr>\n",
    "    <td>4</td>\n",
    "    <td>Coat</td>\n",
    "  </tr>\n",
    "    <tr>\n",
    "    <td>5</td>\n",
    "    <td>Sandal</td>\n",
    "  </tr>\n",
    "    <tr>\n",
    "    <td>6</td>\n",
    "    <td>Shirt</td>\n",
    "  </tr>\n",
    "    <tr>\n",
    "    <td>7</td>\n",
    "    <td>Sneaker</td>\n",
    "  </tr>\n",
    "    <tr>\n",
    "    <td>8</td>\n",
    "    <td>Bag</td>\n",
    "  </tr>\n",
    "    <tr>\n",
    "    <td>9</td>\n",
    "    <td>Ankle boot</td>\n",
    "  </tr>\n",
    "</table>"
   ]
  },
  {
   "cell_type": "markdown",
   "metadata": {},
   "source": [
    "Since the *class names* are not included with the dataset, store them here to use later when plotting the images. Each image is mapped to a single label."
   ]
  },
  {
   "cell_type": "code",
   "execution_count": 141,
   "metadata": {},
   "outputs": [
    {
     "data": {
      "text/plain": [
       "['T-shirt/top',\n",
       " 'Trouser',\n",
       " 'Pullover',\n",
       " 'Dress',\n",
       " 'Coat',\n",
       " 'Sandal',\n",
       " 'Shirt',\n",
       " 'Sneaker',\n",
       " 'Bag',\n",
       " 'Ankle boot']"
      ]
     },
     "execution_count": 141,
     "metadata": {},
     "output_type": "execute_result"
    }
   ],
   "source": [
    "class_names = ['T-shirt/top', 'Trouser', 'Pullover', 'Dress', 'Coat', 'Sandal', 'Shirt', 'Sneaker', 'Bag', 'Ankle boot']\n",
    "class_names"
   ]
  },
  {
   "cell_type": "markdown",
   "metadata": {},
   "source": [
    "## EDA: Exploratory Data Analysis"
   ]
  },
  {
   "cell_type": "markdown",
   "metadata": {},
   "source": [
    "Let's explore the format of the dataset before training the model. The following shows there are 60,000 images in the training set and 10,000 images in the test set. \n",
    "Each image is represented as 28 x 28 pixels:"
   ]
  },
  {
   "cell_type": "code",
   "execution_count": 142,
   "metadata": {},
   "outputs": [
    {
     "name": "stdout",
     "output_type": "stream",
     "text": [
      "train-shape: (60000, 28, 28) - test-shape: (10000, 28, 28)\n"
     ]
    }
   ],
   "source": [
    "print(\"train-shape: {} - test-shape: {}\".format(train_images.shape, test_images.shape))"
   ]
  },
  {
   "cell_type": "markdown",
   "metadata": {},
   "source": [
    "Likewise, there are 60,000 labels in the training set and 10,000 labels in the test set:"
   ]
  },
  {
   "cell_type": "code",
   "execution_count": 143,
   "metadata": {},
   "outputs": [
    {
     "name": "stdout",
     "output_type": "stream",
     "text": [
      "train-samples: 60000 - test-samples: 10000\n"
     ]
    }
   ],
   "source": [
    "print(\"train-samples: {} - test-samples: {}\".format(len(train_labels), len(test_labels)))"
   ]
  },
  {
   "cell_type": "markdown",
   "metadata": {},
   "source": [
    "Each label is an integer between 0 and 9:"
   ]
  },
  {
   "cell_type": "code",
   "execution_count": 144,
   "metadata": {},
   "outputs": [
    {
     "name": "stdout",
     "output_type": "stream",
     "text": [
      "train-labels: [0 1 2 3 4 5 6 7 8 9]\n",
      "test-labels: [0 1 2 3 4 5 6 7 8 9]\n"
     ]
    }
   ],
   "source": [
    "print(\"train-labels: {}\".format(np.unique(train_labels)))\n",
    "print(\"test-labels: {}\".format(np.unique(test_labels)))"
   ]
  },
  {
   "cell_type": "markdown",
   "metadata": {},
   "source": [
    "Here an example of images from the Fashion-MNIST dataset"
   ]
  },
  {
   "cell_type": "code",
   "execution_count": 145,
   "metadata": {},
   "outputs": [
    {
     "data": {
      "image/png": "[encoded data removed]",
      "text/plain": [
       "<Figure size 1000x1000 with 25 Axes>"
      ]
     },
     "metadata": {},
     "output_type": "display_data"
    }
   ],
   "source": [
    "plt.figure(figsize=(10,10))\n",
    "for i in range(25):\n",
    "    plt.subplot(5,5,i+1)\n",
    "    plt.xticks([])\n",
    "    plt.yticks([])\n",
    "    plt.grid(False)\n",
    "    plt.imshow(train_images[i], cmap=plt.cm.binary)\n",
    "    plt.xlabel(class_names[train_labels[i]])\n",
    "plt.show()\n"
   ]
  },
  {
   "cell_type": "markdown",
   "metadata": {},
   "source": [
    "Let's see how many number of images are in each class. We start with the train set.\n",
    "\n",
    "### Train set images class distribution"
   ]
  },
  {
   "cell_type": "code",
   "execution_count": 146,
   "metadata": {},
   "outputs": [
    {
     "data": {
      "text/plain": [
       "{0: 'T-shirt/top',\n",
       " 1: 'Trouser',\n",
       " 2: 'Pullover',\n",
       " 3: 'Dress',\n",
       " 4: 'Coat',\n",
       " 5: 'Sandal',\n",
       " 6: 'Shirt',\n",
       " 7: 'Sneaker',\n",
       " 8: 'Bag',\n",
       " 9: 'Ankle boot'}"
      ]
     },
     "execution_count": 146,
     "metadata": {},
     "output_type": "execute_result"
    }
   ],
   "source": [
    "# Create a dictionary for each type of label \n",
    "\n",
    "labels = { index : i for index, i in enumerate(class_names) }\n",
    "labels"
   ]
  },
  {
   "cell_type": "code",
   "execution_count": 147,
   "metadata": {},
   "outputs": [],
   "source": [
    "def get_classes_distribution(data_labels) -> pd.DataFrame:\n",
    "    total_samples = len(data_labels)\n",
    "    unique, counts = np.unique(data_labels, return_counts=True)\n",
    "    total_labels = len(unique)\n",
    "    percentage = counts / total_samples *100\n",
    "\n",
    "    #create df for plot\n",
    "    df = pd.DataFrame(columns=['id', 'labels', 'count'])\n",
    "    for i in range(total_labels):\n",
    "        df.loc[i] =  [unique[i]] + [labels[i]] + [counts[i]]\n",
    "        print(\"{:<20s}:   {} or {}%\".format(labels[i], counts[i], percentage[i]))\n",
    "\n",
    "    return df\n"
   ]
  },
  {
   "cell_type": "code",
   "execution_count": 148,
   "metadata": {},
   "outputs": [
    {
     "name": "stdout",
     "output_type": "stream",
     "text": [
      "T-shirt/top         :   6000 or 10.0%\n",
      "Trouser             :   6000 or 10.0%\n",
      "Pullover            :   6000 or 10.0%\n",
      "Dress               :   6000 or 10.0%\n",
      "Coat                :   6000 or 10.0%\n",
      "Sandal              :   6000 or 10.0%\n",
      "Shirt               :   6000 or 10.0%\n",
      "Sneaker             :   6000 or 10.0%\n",
      "Bag                 :   6000 or 10.0%\n",
      "Ankle boot          :   6000 or 10.0%\n"
     ]
    }
   ],
   "source": [
    "df_label_train = get_classes_distribution(train_labels)"
   ]
  },
  {
   "cell_type": "markdown",
   "metadata": {},
   "source": [
    "The classes are equaly distributed in the train set (10% each). Let's check the same for the test set. "
   ]
  },
  {
   "cell_type": "code",
   "execution_count": 149,
   "metadata": {},
   "outputs": [
    {
     "name": "stdout",
     "output_type": "stream",
     "text": [
      "T-shirt/top         :   1000 or 10.0%\n",
      "Trouser             :   1000 or 10.0%\n",
      "Pullover            :   1000 or 10.0%\n",
      "Dress               :   1000 or 10.0%\n",
      "Coat                :   1000 or 10.0%\n",
      "Sandal              :   1000 or 10.0%\n",
      "Shirt               :   1000 or 10.0%\n",
      "Sneaker             :   1000 or 10.0%\n",
      "Bag                 :   1000 or 10.0%\n",
      "Ankle boot          :   1000 or 10.0%\n"
     ]
    }
   ],
   "source": [
    "df_label_test = get_classes_distribution(test_labels)"
   ]
  },
  {
   "cell_type": "markdown",
   "metadata": {},
   "source": [
    "The classes are equaly distributed in the test set (10% each)"
   ]
  },
  {
   "cell_type": "markdown",
   "metadata": {},
   "source": [
    "Let's also plot the class distribution."
   ]
  },
  {
   "cell_type": "code",
   "execution_count": 150,
   "metadata": {},
   "outputs": [],
   "source": [
    "def plot_class_distribution(df_label: pd.DataFrame, title:str) -> None:\n",
    "    f, ax = plt.subplots(1,1, figsize=(10,4))\n",
    "    ax = sns.barplot(df_label, x=\"labels\", y=\"count\")\n",
    "    ax.set_title(\"Number of labels for each class - {}\".format(title))\n",
    "    plt.show()  "
   ]
  },
  {
   "cell_type": "code",
   "execution_count": 151,
   "metadata": {},
   "outputs": [
    {
     "data": {
      "image/png": "[encoded data removed]",
      "text/plain": [
       "<Figure size 1000x400 with 1 Axes>"
      ]
     },
     "metadata": {},
     "output_type": "display_data"
    }
   ],
   "source": [
    "plot_class_distribution(df_label_train, \"train set\")"
   ]
  },
  {
   "cell_type": "code",
   "execution_count": 152,
   "metadata": {},
   "outputs": [
    {
     "data": {
      "image/png": "[encoded data removed]",
      "text/plain": [
       "<Figure size 1000x400 with 1 Axes>"
      ]
     },
     "metadata": {},
     "output_type": "display_data"
    }
   ],
   "source": [
    "plot_class_distribution(df_label_test, \"test set\")"
   ]
  },
  {
   "cell_type": "markdown",
   "metadata": {},
   "source": [
    "## Preprocessing"
   ]
  },
  {
   "cell_type": "code",
   "execution_count": 153,
   "metadata": {},
   "outputs": [
    {
     "data": {
      "text/plain": [
       "<Figure size 800x800 with 0 Axes>"
      ]
     },
     "metadata": {},
     "output_type": "display_data"
    },
    {
     "data": {
      "image/png": "[encoded data removed]",
      "text/plain": [
       "<Figure size 600x300 with 2 Axes>"
      ]
     },
     "metadata": {},
     "output_type": "display_data"
    }
   ],
   "source": [
    "plt.figure()\n",
    "plt.figure(figsize=(6,3))\n",
    "plt.imshow(train_images[1])\n",
    "plt.colorbar()\n",
    "plt.grid(False)\n",
    "plt.show()"
   ]
  },
  {
   "cell_type": "markdown",
   "metadata": {},
   "source": [
    "First of all we need to scale these values to a range of 0 to 1 before feeding them to the neural network model. \n",
    "\n",
    "To do so, divide the values by 255. It's important that the *training set* and the *testing set* be preprocessed in the same way:"
   ]
  },
  {
   "cell_type": "code",
   "execution_count": 154,
   "metadata": {},
   "outputs": [],
   "source": [
    "# Normalize the input data.\n",
    "def scale(image, label):\n",
    "  image = tf.cast(image, tf.float32)\n",
    "  image /= 255.0\n",
    "  return image, label\n",
    "\n",
    "train_images, train_labels = scale(train_images, train_labels)\n",
    "test_images, test_labels = scale(test_images, test_labels)"
   ]
  },
  {
   "cell_type": "markdown",
   "metadata": {},
   "source": [
    "## Build Model"
   ]
  },
  {
   "cell_type": "markdown",
   "metadata": {},
   "source": [
    "Building the neural network requires configuring the layers of the model, then compiling the model."
   ]
  },
  {
   "cell_type": "markdown",
   "metadata": {},
   "source": [
    "### Set up the layers\n",
    "\n",
    "The basic building block of a neural network is the **layer**. Layers extract representations from the data fed into them. Hopefully, these representations are meaningful for the problem at hand.\n",
    "\n",
    "Most of deep learning consists of chaining together simple layers. Most layers, such as `tf.keras.layers.Dense`, have parameters that are learned during training."
   ]
  },
  {
   "cell_type": "markdown",
   "metadata": {},
   "source": [
    "I will use a **Sequential** model, a linear stack of layers. \n",
    "\n",
    "In this first model the layers added are as follows:\n",
    " \n",
    "- **Flatten**. It transforms the format of the images from a two-dimensional array (of 28 by 28 pixels) to a one-dimensional array (of 28 * 28 = 784 pixels). Think of this layer as unstacking rows of pixels in the image and lining them up. This layer has no parameters to learn; it only reformats the data.\n",
    "- **Dense**. This layer is a regular fully-connected NN layer. It is used with the parameters:\n",
    "  - units - this is a positive integer, with the meaning: dimensionality of the output space; in this case is: 128;\n",
    "  - activation - activation function : `relu`\n",
    "- **Dense**. This is the final layer (fully connected). It is used with the parameters: \n",
    "  - units: the number of classes (in our case 10);\n",
    "  - activation : `softmax`; for this final layer it is used `softmax` activation (standard for multiclass classification) It converts the model's linear outputs—logits to probabilities, which should be easier to interpret. Each node contains a probability that indicates the current image belongs to one of the 10 classes. "
   ]
  },
  {
   "cell_type": "code",
   "execution_count": 155,
   "metadata": {},
   "outputs": [],
   "source": [
    "#TENSOR_EXAMPLE\n",
    "model = tf.keras.Sequential([\n",
    "    tf.keras.layers.Flatten(input_shape=(28, 28)),\n",
    "    tf.keras.layers.Dense(128, activation='relu'),\n",
    "    tf.keras.layers.Dense(10, activation=\"softmax\")\n",
    "])"
   ]
  },
  {
   "cell_type": "code",
   "execution_count": 156,
   "metadata": {},
   "outputs": [
    {
     "name": "stdout",
     "output_type": "stream",
     "text": [
      "Model: \"sequential_3\"\n",
      "_________________________________________________________________\n",
      " Layer (type)                Output Shape              Param #   \n",
      "=================================================================\n",
      " flatten_3 (Flatten)         (None, 784)               0         \n",
      "                                                                 \n",
      " dense_6 (Dense)             (None, 128)               100480    \n",
      "                                                                 \n",
      " dense_7 (Dense)             (None, 10)                1290      \n",
      "                                                                 \n",
      "=================================================================\n",
      "Total params: 101,770\n",
      "Trainable params: 101,770\n",
      "Non-trainable params: 0\n",
      "_________________________________________________________________\n"
     ]
    }
   ],
   "source": [
    "model.summary()"
   ]
  },
  {
   "cell_type": "markdown",
   "metadata": {},
   "source": [
    "### Compile the model\n",
    "\n",
    "Before the model is ready for training, it needs a few more settings. These are added during the model's **compile** step which onfigures the model for training.\n",
    "\n",
    "- **Loss function**: measures how accurate the model is during training. We want to minimize this function to \"steer\" the model in the right direction.\n",
    "- **Optimizer**: how the model is updated based on the data it sees and its loss function.\n",
    "- **Metrics**: Used to monitor the training and testing steps. Here I'll use *accuracy*, the fraction of the images that are correctly classified."
   ]
  },
  {
   "cell_type": "code",
   "execution_count": 157,
   "metadata": {},
   "outputs": [],
   "source": [
    "model.compile(\n",
    "    optimizer='adam',\n",
    "    loss=tf.keras.losses.SparseCategoricalCrossentropy(),\n",
    "    metrics=['accuracy']\n",
    "    )"
   ]
  },
  {
   "cell_type": "markdown",
   "metadata": {},
   "source": [
    "## Training"
   ]
  },
  {
   "cell_type": "markdown",
   "metadata": {},
   "source": [
    "Training the neural network model requires the following steps:\n",
    "\n",
    "1. Feed the training data to the model: `train_images` and `train_labels` arrays.\n",
    "2. Model learns to associate images and labels.\n",
    "3. Make predictions about a test set: `test_images` array.\n",
    "4. Verify that the predictions match the labels from the `test_labels` array."
   ]
  },
  {
   "cell_type": "markdown",
   "metadata": {},
   "source": [
    "### Feed the model\n",
    "\n",
    "First of all I defined the callbacks; Callbacks can be passed to keras methods such as fit, evaluate, and predict in order to hook into the various stages of the model training and inference lifecycle."
   ]
  },
  {
   "cell_type": "code",
   "execution_count": 158,
   "metadata": {},
   "outputs": [],
   "source": [
    "# callbacks\n",
    "ourcallbacks = [\n",
    "    tf.keras.callbacks.ModelCheckpoint(\n",
    "        filepath='./models/MNIST/model.{epoch:02d}-{loss:.2f}.h5',\n",
    "        save_best_only=True\n",
    "        ),\n",
    "    tf.keras.callbacks.TensorBoard(log_dir='./logs/MNIST/')\n",
    "]"
   ]
  },
  {
   "cell_type": "code",
   "execution_count": 159,
   "metadata": {},
   "outputs": [
    {
     "name": "stdout",
     "output_type": "stream",
     "text": [
      "The tensorboard extension is already loaded. To reload it, use:\n",
      "  %reload_ext tensorboard\n"
     ]
    }
   ],
   "source": [
    "%load_ext tensorboard"
   ]
  },
  {
   "cell_type": "markdown",
   "metadata": {},
   "source": [
    "To start training,  call the `model.fit` method; it \"fits\" the model to the training data.\n",
    "In order to fit the model I'm going to use the following parameters:\n",
    "- **x**: training images;\n",
    "- **y**: training images target labels;\n",
    "- **batch_size**: Number of samples per gradient update;\n",
    "- **epochs**: number of epochs to train the model. An epoch is an iteration over the entire x and y data provided;\n",
    "- **validation_data**: data on which to evaluate the loss and any model metrics at the end of each epoch. The model will not be trained on this data; \n",
    "- **callbacks**: list of callbacks to apply during training. "
   ]
  },
  {
   "cell_type": "code",
   "execution_count": 160,
   "metadata": {},
   "outputs": [
    {
     "name": "stdout",
     "output_type": "stream",
     "text": [
      "Epoch 1/75\n",
      "15/15 [==============================] - 0s 16ms/step - loss: 1.3786 - accuracy: 0.5594 - val_loss: 0.8643 - val_accuracy: 0.6995\n",
      "Epoch 2/75\n",
      "15/15 [==============================] - 0s 10ms/step - loss: 0.7408 - accuracy: 0.7455 - val_loss: 0.6707 - val_accuracy: 0.7670\n",
      "Epoch 3/75\n",
      "15/15 [==============================] - 0s 11ms/step - loss: 0.6107 - accuracy: 0.7951 - val_loss: 0.5943 - val_accuracy: 0.7991\n",
      "Epoch 4/75\n",
      "15/15 [==============================] - 0s 10ms/step - loss: 0.5474 - accuracy: 0.8167 - val_loss: 0.5489 - val_accuracy: 0.8161\n",
      "Epoch 5/75\n",
      "15/15 [==============================] - 0s 10ms/step - loss: 0.5107 - accuracy: 0.8298 - val_loss: 0.5257 - val_accuracy: 0.8213\n",
      "Epoch 6/75\n",
      "15/15 [==============================] - 0s 12ms/step - loss: 0.4847 - accuracy: 0.8374 - val_loss: 0.5007 - val_accuracy: 0.8288\n",
      "Epoch 7/75\n",
      "15/15 [==============================] - 0s 10ms/step - loss: 0.4643 - accuracy: 0.8434 - val_loss: 0.4833 - val_accuracy: 0.8348\n",
      "Epoch 8/75\n",
      "15/15 [==============================] - 0s 10ms/step - loss: 0.4484 - accuracy: 0.8482 - val_loss: 0.4733 - val_accuracy: 0.8356\n",
      "Epoch 9/75\n",
      "15/15 [==============================] - 0s 10ms/step - loss: 0.4368 - accuracy: 0.8517 - val_loss: 0.4608 - val_accuracy: 0.8407\n",
      "Epoch 10/75\n",
      "15/15 [==============================] - 0s 11ms/step - loss: 0.4258 - accuracy: 0.8550 - val_loss: 0.4502 - val_accuracy: 0.8433\n",
      "Epoch 11/75\n",
      "15/15 [==============================] - 0s 10ms/step - loss: 0.4148 - accuracy: 0.8582 - val_loss: 0.4499 - val_accuracy: 0.8436\n",
      "Epoch 12/75\n",
      "15/15 [==============================] - 0s 10ms/step - loss: 0.4040 - accuracy: 0.8628 - val_loss: 0.4370 - val_accuracy: 0.8497\n",
      "Epoch 13/75\n",
      "15/15 [==============================] - 0s 11ms/step - loss: 0.3960 - accuracy: 0.8648 - val_loss: 0.4271 - val_accuracy: 0.8504\n",
      "Epoch 14/75\n",
      "15/15 [==============================] - 0s 10ms/step - loss: 0.3878 - accuracy: 0.8669 - val_loss: 0.4216 - val_accuracy: 0.8517\n",
      "Epoch 15/75\n",
      "15/15 [==============================] - 0s 11ms/step - loss: 0.3810 - accuracy: 0.8685 - val_loss: 0.4172 - val_accuracy: 0.8549\n",
      "Epoch 16/75\n",
      "15/15 [==============================] - 0s 10ms/step - loss: 0.3746 - accuracy: 0.8705 - val_loss: 0.4138 - val_accuracy: 0.8563\n",
      "Epoch 17/75\n",
      "15/15 [==============================] - 0s 10ms/step - loss: 0.3696 - accuracy: 0.8724 - val_loss: 0.4114 - val_accuracy: 0.8571\n",
      "Epoch 18/75\n",
      "15/15 [==============================] - 0s 10ms/step - loss: 0.3633 - accuracy: 0.8745 - val_loss: 0.4079 - val_accuracy: 0.8578\n",
      "Epoch 19/75\n",
      "15/15 [==============================] - 0s 11ms/step - loss: 0.3595 - accuracy: 0.8757 - val_loss: 0.3990 - val_accuracy: 0.8613\n",
      "Epoch 20/75\n",
      "15/15 [==============================] - 0s 11ms/step - loss: 0.3526 - accuracy: 0.8772 - val_loss: 0.3963 - val_accuracy: 0.8625\n",
      "Epoch 21/75\n",
      "15/15 [==============================] - 0s 10ms/step - loss: 0.3490 - accuracy: 0.8795 - val_loss: 0.3944 - val_accuracy: 0.8624\n",
      "Epoch 22/75\n",
      "15/15 [==============================] - 0s 11ms/step - loss: 0.3453 - accuracy: 0.8805 - val_loss: 0.3921 - val_accuracy: 0.8630\n",
      "Epoch 23/75\n",
      "15/15 [==============================] - 0s 10ms/step - loss: 0.3421 - accuracy: 0.8812 - val_loss: 0.3869 - val_accuracy: 0.8629\n",
      "Epoch 24/75\n",
      "15/15 [==============================] - 0s 10ms/step - loss: 0.3368 - accuracy: 0.8830 - val_loss: 0.3843 - val_accuracy: 0.8663\n",
      "Epoch 25/75\n",
      "15/15 [==============================] - 0s 10ms/step - loss: 0.3330 - accuracy: 0.8844 - val_loss: 0.3821 - val_accuracy: 0.8635\n",
      "Epoch 26/75\n",
      "15/15 [==============================] - 0s 10ms/step - loss: 0.3296 - accuracy: 0.8853 - val_loss: 0.3834 - val_accuracy: 0.8648\n",
      "Epoch 27/75\n",
      "15/15 [==============================] - 0s 10ms/step - loss: 0.3290 - accuracy: 0.8849 - val_loss: 0.3821 - val_accuracy: 0.8645\n",
      "Epoch 28/75\n",
      "15/15 [==============================] - 0s 10ms/step - loss: 0.3251 - accuracy: 0.8863 - val_loss: 0.3756 - val_accuracy: 0.8686\n",
      "Epoch 29/75\n",
      "15/15 [==============================] - 0s 10ms/step - loss: 0.3203 - accuracy: 0.8879 - val_loss: 0.3722 - val_accuracy: 0.8684\n",
      "Epoch 30/75\n",
      "15/15 [==============================] - 0s 10ms/step - loss: 0.3170 - accuracy: 0.8892 - val_loss: 0.3704 - val_accuracy: 0.8688\n",
      "Epoch 31/75\n",
      "15/15 [==============================] - 0s 11ms/step - loss: 0.3144 - accuracy: 0.8896 - val_loss: 0.3702 - val_accuracy: 0.8683\n",
      "Epoch 32/75\n",
      "15/15 [==============================] - 0s 10ms/step - loss: 0.3136 - accuracy: 0.8902 - val_loss: 0.3710 - val_accuracy: 0.8678\n",
      "Epoch 33/75\n",
      "15/15 [==============================] - 0s 11ms/step - loss: 0.3091 - accuracy: 0.8913 - val_loss: 0.3641 - val_accuracy: 0.8716\n",
      "Epoch 34/75\n",
      "15/15 [==============================] - 0s 10ms/step - loss: 0.3066 - accuracy: 0.8918 - val_loss: 0.3632 - val_accuracy: 0.8712\n",
      "Epoch 35/75\n",
      "15/15 [==============================] - 0s 10ms/step - loss: 0.3057 - accuracy: 0.8920 - val_loss: 0.3689 - val_accuracy: 0.8684\n",
      "Epoch 36/75\n",
      "15/15 [==============================] - 0s 9ms/step - loss: 0.3035 - accuracy: 0.8928 - val_loss: 0.3642 - val_accuracy: 0.8705\n",
      "Epoch 37/75\n",
      "15/15 [==============================] - 0s 10ms/step - loss: 0.3004 - accuracy: 0.8942 - val_loss: 0.3597 - val_accuracy: 0.8724\n",
      "Epoch 38/75\n",
      "15/15 [==============================] - 0s 10ms/step - loss: 0.2996 - accuracy: 0.8947 - val_loss: 0.3648 - val_accuracy: 0.8718\n",
      "Epoch 39/75\n",
      "15/15 [==============================] - 0s 11ms/step - loss: 0.2976 - accuracy: 0.8946 - val_loss: 0.3580 - val_accuracy: 0.8730\n",
      "Epoch 40/75\n",
      "15/15 [==============================] - 0s 10ms/step - loss: 0.2936 - accuracy: 0.8974 - val_loss: 0.3591 - val_accuracy: 0.8733\n",
      "Epoch 41/75\n",
      "15/15 [==============================] - 0s 10ms/step - loss: 0.2929 - accuracy: 0.8972 - val_loss: 0.3541 - val_accuracy: 0.8738\n",
      "Epoch 42/75\n",
      "15/15 [==============================] - 0s 10ms/step - loss: 0.2911 - accuracy: 0.8972 - val_loss: 0.3590 - val_accuracy: 0.8741\n",
      "Epoch 43/75\n",
      "15/15 [==============================] - 0s 11ms/step - loss: 0.2893 - accuracy: 0.8986 - val_loss: 0.3515 - val_accuracy: 0.8748\n",
      "Epoch 44/75\n",
      "15/15 [==============================] - 0s 10ms/step - loss: 0.2879 - accuracy: 0.8979 - val_loss: 0.3501 - val_accuracy: 0.8753\n",
      "Epoch 45/75\n",
      "15/15 [==============================] - 0s 10ms/step - loss: 0.2854 - accuracy: 0.8993 - val_loss: 0.3547 - val_accuracy: 0.8759\n",
      "Epoch 46/75\n",
      "15/15 [==============================] - 0s 10ms/step - loss: 0.2851 - accuracy: 0.8996 - val_loss: 0.3549 - val_accuracy: 0.8728\n",
      "Epoch 47/75\n",
      "15/15 [==============================] - 0s 10ms/step - loss: 0.2845 - accuracy: 0.8989 - val_loss: 0.3515 - val_accuracy: 0.8747\n",
      "Epoch 48/75\n",
      "15/15 [==============================] - 0s 9ms/step - loss: 0.2813 - accuracy: 0.8996 - val_loss: 0.3564 - val_accuracy: 0.8728\n",
      "Epoch 49/75\n",
      "15/15 [==============================] - 0s 10ms/step - loss: 0.2788 - accuracy: 0.9014 - val_loss: 0.3498 - val_accuracy: 0.8773\n",
      "Epoch 50/75\n",
      "15/15 [==============================] - 0s 10ms/step - loss: 0.2763 - accuracy: 0.9020 - val_loss: 0.3459 - val_accuracy: 0.8770\n",
      "Epoch 51/75\n",
      "15/15 [==============================] - 0s 10ms/step - loss: 0.2750 - accuracy: 0.9029 - val_loss: 0.3521 - val_accuracy: 0.8746\n",
      "Epoch 52/75\n",
      "15/15 [==============================] - 0s 10ms/step - loss: 0.2731 - accuracy: 0.9034 - val_loss: 0.3446 - val_accuracy: 0.8758\n",
      "Epoch 53/75\n",
      "15/15 [==============================] - 0s 11ms/step - loss: 0.2699 - accuracy: 0.9050 - val_loss: 0.3455 - val_accuracy: 0.8771\n",
      "Epoch 54/75\n",
      "15/15 [==============================] - 0s 10ms/step - loss: 0.2688 - accuracy: 0.9058 - val_loss: 0.3455 - val_accuracy: 0.8768\n",
      "Epoch 55/75\n",
      "15/15 [==============================] - 0s 10ms/step - loss: 0.2707 - accuracy: 0.9042 - val_loss: 0.3556 - val_accuracy: 0.8737\n",
      "Epoch 56/75\n",
      "15/15 [==============================] - 0s 10ms/step - loss: 0.2693 - accuracy: 0.9049 - val_loss: 0.3429 - val_accuracy: 0.8788\n",
      "Epoch 57/75\n",
      "15/15 [==============================] - 0s 10ms/step - loss: 0.2664 - accuracy: 0.9051 - val_loss: 0.3439 - val_accuracy: 0.8773\n",
      "Epoch 58/75\n",
      "15/15 [==============================] - 0s 11ms/step - loss: 0.2636 - accuracy: 0.9072 - val_loss: 0.3458 - val_accuracy: 0.8779\n",
      "Epoch 59/75\n",
      "15/15 [==============================] - 0s 12ms/step - loss: 0.2619 - accuracy: 0.9081 - val_loss: 0.3404 - val_accuracy: 0.8811\n",
      "Epoch 60/75\n",
      "15/15 [==============================] - 0s 10ms/step - loss: 0.2601 - accuracy: 0.9079 - val_loss: 0.3387 - val_accuracy: 0.8806\n",
      "Epoch 61/75\n",
      "15/15 [==============================] - 0s 10ms/step - loss: 0.2587 - accuracy: 0.9089 - val_loss: 0.3385 - val_accuracy: 0.8806\n",
      "Epoch 62/75\n",
      "15/15 [==============================] - 0s 10ms/step - loss: 0.2566 - accuracy: 0.9096 - val_loss: 0.3403 - val_accuracy: 0.8803\n",
      "Epoch 63/75\n",
      "15/15 [==============================] - 0s 10ms/step - loss: 0.2555 - accuracy: 0.9100 - val_loss: 0.3401 - val_accuracy: 0.8809\n",
      "Epoch 64/75\n",
      "15/15 [==============================] - 0s 10ms/step - loss: 0.2541 - accuracy: 0.9109 - val_loss: 0.3383 - val_accuracy: 0.8787\n",
      "Epoch 65/75\n",
      "15/15 [==============================] - 0s 10ms/step - loss: 0.2535 - accuracy: 0.9108 - val_loss: 0.3369 - val_accuracy: 0.8813\n",
      "Epoch 66/75\n",
      "15/15 [==============================] - 0s 10ms/step - loss: 0.2543 - accuracy: 0.9107 - val_loss: 0.3405 - val_accuracy: 0.8789\n",
      "Epoch 67/75\n",
      "15/15 [==============================] - 0s 10ms/step - loss: 0.2510 - accuracy: 0.9120 - val_loss: 0.3385 - val_accuracy: 0.8792\n",
      "Epoch 68/75\n",
      "15/15 [==============================] - 0s 10ms/step - loss: 0.2478 - accuracy: 0.9128 - val_loss: 0.3361 - val_accuracy: 0.8817\n",
      "Epoch 69/75\n",
      "15/15 [==============================] - 0s 10ms/step - loss: 0.2476 - accuracy: 0.9133 - val_loss: 0.3340 - val_accuracy: 0.8823\n",
      "Epoch 70/75\n",
      "15/15 [==============================] - 0s 10ms/step - loss: 0.2467 - accuracy: 0.9134 - val_loss: 0.3347 - val_accuracy: 0.8806\n",
      "Epoch 71/75\n",
      "15/15 [==============================] - 0s 12ms/step - loss: 0.2459 - accuracy: 0.9140 - val_loss: 0.3339 - val_accuracy: 0.8822\n",
      "Epoch 72/75\n",
      "15/15 [==============================] - 0s 10ms/step - loss: 0.2431 - accuracy: 0.9147 - val_loss: 0.3327 - val_accuracy: 0.8820\n",
      "Epoch 73/75\n",
      "15/15 [==============================] - 0s 9ms/step - loss: 0.2420 - accuracy: 0.9148 - val_loss: 0.3342 - val_accuracy: 0.8800\n",
      "Epoch 74/75\n",
      "15/15 [==============================] - 0s 10ms/step - loss: 0.2413 - accuracy: 0.9156 - val_loss: 0.3325 - val_accuracy: 0.8831\n",
      "Epoch 75/75\n",
      "15/15 [==============================] - 0s 9ms/step - loss: 0.2397 - accuracy: 0.9160 - val_loss: 0.3336 - val_accuracy: 0.8820\n"
     ]
    }
   ],
   "source": [
    "history = model.fit(\n",
    "    train_images, \n",
    "    train_labels,\n",
    "    batch_size=4096, \n",
    "    epochs=75,\n",
    "    verbose=1,\n",
    "    validation_data=(test_images, test_labels),\n",
    "    callbacks=ourcallbacks\n",
    "    )\n"
   ]
  },
  {
   "cell_type": "markdown",
   "metadata": {},
   "source": [
    "As the model trains, the loss and accuracy metrics are displayed. This simple model reaches an accuracy of about 0.88 (or $\\sim$ 88%) on the training data."
   ]
  },
  {
   "cell_type": "markdown",
   "metadata": {},
   "source": [
    "### Evaluate accuracy\n",
    "\n",
    "Here I want to show how the model performs on the test dataset. Here I'm going to call the `model.evaluate` method, which returns the loss value & metrics values for the model in test mode, with the following parameters:\n",
    "- **x**: Input data (test images)\n",
    "- **y**: Target data (test labels)\n",
    "- **verbose**: 2 = single line"
   ]
  },
  {
   "cell_type": "code",
   "execution_count": 161,
   "metadata": {},
   "outputs": [
    {
     "name": "stdout",
     "output_type": "stream",
     "text": [
      "313/313 - 0s - loss: 0.3336 - accuracy: 0.8820 - 184ms/epoch - 589us/step\n",
      "\n",
      "Test accuracy: 0.8820000290870667\n",
      "Test loss: 0.33362364768981934\n"
     ]
    }
   ],
   "source": [
    "test_loss, test_acc = model.evaluate(\n",
    "    test_images,  \n",
    "    test_labels, \n",
    "    verbose=2\n",
    "    )\n",
    "\n",
    "print('\\nTest accuracy:', test_acc)\n",
    "print('Test loss:', test_loss)"
   ]
  },
  {
   "cell_type": "markdown",
   "metadata": {},
   "source": [
    "#### Accuracy and Loss graphs"
   ]
  },
  {
   "cell_type": "markdown",
   "metadata": {},
   "source": [
    "Let us plot the Training and Validation Accuracy & Loss to get a better understanding of the model training."
   ]
  },
  {
   "cell_type": "code",
   "execution_count": 162,
   "metadata": {},
   "outputs": [
    {
     "data": {
      "text/html": [
       "        <script type=\"text/javascript\">\n",
       "        window.PlotlyConfig = {MathJaxConfig: 'local'};\n",
       "        if (window.MathJax && window.MathJax.Hub && window.MathJax.Hub.Config) {window.MathJax.Hub.Config({SVG: {font: \"STIX-Web\"}});}\n",
       "        if (typeof require !== 'undefined') {\n",
       "        require.undef(\"plotly\");\n",
       "        requirejs.config({\n",
       "            paths: {\n",
       "                'plotly': ['https://cdn.plot.ly/plotly-2.14.0.min']\n",
       "            }\n",
       "        });\n",
       "        require(['plotly'], function(Plotly) {\n",
       "            window._Plotly = Plotly;\n",
       "        });\n",
       "        }\n",
       "        </script>\n",
       "        "
      ]
     },
     "metadata": {},
     "output_type": "display_data"
    }
   ],
   "source": [
    "init_notebook_mode(connected=True)\n",
    "\n",
    "def create_trace(x,y,ylabel,color):\n",
    "        trace = go.Scatter(\n",
    "            x = x,y = y,\n",
    "            name=ylabel,\n",
    "            marker=dict(color=color),\n",
    "            mode = \"markers+lines\",\n",
    "            text=x\n",
    "        )\n",
    "        return trace\n",
    "    \n",
    "def plot_accuracy_and_loss(history, accuracy:str):\n",
    "    hist = history.history\n",
    "    acc = hist[accuracy]\n",
    "    val_acc = hist['val_'+ accuracy]\n",
    "    loss = hist['loss']\n",
    "    val_loss = hist['val_loss']\n",
    "    epochs = list(range(1,len(acc)+1))\n",
    "    \n",
    "    trace_ta = create_trace(epochs,acc,\"Training accuracy\", \"Green\")\n",
    "    trace_va = create_trace(epochs,val_acc,\"Validation accuracy\", \"Red\")\n",
    "    trace_tl = create_trace(epochs,loss,\"Training loss\", \"Blue\")\n",
    "    trace_vl = create_trace(epochs,val_loss,\"Validation loss\", \"Magenta\")\n",
    "    fig = make_subplots(rows=1,cols=2, subplot_titles=('Training and validation accuracy', 'Training and validation loss'))\n",
    "    fig.append_trace(trace_ta,1,1)\n",
    "    fig.append_trace(trace_va,1,1)\n",
    "    fig.append_trace(trace_tl,1,2)\n",
    "    fig.append_trace(trace_vl,1,2)\n",
    "    fig['layout']['xaxis'].update(title = 'Epoch')\n",
    "    fig['layout']['xaxis2'].update(title = 'Epoch')\n",
    "    fig['layout']['yaxis'].update(title = 'Accuracy', range=[0,1])\n",
    "    fig['layout']['yaxis2'].update(title = 'Loss', range=[0,1])\n",
    "\n",
    "    \n",
    "    iplot(fig, filename='accuracy-loss')"
   ]
  },
  {
   "cell_type": "code",
   "execution_count": 163,
   "metadata": {},
   "outputs": [
    {
     "data": {
      "application/vnd.plotly.v1+json": {
       "config": {
        "linkText": "Export to plot.ly",
        "plotlyServerURL": "https://plot.ly",
        "showLink": false
       },
       "data": [
        {
         "marker": {
          "color": "Green"
         },
         "mode": "markers+lines",
         "name": "Training accuracy",
         "text": [
          "1",
          "2",
          "3",
          "4",
          "5",
          "6",
          "7",
          "8",
          "9",
          "10",
          "11",
          "12",
          "13",
          "14",
          "15",
          "16",
          "17",
          "18",
          "19",
          "20",
          "21",
          "22",
          "23",
          "24",
          "25",
          "26",
          "27",
          "28",
          "29",
          "30",
          "31",
          "32",
          "33",
          "34",
          "35",
          "36",
          "37",
          "38",
          "39",
          "40",
          "41",
          "42",
          "43",
          "44",
          "45",
          "46",
          "47",
          "48",
          "49",
          "50",
          "51",
          "52",
          "53",
          "54",
          "55",
          "56",
          "57",
          "58",
          "59",
          "60",
          "61",
          "62",
          "63",
          "64",
          "65",
          "66",
          "67",
          "68",
          "69",
          "70",
          "71",
          "72",
          "73",
          "74",
          "75"
         ],
         "type": "scatter",
         "x": [
          1,
          2,
          3,
          4,
          5,
          6,
          7,
          8,
          9,
          10,
          11,
          12,
          13,
          14,
          15,
          16,
          17,
          18,
          19,
          20,
          21,
          22,
          23,
          24,
          25,
          26,
          27,
          28,
          29,
          30,
          31,
          32,
          33,
          34,
          35,
          36,
          37,
          38,
          39,
          40,
          41,
          42,
          43,
          44,
          45,
          46,
          47,
          48,
          49,
          50,
          51,
          52,
          53,
          54,
          55,
          56,
          57,
          58,
          59,
          60,
          61,
          62,
          63,
          64,
          65,
          66,
          67,
          68,
          69,
          70,
          71,
          72,
          73,
          74,
          75
         ],
         "xaxis": "x",
         "y": [
          0.5593666434288025,
          0.7455000281333923,
          0.7950500249862671,
          0.8167166709899902,
          0.8298333287239075,
          0.8374333381652832,
          0.8434000015258789,
          0.8482166528701782,
          0.8517333269119263,
          0.8549833297729492,
          0.8581666946411133,
          0.8628166913986206,
          0.8647666573524475,
          0.8669000267982483,
          0.8684999942779541,
          0.8705499768257141,
          0.8724333047866821,
          0.8744833469390869,
          0.8756833076477051,
          0.8771833181381226,
          0.8794833421707153,
          0.880466639995575,
          0.8812166452407837,
          0.8830333352088928,
          0.8843666911125183,
          0.8852666616439819,
          0.8848666548728943,
          0.8863166570663452,
          0.8878666758537292,
          0.8891666531562805,
          0.8895999789237976,
          0.8902000188827515,
          0.8913333415985107,
          0.8918333053588867,
          0.8920000195503235,
          0.8928333520889282,
          0.8942166566848755,
          0.8947333097457886,
          0.8945500254631042,
          0.8974499702453613,
          0.897183358669281,
          0.8972333073616028,
          0.8985833525657654,
          0.8978666663169861,
          0.8992999792098999,
          0.8995833396911621,
          0.8988666534423828,
          0.899649977684021,
          0.901449978351593,
          0.9020333290100098,
          0.9028666615486145,
          0.9034166932106018,
          0.9049500226974487,
          0.9057666659355164,
          0.9041833281517029,
          0.9049166440963745,
          0.9051166772842407,
          0.9071666598320007,
          0.908050000667572,
          0.9078999757766724,
          0.9089333415031433,
          0.9096166491508484,
          0.9099833369255066,
          0.9109166860580444,
          0.9107666611671448,
          0.9106833338737488,
          0.9120000004768372,
          0.912766695022583,
          0.9132500290870667,
          0.9133666753768921,
          0.9139833450317383,
          0.9147499799728394,
          0.9148499965667725,
          0.9156166911125183,
          0.9160000085830688
         ],
         "yaxis": "y"
        },
        {
         "marker": {
          "color": "Red"
         },
         "mode": "markers+lines",
         "name": "Validation accuracy",
         "text": [
          "1",
          "2",
          "3",
          "4",
          "5",
          "6",
          "7",
          "8",
          "9",
          "10",
          "11",
          "12",
          "13",
          "14",
          "15",
          "16",
          "17",
          "18",
          "19",
          "20",
          "21",
          "22",
          "23",
          "24",
          "25",
          "26",
          "27",
          "28",
          "29",
          "30",
          "31",
          "32",
          "33",
          "34",
          "35",
          "36",
          "37",
          "38",
          "39",
          "40",
          "41",
          "42",
          "43",
          "44",
          "45",
          "46",
          "47",
          "48",
          "49",
          "50",
          "51",
          "52",
          "53",
          "54",
          "55",
          "56",
          "57",
          "58",
          "59",
          "60",
          "61",
          "62",
          "63",
          "64",
          "65",
          "66",
          "67",
          "68",
          "69",
          "70",
          "71",
          "72",
          "73",
          "74",
          "75"
         ],
         "type": "scatter",
         "x": [
          1,
          2,
          3,
          4,
          5,
          6,
          7,
          8,
          9,
          10,
          11,
          12,
          13,
          14,
          15,
          16,
          17,
          18,
          19,
          20,
          21,
          22,
          23,
          24,
          25,
          26,
          27,
          28,
          29,
          30,
          31,
          32,
          33,
          34,
          35,
          36,
          37,
          38,
          39,
          40,
          41,
          42,
          43,
          44,
          45,
          46,
          47,
          48,
          49,
          50,
          51,
          52,
          53,
          54,
          55,
          56,
          57,
          58,
          59,
          60,
          61,
          62,
          63,
          64,
          65,
          66,
          67,
          68,
          69,
          70,
          71,
          72,
          73,
          74,
          75
         ],
         "xaxis": "x",
         "y": [
          0.6995000243186951,
          0.7670000195503235,
          0.7990999817848206,
          0.816100001335144,
          0.8213000297546387,
          0.8288000226020813,
          0.8348000049591064,
          0.8356000185012817,
          0.8406999707221985,
          0.8432999849319458,
          0.8435999751091003,
          0.8496999740600586,
          0.8503999710083008,
          0.8517000079154968,
          0.8549000024795532,
          0.8562999963760376,
          0.8571000099182129,
          0.8578000068664551,
          0.861299991607666,
          0.862500011920929,
          0.8623999953269958,
          0.8629999756813049,
          0.8629000186920166,
          0.8662999868392944,
          0.8634999990463257,
          0.864799976348877,
          0.8644999861717224,
          0.8686000108718872,
          0.868399977684021,
          0.8687999844551086,
          0.8683000206947327,
          0.8677999973297119,
          0.8715999722480774,
          0.8712000250816345,
          0.868399977684021,
          0.8705000281333923,
          0.8723999857902527,
          0.8718000054359436,
          0.8730000257492065,
          0.8733000159263611,
          0.8737999796867371,
          0.8741000294685364,
          0.8748000264167786,
          0.8752999901771545,
          0.8758999705314636,
          0.8727999925613403,
          0.8747000098228455,
          0.8727999925613403,
          0.8773000240325928,
          0.8769999742507935,
          0.8745999932289124,
          0.8758000135421753,
          0.8770999908447266,
          0.876800000667572,
          0.8737000226974487,
          0.8787999749183655,
          0.8773000240325928,
          0.8779000043869019,
          0.8810999989509583,
          0.8805999755859375,
          0.8805999755859375,
          0.880299985408783,
          0.8809000253677368,
          0.8787000179290771,
          0.8812999725341797,
          0.8788999915122986,
          0.8791999816894531,
          0.8816999793052673,
          0.8823000192642212,
          0.8805999755859375,
          0.8822000026702881,
          0.8820000290870667,
          0.8799999952316284,
          0.8830999732017517,
          0.8820000290870667
         ],
         "yaxis": "y"
        },
        {
         "marker": {
          "color": "Blue"
         },
         "mode": "markers+lines",
         "name": "Training loss",
         "text": [
          "1",
          "2",
          "3",
          "4",
          "5",
          "6",
          "7",
          "8",
          "9",
          "10",
          "11",
          "12",
          "13",
          "14",
          "15",
          "16",
          "17",
          "18",
          "19",
          "20",
          "21",
          "22",
          "23",
          "24",
          "25",
          "26",
          "27",
          "28",
          "29",
          "30",
          "31",
          "32",
          "33",
          "34",
          "35",
          "36",
          "37",
          "38",
          "39",
          "40",
          "41",
          "42",
          "43",
          "44",
          "45",
          "46",
          "47",
          "48",
          "49",
          "50",
          "51",
          "52",
          "53",
          "54",
          "55",
          "56",
          "57",
          "58",
          "59",
          "60",
          "61",
          "62",
          "63",
          "64",
          "65",
          "66",
          "67",
          "68",
          "69",
          "70",
          "71",
          "72",
          "73",
          "74",
          "75"
         ],
         "type": "scatter",
         "x": [
          1,
          2,
          3,
          4,
          5,
          6,
          7,
          8,
          9,
          10,
          11,
          12,
          13,
          14,
          15,
          16,
          17,
          18,
          19,
          20,
          21,
          22,
          23,
          24,
          25,
          26,
          27,
          28,
          29,
          30,
          31,
          32,
          33,
          34,
          35,
          36,
          37,
          38,
          39,
          40,
          41,
          42,
          43,
          44,
          45,
          46,
          47,
          48,
          49,
          50,
          51,
          52,
          53,
          54,
          55,
          56,
          57,
          58,
          59,
          60,
          61,
          62,
          63,
          64,
          65,
          66,
          67,
          68,
          69,
          70,
          71,
          72,
          73,
          74,
          75
         ],
         "xaxis": "x2",
         "y": [
          1.378616452217102,
          0.7407616972923279,
          0.610734224319458,
          0.5474148392677307,
          0.5106624364852905,
          0.4846802055835724,
          0.4642983675003052,
          0.44843584299087524,
          0.43678200244903564,
          0.42576658725738525,
          0.414786159992218,
          0.40400266647338867,
          0.3960348963737488,
          0.3877745568752289,
          0.3809903860092163,
          0.3745718002319336,
          0.36963945627212524,
          0.3633115291595459,
          0.3594750463962555,
          0.3526167571544647,
          0.3489862084388733,
          0.3452669680118561,
          0.3420926332473755,
          0.3368453085422516,
          0.3329642117023468,
          0.3295993506908417,
          0.3290013074874878,
          0.3251328468322754,
          0.3202894330024719,
          0.317004531621933,
          0.3144330084323883,
          0.3135673701763153,
          0.3090973496437073,
          0.3065878450870514,
          0.30571436882019043,
          0.30354809761047363,
          0.30043792724609375,
          0.2996334731578827,
          0.29763564467430115,
          0.2936341166496277,
          0.2929263114929199,
          0.2910839915275574,
          0.289267361164093,
          0.2879483103752136,
          0.2854250967502594,
          0.28511640429496765,
          0.2844543159008026,
          0.28128963708877563,
          0.2788362503051758,
          0.2763258218765259,
          0.2750154435634613,
          0.2731146812438965,
          0.2699279487133026,
          0.2687954604625702,
          0.27068090438842773,
          0.2693183720111847,
          0.26643675565719604,
          0.26356926560401917,
          0.26194435358047485,
          0.26009508967399597,
          0.2587399184703827,
          0.25661247968673706,
          0.2555158734321594,
          0.2540995180606842,
          0.2535057067871094,
          0.25431621074676514,
          0.25096890330314636,
          0.24780716001987457,
          0.24761508405208588,
          0.24668380618095398,
          0.24587666988372803,
          0.24312888085842133,
          0.2419559210538864,
          0.2413303256034851,
          0.2396724671125412
         ],
         "yaxis": "y2"
        },
        {
         "marker": {
          "color": "Magenta"
         },
         "mode": "markers+lines",
         "name": "Validation loss",
         "text": [
          "1",
          "2",
          "3",
          "4",
          "5",
          "6",
          "7",
          "8",
          "9",
          "10",
          "11",
          "12",
          "13",
          "14",
          "15",
          "16",
          "17",
          "18",
          "19",
          "20",
          "21",
          "22",
          "23",
          "24",
          "25",
          "26",
          "27",
          "28",
          "29",
          "30",
          "31",
          "32",
          "33",
          "34",
          "35",
          "36",
          "37",
          "38",
          "39",
          "40",
          "41",
          "42",
          "43",
          "44",
          "45",
          "46",
          "47",
          "48",
          "49",
          "50",
          "51",
          "52",
          "53",
          "54",
          "55",
          "56",
          "57",
          "58",
          "59",
          "60",
          "61",
          "62",
          "63",
          "64",
          "65",
          "66",
          "67",
          "68",
          "69",
          "70",
          "71",
          "72",
          "73",
          "74",
          "75"
         ],
         "type": "scatter",
         "x": [
          1,
          2,
          3,
          4,
          5,
          6,
          7,
          8,
          9,
          10,
          11,
          12,
          13,
          14,
          15,
          16,
          17,
          18,
          19,
          20,
          21,
          22,
          23,
          24,
          25,
          26,
          27,
          28,
          29,
          30,
          31,
          32,
          33,
          34,
          35,
          36,
          37,
          38,
          39,
          40,
          41,
          42,
          43,
          44,
          45,
          46,
          47,
          48,
          49,
          50,
          51,
          52,
          53,
          54,
          55,
          56,
          57,
          58,
          59,
          60,
          61,
          62,
          63,
          64,
          65,
          66,
          67,
          68,
          69,
          70,
          71,
          72,
          73,
          74,
          75
         ],
         "xaxis": "x2",
         "y": [
          0.8642711639404297,
          0.6706879138946533,
          0.5942962169647217,
          0.5488890409469604,
          0.5256984233856201,
          0.5007495880126953,
          0.4833133816719055,
          0.4732610285282135,
          0.46082913875579834,
          0.45023882389068604,
          0.4498668313026428,
          0.4370175302028656,
          0.4270952045917511,
          0.42158418893814087,
          0.4171949326992035,
          0.41379624605178833,
          0.4114198684692383,
          0.40786948800086975,
          0.39904600381851196,
          0.39627447724342346,
          0.3943813443183899,
          0.39214199781417847,
          0.38694289326667786,
          0.38434576988220215,
          0.382094144821167,
          0.38335761427879333,
          0.3821105360984802,
          0.37555167078971863,
          0.37217944860458374,
          0.3704456090927124,
          0.3701651990413666,
          0.3710106909275055,
          0.3640909790992737,
          0.36316779255867004,
          0.3689241111278534,
          0.36419716477394104,
          0.3596809208393097,
          0.36479511857032776,
          0.358049213886261,
          0.3590545058250427,
          0.35407015681266785,
          0.35897621512413025,
          0.35154664516448975,
          0.35008367896080017,
          0.35465845465660095,
          0.3548520505428314,
          0.35152554512023926,
          0.35641148686408997,
          0.34984835982322693,
          0.3458835780620575,
          0.3521142899990082,
          0.34462085366249084,
          0.34550806879997253,
          0.3454847037792206,
          0.35563570261001587,
          0.3428788483142853,
          0.3439319431781769,
          0.3457837700843811,
          0.3403834104537964,
          0.3387031555175781,
          0.33849114179611206,
          0.3403078019618988,
          0.34008723497390747,
          0.3383238911628723,
          0.33692172169685364,
          0.34051358699798584,
          0.3385392725467682,
          0.33613428473472595,
          0.33395180106163025,
          0.334701806306839,
          0.3338862955570221,
          0.3327178359031677,
          0.334212064743042,
          0.332459032535553,
          0.3336237668991089
         ],
         "yaxis": "y2"
        }
       ],
       "layout": {
        "annotations": [
         {
          "font": {
           "size": 16
          },
          "showarrow": false,
          "text": "Training and validation accuracy",
          "x": 0.225,
          "xanchor": "center",
          "xref": "paper",
          "y": 1,
          "yanchor": "bottom",
          "yref": "paper"
         },
         {
          "font": {
           "size": 16
          },
          "showarrow": false,
          "text": "Training and validation loss",
          "x": 0.775,
          "xanchor": "center",
          "xref": "paper",
          "y": 1,
          "yanchor": "bottom",
          "yref": "paper"
         }
        ],
        "template": {
         "data": {
          "bar": [
           {
            "error_x": {
             "color": "#2a3f5f"
            },
            "error_y": {
             "color": "#2a3f5f"
            },
            "marker": {
             "line": {
              "color": "#E5ECF6",
              "width": 0.5
             },
             "pattern": {
              "fillmode": "overlay",
              "size": 10,
              "solidity": 0.2
             }
            },
            "type": "bar"
           }
          ],
          "barpolar": [
           {
            "marker": {
             "line": {
              "color": "#E5ECF6",
              "width": 0.5
             },
             "pattern": {
              "fillmode": "overlay",
              "size": 10,
              "solidity": 0.2
             }
            },
            "type": "barpolar"
           }
          ],
          "carpet": [
           {
            "aaxis": {
             "endlinecolor": "#2a3f5f",
             "gridcolor": "white",
             "linecolor": "white",
             "minorgridcolor": "white",
             "startlinecolor": "#2a3f5f"
            },
            "baxis": {
             "endlinecolor": "#2a3f5f",
             "gridcolor": "white",
             "linecolor": "white",
             "minorgridcolor": "white",
             "startlinecolor": "#2a3f5f"
            },
            "type": "carpet"
           }
          ],
          "choropleth": [
           {
            "colorbar": {
             "outlinewidth": 0,
             "ticks": ""
            },
            "type": "choropleth"
           }
          ],
          "contour": [
           {
            "colorbar": {
             "outlinewidth": 0,
             "ticks": ""
            },
            "colorscale": [
             [
              0,
              "#0d0887"
             ],
             [
              0.1111111111111111,
              "#46039f"
             ],
             [
              0.2222222222222222,
              "#7201a8"
             ],
             [
              0.3333333333333333,
              "#9c179e"
             ],
             [
              0.4444444444444444,
              "#bd3786"
             ],
             [
              0.5555555555555556,
              "#d8576b"
             ],
             [
              0.6666666666666666,
              "#ed7953"
             ],
             [
              0.7777777777777778,
              "#fb9f3a"
             ],
             [
              0.8888888888888888,
              "#fdca26"
             ],
             [
              1,
              "#f0f921"
             ]
            ],
            "type": "contour"
           }
          ],
          "contourcarpet": [
           {
            "colorbar": {
             "outlinewidth": 0,
             "ticks": ""
            },
            "type": "contourcarpet"
           }
          ],
          "heatmap": [
           {
            "colorbar": {
             "outlinewidth": 0,
             "ticks": ""
            },
            "colorscale": [
             [
              0,
              "#0d0887"
             ],
             [
              0.1111111111111111,
              "#46039f"
             ],
             [
              0.2222222222222222,
              "#7201a8"
             ],
             [
              0.3333333333333333,
              "#9c179e"
             ],
             [
              0.4444444444444444,
              "#bd3786"
             ],
             [
              0.5555555555555556,
              "#d8576b"
             ],
             [
              0.6666666666666666,
              "#ed7953"
             ],
             [
              0.7777777777777778,
              "#fb9f3a"
             ],
             [
              0.8888888888888888,
              "#fdca26"
             ],
             [
              1,
              "#f0f921"
             ]
            ],
            "type": "heatmap"
           }
          ],
          "heatmapgl": [
           {
            "colorbar": {
             "outlinewidth": 0,
             "ticks": ""
            },
            "colorscale": [
             [
              0,
              "#0d0887"
             ],
             [
              0.1111111111111111,
              "#46039f"
             ],
             [
              0.2222222222222222,
              "#7201a8"
             ],
             [
              0.3333333333333333,
              "#9c179e"
             ],
             [
              0.4444444444444444,
              "#bd3786"
             ],
             [
              0.5555555555555556,
              "#d8576b"
             ],
             [
              0.6666666666666666,
              "#ed7953"
             ],
             [
              0.7777777777777778,
              "#fb9f3a"
             ],
             [
              0.8888888888888888,
              "#fdca26"
             ],
             [
              1,
              "#f0f921"
             ]
            ],
            "type": "heatmapgl"
           }
          ],
          "histogram": [
           {
            "marker": {
             "pattern": {
              "fillmode": "overlay",
              "size": 10,
              "solidity": 0.2
             }
            },
            "type": "histogram"
           }
          ],
          "histogram2d": [
           {
            "colorbar": {
             "outlinewidth": 0,
             "ticks": ""
            },
            "colorscale": [
             [
              0,
              "#0d0887"
             ],
             [
              0.1111111111111111,
              "#46039f"
             ],
             [
              0.2222222222222222,
              "#7201a8"
             ],
             [
              0.3333333333333333,
              "#9c179e"
             ],
             [
              0.4444444444444444,
              "#bd3786"
             ],
             [
              0.5555555555555556,
              "#d8576b"
             ],
             [
              0.6666666666666666,
              "#ed7953"
             ],
             [
              0.7777777777777778,
              "#fb9f3a"
             ],
             [
              0.8888888888888888,
              "#fdca26"
             ],
             [
              1,
              "#f0f921"
             ]
            ],
            "type": "histogram2d"
           }
          ],
          "histogram2dcontour": [
           {
            "colorbar": {
             "outlinewidth": 0,
             "ticks": ""
            },
            "colorscale": [
             [
              0,
              "#0d0887"
             ],
             [
              0.1111111111111111,
              "#46039f"
             ],
             [
              0.2222222222222222,
              "#7201a8"
             ],
             [
              0.3333333333333333,
              "#9c179e"
             ],
             [
              0.4444444444444444,
              "#bd3786"
             ],
             [
              0.5555555555555556,
              "#d8576b"
             ],
             [
              0.6666666666666666,
              "#ed7953"
             ],
             [
              0.7777777777777778,
              "#fb9f3a"
             ],
             [
              0.8888888888888888,
              "#fdca26"
             ],
             [
              1,
              "#f0f921"
             ]
            ],
            "type": "histogram2dcontour"
           }
          ],
          "mesh3d": [
           {
            "colorbar": {
             "outlinewidth": 0,
             "ticks": ""
            },
            "type": "mesh3d"
           }
          ],
          "parcoords": [
           {
            "line": {
             "colorbar": {
              "outlinewidth": 0,
              "ticks": ""
             }
            },
            "type": "parcoords"
           }
          ],
          "pie": [
           {
            "automargin": true,
            "type": "pie"
           }
          ],
          "scatter": [
           {
            "fillpattern": {
             "fillmode": "overlay",
             "size": 10,
             "solidity": 0.2
            },
            "type": "scatter"
           }
          ],
          "scatter3d": [
           {
            "line": {
             "colorbar": {
              "outlinewidth": 0,
              "ticks": ""
             }
            },
            "marker": {
             "colorbar": {
              "outlinewidth": 0,
              "ticks": ""
             }
            },
            "type": "scatter3d"
           }
          ],
          "scattercarpet": [
           {
            "marker": {
             "colorbar": {
              "outlinewidth": 0,
              "ticks": ""
             }
            },
            "type": "scattercarpet"
           }
          ],
          "scattergeo": [
           {
            "marker": {
             "colorbar": {
              "outlinewidth": 0,
              "ticks": ""
             }
            },
            "type": "scattergeo"
           }
          ],
          "scattergl": [
           {
            "marker": {
             "colorbar": {
              "outlinewidth": 0,
              "ticks": ""
             }
            },
            "type": "scattergl"
           }
          ],
          "scattermapbox": [
           {
            "marker": {
             "colorbar": {
              "outlinewidth": 0,
              "ticks": ""
             }
            },
            "type": "scattermapbox"
           }
          ],
          "scatterpolar": [
           {
            "marker": {
             "colorbar": {
              "outlinewidth": 0,
              "ticks": ""
             }
            },
            "type": "scatterpolar"
           }
          ],
          "scatterpolargl": [
           {
            "marker": {
             "colorbar": {
              "outlinewidth": 0,
              "ticks": ""
             }
            },
            "type": "scatterpolargl"
           }
          ],
          "scatterternary": [
           {
            "marker": {
             "colorbar": {
              "outlinewidth": 0,
              "ticks": ""
             }
            },
            "type": "scatterternary"
           }
          ],
          "surface": [
           {
            "colorbar": {
             "outlinewidth": 0,
             "ticks": ""
            },
            "colorscale": [
             [
              0,
              "#0d0887"
             ],
             [
              0.1111111111111111,
              "#46039f"
             ],
             [
              0.2222222222222222,
              "#7201a8"
             ],
             [
              0.3333333333333333,
              "#9c179e"
             ],
             [
              0.4444444444444444,
              "#bd3786"
             ],
             [
              0.5555555555555556,
              "#d8576b"
             ],
             [
              0.6666666666666666,
              "#ed7953"
             ],
             [
              0.7777777777777778,
              "#fb9f3a"
             ],
             [
              0.8888888888888888,
              "#fdca26"
             ],
             [
              1,
              "#f0f921"
             ]
            ],
            "type": "surface"
           }
          ],
          "table": [
           {
            "cells": {
             "fill": {
              "color": "#EBF0F8"
             },
             "line": {
              "color": "white"
             }
            },
            "header": {
             "fill": {
              "color": "#C8D4E3"
             },
             "line": {
              "color": "white"
             }
            },
            "type": "table"
           }
          ]
         },
         "layout": {
          "annotationdefaults": {
           "arrowcolor": "#2a3f5f",
           "arrowhead": 0,
           "arrowwidth": 1
          },
          "autotypenumbers": "strict",
          "coloraxis": {
           "colorbar": {
            "outlinewidth": 0,
            "ticks": ""
           }
          },
          "colorscale": {
           "diverging": [
            [
             0,
             "#8e0152"
            ],
            [
             0.1,
             "#c51b7d"
            ],
            [
             0.2,
             "#de77ae"
            ],
            [
             0.3,
             "#f1b6da"
            ],
            [
             0.4,
             "#fde0ef"
            ],
            [
             0.5,
             "#f7f7f7"
            ],
            [
             0.6,
             "#e6f5d0"
            ],
            [
             0.7,
             "#b8e186"
            ],
            [
             0.8,
             "#7fbc41"
            ],
            [
             0.9,
             "#4d9221"
            ],
            [
             1,
             "#276419"
            ]
           ],
           "sequential": [
            [
             0,
             "#0d0887"
            ],
            [
             0.1111111111111111,
             "#46039f"
            ],
            [
             0.2222222222222222,
             "#7201a8"
            ],
            [
             0.3333333333333333,
             "#9c179e"
            ],
            [
             0.4444444444444444,
             "#bd3786"
            ],
            [
             0.5555555555555556,
             "#d8576b"
            ],
            [
             0.6666666666666666,
             "#ed7953"
            ],
            [
             0.7777777777777778,
             "#fb9f3a"
            ],
            [
             0.8888888888888888,
             "#fdca26"
            ],
            [
             1,
             "#f0f921"
            ]
           ],
           "sequentialminus": [
            [
             0,
             "#0d0887"
            ],
            [
             0.1111111111111111,
             "#46039f"
            ],
            [
             0.2222222222222222,
             "#7201a8"
            ],
            [
             0.3333333333333333,
             "#9c179e"
            ],
            [
             0.4444444444444444,
             "#bd3786"
            ],
            [
             0.5555555555555556,
             "#d8576b"
            ],
            [
             0.6666666666666666,
             "#ed7953"
            ],
            [
             0.7777777777777778,
             "#fb9f3a"
            ],
            [
             0.8888888888888888,
             "#fdca26"
            ],
            [
             1,
             "#f0f921"
            ]
           ]
          },
          "colorway": [
           "#636efa",
           "#EF553B",
           "#00cc96",
           "#ab63fa",
           "#FFA15A",
           "#19d3f3",
           "#FF6692",
           "#B6E880",
           "#FF97FF",
           "#FECB52"
          ],
          "font": {
           "color": "#2a3f5f"
          },
          "geo": {
           "bgcolor": "white",
           "lakecolor": "white",
           "landcolor": "#E5ECF6",
           "showlakes": true,
           "showland": true,
           "subunitcolor": "white"
          },
          "hoverlabel": {
           "align": "left"
          },
          "hovermode": "closest",
          "mapbox": {
           "style": "light"
          },
          "paper_bgcolor": "white",
          "plot_bgcolor": "#E5ECF6",
          "polar": {
           "angularaxis": {
            "gridcolor": "white",
            "linecolor": "white",
            "ticks": ""
           },
           "bgcolor": "#E5ECF6",
           "radialaxis": {
            "gridcolor": "white",
            "linecolor": "white",
            "ticks": ""
           }
          },
          "scene": {
           "xaxis": {
            "backgroundcolor": "#E5ECF6",
            "gridcolor": "white",
            "gridwidth": 2,
            "linecolor": "white",
            "showbackground": true,
            "ticks": "",
            "zerolinecolor": "white"
           },
           "yaxis": {
            "backgroundcolor": "#E5ECF6",
            "gridcolor": "white",
            "gridwidth": 2,
            "linecolor": "white",
            "showbackground": true,
            "ticks": "",
            "zerolinecolor": "white"
           },
           "zaxis": {
            "backgroundcolor": "#E5ECF6",
            "gridcolor": "white",
            "gridwidth": 2,
            "linecolor": "white",
            "showbackground": true,
            "ticks": "",
            "zerolinecolor": "white"
           }
          },
          "shapedefaults": {
           "line": {
            "color": "#2a3f5f"
           }
          },
          "ternary": {
           "aaxis": {
            "gridcolor": "white",
            "linecolor": "white",
            "ticks": ""
           },
           "baxis": {
            "gridcolor": "white",
            "linecolor": "white",
            "ticks": ""
           },
           "bgcolor": "#E5ECF6",
           "caxis": {
            "gridcolor": "white",
            "linecolor": "white",
            "ticks": ""
           }
          },
          "title": {
           "x": 0.05
          },
          "xaxis": {
           "automargin": true,
           "gridcolor": "white",
           "linecolor": "white",
           "ticks": "",
           "title": {
            "standoff": 15
           },
           "zerolinecolor": "white",
           "zerolinewidth": 2
          },
          "yaxis": {
           "automargin": true,
           "gridcolor": "white",
           "linecolor": "white",
           "ticks": "",
           "title": {
            "standoff": 15
           },
           "zerolinecolor": "white",
           "zerolinewidth": 2
          }
         }
        },
        "xaxis": {
         "anchor": "y",
         "domain": [
          0,
          0.45
         ],
         "title": {
          "text": "Epoch"
         }
        },
        "xaxis2": {
         "anchor": "y2",
         "domain": [
          0.55,
          1
         ],
         "title": {
          "text": "Epoch"
         }
        },
        "yaxis": {
         "anchor": "x",
         "domain": [
          0,
          1
         ],
         "range": [
          0,
          1
         ],
         "title": {
          "text": "Accuracy"
         }
        },
        "yaxis2": {
         "anchor": "x2",
         "domain": [
          0,
          1
         ],
         "range": [
          0,
          1
         ],
         "title": {
          "text": "Loss"
         }
        }
       }
      },
      "text/html": [
       "<div>                            <div id=\"db3fff8e-0dea-4ce4-af91-b0eb3e53fd9b\" class=\"plotly-graph-div\" style=\"height:525px; width:100%;\"></div>            <script type=\"text/javascript\">                require([\"plotly\"], function(Plotly) {                    window.PLOTLYENV=window.PLOTLYENV || {};                                    if (document.getElementById(\"db3fff8e-0dea-4ce4-af91-b0eb3e53fd9b\")) {                    Plotly.newPlot(                        \"db3fff8e-0dea-4ce4-af91-b0eb3e53fd9b\",                        [{\"marker\":{\"color\":\"Green\"},\"mode\":\"markers+lines\",\"name\":\"Training accuracy\",\"text\":[\"1\",\"2\",\"3\",\"4\",\"5\",\"6\",\"7\",\"8\",\"9\",\"10\",\"11\",\"12\",\"13\",\"14\",\"15\",\"16\",\"17\",\"18\",\"19\",\"20\",\"21\",\"22\",\"23\",\"24\",\"25\",\"26\",\"27\",\"28\",\"29\",\"30\",\"31\",\"32\",\"33\",\"34\",\"35\",\"36\",\"37\",\"38\",\"39\",\"40\",\"41\",\"42\",\"43\",\"44\",\"45\",\"46\",\"47\",\"48\",\"49\",\"50\",\"51\",\"52\",\"53\",\"54\",\"55\",\"56\",\"57\",\"58\",\"59\",\"60\",\"61\",\"62\",\"63\",\"64\",\"65\",\"66\",\"67\",\"68\",\"69\",\"70\",\"71\",\"72\",\"73\",\"74\",\"75\"],\"x\":[1,2,3,4,5,6,7,8,9,10,11,12,13,14,15,16,17,18,19,20,21,22,23,24,25,26,27,28,29,30,31,32,33,34,35,36,37,38,39,40,41,42,43,44,45,46,47,48,49,50,51,52,53,54,55,56,57,58,59,60,61,62,63,64,65,66,67,68,69,70,71,72,73,74,75],\"xaxis\":\"x\",\"y\":[0.5593666434288025,0.7455000281333923,0.7950500249862671,0.8167166709899902,0.8298333287239075,0.8374333381652832,0.8434000015258789,0.8482166528701782,0.8517333269119263,0.8549833297729492,0.8581666946411133,0.8628166913986206,0.8647666573524475,0.8669000267982483,0.8684999942779541,0.8705499768257141,0.8724333047866821,0.8744833469390869,0.8756833076477051,0.8771833181381226,0.8794833421707153,0.880466639995575,0.8812166452407837,0.8830333352088928,0.8843666911125183,0.8852666616439819,0.8848666548728943,0.8863166570663452,0.8878666758537292,0.8891666531562805,0.8895999789237976,0.8902000188827515,0.8913333415985107,0.8918333053588867,0.8920000195503235,0.8928333520889282,0.8942166566848755,0.8947333097457886,0.8945500254631042,0.8974499702453613,0.897183358669281,0.8972333073616028,0.8985833525657654,0.8978666663169861,0.8992999792098999,0.8995833396911621,0.8988666534423828,0.899649977684021,0.901449978351593,0.9020333290100098,0.9028666615486145,0.9034166932106018,0.9049500226974487,0.9057666659355164,0.9041833281517029,0.9049166440963745,0.9051166772842407,0.9071666598320007,0.908050000667572,0.9078999757766724,0.9089333415031433,0.9096166491508484,0.9099833369255066,0.9109166860580444,0.9107666611671448,0.9106833338737488,0.9120000004768372,0.912766695022583,0.9132500290870667,0.9133666753768921,0.9139833450317383,0.9147499799728394,0.9148499965667725,0.9156166911125183,0.9160000085830688],\"yaxis\":\"y\",\"type\":\"scatter\"},{\"marker\":{\"color\":\"Red\"},\"mode\":\"markers+lines\",\"name\":\"Validation accuracy\",\"text\":[\"1\",\"2\",\"3\",\"4\",\"5\",\"6\",\"7\",\"8\",\"9\",\"10\",\"11\",\"12\",\"13\",\"14\",\"15\",\"16\",\"17\",\"18\",\"19\",\"20\",\"21\",\"22\",\"23\",\"24\",\"25\",\"26\",\"27\",\"28\",\"29\",\"30\",\"31\",\"32\",\"33\",\"34\",\"35\",\"36\",\"37\",\"38\",\"39\",\"40\",\"41\",\"42\",\"43\",\"44\",\"45\",\"46\",\"47\",\"48\",\"49\",\"50\",\"51\",\"52\",\"53\",\"54\",\"55\",\"56\",\"57\",\"58\",\"59\",\"60\",\"61\",\"62\",\"63\",\"64\",\"65\",\"66\",\"67\",\"68\",\"69\",\"70\",\"71\",\"72\",\"73\",\"74\",\"75\"],\"x\":[1,2,3,4,5,6,7,8,9,10,11,12,13,14,15,16,17,18,19,20,21,22,23,24,25,26,27,28,29,30,31,32,33,34,35,36,37,38,39,40,41,42,43,44,45,46,47,48,49,50,51,52,53,54,55,56,57,58,59,60,61,62,63,64,65,66,67,68,69,70,71,72,73,74,75],\"xaxis\":\"x\",\"y\":[0.6995000243186951,0.7670000195503235,0.7990999817848206,0.816100001335144,0.8213000297546387,0.8288000226020813,0.8348000049591064,0.8356000185012817,0.8406999707221985,0.8432999849319458,0.8435999751091003,0.8496999740600586,0.8503999710083008,0.8517000079154968,0.8549000024795532,0.8562999963760376,0.8571000099182129,0.8578000068664551,0.861299991607666,0.862500011920929,0.8623999953269958,0.8629999756813049,0.8629000186920166,0.8662999868392944,0.8634999990463257,0.864799976348877,0.8644999861717224,0.8686000108718872,0.868399977684021,0.8687999844551086,0.8683000206947327,0.8677999973297119,0.8715999722480774,0.8712000250816345,0.868399977684021,0.8705000281333923,0.8723999857902527,0.8718000054359436,0.8730000257492065,0.8733000159263611,0.8737999796867371,0.8741000294685364,0.8748000264167786,0.8752999901771545,0.8758999705314636,0.8727999925613403,0.8747000098228455,0.8727999925613403,0.8773000240325928,0.8769999742507935,0.8745999932289124,0.8758000135421753,0.8770999908447266,0.876800000667572,0.8737000226974487,0.8787999749183655,0.8773000240325928,0.8779000043869019,0.8810999989509583,0.8805999755859375,0.8805999755859375,0.880299985408783,0.8809000253677368,0.8787000179290771,0.8812999725341797,0.8788999915122986,0.8791999816894531,0.8816999793052673,0.8823000192642212,0.8805999755859375,0.8822000026702881,0.8820000290870667,0.8799999952316284,0.8830999732017517,0.8820000290870667],\"yaxis\":\"y\",\"type\":\"scatter\"},{\"marker\":{\"color\":\"Blue\"},\"mode\":\"markers+lines\",\"name\":\"Training loss\",\"text\":[\"1\",\"2\",\"3\",\"4\",\"5\",\"6\",\"7\",\"8\",\"9\",\"10\",\"11\",\"12\",\"13\",\"14\",\"15\",\"16\",\"17\",\"18\",\"19\",\"20\",\"21\",\"22\",\"23\",\"24\",\"25\",\"26\",\"27\",\"28\",\"29\",\"30\",\"31\",\"32\",\"33\",\"34\",\"35\",\"36\",\"37\",\"38\",\"39\",\"40\",\"41\",\"42\",\"43\",\"44\",\"45\",\"46\",\"47\",\"48\",\"49\",\"50\",\"51\",\"52\",\"53\",\"54\",\"55\",\"56\",\"57\",\"58\",\"59\",\"60\",\"61\",\"62\",\"63\",\"64\",\"65\",\"66\",\"67\",\"68\",\"69\",\"70\",\"71\",\"72\",\"73\",\"74\",\"75\"],\"x\":[1,2,3,4,5,6,7,8,9,10,11,12,13,14,15,16,17,18,19,20,21,22,23,24,25,26,27,28,29,30,31,32,33,34,35,36,37,38,39,40,41,42,43,44,45,46,47,48,49,50,51,52,53,54,55,56,57,58,59,60,61,62,63,64,65,66,67,68,69,70,71,72,73,74,75],\"xaxis\":\"x2\",\"y\":[1.378616452217102,0.7407616972923279,0.610734224319458,0.5474148392677307,0.5106624364852905,0.4846802055835724,0.4642983675003052,0.44843584299087524,0.43678200244903564,0.42576658725738525,0.414786159992218,0.40400266647338867,0.3960348963737488,0.3877745568752289,0.3809903860092163,0.3745718002319336,0.36963945627212524,0.3633115291595459,0.3594750463962555,0.3526167571544647,0.3489862084388733,0.3452669680118561,0.3420926332473755,0.3368453085422516,0.3329642117023468,0.3295993506908417,0.3290013074874878,0.3251328468322754,0.3202894330024719,0.317004531621933,0.3144330084323883,0.3135673701763153,0.3090973496437073,0.3065878450870514,0.30571436882019043,0.30354809761047363,0.30043792724609375,0.2996334731578827,0.29763564467430115,0.2936341166496277,0.2929263114929199,0.2910839915275574,0.289267361164093,0.2879483103752136,0.2854250967502594,0.28511640429496765,0.2844543159008026,0.28128963708877563,0.2788362503051758,0.2763258218765259,0.2750154435634613,0.2731146812438965,0.2699279487133026,0.2687954604625702,0.27068090438842773,0.2693183720111847,0.26643675565719604,0.26356926560401917,0.26194435358047485,0.26009508967399597,0.2587399184703827,0.25661247968673706,0.2555158734321594,0.2540995180606842,0.2535057067871094,0.25431621074676514,0.25096890330314636,0.24780716001987457,0.24761508405208588,0.24668380618095398,0.24587666988372803,0.24312888085842133,0.2419559210538864,0.2413303256034851,0.2396724671125412],\"yaxis\":\"y2\",\"type\":\"scatter\"},{\"marker\":{\"color\":\"Magenta\"},\"mode\":\"markers+lines\",\"name\":\"Validation loss\",\"text\":[\"1\",\"2\",\"3\",\"4\",\"5\",\"6\",\"7\",\"8\",\"9\",\"10\",\"11\",\"12\",\"13\",\"14\",\"15\",\"16\",\"17\",\"18\",\"19\",\"20\",\"21\",\"22\",\"23\",\"24\",\"25\",\"26\",\"27\",\"28\",\"29\",\"30\",\"31\",\"32\",\"33\",\"34\",\"35\",\"36\",\"37\",\"38\",\"39\",\"40\",\"41\",\"42\",\"43\",\"44\",\"45\",\"46\",\"47\",\"48\",\"49\",\"50\",\"51\",\"52\",\"53\",\"54\",\"55\",\"56\",\"57\",\"58\",\"59\",\"60\",\"61\",\"62\",\"63\",\"64\",\"65\",\"66\",\"67\",\"68\",\"69\",\"70\",\"71\",\"72\",\"73\",\"74\",\"75\"],\"x\":[1,2,3,4,5,6,7,8,9,10,11,12,13,14,15,16,17,18,19,20,21,22,23,24,25,26,27,28,29,30,31,32,33,34,35,36,37,38,39,40,41,42,43,44,45,46,47,48,49,50,51,52,53,54,55,56,57,58,59,60,61,62,63,64,65,66,67,68,69,70,71,72,73,74,75],\"xaxis\":\"x2\",\"y\":[0.8642711639404297,0.6706879138946533,0.5942962169647217,0.5488890409469604,0.5256984233856201,0.5007495880126953,0.4833133816719055,0.4732610285282135,0.46082913875579834,0.45023882389068604,0.4498668313026428,0.4370175302028656,0.4270952045917511,0.42158418893814087,0.4171949326992035,0.41379624605178833,0.4114198684692383,0.40786948800086975,0.39904600381851196,0.39627447724342346,0.3943813443183899,0.39214199781417847,0.38694289326667786,0.38434576988220215,0.382094144821167,0.38335761427879333,0.3821105360984802,0.37555167078971863,0.37217944860458374,0.3704456090927124,0.3701651990413666,0.3710106909275055,0.3640909790992737,0.36316779255867004,0.3689241111278534,0.36419716477394104,0.3596809208393097,0.36479511857032776,0.358049213886261,0.3590545058250427,0.35407015681266785,0.35897621512413025,0.35154664516448975,0.35008367896080017,0.35465845465660095,0.3548520505428314,0.35152554512023926,0.35641148686408997,0.34984835982322693,0.3458835780620575,0.3521142899990082,0.34462085366249084,0.34550806879997253,0.3454847037792206,0.35563570261001587,0.3428788483142853,0.3439319431781769,0.3457837700843811,0.3403834104537964,0.3387031555175781,0.33849114179611206,0.3403078019618988,0.34008723497390747,0.3383238911628723,0.33692172169685364,0.34051358699798584,0.3385392725467682,0.33613428473472595,0.33395180106163025,0.334701806306839,0.3338862955570221,0.3327178359031677,0.334212064743042,0.332459032535553,0.3336237668991089],\"yaxis\":\"y2\",\"type\":\"scatter\"}],                        {\"annotations\":[{\"font\":{\"size\":16},\"showarrow\":false,\"text\":\"Training and validation accuracy\",\"x\":0.225,\"xanchor\":\"center\",\"xref\":\"paper\",\"y\":1.0,\"yanchor\":\"bottom\",\"yref\":\"paper\"},{\"font\":{\"size\":16},\"showarrow\":false,\"text\":\"Training and validation loss\",\"x\":0.775,\"xanchor\":\"center\",\"xref\":\"paper\",\"y\":1.0,\"yanchor\":\"bottom\",\"yref\":\"paper\"}],\"template\":{\"data\":{\"barpolar\":[{\"marker\":{\"line\":{\"color\":\"#E5ECF6\",\"width\":0.5},\"pattern\":{\"fillmode\":\"overlay\",\"size\":10,\"solidity\":0.2}},\"type\":\"barpolar\"}],\"bar\":[{\"error_x\":{\"color\":\"#2a3f5f\"},\"error_y\":{\"color\":\"#2a3f5f\"},\"marker\":{\"line\":{\"color\":\"#E5ECF6\",\"width\":0.5},\"pattern\":{\"fillmode\":\"overlay\",\"size\":10,\"solidity\":0.2}},\"type\":\"bar\"}],\"carpet\":[{\"aaxis\":{\"endlinecolor\":\"#2a3f5f\",\"gridcolor\":\"white\",\"linecolor\":\"white\",\"minorgridcolor\":\"white\",\"startlinecolor\":\"#2a3f5f\"},\"baxis\":{\"endlinecolor\":\"#2a3f5f\",\"gridcolor\":\"white\",\"linecolor\":\"white\",\"minorgridcolor\":\"white\",\"startlinecolor\":\"#2a3f5f\"},\"type\":\"carpet\"}],\"choropleth\":[{\"colorbar\":{\"outlinewidth\":0,\"ticks\":\"\"},\"type\":\"choropleth\"}],\"contourcarpet\":[{\"colorbar\":{\"outlinewidth\":0,\"ticks\":\"\"},\"type\":\"contourcarpet\"}],\"contour\":[{\"colorbar\":{\"outlinewidth\":0,\"ticks\":\"\"},\"colorscale\":[[0.0,\"#0d0887\"],[0.1111111111111111,\"#46039f\"],[0.2222222222222222,\"#7201a8\"],[0.3333333333333333,\"#9c179e\"],[0.4444444444444444,\"#bd3786\"],[0.5555555555555556,\"#d8576b\"],[0.6666666666666666,\"#ed7953\"],[0.7777777777777778,\"#fb9f3a\"],[0.8888888888888888,\"#fdca26\"],[1.0,\"#f0f921\"]],\"type\":\"contour\"}],\"heatmapgl\":[{\"colorbar\":{\"outlinewidth\":0,\"ticks\":\"\"},\"colorscale\":[[0.0,\"#0d0887\"],[0.1111111111111111,\"#46039f\"],[0.2222222222222222,\"#7201a8\"],[0.3333333333333333,\"#9c179e\"],[0.4444444444444444,\"#bd3786\"],[0.5555555555555556,\"#d8576b\"],[0.6666666666666666,\"#ed7953\"],[0.7777777777777778,\"#fb9f3a\"],[0.8888888888888888,\"#fdca26\"],[1.0,\"#f0f921\"]],\"type\":\"heatmapgl\"}],\"heatmap\":[{\"colorbar\":{\"outlinewidth\":0,\"ticks\":\"\"},\"colorscale\":[[0.0,\"#0d0887\"],[0.1111111111111111,\"#46039f\"],[0.2222222222222222,\"#7201a8\"],[0.3333333333333333,\"#9c179e\"],[0.4444444444444444,\"#bd3786\"],[0.5555555555555556,\"#d8576b\"],[0.6666666666666666,\"#ed7953\"],[0.7777777777777778,\"#fb9f3a\"],[0.8888888888888888,\"#fdca26\"],[1.0,\"#f0f921\"]],\"type\":\"heatmap\"}],\"histogram2dcontour\":[{\"colorbar\":{\"outlinewidth\":0,\"ticks\":\"\"},\"colorscale\":[[0.0,\"#0d0887\"],[0.1111111111111111,\"#46039f\"],[0.2222222222222222,\"#7201a8\"],[0.3333333333333333,\"#9c179e\"],[0.4444444444444444,\"#bd3786\"],[0.5555555555555556,\"#d8576b\"],[0.6666666666666666,\"#ed7953\"],[0.7777777777777778,\"#fb9f3a\"],[0.8888888888888888,\"#fdca26\"],[1.0,\"#f0f921\"]],\"type\":\"histogram2dcontour\"}],\"histogram2d\":[{\"colorbar\":{\"outlinewidth\":0,\"ticks\":\"\"},\"colorscale\":[[0.0,\"#0d0887\"],[0.1111111111111111,\"#46039f\"],[0.2222222222222222,\"#7201a8\"],[0.3333333333333333,\"#9c179e\"],[0.4444444444444444,\"#bd3786\"],[0.5555555555555556,\"#d8576b\"],[0.6666666666666666,\"#ed7953\"],[0.7777777777777778,\"#fb9f3a\"],[0.8888888888888888,\"#fdca26\"],[1.0,\"#f0f921\"]],\"type\":\"histogram2d\"}],\"histogram\":[{\"marker\":{\"pattern\":{\"fillmode\":\"overlay\",\"size\":10,\"solidity\":0.2}},\"type\":\"histogram\"}],\"mesh3d\":[{\"colorbar\":{\"outlinewidth\":0,\"ticks\":\"\"},\"type\":\"mesh3d\"}],\"parcoords\":[{\"line\":{\"colorbar\":{\"outlinewidth\":0,\"ticks\":\"\"}},\"type\":\"parcoords\"}],\"pie\":[{\"automargin\":true,\"type\":\"pie\"}],\"scatter3d\":[{\"line\":{\"colorbar\":{\"outlinewidth\":0,\"ticks\":\"\"}},\"marker\":{\"colorbar\":{\"outlinewidth\":0,\"ticks\":\"\"}},\"type\":\"scatter3d\"}],\"scattercarpet\":[{\"marker\":{\"colorbar\":{\"outlinewidth\":0,\"ticks\":\"\"}},\"type\":\"scattercarpet\"}],\"scattergeo\":[{\"marker\":{\"colorbar\":{\"outlinewidth\":0,\"ticks\":\"\"}},\"type\":\"scattergeo\"}],\"scattergl\":[{\"marker\":{\"colorbar\":{\"outlinewidth\":0,\"ticks\":\"\"}},\"type\":\"scattergl\"}],\"scattermapbox\":[{\"marker\":{\"colorbar\":{\"outlinewidth\":0,\"ticks\":\"\"}},\"type\":\"scattermapbox\"}],\"scatterpolargl\":[{\"marker\":{\"colorbar\":{\"outlinewidth\":0,\"ticks\":\"\"}},\"type\":\"scatterpolargl\"}],\"scatterpolar\":[{\"marker\":{\"colorbar\":{\"outlinewidth\":0,\"ticks\":\"\"}},\"type\":\"scatterpolar\"}],\"scatter\":[{\"fillpattern\":{\"fillmode\":\"overlay\",\"size\":10,\"solidity\":0.2},\"type\":\"scatter\"}],\"scatterternary\":[{\"marker\":{\"colorbar\":{\"outlinewidth\":0,\"ticks\":\"\"}},\"type\":\"scatterternary\"}],\"surface\":[{\"colorbar\":{\"outlinewidth\":0,\"ticks\":\"\"},\"colorscale\":[[0.0,\"#0d0887\"],[0.1111111111111111,\"#46039f\"],[0.2222222222222222,\"#7201a8\"],[0.3333333333333333,\"#9c179e\"],[0.4444444444444444,\"#bd3786\"],[0.5555555555555556,\"#d8576b\"],[0.6666666666666666,\"#ed7953\"],[0.7777777777777778,\"#fb9f3a\"],[0.8888888888888888,\"#fdca26\"],[1.0,\"#f0f921\"]],\"type\":\"surface\"}],\"table\":[{\"cells\":{\"fill\":{\"color\":\"#EBF0F8\"},\"line\":{\"color\":\"white\"}},\"header\":{\"fill\":{\"color\":\"#C8D4E3\"},\"line\":{\"color\":\"white\"}},\"type\":\"table\"}]},\"layout\":{\"annotationdefaults\":{\"arrowcolor\":\"#2a3f5f\",\"arrowhead\":0,\"arrowwidth\":1},\"autotypenumbers\":\"strict\",\"coloraxis\":{\"colorbar\":{\"outlinewidth\":0,\"ticks\":\"\"}},\"colorscale\":{\"diverging\":[[0,\"#8e0152\"],[0.1,\"#c51b7d\"],[0.2,\"#de77ae\"],[0.3,\"#f1b6da\"],[0.4,\"#fde0ef\"],[0.5,\"#f7f7f7\"],[0.6,\"#e6f5d0\"],[0.7,\"#b8e186\"],[0.8,\"#7fbc41\"],[0.9,\"#4d9221\"],[1,\"#276419\"]],\"sequential\":[[0.0,\"#0d0887\"],[0.1111111111111111,\"#46039f\"],[0.2222222222222222,\"#7201a8\"],[0.3333333333333333,\"#9c179e\"],[0.4444444444444444,\"#bd3786\"],[0.5555555555555556,\"#d8576b\"],[0.6666666666666666,\"#ed7953\"],[0.7777777777777778,\"#fb9f3a\"],[0.8888888888888888,\"#fdca26\"],[1.0,\"#f0f921\"]],\"sequentialminus\":[[0.0,\"#0d0887\"],[0.1111111111111111,\"#46039f\"],[0.2222222222222222,\"#7201a8\"],[0.3333333333333333,\"#9c179e\"],[0.4444444444444444,\"#bd3786\"],[0.5555555555555556,\"#d8576b\"],[0.6666666666666666,\"#ed7953\"],[0.7777777777777778,\"#fb9f3a\"],[0.8888888888888888,\"#fdca26\"],[1.0,\"#f0f921\"]]},\"colorway\":[\"#636efa\",\"#EF553B\",\"#00cc96\",\"#ab63fa\",\"#FFA15A\",\"#19d3f3\",\"#FF6692\",\"#B6E880\",\"#FF97FF\",\"#FECB52\"],\"font\":{\"color\":\"#2a3f5f\"},\"geo\":{\"bgcolor\":\"white\",\"lakecolor\":\"white\",\"landcolor\":\"#E5ECF6\",\"showlakes\":true,\"showland\":true,\"subunitcolor\":\"white\"},\"hoverlabel\":{\"align\":\"left\"},\"hovermode\":\"closest\",\"mapbox\":{\"style\":\"light\"},\"paper_bgcolor\":\"white\",\"plot_bgcolor\":\"#E5ECF6\",\"polar\":{\"angularaxis\":{\"gridcolor\":\"white\",\"linecolor\":\"white\",\"ticks\":\"\"},\"bgcolor\":\"#E5ECF6\",\"radialaxis\":{\"gridcolor\":\"white\",\"linecolor\":\"white\",\"ticks\":\"\"}},\"scene\":{\"xaxis\":{\"backgroundcolor\":\"#E5ECF6\",\"gridcolor\":\"white\",\"gridwidth\":2,\"linecolor\":\"white\",\"showbackground\":true,\"ticks\":\"\",\"zerolinecolor\":\"white\"},\"yaxis\":{\"backgroundcolor\":\"#E5ECF6\",\"gridcolor\":\"white\",\"gridwidth\":2,\"linecolor\":\"white\",\"showbackground\":true,\"ticks\":\"\",\"zerolinecolor\":\"white\"},\"zaxis\":{\"backgroundcolor\":\"#E5ECF6\",\"gridcolor\":\"white\",\"gridwidth\":2,\"linecolor\":\"white\",\"showbackground\":true,\"ticks\":\"\",\"zerolinecolor\":\"white\"}},\"shapedefaults\":{\"line\":{\"color\":\"#2a3f5f\"}},\"ternary\":{\"aaxis\":{\"gridcolor\":\"white\",\"linecolor\":\"white\",\"ticks\":\"\"},\"baxis\":{\"gridcolor\":\"white\",\"linecolor\":\"white\",\"ticks\":\"\"},\"bgcolor\":\"#E5ECF6\",\"caxis\":{\"gridcolor\":\"white\",\"linecolor\":\"white\",\"ticks\":\"\"}},\"title\":{\"x\":0.05},\"xaxis\":{\"automargin\":true,\"gridcolor\":\"white\",\"linecolor\":\"white\",\"ticks\":\"\",\"title\":{\"standoff\":15},\"zerolinecolor\":\"white\",\"zerolinewidth\":2},\"yaxis\":{\"automargin\":true,\"gridcolor\":\"white\",\"linecolor\":\"white\",\"ticks\":\"\",\"title\":{\"standoff\":15},\"zerolinecolor\":\"white\",\"zerolinewidth\":2}}},\"xaxis\":{\"anchor\":\"y\",\"domain\":[0.0,0.45],\"title\":{\"text\":\"Epoch\"}},\"yaxis\":{\"anchor\":\"x\",\"domain\":[0.0,1.0],\"range\":[0,1],\"title\":{\"text\":\"Accuracy\"}},\"xaxis2\":{\"anchor\":\"y2\",\"domain\":[0.55,1.0],\"title\":{\"text\":\"Epoch\"}},\"yaxis2\":{\"anchor\":\"x2\",\"domain\":[0.0,1.0],\"range\":[0,1],\"title\":{\"text\":\"Loss\"}}},                        {\"responsive\": true}                    ).then(function(){\n",
       "                            \n",
       "var gd = document.getElementById('db3fff8e-0dea-4ce4-af91-b0eb3e53fd9b');\n",
       "var x = new MutationObserver(function (mutations, observer) {{\n",
       "        var display = window.getComputedStyle(gd).display;\n",
       "        if (!display || display === 'none') {{\n",
       "            console.log([gd, 'removed!']);\n",
       "            Plotly.purge(gd);\n",
       "            observer.disconnect();\n",
       "        }}\n",
       "}});\n",
       "\n",
       "// Listen for the removal of the full notebook cells\n",
       "var notebookContainer = gd.closest('#notebook-container');\n",
       "if (notebookContainer) {{\n",
       "    x.observe(notebookContainer, {childList: true});\n",
       "}}\n",
       "\n",
       "// Listen for the clearing of the current output cell\n",
       "var outputEl = gd.closest('.output');\n",
       "if (outputEl) {{\n",
       "    x.observe(outputEl, {childList: true});\n",
       "}}\n",
       "\n",
       "                        })                };                });            </script>        </div>"
      ]
     },
     "metadata": {},
     "output_type": "display_data"
    }
   ],
   "source": [
    "plot_accuracy_and_loss(history, \"accuracy\")"
   ]
  },
  {
   "cell_type": "markdown",
   "metadata": {},
   "source": [
    "The validation accuracy does not improve after around 50 epochs and the validation loss is decreasing very slowly. The model, albeit simple, does not seem to show overfitting phenomena. As expected, the accuracy of the test data is lower than the training one but they are still close.\n",
    "\n",
    "Later, I will try to improve the model by adding layers. "
   ]
  },
  {
   "cell_type": "markdown",
   "metadata": {},
   "source": [
    "### Confusion Matrix\n"
   ]
  },
  {
   "cell_type": "markdown",
   "metadata": {},
   "source": [
    "`math.confusion_matrix` module computes the confusion matrix from predictions and labels. The matrix columns represent the prediction labels and the rows represent the real labels."
   ]
  },
  {
   "cell_type": "code",
   "execution_count": 164,
   "metadata": {},
   "outputs": [
    {
     "name": "stdout",
     "output_type": "stream",
     "text": [
      "313/313 [==============================] - 0s 690us/step\n"
     ]
    },
    {
     "data": {
      "text/plain": [
       "<tf.Tensor: shape=(10, 10), dtype=int32, numpy=\n",
       "array([[844,   0,  20,  22,   4,   0,  99,   0,  11,   0],\n",
       "       [  5, 970,   1,  17,   4,   0,   2,   0,   1,   0],\n",
       "       [ 18,   0, 837,  10,  81,   1,  51,   0,   2,   0],\n",
       "       [ 19,  10,  16, 888,  40,   0,  22,   0,   5,   0],\n",
       "       [  0,   2, 114,  29, 805,   0,  48,   0,   2,   0],\n",
       "       [  0,   0,   0,   1,   0, 959,   0,  25,   2,  13],\n",
       "       [125,   2, 113,  29,  67,   0, 657,   0,   7,   0],\n",
       "       [  0,   0,   0,   0,   0,  24,   0, 949,   0,  27],\n",
       "       [  7,   1,   5,   5,   5,   4,   7,   5, 961,   0],\n",
       "       [  0,   0,   0,   0,   0,  10,   1,  39,   0, 950]])>"
      ]
     },
     "execution_count": 164,
     "metadata": {},
     "output_type": "execute_result"
    }
   ],
   "source": [
    "predictions = model.predict(test_images)\n",
    "pred_labels = np.argmax(predictions, axis=1)\n",
    "\n",
    "cm = tf.math.confusion_matrix(\n",
    "    test_labels,\n",
    "    pred_labels,\n",
    "    num_classes=10,\n",
    ")\n",
    "\n",
    "cm"
   ]
  },
  {
   "cell_type": "markdown",
   "metadata": {},
   "source": [
    "#### Plot confusion matrix with sklearn"
   ]
  },
  {
   "cell_type": "markdown",
   "metadata": {},
   "source": [
    "In order to make the results more readable, I'm going to plot the confusion matrix:"
   ]
  },
  {
   "cell_type": "code",
   "execution_count": 165,
   "metadata": {},
   "outputs": [
    {
     "data": {
      "image/png": "[encoded data removed]",
      "text/plain": [
       "<Figure size 800x800 with 2 Axes>"
      ]
     },
     "metadata": {},
     "output_type": "display_data"
    }
   ],
   "source": [
    "plt.rcParams[\"figure.figsize\"] = (8,8)\n",
    "\n",
    "cm = confusion_matrix(test_labels, pred_labels)\n",
    "disp = ConfusionMatrixDisplay(confusion_matrix=cm, display_labels=class_names)\n",
    "disp.plot()\n",
    "plt.title(\"Confusion matrix\")\n",
    "tick_marks = np.arange(len(class_names))\n",
    "plt.xticks(tick_marks, class_names, rotation=45)\n",
    "plt.yticks(tick_marks, class_names)\n",
    "plt.show()"
   ]
  },
  {
   "cell_type": "markdown",
   "metadata": {},
   "source": [
    "Looking at the confusion matrix it is clear that the greatest number of prediction errors are committed in the categories shirt, t-shirt, coat and pullover. These are articles of clothing that are very similar to each other and therefore more difficult to classify."
   ]
  },
  {
   "cell_type": "code",
   "execution_count": 166,
   "metadata": {},
   "outputs": [
    {
     "name": "stdout",
     "output_type": "stream",
     "text": [
      "              precision    recall  f1-score   support\n",
      "\n",
      " T-shirt/top       0.83      0.84      0.84      1000\n",
      "     Trouser       0.98      0.97      0.98      1000\n",
      "    Pullover       0.76      0.84      0.79      1000\n",
      "       Dress       0.89      0.89      0.89      1000\n",
      "        Coat       0.80      0.81      0.80      1000\n",
      "      Sandal       0.96      0.96      0.96      1000\n",
      "       Shirt       0.74      0.66      0.70      1000\n",
      "     Sneaker       0.93      0.95      0.94      1000\n",
      "         Bag       0.97      0.96      0.97      1000\n",
      "  Ankle boot       0.96      0.95      0.95      1000\n",
      "\n",
      "    accuracy                           0.88     10000\n",
      "   macro avg       0.88      0.88      0.88     10000\n",
      "weighted avg       0.88      0.88      0.88     10000\n",
      "\n"
     ]
    }
   ],
   "source": [
    "print(classification_report(test_labels, pred_labels, target_names = class_names))"
   ]
  },
  {
   "cell_type": "markdown",
   "metadata": {},
   "source": [
    "In the table I'm showing the following scores:\n",
    "- **precision** is the ability of the classifier not to label as positive a sample that is negative: $$tp / (tp + fp)$$ where $tp$ is the number of true positives and $fp$ the number of false positives.  \n",
    "- **recall** is the ability of the classifier to find all the positive samples: $$tp / (tp + fn)$$ where $tp$ is the number of true positives and $fn$ the number of false negatives.\n",
    "- **f1-score**, also known as balanced F-score or F-measure, can be interpreted as a harmonic mean of the precision and recall $$f1 = 2 * (precision * recall) / (precision + recall)$$\n",
    "\n",
    "Looking at the classification report we observe that, in accordance with what has been said about the confusion matrix, the classes with a lower score are shirt, pullover, tshirt and coat."
   ]
  },
  {
   "cell_type": "markdown",
   "metadata": {},
   "source": [
    "## Predict\n",
    "### Make predictions\n",
    "\n",
    "With the model trained, we can use it to make predictions about images."
   ]
  },
  {
   "cell_type": "code",
   "execution_count": 167,
   "metadata": {},
   "outputs": [
    {
     "name": "stdout",
     "output_type": "stream",
     "text": [
      "313/313 [==============================] - 1s 3ms/step\n"
     ]
    }
   ],
   "source": [
    "predictions = model.predict(test_images)"
   ]
  },
  {
   "cell_type": "markdown",
   "metadata": {},
   "source": [
    "Here, the model has predicted the label for each image in the testing set. Let's take a look at the first prediction:"
   ]
  },
  {
   "cell_type": "code",
   "execution_count": 168,
   "metadata": {},
   "outputs": [
    {
     "data": {
      "text/plain": [
       "array([1.5596328e-06, 2.6477821e-08, 1.1967720e-05, 1.3296350e-06,\n",
       "       1.6797665e-06, 3.0612435e-02, 3.1158686e-06, 2.2840386e-02,\n",
       "       7.2284043e-04, 9.4580466e-01], dtype=float32)"
      ]
     },
     "execution_count": 168,
     "metadata": {},
     "output_type": "execute_result"
    }
   ],
   "source": [
    "predictions[0]"
   ]
  },
  {
   "cell_type": "markdown",
   "metadata": {},
   "source": [
    "A prediction is an array of 10 numbers. They represent the model's \"confidence\" that the image corresponds to each of the 10 different articles of clothing. \n",
    "\n",
    "We can see which label has the highest confidence value:"
   ]
  },
  {
   "cell_type": "code",
   "execution_count": 169,
   "metadata": {},
   "outputs": [
    {
     "data": {
      "text/plain": [
       "9"
      ]
     },
     "execution_count": 169,
     "metadata": {},
     "output_type": "execute_result"
    }
   ],
   "source": [
    "np.argmax(predictions[0])"
   ]
  },
  {
   "cell_type": "markdown",
   "metadata": {},
   "source": [
    "So, the model is most confident that this image is an ankle boot, or `class_names[9]`. Examining the test label shows that this classification is correct:"
   ]
  },
  {
   "cell_type": "code",
   "execution_count": 170,
   "metadata": {},
   "outputs": [
    {
     "data": {
      "text/plain": [
       "9"
      ]
     },
     "execution_count": 170,
     "metadata": {},
     "output_type": "execute_result"
    }
   ],
   "source": [
    "test_labels[0]"
   ]
  },
  {
   "cell_type": "code",
   "execution_count": 171,
   "metadata": {},
   "outputs": [
    {
     "data": {
      "image/png": "[encoded data removed]",
      "text/plain": [
       "<Figure size 500x500 with 2 Axes>"
      ]
     },
     "metadata": {},
     "output_type": "display_data"
    }
   ],
   "source": [
    "plt.figure(figsize=(5,5))\n",
    "plt.imshow(train_images[0])\n",
    "plt.colorbar()\n",
    "plt.grid(False)\n",
    "plt.show()"
   ]
  },
  {
   "cell_type": "markdown",
   "metadata": {},
   "source": [
    "### Verify predictions\n",
    "\n",
    "Let's look at some images, predictions, and prediction array. Correct prediction labels are blue and incorrect prediction labels are red. The number gives the percentage (out of 100) for the predicted label."
   ]
  },
  {
   "cell_type": "code",
   "execution_count": 172,
   "metadata": {},
   "outputs": [],
   "source": [
    "def plot_image(i, predictions_array, true_label, img):\n",
    "    true_label, img = true_label[i], img[i]\n",
    "    plt.grid(False)\n",
    "    plt.xticks([])\n",
    "    plt.yticks([])\n",
    "\n",
    "    plt.imshow(img, cmap=plt.cm.binary)\n",
    "\n",
    "    predicted_label = np.argmax(predictions_array)\n",
    "    if predicted_label == true_label:\n",
    "        color = 'blue'\n",
    "    else:\n",
    "        color = 'red'\n",
    "\n",
    "    plt.xlabel(\"{} {:2.0f}% ({})\".format(class_names[predicted_label],\n",
    "                                100*np.max(predictions_array),\n",
    "                                class_names[true_label]),\n",
    "                                color=color)\n",
    "\n",
    "def plot_value_array(i, predictions_array, true_label):\n",
    "    true_label = true_label[i]\n",
    "    plt.grid(False)\n",
    "    plt.xticks(range(10))\n",
    "    plt.yticks([])\n",
    "    thisplot = plt.bar(range(10), predictions_array, color=\"#777777\")\n",
    "    plt.ylim([0, 1])\n",
    "    predicted_label = np.argmax(predictions_array)\n",
    "\n",
    "    thisplot[predicted_label].set_color('red')\n",
    "    thisplot[true_label].set_color('blue')"
   ]
  },
  {
   "cell_type": "markdown",
   "metadata": {},
   "source": [
    "Lets plot some test examples"
   ]
  },
  {
   "cell_type": "code",
   "execution_count": 173,
   "metadata": {},
   "outputs": [
    {
     "data": {
      "image/png": "[encoded data removed]",
      "text/plain": [
       "<Figure size 600x300 with 2 Axes>"
      ]
     },
     "metadata": {},
     "output_type": "display_data"
    }
   ],
   "source": [
    "i = 15\n",
    "plt.figure(figsize=(6,3))\n",
    "plt.subplot(1,2,1)\n",
    "plot_image(i, predictions[i], test_labels, test_images)\n",
    "plt.subplot(1,2,2)\n",
    "plot_value_array(i, predictions[i],  test_labels)\n",
    "plt.show()"
   ]
  },
  {
   "cell_type": "code",
   "execution_count": 174,
   "metadata": {},
   "outputs": [
    {
     "data": {
      "image/png": "[encoded data removed]",
      "text/plain": [
       "<Figure size 600x300 with 2 Axes>"
      ]
     },
     "metadata": {},
     "output_type": "display_data"
    }
   ],
   "source": [
    "i = 12\n",
    "plt.figure(figsize=(6,3))\n",
    "plt.subplot(1,2,1)\n",
    "plot_image(i, predictions[i], test_labels, test_images)\n",
    "plt.subplot(1,2,2)\n",
    "plot_value_array(i, predictions[i],  test_labels)\n",
    "plt.show()"
   ]
  },
  {
   "cell_type": "markdown",
   "metadata": {},
   "source": [
    "Let's plot several images with their predictions. Note that the model can be wrong even when very confident."
   ]
  },
  {
   "cell_type": "code",
   "execution_count": 175,
   "metadata": {},
   "outputs": [
    {
     "data": {
      "image/png": "[encoded data removed]",
      "text/plain": [
       "<Figure size 1200x1000 with 30 Axes>"
      ]
     },
     "metadata": {},
     "output_type": "display_data"
    }
   ],
   "source": [
    "# Plot the first 15 test images, their predicted labels, and the true labels.\n",
    "# Color correct predictions in blue and incorrect predictions in red.\n",
    "num_rows = 5\n",
    "num_cols = 3\n",
    "num_images = num_rows*num_cols\n",
    "plt.figure(figsize=(2*2*num_cols, 2*num_rows))\n",
    "for i in range(num_images):\n",
    "  plt.subplot(num_rows, 2*num_cols, 2*i+1)\n",
    "  plot_image(i, predictions[i], test_labels, test_images)\n",
    "  plt.subplot(num_rows, 2*num_cols, 2*i+2)\n",
    "  plot_value_array(i, predictions[i], test_labels)\n",
    "plt.tight_layout()\n",
    "plt.show()"
   ]
  },
  {
   "cell_type": "markdown",
   "metadata": {},
   "source": [
    "# Try to improve model "
   ]
  },
  {
   "cell_type": "markdown",
   "metadata": {},
   "source": [
    "In order to try to improve the model I'm going to add the layers added are as follows:\n",
    "\n",
    "- **Conv2D**: it is a 2D Convolutional layer. The parameters used are:\n",
    "  - filters - the number of filters (Kernels) used with this layer; here filters = 32;\n",
    "  - kernel_size - the dimmension of the Kernel: (3 x 3);\n",
    "  - activation - is the activation function used, in this case `relu`;\n",
    "  - kernel_initializer - the function used for initializing the kernel;\n",
    "  - input_shape - is the shape of the image presented to the CNN: in our case is 28 x 28\n",
    "- **MaxPooling2D**: is a pooling operation that calculates the maximum value for patches of a feature map, and uses it to create a downsampled (pooled) feature map. It is usually used after a convolutional layer. Parameters used here are:\n",
    "  - *pool_size*, in this case (2,2), representing the factors by which to downscale in both directions;\n",
    "- **Dropout**: randomly selected neurons are ignored during training. They are “dropped out” randomly. This means that their contribution to the activation of downstream neurons is temporally removed on the forward pass, and any weight updates are not applied to the neuron on the backward pass. The effect is that the network becomes less sensitive to the specific weights of neurons. This results in a network capable of better generalization and less likely to overfit the training data.  \n",
    "- **Conv2D**: with the following parameters:\n",
    "  - filters: 64;\n",
    "  - kernel_size : (3 x 3);\n",
    "  - activation : `relu`;\n",
    "- **MaxPooling2D**: is a Max pooling operation with parameter:\n",
    "  - *pool_size* : (2,2);\n",
    "- **Dropout**:The Dropout layer randomly sets input units to 0 with a frequency of rate at each step during training time. \n",
    "- **Flatten**: it transforms the format of the images from a two-dimensional array (of 28 by 28 pixels) to a one-dimensional array (of 28 * 28 = 784 pixels). \n",
    "- **Dense**: this layer is a regular fully-connected NN layer.\n",
    "  - units : 32;\n",
    "  - activation : `relu`\n",
    "- **Dropout**: The Dropout layer randomly sets input units to 0 with a frequency of rate at each step during training time. \n",
    "- **Dense**: this is the final layer (fully connected). \n",
    "  - units: the number of classes (10);\n",
    "  - activation : `softmax`;"
   ]
  },
  {
   "cell_type": "code",
   "execution_count": 176,
   "metadata": {},
   "outputs": [],
   "source": [
    "\n",
    "model_upgrade = tf.keras.models.Sequential([\n",
    "    tf.keras.layers.Conv2D(32, 3, activation='relu', input_shape=(28, 28, 1)),\n",
    "    tf.keras.layers.MaxPooling2D(),\n",
    "    tf.keras.layers.Dropout(0.2, ),\n",
    "\n",
    "    tf.keras.layers.Conv2D(64, 3, activation='relu'),\n",
    "    tf.keras.layers.MaxPooling2D(),\n",
    "    tf.keras.layers.Dropout(0.2),\n",
    "\n",
    "    tf.keras.layers.Flatten(),\n",
    "    tf.keras.layers.Dense(32,activation='relu'),\n",
    "    tf.keras.layers.Dropout(0.3),\n",
    "    tf.keras.layers.Dense(10, activation=\"softmax\")\n",
    "    ]) \n"
   ]
  },
  {
   "cell_type": "code",
   "execution_count": 177,
   "metadata": {},
   "outputs": [
    {
     "name": "stdout",
     "output_type": "stream",
     "text": [
      "Model: \"sequential_4\"\n",
      "_________________________________________________________________\n",
      " Layer (type)                Output Shape              Param #   \n",
      "=================================================================\n",
      " conv2d_3 (Conv2D)           (None, 26, 26, 32)        320       \n",
      "                                                                 \n",
      " max_pooling2d_3 (MaxPooling  (None, 13, 13, 32)       0         \n",
      " 2D)                                                             \n",
      "                                                                 \n",
      " dropout_4 (Dropout)         (None, 13, 13, 32)        0         \n",
      "                                                                 \n",
      " conv2d_4 (Conv2D)           (None, 11, 11, 64)        18496     \n",
      "                                                                 \n",
      " max_pooling2d_4 (MaxPooling  (None, 5, 5, 64)         0         \n",
      " 2D)                                                             \n",
      "                                                                 \n",
      " dropout_5 (Dropout)         (None, 5, 5, 64)          0         \n",
      "                                                                 \n",
      " flatten_4 (Flatten)         (None, 1600)              0         \n",
      "                                                                 \n",
      " dense_8 (Dense)             (None, 32)                51232     \n",
      "                                                                 \n",
      " dropout_6 (Dropout)         (None, 32)                0         \n",
      "                                                                 \n",
      " dense_9 (Dense)             (None, 10)                330       \n",
      "                                                                 \n",
      "=================================================================\n",
      "Total params: 70,378\n",
      "Trainable params: 70,378\n",
      "Non-trainable params: 0\n",
      "_________________________________________________________________\n"
     ]
    }
   ],
   "source": [
    "model_upgrade.summary()"
   ]
  },
  {
   "cell_type": "code",
   "execution_count": 178,
   "metadata": {},
   "outputs": [],
   "source": [
    "# #OPTIONS\n",
    "model_upgrade.compile(\n",
    "    optimizer=tf.keras.optimizers.Adam(0.001),\n",
    "    loss=tf.keras.losses.SparseCategoricalCrossentropy(),\n",
    "    metrics=[\"accuracy\"],\n",
    ")\n",
    "\n",
    "# #OPTIONS\n",
    "# model_upgrade.compile(\n",
    "#     optimizer=tf.keras.optimizers.Adam(0.001),\n",
    "#     loss=tf.keras.losses.SparseCategoricalCrossentropy(from_logits=True),\n",
    "#     metrics=[tf.keras.metrics.SparseCategoricalAccuracy()],\n",
    "# )"
   ]
  },
  {
   "cell_type": "code",
   "execution_count": 179,
   "metadata": {},
   "outputs": [],
   "source": [
    "# callbacks\n",
    "ourcallbacks = [\n",
    "    # tf.keras.callbacks.ModelCheckpoint(\n",
    "    #     filepath='./models/MNIST2/model_upgrade.{epoch:02d}-{loss:.2f}.h5',\n",
    "    #     save_best_only=True\n",
    "    #     ),\n",
    "    tf.keras.callbacks.TensorBoard(log_dir='./logs/FINAL/')\n",
    "]"
   ]
  },
  {
   "cell_type": "code",
   "execution_count": 180,
   "metadata": {},
   "outputs": [],
   "source": [
    "%reload_ext tensorboard"
   ]
  },
  {
   "cell_type": "code",
   "execution_count": 181,
   "metadata": {},
   "outputs": [
    {
     "name": "stdout",
     "output_type": "stream",
     "text": [
      "Epoch 1/100\n",
      "469/469 - 15s - loss: 0.8364 - accuracy: 0.6966 - val_loss: 0.5072 - val_accuracy: 0.8093 - 15s/epoch - 32ms/step\n",
      "Epoch 2/100\n",
      "469/469 - 13s - loss: 0.5399 - accuracy: 0.8031 - val_loss: 0.4238 - val_accuracy: 0.8462 - 13s/epoch - 28ms/step\n",
      "Epoch 3/100\n",
      "469/469 - 11s - loss: 0.4721 - accuracy: 0.8279 - val_loss: 0.3764 - val_accuracy: 0.8676 - 11s/epoch - 24ms/step\n",
      "Epoch 4/100\n",
      "469/469 - 11s - loss: 0.4330 - accuracy: 0.8457 - val_loss: 0.3476 - val_accuracy: 0.8765 - 11s/epoch - 24ms/step\n",
      "Epoch 5/100\n",
      "469/469 - 11s - loss: 0.4061 - accuracy: 0.8550 - val_loss: 0.3306 - val_accuracy: 0.8794 - 11s/epoch - 23ms/step\n",
      "Epoch 6/100\n",
      "469/469 - 11s - loss: 0.3851 - accuracy: 0.8625 - val_loss: 0.3153 - val_accuracy: 0.8865 - 11s/epoch - 23ms/step\n",
      "Epoch 7/100\n",
      "469/469 - 11s - loss: 0.3704 - accuracy: 0.8671 - val_loss: 0.3031 - val_accuracy: 0.8901 - 11s/epoch - 23ms/step\n",
      "Epoch 8/100\n",
      "469/469 - 11s - loss: 0.3518 - accuracy: 0.8722 - val_loss: 0.2952 - val_accuracy: 0.8915 - 11s/epoch - 22ms/step\n",
      "Epoch 9/100\n",
      "469/469 - 11s - loss: 0.3469 - accuracy: 0.8761 - val_loss: 0.2944 - val_accuracy: 0.8924 - 11s/epoch - 22ms/step\n",
      "Epoch 10/100\n",
      "469/469 - 10s - loss: 0.3334 - accuracy: 0.8800 - val_loss: 0.2801 - val_accuracy: 0.8978 - 10s/epoch - 22ms/step\n",
      "Epoch 11/100\n",
      "469/469 - 10s - loss: 0.3266 - accuracy: 0.8814 - val_loss: 0.2706 - val_accuracy: 0.9022 - 10s/epoch - 22ms/step\n",
      "Epoch 12/100\n",
      "469/469 - 11s - loss: 0.3140 - accuracy: 0.8862 - val_loss: 0.2742 - val_accuracy: 0.8998 - 11s/epoch - 22ms/step\n",
      "Epoch 13/100\n",
      "469/469 - 10s - loss: 0.3094 - accuracy: 0.8891 - val_loss: 0.2690 - val_accuracy: 0.9014 - 10s/epoch - 22ms/step\n",
      "Epoch 14/100\n",
      "469/469 - 10s - loss: 0.3053 - accuracy: 0.8889 - val_loss: 0.2584 - val_accuracy: 0.9038 - 10s/epoch - 22ms/step\n",
      "Epoch 15/100\n",
      "469/469 - 10s - loss: 0.3003 - accuracy: 0.8921 - val_loss: 0.2560 - val_accuracy: 0.9086 - 10s/epoch - 22ms/step\n",
      "Epoch 16/100\n",
      "469/469 - 11s - loss: 0.2944 - accuracy: 0.8934 - val_loss: 0.2751 - val_accuracy: 0.8970 - 11s/epoch - 22ms/step\n",
      "Epoch 17/100\n",
      "469/469 - 10s - loss: 0.2896 - accuracy: 0.8952 - val_loss: 0.2590 - val_accuracy: 0.9028 - 10s/epoch - 22ms/step\n",
      "Epoch 18/100\n",
      "469/469 - 10s - loss: 0.2855 - accuracy: 0.8950 - val_loss: 0.2513 - val_accuracy: 0.9075 - 10s/epoch - 22ms/step\n",
      "Epoch 19/100\n",
      "469/469 - 10s - loss: 0.2847 - accuracy: 0.8969 - val_loss: 0.2466 - val_accuracy: 0.9105 - 10s/epoch - 22ms/step\n",
      "Epoch 20/100\n",
      "469/469 - 11s - loss: 0.2794 - accuracy: 0.8960 - val_loss: 0.2457 - val_accuracy: 0.9101 - 11s/epoch - 22ms/step\n",
      "Epoch 21/100\n",
      "469/469 - 11s - loss: 0.2761 - accuracy: 0.8987 - val_loss: 0.2504 - val_accuracy: 0.9084 - 11s/epoch - 23ms/step\n",
      "Epoch 22/100\n",
      "469/469 - 11s - loss: 0.2703 - accuracy: 0.9005 - val_loss: 0.2467 - val_accuracy: 0.9096 - 11s/epoch - 23ms/step\n",
      "Epoch 23/100\n",
      "469/469 - 10s - loss: 0.2686 - accuracy: 0.9010 - val_loss: 0.2443 - val_accuracy: 0.9111 - 10s/epoch - 22ms/step\n",
      "Epoch 24/100\n",
      "469/469 - 11s - loss: 0.2652 - accuracy: 0.9030 - val_loss: 0.2522 - val_accuracy: 0.9076 - 11s/epoch - 22ms/step\n",
      "Epoch 25/100\n",
      "469/469 - 11s - loss: 0.2617 - accuracy: 0.9025 - val_loss: 0.2425 - val_accuracy: 0.9123 - 11s/epoch - 23ms/step\n",
      "Epoch 26/100\n",
      "469/469 - 11s - loss: 0.2602 - accuracy: 0.9042 - val_loss: 0.2435 - val_accuracy: 0.9115 - 11s/epoch - 23ms/step\n",
      "Epoch 27/100\n",
      "469/469 - 11s - loss: 0.2592 - accuracy: 0.9046 - val_loss: 0.2451 - val_accuracy: 0.9101 - 11s/epoch - 23ms/step\n",
      "Epoch 28/100\n",
      "469/469 - 11s - loss: 0.2573 - accuracy: 0.9063 - val_loss: 0.2517 - val_accuracy: 0.9065 - 11s/epoch - 23ms/step\n",
      "Epoch 29/100\n",
      "469/469 - 11s - loss: 0.2544 - accuracy: 0.9073 - val_loss: 0.2413 - val_accuracy: 0.9129 - 11s/epoch - 24ms/step\n",
      "Epoch 30/100\n",
      "469/469 - 11s - loss: 0.2538 - accuracy: 0.9061 - val_loss: 0.2397 - val_accuracy: 0.9135 - 11s/epoch - 24ms/step\n",
      "Epoch 31/100\n",
      "469/469 - 11s - loss: 0.2509 - accuracy: 0.9063 - val_loss: 0.2399 - val_accuracy: 0.9126 - 11s/epoch - 24ms/step\n",
      "Epoch 32/100\n",
      "469/469 - 11s - loss: 0.2491 - accuracy: 0.9093 - val_loss: 0.2385 - val_accuracy: 0.9122 - 11s/epoch - 24ms/step\n",
      "Epoch 33/100\n",
      "469/469 - 11s - loss: 0.2518 - accuracy: 0.9067 - val_loss: 0.2490 - val_accuracy: 0.9083 - 11s/epoch - 24ms/step\n",
      "Epoch 34/100\n",
      "469/469 - 11s - loss: 0.2444 - accuracy: 0.9099 - val_loss: 0.2404 - val_accuracy: 0.9127 - 11s/epoch - 23ms/step\n",
      "Epoch 35/100\n",
      "469/469 - 10s - loss: 0.2466 - accuracy: 0.9079 - val_loss: 0.2355 - val_accuracy: 0.9151 - 10s/epoch - 22ms/step\n",
      "Epoch 36/100\n",
      "469/469 - 10s - loss: 0.2429 - accuracy: 0.9083 - val_loss: 0.2387 - val_accuracy: 0.9126 - 10s/epoch - 22ms/step\n",
      "Epoch 37/100\n",
      "469/469 - 10s - loss: 0.2414 - accuracy: 0.9100 - val_loss: 0.2369 - val_accuracy: 0.9129 - 10s/epoch - 22ms/step\n",
      "Epoch 38/100\n",
      "469/469 - 10s - loss: 0.2402 - accuracy: 0.9108 - val_loss: 0.2709 - val_accuracy: 0.8968 - 10s/epoch - 22ms/step\n",
      "Epoch 39/100\n",
      "469/469 - 10s - loss: 0.2386 - accuracy: 0.9104 - val_loss: 0.2403 - val_accuracy: 0.9157 - 10s/epoch - 22ms/step\n",
      "Epoch 40/100\n",
      "469/469 - 10s - loss: 0.2374 - accuracy: 0.9120 - val_loss: 0.2413 - val_accuracy: 0.9107 - 10s/epoch - 22ms/step\n",
      "Epoch 41/100\n",
      "469/469 - 10s - loss: 0.2372 - accuracy: 0.9118 - val_loss: 0.2365 - val_accuracy: 0.9140 - 10s/epoch - 22ms/step\n",
      "Epoch 42/100\n",
      "469/469 - 10s - loss: 0.2343 - accuracy: 0.9115 - val_loss: 0.2332 - val_accuracy: 0.9153 - 10s/epoch - 22ms/step\n",
      "Epoch 43/100\n",
      "469/469 - 10s - loss: 0.2324 - accuracy: 0.9137 - val_loss: 0.2374 - val_accuracy: 0.9141 - 10s/epoch - 22ms/step\n",
      "Epoch 44/100\n",
      "469/469 - 10s - loss: 0.2348 - accuracy: 0.9126 - val_loss: 0.2378 - val_accuracy: 0.9122 - 10s/epoch - 22ms/step\n",
      "Epoch 45/100\n",
      "469/469 - 10s - loss: 0.2337 - accuracy: 0.9128 - val_loss: 0.2337 - val_accuracy: 0.9157 - 10s/epoch - 22ms/step\n",
      "Epoch 46/100\n",
      "469/469 - 10s - loss: 0.2305 - accuracy: 0.9136 - val_loss: 0.2446 - val_accuracy: 0.9132 - 10s/epoch - 22ms/step\n",
      "Epoch 47/100\n",
      "469/469 - 10s - loss: 0.2328 - accuracy: 0.9128 - val_loss: 0.2359 - val_accuracy: 0.9159 - 10s/epoch - 22ms/step\n",
      "Epoch 48/100\n",
      "469/469 - 10s - loss: 0.2288 - accuracy: 0.9146 - val_loss: 0.2364 - val_accuracy: 0.9146 - 10s/epoch - 22ms/step\n",
      "Epoch 49/100\n",
      "469/469 - 10s - loss: 0.2270 - accuracy: 0.9145 - val_loss: 0.2399 - val_accuracy: 0.9132 - 10s/epoch - 22ms/step\n",
      "Epoch 50/100\n",
      "469/469 - 10s - loss: 0.2237 - accuracy: 0.9162 - val_loss: 0.2419 - val_accuracy: 0.9117 - 10s/epoch - 22ms/step\n",
      "Epoch 51/100\n",
      "469/469 - 10s - loss: 0.2275 - accuracy: 0.9152 - val_loss: 0.2350 - val_accuracy: 0.9148 - 10s/epoch - 22ms/step\n",
      "Epoch 52/100\n",
      "469/469 - 10s - loss: 0.2242 - accuracy: 0.9160 - val_loss: 0.2334 - val_accuracy: 0.9150 - 10s/epoch - 22ms/step\n",
      "Epoch 53/100\n",
      "469/469 - 10s - loss: 0.2248 - accuracy: 0.9144 - val_loss: 0.2379 - val_accuracy: 0.9146 - 10s/epoch - 22ms/step\n",
      "Epoch 54/100\n",
      "469/469 - 10s - loss: 0.2252 - accuracy: 0.9146 - val_loss: 0.2359 - val_accuracy: 0.9150 - 10s/epoch - 22ms/step\n",
      "Epoch 55/100\n",
      "469/469 - 10s - loss: 0.2202 - accuracy: 0.9162 - val_loss: 0.2350 - val_accuracy: 0.9156 - 10s/epoch - 22ms/step\n",
      "Epoch 56/100\n",
      "469/469 - 10s - loss: 0.2205 - accuracy: 0.9173 - val_loss: 0.2342 - val_accuracy: 0.9165 - 10s/epoch - 22ms/step\n",
      "Epoch 57/100\n",
      "469/469 - 10s - loss: 0.2216 - accuracy: 0.9165 - val_loss: 0.2313 - val_accuracy: 0.9160 - 10s/epoch - 22ms/step\n",
      "Epoch 58/100\n",
      "469/469 - 10s - loss: 0.2166 - accuracy: 0.9178 - val_loss: 0.2371 - val_accuracy: 0.9148 - 10s/epoch - 22ms/step\n",
      "Epoch 59/100\n",
      "469/469 - 10s - loss: 0.2184 - accuracy: 0.9170 - val_loss: 0.2385 - val_accuracy: 0.9164 - 10s/epoch - 22ms/step\n",
      "Epoch 60/100\n",
      "469/469 - 10s - loss: 0.2181 - accuracy: 0.9174 - val_loss: 0.2372 - val_accuracy: 0.9158 - 10s/epoch - 22ms/step\n",
      "Epoch 61/100\n",
      "469/469 - 10s - loss: 0.2199 - accuracy: 0.9167 - val_loss: 0.2357 - val_accuracy: 0.9159 - 10s/epoch - 22ms/step\n",
      "Epoch 62/100\n",
      "469/469 - 10s - loss: 0.2157 - accuracy: 0.9186 - val_loss: 0.2356 - val_accuracy: 0.9155 - 10s/epoch - 22ms/step\n",
      "Epoch 63/100\n",
      "469/469 - 10s - loss: 0.2186 - accuracy: 0.9168 - val_loss: 0.2307 - val_accuracy: 0.9179 - 10s/epoch - 22ms/step\n",
      "Epoch 64/100\n",
      "469/469 - 10s - loss: 0.2154 - accuracy: 0.9187 - val_loss: 0.2395 - val_accuracy: 0.9155 - 10s/epoch - 22ms/step\n",
      "Epoch 65/100\n",
      "469/469 - 10s - loss: 0.2129 - accuracy: 0.9190 - val_loss: 0.2427 - val_accuracy: 0.9159 - 10s/epoch - 22ms/step\n",
      "Epoch 66/100\n",
      "469/469 - 10s - loss: 0.2158 - accuracy: 0.9186 - val_loss: 0.2311 - val_accuracy: 0.9173 - 10s/epoch - 22ms/step\n",
      "Epoch 67/100\n",
      "469/469 - 10s - loss: 0.2165 - accuracy: 0.9179 - val_loss: 0.2389 - val_accuracy: 0.9153 - 10s/epoch - 22ms/step\n",
      "Epoch 68/100\n",
      "469/469 - 10s - loss: 0.2134 - accuracy: 0.9197 - val_loss: 0.2376 - val_accuracy: 0.9166 - 10s/epoch - 22ms/step\n",
      "Epoch 69/100\n",
      "469/469 - 10s - loss: 0.2122 - accuracy: 0.9203 - val_loss: 0.2401 - val_accuracy: 0.9139 - 10s/epoch - 22ms/step\n",
      "Epoch 70/100\n",
      "469/469 - 10s - loss: 0.2107 - accuracy: 0.9205 - val_loss: 0.2356 - val_accuracy: 0.9149 - 10s/epoch - 22ms/step\n",
      "Epoch 71/100\n",
      "469/469 - 10s - loss: 0.2101 - accuracy: 0.9204 - val_loss: 0.2423 - val_accuracy: 0.9146 - 10s/epoch - 22ms/step\n",
      "Epoch 72/100\n",
      "469/469 - 10s - loss: 0.2111 - accuracy: 0.9202 - val_loss: 0.2398 - val_accuracy: 0.9155 - 10s/epoch - 22ms/step\n",
      "Epoch 73/100\n",
      "469/469 - 10s - loss: 0.2117 - accuracy: 0.9199 - val_loss: 0.2347 - val_accuracy: 0.9170 - 10s/epoch - 22ms/step\n",
      "Epoch 74/100\n",
      "469/469 - 10s - loss: 0.2111 - accuracy: 0.9202 - val_loss: 0.2318 - val_accuracy: 0.9193 - 10s/epoch - 22ms/step\n",
      "Epoch 75/100\n",
      "469/469 - 10s - loss: 0.2078 - accuracy: 0.9210 - val_loss: 0.2320 - val_accuracy: 0.9176 - 10s/epoch - 22ms/step\n",
      "Epoch 76/100\n",
      "469/469 - 10s - loss: 0.2109 - accuracy: 0.9194 - val_loss: 0.2387 - val_accuracy: 0.9157 - 10s/epoch - 22ms/step\n",
      "Epoch 77/100\n",
      "469/469 - 10s - loss: 0.2057 - accuracy: 0.9219 - val_loss: 0.2332 - val_accuracy: 0.9191 - 10s/epoch - 22ms/step\n",
      "Epoch 78/100\n",
      "469/469 - 10s - loss: 0.2050 - accuracy: 0.9221 - val_loss: 0.2342 - val_accuracy: 0.9179 - 10s/epoch - 22ms/step\n",
      "Epoch 79/100\n",
      "469/469 - 10s - loss: 0.2042 - accuracy: 0.9216 - val_loss: 0.2341 - val_accuracy: 0.9159 - 10s/epoch - 22ms/step\n",
      "Epoch 80/100\n",
      "469/469 - 10s - loss: 0.2072 - accuracy: 0.9213 - val_loss: 0.2403 - val_accuracy: 0.9164 - 10s/epoch - 22ms/step\n",
      "Epoch 81/100\n",
      "469/469 - 10s - loss: 0.2035 - accuracy: 0.9225 - val_loss: 0.2401 - val_accuracy: 0.9178 - 10s/epoch - 22ms/step\n",
      "Epoch 82/100\n",
      "469/469 - 10s - loss: 0.2062 - accuracy: 0.9220 - val_loss: 0.2401 - val_accuracy: 0.9163 - 10s/epoch - 22ms/step\n",
      "Epoch 83/100\n",
      "469/469 - 10s - loss: 0.2068 - accuracy: 0.9217 - val_loss: 0.2317 - val_accuracy: 0.9180 - 10s/epoch - 22ms/step\n",
      "Epoch 84/100\n",
      "469/469 - 10s - loss: 0.2047 - accuracy: 0.9230 - val_loss: 0.2343 - val_accuracy: 0.9184 - 10s/epoch - 22ms/step\n",
      "Epoch 85/100\n",
      "469/469 - 10s - loss: 0.2020 - accuracy: 0.9233 - val_loss: 0.2344 - val_accuracy: 0.9197 - 10s/epoch - 22ms/step\n",
      "Epoch 86/100\n",
      "469/469 - 10s - loss: 0.2037 - accuracy: 0.9223 - val_loss: 0.2361 - val_accuracy: 0.9181 - 10s/epoch - 22ms/step\n",
      "Epoch 87/100\n",
      "469/469 - 10s - loss: 0.2042 - accuracy: 0.9223 - val_loss: 0.2338 - val_accuracy: 0.9178 - 10s/epoch - 22ms/step\n",
      "Epoch 88/100\n",
      "469/469 - 10s - loss: 0.2014 - accuracy: 0.9240 - val_loss: 0.2363 - val_accuracy: 0.9181 - 10s/epoch - 22ms/step\n",
      "Epoch 89/100\n",
      "469/469 - 10s - loss: 0.2006 - accuracy: 0.9233 - val_loss: 0.2379 - val_accuracy: 0.9150 - 10s/epoch - 22ms/step\n",
      "Epoch 90/100\n",
      "469/469 - 10s - loss: 0.2018 - accuracy: 0.9230 - val_loss: 0.2332 - val_accuracy: 0.9180 - 10s/epoch - 22ms/step\n",
      "Epoch 91/100\n",
      "469/469 - 10s - loss: 0.1985 - accuracy: 0.9245 - val_loss: 0.2332 - val_accuracy: 0.9181 - 10s/epoch - 22ms/step\n",
      "Epoch 92/100\n",
      "469/469 - 10s - loss: 0.1997 - accuracy: 0.9237 - val_loss: 0.2349 - val_accuracy: 0.9160 - 10s/epoch - 22ms/step\n",
      "Epoch 93/100\n",
      "469/469 - 10s - loss: 0.2013 - accuracy: 0.9238 - val_loss: 0.2426 - val_accuracy: 0.9143 - 10s/epoch - 22ms/step\n",
      "Epoch 94/100\n",
      "469/469 - 10s - loss: 0.1988 - accuracy: 0.9247 - val_loss: 0.2393 - val_accuracy: 0.9195 - 10s/epoch - 22ms/step\n",
      "Epoch 95/100\n",
      "469/469 - 11s - loss: 0.2015 - accuracy: 0.9240 - val_loss: 0.2482 - val_accuracy: 0.9129 - 11s/epoch - 23ms/step\n",
      "Epoch 96/100\n",
      "469/469 - 10s - loss: 0.1978 - accuracy: 0.9242 - val_loss: 0.2392 - val_accuracy: 0.9167 - 10s/epoch - 22ms/step\n",
      "Epoch 97/100\n",
      "469/469 - 10s - loss: 0.1995 - accuracy: 0.9237 - val_loss: 0.2366 - val_accuracy: 0.9173 - 10s/epoch - 22ms/step\n",
      "Epoch 98/100\n",
      "469/469 - 10s - loss: 0.1981 - accuracy: 0.9238 - val_loss: 0.2330 - val_accuracy: 0.9185 - 10s/epoch - 22ms/step\n",
      "Epoch 99/100\n",
      "469/469 - 10s - loss: 0.2010 - accuracy: 0.9223 - val_loss: 0.2383 - val_accuracy: 0.9172 - 10s/epoch - 22ms/step\n",
      "Epoch 100/100\n",
      "469/469 - 10s - loss: 0.2008 - accuracy: 0.9239 - val_loss: 0.2397 - val_accuracy: 0.9180 - 10s/epoch - 22ms/step\n"
     ]
    }
   ],
   "source": [
    "history_upgrade = model_upgrade.fit(\n",
    "    train_images, \n",
    "    train_labels,\n",
    "    batch_size=128, \n",
    "    epochs=100, \n",
    "    verbose=1,\n",
    "    validation_data=(test_images, test_labels),\n",
    "    callbacks=ourcallbacks\n",
    "    )"
   ]
  },
  {
   "cell_type": "markdown",
   "metadata": {},
   "source": [
    "As the model trains, the loss and accuracy metrics are displayed. This simple model reaches an accuracy of about 0.92 (or $\\sim$ 92%) on the training data."
   ]
  },
  {
   "cell_type": "code",
   "execution_count": 182,
   "metadata": {},
   "outputs": [
    {
     "name": "stdout",
     "output_type": "stream",
     "text": [
      "313/313 - 1s - loss: 0.2397 - accuracy: 0.9180 - 608ms/epoch - 2ms/step\n",
      "\n",
      "Test accuracy: 0.9179999828338623\n",
      "\n",
      "Test loss: 0.2397492676973343\n"
     ]
    }
   ],
   "source": [
    "test_loss_up, test_acc_up = model_upgrade.evaluate(test_images,  test_labels, verbose=2)\n",
    "print('\\nTest accuracy:', test_acc_up)\n",
    "print('\\nTest loss:', test_loss_up)"
   ]
  },
  {
   "cell_type": "code",
   "execution_count": 183,
   "metadata": {},
   "outputs": [
    {
     "data": {
      "application/vnd.plotly.v1+json": {
       "config": {
        "linkText": "Export to plot.ly",
        "plotlyServerURL": "https://plot.ly",
        "showLink": false
       },
       "data": [
        {
         "marker": {
          "color": "Green"
         },
         "mode": "markers+lines",
         "name": "Training accuracy",
         "text": [
          "1",
          "2",
          "3",
          "4",
          "5",
          "6",
          "7",
          "8",
          "9",
          "10",
          "11",
          "12",
          "13",
          "14",
          "15",
          "16",
          "17",
          "18",
          "19",
          "20",
          "21",
          "22",
          "23",
          "24",
          "25",
          "26",
          "27",
          "28",
          "29",
          "30",
          "31",
          "32",
          "33",
          "34",
          "35",
          "36",
          "37",
          "38",
          "39",
          "40",
          "41",
          "42",
          "43",
          "44",
          "45",
          "46",
          "47",
          "48",
          "49",
          "50",
          "51",
          "52",
          "53",
          "54",
          "55",
          "56",
          "57",
          "58",
          "59",
          "60",
          "61",
          "62",
          "63",
          "64",
          "65",
          "66",
          "67",
          "68",
          "69",
          "70",
          "71",
          "72",
          "73",
          "74",
          "75",
          "76",
          "77",
          "78",
          "79",
          "80",
          "81",
          "82",
          "83",
          "84",
          "85",
          "86",
          "87",
          "88",
          "89",
          "90",
          "91",
          "92",
          "93",
          "94",
          "95",
          "96",
          "97",
          "98",
          "99",
          "100"
         ],
         "type": "scatter",
         "x": [
          1,
          2,
          3,
          4,
          5,
          6,
          7,
          8,
          9,
          10,
          11,
          12,
          13,
          14,
          15,
          16,
          17,
          18,
          19,
          20,
          21,
          22,
          23,
          24,
          25,
          26,
          27,
          28,
          29,
          30,
          31,
          32,
          33,
          34,
          35,
          36,
          37,
          38,
          39,
          40,
          41,
          42,
          43,
          44,
          45,
          46,
          47,
          48,
          49,
          50,
          51,
          52,
          53,
          54,
          55,
          56,
          57,
          58,
          59,
          60,
          61,
          62,
          63,
          64,
          65,
          66,
          67,
          68,
          69,
          70,
          71,
          72,
          73,
          74,
          75,
          76,
          77,
          78,
          79,
          80,
          81,
          82,
          83,
          84,
          85,
          86,
          87,
          88,
          89,
          90,
          91,
          92,
          93,
          94,
          95,
          96,
          97,
          98,
          99,
          100
         ],
         "xaxis": "x",
         "y": [
          0.6965833306312561,
          0.8030999898910522,
          0.82791668176651,
          0.845716655254364,
          0.8549833297729492,
          0.862500011920929,
          0.8671333193778992,
          0.8721833229064941,
          0.8761000037193298,
          0.879966676235199,
          0.8813999891281128,
          0.8862166404724121,
          0.8890666961669922,
          0.888866662979126,
          0.8921166658401489,
          0.8933666944503784,
          0.8951833248138428,
          0.8949666619300842,
          0.8968999981880188,
          0.8960166573524475,
          0.8986999988555908,
          0.9004833102226257,
          0.900950014591217,
          0.9029833078384399,
          0.9025333523750305,
          0.9041666388511658,
          0.9045833349227905,
          0.9063166379928589,
          0.9073333144187927,
          0.9061166644096375,
          0.9062833189964294,
          0.9092666506767273,
          0.9067166447639465,
          0.9099000096321106,
          0.9079333543777466,
          0.9083499908447266,
          0.9100000262260437,
          0.9108166694641113,
          0.9103666543960571,
          0.9120333194732666,
          0.9118333458900452,
          0.9115166664123535,
          0.9137333035469055,
          0.9125666618347168,
          0.912766695022583,
          0.9136000275611877,
          0.912766695022583,
          0.9146333336830139,
          0.9145333170890808,
          0.9161999821662903,
          0.915233314037323,
          0.9160333275794983,
          0.9143833518028259,
          0.9145833253860474,
          0.9161666631698608,
          0.9172666668891907,
          0.916450023651123,
          0.9178333282470703,
          0.917033314704895,
          0.9173833131790161,
          0.9166833162307739,
          0.9185500144958496,
          0.9168000221252441,
          0.9187166690826416,
          0.9190166592597961,
          0.9185666441917419,
          0.9179333448410034,
          0.919700026512146,
          0.9203000068664551,
          0.9204999804496765,
          0.9203500151634216,
          0.9202333092689514,
          0.9199000000953674,
          0.9201833605766296,
          0.9210333228111267,
          0.9193833470344543,
          0.9218999743461609,
          0.9221000075340271,
          0.9216499924659729,
          0.9213333129882812,
          0.9225333333015442,
          0.9220333099365234,
          0.9216833114624023,
          0.9229999780654907,
          0.9233333468437195,
          0.9223333597183228,
          0.9222833514213562,
          0.9240000247955322,
          0.9233333468437195,
          0.9229666590690613,
          0.9244999885559082,
          0.9236666560173035,
          0.9237666726112366,
          0.9247333407402039,
          0.9240000247955322,
          0.9241666793823242,
          0.9236666560173035,
          0.9238333106040955,
          0.9223166704177856,
          0.9239333271980286
         ],
         "yaxis": "y"
        },
        {
         "marker": {
          "color": "Red"
         },
         "mode": "markers+lines",
         "name": "Validation accuracy",
         "text": [
          "1",
          "2",
          "3",
          "4",
          "5",
          "6",
          "7",
          "8",
          "9",
          "10",
          "11",
          "12",
          "13",
          "14",
          "15",
          "16",
          "17",
          "18",
          "19",
          "20",
          "21",
          "22",
          "23",
          "24",
          "25",
          "26",
          "27",
          "28",
          "29",
          "30",
          "31",
          "32",
          "33",
          "34",
          "35",
          "36",
          "37",
          "38",
          "39",
          "40",
          "41",
          "42",
          "43",
          "44",
          "45",
          "46",
          "47",
          "48",
          "49",
          "50",
          "51",
          "52",
          "53",
          "54",
          "55",
          "56",
          "57",
          "58",
          "59",
          "60",
          "61",
          "62",
          "63",
          "64",
          "65",
          "66",
          "67",
          "68",
          "69",
          "70",
          "71",
          "72",
          "73",
          "74",
          "75",
          "76",
          "77",
          "78",
          "79",
          "80",
          "81",
          "82",
          "83",
          "84",
          "85",
          "86",
          "87",
          "88",
          "89",
          "90",
          "91",
          "92",
          "93",
          "94",
          "95",
          "96",
          "97",
          "98",
          "99",
          "100"
         ],
         "type": "scatter",
         "x": [
          1,
          2,
          3,
          4,
          5,
          6,
          7,
          8,
          9,
          10,
          11,
          12,
          13,
          14,
          15,
          16,
          17,
          18,
          19,
          20,
          21,
          22,
          23,
          24,
          25,
          26,
          27,
          28,
          29,
          30,
          31,
          32,
          33,
          34,
          35,
          36,
          37,
          38,
          39,
          40,
          41,
          42,
          43,
          44,
          45,
          46,
          47,
          48,
          49,
          50,
          51,
          52,
          53,
          54,
          55,
          56,
          57,
          58,
          59,
          60,
          61,
          62,
          63,
          64,
          65,
          66,
          67,
          68,
          69,
          70,
          71,
          72,
          73,
          74,
          75,
          76,
          77,
          78,
          79,
          80,
          81,
          82,
          83,
          84,
          85,
          86,
          87,
          88,
          89,
          90,
          91,
          92,
          93,
          94,
          95,
          96,
          97,
          98,
          99,
          100
         ],
         "xaxis": "x",
         "y": [
          0.8093000054359436,
          0.8461999893188477,
          0.8676000237464905,
          0.8765000104904175,
          0.8794000148773193,
          0.8865000009536743,
          0.8901000022888184,
          0.8914999961853027,
          0.8924000263214111,
          0.8978000283241272,
          0.9021999835968018,
          0.8998000025749207,
          0.9014000296592712,
          0.9038000106811523,
          0.9085999727249146,
          0.8970000147819519,
          0.9028000235557556,
          0.9075000286102295,
          0.9104999899864197,
          0.910099983215332,
          0.9083999991416931,
          0.909600019454956,
          0.9110999703407288,
          0.9075999855995178,
          0.9122999906539917,
          0.9114999771118164,
          0.910099983215332,
          0.906499981880188,
          0.9128999710083008,
          0.9135000109672546,
          0.9125999808311462,
          0.9121999740600586,
          0.90829998254776,
          0.9126999974250793,
          0.9150999784469604,
          0.9125999808311462,
          0.9128999710083008,
          0.8967999815940857,
          0.9157000184059143,
          0.9107000231742859,
          0.9139999747276306,
          0.9153000116348267,
          0.9140999913215637,
          0.9121999740600586,
          0.9157000184059143,
          0.9132000207901001,
          0.9158999919891357,
          0.9146000146865845,
          0.9132000207901001,
          0.9117000102996826,
          0.9147999882698059,
          0.9150000214576721,
          0.9146000146865845,
          0.9150000214576721,
          0.9156000018119812,
          0.9164999723434448,
          0.9160000085830688,
          0.9147999882698059,
          0.9164000153541565,
          0.9157999753952026,
          0.9158999919891357,
          0.9154999852180481,
          0.917900025844574,
          0.9154999852180481,
          0.9158999919891357,
          0.9172999858856201,
          0.9153000116348267,
          0.9165999889373779,
          0.9139000177383423,
          0.914900004863739,
          0.9146000146865845,
          0.9154999852180481,
          0.9169999957084656,
          0.9193000197410583,
          0.9175999760627747,
          0.9157000184059143,
          0.9190999865531921,
          0.917900025844574,
          0.9158999919891357,
          0.9164000153541565,
          0.9178000092506409,
          0.9162999987602234,
          0.9179999828338623,
          0.91839998960495,
          0.919700026512146,
          0.9180999994277954,
          0.9178000092506409,
          0.9180999994277954,
          0.9150000214576721,
          0.9179999828338623,
          0.9180999994277954,
          0.9160000085830688,
          0.9143000245094299,
          0.9194999933242798,
          0.9128999710083008,
          0.916700005531311,
          0.9172999858856201,
          0.9185000061988831,
          0.9172000288963318,
          0.9179999828338623
         ],
         "yaxis": "y"
        },
        {
         "marker": {
          "color": "Blue"
         },
         "mode": "markers+lines",
         "name": "Training loss",
         "text": [
          "1",
          "2",
          "3",
          "4",
          "5",
          "6",
          "7",
          "8",
          "9",
          "10",
          "11",
          "12",
          "13",
          "14",
          "15",
          "16",
          "17",
          "18",
          "19",
          "20",
          "21",
          "22",
          "23",
          "24",
          "25",
          "26",
          "27",
          "28",
          "29",
          "30",
          "31",
          "32",
          "33",
          "34",
          "35",
          "36",
          "37",
          "38",
          "39",
          "40",
          "41",
          "42",
          "43",
          "44",
          "45",
          "46",
          "47",
          "48",
          "49",
          "50",
          "51",
          "52",
          "53",
          "54",
          "55",
          "56",
          "57",
          "58",
          "59",
          "60",
          "61",
          "62",
          "63",
          "64",
          "65",
          "66",
          "67",
          "68",
          "69",
          "70",
          "71",
          "72",
          "73",
          "74",
          "75",
          "76",
          "77",
          "78",
          "79",
          "80",
          "81",
          "82",
          "83",
          "84",
          "85",
          "86",
          "87",
          "88",
          "89",
          "90",
          "91",
          "92",
          "93",
          "94",
          "95",
          "96",
          "97",
          "98",
          "99",
          "100"
         ],
         "type": "scatter",
         "x": [
          1,
          2,
          3,
          4,
          5,
          6,
          7,
          8,
          9,
          10,
          11,
          12,
          13,
          14,
          15,
          16,
          17,
          18,
          19,
          20,
          21,
          22,
          23,
          24,
          25,
          26,
          27,
          28,
          29,
          30,
          31,
          32,
          33,
          34,
          35,
          36,
          37,
          38,
          39,
          40,
          41,
          42,
          43,
          44,
          45,
          46,
          47,
          48,
          49,
          50,
          51,
          52,
          53,
          54,
          55,
          56,
          57,
          58,
          59,
          60,
          61,
          62,
          63,
          64,
          65,
          66,
          67,
          68,
          69,
          70,
          71,
          72,
          73,
          74,
          75,
          76,
          77,
          78,
          79,
          80,
          81,
          82,
          83,
          84,
          85,
          86,
          87,
          88,
          89,
          90,
          91,
          92,
          93,
          94,
          95,
          96,
          97,
          98,
          99,
          100
         ],
         "xaxis": "x2",
         "y": [
          0.8364444375038147,
          0.5398563742637634,
          0.4721408188343048,
          0.43303143978118896,
          0.4061458110809326,
          0.385092556476593,
          0.37041303515434265,
          0.3517579138278961,
          0.34689146280288696,
          0.3333762586116791,
          0.32658252120018005,
          0.3139682114124298,
          0.3094077706336975,
          0.3053298890590668,
          0.3002835810184479,
          0.2943663001060486,
          0.2896350920200348,
          0.28546142578125,
          0.28466805815696716,
          0.2794102430343628,
          0.2761167585849762,
          0.2702770531177521,
          0.2686489224433899,
          0.26522091031074524,
          0.26169025897979736,
          0.2602449059486389,
          0.2592233121395111,
          0.2572985589504242,
          0.25439056754112244,
          0.2537734806537628,
          0.2509206235408783,
          0.2491086721420288,
          0.25175076723098755,
          0.2444303184747696,
          0.24662309885025024,
          0.24294345080852509,
          0.24138714373111725,
          0.24017125368118286,
          0.23861290514469147,
          0.23736149072647095,
          0.23722191154956818,
          0.2342700958251953,
          0.23244397342205048,
          0.23475641012191772,
          0.2336745411157608,
          0.23050062358379364,
          0.23281580209732056,
          0.22876735031604767,
          0.22702759504318237,
          0.22370806336402893,
          0.22749800980091095,
          0.2241760790348053,
          0.2248416244983673,
          0.22523175179958344,
          0.22023412585258484,
          0.22053830325603485,
          0.22155413031578064,
          0.21658097207546234,
          0.21844671666622162,
          0.21810567378997803,
          0.21986262500286102,
          0.21568074822425842,
          0.21857917308807373,
          0.21538054943084717,
          0.21288399398326874,
          0.21584057807922363,
          0.21647915244102478,
          0.21341447532176971,
          0.21218664944171906,
          0.21066564321517944,
          0.21006564795970917,
          0.2110561579465866,
          0.21169434487819672,
          0.21106205880641937,
          0.20777340233325958,
          0.21090258657932281,
          0.2056961953639984,
          0.2049531787633896,
          0.20416592061519623,
          0.20715013146400452,
          0.2035474330186844,
          0.20619696378707886,
          0.2067881077528,
          0.20471346378326416,
          0.2020205706357956,
          0.20365822315216064,
          0.2042398303747177,
          0.20140302181243896,
          0.20060211420059204,
          0.20183207094669342,
          0.19854173064231873,
          0.1997448056936264,
          0.20131227374076843,
          0.19884085655212402,
          0.20153212547302246,
          0.19779817759990692,
          0.19954410195350647,
          0.1981264054775238,
          0.20099492371082306,
          0.2007759064435959
         ],
         "yaxis": "y2"
        },
        {
         "marker": {
          "color": "Magenta"
         },
         "mode": "markers+lines",
         "name": "Validation loss",
         "text": [
          "1",
          "2",
          "3",
          "4",
          "5",
          "6",
          "7",
          "8",
          "9",
          "10",
          "11",
          "12",
          "13",
          "14",
          "15",
          "16",
          "17",
          "18",
          "19",
          "20",
          "21",
          "22",
          "23",
          "24",
          "25",
          "26",
          "27",
          "28",
          "29",
          "30",
          "31",
          "32",
          "33",
          "34",
          "35",
          "36",
          "37",
          "38",
          "39",
          "40",
          "41",
          "42",
          "43",
          "44",
          "45",
          "46",
          "47",
          "48",
          "49",
          "50",
          "51",
          "52",
          "53",
          "54",
          "55",
          "56",
          "57",
          "58",
          "59",
          "60",
          "61",
          "62",
          "63",
          "64",
          "65",
          "66",
          "67",
          "68",
          "69",
          "70",
          "71",
          "72",
          "73",
          "74",
          "75",
          "76",
          "77",
          "78",
          "79",
          "80",
          "81",
          "82",
          "83",
          "84",
          "85",
          "86",
          "87",
          "88",
          "89",
          "90",
          "91",
          "92",
          "93",
          "94",
          "95",
          "96",
          "97",
          "98",
          "99",
          "100"
         ],
         "type": "scatter",
         "x": [
          1,
          2,
          3,
          4,
          5,
          6,
          7,
          8,
          9,
          10,
          11,
          12,
          13,
          14,
          15,
          16,
          17,
          18,
          19,
          20,
          21,
          22,
          23,
          24,
          25,
          26,
          27,
          28,
          29,
          30,
          31,
          32,
          33,
          34,
          35,
          36,
          37,
          38,
          39,
          40,
          41,
          42,
          43,
          44,
          45,
          46,
          47,
          48,
          49,
          50,
          51,
          52,
          53,
          54,
          55,
          56,
          57,
          58,
          59,
          60,
          61,
          62,
          63,
          64,
          65,
          66,
          67,
          68,
          69,
          70,
          71,
          72,
          73,
          74,
          75,
          76,
          77,
          78,
          79,
          80,
          81,
          82,
          83,
          84,
          85,
          86,
          87,
          88,
          89,
          90,
          91,
          92,
          93,
          94,
          95,
          96,
          97,
          98,
          99,
          100
         ],
         "xaxis": "x2",
         "y": [
          0.5072334408760071,
          0.4237765669822693,
          0.3763788044452667,
          0.3475889563560486,
          0.33060938119888306,
          0.3153388202190399,
          0.3030852973461151,
          0.29522261023521423,
          0.29438236355781555,
          0.2801026701927185,
          0.2705785036087036,
          0.27416977286338806,
          0.26904356479644775,
          0.2583974599838257,
          0.25597140192985535,
          0.27512744069099426,
          0.25902673602104187,
          0.2513400912284851,
          0.24657441675662994,
          0.2457387000322342,
          0.25043177604675293,
          0.2467152327299118,
          0.2443385273218155,
          0.25222960114479065,
          0.2425049990415573,
          0.24347668886184692,
          0.2450542002916336,
          0.2517280876636505,
          0.2412535697221756,
          0.23967179656028748,
          0.23989473283290863,
          0.23847238719463348,
          0.24901139736175537,
          0.24038498103618622,
          0.23549358546733856,
          0.23867422342300415,
          0.23686382174491882,
          0.2709465026855469,
          0.24032926559448242,
          0.24126574397087097,
          0.23651562631130219,
          0.23317089676856995,
          0.2374013364315033,
          0.23783347010612488,
          0.23369282484054565,
          0.24459394812583923,
          0.23588010668754578,
          0.2363913506269455,
          0.23991955816745758,
          0.2418576180934906,
          0.23503223061561584,
          0.2333543747663498,
          0.23791886866092682,
          0.23592428863048553,
          0.23495815694332123,
          0.23419079184532166,
          0.2313280999660492,
          0.2371150404214859,
          0.238517627120018,
          0.23723410069942474,
          0.23572847247123718,
          0.23555420339107513,
          0.23067522048950195,
          0.2394847720861435,
          0.24272483587265015,
          0.2311316430568695,
          0.23892973363399506,
          0.2376473844051361,
          0.24008403718471527,
          0.2355993390083313,
          0.2422768771648407,
          0.23977258801460266,
          0.23468632996082306,
          0.23177985846996307,
          0.23199494183063507,
          0.2386537790298462,
          0.23323407769203186,
          0.23421303927898407,
          0.23409788310527802,
          0.24033208191394806,
          0.2400568425655365,
          0.2400660365819931,
          0.23171553015708923,
          0.23434631526470184,
          0.23438158631324768,
          0.23612554371356964,
          0.23383603990077972,
          0.23629075288772583,
          0.23792466521263123,
          0.23316432535648346,
          0.2332458794116974,
          0.2349458485841751,
          0.24260227382183075,
          0.23927143216133118,
          0.24820883572101593,
          0.2392488718032837,
          0.23658154904842377,
          0.23300619423389435,
          0.23829492926597595,
          0.23974941670894623
         ],
         "yaxis": "y2"
        }
       ],
       "layout": {
        "annotations": [
         {
          "font": {
           "size": 16
          },
          "showarrow": false,
          "text": "Training and validation accuracy",
          "x": 0.225,
          "xanchor": "center",
          "xref": "paper",
          "y": 1,
          "yanchor": "bottom",
          "yref": "paper"
         },
         {
          "font": {
           "size": 16
          },
          "showarrow": false,
          "text": "Training and validation loss",
          "x": 0.775,
          "xanchor": "center",
          "xref": "paper",
          "y": 1,
          "yanchor": "bottom",
          "yref": "paper"
         }
        ],
        "template": {
         "data": {
          "bar": [
           {
            "error_x": {
             "color": "#2a3f5f"
            },
            "error_y": {
             "color": "#2a3f5f"
            },
            "marker": {
             "line": {
              "color": "#E5ECF6",
              "width": 0.5
             },
             "pattern": {
              "fillmode": "overlay",
              "size": 10,
              "solidity": 0.2
             }
            },
            "type": "bar"
           }
          ],
          "barpolar": [
           {
            "marker": {
             "line": {
              "color": "#E5ECF6",
              "width": 0.5
             },
             "pattern": {
              "fillmode": "overlay",
              "size": 10,
              "solidity": 0.2
             }
            },
            "type": "barpolar"
           }
          ],
          "carpet": [
           {
            "aaxis": {
             "endlinecolor": "#2a3f5f",
             "gridcolor": "white",
             "linecolor": "white",
             "minorgridcolor": "white",
             "startlinecolor": "#2a3f5f"
            },
            "baxis": {
             "endlinecolor": "#2a3f5f",
             "gridcolor": "white",
             "linecolor": "white",
             "minorgridcolor": "white",
             "startlinecolor": "#2a3f5f"
            },
            "type": "carpet"
           }
          ],
          "choropleth": [
           {
            "colorbar": {
             "outlinewidth": 0,
             "ticks": ""
            },
            "type": "choropleth"
           }
          ],
          "contour": [
           {
            "colorbar": {
             "outlinewidth": 0,
             "ticks": ""
            },
            "colorscale": [
             [
              0,
              "#0d0887"
             ],
             [
              0.1111111111111111,
              "#46039f"
             ],
             [
              0.2222222222222222,
              "#7201a8"
             ],
             [
              0.3333333333333333,
              "#9c179e"
             ],
             [
              0.4444444444444444,
              "#bd3786"
             ],
             [
              0.5555555555555556,
              "#d8576b"
             ],
             [
              0.6666666666666666,
              "#ed7953"
             ],
             [
              0.7777777777777778,
              "#fb9f3a"
             ],
             [
              0.8888888888888888,
              "#fdca26"
             ],
             [
              1,
              "#f0f921"
             ]
            ],
            "type": "contour"
           }
          ],
          "contourcarpet": [
           {
            "colorbar": {
             "outlinewidth": 0,
             "ticks": ""
            },
            "type": "contourcarpet"
           }
          ],
          "heatmap": [
           {
            "colorbar": {
             "outlinewidth": 0,
             "ticks": ""
            },
            "colorscale": [
             [
              0,
              "#0d0887"
             ],
             [
              0.1111111111111111,
              "#46039f"
             ],
             [
              0.2222222222222222,
              "#7201a8"
             ],
             [
              0.3333333333333333,
              "#9c179e"
             ],
             [
              0.4444444444444444,
              "#bd3786"
             ],
             [
              0.5555555555555556,
              "#d8576b"
             ],
             [
              0.6666666666666666,
              "#ed7953"
             ],
             [
              0.7777777777777778,
              "#fb9f3a"
             ],
             [
              0.8888888888888888,
              "#fdca26"
             ],
             [
              1,
              "#f0f921"
             ]
            ],
            "type": "heatmap"
           }
          ],
          "heatmapgl": [
           {
            "colorbar": {
             "outlinewidth": 0,
             "ticks": ""
            },
            "colorscale": [
             [
              0,
              "#0d0887"
             ],
             [
              0.1111111111111111,
              "#46039f"
             ],
             [
              0.2222222222222222,
              "#7201a8"
             ],
             [
              0.3333333333333333,
              "#9c179e"
             ],
             [
              0.4444444444444444,
              "#bd3786"
             ],
             [
              0.5555555555555556,
              "#d8576b"
             ],
             [
              0.6666666666666666,
              "#ed7953"
             ],
             [
              0.7777777777777778,
              "#fb9f3a"
             ],
             [
              0.8888888888888888,
              "#fdca26"
             ],
             [
              1,
              "#f0f921"
             ]
            ],
            "type": "heatmapgl"
           }
          ],
          "histogram": [
           {
            "marker": {
             "pattern": {
              "fillmode": "overlay",
              "size": 10,
              "solidity": 0.2
             }
            },
            "type": "histogram"
           }
          ],
          "histogram2d": [
           {
            "colorbar": {
             "outlinewidth": 0,
             "ticks": ""
            },
            "colorscale": [
             [
              0,
              "#0d0887"
             ],
             [
              0.1111111111111111,
              "#46039f"
             ],
             [
              0.2222222222222222,
              "#7201a8"
             ],
             [
              0.3333333333333333,
              "#9c179e"
             ],
             [
              0.4444444444444444,
              "#bd3786"
             ],
             [
              0.5555555555555556,
              "#d8576b"
             ],
             [
              0.6666666666666666,
              "#ed7953"
             ],
             [
              0.7777777777777778,
              "#fb9f3a"
             ],
             [
              0.8888888888888888,
              "#fdca26"
             ],
             [
              1,
              "#f0f921"
             ]
            ],
            "type": "histogram2d"
           }
          ],
          "histogram2dcontour": [
           {
            "colorbar": {
             "outlinewidth": 0,
             "ticks": ""
            },
            "colorscale": [
             [
              0,
              "#0d0887"
             ],
             [
              0.1111111111111111,
              "#46039f"
             ],
             [
              0.2222222222222222,
              "#7201a8"
             ],
             [
              0.3333333333333333,
              "#9c179e"
             ],
             [
              0.4444444444444444,
              "#bd3786"
             ],
             [
              0.5555555555555556,
              "#d8576b"
             ],
             [
              0.6666666666666666,
              "#ed7953"
             ],
             [
              0.7777777777777778,
              "#fb9f3a"
             ],
             [
              0.8888888888888888,
              "#fdca26"
             ],
             [
              1,
              "#f0f921"
             ]
            ],
            "type": "histogram2dcontour"
           }
          ],
          "mesh3d": [
           {
            "colorbar": {
             "outlinewidth": 0,
             "ticks": ""
            },
            "type": "mesh3d"
           }
          ],
          "parcoords": [
           {
            "line": {
             "colorbar": {
              "outlinewidth": 0,
              "ticks": ""
             }
            },
            "type": "parcoords"
           }
          ],
          "pie": [
           {
            "automargin": true,
            "type": "pie"
           }
          ],
          "scatter": [
           {
            "fillpattern": {
             "fillmode": "overlay",
             "size": 10,
             "solidity": 0.2
            },
            "type": "scatter"
           }
          ],
          "scatter3d": [
           {
            "line": {
             "colorbar": {
              "outlinewidth": 0,
              "ticks": ""
             }
            },
            "marker": {
             "colorbar": {
              "outlinewidth": 0,
              "ticks": ""
             }
            },
            "type": "scatter3d"
           }
          ],
          "scattercarpet": [
           {
            "marker": {
             "colorbar": {
              "outlinewidth": 0,
              "ticks": ""
             }
            },
            "type": "scattercarpet"
           }
          ],
          "scattergeo": [
           {
            "marker": {
             "colorbar": {
              "outlinewidth": 0,
              "ticks": ""
             }
            },
            "type": "scattergeo"
           }
          ],
          "scattergl": [
           {
            "marker": {
             "colorbar": {
              "outlinewidth": 0,
              "ticks": ""
             }
            },
            "type": "scattergl"
           }
          ],
          "scattermapbox": [
           {
            "marker": {
             "colorbar": {
              "outlinewidth": 0,
              "ticks": ""
             }
            },
            "type": "scattermapbox"
           }
          ],
          "scatterpolar": [
           {
            "marker": {
             "colorbar": {
              "outlinewidth": 0,
              "ticks": ""
             }
            },
            "type": "scatterpolar"
           }
          ],
          "scatterpolargl": [
           {
            "marker": {
             "colorbar": {
              "outlinewidth": 0,
              "ticks": ""
             }
            },
            "type": "scatterpolargl"
           }
          ],
          "scatterternary": [
           {
            "marker": {
             "colorbar": {
              "outlinewidth": 0,
              "ticks": ""
             }
            },
            "type": "scatterternary"
           }
          ],
          "surface": [
           {
            "colorbar": {
             "outlinewidth": 0,
             "ticks": ""
            },
            "colorscale": [
             [
              0,
              "#0d0887"
             ],
             [
              0.1111111111111111,
              "#46039f"
             ],
             [
              0.2222222222222222,
              "#7201a8"
             ],
             [
              0.3333333333333333,
              "#9c179e"
             ],
             [
              0.4444444444444444,
              "#bd3786"
             ],
             [
              0.5555555555555556,
              "#d8576b"
             ],
             [
              0.6666666666666666,
              "#ed7953"
             ],
             [
              0.7777777777777778,
              "#fb9f3a"
             ],
             [
              0.8888888888888888,
              "#fdca26"
             ],
             [
              1,
              "#f0f921"
             ]
            ],
            "type": "surface"
           }
          ],
          "table": [
           {
            "cells": {
             "fill": {
              "color": "#EBF0F8"
             },
             "line": {
              "color": "white"
             }
            },
            "header": {
             "fill": {
              "color": "#C8D4E3"
             },
             "line": {
              "color": "white"
             }
            },
            "type": "table"
           }
          ]
         },
         "layout": {
          "annotationdefaults": {
           "arrowcolor": "#2a3f5f",
           "arrowhead": 0,
           "arrowwidth": 1
          },
          "autotypenumbers": "strict",
          "coloraxis": {
           "colorbar": {
            "outlinewidth": 0,
            "ticks": ""
           }
          },
          "colorscale": {
           "diverging": [
            [
             0,
             "#8e0152"
            ],
            [
             0.1,
             "#c51b7d"
            ],
            [
             0.2,
             "#de77ae"
            ],
            [
             0.3,
             "#f1b6da"
            ],
            [
             0.4,
             "#fde0ef"
            ],
            [
             0.5,
             "#f7f7f7"
            ],
            [
             0.6,
             "#e6f5d0"
            ],
            [
             0.7,
             "#b8e186"
            ],
            [
             0.8,
             "#7fbc41"
            ],
            [
             0.9,
             "#4d9221"
            ],
            [
             1,
             "#276419"
            ]
           ],
           "sequential": [
            [
             0,
             "#0d0887"
            ],
            [
             0.1111111111111111,
             "#46039f"
            ],
            [
             0.2222222222222222,
             "#7201a8"
            ],
            [
             0.3333333333333333,
             "#9c179e"
            ],
            [
             0.4444444444444444,
             "#bd3786"
            ],
            [
             0.5555555555555556,
             "#d8576b"
            ],
            [
             0.6666666666666666,
             "#ed7953"
            ],
            [
             0.7777777777777778,
             "#fb9f3a"
            ],
            [
             0.8888888888888888,
             "#fdca26"
            ],
            [
             1,
             "#f0f921"
            ]
           ],
           "sequentialminus": [
            [
             0,
             "#0d0887"
            ],
            [
             0.1111111111111111,
             "#46039f"
            ],
            [
             0.2222222222222222,
             "#7201a8"
            ],
            [
             0.3333333333333333,
             "#9c179e"
            ],
            [
             0.4444444444444444,
             "#bd3786"
            ],
            [
             0.5555555555555556,
             "#d8576b"
            ],
            [
             0.6666666666666666,
             "#ed7953"
            ],
            [
             0.7777777777777778,
             "#fb9f3a"
            ],
            [
             0.8888888888888888,
             "#fdca26"
            ],
            [
             1,
             "#f0f921"
            ]
           ]
          },
          "colorway": [
           "#636efa",
           "#EF553B",
           "#00cc96",
           "#ab63fa",
           "#FFA15A",
           "#19d3f3",
           "#FF6692",
           "#B6E880",
           "#FF97FF",
           "#FECB52"
          ],
          "font": {
           "color": "#2a3f5f"
          },
          "geo": {
           "bgcolor": "white",
           "lakecolor": "white",
           "landcolor": "#E5ECF6",
           "showlakes": true,
           "showland": true,
           "subunitcolor": "white"
          },
          "hoverlabel": {
           "align": "left"
          },
          "hovermode": "closest",
          "mapbox": {
           "style": "light"
          },
          "paper_bgcolor": "white",
          "plot_bgcolor": "#E5ECF6",
          "polar": {
           "angularaxis": {
            "gridcolor": "white",
            "linecolor": "white",
            "ticks": ""
           },
           "bgcolor": "#E5ECF6",
           "radialaxis": {
            "gridcolor": "white",
            "linecolor": "white",
            "ticks": ""
           }
          },
          "scene": {
           "xaxis": {
            "backgroundcolor": "#E5ECF6",
            "gridcolor": "white",
            "gridwidth": 2,
            "linecolor": "white",
            "showbackground": true,
            "ticks": "",
            "zerolinecolor": "white"
           },
           "yaxis": {
            "backgroundcolor": "#E5ECF6",
            "gridcolor": "white",
            "gridwidth": 2,
            "linecolor": "white",
            "showbackground": true,
            "ticks": "",
            "zerolinecolor": "white"
           },
           "zaxis": {
            "backgroundcolor": "#E5ECF6",
            "gridcolor": "white",
            "gridwidth": 2,
            "linecolor": "white",
            "showbackground": true,
            "ticks": "",
            "zerolinecolor": "white"
           }
          },
          "shapedefaults": {
           "line": {
            "color": "#2a3f5f"
           }
          },
          "ternary": {
           "aaxis": {
            "gridcolor": "white",
            "linecolor": "white",
            "ticks": ""
           },
           "baxis": {
            "gridcolor": "white",
            "linecolor": "white",
            "ticks": ""
           },
           "bgcolor": "#E5ECF6",
           "caxis": {
            "gridcolor": "white",
            "linecolor": "white",
            "ticks": ""
           }
          },
          "title": {
           "x": 0.05
          },
          "xaxis": {
           "automargin": true,
           "gridcolor": "white",
           "linecolor": "white",
           "ticks": "",
           "title": {
            "standoff": 15
           },
           "zerolinecolor": "white",
           "zerolinewidth": 2
          },
          "yaxis": {
           "automargin": true,
           "gridcolor": "white",
           "linecolor": "white",
           "ticks": "",
           "title": {
            "standoff": 15
           },
           "zerolinecolor": "white",
           "zerolinewidth": 2
          }
         }
        },
        "xaxis": {
         "anchor": "y",
         "domain": [
          0,
          0.45
         ],
         "title": {
          "text": "Epoch"
         }
        },
        "xaxis2": {
         "anchor": "y2",
         "domain": [
          0.55,
          1
         ],
         "title": {
          "text": "Epoch"
         }
        },
        "yaxis": {
         "anchor": "x",
         "domain": [
          0,
          1
         ],
         "range": [
          0,
          1
         ],
         "title": {
          "text": "Accuracy"
         }
        },
        "yaxis2": {
         "anchor": "x2",
         "domain": [
          0,
          1
         ],
         "range": [
          0,
          1
         ],
         "title": {
          "text": "Loss"
         }
        }
       }
      },
      "text/html": [
       "<div>                            <div id=\"ba3e2af4-5786-4d59-80fa-cff18f994c88\" class=\"plotly-graph-div\" style=\"height:525px; width:100%;\"></div>            <script type=\"text/javascript\">                require([\"plotly\"], function(Plotly) {                    window.PLOTLYENV=window.PLOTLYENV || {};                                    if (document.getElementById(\"ba3e2af4-5786-4d59-80fa-cff18f994c88\")) {                    Plotly.newPlot(                        \"ba3e2af4-5786-4d59-80fa-cff18f994c88\",                        [{\"marker\":{\"color\":\"Green\"},\"mode\":\"markers+lines\",\"name\":\"Training accuracy\",\"text\":[\"1\",\"2\",\"3\",\"4\",\"5\",\"6\",\"7\",\"8\",\"9\",\"10\",\"11\",\"12\",\"13\",\"14\",\"15\",\"16\",\"17\",\"18\",\"19\",\"20\",\"21\",\"22\",\"23\",\"24\",\"25\",\"26\",\"27\",\"28\",\"29\",\"30\",\"31\",\"32\",\"33\",\"34\",\"35\",\"36\",\"37\",\"38\",\"39\",\"40\",\"41\",\"42\",\"43\",\"44\",\"45\",\"46\",\"47\",\"48\",\"49\",\"50\",\"51\",\"52\",\"53\",\"54\",\"55\",\"56\",\"57\",\"58\",\"59\",\"60\",\"61\",\"62\",\"63\",\"64\",\"65\",\"66\",\"67\",\"68\",\"69\",\"70\",\"71\",\"72\",\"73\",\"74\",\"75\",\"76\",\"77\",\"78\",\"79\",\"80\",\"81\",\"82\",\"83\",\"84\",\"85\",\"86\",\"87\",\"88\",\"89\",\"90\",\"91\",\"92\",\"93\",\"94\",\"95\",\"96\",\"97\",\"98\",\"99\",\"100\"],\"x\":[1,2,3,4,5,6,7,8,9,10,11,12,13,14,15,16,17,18,19,20,21,22,23,24,25,26,27,28,29,30,31,32,33,34,35,36,37,38,39,40,41,42,43,44,45,46,47,48,49,50,51,52,53,54,55,56,57,58,59,60,61,62,63,64,65,66,67,68,69,70,71,72,73,74,75,76,77,78,79,80,81,82,83,84,85,86,87,88,89,90,91,92,93,94,95,96,97,98,99,100],\"xaxis\":\"x\",\"y\":[0.6965833306312561,0.8030999898910522,0.82791668176651,0.845716655254364,0.8549833297729492,0.862500011920929,0.8671333193778992,0.8721833229064941,0.8761000037193298,0.879966676235199,0.8813999891281128,0.8862166404724121,0.8890666961669922,0.888866662979126,0.8921166658401489,0.8933666944503784,0.8951833248138428,0.8949666619300842,0.8968999981880188,0.8960166573524475,0.8986999988555908,0.9004833102226257,0.900950014591217,0.9029833078384399,0.9025333523750305,0.9041666388511658,0.9045833349227905,0.9063166379928589,0.9073333144187927,0.9061166644096375,0.9062833189964294,0.9092666506767273,0.9067166447639465,0.9099000096321106,0.9079333543777466,0.9083499908447266,0.9100000262260437,0.9108166694641113,0.9103666543960571,0.9120333194732666,0.9118333458900452,0.9115166664123535,0.9137333035469055,0.9125666618347168,0.912766695022583,0.9136000275611877,0.912766695022583,0.9146333336830139,0.9145333170890808,0.9161999821662903,0.915233314037323,0.9160333275794983,0.9143833518028259,0.9145833253860474,0.9161666631698608,0.9172666668891907,0.916450023651123,0.9178333282470703,0.917033314704895,0.9173833131790161,0.9166833162307739,0.9185500144958496,0.9168000221252441,0.9187166690826416,0.9190166592597961,0.9185666441917419,0.9179333448410034,0.919700026512146,0.9203000068664551,0.9204999804496765,0.9203500151634216,0.9202333092689514,0.9199000000953674,0.9201833605766296,0.9210333228111267,0.9193833470344543,0.9218999743461609,0.9221000075340271,0.9216499924659729,0.9213333129882812,0.9225333333015442,0.9220333099365234,0.9216833114624023,0.9229999780654907,0.9233333468437195,0.9223333597183228,0.9222833514213562,0.9240000247955322,0.9233333468437195,0.9229666590690613,0.9244999885559082,0.9236666560173035,0.9237666726112366,0.9247333407402039,0.9240000247955322,0.9241666793823242,0.9236666560173035,0.9238333106040955,0.9223166704177856,0.9239333271980286],\"yaxis\":\"y\",\"type\":\"scatter\"},{\"marker\":{\"color\":\"Red\"},\"mode\":\"markers+lines\",\"name\":\"Validation accuracy\",\"text\":[\"1\",\"2\",\"3\",\"4\",\"5\",\"6\",\"7\",\"8\",\"9\",\"10\",\"11\",\"12\",\"13\",\"14\",\"15\",\"16\",\"17\",\"18\",\"19\",\"20\",\"21\",\"22\",\"23\",\"24\",\"25\",\"26\",\"27\",\"28\",\"29\",\"30\",\"31\",\"32\",\"33\",\"34\",\"35\",\"36\",\"37\",\"38\",\"39\",\"40\",\"41\",\"42\",\"43\",\"44\",\"45\",\"46\",\"47\",\"48\",\"49\",\"50\",\"51\",\"52\",\"53\",\"54\",\"55\",\"56\",\"57\",\"58\",\"59\",\"60\",\"61\",\"62\",\"63\",\"64\",\"65\",\"66\",\"67\",\"68\",\"69\",\"70\",\"71\",\"72\",\"73\",\"74\",\"75\",\"76\",\"77\",\"78\",\"79\",\"80\",\"81\",\"82\",\"83\",\"84\",\"85\",\"86\",\"87\",\"88\",\"89\",\"90\",\"91\",\"92\",\"93\",\"94\",\"95\",\"96\",\"97\",\"98\",\"99\",\"100\"],\"x\":[1,2,3,4,5,6,7,8,9,10,11,12,13,14,15,16,17,18,19,20,21,22,23,24,25,26,27,28,29,30,31,32,33,34,35,36,37,38,39,40,41,42,43,44,45,46,47,48,49,50,51,52,53,54,55,56,57,58,59,60,61,62,63,64,65,66,67,68,69,70,71,72,73,74,75,76,77,78,79,80,81,82,83,84,85,86,87,88,89,90,91,92,93,94,95,96,97,98,99,100],\"xaxis\":\"x\",\"y\":[0.8093000054359436,0.8461999893188477,0.8676000237464905,0.8765000104904175,0.8794000148773193,0.8865000009536743,0.8901000022888184,0.8914999961853027,0.8924000263214111,0.8978000283241272,0.9021999835968018,0.8998000025749207,0.9014000296592712,0.9038000106811523,0.9085999727249146,0.8970000147819519,0.9028000235557556,0.9075000286102295,0.9104999899864197,0.910099983215332,0.9083999991416931,0.909600019454956,0.9110999703407288,0.9075999855995178,0.9122999906539917,0.9114999771118164,0.910099983215332,0.906499981880188,0.9128999710083008,0.9135000109672546,0.9125999808311462,0.9121999740600586,0.90829998254776,0.9126999974250793,0.9150999784469604,0.9125999808311462,0.9128999710083008,0.8967999815940857,0.9157000184059143,0.9107000231742859,0.9139999747276306,0.9153000116348267,0.9140999913215637,0.9121999740600586,0.9157000184059143,0.9132000207901001,0.9158999919891357,0.9146000146865845,0.9132000207901001,0.9117000102996826,0.9147999882698059,0.9150000214576721,0.9146000146865845,0.9150000214576721,0.9156000018119812,0.9164999723434448,0.9160000085830688,0.9147999882698059,0.9164000153541565,0.9157999753952026,0.9158999919891357,0.9154999852180481,0.917900025844574,0.9154999852180481,0.9158999919891357,0.9172999858856201,0.9153000116348267,0.9165999889373779,0.9139000177383423,0.914900004863739,0.9146000146865845,0.9154999852180481,0.9169999957084656,0.9193000197410583,0.9175999760627747,0.9157000184059143,0.9190999865531921,0.917900025844574,0.9158999919891357,0.9164000153541565,0.9178000092506409,0.9162999987602234,0.9179999828338623,0.91839998960495,0.919700026512146,0.9180999994277954,0.9178000092506409,0.9180999994277954,0.9150000214576721,0.9179999828338623,0.9180999994277954,0.9160000085830688,0.9143000245094299,0.9194999933242798,0.9128999710083008,0.916700005531311,0.9172999858856201,0.9185000061988831,0.9172000288963318,0.9179999828338623],\"yaxis\":\"y\",\"type\":\"scatter\"},{\"marker\":{\"color\":\"Blue\"},\"mode\":\"markers+lines\",\"name\":\"Training loss\",\"text\":[\"1\",\"2\",\"3\",\"4\",\"5\",\"6\",\"7\",\"8\",\"9\",\"10\",\"11\",\"12\",\"13\",\"14\",\"15\",\"16\",\"17\",\"18\",\"19\",\"20\",\"21\",\"22\",\"23\",\"24\",\"25\",\"26\",\"27\",\"28\",\"29\",\"30\",\"31\",\"32\",\"33\",\"34\",\"35\",\"36\",\"37\",\"38\",\"39\",\"40\",\"41\",\"42\",\"43\",\"44\",\"45\",\"46\",\"47\",\"48\",\"49\",\"50\",\"51\",\"52\",\"53\",\"54\",\"55\",\"56\",\"57\",\"58\",\"59\",\"60\",\"61\",\"62\",\"63\",\"64\",\"65\",\"66\",\"67\",\"68\",\"69\",\"70\",\"71\",\"72\",\"73\",\"74\",\"75\",\"76\",\"77\",\"78\",\"79\",\"80\",\"81\",\"82\",\"83\",\"84\",\"85\",\"86\",\"87\",\"88\",\"89\",\"90\",\"91\",\"92\",\"93\",\"94\",\"95\",\"96\",\"97\",\"98\",\"99\",\"100\"],\"x\":[1,2,3,4,5,6,7,8,9,10,11,12,13,14,15,16,17,18,19,20,21,22,23,24,25,26,27,28,29,30,31,32,33,34,35,36,37,38,39,40,41,42,43,44,45,46,47,48,49,50,51,52,53,54,55,56,57,58,59,60,61,62,63,64,65,66,67,68,69,70,71,72,73,74,75,76,77,78,79,80,81,82,83,84,85,86,87,88,89,90,91,92,93,94,95,96,97,98,99,100],\"xaxis\":\"x2\",\"y\":[0.8364444375038147,0.5398563742637634,0.4721408188343048,0.43303143978118896,0.4061458110809326,0.385092556476593,0.37041303515434265,0.3517579138278961,0.34689146280288696,0.3333762586116791,0.32658252120018005,0.3139682114124298,0.3094077706336975,0.3053298890590668,0.3002835810184479,0.2943663001060486,0.2896350920200348,0.28546142578125,0.28466805815696716,0.2794102430343628,0.2761167585849762,0.2702770531177521,0.2686489224433899,0.26522091031074524,0.26169025897979736,0.2602449059486389,0.2592233121395111,0.2572985589504242,0.25439056754112244,0.2537734806537628,0.2509206235408783,0.2491086721420288,0.25175076723098755,0.2444303184747696,0.24662309885025024,0.24294345080852509,0.24138714373111725,0.24017125368118286,0.23861290514469147,0.23736149072647095,0.23722191154956818,0.2342700958251953,0.23244397342205048,0.23475641012191772,0.2336745411157608,0.23050062358379364,0.23281580209732056,0.22876735031604767,0.22702759504318237,0.22370806336402893,0.22749800980091095,0.2241760790348053,0.2248416244983673,0.22523175179958344,0.22023412585258484,0.22053830325603485,0.22155413031578064,0.21658097207546234,0.21844671666622162,0.21810567378997803,0.21986262500286102,0.21568074822425842,0.21857917308807373,0.21538054943084717,0.21288399398326874,0.21584057807922363,0.21647915244102478,0.21341447532176971,0.21218664944171906,0.21066564321517944,0.21006564795970917,0.2110561579465866,0.21169434487819672,0.21106205880641937,0.20777340233325958,0.21090258657932281,0.2056961953639984,0.2049531787633896,0.20416592061519623,0.20715013146400452,0.2035474330186844,0.20619696378707886,0.2067881077528,0.20471346378326416,0.2020205706357956,0.20365822315216064,0.2042398303747177,0.20140302181243896,0.20060211420059204,0.20183207094669342,0.19854173064231873,0.1997448056936264,0.20131227374076843,0.19884085655212402,0.20153212547302246,0.19779817759990692,0.19954410195350647,0.1981264054775238,0.20099492371082306,0.2007759064435959],\"yaxis\":\"y2\",\"type\":\"scatter\"},{\"marker\":{\"color\":\"Magenta\"},\"mode\":\"markers+lines\",\"name\":\"Validation loss\",\"text\":[\"1\",\"2\",\"3\",\"4\",\"5\",\"6\",\"7\",\"8\",\"9\",\"10\",\"11\",\"12\",\"13\",\"14\",\"15\",\"16\",\"17\",\"18\",\"19\",\"20\",\"21\",\"22\",\"23\",\"24\",\"25\",\"26\",\"27\",\"28\",\"29\",\"30\",\"31\",\"32\",\"33\",\"34\",\"35\",\"36\",\"37\",\"38\",\"39\",\"40\",\"41\",\"42\",\"43\",\"44\",\"45\",\"46\",\"47\",\"48\",\"49\",\"50\",\"51\",\"52\",\"53\",\"54\",\"55\",\"56\",\"57\",\"58\",\"59\",\"60\",\"61\",\"62\",\"63\",\"64\",\"65\",\"66\",\"67\",\"68\",\"69\",\"70\",\"71\",\"72\",\"73\",\"74\",\"75\",\"76\",\"77\",\"78\",\"79\",\"80\",\"81\",\"82\",\"83\",\"84\",\"85\",\"86\",\"87\",\"88\",\"89\",\"90\",\"91\",\"92\",\"93\",\"94\",\"95\",\"96\",\"97\",\"98\",\"99\",\"100\"],\"x\":[1,2,3,4,5,6,7,8,9,10,11,12,13,14,15,16,17,18,19,20,21,22,23,24,25,26,27,28,29,30,31,32,33,34,35,36,37,38,39,40,41,42,43,44,45,46,47,48,49,50,51,52,53,54,55,56,57,58,59,60,61,62,63,64,65,66,67,68,69,70,71,72,73,74,75,76,77,78,79,80,81,82,83,84,85,86,87,88,89,90,91,92,93,94,95,96,97,98,99,100],\"xaxis\":\"x2\",\"y\":[0.5072334408760071,0.4237765669822693,0.3763788044452667,0.3475889563560486,0.33060938119888306,0.3153388202190399,0.3030852973461151,0.29522261023521423,0.29438236355781555,0.2801026701927185,0.2705785036087036,0.27416977286338806,0.26904356479644775,0.2583974599838257,0.25597140192985535,0.27512744069099426,0.25902673602104187,0.2513400912284851,0.24657441675662994,0.2457387000322342,0.25043177604675293,0.2467152327299118,0.2443385273218155,0.25222960114479065,0.2425049990415573,0.24347668886184692,0.2450542002916336,0.2517280876636505,0.2412535697221756,0.23967179656028748,0.23989473283290863,0.23847238719463348,0.24901139736175537,0.24038498103618622,0.23549358546733856,0.23867422342300415,0.23686382174491882,0.2709465026855469,0.24032926559448242,0.24126574397087097,0.23651562631130219,0.23317089676856995,0.2374013364315033,0.23783347010612488,0.23369282484054565,0.24459394812583923,0.23588010668754578,0.2363913506269455,0.23991955816745758,0.2418576180934906,0.23503223061561584,0.2333543747663498,0.23791886866092682,0.23592428863048553,0.23495815694332123,0.23419079184532166,0.2313280999660492,0.2371150404214859,0.238517627120018,0.23723410069942474,0.23572847247123718,0.23555420339107513,0.23067522048950195,0.2394847720861435,0.24272483587265015,0.2311316430568695,0.23892973363399506,0.2376473844051361,0.24008403718471527,0.2355993390083313,0.2422768771648407,0.23977258801460266,0.23468632996082306,0.23177985846996307,0.23199494183063507,0.2386537790298462,0.23323407769203186,0.23421303927898407,0.23409788310527802,0.24033208191394806,0.2400568425655365,0.2400660365819931,0.23171553015708923,0.23434631526470184,0.23438158631324768,0.23612554371356964,0.23383603990077972,0.23629075288772583,0.23792466521263123,0.23316432535648346,0.2332458794116974,0.2349458485841751,0.24260227382183075,0.23927143216133118,0.24820883572101593,0.2392488718032837,0.23658154904842377,0.23300619423389435,0.23829492926597595,0.23974941670894623],\"yaxis\":\"y2\",\"type\":\"scatter\"}],                        {\"annotations\":[{\"font\":{\"size\":16},\"showarrow\":false,\"text\":\"Training and validation accuracy\",\"x\":0.225,\"xanchor\":\"center\",\"xref\":\"paper\",\"y\":1.0,\"yanchor\":\"bottom\",\"yref\":\"paper\"},{\"font\":{\"size\":16},\"showarrow\":false,\"text\":\"Training and validation loss\",\"x\":0.775,\"xanchor\":\"center\",\"xref\":\"paper\",\"y\":1.0,\"yanchor\":\"bottom\",\"yref\":\"paper\"}],\"template\":{\"data\":{\"barpolar\":[{\"marker\":{\"line\":{\"color\":\"#E5ECF6\",\"width\":0.5},\"pattern\":{\"fillmode\":\"overlay\",\"size\":10,\"solidity\":0.2}},\"type\":\"barpolar\"}],\"bar\":[{\"error_x\":{\"color\":\"#2a3f5f\"},\"error_y\":{\"color\":\"#2a3f5f\"},\"marker\":{\"line\":{\"color\":\"#E5ECF6\",\"width\":0.5},\"pattern\":{\"fillmode\":\"overlay\",\"size\":10,\"solidity\":0.2}},\"type\":\"bar\"}],\"carpet\":[{\"aaxis\":{\"endlinecolor\":\"#2a3f5f\",\"gridcolor\":\"white\",\"linecolor\":\"white\",\"minorgridcolor\":\"white\",\"startlinecolor\":\"#2a3f5f\"},\"baxis\":{\"endlinecolor\":\"#2a3f5f\",\"gridcolor\":\"white\",\"linecolor\":\"white\",\"minorgridcolor\":\"white\",\"startlinecolor\":\"#2a3f5f\"},\"type\":\"carpet\"}],\"choropleth\":[{\"colorbar\":{\"outlinewidth\":0,\"ticks\":\"\"},\"type\":\"choropleth\"}],\"contourcarpet\":[{\"colorbar\":{\"outlinewidth\":0,\"ticks\":\"\"},\"type\":\"contourcarpet\"}],\"contour\":[{\"colorbar\":{\"outlinewidth\":0,\"ticks\":\"\"},\"colorscale\":[[0.0,\"#0d0887\"],[0.1111111111111111,\"#46039f\"],[0.2222222222222222,\"#7201a8\"],[0.3333333333333333,\"#9c179e\"],[0.4444444444444444,\"#bd3786\"],[0.5555555555555556,\"#d8576b\"],[0.6666666666666666,\"#ed7953\"],[0.7777777777777778,\"#fb9f3a\"],[0.8888888888888888,\"#fdca26\"],[1.0,\"#f0f921\"]],\"type\":\"contour\"}],\"heatmapgl\":[{\"colorbar\":{\"outlinewidth\":0,\"ticks\":\"\"},\"colorscale\":[[0.0,\"#0d0887\"],[0.1111111111111111,\"#46039f\"],[0.2222222222222222,\"#7201a8\"],[0.3333333333333333,\"#9c179e\"],[0.4444444444444444,\"#bd3786\"],[0.5555555555555556,\"#d8576b\"],[0.6666666666666666,\"#ed7953\"],[0.7777777777777778,\"#fb9f3a\"],[0.8888888888888888,\"#fdca26\"],[1.0,\"#f0f921\"]],\"type\":\"heatmapgl\"}],\"heatmap\":[{\"colorbar\":{\"outlinewidth\":0,\"ticks\":\"\"},\"colorscale\":[[0.0,\"#0d0887\"],[0.1111111111111111,\"#46039f\"],[0.2222222222222222,\"#7201a8\"],[0.3333333333333333,\"#9c179e\"],[0.4444444444444444,\"#bd3786\"],[0.5555555555555556,\"#d8576b\"],[0.6666666666666666,\"#ed7953\"],[0.7777777777777778,\"#fb9f3a\"],[0.8888888888888888,\"#fdca26\"],[1.0,\"#f0f921\"]],\"type\":\"heatmap\"}],\"histogram2dcontour\":[{\"colorbar\":{\"outlinewidth\":0,\"ticks\":\"\"},\"colorscale\":[[0.0,\"#0d0887\"],[0.1111111111111111,\"#46039f\"],[0.2222222222222222,\"#7201a8\"],[0.3333333333333333,\"#9c179e\"],[0.4444444444444444,\"#bd3786\"],[0.5555555555555556,\"#d8576b\"],[0.6666666666666666,\"#ed7953\"],[0.7777777777777778,\"#fb9f3a\"],[0.8888888888888888,\"#fdca26\"],[1.0,\"#f0f921\"]],\"type\":\"histogram2dcontour\"}],\"histogram2d\":[{\"colorbar\":{\"outlinewidth\":0,\"ticks\":\"\"},\"colorscale\":[[0.0,\"#0d0887\"],[0.1111111111111111,\"#46039f\"],[0.2222222222222222,\"#7201a8\"],[0.3333333333333333,\"#9c179e\"],[0.4444444444444444,\"#bd3786\"],[0.5555555555555556,\"#d8576b\"],[0.6666666666666666,\"#ed7953\"],[0.7777777777777778,\"#fb9f3a\"],[0.8888888888888888,\"#fdca26\"],[1.0,\"#f0f921\"]],\"type\":\"histogram2d\"}],\"histogram\":[{\"marker\":{\"pattern\":{\"fillmode\":\"overlay\",\"size\":10,\"solidity\":0.2}},\"type\":\"histogram\"}],\"mesh3d\":[{\"colorbar\":{\"outlinewidth\":0,\"ticks\":\"\"},\"type\":\"mesh3d\"}],\"parcoords\":[{\"line\":{\"colorbar\":{\"outlinewidth\":0,\"ticks\":\"\"}},\"type\":\"parcoords\"}],\"pie\":[{\"automargin\":true,\"type\":\"pie\"}],\"scatter3d\":[{\"line\":{\"colorbar\":{\"outlinewidth\":0,\"ticks\":\"\"}},\"marker\":{\"colorbar\":{\"outlinewidth\":0,\"ticks\":\"\"}},\"type\":\"scatter3d\"}],\"scattercarpet\":[{\"marker\":{\"colorbar\":{\"outlinewidth\":0,\"ticks\":\"\"}},\"type\":\"scattercarpet\"}],\"scattergeo\":[{\"marker\":{\"colorbar\":{\"outlinewidth\":0,\"ticks\":\"\"}},\"type\":\"scattergeo\"}],\"scattergl\":[{\"marker\":{\"colorbar\":{\"outlinewidth\":0,\"ticks\":\"\"}},\"type\":\"scattergl\"}],\"scattermapbox\":[{\"marker\":{\"colorbar\":{\"outlinewidth\":0,\"ticks\":\"\"}},\"type\":\"scattermapbox\"}],\"scatterpolargl\":[{\"marker\":{\"colorbar\":{\"outlinewidth\":0,\"ticks\":\"\"}},\"type\":\"scatterpolargl\"}],\"scatterpolar\":[{\"marker\":{\"colorbar\":{\"outlinewidth\":0,\"ticks\":\"\"}},\"type\":\"scatterpolar\"}],\"scatter\":[{\"fillpattern\":{\"fillmode\":\"overlay\",\"size\":10,\"solidity\":0.2},\"type\":\"scatter\"}],\"scatterternary\":[{\"marker\":{\"colorbar\":{\"outlinewidth\":0,\"ticks\":\"\"}},\"type\":\"scatterternary\"}],\"surface\":[{\"colorbar\":{\"outlinewidth\":0,\"ticks\":\"\"},\"colorscale\":[[0.0,\"#0d0887\"],[0.1111111111111111,\"#46039f\"],[0.2222222222222222,\"#7201a8\"],[0.3333333333333333,\"#9c179e\"],[0.4444444444444444,\"#bd3786\"],[0.5555555555555556,\"#d8576b\"],[0.6666666666666666,\"#ed7953\"],[0.7777777777777778,\"#fb9f3a\"],[0.8888888888888888,\"#fdca26\"],[1.0,\"#f0f921\"]],\"type\":\"surface\"}],\"table\":[{\"cells\":{\"fill\":{\"color\":\"#EBF0F8\"},\"line\":{\"color\":\"white\"}},\"header\":{\"fill\":{\"color\":\"#C8D4E3\"},\"line\":{\"color\":\"white\"}},\"type\":\"table\"}]},\"layout\":{\"annotationdefaults\":{\"arrowcolor\":\"#2a3f5f\",\"arrowhead\":0,\"arrowwidth\":1},\"autotypenumbers\":\"strict\",\"coloraxis\":{\"colorbar\":{\"outlinewidth\":0,\"ticks\":\"\"}},\"colorscale\":{\"diverging\":[[0,\"#8e0152\"],[0.1,\"#c51b7d\"],[0.2,\"#de77ae\"],[0.3,\"#f1b6da\"],[0.4,\"#fde0ef\"],[0.5,\"#f7f7f7\"],[0.6,\"#e6f5d0\"],[0.7,\"#b8e186\"],[0.8,\"#7fbc41\"],[0.9,\"#4d9221\"],[1,\"#276419\"]],\"sequential\":[[0.0,\"#0d0887\"],[0.1111111111111111,\"#46039f\"],[0.2222222222222222,\"#7201a8\"],[0.3333333333333333,\"#9c179e\"],[0.4444444444444444,\"#bd3786\"],[0.5555555555555556,\"#d8576b\"],[0.6666666666666666,\"#ed7953\"],[0.7777777777777778,\"#fb9f3a\"],[0.8888888888888888,\"#fdca26\"],[1.0,\"#f0f921\"]],\"sequentialminus\":[[0.0,\"#0d0887\"],[0.1111111111111111,\"#46039f\"],[0.2222222222222222,\"#7201a8\"],[0.3333333333333333,\"#9c179e\"],[0.4444444444444444,\"#bd3786\"],[0.5555555555555556,\"#d8576b\"],[0.6666666666666666,\"#ed7953\"],[0.7777777777777778,\"#fb9f3a\"],[0.8888888888888888,\"#fdca26\"],[1.0,\"#f0f921\"]]},\"colorway\":[\"#636efa\",\"#EF553B\",\"#00cc96\",\"#ab63fa\",\"#FFA15A\",\"#19d3f3\",\"#FF6692\",\"#B6E880\",\"#FF97FF\",\"#FECB52\"],\"font\":{\"color\":\"#2a3f5f\"},\"geo\":{\"bgcolor\":\"white\",\"lakecolor\":\"white\",\"landcolor\":\"#E5ECF6\",\"showlakes\":true,\"showland\":true,\"subunitcolor\":\"white\"},\"hoverlabel\":{\"align\":\"left\"},\"hovermode\":\"closest\",\"mapbox\":{\"style\":\"light\"},\"paper_bgcolor\":\"white\",\"plot_bgcolor\":\"#E5ECF6\",\"polar\":{\"angularaxis\":{\"gridcolor\":\"white\",\"linecolor\":\"white\",\"ticks\":\"\"},\"bgcolor\":\"#E5ECF6\",\"radialaxis\":{\"gridcolor\":\"white\",\"linecolor\":\"white\",\"ticks\":\"\"}},\"scene\":{\"xaxis\":{\"backgroundcolor\":\"#E5ECF6\",\"gridcolor\":\"white\",\"gridwidth\":2,\"linecolor\":\"white\",\"showbackground\":true,\"ticks\":\"\",\"zerolinecolor\":\"white\"},\"yaxis\":{\"backgroundcolor\":\"#E5ECF6\",\"gridcolor\":\"white\",\"gridwidth\":2,\"linecolor\":\"white\",\"showbackground\":true,\"ticks\":\"\",\"zerolinecolor\":\"white\"},\"zaxis\":{\"backgroundcolor\":\"#E5ECF6\",\"gridcolor\":\"white\",\"gridwidth\":2,\"linecolor\":\"white\",\"showbackground\":true,\"ticks\":\"\",\"zerolinecolor\":\"white\"}},\"shapedefaults\":{\"line\":{\"color\":\"#2a3f5f\"}},\"ternary\":{\"aaxis\":{\"gridcolor\":\"white\",\"linecolor\":\"white\",\"ticks\":\"\"},\"baxis\":{\"gridcolor\":\"white\",\"linecolor\":\"white\",\"ticks\":\"\"},\"bgcolor\":\"#E5ECF6\",\"caxis\":{\"gridcolor\":\"white\",\"linecolor\":\"white\",\"ticks\":\"\"}},\"title\":{\"x\":0.05},\"xaxis\":{\"automargin\":true,\"gridcolor\":\"white\",\"linecolor\":\"white\",\"ticks\":\"\",\"title\":{\"standoff\":15},\"zerolinecolor\":\"white\",\"zerolinewidth\":2},\"yaxis\":{\"automargin\":true,\"gridcolor\":\"white\",\"linecolor\":\"white\",\"ticks\":\"\",\"title\":{\"standoff\":15},\"zerolinecolor\":\"white\",\"zerolinewidth\":2}}},\"xaxis\":{\"anchor\":\"y\",\"domain\":[0.0,0.45],\"title\":{\"text\":\"Epoch\"}},\"yaxis\":{\"anchor\":\"x\",\"domain\":[0.0,1.0],\"range\":[0,1],\"title\":{\"text\":\"Accuracy\"}},\"xaxis2\":{\"anchor\":\"y2\",\"domain\":[0.55,1.0],\"title\":{\"text\":\"Epoch\"}},\"yaxis2\":{\"anchor\":\"x2\",\"domain\":[0.0,1.0],\"range\":[0,1],\"title\":{\"text\":\"Loss\"}}},                        {\"responsive\": true}                    ).then(function(){\n",
       "                            \n",
       "var gd = document.getElementById('ba3e2af4-5786-4d59-80fa-cff18f994c88');\n",
       "var x = new MutationObserver(function (mutations, observer) {{\n",
       "        var display = window.getComputedStyle(gd).display;\n",
       "        if (!display || display === 'none') {{\n",
       "            console.log([gd, 'removed!']);\n",
       "            Plotly.purge(gd);\n",
       "            observer.disconnect();\n",
       "        }}\n",
       "}});\n",
       "\n",
       "// Listen for the removal of the full notebook cells\n",
       "var notebookContainer = gd.closest('#notebook-container');\n",
       "if (notebookContainer) {{\n",
       "    x.observe(notebookContainer, {childList: true});\n",
       "}}\n",
       "\n",
       "// Listen for the clearing of the current output cell\n",
       "var outputEl = gd.closest('.output');\n",
       "if (outputEl) {{\n",
       "    x.observe(outputEl, {childList: true});\n",
       "}}\n",
       "\n",
       "                        })                };                });            </script>        </div>"
      ]
     },
     "metadata": {},
     "output_type": "display_data"
    }
   ],
   "source": [
    "plot_accuracy_and_loss(history_upgrade, \"accuracy\")"
   ]
  },
  {
   "cell_type": "markdown",
   "metadata": {},
   "source": [
    "\n",
    "The validation accuracy does not improve after around 60 epochs and the validation loss is decreasing very slowly. The model, albeit simple, does not seem to show overfitting phenomena. As expected, the accuracy of the test data is lower than the training one but they are very close. This means that model is working well on unknown data."
   ]
  },
  {
   "cell_type": "markdown",
   "metadata": {},
   "source": [
    "### Confusion Matrix"
   ]
  },
  {
   "cell_type": "code",
   "execution_count": 184,
   "metadata": {},
   "outputs": [
    {
     "name": "stdout",
     "output_type": "stream",
     "text": [
      "313/313 [==============================] - 1s 2ms/step\n"
     ]
    },
    {
     "data": {
      "text/plain": [
       "<tf.Tensor: shape=(10, 10), dtype=int32, numpy=\n",
       "array([[844,   0,  20,  22,   4,   0,  99,   0,  11,   0],\n",
       "       [  5, 970,   1,  17,   4,   0,   2,   0,   1,   0],\n",
       "       [ 18,   0, 837,  10,  81,   1,  51,   0,   2,   0],\n",
       "       [ 19,  10,  16, 888,  40,   0,  22,   0,   5,   0],\n",
       "       [  0,   2, 114,  29, 805,   0,  48,   0,   2,   0],\n",
       "       [  0,   0,   0,   1,   0, 959,   0,  25,   2,  13],\n",
       "       [125,   2, 113,  29,  67,   0, 657,   0,   7,   0],\n",
       "       [  0,   0,   0,   0,   0,  24,   0, 949,   0,  27],\n",
       "       [  7,   1,   5,   5,   5,   4,   7,   5, 961,   0],\n",
       "       [  0,   0,   0,   0,   0,  10,   1,  39,   0, 950]])>"
      ]
     },
     "execution_count": 184,
     "metadata": {},
     "output_type": "execute_result"
    }
   ],
   "source": [
    "predictions_upgrade = model_upgrade.predict(test_images)\n",
    "\n",
    "pred_labels_up = np.argmax(predictions_upgrade, axis=1)\n",
    "\n",
    "cm_up = tf.math.confusion_matrix(\n",
    "    test_labels,\n",
    "    pred_labels,\n",
    "    num_classes=10,\n",
    ")\n",
    "\n",
    "cm_up"
   ]
  },
  {
   "cell_type": "markdown",
   "metadata": {},
   "source": [
    "#### Plot confusion matrix"
   ]
  },
  {
   "cell_type": "code",
   "execution_count": 185,
   "metadata": {},
   "outputs": [
    {
     "data": {
      "image/png": "[encoded data removed]",
      "text/plain": [
       "<Figure size 800x800 with 2 Axes>"
      ]
     },
     "metadata": {},
     "output_type": "display_data"
    }
   ],
   "source": [
    "plt.rcParams[\"figure.figsize\"] = (8,8)\n",
    "\n",
    "cm_up = confusion_matrix(test_labels, pred_labels_up)\n",
    "disp = ConfusionMatrixDisplay(confusion_matrix=cm_up, display_labels=class_names)\n",
    "disp.plot()\n",
    "plt.title(\"Confusion matrix\")\n",
    "tick_marks = np.arange(len(class_names))\n",
    "plt.xticks(tick_marks, class_names, rotation=45)\n",
    "plt.yticks(tick_marks, class_names)\n",
    "plt.show()"
   ]
  },
  {
   "cell_type": "markdown",
   "metadata": {},
   "source": [
    "Looking at the confusion matrix it is clear that the greatest number of prediction errors are again committed in the categories shirt, t-shirt, coat and pullover. These are articles of clothing that are very similar to each other and therefore more difficult to classify. \n",
    "\n",
    "Despite this, the model seems to have better performance than the previous one and makes fewer mistakes."
   ]
  },
  {
   "cell_type": "code",
   "execution_count": 186,
   "metadata": {},
   "outputs": [
    {
     "name": "stdout",
     "output_type": "stream",
     "text": [
      "              precision    recall  f1-score   support\n",
      "\n",
      " T-shirt/top       0.87      0.87      0.87      1000\n",
      "     Trouser       0.99      0.98      0.99      1000\n",
      "    Pullover       0.86      0.89      0.87      1000\n",
      "       Dress       0.92      0.92      0.92      1000\n",
      "        Coat       0.87      0.87      0.87      1000\n",
      "      Sandal       0.99      0.98      0.98      1000\n",
      "       Shirt       0.76      0.75      0.76      1000\n",
      "     Sneaker       0.95      0.98      0.97      1000\n",
      "         Bag       0.98      0.98      0.98      1000\n",
      "  Ankle boot       0.98      0.96      0.97      1000\n",
      "\n",
      "    accuracy                           0.92     10000\n",
      "   macro avg       0.92      0.92      0.92     10000\n",
      "weighted avg       0.92      0.92      0.92     10000\n",
      "\n"
     ]
    }
   ],
   "source": [
    "print(classification_report(test_labels, pred_labels_up, target_names = class_names))"
   ]
  },
  {
   "cell_type": "markdown",
   "metadata": {},
   "source": [
    "Looking at the classification report we observe that, in accordance with what has been said about the confusion matrix, the classes with a lower score are shirt, pullover, tshirt and coat.\n",
    "\n",
    "Compared to the previous case, which is reported below, the respective scores have slightly improved. \n",
    "\n",
    "<table>\n",
    "  <tr>\n",
    "    <th>Class</th>\n",
    "    <th>precision</th>\n",
    "    <th>recall</th>\n",
    "    <th>f1-score</th>\n",
    "  </tr>\n",
    "  <tr>\n",
    "    <td>T-shirt/top</td>\n",
    "    <td>0.88 </td>\n",
    "    <td>0.73</td>\n",
    "    <td>0.80 </td>\n",
    "  </tr>\n",
    "  <tr>\n",
    "    <td>Pullover</td>\n",
    "    <td>0.78</td>\n",
    "    <td>0.80</td>\n",
    "    <td>0.79</td>\n",
    "  </tr>\n",
    "  <tr>\n",
    "    <td>Coat</td>\n",
    "    <td>0.80</td>\n",
    "    <td>0.79</td>\n",
    "    <td>0.80</td>\n",
    "  </tr>\n",
    "  <tr>\n",
    "    <td>Shirt</td>\n",
    "    <td>0.67</td>\n",
    "    <td>0.71</td>\n",
    "    <td>0.69</td>\n",
    "  </tr>\n",
    "</table>\n",
    "\n"
   ]
  },
  {
   "cell_type": "markdown",
   "metadata": {},
   "source": [
    "Let's plot several images with their predictions."
   ]
  },
  {
   "cell_type": "code",
   "execution_count": 187,
   "metadata": {},
   "outputs": [
    {
     "data": {
      "image/png": "[encoded data removed]",
      "text/plain": [
       "<Figure size 600x300 with 2 Axes>"
      ]
     },
     "metadata": {},
     "output_type": "display_data"
    }
   ],
   "source": [
    "i = 12\n",
    "plt.figure(figsize=(6,3))\n",
    "plt.subplot(1,2,1)\n",
    "plot_image(i, predictions_upgrade[i], test_labels, test_images)\n",
    "plt.subplot(1,2,2)\n",
    "plot_value_array(i, predictions_upgrade[i],  test_labels)\n",
    "plt.show()"
   ]
  },
  {
   "cell_type": "code",
   "execution_count": 198,
   "metadata": {},
   "outputs": [
    {
     "data": {
      "image/png": "[encoded data removed]",
      "text/plain": [
       "<Figure size 2000x1000 with 50 Axes>"
      ]
     },
     "metadata": {},
     "output_type": "display_data"
    }
   ],
   "source": [
    "# Plot the first X test images, their predicted labels, and the true labels.\n",
    "# Color correct predictions in blue and incorrect predictions in red.\n",
    "num_rows = 5\n",
    "num_cols = 5\n",
    "num_images = num_rows*num_cols\n",
    "plt.figure(figsize=(2*2*num_cols, 2*num_rows))\n",
    "for i in range(num_images):\n",
    "  plt.subplot(num_rows, 2*num_cols, 2*i+1)\n",
    "  plot_image(i, predictions_upgrade[i], test_labels, test_images)\n",
    "  plt.subplot(num_rows, 2*num_cols, 2*i+2)\n",
    "  plot_value_array(i, predictions_upgrade[i], test_labels)\n",
    "plt.tight_layout()\n",
    "plt.show()"
   ]
  },
  {
   "cell_type": "markdown",
   "metadata": {},
   "source": [
    "## Use the trained model\n",
    "\n",
    "Finally, use the trained model to make a prediction about a single image."
   ]
  },
  {
   "cell_type": "code",
   "execution_count": 189,
   "metadata": {},
   "outputs": [
    {
     "name": "stdout",
     "output_type": "stream",
     "text": [
      "(28, 28)\n"
     ]
    }
   ],
   "source": [
    "img = test_images[120]\n",
    "print(img.shape)"
   ]
  },
  {
   "cell_type": "code",
   "execution_count": 190,
   "metadata": {},
   "outputs": [
    {
     "name": "stdout",
     "output_type": "stream",
     "text": [
      "(1, 28, 28)\n"
     ]
    }
   ],
   "source": [
    "img_expanded = (np.expand_dims(img,0))\n",
    "print(img_expanded.shape)"
   ]
  },
  {
   "cell_type": "markdown",
   "metadata": {},
   "source": [
    "Now predict the correct label for this image:"
   ]
  },
  {
   "cell_type": "code",
   "execution_count": 191,
   "metadata": {},
   "outputs": [
    {
     "name": "stdout",
     "output_type": "stream",
     "text": [
      "1/1 [==============================] - 0s 16ms/step\n",
      "[[9.9829882e-01 1.9247717e-10 7.2853203e-04 2.7037738e-04 8.9591985e-08\n",
      "  1.2742982e-12 6.5975997e-04 4.5509913e-23 4.2375286e-05 3.3573873e-19]]\n"
     ]
    }
   ],
   "source": [
    "predictions_single = model_upgrade.predict(img_expanded)\n",
    "print(predictions_single)"
   ]
  },
  {
   "cell_type": "code",
   "execution_count": 192,
   "metadata": {},
   "outputs": [
    {
     "data": {
      "image/png": "[encoded data removed]",
      "text/plain": [
       "<Figure size 600x300 with 2 Axes>"
      ]
     },
     "metadata": {},
     "output_type": "display_data"
    }
   ],
   "source": [
    "plt.figure(figsize=(6,3))\n",
    "plt.subplot(1,2,1)\n",
    "plt.imshow(img)\n",
    "plt.subplot(1,2,2)\n",
    "plot_value_array(i, predictions_single[0],  test_labels)\n",
    "plt.xticks(range(10), class_names, rotation=90)\n",
    "plt.show()\n"
   ]
  },
  {
   "cell_type": "markdown",
   "metadata": {},
   "source": [
    "The model predicted the right label."
   ]
  },
  {
   "cell_type": "markdown",
   "metadata": {},
   "source": [
    "## Test with external image"
   ]
  },
  {
   "cell_type": "markdown",
   "metadata": {},
   "source": [
    "For fun I tried to test the model on an image taken from the internet after having properly preprocessed it."
   ]
  },
  {
   "cell_type": "code",
   "execution_count": 193,
   "metadata": {},
   "outputs": [],
   "source": [
    "# Grab an image from the internet\n",
    "tshirt = Image.open('./tshirt.jpg')\n",
    "\n",
    "# Normalize the input data.\n",
    "def scale(image, label):\n",
    "  image = tf.cast(image, tf.float32)\n",
    "  image /= 255.0\n",
    "  return image, label\n",
    "\n",
    "def handling_img_4_predict(im):\n",
    "  newsize =(28,28)\n",
    "  img_resize = im.resize(newsize)\n",
    "  im_npy = np.array(img_resize)\n",
    "  im_tf = tf.constant(im_npy)\n",
    "\n",
    "  converted = tf.image.rgb_to_grayscale(im_tf)\n",
    "  converted_plot = tf.squeeze(converted)\n",
    "  converted_plot.shape\n",
    "  scaled, _ = scale(converted_plot, None)\n",
    "\n",
    "  converted = tf.expand_dims(converted, axis=0)\n",
    "  converted.shape\n",
    "\n",
    "  return scaled, converted\n",
    "\n",
    "tshirt_scaled, tshirt_conv = handling_img_4_predict(tshirt)\n"
   ]
  },
  {
   "cell_type": "code",
   "execution_count": 194,
   "metadata": {},
   "outputs": [],
   "source": [
    "def plot_and_predict(img_scaled, img_conv):\n",
    "    plt.figure(figsize=(6,3))\n",
    "    plt.imshow(img_scaled)\n",
    "\n",
    "    predict = model_upgrade.predict(img_conv)\n",
    "    print(predict)\n",
    "    print(\"predicted class : {} - {}\".format(np.argmax(predict[0]), labels[np.argmax(predict[0])]))"
   ]
  },
  {
   "cell_type": "code",
   "execution_count": 197,
   "metadata": {},
   "outputs": [
    {
     "name": "stdout",
     "output_type": "stream",
     "text": [
      "1/1 [==============================] - 0s 12ms/step\n",
      "[[0. 0. 0. 0. 0. 0. 1. 0. 0. 0.]]\n",
      "predicted class : 6 - Shirt\n"
     ]
    },
    {
     "data": {
      "image/png": "[encoded data removed]",
      "text/plain": [
       "<Figure size 600x300 with 1 Axes>"
      ]
     },
     "metadata": {},
     "output_type": "display_data"
    }
   ],
   "source": [
    "plot_and_predict(tshirt_scaled, tshirt_conv)"
   ]
  }
 ],
 "metadata": {
  "kernelspec": {
   "display_name": "Python 3.10.0 ('.venv': venv)",
   "language": "python",
   "name": "python3"
  },
  "language_info": {
   "codemirror_mode": {
    "name": "ipython",
    "version": 3
   },
   "file_extension": ".py",
   "mimetype": "text/x-python",
   "name": "python",
   "nbconvert_exporter": "python",
   "pygments_lexer": "ipython3",
   "version": "3.10.0"
  },
  "orig_nbformat": 4,
  "vscode": {
   "interpreter": {
    "hash": "1389e9c7792d27506921229ab3eba695e049a67aae3c94f49dbcf40c4432dcd2"
   }
  }
 },
 "nbformat": 4,
 "nbformat_minor": 2
}
